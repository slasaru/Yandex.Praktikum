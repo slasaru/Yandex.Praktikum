{
 "cells": [
  {
   "cell_type": "markdown",
   "metadata": {},
   "source": [
    "# Исследование надёжности заёмщиков\n",
    "\n",
    "Наш заказчик — кредитный отдел банка. Нужно разобраться, влияет ли семейное положение и количество детей клиента на факт погашения кредита в срок. Входные данные от банка — статистика о платёжеспособности клиентов.\n",
    "\n",
    "Результаты исследования будут учтены при построении модели кредитного скоринга — специальной системы, которая оценивает способность потенциального заёмщика вернуть кредит банку."
   ]
  },
  {
   "cell_type": "markdown",
   "metadata": {},
   "source": [
    "`ПРИМЕЧАНИЕ:`это работа базового уровня, нацеленная на отработку навыков подготовки данных. Работы не опирается на серьезную доказательную базу и не содержит визуализаций."
   ]
  },
  {
   "cell_type": "markdown",
   "metadata": {},
   "source": [
    "## Быстрая проверка и изучение общей информации"
   ]
  },
  {
   "cell_type": "code",
   "execution_count": 68,
   "metadata": {},
   "outputs": [],
   "source": [
    "import pandas as pd\n",
    "from pymystem3 import Mystem\n",
    "import warnings\n",
    "warnings.filterwarnings(\"ignore\")\n",
    "\n",
    "try:\n",
    "    df = pd.read_csv('data.csv')\n",
    "\n",
    "except:\n",
    "    df = pd.read_csv('/datasets/data.csv')"
   ]
  },
  {
   "cell_type": "code",
   "execution_count": 69,
   "metadata": {},
   "outputs": [
    {
     "name": "stdout",
     "output_type": "stream",
     "text": [
      "<class 'pandas.core.frame.DataFrame'>\n",
      "RangeIndex: 21525 entries, 0 to 21524\n",
      "Data columns (total 12 columns):\n",
      "children            21525 non-null int64\n",
      "days_employed       19351 non-null float64\n",
      "dob_years           21525 non-null int64\n",
      "education           21525 non-null object\n",
      "education_id        21525 non-null int64\n",
      "family_status       21525 non-null object\n",
      "family_status_id    21525 non-null int64\n",
      "gender              21525 non-null object\n",
      "income_type         21525 non-null object\n",
      "debt                21525 non-null int64\n",
      "total_income        19351 non-null float64\n",
      "purpose             21525 non-null object\n",
      "dtypes: float64(2), int64(5), object(5)\n",
      "memory usage: 2.0+ MB\n"
     ]
    },
    {
     "data": {
      "text/html": [
       "<div>\n",
       "<style scoped>\n",
       "    .dataframe tbody tr th:only-of-type {\n",
       "        vertical-align: middle;\n",
       "    }\n",
       "\n",
       "    .dataframe tbody tr th {\n",
       "        vertical-align: top;\n",
       "    }\n",
       "\n",
       "    .dataframe thead th {\n",
       "        text-align: right;\n",
       "    }\n",
       "</style>\n",
       "<table border=\"1\" class=\"dataframe\">\n",
       "  <thead>\n",
       "    <tr style=\"text-align: right;\">\n",
       "      <th></th>\n",
       "      <th>children</th>\n",
       "      <th>days_employed</th>\n",
       "      <th>dob_years</th>\n",
       "      <th>education</th>\n",
       "      <th>education_id</th>\n",
       "      <th>family_status</th>\n",
       "      <th>family_status_id</th>\n",
       "      <th>gender</th>\n",
       "      <th>income_type</th>\n",
       "      <th>debt</th>\n",
       "      <th>total_income</th>\n",
       "      <th>purpose</th>\n",
       "    </tr>\n",
       "  </thead>\n",
       "  <tbody>\n",
       "    <tr>\n",
       "      <td>0</td>\n",
       "      <td>1</td>\n",
       "      <td>-8437.673028</td>\n",
       "      <td>42</td>\n",
       "      <td>высшее</td>\n",
       "      <td>0</td>\n",
       "      <td>женат / замужем</td>\n",
       "      <td>0</td>\n",
       "      <td>F</td>\n",
       "      <td>сотрудник</td>\n",
       "      <td>0</td>\n",
       "      <td>253875.639453</td>\n",
       "      <td>покупка жилья</td>\n",
       "    </tr>\n",
       "    <tr>\n",
       "      <td>1</td>\n",
       "      <td>1</td>\n",
       "      <td>-4024.803754</td>\n",
       "      <td>36</td>\n",
       "      <td>среднее</td>\n",
       "      <td>1</td>\n",
       "      <td>женат / замужем</td>\n",
       "      <td>0</td>\n",
       "      <td>F</td>\n",
       "      <td>сотрудник</td>\n",
       "      <td>0</td>\n",
       "      <td>112080.014102</td>\n",
       "      <td>приобретение автомобиля</td>\n",
       "    </tr>\n",
       "    <tr>\n",
       "      <td>2</td>\n",
       "      <td>0</td>\n",
       "      <td>-5623.422610</td>\n",
       "      <td>33</td>\n",
       "      <td>Среднее</td>\n",
       "      <td>1</td>\n",
       "      <td>женат / замужем</td>\n",
       "      <td>0</td>\n",
       "      <td>M</td>\n",
       "      <td>сотрудник</td>\n",
       "      <td>0</td>\n",
       "      <td>145885.952297</td>\n",
       "      <td>покупка жилья</td>\n",
       "    </tr>\n",
       "    <tr>\n",
       "      <td>3</td>\n",
       "      <td>3</td>\n",
       "      <td>-4124.747207</td>\n",
       "      <td>32</td>\n",
       "      <td>среднее</td>\n",
       "      <td>1</td>\n",
       "      <td>женат / замужем</td>\n",
       "      <td>0</td>\n",
       "      <td>M</td>\n",
       "      <td>сотрудник</td>\n",
       "      <td>0</td>\n",
       "      <td>267628.550329</td>\n",
       "      <td>дополнительное образование</td>\n",
       "    </tr>\n",
       "    <tr>\n",
       "      <td>4</td>\n",
       "      <td>0</td>\n",
       "      <td>340266.072047</td>\n",
       "      <td>53</td>\n",
       "      <td>среднее</td>\n",
       "      <td>1</td>\n",
       "      <td>гражданский брак</td>\n",
       "      <td>1</td>\n",
       "      <td>F</td>\n",
       "      <td>пенсионер</td>\n",
       "      <td>0</td>\n",
       "      <td>158616.077870</td>\n",
       "      <td>сыграть свадьбу</td>\n",
       "    </tr>\n",
       "  </tbody>\n",
       "</table>\n",
       "</div>"
      ],
      "text/plain": [
       "   children  days_employed  dob_years education  education_id  \\\n",
       "0         1   -8437.673028         42    высшее             0   \n",
       "1         1   -4024.803754         36   среднее             1   \n",
       "2         0   -5623.422610         33   Среднее             1   \n",
       "3         3   -4124.747207         32   среднее             1   \n",
       "4         0  340266.072047         53   среднее             1   \n",
       "\n",
       "      family_status  family_status_id gender income_type  debt   total_income  \\\n",
       "0   женат / замужем                 0      F   сотрудник     0  253875.639453   \n",
       "1   женат / замужем                 0      F   сотрудник     0  112080.014102   \n",
       "2   женат / замужем                 0      M   сотрудник     0  145885.952297   \n",
       "3   женат / замужем                 0      M   сотрудник     0  267628.550329   \n",
       "4  гражданский брак                 1      F   пенсионер     0  158616.077870   \n",
       "\n",
       "                      purpose  \n",
       "0               покупка жилья  \n",
       "1     приобретение автомобиля  \n",
       "2               покупка жилья  \n",
       "3  дополнительное образование  \n",
       "4             сыграть свадьбу  "
      ]
     },
     "execution_count": 69,
     "metadata": {},
     "output_type": "execute_result"
    }
   ],
   "source": [
    "df.info()\n",
    "df.head()"
   ]
  },
  {
   "cell_type": "markdown",
   "metadata": {},
   "source": [
    "Просмотрим также статистику по датафрейму, полученную методом describe:"
   ]
  },
  {
   "cell_type": "code",
   "execution_count": 70,
   "metadata": {},
   "outputs": [
    {
     "data": {
      "text/html": [
       "<div>\n",
       "<style scoped>\n",
       "    .dataframe tbody tr th:only-of-type {\n",
       "        vertical-align: middle;\n",
       "    }\n",
       "\n",
       "    .dataframe tbody tr th {\n",
       "        vertical-align: top;\n",
       "    }\n",
       "\n",
       "    .dataframe thead th {\n",
       "        text-align: right;\n",
       "    }\n",
       "</style>\n",
       "<table border=\"1\" class=\"dataframe\">\n",
       "  <thead>\n",
       "    <tr style=\"text-align: right;\">\n",
       "      <th></th>\n",
       "      <th>children</th>\n",
       "      <th>days_employed</th>\n",
       "      <th>dob_years</th>\n",
       "      <th>education_id</th>\n",
       "      <th>family_status_id</th>\n",
       "      <th>debt</th>\n",
       "      <th>total_income</th>\n",
       "    </tr>\n",
       "  </thead>\n",
       "  <tbody>\n",
       "    <tr>\n",
       "      <td>count</td>\n",
       "      <td>21525.000000</td>\n",
       "      <td>19351.000000</td>\n",
       "      <td>21525.000000</td>\n",
       "      <td>21525.000000</td>\n",
       "      <td>21525.000000</td>\n",
       "      <td>21525.000000</td>\n",
       "      <td>1.935100e+04</td>\n",
       "    </tr>\n",
       "    <tr>\n",
       "      <td>mean</td>\n",
       "      <td>0.538908</td>\n",
       "      <td>63046.497661</td>\n",
       "      <td>43.293380</td>\n",
       "      <td>0.817236</td>\n",
       "      <td>0.972544</td>\n",
       "      <td>0.080883</td>\n",
       "      <td>1.674223e+05</td>\n",
       "    </tr>\n",
       "    <tr>\n",
       "      <td>std</td>\n",
       "      <td>1.381587</td>\n",
       "      <td>140827.311974</td>\n",
       "      <td>12.574584</td>\n",
       "      <td>0.548138</td>\n",
       "      <td>1.420324</td>\n",
       "      <td>0.272661</td>\n",
       "      <td>1.029716e+05</td>\n",
       "    </tr>\n",
       "    <tr>\n",
       "      <td>min</td>\n",
       "      <td>-1.000000</td>\n",
       "      <td>-18388.949901</td>\n",
       "      <td>0.000000</td>\n",
       "      <td>0.000000</td>\n",
       "      <td>0.000000</td>\n",
       "      <td>0.000000</td>\n",
       "      <td>2.066726e+04</td>\n",
       "    </tr>\n",
       "    <tr>\n",
       "      <td>25%</td>\n",
       "      <td>0.000000</td>\n",
       "      <td>-2747.423625</td>\n",
       "      <td>33.000000</td>\n",
       "      <td>1.000000</td>\n",
       "      <td>0.000000</td>\n",
       "      <td>0.000000</td>\n",
       "      <td>1.030532e+05</td>\n",
       "    </tr>\n",
       "    <tr>\n",
       "      <td>50%</td>\n",
       "      <td>0.000000</td>\n",
       "      <td>-1203.369529</td>\n",
       "      <td>42.000000</td>\n",
       "      <td>1.000000</td>\n",
       "      <td>0.000000</td>\n",
       "      <td>0.000000</td>\n",
       "      <td>1.450179e+05</td>\n",
       "    </tr>\n",
       "    <tr>\n",
       "      <td>75%</td>\n",
       "      <td>1.000000</td>\n",
       "      <td>-291.095954</td>\n",
       "      <td>53.000000</td>\n",
       "      <td>1.000000</td>\n",
       "      <td>1.000000</td>\n",
       "      <td>0.000000</td>\n",
       "      <td>2.034351e+05</td>\n",
       "    </tr>\n",
       "    <tr>\n",
       "      <td>max</td>\n",
       "      <td>20.000000</td>\n",
       "      <td>401755.400475</td>\n",
       "      <td>75.000000</td>\n",
       "      <td>4.000000</td>\n",
       "      <td>4.000000</td>\n",
       "      <td>1.000000</td>\n",
       "      <td>2.265604e+06</td>\n",
       "    </tr>\n",
       "  </tbody>\n",
       "</table>\n",
       "</div>"
      ],
      "text/plain": [
       "           children  days_employed     dob_years  education_id  \\\n",
       "count  21525.000000   19351.000000  21525.000000  21525.000000   \n",
       "mean       0.538908   63046.497661     43.293380      0.817236   \n",
       "std        1.381587  140827.311974     12.574584      0.548138   \n",
       "min       -1.000000  -18388.949901      0.000000      0.000000   \n",
       "25%        0.000000   -2747.423625     33.000000      1.000000   \n",
       "50%        0.000000   -1203.369529     42.000000      1.000000   \n",
       "75%        1.000000    -291.095954     53.000000      1.000000   \n",
       "max       20.000000  401755.400475     75.000000      4.000000   \n",
       "\n",
       "       family_status_id          debt  total_income  \n",
       "count      21525.000000  21525.000000  1.935100e+04  \n",
       "mean           0.972544      0.080883  1.674223e+05  \n",
       "std            1.420324      0.272661  1.029716e+05  \n",
       "min            0.000000      0.000000  2.066726e+04  \n",
       "25%            0.000000      0.000000  1.030532e+05  \n",
       "50%            0.000000      0.000000  1.450179e+05  \n",
       "75%            1.000000      0.000000  2.034351e+05  \n",
       "max            4.000000      1.000000  2.265604e+06  "
      ]
     },
     "execution_count": 70,
     "metadata": {},
     "output_type": "execute_result"
    }
   ],
   "source": [
    "df.describe()"
   ]
  },
  {
   "cell_type": "markdown",
   "metadata": {},
   "source": [
    "По результатам вывода функции info, видим, что типы данных однородны по столбцам, за исключением столбцов `days_employed` и `total_income`, где есть отсутствующие строки. Подсчитаем количество пропущенных строк методом `isna`."
   ]
  },
  {
   "cell_type": "code",
   "execution_count": 71,
   "metadata": {},
   "outputs": [
    {
     "name": "stdout",
     "output_type": "stream",
     "text": [
      "Количество строк с пропущенными значениями: 2174\n"
     ]
    }
   ],
   "source": [
    "print(\"Количество строк с пропущенными значениями:\", df['days_employed'].isna().sum())"
   ]
  },
  {
   "cell_type": "markdown",
   "metadata": {},
   "source": [
    "Подсчитаем количество строк с отрицательным количеством детей, поскольку количество \"-1\" выглядит подозрительно:"
   ]
  },
  {
   "cell_type": "code",
   "execution_count": 72,
   "metadata": {},
   "outputs": [
    {
     "name": "stdout",
     "output_type": "stream",
     "text": [
      " 0     14149\n",
      " 1      4818\n",
      " 2      2055\n",
      " 3       330\n",
      " 20       76\n",
      "-1        47\n",
      " 4        41\n",
      " 5         9\n",
      "Name: children, dtype: int64\n"
     ]
    }
   ],
   "source": [
    "print(df['children'].value_counts())"
   ]
  },
  {
   "cell_type": "markdown",
   "metadata": {},
   "source": [
    "`Из данных, полученных методом describe, видим следующее`:\n",
    "- отрицательные значения в столбце `children`. Таких линеек 47. Возможно, это показатель какого-то рейтинга, а не количество детей, либо пользователь хотел ввести 1 со знаком \"плюс-минус\" в смысле \"хотя бы один ребенок\". Эти строки лучше удалить, т.к. верное количество для замены мы не знаем, а на общей статистике удаление этой позиции не отразится;\n",
    "- разнородность данных в столбце `days_employed`: есть как отрицательные значения, так и аномально высокие значения;\n",
    "- разнородность данных в столбце` days_employed`: есть как отрицательные значения, так и аномально высокие значения."
   ]
  },
  {
   "cell_type": "markdown",
   "metadata": {},
   "source": [
    "Подсчитаем количество линеек с отрицательными значениями:"
   ]
  },
  {
   "cell_type": "code",
   "execution_count": 73,
   "metadata": {},
   "outputs": [
    {
     "name": "stdout",
     "output_type": "stream",
     "text": [
      "Количество линеек с отрицательными значениями: 15906\n"
     ]
    }
   ],
   "source": [
    "dcount = df['days_employed'][df['days_employed']<0].count()\n",
    "print(\"Количество линеек с отрицательными значениями:\",dcount)"
   ]
  },
  {
   "cell_type": "markdown",
   "metadata": {},
   "source": [
    "Для подсчета аномальных значений возьмем порог в 100000 неизвестных единиц измерения времени. Подсчитаем количество данных позиций, а также количество всех положительных значений:"
   ]
  },
  {
   "cell_type": "code",
   "execution_count": 74,
   "metadata": {},
   "outputs": [
    {
     "name": "stdout",
     "output_type": "stream",
     "text": [
      "Количество линеек с положительными значениями: 3445\n",
      "Количество линеек с аномальными положительными значениями: 3445\n"
     ]
    }
   ],
   "source": [
    "over_zero_count = df['days_employed'][df['days_employed']>0].count()\n",
    "over_100k_count = df['days_employed'][df['days_employed']>100000].count() \n",
    "print(\"Количество линеек с положительными значениями:\", over_zero_count)\n",
    "print(\"Количество линеек с аномальными положительными значениями:\", over_100k_count)"
   ]
  },
  {
   "cell_type": "markdown",
   "metadata": {},
   "source": [
    "Ввиду того, что линеек с отрицательными значениями рабочих дней подавляющее количество, и их абсолютное значение выглядит правдоподобным, будем считать данные строки корректными, однако, необходимо привести их к верному формату. \n",
    "\n",
    "Аномально высокие значения, вероятно, указаны в часах (например, 140000 часов = 16 лет, что выглядит логичным). Поскольку данные значения не оказывают влияния на результат, на данный момент оставим их в таком виде. Для уточнения и исправления необходимо обратиться к заказчику."
   ]
  },
  {
   "cell_type": "markdown",
   "metadata": {},
   "source": [
    "**Выводы:**\n",
    "\n",
    "В таблице 21525 строк, что соответствует количеству заявок на кредит. Наименования столбцов заданы корректно. \n",
    "После проверки можно сделать следующие выводы: \n",
    "- из несоответствий по типу данных отметим столбец `days_employed`, значения которого можно перевести из типа float в int, т.к. это рабочие дни, а также столбец содержит значения со знаком \"минус\". Исходя из подавляющего количества позиций со знаком \"минус\" (15906 шт), а также реалистичного трудового стажа, выводимого по абсолютному значению, можно предположить, что это неверно оформленные, но корректные по модулю значения (вероятно, в обратном порядке посчитана timedelta или это особенности выгрузки из программ). Массовая замена значений на положительные видится правомерной;\n",
    "- необходимо удалить строки с отрицательным количеством детей (-1);\n",
    "- видны пропуски в столбцах `days_employed` и `total_income`. По равному количеству пропусков можно предположить, что столбцы напрямую взаимосвязаны. Исходя из условий задания, на результат исследования данные несоответствия влиять не должны, однако их удаление приведет к потере около 10% данных, что недопустимо. В связи с тем, что пропущенные значения напрямую не влияют на результаты исследования, заменим их на нулевые.\n",
    "- имеются аномалии в данных в столбце `days_employed`: значения времени, вероятно соответствующее часам; скорректировать их не представилось возможным без уточнения информации (обычные ли это часы или человеко-часы?);\n",
    "- дубликаты в столбце `education` из-за разных регистров: необходимо перевести все строки в нижний регистр;\n",
    "- столбцы `education / education_id`, а также `family_status / family_status_id` являют собой избыточную информацию за пределами нормализации. Возможно, будет уместным создать словарь расшифровок и удалить ненужные столбцы с текстовым вариантом отображения статуса."
   ]
  },
  {
   "cell_type": "markdown",
   "metadata": {},
   "source": [
    "## Предобработка данных"
   ]
  },
  {
   "cell_type": "markdown",
   "metadata": {},
   "source": [
    "### Обработка пропусков"
   ]
  },
  {
   "cell_type": "markdown",
   "metadata": {},
   "source": [
    "Заменим пропуски с использованием метода `fillna` и проверим обновленные количества в датафрейме. Дополнительными данными о корректном трудовом стаже не располагаем, кроме того, для результатов исследования данные количества не важны, поэтому заменим на нулевые значения. Удалять данные позиции мы не можем, т.к. их количество составляет около 10%, и потеря этих данных может серьезно сказаться на результатах исследования."
   ]
  },
  {
   "cell_type": "markdown",
   "metadata": {},
   "source": [
    "С данными об общем заработке сложнее. Проверим категории занятости, по которым отсутствует информация о доходе:"
   ]
  },
  {
   "cell_type": "code",
   "execution_count": 75,
   "metadata": {},
   "outputs": [
    {
     "name": "stdout",
     "output_type": "stream",
     "text": [
      "['пенсионер' 'госслужащий' 'компаньон' 'сотрудник' 'предприниматель']\n"
     ]
    }
   ],
   "source": [
    "df_na_income = df[df['total_income'].isna()]\n",
    "print(df_na_income['income_type'].unique())"
   ]
  },
  {
   "cell_type": "markdown",
   "metadata": {},
   "source": [
    "Как мы видим, категории занятости показывают, что? скорее всего, у данных заявщиков имеются источники дохода. К сожалению, мы не располагаем дополнительными данными для исправления ошибок. \n",
    "\n",
    "Предлагаем заменить эти данные медианной зарплатой по категориям. Проверим медианный доход:"
   ]
  },
  {
   "cell_type": "code",
   "execution_count": 76,
   "metadata": {},
   "outputs": [
    {
     "data": {
      "text/plain": [
       "income_type\n",
       "госслужащий        150447.935283\n",
       "компаньон          172357.950966\n",
       "пенсионер          118514.486412\n",
       "предприниматель    499163.144947\n",
       "сотрудник          142594.396847\n",
       "Name: total_income, dtype: float64"
      ]
     },
     "execution_count": 76,
     "metadata": {},
     "output_type": "execute_result"
    }
   ],
   "source": [
    "df_notna_income = df[df['total_income'].notna()]\n",
    "df_notna_income = df_notna_income[df_notna_income['income_type'].isin(['пенсионер','госслужащий','компаньон','сотрудник','предприниматель'])]\n",
    "df_notna_income  = df_notna_income.groupby('income_type')['total_income'].median()\n",
    "df_notna_income.head()"
   ]
  },
  {
   "cell_type": "markdown",
   "metadata": {},
   "source": [
    "Производим замену отсутствующих значений дохода на медианный:"
   ]
  },
  {
   "cell_type": "code",
   "execution_count": 77,
   "metadata": {},
   "outputs": [],
   "source": [
    "for income_type in df['income_type'].unique():\n",
    "    median = df.loc[df['income_type'] == income_type, 'total_income'].median()\n",
    "    df.loc[(df['income_type'] == income_type) & (df['total_income'].isna()), 'total_income'] = median"
   ]
  },
  {
   "cell_type": "markdown",
   "metadata": {},
   "source": [
    "Проверим на наличие пропусков:"
   ]
  },
  {
   "cell_type": "code",
   "execution_count": 78,
   "metadata": {},
   "outputs": [
    {
     "name": "stdout",
     "output_type": "stream",
     "text": [
      "<class 'pandas.core.frame.DataFrame'>\n",
      "RangeIndex: 21525 entries, 0 to 21524\n",
      "Data columns (total 12 columns):\n",
      "children            21525 non-null int64\n",
      "days_employed       19351 non-null float64\n",
      "dob_years           21525 non-null int64\n",
      "education           21525 non-null object\n",
      "education_id        21525 non-null int64\n",
      "family_status       21525 non-null object\n",
      "family_status_id    21525 non-null int64\n",
      "gender              21525 non-null object\n",
      "income_type         21525 non-null object\n",
      "debt                21525 non-null int64\n",
      "total_income        21525 non-null float64\n",
      "purpose             21525 non-null object\n",
      "dtypes: float64(2), int64(5), object(5)\n",
      "memory usage: 2.0+ MB\n"
     ]
    }
   ],
   "source": [
    "df.info()"
   ]
  },
  {
   "cell_type": "markdown",
   "metadata": {},
   "source": [
    "Проверим количество нулевых ячеек и минимальное значение в столбце `total_income` (будет ли это 0?):"
   ]
  },
  {
   "cell_type": "code",
   "execution_count": 79,
   "metadata": {},
   "outputs": [
    {
     "name": "stdout",
     "output_type": "stream",
     "text": [
      "0\n",
      "20667.26379327158\n"
     ]
    }
   ],
   "source": [
    "print(df['total_income'][df['total_income']==0].count())\n",
    "print(df['total_income'].min())"
   ]
  },
  {
   "cell_type": "markdown",
   "metadata": {},
   "source": [
    "**Замена отсутствующего дохода на медианный по категориям произведена**"
   ]
  },
  {
   "cell_type": "markdown",
   "metadata": {},
   "source": [
    "Выполним визуальную проверку текстовых категорий в столбцах на предмет необнаруженных / случайных пропусков. Поскольку база данных сильно категоризирована, это можно выполнить вручную через распечатку категорий."
   ]
  },
  {
   "cell_type": "code",
   "execution_count": 80,
   "metadata": {},
   "outputs": [
    {
     "name": "stdout",
     "output_type": "stream",
     "text": [
      "['высшее' 'среднее' 'Среднее' 'СРЕДНЕЕ' 'ВЫСШЕЕ' 'неоконченное высшее'\n",
      " 'начальное' 'Высшее' 'НЕОКОНЧЕННОЕ ВЫСШЕЕ' 'Неоконченное высшее'\n",
      " 'НАЧАЛЬНОЕ' 'Начальное' 'Ученая степень' 'УЧЕНАЯ СТЕПЕНЬ'\n",
      " 'ученая степень']\n",
      "['женат / замужем' 'гражданский брак' 'вдовец / вдова' 'в разводе'\n",
      " 'Не женат / не замужем']\n",
      "['F' 'M' 'XNA']\n",
      "['сотрудник' 'пенсионер' 'компаньон' 'госслужащий' 'безработный'\n",
      " 'предприниматель' 'студент' 'в декрете']\n",
      "['покупка жилья' 'приобретение автомобиля' 'дополнительное образование'\n",
      " 'сыграть свадьбу' 'операции с жильем' 'образование'\n",
      " 'на проведение свадьбы' 'покупка жилья для семьи' 'покупка недвижимости'\n",
      " 'покупка коммерческой недвижимости' 'покупка жилой недвижимости'\n",
      " 'строительство собственной недвижимости' 'недвижимость'\n",
      " 'строительство недвижимости' 'на покупку подержанного автомобиля'\n",
      " 'на покупку своего автомобиля' 'операции с коммерческой недвижимостью'\n",
      " 'строительство жилой недвижимости' 'жилье'\n",
      " 'операции со своей недвижимостью' 'автомобили' 'заняться образованием'\n",
      " 'сделка с подержанным автомобилем' 'получение образования' 'автомобиль'\n",
      " 'свадьба' 'получение дополнительного образования' 'покупка своего жилья'\n",
      " 'операции с недвижимостью' 'получение высшего образования'\n",
      " 'свой автомобиль' 'сделка с автомобилем' 'профильное образование'\n",
      " 'высшее образование' 'покупка жилья для сдачи' 'на покупку автомобиля'\n",
      " 'ремонт жилью' 'заняться высшим образованием']\n"
     ]
    }
   ],
   "source": [
    "df_check_na = df[['education', 'family_status', 'gender', 'income_type', 'purpose']]\n",
    "\n",
    "for col in df_check_na.columns:\n",
    "    print(df[col].unique())"
   ]
  },
  {
   "cell_type": "markdown",
   "metadata": {},
   "source": [
    "Обнаружен случайный пропуск в столбце `gender`. Выведем количество строк, содержащих значение \"XNA\". Выведем на экран строку:есть ли данные для анализа и отнесения к верному полу:"
   ]
  },
  {
   "cell_type": "code",
   "execution_count": 81,
   "metadata": {},
   "outputs": [
    {
     "name": "stdout",
     "output_type": "stream",
     "text": [
      "1\n"
     ]
    },
    {
     "data": {
      "text/html": [
       "<div>\n",
       "<style scoped>\n",
       "    .dataframe tbody tr th:only-of-type {\n",
       "        vertical-align: middle;\n",
       "    }\n",
       "\n",
       "    .dataframe tbody tr th {\n",
       "        vertical-align: top;\n",
       "    }\n",
       "\n",
       "    .dataframe thead th {\n",
       "        text-align: right;\n",
       "    }\n",
       "</style>\n",
       "<table border=\"1\" class=\"dataframe\">\n",
       "  <thead>\n",
       "    <tr style=\"text-align: right;\">\n",
       "      <th></th>\n",
       "      <th>children</th>\n",
       "      <th>days_employed</th>\n",
       "      <th>dob_years</th>\n",
       "      <th>education</th>\n",
       "      <th>education_id</th>\n",
       "      <th>family_status</th>\n",
       "      <th>family_status_id</th>\n",
       "      <th>gender</th>\n",
       "      <th>income_type</th>\n",
       "      <th>debt</th>\n",
       "      <th>total_income</th>\n",
       "      <th>purpose</th>\n",
       "    </tr>\n",
       "  </thead>\n",
       "  <tbody>\n",
       "    <tr>\n",
       "      <td>10701</td>\n",
       "      <td>0</td>\n",
       "      <td>-2358.600502</td>\n",
       "      <td>24</td>\n",
       "      <td>неоконченное высшее</td>\n",
       "      <td>2</td>\n",
       "      <td>гражданский брак</td>\n",
       "      <td>1</td>\n",
       "      <td>XNA</td>\n",
       "      <td>компаньон</td>\n",
       "      <td>0</td>\n",
       "      <td>203905.157261</td>\n",
       "      <td>покупка недвижимости</td>\n",
       "    </tr>\n",
       "  </tbody>\n",
       "</table>\n",
       "</div>"
      ],
      "text/plain": [
       "       children  days_employed  dob_years            education  education_id  \\\n",
       "10701         0   -2358.600502         24  неоконченное высшее             2   \n",
       "\n",
       "          family_status  family_status_id gender income_type  debt  \\\n",
       "10701  гражданский брак                 1    XNA   компаньон     0   \n",
       "\n",
       "        total_income               purpose  \n",
       "10701  203905.157261  покупка недвижимости  "
      ]
     },
     "execution_count": 81,
     "metadata": {},
     "output_type": "execute_result"
    }
   ],
   "source": [
    "print(df['gender'][df['gender']=='XNA'].count())\n",
    "df[df['gender']=='XNA'].head()"
   ]
  },
  {
   "cell_type": "markdown",
   "metadata": {},
   "source": [
    "Невозможно отнести к конкретному полу. Заменим вручную на F и проверим категории, содержащиеся в столбце:"
   ]
  },
  {
   "cell_type": "code",
   "execution_count": 82,
   "metadata": {},
   "outputs": [
    {
     "name": "stdout",
     "output_type": "stream",
     "text": [
      "['F' 'M']\n"
     ]
    }
   ],
   "source": [
    "df.loc[df['gender'] == 'XNA', 'gender'] = 'F'\n",
    "print(df['gender'].unique())"
   ]
  },
  {
   "cell_type": "markdown",
   "metadata": {},
   "source": [
    "**`Выводы:`**\n",
    "- первоначально можно было предположить, что данные могут отсутствовать у тех заявщиков, которые никогда не работали. Однако, по категориям в столбце income_type видно, что среди заявщиков имеются такие категории, как \"сотрудники\", \"госслужащие\" и т.п. Возможно, в первичном файле или базе данных эти значения имели нестандартный формат и подтянулись в финальную базу данных с ошибкой;\n",
    "- следует отметить, что для целей данного исследования (определить взаимосвязь количества детей и возврата кредитов) информация о количестве рабочих дней и доходе роли не играет, однако необходимо известить заказчика о несоответствиях, найденных  в столбце \"Трудовой стаж\";\n",
    "- замена пропущенных значений была произведена, значения типа null отсутствуют."
   ]
  },
  {
   "cell_type": "markdown",
   "metadata": {},
   "source": [
    "### Замена типа данных"
   ]
  },
  {
   "cell_type": "markdown",
   "metadata": {},
   "source": [
    "В первую очередь удалим обнаруженные ранее строки с количеством детей \"-1\". Проверим количество еще раз и удалим:"
   ]
  },
  {
   "cell_type": "code",
   "execution_count": 83,
   "metadata": {},
   "outputs": [
    {
     "name": "stdout",
     "output_type": "stream",
     "text": [
      "47\n"
     ]
    }
   ],
   "source": [
    "child_count = df['children'][df['children']<0].count()\n",
    "print(child_count)"
   ]
  },
  {
   "cell_type": "code",
   "execution_count": 84,
   "metadata": {},
   "outputs": [
    {
     "name": "stdout",
     "output_type": "stream",
     "text": [
      "0\n"
     ]
    }
   ],
   "source": [
    "df.drop(df.loc[df['children']<0].index, inplace=True)\n",
    "child_count = df['children'][df['children']<0].count()\n",
    "print(child_count)"
   ]
  },
  {
   "cell_type": "markdown",
   "metadata": {},
   "source": [
    "Заменим отрицательные значения на положительные, проверим количество ячеек с отрицательными значениями:"
   ]
  },
  {
   "cell_type": "code",
   "execution_count": 85,
   "metadata": {},
   "outputs": [
    {
     "name": "stdout",
     "output_type": "stream",
     "text": [
      "0\n"
     ]
    }
   ],
   "source": [
    "df['days_employed'] = df['days_employed'].apply(abs)\n",
    "dcount = df['days_employed'][df['days_employed']<0].count()\n",
    "print(dcount)"
   ]
  },
  {
   "cell_type": "markdown",
   "metadata": {},
   "source": [
    "Заменим данные типа float на int в столбце `days_employed`, проверим целостность данных датафрейма:"
   ]
  },
  {
   "cell_type": "code",
   "execution_count": 86,
   "metadata": {},
   "outputs": [
    {
     "name": "stdout",
     "output_type": "stream",
     "text": [
      "<class 'pandas.core.frame.DataFrame'>\n",
      "Int64Index: 21478 entries, 0 to 21524\n",
      "Data columns (total 12 columns):\n",
      "children            21478 non-null int64\n",
      "days_employed       21478 non-null int64\n",
      "dob_years           21478 non-null int64\n",
      "education           21478 non-null object\n",
      "education_id        21478 non-null int64\n",
      "family_status       21478 non-null object\n",
      "family_status_id    21478 non-null int64\n",
      "gender              21478 non-null object\n",
      "income_type         21478 non-null object\n",
      "debt                21478 non-null int64\n",
      "total_income        21478 non-null float64\n",
      "purpose             21478 non-null object\n",
      "dtypes: float64(1), int64(6), object(5)\n",
      "memory usage: 2.1+ MB\n"
     ]
    }
   ],
   "source": [
    "df['days_employed'] = df['days_employed'].fillna(0).astype(int)\n",
    "df.info()"
   ]
  },
  {
   "cell_type": "markdown",
   "metadata": {},
   "source": [
    "Выполним предпросмотр таблицы:"
   ]
  },
  {
   "cell_type": "code",
   "execution_count": 87,
   "metadata": {},
   "outputs": [
    {
     "data": {
      "text/html": [
       "<div>\n",
       "<style scoped>\n",
       "    .dataframe tbody tr th:only-of-type {\n",
       "        vertical-align: middle;\n",
       "    }\n",
       "\n",
       "    .dataframe tbody tr th {\n",
       "        vertical-align: top;\n",
       "    }\n",
       "\n",
       "    .dataframe thead th {\n",
       "        text-align: right;\n",
       "    }\n",
       "</style>\n",
       "<table border=\"1\" class=\"dataframe\">\n",
       "  <thead>\n",
       "    <tr style=\"text-align: right;\">\n",
       "      <th></th>\n",
       "      <th>children</th>\n",
       "      <th>days_employed</th>\n",
       "      <th>dob_years</th>\n",
       "      <th>education</th>\n",
       "      <th>education_id</th>\n",
       "      <th>family_status</th>\n",
       "      <th>family_status_id</th>\n",
       "      <th>gender</th>\n",
       "      <th>income_type</th>\n",
       "      <th>debt</th>\n",
       "      <th>total_income</th>\n",
       "      <th>purpose</th>\n",
       "    </tr>\n",
       "  </thead>\n",
       "  <tbody>\n",
       "    <tr>\n",
       "      <td>0</td>\n",
       "      <td>1</td>\n",
       "      <td>8437</td>\n",
       "      <td>42</td>\n",
       "      <td>высшее</td>\n",
       "      <td>0</td>\n",
       "      <td>женат / замужем</td>\n",
       "      <td>0</td>\n",
       "      <td>F</td>\n",
       "      <td>сотрудник</td>\n",
       "      <td>0</td>\n",
       "      <td>253875.639453</td>\n",
       "      <td>покупка жилья</td>\n",
       "    </tr>\n",
       "    <tr>\n",
       "      <td>1</td>\n",
       "      <td>1</td>\n",
       "      <td>4024</td>\n",
       "      <td>36</td>\n",
       "      <td>среднее</td>\n",
       "      <td>1</td>\n",
       "      <td>женат / замужем</td>\n",
       "      <td>0</td>\n",
       "      <td>F</td>\n",
       "      <td>сотрудник</td>\n",
       "      <td>0</td>\n",
       "      <td>112080.014102</td>\n",
       "      <td>приобретение автомобиля</td>\n",
       "    </tr>\n",
       "    <tr>\n",
       "      <td>2</td>\n",
       "      <td>0</td>\n",
       "      <td>5623</td>\n",
       "      <td>33</td>\n",
       "      <td>Среднее</td>\n",
       "      <td>1</td>\n",
       "      <td>женат / замужем</td>\n",
       "      <td>0</td>\n",
       "      <td>M</td>\n",
       "      <td>сотрудник</td>\n",
       "      <td>0</td>\n",
       "      <td>145885.952297</td>\n",
       "      <td>покупка жилья</td>\n",
       "    </tr>\n",
       "    <tr>\n",
       "      <td>3</td>\n",
       "      <td>3</td>\n",
       "      <td>4124</td>\n",
       "      <td>32</td>\n",
       "      <td>среднее</td>\n",
       "      <td>1</td>\n",
       "      <td>женат / замужем</td>\n",
       "      <td>0</td>\n",
       "      <td>M</td>\n",
       "      <td>сотрудник</td>\n",
       "      <td>0</td>\n",
       "      <td>267628.550329</td>\n",
       "      <td>дополнительное образование</td>\n",
       "    </tr>\n",
       "    <tr>\n",
       "      <td>4</td>\n",
       "      <td>0</td>\n",
       "      <td>340266</td>\n",
       "      <td>53</td>\n",
       "      <td>среднее</td>\n",
       "      <td>1</td>\n",
       "      <td>гражданский брак</td>\n",
       "      <td>1</td>\n",
       "      <td>F</td>\n",
       "      <td>пенсионер</td>\n",
       "      <td>0</td>\n",
       "      <td>158616.077870</td>\n",
       "      <td>сыграть свадьбу</td>\n",
       "    </tr>\n",
       "  </tbody>\n",
       "</table>\n",
       "</div>"
      ],
      "text/plain": [
       "   children  days_employed  dob_years education  education_id  \\\n",
       "0         1           8437         42    высшее             0   \n",
       "1         1           4024         36   среднее             1   \n",
       "2         0           5623         33   Среднее             1   \n",
       "3         3           4124         32   среднее             1   \n",
       "4         0         340266         53   среднее             1   \n",
       "\n",
       "      family_status  family_status_id gender income_type  debt   total_income  \\\n",
       "0   женат / замужем                 0      F   сотрудник     0  253875.639453   \n",
       "1   женат / замужем                 0      F   сотрудник     0  112080.014102   \n",
       "2   женат / замужем                 0      M   сотрудник     0  145885.952297   \n",
       "3   женат / замужем                 0      M   сотрудник     0  267628.550329   \n",
       "4  гражданский брак                 1      F   пенсионер     0  158616.077870   \n",
       "\n",
       "                      purpose  \n",
       "0               покупка жилья  \n",
       "1     приобретение автомобиля  \n",
       "2               покупка жилья  \n",
       "3  дополнительное образование  \n",
       "4             сыграть свадьбу  "
      ]
     },
     "execution_count": 87,
     "metadata": {},
     "output_type": "execute_result"
    }
   ],
   "source": [
    "df.head()"
   ]
  },
  {
   "cell_type": "markdown",
   "metadata": {},
   "source": [
    "**`Вывод:`**\n",
    "- замена данных была произведена;\n",
    "- целостность данных сохранена."
   ]
  },
  {
   "cell_type": "markdown",
   "metadata": {},
   "source": [
    "### Обработка дубликатов"
   ]
  },
  {
   "cell_type": "markdown",
   "metadata": {},
   "source": [
    "Выполним быструю визуальную проверку уникальных текстовых категорий в столбцах, кроме gender, который исправили ранее:"
   ]
  },
  {
   "cell_type": "code",
   "execution_count": 88,
   "metadata": {},
   "outputs": [
    {
     "name": "stdout",
     "output_type": "stream",
     "text": [
      "['высшее' 'среднее' 'Среднее' 'СРЕДНЕЕ' 'ВЫСШЕЕ' 'неоконченное высшее'\n",
      " 'начальное' 'Высшее' 'НЕОКОНЧЕННОЕ ВЫСШЕЕ' 'Неоконченное высшее'\n",
      " 'НАЧАЛЬНОЕ' 'Начальное' 'Ученая степень' 'УЧЕНАЯ СТЕПЕНЬ'\n",
      " 'ученая степень']\n",
      "['женат / замужем' 'гражданский брак' 'вдовец / вдова' 'в разводе'\n",
      " 'Не женат / не замужем']\n",
      "['сотрудник' 'пенсионер' 'компаньон' 'госслужащий' 'безработный'\n",
      " 'предприниматель' 'студент' 'в декрете']\n",
      "['покупка жилья' 'приобретение автомобиля' 'дополнительное образование'\n",
      " 'сыграть свадьбу' 'операции с жильем' 'образование'\n",
      " 'на проведение свадьбы' 'покупка жилья для семьи' 'покупка недвижимости'\n",
      " 'покупка коммерческой недвижимости' 'покупка жилой недвижимости'\n",
      " 'строительство собственной недвижимости' 'недвижимость'\n",
      " 'строительство недвижимости' 'на покупку подержанного автомобиля'\n",
      " 'на покупку своего автомобиля' 'операции с коммерческой недвижимостью'\n",
      " 'строительство жилой недвижимости' 'жилье'\n",
      " 'операции со своей недвижимостью' 'автомобили' 'заняться образованием'\n",
      " 'сделка с подержанным автомобилем' 'получение образования' 'автомобиль'\n",
      " 'свадьба' 'получение дополнительного образования' 'покупка своего жилья'\n",
      " 'операции с недвижимостью' 'получение высшего образования'\n",
      " 'свой автомобиль' 'сделка с автомобилем' 'профильное образование'\n",
      " 'высшее образование' 'покупка жилья для сдачи' 'на покупку автомобиля'\n",
      " 'ремонт жилью' 'заняться высшим образованием']\n"
     ]
    }
   ],
   "source": [
    "df_check_na = df[['education', 'family_status', 'income_type', 'purpose']]\n",
    "\n",
    "for col in df_check_na.columns:\n",
    "    print(df[col].unique())"
   ]
  },
  {
   "cell_type": "markdown",
   "metadata": {},
   "source": [
    "Приведем все текстовые значения к нижнему регистру и проверим еще раз. Все выполнено:"
   ]
  },
  {
   "cell_type": "code",
   "execution_count": 89,
   "metadata": {},
   "outputs": [
    {
     "name": "stdout",
     "output_type": "stream",
     "text": [
      "['высшее' 'среднее' 'неоконченное высшее' 'начальное' 'ученая степень']\n",
      "['женат / замужем' 'гражданский брак' 'вдовец / вдова' 'в разводе'\n",
      " 'не женат / не замужем']\n",
      "['сотрудник' 'пенсионер' 'компаньон' 'госслужащий' 'безработный'\n",
      " 'предприниматель' 'студент' 'в декрете']\n",
      "['покупка жилья' 'приобретение автомобиля' 'дополнительное образование'\n",
      " 'сыграть свадьбу' 'операции с жильем' 'образование'\n",
      " 'на проведение свадьбы' 'покупка жилья для семьи' 'покупка недвижимости'\n",
      " 'покупка коммерческой недвижимости' 'покупка жилой недвижимости'\n",
      " 'строительство собственной недвижимости' 'недвижимость'\n",
      " 'строительство недвижимости' 'на покупку подержанного автомобиля'\n",
      " 'на покупку своего автомобиля' 'операции с коммерческой недвижимостью'\n",
      " 'строительство жилой недвижимости' 'жилье'\n",
      " 'операции со своей недвижимостью' 'автомобили' 'заняться образованием'\n",
      " 'сделка с подержанным автомобилем' 'получение образования' 'автомобиль'\n",
      " 'свадьба' 'получение дополнительного образования' 'покупка своего жилья'\n",
      " 'операции с недвижимостью' 'получение высшего образования'\n",
      " 'свой автомобиль' 'сделка с автомобилем' 'профильное образование'\n",
      " 'высшее образование' 'покупка жилья для сдачи' 'на покупку автомобиля'\n",
      " 'ремонт жилью' 'заняться высшим образованием']\n"
     ]
    }
   ],
   "source": [
    "for col in df.select_dtypes(include='object').columns:\n",
    "    df[col] = df[col].str.lower()\n",
    "\n",
    "df_check_na = df[['education', 'family_status', 'income_type', 'purpose']]\n",
    "\n",
    "for col in df_check_na.columns:\n",
    "    print(df[col].unique())"
   ]
  },
  {
   "cell_type": "markdown",
   "metadata": {},
   "source": [
    "Подсчитаем количество дублирующихся строк методом duplicated:"
   ]
  },
  {
   "cell_type": "code",
   "execution_count": 90,
   "metadata": {},
   "outputs": [
    {
     "name": "stdout",
     "output_type": "stream",
     "text": [
      "71\n"
     ]
    }
   ],
   "source": [
    "print(df.duplicated().sum())"
   ]
  },
  {
   "cell_type": "markdown",
   "metadata": {},
   "source": [
    "Проверим \"дублирующиеся\" строки визуально. Как мы видим, в выданных результатах уже имеются неоднородности, поэтому считаем, что результаты, полученные методом duplicated не являются показательными."
   ]
  },
  {
   "cell_type": "code",
   "execution_count": 91,
   "metadata": {},
   "outputs": [
    {
     "data": {
      "text/html": [
       "<div>\n",
       "<style scoped>\n",
       "    .dataframe tbody tr th:only-of-type {\n",
       "        vertical-align: middle;\n",
       "    }\n",
       "\n",
       "    .dataframe tbody tr th {\n",
       "        vertical-align: top;\n",
       "    }\n",
       "\n",
       "    .dataframe thead th {\n",
       "        text-align: right;\n",
       "    }\n",
       "</style>\n",
       "<table border=\"1\" class=\"dataframe\">\n",
       "  <thead>\n",
       "    <tr style=\"text-align: right;\">\n",
       "      <th></th>\n",
       "      <th>children</th>\n",
       "      <th>days_employed</th>\n",
       "      <th>dob_years</th>\n",
       "      <th>education</th>\n",
       "      <th>education_id</th>\n",
       "      <th>family_status</th>\n",
       "      <th>family_status_id</th>\n",
       "      <th>gender</th>\n",
       "      <th>income_type</th>\n",
       "      <th>debt</th>\n",
       "      <th>total_income</th>\n",
       "      <th>purpose</th>\n",
       "    </tr>\n",
       "  </thead>\n",
       "  <tbody>\n",
       "    <tr>\n",
       "      <td>2849</td>\n",
       "      <td>0</td>\n",
       "      <td>0</td>\n",
       "      <td>41</td>\n",
       "      <td>среднее</td>\n",
       "      <td>1</td>\n",
       "      <td>женат / замужем</td>\n",
       "      <td>0</td>\n",
       "      <td>f</td>\n",
       "      <td>сотрудник</td>\n",
       "      <td>0</td>\n",
       "      <td>142594.396847</td>\n",
       "      <td>покупка жилья для семьи</td>\n",
       "    </tr>\n",
       "    <tr>\n",
       "      <td>3290</td>\n",
       "      <td>0</td>\n",
       "      <td>0</td>\n",
       "      <td>58</td>\n",
       "      <td>среднее</td>\n",
       "      <td>1</td>\n",
       "      <td>гражданский брак</td>\n",
       "      <td>1</td>\n",
       "      <td>f</td>\n",
       "      <td>пенсионер</td>\n",
       "      <td>0</td>\n",
       "      <td>118514.486412</td>\n",
       "      <td>сыграть свадьбу</td>\n",
       "    </tr>\n",
       "    <tr>\n",
       "      <td>4182</td>\n",
       "      <td>1</td>\n",
       "      <td>0</td>\n",
       "      <td>34</td>\n",
       "      <td>высшее</td>\n",
       "      <td>0</td>\n",
       "      <td>гражданский брак</td>\n",
       "      <td>1</td>\n",
       "      <td>f</td>\n",
       "      <td>сотрудник</td>\n",
       "      <td>0</td>\n",
       "      <td>142594.396847</td>\n",
       "      <td>свадьба</td>\n",
       "    </tr>\n",
       "    <tr>\n",
       "      <td>4851</td>\n",
       "      <td>0</td>\n",
       "      <td>0</td>\n",
       "      <td>60</td>\n",
       "      <td>среднее</td>\n",
       "      <td>1</td>\n",
       "      <td>гражданский брак</td>\n",
       "      <td>1</td>\n",
       "      <td>f</td>\n",
       "      <td>пенсионер</td>\n",
       "      <td>0</td>\n",
       "      <td>118514.486412</td>\n",
       "      <td>свадьба</td>\n",
       "    </tr>\n",
       "    <tr>\n",
       "      <td>5557</td>\n",
       "      <td>0</td>\n",
       "      <td>0</td>\n",
       "      <td>58</td>\n",
       "      <td>среднее</td>\n",
       "      <td>1</td>\n",
       "      <td>гражданский брак</td>\n",
       "      <td>1</td>\n",
       "      <td>f</td>\n",
       "      <td>пенсионер</td>\n",
       "      <td>0</td>\n",
       "      <td>118514.486412</td>\n",
       "      <td>сыграть свадьбу</td>\n",
       "    </tr>\n",
       "    <tr>\n",
       "      <td>6312</td>\n",
       "      <td>0</td>\n",
       "      <td>0</td>\n",
       "      <td>30</td>\n",
       "      <td>среднее</td>\n",
       "      <td>1</td>\n",
       "      <td>женат / замужем</td>\n",
       "      <td>0</td>\n",
       "      <td>m</td>\n",
       "      <td>сотрудник</td>\n",
       "      <td>0</td>\n",
       "      <td>142594.396847</td>\n",
       "      <td>строительство жилой недвижимости</td>\n",
       "    </tr>\n",
       "    <tr>\n",
       "      <td>7808</td>\n",
       "      <td>0</td>\n",
       "      <td>0</td>\n",
       "      <td>57</td>\n",
       "      <td>среднее</td>\n",
       "      <td>1</td>\n",
       "      <td>гражданский брак</td>\n",
       "      <td>1</td>\n",
       "      <td>f</td>\n",
       "      <td>пенсионер</td>\n",
       "      <td>0</td>\n",
       "      <td>118514.486412</td>\n",
       "      <td>на проведение свадьбы</td>\n",
       "    </tr>\n",
       "    <tr>\n",
       "      <td>7921</td>\n",
       "      <td>0</td>\n",
       "      <td>0</td>\n",
       "      <td>64</td>\n",
       "      <td>высшее</td>\n",
       "      <td>0</td>\n",
       "      <td>гражданский брак</td>\n",
       "      <td>1</td>\n",
       "      <td>f</td>\n",
       "      <td>пенсионер</td>\n",
       "      <td>0</td>\n",
       "      <td>118514.486412</td>\n",
       "      <td>на проведение свадьбы</td>\n",
       "    </tr>\n",
       "    <tr>\n",
       "      <td>7938</td>\n",
       "      <td>0</td>\n",
       "      <td>0</td>\n",
       "      <td>71</td>\n",
       "      <td>среднее</td>\n",
       "      <td>1</td>\n",
       "      <td>гражданский брак</td>\n",
       "      <td>1</td>\n",
       "      <td>f</td>\n",
       "      <td>пенсионер</td>\n",
       "      <td>0</td>\n",
       "      <td>118514.486412</td>\n",
       "      <td>на проведение свадьбы</td>\n",
       "    </tr>\n",
       "    <tr>\n",
       "      <td>8583</td>\n",
       "      <td>0</td>\n",
       "      <td>0</td>\n",
       "      <td>58</td>\n",
       "      <td>высшее</td>\n",
       "      <td>0</td>\n",
       "      <td>не женат / не замужем</td>\n",
       "      <td>4</td>\n",
       "      <td>f</td>\n",
       "      <td>пенсионер</td>\n",
       "      <td>0</td>\n",
       "      <td>118514.486412</td>\n",
       "      <td>дополнительное образование</td>\n",
       "    </tr>\n",
       "  </tbody>\n",
       "</table>\n",
       "</div>"
      ],
      "text/plain": [
       "      children  days_employed  dob_years education  education_id  \\\n",
       "2849         0              0         41   среднее             1   \n",
       "3290         0              0         58   среднее             1   \n",
       "4182         1              0         34    высшее             0   \n",
       "4851         0              0         60   среднее             1   \n",
       "5557         0              0         58   среднее             1   \n",
       "6312         0              0         30   среднее             1   \n",
       "7808         0              0         57   среднее             1   \n",
       "7921         0              0         64    высшее             0   \n",
       "7938         0              0         71   среднее             1   \n",
       "8583         0              0         58    высшее             0   \n",
       "\n",
       "              family_status  family_status_id gender income_type  debt  \\\n",
       "2849        женат / замужем                 0      f   сотрудник     0   \n",
       "3290       гражданский брак                 1      f   пенсионер     0   \n",
       "4182       гражданский брак                 1      f   сотрудник     0   \n",
       "4851       гражданский брак                 1      f   пенсионер     0   \n",
       "5557       гражданский брак                 1      f   пенсионер     0   \n",
       "6312        женат / замужем                 0      m   сотрудник     0   \n",
       "7808       гражданский брак                 1      f   пенсионер     0   \n",
       "7921       гражданский брак                 1      f   пенсионер     0   \n",
       "7938       гражданский брак                 1      f   пенсионер     0   \n",
       "8583  не женат / не замужем                 4      f   пенсионер     0   \n",
       "\n",
       "       total_income                           purpose  \n",
       "2849  142594.396847           покупка жилья для семьи  \n",
       "3290  118514.486412                   сыграть свадьбу  \n",
       "4182  142594.396847                           свадьба  \n",
       "4851  118514.486412                           свадьба  \n",
       "5557  118514.486412                   сыграть свадьбу  \n",
       "6312  142594.396847  строительство жилой недвижимости  \n",
       "7808  118514.486412             на проведение свадьбы  \n",
       "7921  118514.486412             на проведение свадьбы  \n",
       "7938  118514.486412             на проведение свадьбы  \n",
       "8583  118514.486412        дополнительное образование  "
      ]
     },
     "execution_count": 91,
     "metadata": {},
     "output_type": "execute_result"
    }
   ],
   "source": [
    "df[df.duplicated()].head(10)"
   ]
  },
  {
   "cell_type": "markdown",
   "metadata": {},
   "source": [
    "**`Вывод:`**\n",
    "- датафрейм содержит дубликаты из-за несоответствия регистров в столбце `education`, виной тому человеческая ошибка либо отсутствие специфических требование. Приведено к нижнему регистру;\n",
    "- датафрейм содержит несоответствие регистров в столбце  `family_status`. Приведено к нижнему регистру;\n",
    "- метод drop_duplicates к строкам целиком я не применял. Подсчет методом `duplicated` выявил 71 строку, но оснований считать их дубликатами нет, т.к., по результатам визуальной проверки, данные неоднородны."
   ]
  },
  {
   "cell_type": "markdown",
   "metadata": {},
   "source": [
    "### Лемматизация"
   ]
  },
  {
   "cell_type": "markdown",
   "metadata": {},
   "source": [
    "Выделим леммы в значениях столбца с целями получения кредита, осуществим предпросмотр:"
   ]
  },
  {
   "cell_type": "code",
   "execution_count": 92,
   "metadata": {},
   "outputs": [
    {
     "data": {
      "text/html": [
       "<div>\n",
       "<style scoped>\n",
       "    .dataframe tbody tr th:only-of-type {\n",
       "        vertical-align: middle;\n",
       "    }\n",
       "\n",
       "    .dataframe tbody tr th {\n",
       "        vertical-align: top;\n",
       "    }\n",
       "\n",
       "    .dataframe thead th {\n",
       "        text-align: right;\n",
       "    }\n",
       "</style>\n",
       "<table border=\"1\" class=\"dataframe\">\n",
       "  <thead>\n",
       "    <tr style=\"text-align: right;\">\n",
       "      <th></th>\n",
       "      <th>children</th>\n",
       "      <th>days_employed</th>\n",
       "      <th>dob_years</th>\n",
       "      <th>education</th>\n",
       "      <th>education_id</th>\n",
       "      <th>family_status</th>\n",
       "      <th>family_status_id</th>\n",
       "      <th>gender</th>\n",
       "      <th>income_type</th>\n",
       "      <th>debt</th>\n",
       "      <th>total_income</th>\n",
       "      <th>purpose</th>\n",
       "    </tr>\n",
       "  </thead>\n",
       "  <tbody>\n",
       "    <tr>\n",
       "      <td>0</td>\n",
       "      <td>1</td>\n",
       "      <td>8437</td>\n",
       "      <td>42</td>\n",
       "      <td>высшее</td>\n",
       "      <td>0</td>\n",
       "      <td>женат / замужем</td>\n",
       "      <td>0</td>\n",
       "      <td>f</td>\n",
       "      <td>сотрудник</td>\n",
       "      <td>0</td>\n",
       "      <td>253875.639453</td>\n",
       "      <td>[покупка,  , жилье, \\n]</td>\n",
       "    </tr>\n",
       "    <tr>\n",
       "      <td>1</td>\n",
       "      <td>1</td>\n",
       "      <td>4024</td>\n",
       "      <td>36</td>\n",
       "      <td>среднее</td>\n",
       "      <td>1</td>\n",
       "      <td>женат / замужем</td>\n",
       "      <td>0</td>\n",
       "      <td>f</td>\n",
       "      <td>сотрудник</td>\n",
       "      <td>0</td>\n",
       "      <td>112080.014102</td>\n",
       "      <td>[приобретение,  , автомобиль, \\n]</td>\n",
       "    </tr>\n",
       "    <tr>\n",
       "      <td>2</td>\n",
       "      <td>0</td>\n",
       "      <td>5623</td>\n",
       "      <td>33</td>\n",
       "      <td>среднее</td>\n",
       "      <td>1</td>\n",
       "      <td>женат / замужем</td>\n",
       "      <td>0</td>\n",
       "      <td>m</td>\n",
       "      <td>сотрудник</td>\n",
       "      <td>0</td>\n",
       "      <td>145885.952297</td>\n",
       "      <td>[покупка,  , жилье, \\n]</td>\n",
       "    </tr>\n",
       "    <tr>\n",
       "      <td>3</td>\n",
       "      <td>3</td>\n",
       "      <td>4124</td>\n",
       "      <td>32</td>\n",
       "      <td>среднее</td>\n",
       "      <td>1</td>\n",
       "      <td>женат / замужем</td>\n",
       "      <td>0</td>\n",
       "      <td>m</td>\n",
       "      <td>сотрудник</td>\n",
       "      <td>0</td>\n",
       "      <td>267628.550329</td>\n",
       "      <td>[дополнительный,  , образование, \\n]</td>\n",
       "    </tr>\n",
       "    <tr>\n",
       "      <td>4</td>\n",
       "      <td>0</td>\n",
       "      <td>340266</td>\n",
       "      <td>53</td>\n",
       "      <td>среднее</td>\n",
       "      <td>1</td>\n",
       "      <td>гражданский брак</td>\n",
       "      <td>1</td>\n",
       "      <td>f</td>\n",
       "      <td>пенсионер</td>\n",
       "      <td>0</td>\n",
       "      <td>158616.077870</td>\n",
       "      <td>[сыграть,  , свадьба, \\n]</td>\n",
       "    </tr>\n",
       "  </tbody>\n",
       "</table>\n",
       "</div>"
      ],
      "text/plain": [
       "   children  days_employed  dob_years education  education_id  \\\n",
       "0         1           8437         42    высшее             0   \n",
       "1         1           4024         36   среднее             1   \n",
       "2         0           5623         33   среднее             1   \n",
       "3         3           4124         32   среднее             1   \n",
       "4         0         340266         53   среднее             1   \n",
       "\n",
       "      family_status  family_status_id gender income_type  debt   total_income  \\\n",
       "0   женат / замужем                 0      f   сотрудник     0  253875.639453   \n",
       "1   женат / замужем                 0      f   сотрудник     0  112080.014102   \n",
       "2   женат / замужем                 0      m   сотрудник     0  145885.952297   \n",
       "3   женат / замужем                 0      m   сотрудник     0  267628.550329   \n",
       "4  гражданский брак                 1      f   пенсионер     0  158616.077870   \n",
       "\n",
       "                                purpose  \n",
       "0               [покупка,  , жилье, \\n]  \n",
       "1     [приобретение,  , автомобиль, \\n]  \n",
       "2               [покупка,  , жилье, \\n]  \n",
       "3  [дополнительный,  , образование, \\n]  \n",
       "4             [сыграть,  , свадьба, \\n]  "
      ]
     },
     "execution_count": 92,
     "metadata": {},
     "output_type": "execute_result"
    }
   ],
   "source": [
    "m = Mystem()\n",
    "df['purpose'] = df['purpose'].apply(m.lemmatize)\n",
    "df.head()"
   ]
  },
  {
   "cell_type": "markdown",
   "metadata": {},
   "source": [
    "**Вывод**\n",
    "- лемматизация данных по столбцу purpose выполнена успешно;\n",
    "- для технического исполнения применена библиотека `Mystem` в сочетании с методом apply ко всему столбцу."
   ]
  },
  {
   "cell_type": "markdown",
   "metadata": {},
   "source": [
    "### Категоризация данных"
   ]
  },
  {
   "cell_type": "markdown",
   "metadata": {},
   "source": [
    "Для категоризации данных создадим несколько таблиц-словарей:\n",
    "- `количество детей / долг` - поскольку проверку такого условия требует наше исследование в первую очередь;\n",
    "- `семейное положение / долг` - если связи между количеством детей и наличием долгов подтвердится, то данный отчет может косвенно подтвердить ее, т.к. вероятно наличие детей / большего количества детей в семьях;\n",
    "- `уровень дохода / долг` - такая связь видится разумной в первую очередь;\n",
    "- `цели кредита / долг` - позволит увидеть необычные, неожиданные связи, если они есть."
   ]
  },
  {
   "cell_type": "markdown",
   "metadata": {},
   "source": [
    "Словарь \"количество детей / долг\":"
   ]
  },
  {
   "cell_type": "code",
   "execution_count": 93,
   "metadata": {},
   "outputs": [],
   "source": [
    "children_dict = df[['children', 'debt']]"
   ]
  },
  {
   "cell_type": "markdown",
   "metadata": {},
   "source": [
    "Сгруппируем данные и осуществим предпросмотр. Поскольку значения выражены при помощи 1 и 0, будем суммировать:"
   ]
  },
  {
   "cell_type": "code",
   "execution_count": 94,
   "metadata": {},
   "outputs": [
    {
     "name": "stdout",
     "output_type": "stream",
     "text": [
      "children\n",
      "0     1063\n",
      "1      444\n",
      "2      194\n",
      "3       27\n",
      "4        4\n",
      "5        0\n",
      "20       8\n",
      "Name: debt, dtype: int64\n"
     ]
    }
   ],
   "source": [
    "print(children_dict.groupby('children')['debt'].sum())"
   ]
  },
  {
   "cell_type": "markdown",
   "metadata": {},
   "source": [
    "Из таблицы видна такая взаимосвязь: `чем меньше детей, тем чаще присутствует долг по кредиту. Чем больше детей - тем меньше клиентов с долгами`. Выбиваются из категорий представители с огромным количеством детей (20). Но это слишком нетипичное значение для отслеживания взаимосвязей."
   ]
  },
  {
   "cell_type": "markdown",
   "metadata": {},
   "source": [
    "Создадим словарь для отслеживания зависимости между семейным положением и возвратом кредита в срок:"
   ]
  },
  {
   "cell_type": "code",
   "execution_count": 95,
   "metadata": {},
   "outputs": [
    {
     "name": "stdout",
     "output_type": "stream",
     "text": [
      "family_status\n",
      "в разводе                 85\n",
      "вдовец / вдова            63\n",
      "гражданский брак         388\n",
      "женат / замужем          930\n",
      "не женат / не замужем    274\n",
      "Name: debt, dtype: int64\n"
     ]
    }
   ],
   "source": [
    "family_status_dict = df[['family_status', 'debt']]\n",
    "print(family_status_dict.groupby('family_status')['debt'].sum())"
   ]
  },
  {
   "cell_type": "markdown",
   "metadata": {},
   "source": [
    "Согласно данным, большее количество долгов у женатых пар. Отсюда можно сделать предварительный вывод, что наибольшее количество долгов - у <b>женатых, но бездетных<b> пар."
   ]
  },
  {
   "cell_type": "markdown",
   "metadata": {},
   "source": [
    "Далее создадим словарь отношения уровня дохода к количеству долгов. Заявщиков необходимо разделить на уровни дохода. Для градации можно использовать расчетные min, max, mean, но предварительно видно, что уровни дохода различаются очень сильно и три уровня будет недостаточно. \n",
    "\n",
    "Возьмем за начальный уровень МРОТ, затем до 45 тысяч официальные данные из статистики по доходам населения РФ `(https://ru.wikipedia.org/wiki/Доходы_населения_России)`. \n",
    "\n",
    "Ну и поскольку этих данных все равно недостаточно (метод max() показал верхнее значение в 2265604 рублей), добавим искусственные группы < 100000, < 500000 и выше 500000."
   ]
  },
  {
   "cell_type": "markdown",
   "metadata": {},
   "source": [
    "Далее напишем функцию для автоматической группировки по уровню дохода на основании полученных категорий и выполним группировку:"
   ]
  },
  {
   "cell_type": "code",
   "execution_count": 96,
   "metadata": {},
   "outputs": [
    {
     "name": "stdout",
     "output_type": "stream",
     "text": [
      "income_level\n",
      "27000         1\n",
      "45000        13\n",
      "100000      340\n",
      "500000     1372\n",
      "500000+      14\n",
      "Name: debt, dtype: int64\n"
     ]
    }
   ],
   "source": [
    "# Функция для распределения по уровню дохода:\n",
    "def sort_income(income):\n",
    "    if income < 11129:\n",
    "        return 11129\n",
    "    if income < 27000:\n",
    "        return 27000\n",
    "    if income < 45000:\n",
    "        return 45000\n",
    "    if income < 100000:\n",
    "        return 100000\n",
    "    if income < 500000:\n",
    "        return 500000\n",
    "    else:\n",
    "        return '500000+'\n",
    "    \n",
    "income_dict = df[['total_income', 'debt']]\n",
    "income_dict['income_level'] = income_dict['total_income'].apply(sort_income)\n",
    "income_dict_grouped = income_dict.groupby('income_level')['debt'].sum()\n",
    "print(income_dict_grouped)"
   ]
  },
  {
   "cell_type": "markdown",
   "metadata": {},
   "source": [
    "Из распределения видно, что наибольшее количество должников `среди богатых (но не сверхбогатых!)` людей."
   ]
  },
  {
   "cell_type": "markdown",
   "metadata": {},
   "source": [
    "Создадим словарь \"цели кредита / долг\". Для этого используем полученные ранее результаты лемматизации. \n",
    "\n",
    "Нам необходимо выделить однословные категории и избавиться от \"мусора\". Сначала проверим данные при помощи метода Counter:"
   ]
  },
  {
   "cell_type": "code",
   "execution_count": 97,
   "metadata": {},
   "outputs": [
    {
     "name": "stdout",
     "output_type": "stream",
     "text": [
      "Counter({' ': 33609, '\\n': 21478, 'недвижимость': 6351, 'покупка': 5899, 'жилье': 4465, 'автомобиль': 4304, 'образование': 4012, 'с': 2919, 'операция': 2603, 'свадьба': 2346, 'на': 2229, 'свой': 2228, 'строительство': 1877, 'высокий': 1374, 'коммерческий': 1314, 'получение': 1314, 'для': 1293, 'жилой': 1228, 'сделка': 943, 'заниматься': 908, 'дополнительный': 906, 'проведение': 776, 'сыграть': 773, 'сдача': 652, 'семья': 641, 'собственный': 634, 'со': 627, 'ремонт': 611, 'подержанный': 488, 'подержать': 478, 'приобретение': 460, 'профильный': 434})\n"
     ]
    }
   ],
   "source": [
    "from collections import Counter\n",
    "print(df['purpose'].apply(Counter).sum())"
   ]
  },
  {
   "cell_type": "markdown",
   "metadata": {},
   "source": [
    "Заменяем наборы слов на название категории из одного слова в словаре `\"цели кредита / долг\"`. Вручную отобрали следующие категории: `недвижимость, жилье, автомобиль, образование, свадьба, строительство, ремонт`. \n",
    "\n",
    "Из списка видно, что по количеству кредитов безусловно лидирует `\"недвижимость\", \"жилье\", \"автомобиль\"`.\n",
    "\n",
    "Почти всякое жилье является недвижимостью (но не всякая недвижимость - жилье). Объединим эти две категории, а также \"операция (с недвижимостью)\" в одну - \"недвижимость\"."
   ]
  },
  {
   "cell_type": "code",
   "execution_count": 98,
   "metadata": {},
   "outputs": [],
   "source": [
    "df_purpose = df[['purpose', 'debt']]\n",
    "df_purpose.loc[df_purpose['purpose'].apply(str).str.contains('недвижимость'), 'purpose'] = 'недвижимость'\n",
    "df_purpose.loc[df_purpose['purpose'].apply(str).str.contains('жилье'), 'purpose'] = 'недвижимость'\n",
    "df_purpose.loc[df_purpose['purpose'].apply(str).str.contains('автомобиль'), 'purpose'] = 'автомобиль'\n",
    "df_purpose.loc[df_purpose['purpose'].apply(str).str.contains('образование'), 'purpose'] = 'образование'\n",
    "df_purpose.loc[df_purpose['purpose'].apply(str).str.contains('операция'), 'purpose'] = 'недвижимость'\n",
    "df_purpose.loc[df_purpose['purpose'].apply(str).str.contains('свадьба'), 'purpose'] = 'свадьба'\n",
    "df_purpose.loc[df_purpose['purpose'].apply(str).str.contains('строительство'), 'purpose'] = 'строительство'\n",
    "df_purpose.loc[df_purpose['purpose'].apply(str).str.contains('ремонт'), 'purpose'] = 'ремонт'"
   ]
  },
  {
   "cell_type": "markdown",
   "metadata": {},
   "source": [
    "Проверим, все ли категории были заменены:"
   ]
  },
  {
   "cell_type": "code",
   "execution_count": 99,
   "metadata": {},
   "outputs": [
    {
     "name": "stdout",
     "output_type": "stream",
     "text": [
      "['недвижимость' 'автомобиль' 'образование' 'свадьба']\n"
     ]
    }
   ],
   "source": [
    "print(df_purpose['purpose'].unique())"
   ]
  },
  {
   "cell_type": "markdown",
   "metadata": {},
   "source": [
    "Сгруппируем данные по цели кредита:"
   ]
  },
  {
   "cell_type": "code",
   "execution_count": 100,
   "metadata": {},
   "outputs": [
    {
     "name": "stdout",
     "output_type": "stream",
     "text": [
      "purpose\n",
      "автомобиль      402\n",
      "недвижимость    782\n",
      "образование     370\n",
      "свадьба         186\n",
      "Name: debt, dtype: int64\n"
     ]
    }
   ],
   "source": [
    "df_purpose_grouped = df_purpose.groupby('purpose')['debt'].sum()\n",
    "print(df_purpose_grouped)"
   ]
  },
  {
   "cell_type": "markdown",
   "metadata": {},
   "source": [
    "Создадим сводные таблицы для наглядного отображения всех зависимостей."
   ]
  },
  {
   "cell_type": "markdown",
   "metadata": {},
   "source": [
    "**Есть ли зависимость между наличием детей и возвратом кредита в срок?**"
   ]
  },
  {
   "cell_type": "markdown",
   "metadata": {},
   "source": [
    "Зависимость есть. Заметно, что `чаще возвращают кредиты бездетные либо крайне многодетные заявщики`."
   ]
  },
  {
   "cell_type": "code",
   "execution_count": 101,
   "metadata": {},
   "outputs": [
    {
     "name": "stdout",
     "output_type": "stream",
     "text": [
      "              debt\n",
      "children          \n",
      "0         0.075129\n",
      "1         0.092154\n",
      "2         0.094404\n",
      "3         0.081818\n",
      "4         0.097561\n",
      "5         0.000000\n",
      "20        0.105263\n"
     ]
    }
   ],
   "source": [
    "children_grouped = children_dict.groupby(['children']).agg({'debt':'mean'})\n",
    "print(children_grouped)"
   ]
  },
  {
   "cell_type": "markdown",
   "metadata": {},
   "source": [
    "**Есть ли зависимость между семейным положением и возвратом кредита в срок?**"
   ]
  },
  {
   "cell_type": "markdown",
   "metadata": {},
   "source": [
    "Некоторая зависимость есть. Заметно, что `чаще возвращают кредиты как вдовцы/вдовы, так и люди в разводе`. `Количество невозвратных кредитов выше у неженатых пар и пар в гражданском браке`."
   ]
  },
  {
   "cell_type": "code",
   "execution_count": 102,
   "metadata": {},
   "outputs": [
    {
     "name": "stdout",
     "output_type": "stream",
     "text": [
      "                           debt\n",
      "family_status                  \n",
      "в разводе              0.071369\n",
      "вдовец / вдова         0.065900\n",
      "гражданский брак       0.093001\n",
      "женат / замужем        0.075298\n",
      "не женат / не замужем  0.097578\n"
     ]
    }
   ],
   "source": [
    "family_grouped = family_status_dict.groupby(['family_status']).agg({'debt':'mean'})\n",
    "print(family_grouped)"
   ]
  },
  {
   "cell_type": "markdown",
   "metadata": {},
   "source": [
    "**Есть ли зависимость между уровнем дохода и возвратом кредита в срок?**"
   ]
  },
  {
   "cell_type": "markdown",
   "metadata": {},
   "source": [
    "Да, такая зависимость есть. Заметно, что `чаще возвращают кредиты люди со средним достатком и сверхобеспеченные люди`. `Лидируют по невозвратам кредиты для людей с низким уровнем дохода`. `Люди со средним достатком - самые дисциплинированные`."
   ]
  },
  {
   "cell_type": "code",
   "execution_count": 103,
   "metadata": {},
   "outputs": [
    {
     "name": "stdout",
     "output_type": "stream",
     "text": [
      "                  debt\n",
      "income_level          \n",
      "27000         0.083333\n",
      "45000         0.063725\n",
      "100000        0.080208\n",
      "500000        0.081662\n",
      "500000+       0.063063\n"
     ]
    }
   ],
   "source": [
    "income_grouped = income_dict.groupby(['income_level']).agg({'debt':'mean'})\n",
    "print(income_grouped)"
   ]
  },
  {
   "cell_type": "markdown",
   "metadata": {},
   "source": [
    "**Как разные цели кредита влияют на его возврат в срок?**"
   ]
  },
  {
   "cell_type": "markdown",
   "metadata": {},
   "source": [
    "Сводная таблица по целям кредита. Заметно, что `чаще не возвращают кредиты, взятые на покупку недвижимости и автомобилей`:"
   ]
  },
  {
   "cell_type": "code",
   "execution_count": 104,
   "metadata": {},
   "outputs": [
    {
     "name": "stdout",
     "output_type": "stream",
     "text": [
      "              debt\n",
      "purpose           \n",
      "автомобиль     402\n",
      "недвижимость   782\n",
      "образование    370\n",
      "свадьба        186\n"
     ]
    }
   ],
   "source": [
    "purpose_grouped = df_purpose_grouped.groupby(['purpose']).agg({'debt':'mean'})\n",
    "print(purpose_grouped)"
   ]
  },
  {
   "cell_type": "markdown",
   "metadata": {},
   "source": [
    "**Вывод:**\n",
    "- В лидерах по количеству долгов - `кредиты на недвижимость и автомобили`. Интересно отметить, что кредитов на свадьбу возвращают больше (не хотят входить в семейную жизнь с долгами?);\n",
    "- Также, видится `вероятная связь между категориями и уровнями дохода`, т.е. вероятней всего, кредиты на авто и недвижимость берут состоятельные люди, и у них же самый большой процент невозвратов;\n",
    "- Связь между наличием детей и возвратами кредитов есть, но она нелинейная: однозначно можно сказать, что кредиты чаще возвращают бездетные заявщики либо заявщики с 5 детьми, с другим количеством детей процент возврата плюс-минус одинаков."
   ]
  },
  {
   "cell_type": "markdown",
   "metadata": {},
   "source": [
    "## Общий вывод"
   ]
  },
  {
   "cell_type": "markdown",
   "metadata": {},
   "source": [
    "При работе с данными исследования были обнаружены несоответствия в данных, такие как: неверный формат по данным трудового стажа, отсутствующие данные по трудовому стажу и уровню дохода. Недостающие данные по уровню трудового дохода я заменил средне-медианными по таким же категориям. Строки с отсутствующими данными по трудовому стажу я заменил нулевыми значениями. \n",
    "    \n",
    "При работе были исправлены ошибки в форматировании, обработан и стандартизирован формат текстовых данных. \n",
    "    \n",
    "Далее, по категориям заявщиков были прослежены зависимости, выводы подтверждены сгруппированными данными в табличном виде.\n",
    "    \n",
    "`Общий вывод видится таким: чаще всего задерживаются кредиты у людей с невысоким достатком и с детьми, лидирует по процентам невозврата кредит на недвижимость и автомобили. Бездетные заявщики самые дисциплинированные`."
   ]
  }
 ],
 "metadata": {
  "ExecuteTimeLog": [
   {
    "duration": 700,
    "start_time": "2021-09-11T03:32:08.633Z"
   },
   {
    "duration": 12,
    "start_time": "2021-09-11T04:41:29.059Z"
   },
   {
    "duration": 10,
    "start_time": "2021-09-11T04:41:40.729Z"
   },
   {
    "duration": 10,
    "start_time": "2021-09-11T04:41:58.200Z"
   },
   {
    "duration": 345,
    "start_time": "2021-09-11T04:42:44.649Z"
   },
   {
    "duration": 297,
    "start_time": "2021-09-11T04:43:13.909Z"
   },
   {
    "duration": 270,
    "start_time": "2021-09-11T04:43:27.627Z"
   },
   {
    "duration": 72,
    "start_time": "2021-09-11T04:43:36.820Z"
   },
   {
    "duration": 21,
    "start_time": "2021-09-11T04:43:50.843Z"
   },
   {
    "duration": 296,
    "start_time": "2021-09-11T04:44:50.891Z"
   },
   {
    "duration": 294,
    "start_time": "2021-09-11T04:46:54.208Z"
   },
   {
    "duration": 71,
    "start_time": "2021-09-11T04:47:19.833Z"
   },
   {
    "duration": 5,
    "start_time": "2021-09-11T04:47:23.912Z"
   },
   {
    "duration": 14,
    "start_time": "2021-09-11T04:47:40.432Z"
   },
   {
    "duration": 8,
    "start_time": "2021-09-11T04:51:17.753Z"
   },
   {
    "duration": 15,
    "start_time": "2021-09-11T04:52:39.423Z"
   },
   {
    "duration": 72,
    "start_time": "2021-09-11T05:09:13.030Z"
   },
   {
    "duration": 298,
    "start_time": "2021-09-11T05:09:21.778Z"
   },
   {
    "duration": 268,
    "start_time": "2021-09-11T05:11:25.915Z"
   },
   {
    "duration": 70,
    "start_time": "2021-09-11T05:11:37.183Z"
   },
   {
    "duration": 23,
    "start_time": "2021-09-11T05:11:52.912Z"
   },
   {
    "duration": 21,
    "start_time": "2021-09-11T05:12:04.105Z"
   },
   {
    "duration": 5,
    "start_time": "2021-09-11T05:28:20.570Z"
   },
   {
    "duration": 280,
    "start_time": "2021-09-11T05:33:52.922Z"
   },
   {
    "duration": 16,
    "start_time": "2021-09-11T05:34:00.527Z"
   },
   {
    "duration": 73,
    "start_time": "2021-09-11T05:37:37.301Z"
   },
   {
    "duration": 15,
    "start_time": "2021-09-11T05:37:50.963Z"
   },
   {
    "duration": 5,
    "start_time": "2021-09-11T05:37:55.041Z"
   },
   {
    "duration": 22,
    "start_time": "2021-09-11T05:37:59.505Z"
   },
   {
    "duration": 16,
    "start_time": "2021-09-11T05:38:07.895Z"
   },
   {
    "duration": 9,
    "start_time": "2021-09-11T05:41:43.543Z"
   },
   {
    "duration": 4,
    "start_time": "2021-09-11T05:42:10.856Z"
   },
   {
    "duration": 7,
    "start_time": "2021-09-11T05:43:30.125Z"
   },
   {
    "duration": 853,
    "start_time": "2021-09-13T05:38:38.609Z"
   },
   {
    "duration": 88,
    "start_time": "2021-09-13T05:53:48.591Z"
   },
   {
    "duration": 14,
    "start_time": "2021-09-13T05:54:56.144Z"
   },
   {
    "duration": 1069,
    "start_time": "2021-09-13T05:55:25.609Z"
   },
   {
    "duration": 16,
    "start_time": "2021-09-13T05:55:34.800Z"
   },
   {
    "duration": 7,
    "start_time": "2021-09-13T05:56:16.470Z"
   },
   {
    "duration": 6,
    "start_time": "2021-09-13T06:21:17.289Z"
   },
   {
    "duration": 6,
    "start_time": "2021-09-13T06:21:25.829Z"
   },
   {
    "duration": 8,
    "start_time": "2021-09-13T06:22:52.620Z"
   },
   {
    "duration": 24,
    "start_time": "2021-09-13T06:41:51.625Z"
   },
   {
    "duration": 6,
    "start_time": "2021-09-13T06:55:34.165Z"
   },
   {
    "duration": 17,
    "start_time": "2021-09-13T06:56:12.545Z"
   },
   {
    "duration": 26,
    "start_time": "2021-09-13T06:59:22.955Z"
   },
   {
    "duration": 18,
    "start_time": "2021-09-13T06:59:44.992Z"
   },
   {
    "duration": 10,
    "start_time": "2021-09-13T07:00:34.839Z"
   },
   {
    "duration": 87,
    "start_time": "2021-09-13T07:01:08.601Z"
   },
   {
    "duration": 7,
    "start_time": "2021-09-13T07:01:13.842Z"
   },
   {
    "duration": 9,
    "start_time": "2021-09-13T07:01:19.091Z"
   },
   {
    "duration": 24,
    "start_time": "2021-09-13T07:01:24.434Z"
   },
   {
    "duration": 6,
    "start_time": "2021-09-13T07:01:29.122Z"
   },
   {
    "duration": 17,
    "start_time": "2021-09-13T07:01:35.361Z"
   },
   {
    "duration": 23,
    "start_time": "2021-09-13T07:03:45.732Z"
   },
   {
    "duration": 18,
    "start_time": "2021-09-13T07:04:55.397Z"
   },
   {
    "duration": 42,
    "start_time": "2021-09-13T07:06:11.455Z"
   },
   {
    "duration": 7,
    "start_time": "2021-09-13T07:06:45.639Z"
   },
   {
    "duration": 89,
    "start_time": "2021-09-13T07:07:13.931Z"
   },
   {
    "duration": 7,
    "start_time": "2021-09-13T07:07:14.023Z"
   },
   {
    "duration": 23,
    "start_time": "2021-09-13T07:07:14.033Z"
   },
   {
    "duration": 11,
    "start_time": "2021-09-13T07:07:14.058Z"
   },
   {
    "duration": 24,
    "start_time": "2021-09-13T07:07:14.071Z"
   },
   {
    "duration": 5,
    "start_time": "2021-09-13T07:07:14.098Z"
   },
   {
    "duration": 15,
    "start_time": "2021-09-13T07:07:16.956Z"
   },
   {
    "duration": 6,
    "start_time": "2021-09-13T07:07:24.244Z"
   },
   {
    "duration": 93,
    "start_time": "2021-09-13T07:09:19.417Z"
   },
   {
    "duration": 8,
    "start_time": "2021-09-13T07:09:19.513Z"
   },
   {
    "duration": 11,
    "start_time": "2021-09-13T07:09:19.524Z"
   },
   {
    "duration": 25,
    "start_time": "2021-09-13T07:09:19.538Z"
   },
   {
    "duration": 27,
    "start_time": "2021-09-13T07:09:19.566Z"
   },
   {
    "duration": 5,
    "start_time": "2021-09-13T07:09:19.595Z"
   },
   {
    "duration": 19,
    "start_time": "2021-09-13T07:09:19.603Z"
   },
   {
    "duration": 10,
    "start_time": "2021-09-13T07:09:19.658Z"
   },
   {
    "duration": 6,
    "start_time": "2021-09-13T07:09:30.129Z"
   },
   {
    "duration": 88,
    "start_time": "2021-09-13T07:10:43.806Z"
   },
   {
    "duration": 6,
    "start_time": "2021-09-13T07:10:43.897Z"
   },
   {
    "duration": 12,
    "start_time": "2021-09-13T07:10:43.906Z"
   },
   {
    "duration": 12,
    "start_time": "2021-09-13T07:10:43.920Z"
   },
   {
    "duration": 30,
    "start_time": "2021-09-13T07:10:43.956Z"
   },
   {
    "duration": 5,
    "start_time": "2021-09-13T07:10:43.989Z"
   },
   {
    "duration": 22,
    "start_time": "2021-09-13T07:10:43.996Z"
   },
   {
    "duration": 12,
    "start_time": "2021-09-13T07:10:44.021Z"
   },
   {
    "duration": 14,
    "start_time": "2021-09-13T07:10:47.563Z"
   },
   {
    "duration": 88,
    "start_time": "2021-09-13T07:11:36.220Z"
   },
   {
    "duration": 6,
    "start_time": "2021-09-13T07:11:36.310Z"
   },
   {
    "duration": 11,
    "start_time": "2021-09-13T07:11:36.319Z"
   },
   {
    "duration": 25,
    "start_time": "2021-09-13T07:11:36.333Z"
   },
   {
    "duration": 23,
    "start_time": "2021-09-13T07:11:36.361Z"
   },
   {
    "duration": 5,
    "start_time": "2021-09-13T07:11:36.386Z"
   },
   {
    "duration": 13,
    "start_time": "2021-09-13T07:11:39.332Z"
   },
   {
    "duration": 17,
    "start_time": "2021-09-13T07:11:48.903Z"
   },
   {
    "duration": 91,
    "start_time": "2021-09-13T07:15:30.048Z"
   },
   {
    "duration": 17,
    "start_time": "2021-09-13T07:15:30.141Z"
   },
   {
    "duration": 15,
    "start_time": "2021-09-13T07:15:30.161Z"
   },
   {
    "duration": 19,
    "start_time": "2021-09-13T07:15:30.179Z"
   },
   {
    "duration": 42,
    "start_time": "2021-09-13T07:15:30.201Z"
   },
   {
    "duration": 6,
    "start_time": "2021-09-13T07:15:30.245Z"
   },
   {
    "duration": 28,
    "start_time": "2021-09-13T07:15:30.253Z"
   },
   {
    "duration": 26,
    "start_time": "2021-09-13T07:15:30.284Z"
   },
   {
    "duration": 17,
    "start_time": "2021-09-13T07:15:34.484Z"
   },
   {
    "duration": 89,
    "start_time": "2021-09-13T07:16:25.598Z"
   },
   {
    "duration": 8,
    "start_time": "2021-09-13T07:16:25.691Z"
   },
   {
    "duration": 10,
    "start_time": "2021-09-13T07:16:25.703Z"
   },
   {
    "duration": 13,
    "start_time": "2021-09-13T07:16:25.716Z"
   },
   {
    "duration": 42,
    "start_time": "2021-09-13T07:16:25.732Z"
   },
   {
    "duration": 8,
    "start_time": "2021-09-13T07:16:25.777Z"
   },
   {
    "duration": 22,
    "start_time": "2021-09-13T07:16:25.788Z"
   },
   {
    "duration": 17,
    "start_time": "2021-09-13T07:16:30.840Z"
   },
   {
    "duration": 19,
    "start_time": "2021-09-13T07:18:00.847Z"
   },
   {
    "duration": 14,
    "start_time": "2021-09-13T07:25:24.046Z"
   },
   {
    "duration": 14,
    "start_time": "2021-09-13T07:33:40.584Z"
   },
   {
    "duration": 122,
    "start_time": "2021-09-13T07:42:05.575Z"
   },
   {
    "duration": 12,
    "start_time": "2021-09-13T07:42:12.136Z"
   },
   {
    "duration": 20,
    "start_time": "2021-09-13T07:43:00.967Z"
   },
   {
    "duration": 20,
    "start_time": "2021-09-13T07:43:23.581Z"
   },
   {
    "duration": 20,
    "start_time": "2021-09-13T07:43:56.728Z"
   },
   {
    "duration": 20,
    "start_time": "2021-09-13T07:45:49.012Z"
   },
   {
    "duration": 10,
    "start_time": "2021-09-13T07:47:23.627Z"
   },
   {
    "duration": 10,
    "start_time": "2021-09-13T07:47:35.188Z"
   },
   {
    "duration": 373,
    "start_time": "2021-09-13T07:47:59.474Z"
   },
   {
    "duration": 397,
    "start_time": "2021-09-13T07:48:26.455Z"
   },
   {
    "duration": 397,
    "start_time": "2021-09-13T07:50:39.884Z"
   },
   {
    "duration": 354,
    "start_time": "2021-09-13T07:51:02.698Z"
   },
   {
    "duration": 10,
    "start_time": "2021-09-13T07:51:06.748Z"
   },
   {
    "duration": 8,
    "start_time": "2021-09-13T07:51:30.726Z"
   },
   {
    "duration": 23,
    "start_time": "2021-09-13T07:53:43.561Z"
   },
   {
    "duration": 32,
    "start_time": "2021-09-13T07:55:52.156Z"
   },
   {
    "duration": 22,
    "start_time": "2021-09-13T07:56:41.319Z"
   },
   {
    "duration": 11,
    "start_time": "2021-09-13T08:00:07.894Z"
   },
   {
    "duration": 86,
    "start_time": "2021-09-13T08:01:40.994Z"
   },
   {
    "duration": 7,
    "start_time": "2021-09-13T08:01:41.083Z"
   },
   {
    "duration": 12,
    "start_time": "2021-09-13T08:01:41.093Z"
   },
   {
    "duration": 16,
    "start_time": "2021-09-13T08:01:41.108Z"
   },
   {
    "duration": 49,
    "start_time": "2021-09-13T08:01:41.126Z"
   },
   {
    "duration": 6,
    "start_time": "2021-09-13T08:01:41.177Z"
   },
   {
    "duration": 21,
    "start_time": "2021-09-13T08:01:41.185Z"
   },
   {
    "duration": 48,
    "start_time": "2021-09-13T08:01:41.210Z"
   },
   {
    "duration": 19,
    "start_time": "2021-09-13T08:01:41.260Z"
   },
   {
    "duration": 20,
    "start_time": "2021-09-13T08:01:41.281Z"
   },
   {
    "duration": 23,
    "start_time": "2021-09-13T08:01:41.304Z"
   },
   {
    "duration": 34,
    "start_time": "2021-09-13T08:01:41.330Z"
   },
   {
    "duration": 15,
    "start_time": "2021-09-13T08:01:41.367Z"
   },
   {
    "duration": 61,
    "start_time": "2021-09-13T08:06:47.678Z"
   },
   {
    "duration": 36,
    "start_time": "2021-09-13T09:11:22.736Z"
   },
   {
    "duration": 24,
    "start_time": "2021-09-13T09:11:58.675Z"
   },
   {
    "duration": 36,
    "start_time": "2021-09-13T09:13:11.694Z"
   },
   {
    "duration": 38,
    "start_time": "2021-09-13T09:13:52.362Z"
   },
   {
    "duration": 36,
    "start_time": "2021-09-13T09:16:00.007Z"
   },
   {
    "duration": 41,
    "start_time": "2021-09-13T09:16:38.231Z"
   },
   {
    "duration": 93,
    "start_time": "2021-09-13T09:17:49.096Z"
   },
   {
    "duration": 7,
    "start_time": "2021-09-13T09:17:49.191Z"
   },
   {
    "duration": 4,
    "start_time": "2021-09-13T09:17:49.202Z"
   },
   {
    "duration": 46,
    "start_time": "2021-09-13T09:17:49.210Z"
   },
   {
    "duration": 31,
    "start_time": "2021-09-13T09:17:49.258Z"
   },
   {
    "duration": 7,
    "start_time": "2021-09-13T09:17:49.292Z"
   },
   {
    "duration": 16,
    "start_time": "2021-09-13T09:17:49.301Z"
   },
   {
    "duration": 22,
    "start_time": "2021-09-13T09:17:49.357Z"
   },
   {
    "duration": 24,
    "start_time": "2021-09-13T09:17:49.383Z"
   },
   {
    "duration": 17,
    "start_time": "2021-09-13T09:17:49.409Z"
   },
   {
    "duration": 44,
    "start_time": "2021-09-13T09:17:49.428Z"
   },
   {
    "duration": 18,
    "start_time": "2021-09-13T09:17:49.475Z"
   },
   {
    "duration": 14,
    "start_time": "2021-09-13T09:17:49.496Z"
   },
   {
    "duration": 103,
    "start_time": "2021-09-13T09:17:49.512Z"
   },
   {
    "duration": 381,
    "start_time": "2021-09-13T09:24:38.476Z"
   },
   {
    "duration": 366,
    "start_time": "2021-09-13T09:26:28.963Z"
   },
   {
    "duration": 374,
    "start_time": "2021-09-13T09:29:51.464Z"
   },
   {
    "duration": 899,
    "start_time": "2021-09-13T09:30:45.970Z"
   },
   {
    "duration": 40,
    "start_time": "2021-09-13T09:32:37.108Z"
   },
   {
    "duration": 899,
    "start_time": "2021-09-13T09:33:11.195Z"
   },
   {
    "duration": 923,
    "start_time": "2021-09-13T09:34:19.592Z"
   },
   {
    "duration": 944,
    "start_time": "2021-09-13T09:40:02.735Z"
   },
   {
    "duration": 377,
    "start_time": "2021-09-13T09:45:38.262Z"
   },
   {
    "duration": 91,
    "start_time": "2021-09-13T09:45:54.443Z"
   },
   {
    "duration": 20,
    "start_time": "2021-09-13T09:45:54.537Z"
   },
   {
    "duration": 6,
    "start_time": "2021-09-13T09:45:54.560Z"
   },
   {
    "duration": 15,
    "start_time": "2021-09-13T09:45:54.568Z"
   },
   {
    "duration": 27,
    "start_time": "2021-09-13T09:45:54.585Z"
   },
   {
    "duration": 5,
    "start_time": "2021-09-13T09:45:54.614Z"
   },
   {
    "duration": 15,
    "start_time": "2021-09-13T09:45:54.657Z"
   },
   {
    "duration": 1097,
    "start_time": "2021-09-13T09:46:03.513Z"
   },
   {
    "duration": 6,
    "start_time": "2021-09-13T09:47:34.250Z"
   },
   {
    "duration": 376,
    "start_time": "2021-09-13T09:49:00.820Z"
   },
   {
    "duration": 383,
    "start_time": "2021-09-13T09:49:07.756Z"
   },
   {
    "duration": 11,
    "start_time": "2021-09-13T09:49:16.869Z"
   },
   {
    "duration": 89,
    "start_time": "2021-09-13T09:51:06.714Z"
   },
   {
    "duration": 7,
    "start_time": "2021-09-13T09:51:06.806Z"
   },
   {
    "duration": 10,
    "start_time": "2021-09-13T09:51:06.816Z"
   },
   {
    "duration": 33,
    "start_time": "2021-09-13T09:51:06.829Z"
   },
   {
    "duration": 49,
    "start_time": "2021-09-13T09:51:06.864Z"
   },
   {
    "duration": 12,
    "start_time": "2021-09-13T09:51:06.916Z"
   },
   {
    "duration": 23,
    "start_time": "2021-09-13T09:51:06.931Z"
   },
   {
    "duration": 30,
    "start_time": "2021-09-13T09:51:06.957Z"
   },
   {
    "duration": 28,
    "start_time": "2021-09-13T09:51:06.990Z"
   },
   {
    "duration": 25,
    "start_time": "2021-09-13T09:51:07.020Z"
   },
   {
    "duration": 42,
    "start_time": "2021-09-13T09:51:07.047Z"
   },
   {
    "duration": 32,
    "start_time": "2021-09-13T09:51:07.091Z"
   },
   {
    "duration": 28,
    "start_time": "2021-09-13T09:51:07.126Z"
   },
   {
    "duration": 84,
    "start_time": "2021-09-13T09:51:07.158Z"
   },
   {
    "duration": 7402,
    "start_time": "2021-09-13T09:52:55.369Z"
   },
   {
    "duration": 7651,
    "start_time": "2021-09-13T09:53:29.811Z"
   },
   {
    "duration": 350,
    "start_time": "2021-09-13T09:54:28.678Z"
   },
   {
    "duration": 3675,
    "start_time": "2021-09-13T10:19:10.141Z"
   },
   {
    "duration": 5,
    "start_time": "2021-09-13T10:22:09.643Z"
   },
   {
    "duration": 5442,
    "start_time": "2021-09-13T10:30:35.110Z"
   },
   {
    "duration": 414,
    "start_time": "2021-09-13T10:32:26.312Z"
   },
   {
    "duration": 924,
    "start_time": "2021-09-13T10:32:42.087Z"
   },
   {
    "duration": 99,
    "start_time": "2021-09-13T10:33:04.882Z"
   },
   {
    "duration": 7,
    "start_time": "2021-09-13T10:33:04.984Z"
   },
   {
    "duration": 13,
    "start_time": "2021-09-13T10:33:04.995Z"
   },
   {
    "duration": 22,
    "start_time": "2021-09-13T10:33:05.011Z"
   },
   {
    "duration": 45,
    "start_time": "2021-09-13T10:33:05.035Z"
   },
   {
    "duration": 9,
    "start_time": "2021-09-13T10:33:05.083Z"
   },
   {
    "duration": 28,
    "start_time": "2021-09-13T10:33:05.095Z"
   },
   {
    "duration": 48,
    "start_time": "2021-09-13T10:33:05.126Z"
   },
   {
    "duration": 18,
    "start_time": "2021-09-13T10:33:05.176Z"
   },
   {
    "duration": 28,
    "start_time": "2021-09-13T10:33:05.196Z"
   },
   {
    "duration": 34,
    "start_time": "2021-09-13T10:33:05.226Z"
   },
   {
    "duration": 17,
    "start_time": "2021-09-13T10:33:05.262Z"
   },
   {
    "duration": 23,
    "start_time": "2021-09-13T10:33:05.281Z"
   },
   {
    "duration": 90,
    "start_time": "2021-09-13T10:33:05.307Z"
   },
   {
    "duration": 426,
    "start_time": "2021-09-13T10:34:32.723Z"
   },
   {
    "duration": 681,
    "start_time": "2021-09-13T10:34:53.335Z"
   },
   {
    "duration": 1251,
    "start_time": "2021-09-13T10:35:09.216Z"
   },
   {
    "duration": 1621,
    "start_time": "2021-09-13T10:36:48.432Z"
   },
   {
    "duration": 5483,
    "start_time": "2021-09-13T10:39:01.496Z"
   },
   {
    "duration": 591,
    "start_time": "2021-09-13T10:39:57.272Z"
   },
   {
    "duration": 5906,
    "start_time": "2021-09-13T10:40:08.235Z"
   },
   {
    "duration": 942,
    "start_time": "2021-09-13T10:45:01.757Z"
   },
   {
    "duration": 942,
    "start_time": "2021-09-13T10:45:29.901Z"
   },
   {
    "duration": 439,
    "start_time": "2021-09-13T10:46:06.961Z"
   },
   {
    "duration": 415,
    "start_time": "2021-09-13T10:49:43.356Z"
   },
   {
    "duration": 608,
    "start_time": "2021-09-13T10:50:15.585Z"
   },
   {
    "duration": 365,
    "start_time": "2021-09-13T10:50:46.289Z"
   },
   {
    "duration": 597,
    "start_time": "2021-09-13T10:51:08.290Z"
   },
   {
    "duration": 5008,
    "start_time": "2021-09-13T10:52:17.595Z"
   },
   {
    "duration": 387,
    "start_time": "2021-09-13T10:52:33.737Z"
   },
   {
    "duration": 4825,
    "start_time": "2021-09-13T10:52:45.224Z"
   },
   {
    "duration": 4531,
    "start_time": "2021-09-13T10:53:24.259Z"
   },
   {
    "duration": 23,
    "start_time": "2021-09-13T10:54:27.270Z"
   },
   {
    "duration": 19,
    "start_time": "2021-09-13T10:54:49.726Z"
   },
   {
    "duration": 4812,
    "start_time": "2021-09-13T10:55:32.619Z"
   },
   {
    "duration": 4539,
    "start_time": "2021-09-13T10:57:08.850Z"
   },
   {
    "duration": 5003,
    "start_time": "2021-09-13T10:57:22.962Z"
   },
   {
    "duration": 4568,
    "start_time": "2021-09-13T10:59:06.953Z"
   },
   {
    "duration": 4767,
    "start_time": "2021-09-13T11:00:06.956Z"
   },
   {
    "duration": 372,
    "start_time": "2021-09-13T11:00:34.063Z"
   },
   {
    "duration": 357,
    "start_time": "2021-09-13T11:00:46.801Z"
   },
   {
    "duration": 4722,
    "start_time": "2021-09-13T11:01:04.743Z"
   },
   {
    "duration": 378,
    "start_time": "2021-09-13T11:03:23.564Z"
   },
   {
    "duration": 355,
    "start_time": "2021-09-13T11:03:45.334Z"
   },
   {
    "duration": 894,
    "start_time": "2021-09-13T11:05:10.679Z"
   },
   {
    "duration": 463,
    "start_time": "2021-09-13T11:06:55.237Z"
   },
   {
    "duration": 360,
    "start_time": "2021-09-13T11:07:26.697Z"
   },
   {
    "duration": 5781,
    "start_time": "2021-09-13T11:08:18.258Z"
   },
   {
    "duration": 8463,
    "start_time": "2021-09-13T11:08:35.308Z"
   },
   {
    "duration": 8963,
    "start_time": "2021-09-13T11:08:56.090Z"
   },
   {
    "duration": 4599,
    "start_time": "2021-09-13T11:11:29.545Z"
   },
   {
    "duration": 1317,
    "start_time": "2021-09-14T02:45:21.982Z"
   },
   {
    "duration": 71,
    "start_time": "2021-09-14T02:45:59.856Z"
   },
   {
    "duration": 5,
    "start_time": "2021-09-14T02:45:59.929Z"
   },
   {
    "duration": 3,
    "start_time": "2021-09-14T02:45:59.935Z"
   },
   {
    "duration": 7,
    "start_time": "2021-09-14T02:45:59.939Z"
   },
   {
    "duration": 43,
    "start_time": "2021-09-14T02:45:59.947Z"
   },
   {
    "duration": 4,
    "start_time": "2021-09-14T02:45:59.992Z"
   },
   {
    "duration": 12,
    "start_time": "2021-09-14T02:45:59.998Z"
   },
   {
    "duration": 14,
    "start_time": "2021-09-14T02:46:00.012Z"
   },
   {
    "duration": 13,
    "start_time": "2021-09-14T02:46:00.028Z"
   },
   {
    "duration": 37,
    "start_time": "2021-09-14T02:46:00.043Z"
   },
   {
    "duration": 12,
    "start_time": "2021-09-14T02:46:00.082Z"
   },
   {
    "duration": 10,
    "start_time": "2021-09-14T02:46:00.096Z"
   },
   {
    "duration": 11,
    "start_time": "2021-09-14T02:46:00.107Z"
   },
   {
    "duration": 69,
    "start_time": "2021-09-14T02:46:00.119Z"
   },
   {
    "duration": 3400,
    "start_time": "2021-09-14T02:46:43.626Z"
   },
   {
    "duration": 1312,
    "start_time": "2021-09-14T02:52:25.696Z"
   },
   {
    "duration": 73,
    "start_time": "2021-09-14T02:52:37.659Z"
   },
   {
    "duration": 6,
    "start_time": "2021-09-14T02:52:37.734Z"
   },
   {
    "duration": 3,
    "start_time": "2021-09-14T02:52:37.743Z"
   },
   {
    "duration": 8,
    "start_time": "2021-09-14T02:52:37.776Z"
   },
   {
    "duration": 22,
    "start_time": "2021-09-14T02:52:37.786Z"
   },
   {
    "duration": 5,
    "start_time": "2021-09-14T02:52:37.810Z"
   },
   {
    "duration": 13,
    "start_time": "2021-09-14T02:52:37.817Z"
   },
   {
    "duration": 57,
    "start_time": "2021-09-14T02:52:37.834Z"
   },
   {
    "duration": 12,
    "start_time": "2021-09-14T02:52:37.893Z"
   },
   {
    "duration": 10,
    "start_time": "2021-09-14T02:52:37.907Z"
   },
   {
    "duration": 14,
    "start_time": "2021-09-14T02:52:37.920Z"
   },
   {
    "duration": 49,
    "start_time": "2021-09-14T02:52:37.936Z"
   },
   {
    "duration": 12,
    "start_time": "2021-09-14T02:52:37.987Z"
   },
   {
    "duration": 49,
    "start_time": "2021-09-14T02:52:38.001Z"
   },
   {
    "duration": 3,
    "start_time": "2021-09-14T02:52:38.076Z"
   },
   {
    "duration": 3429,
    "start_time": "2021-09-14T02:52:41.125Z"
   },
   {
    "duration": 117,
    "start_time": "2021-09-14T03:58:13.835Z"
   },
   {
    "duration": 2276,
    "start_time": "2021-09-14T04:18:02.957Z"
   },
   {
    "duration": 2481,
    "start_time": "2021-09-14T04:19:33.552Z"
   },
   {
    "duration": 71,
    "start_time": "2021-09-14T04:19:40.975Z"
   },
   {
    "duration": 5,
    "start_time": "2021-09-14T04:19:41.047Z"
   },
   {
    "duration": 4,
    "start_time": "2021-09-14T04:19:41.054Z"
   },
   {
    "duration": 23,
    "start_time": "2021-09-14T04:19:41.060Z"
   },
   {
    "duration": 20,
    "start_time": "2021-09-14T04:19:41.085Z"
   },
   {
    "duration": 4,
    "start_time": "2021-09-14T04:19:41.107Z"
   },
   {
    "duration": 17,
    "start_time": "2021-09-14T04:19:41.113Z"
   },
   {
    "duration": 16,
    "start_time": "2021-09-14T04:19:41.133Z"
   },
   {
    "duration": 35,
    "start_time": "2021-09-14T04:19:41.151Z"
   },
   {
    "duration": 40,
    "start_time": "2021-09-14T04:19:41.187Z"
   },
   {
    "duration": 19,
    "start_time": "2021-09-14T04:19:41.229Z"
   },
   {
    "duration": 52,
    "start_time": "2021-09-14T04:19:41.250Z"
   },
   {
    "duration": 29,
    "start_time": "2021-09-14T04:19:41.303Z"
   },
   {
    "duration": 57,
    "start_time": "2021-09-14T04:19:41.333Z"
   },
   {
    "duration": 28,
    "start_time": "2021-09-14T04:19:45.326Z"
   },
   {
    "duration": 18,
    "start_time": "2021-09-14T04:20:01.790Z"
   },
   {
    "duration": 29,
    "start_time": "2021-09-14T04:23:22.145Z"
   },
   {
    "duration": 19,
    "start_time": "2021-09-14T04:24:56.662Z"
   },
   {
    "duration": 26,
    "start_time": "2021-09-14T04:25:39.918Z"
   },
   {
    "duration": 20,
    "start_time": "2021-09-14T04:26:17.991Z"
   },
   {
    "duration": 17,
    "start_time": "2021-09-14T04:26:33.228Z"
   },
   {
    "duration": 339,
    "start_time": "2021-09-14T04:29:34.016Z"
   },
   {
    "duration": 74,
    "start_time": "2021-09-14T04:32:27.186Z"
   },
   {
    "duration": 5,
    "start_time": "2021-09-14T04:32:27.262Z"
   },
   {
    "duration": 8,
    "start_time": "2021-09-14T04:32:27.269Z"
   },
   {
    "duration": 11,
    "start_time": "2021-09-14T04:32:27.279Z"
   },
   {
    "duration": 23,
    "start_time": "2021-09-14T04:32:27.292Z"
   },
   {
    "duration": 4,
    "start_time": "2021-09-14T04:32:27.317Z"
   },
   {
    "duration": 15,
    "start_time": "2021-09-14T04:32:27.323Z"
   },
   {
    "duration": 49,
    "start_time": "2021-09-14T04:32:27.341Z"
   },
   {
    "duration": 11,
    "start_time": "2021-09-14T04:32:27.393Z"
   },
   {
    "duration": 11,
    "start_time": "2021-09-14T04:32:27.406Z"
   },
   {
    "duration": 21,
    "start_time": "2021-09-14T04:32:27.419Z"
   },
   {
    "duration": 36,
    "start_time": "2021-09-14T04:32:27.442Z"
   },
   {
    "duration": 22,
    "start_time": "2021-09-14T04:32:27.480Z"
   },
   {
    "duration": 50,
    "start_time": "2021-09-14T04:32:27.504Z"
   },
   {
    "duration": 43,
    "start_time": "2021-09-14T04:32:27.556Z"
   },
   {
    "duration": 453,
    "start_time": "2021-09-14T04:32:30.296Z"
   },
   {
    "duration": 586,
    "start_time": "2021-09-14T04:32:57.718Z"
   },
   {
    "duration": 515,
    "start_time": "2021-09-14T04:33:17.254Z"
   },
   {
    "duration": 27,
    "start_time": "2021-09-14T04:33:34.152Z"
   },
   {
    "duration": 71,
    "start_time": "2021-09-14T04:37:32.335Z"
   },
   {
    "duration": 5,
    "start_time": "2021-09-14T04:37:32.408Z"
   },
   {
    "duration": 5,
    "start_time": "2021-09-14T04:37:32.415Z"
   },
   {
    "duration": 10,
    "start_time": "2021-09-14T04:37:32.422Z"
   },
   {
    "duration": 21,
    "start_time": "2021-09-14T04:37:32.434Z"
   },
   {
    "duration": 5,
    "start_time": "2021-09-14T04:37:32.477Z"
   },
   {
    "duration": 19,
    "start_time": "2021-09-14T04:37:32.484Z"
   },
   {
    "duration": 17,
    "start_time": "2021-09-14T04:37:32.506Z"
   },
   {
    "duration": 9,
    "start_time": "2021-09-14T04:37:32.525Z"
   },
   {
    "duration": 44,
    "start_time": "2021-09-14T04:37:32.536Z"
   },
   {
    "duration": 17,
    "start_time": "2021-09-14T04:37:32.582Z"
   },
   {
    "duration": 12,
    "start_time": "2021-09-14T04:37:32.601Z"
   },
   {
    "duration": 11,
    "start_time": "2021-09-14T04:37:32.616Z"
   },
   {
    "duration": 84,
    "start_time": "2021-09-14T04:37:32.629Z"
   },
   {
    "duration": 26,
    "start_time": "2021-09-14T04:37:32.715Z"
   },
   {
    "duration": 29,
    "start_time": "2021-09-14T04:37:33.073Z"
   },
   {
    "duration": 2,
    "start_time": "2021-09-14T04:37:33.104Z"
   },
   {
    "duration": 4113,
    "start_time": "2021-09-14T04:37:33.108Z"
   },
   {
    "duration": 6,
    "start_time": "2021-09-14T05:21:23.034Z"
   },
   {
    "duration": 75,
    "start_time": "2021-09-14T05:22:32.274Z"
   },
   {
    "duration": 6,
    "start_time": "2021-09-14T05:22:32.352Z"
   },
   {
    "duration": 6,
    "start_time": "2021-09-14T05:22:32.361Z"
   },
   {
    "duration": 14,
    "start_time": "2021-09-14T05:22:32.370Z"
   },
   {
    "duration": 74,
    "start_time": "2021-09-14T05:25:36.651Z"
   },
   {
    "duration": 6,
    "start_time": "2021-09-14T05:25:36.727Z"
   },
   {
    "duration": 109,
    "start_time": "2021-09-14T05:25:36.736Z"
   },
   {
    "duration": -57,
    "start_time": "2021-09-14T05:25:36.904Z"
   },
   {
    "duration": 4,
    "start_time": "2021-09-14T05:25:44.352Z"
   },
   {
    "duration": 74,
    "start_time": "2021-09-14T05:26:01.532Z"
   },
   {
    "duration": 5,
    "start_time": "2021-09-14T05:26:01.609Z"
   },
   {
    "duration": 27,
    "start_time": "2021-09-14T05:26:01.617Z"
   },
   {
    "duration": 33,
    "start_time": "2021-09-14T05:26:01.646Z"
   },
   {
    "duration": 102,
    "start_time": "2021-09-14T05:26:01.681Z"
   },
   {
    "duration": 4,
    "start_time": "2021-09-14T05:26:01.785Z"
   },
   {
    "duration": 14,
    "start_time": "2021-09-14T05:26:01.791Z"
   },
   {
    "duration": 19,
    "start_time": "2021-09-14T05:26:01.808Z"
   },
   {
    "duration": 22,
    "start_time": "2021-09-14T05:26:01.829Z"
   },
   {
    "duration": 29,
    "start_time": "2021-09-14T05:26:01.854Z"
   },
   {
    "duration": 14,
    "start_time": "2021-09-14T05:26:01.884Z"
   },
   {
    "duration": 13,
    "start_time": "2021-09-14T05:26:01.900Z"
   },
   {
    "duration": 15,
    "start_time": "2021-09-14T05:26:01.915Z"
   },
   {
    "duration": 81,
    "start_time": "2021-09-14T05:26:01.932Z"
   },
   {
    "duration": 27,
    "start_time": "2021-09-14T05:26:02.015Z"
   },
   {
    "duration": 46,
    "start_time": "2021-09-14T05:26:02.044Z"
   },
   {
    "duration": 3,
    "start_time": "2021-09-14T05:26:02.092Z"
   },
   {
    "duration": 4019,
    "start_time": "2021-09-14T05:26:02.097Z"
   },
   {
    "duration": 17,
    "start_time": "2021-09-14T05:27:34.644Z"
   },
   {
    "duration": 350,
    "start_time": "2021-09-14T05:29:21.146Z"
   },
   {
    "duration": 6,
    "start_time": "2021-09-14T05:29:30.117Z"
   },
   {
    "duration": 9,
    "start_time": "2021-09-14T05:29:49.389Z"
   },
   {
    "duration": 6,
    "start_time": "2021-09-14T05:30:26.348Z"
   },
   {
    "duration": 6,
    "start_time": "2021-09-14T05:31:14.735Z"
   },
   {
    "duration": 67,
    "start_time": "2021-09-14T05:31:25.769Z"
   },
   {
    "duration": 6,
    "start_time": "2021-09-14T05:31:26.482Z"
   },
   {
    "duration": 24,
    "start_time": "2021-09-14T05:31:26.490Z"
   },
   {
    "duration": 71,
    "start_time": "2021-09-14T05:36:15.281Z"
   },
   {
    "duration": 4,
    "start_time": "2021-09-14T05:36:15.354Z"
   },
   {
    "duration": 17,
    "start_time": "2021-09-14T05:36:15.360Z"
   },
   {
    "duration": 73,
    "start_time": "2021-09-14T05:37:49.999Z"
   },
   {
    "duration": 4,
    "start_time": "2021-09-14T05:37:50.075Z"
   },
   {
    "duration": 26,
    "start_time": "2021-09-14T05:37:50.082Z"
   },
   {
    "duration": 124,
    "start_time": "2021-09-14T05:40:03.313Z"
   },
   {
    "duration": 130,
    "start_time": "2021-09-14T05:54:16.220Z"
   },
   {
    "duration": 5,
    "start_time": "2021-09-14T05:54:23.433Z"
   },
   {
    "duration": 6,
    "start_time": "2021-09-14T05:55:18.249Z"
   },
   {
    "duration": 72,
    "start_time": "2021-09-14T05:55:26.558Z"
   },
   {
    "duration": 4,
    "start_time": "2021-09-14T05:55:26.632Z"
   },
   {
    "duration": 31,
    "start_time": "2021-09-14T05:55:26.638Z"
   },
   {
    "duration": 43,
    "start_time": "2021-09-14T05:55:26.671Z"
   },
   {
    "duration": 12,
    "start_time": "2021-09-14T05:55:26.717Z"
   },
   {
    "duration": 71,
    "start_time": "2021-09-14T05:56:49.676Z"
   },
   {
    "duration": 4,
    "start_time": "2021-09-14T05:56:49.749Z"
   },
   {
    "duration": 14,
    "start_time": "2021-09-14T05:56:49.755Z"
   },
   {
    "duration": 23,
    "start_time": "2021-09-14T05:56:49.771Z"
   },
   {
    "duration": 5,
    "start_time": "2021-09-14T05:56:49.796Z"
   },
   {
    "duration": 12,
    "start_time": "2021-09-14T05:58:16.911Z"
   },
   {
    "duration": 81,
    "start_time": "2021-09-14T06:39:27.969Z"
   },
   {
    "duration": 118,
    "start_time": "2021-09-14T07:04:33.259Z"
   },
   {
    "duration": 74,
    "start_time": "2021-09-14T08:23:41.854Z"
   },
   {
    "duration": 4,
    "start_time": "2021-09-14T08:23:41.930Z"
   },
   {
    "duration": 10,
    "start_time": "2021-09-14T08:23:41.937Z"
   },
   {
    "duration": 45,
    "start_time": "2021-09-14T08:23:41.949Z"
   },
   {
    "duration": 6,
    "start_time": "2021-09-14T08:23:41.997Z"
   },
   {
    "duration": 14,
    "start_time": "2021-09-14T08:23:42.005Z"
   },
   {
    "duration": 17,
    "start_time": "2021-09-14T08:23:42.021Z"
   },
   {
    "duration": 43,
    "start_time": "2021-09-14T08:23:42.041Z"
   },
   {
    "duration": 12,
    "start_time": "2021-09-14T08:23:42.086Z"
   },
   {
    "duration": 15,
    "start_time": "2021-09-14T08:23:42.101Z"
   },
   {
    "duration": 13,
    "start_time": "2021-09-14T08:23:42.118Z"
   },
   {
    "duration": 56,
    "start_time": "2021-09-14T08:23:42.133Z"
   },
   {
    "duration": 85,
    "start_time": "2021-09-14T08:23:42.192Z"
   },
   {
    "duration": 34,
    "start_time": "2021-09-14T08:23:42.279Z"
   },
   {
    "duration": 28,
    "start_time": "2021-09-14T08:23:42.316Z"
   },
   {
    "duration": 3,
    "start_time": "2021-09-14T08:23:42.346Z"
   },
   {
    "duration": 4566,
    "start_time": "2021-09-14T08:23:42.350Z"
   },
   {
    "duration": 9,
    "start_time": "2021-09-14T08:28:45.190Z"
   },
   {
    "duration": 231,
    "start_time": "2021-09-14T08:31:26.984Z"
   },
   {
    "duration": 344,
    "start_time": "2021-09-14T08:31:34.595Z"
   },
   {
    "duration": 362,
    "start_time": "2021-09-14T08:31:45.662Z"
   },
   {
    "duration": 418,
    "start_time": "2021-09-14T08:31:56.920Z"
   },
   {
    "duration": 8,
    "start_time": "2021-09-14T08:32:04.478Z"
   },
   {
    "duration": 8,
    "start_time": "2021-09-14T08:32:43.466Z"
   },
   {
    "duration": 8,
    "start_time": "2021-09-14T08:33:15.345Z"
   },
   {
    "duration": 797,
    "start_time": "2021-09-14T08:33:54.090Z"
   },
   {
    "duration": 73,
    "start_time": "2021-09-14T08:34:04.967Z"
   },
   {
    "duration": 4,
    "start_time": "2021-09-14T08:34:05.113Z"
   },
   {
    "duration": 14,
    "start_time": "2021-09-14T08:34:05.119Z"
   },
   {
    "duration": 26,
    "start_time": "2021-09-14T08:34:05.135Z"
   },
   {
    "duration": 6,
    "start_time": "2021-09-14T08:34:05.163Z"
   },
   {
    "duration": 12,
    "start_time": "2021-09-14T08:34:05.171Z"
   },
   {
    "duration": 16,
    "start_time": "2021-09-14T08:34:05.185Z"
   },
   {
    "duration": 10,
    "start_time": "2021-09-14T08:34:05.203Z"
   },
   {
    "duration": 18,
    "start_time": "2021-09-14T08:34:05.215Z"
   },
   {
    "duration": 41,
    "start_time": "2021-09-14T08:34:05.236Z"
   },
   {
    "duration": 12,
    "start_time": "2021-09-14T08:34:05.279Z"
   },
   {
    "duration": 14,
    "start_time": "2021-09-14T08:34:05.293Z"
   },
   {
    "duration": 68,
    "start_time": "2021-09-14T08:34:05.309Z"
   },
   {
    "duration": 26,
    "start_time": "2021-09-14T08:34:05.379Z"
   },
   {
    "duration": 29,
    "start_time": "2021-09-14T08:34:05.407Z"
   },
   {
    "duration": 2,
    "start_time": "2021-09-14T08:34:05.438Z"
   },
   {
    "duration": 4205,
    "start_time": "2021-09-14T08:34:05.442Z"
   },
   {
    "duration": 9,
    "start_time": "2021-09-14T08:34:09.649Z"
   },
   {
    "duration": 24,
    "start_time": "2021-09-14T08:34:09.659Z"
   },
   {
    "duration": 109,
    "start_time": "2021-09-14T10:50:14.554Z"
   },
   {
    "duration": 5,
    "start_time": "2021-09-14T10:50:14.678Z"
   },
   {
    "duration": 13,
    "start_time": "2021-09-14T10:50:14.687Z"
   },
   {
    "duration": 33,
    "start_time": "2021-09-14T10:50:14.703Z"
   },
   {
    "duration": 38,
    "start_time": "2021-09-14T10:50:14.739Z"
   },
   {
    "duration": 11,
    "start_time": "2021-09-14T10:50:14.779Z"
   },
   {
    "duration": 16,
    "start_time": "2021-09-14T10:50:14.792Z"
   },
   {
    "duration": 13,
    "start_time": "2021-09-14T10:50:14.811Z"
   },
   {
    "duration": 19,
    "start_time": "2021-09-14T10:50:14.826Z"
   },
   {
    "duration": 37,
    "start_time": "2021-09-14T10:50:14.848Z"
   },
   {
    "duration": 14,
    "start_time": "2021-09-14T10:50:14.888Z"
   },
   {
    "duration": 11,
    "start_time": "2021-09-14T10:50:14.904Z"
   },
   {
    "duration": 80,
    "start_time": "2021-09-14T10:50:14.917Z"
   },
   {
    "duration": 26,
    "start_time": "2021-09-14T10:50:14.999Z"
   },
   {
    "duration": 32,
    "start_time": "2021-09-14T10:50:15.027Z"
   },
   {
    "duration": 3,
    "start_time": "2021-09-14T10:50:15.077Z"
   },
   {
    "duration": 4437,
    "start_time": "2021-09-14T10:50:15.082Z"
   },
   {
    "duration": 9,
    "start_time": "2021-09-14T10:50:19.521Z"
   },
   {
    "duration": 10,
    "start_time": "2021-09-14T10:50:19.532Z"
   },
   {
    "duration": 4,
    "start_time": "2021-09-14T10:50:19.544Z"
   },
   {
    "duration": 6,
    "start_time": "2021-09-14T10:51:02.189Z"
   },
   {
    "duration": 409,
    "start_time": "2021-09-14T11:09:36.168Z"
   },
   {
    "duration": 15,
    "start_time": "2021-09-14T11:09:54.189Z"
   },
   {
    "duration": 19,
    "start_time": "2021-09-14T11:10:17.932Z"
   },
   {
    "duration": 141,
    "start_time": "2021-09-14T11:12:00.960Z"
   },
   {
    "duration": 23,
    "start_time": "2021-09-14T11:12:12.215Z"
   },
   {
    "duration": 29,
    "start_time": "2021-09-14T11:14:46.620Z"
   },
   {
    "duration": 84,
    "start_time": "2021-09-14T11:16:19.605Z"
   },
   {
    "duration": 5,
    "start_time": "2021-09-14T11:16:19.691Z"
   },
   {
    "duration": 19,
    "start_time": "2021-09-14T11:16:19.698Z"
   },
   {
    "duration": 40,
    "start_time": "2021-09-14T11:16:19.720Z"
   },
   {
    "duration": 7,
    "start_time": "2021-09-14T11:16:19.762Z"
   },
   {
    "duration": 12,
    "start_time": "2021-09-14T11:16:19.783Z"
   },
   {
    "duration": 21,
    "start_time": "2021-09-14T11:16:19.797Z"
   },
   {
    "duration": 24,
    "start_time": "2021-09-14T11:16:19.820Z"
   },
   {
    "duration": 27,
    "start_time": "2021-09-14T11:16:19.847Z"
   },
   {
    "duration": 23,
    "start_time": "2021-09-14T11:16:19.876Z"
   },
   {
    "duration": 31,
    "start_time": "2021-09-14T11:16:19.901Z"
   },
   {
    "duration": 22,
    "start_time": "2021-09-14T11:16:19.934Z"
   },
   {
    "duration": 62,
    "start_time": "2021-09-14T11:16:19.958Z"
   },
   {
    "duration": 53,
    "start_time": "2021-09-14T11:16:20.023Z"
   },
   {
    "duration": 27,
    "start_time": "2021-09-14T11:16:20.078Z"
   },
   {
    "duration": 3,
    "start_time": "2021-09-14T11:16:20.107Z"
   },
   {
    "duration": 4124,
    "start_time": "2021-09-14T11:16:20.111Z"
   },
   {
    "duration": 10,
    "start_time": "2021-09-14T11:16:24.238Z"
   },
   {
    "duration": 36,
    "start_time": "2021-09-14T11:16:24.250Z"
   },
   {
    "duration": 41,
    "start_time": "2021-09-14T11:16:24.288Z"
   },
   {
    "duration": 49,
    "start_time": "2021-09-14T11:16:24.331Z"
   },
   {
    "duration": 511,
    "start_time": "2021-09-14T11:18:57.052Z"
   },
   {
    "duration": 28,
    "start_time": "2021-09-14T11:19:17.022Z"
   },
   {
    "duration": 511,
    "start_time": "2021-09-14T11:20:45.766Z"
   },
   {
    "duration": 19,
    "start_time": "2021-09-14T11:21:21.466Z"
   },
   {
    "duration": 3424,
    "start_time": "2021-09-14T11:25:01.309Z"
   },
   {
    "duration": 6,
    "start_time": "2021-09-14T11:25:25.427Z"
   },
   {
    "duration": 140,
    "start_time": "2021-09-14T11:29:11.088Z"
   },
   {
    "duration": 141,
    "start_time": "2021-09-14T11:29:35.658Z"
   },
   {
    "duration": 132,
    "start_time": "2021-09-14T11:30:01.721Z"
   },
   {
    "duration": 3092,
    "start_time": "2021-09-14T11:31:10.205Z"
   },
   {
    "duration": 2775,
    "start_time": "2021-09-14T11:33:08.835Z"
   },
   {
    "duration": 73,
    "start_time": "2021-09-14T11:37:09.965Z"
   },
   {
    "duration": 4,
    "start_time": "2021-09-14T11:37:10.040Z"
   },
   {
    "duration": 34,
    "start_time": "2021-09-14T11:37:10.046Z"
   },
   {
    "duration": 29,
    "start_time": "2021-09-14T11:37:10.082Z"
   },
   {
    "duration": 56,
    "start_time": "2021-09-14T11:37:10.113Z"
   },
   {
    "duration": 37,
    "start_time": "2021-09-14T11:37:10.172Z"
   },
   {
    "duration": 22,
    "start_time": "2021-09-14T11:37:10.211Z"
   },
   {
    "duration": 14,
    "start_time": "2021-09-14T11:37:10.236Z"
   },
   {
    "duration": 15,
    "start_time": "2021-09-14T11:37:10.253Z"
   },
   {
    "duration": 26,
    "start_time": "2021-09-14T11:37:10.270Z"
   },
   {
    "duration": 13,
    "start_time": "2021-09-14T11:37:10.299Z"
   },
   {
    "duration": 19,
    "start_time": "2021-09-14T11:37:10.314Z"
   },
   {
    "duration": 57,
    "start_time": "2021-09-14T11:37:10.335Z"
   },
   {
    "duration": 26,
    "start_time": "2021-09-14T11:37:10.394Z"
   },
   {
    "duration": 27,
    "start_time": "2021-09-14T11:37:10.422Z"
   },
   {
    "duration": 25,
    "start_time": "2021-09-14T11:37:10.452Z"
   },
   {
    "duration": 3958,
    "start_time": "2021-09-14T11:37:10.479Z"
   },
   {
    "duration": 8,
    "start_time": "2021-09-14T11:37:14.440Z"
   },
   {
    "duration": 28,
    "start_time": "2021-09-14T11:37:14.450Z"
   },
   {
    "duration": 6,
    "start_time": "2021-09-14T11:37:14.480Z"
   },
   {
    "duration": 23,
    "start_time": "2021-09-14T11:37:14.488Z"
   },
   {
    "duration": 78,
    "start_time": "2021-09-14T11:38:25.146Z"
   },
   {
    "duration": 5,
    "start_time": "2021-09-14T11:38:25.226Z"
   },
   {
    "duration": 13,
    "start_time": "2021-09-14T11:38:25.234Z"
   },
   {
    "duration": 42,
    "start_time": "2021-09-14T11:38:25.249Z"
   },
   {
    "duration": 6,
    "start_time": "2021-09-14T11:38:25.293Z"
   },
   {
    "duration": 15,
    "start_time": "2021-09-14T11:38:25.301Z"
   },
   {
    "duration": 16,
    "start_time": "2021-09-14T11:38:25.318Z"
   },
   {
    "duration": 46,
    "start_time": "2021-09-14T11:38:25.337Z"
   },
   {
    "duration": 9,
    "start_time": "2021-09-14T11:38:25.385Z"
   },
   {
    "duration": 15,
    "start_time": "2021-09-14T11:38:25.396Z"
   },
   {
    "duration": 11,
    "start_time": "2021-09-14T11:38:25.413Z"
   },
   {
    "duration": 13,
    "start_time": "2021-09-14T11:38:25.426Z"
   },
   {
    "duration": 78,
    "start_time": "2021-09-14T11:38:25.441Z"
   },
   {
    "duration": 24,
    "start_time": "2021-09-14T11:38:25.521Z"
   },
   {
    "duration": 48,
    "start_time": "2021-09-14T11:38:25.547Z"
   },
   {
    "duration": 2,
    "start_time": "2021-09-14T11:38:25.597Z"
   },
   {
    "duration": 4103,
    "start_time": "2021-09-14T11:38:25.601Z"
   },
   {
    "duration": 9,
    "start_time": "2021-09-14T11:38:29.706Z"
   },
   {
    "duration": 9,
    "start_time": "2021-09-14T11:38:29.716Z"
   },
   {
    "duration": 5,
    "start_time": "2021-09-14T11:38:29.727Z"
   },
   {
    "duration": 48,
    "start_time": "2021-09-14T11:38:29.734Z"
   },
   {
    "duration": 20,
    "start_time": "2021-09-14T11:39:27.976Z"
   },
   {
    "duration": 469,
    "start_time": "2021-09-14T11:42:41.859Z"
   },
   {
    "duration": 2830,
    "start_time": "2021-09-14T11:43:45.695Z"
   },
   {
    "duration": 71,
    "start_time": "2021-09-14T11:44:25.422Z"
   },
   {
    "duration": 355,
    "start_time": "2021-09-14T11:44:56.008Z"
   },
   {
    "duration": 27,
    "start_time": "2021-09-14T12:09:32.801Z"
   },
   {
    "duration": 32,
    "start_time": "2021-09-14T12:11:08.856Z"
   },
   {
    "duration": 25,
    "start_time": "2021-09-14T12:11:25.532Z"
   },
   {
    "duration": 26,
    "start_time": "2021-09-14T12:13:34.345Z"
   },
   {
    "duration": 4,
    "start_time": "2021-09-14T12:19:04.121Z"
   },
   {
    "duration": 4,
    "start_time": "2021-09-14T12:19:56.446Z"
   },
   {
    "duration": 400,
    "start_time": "2021-09-14T12:26:18.836Z"
   },
   {
    "duration": 439,
    "start_time": "2021-09-14T12:27:31.063Z"
   },
   {
    "duration": 1618,
    "start_time": "2021-09-14T12:28:08.906Z"
   },
   {
    "duration": 1648,
    "start_time": "2021-09-14T12:28:41.548Z"
   },
   {
    "duration": 615,
    "start_time": "2021-09-14T12:28:50.017Z"
   },
   {
    "duration": 142,
    "start_time": "2021-09-14T12:29:06.091Z"
   },
   {
    "duration": 1114,
    "start_time": "2021-09-14T12:30:36.354Z"
   },
   {
    "duration": 15,
    "start_time": "2021-09-14T12:31:16.981Z"
   },
   {
    "duration": 23,
    "start_time": "2021-09-14T12:31:56.968Z"
   },
   {
    "duration": 28,
    "start_time": "2021-09-14T12:32:16.068Z"
   },
   {
    "duration": 28,
    "start_time": "2021-09-14T12:32:59.655Z"
   },
   {
    "duration": 523,
    "start_time": "2021-09-14T12:33:41.757Z"
   },
   {
    "duration": 26,
    "start_time": "2021-09-14T12:33:57.270Z"
   },
   {
    "duration": 644,
    "start_time": "2021-09-14T12:34:58.818Z"
   },
   {
    "duration": 22,
    "start_time": "2021-09-14T12:35:20.395Z"
   },
   {
    "duration": 282,
    "start_time": "2021-09-14T12:38:08.868Z"
   },
   {
    "duration": 48,
    "start_time": "2021-09-14T12:39:26.938Z"
   },
   {
    "duration": 30,
    "start_time": "2021-09-14T12:39:39.148Z"
   },
   {
    "duration": 29,
    "start_time": "2021-09-14T12:40:37.804Z"
   },
   {
    "duration": 26,
    "start_time": "2021-09-14T12:41:20.060Z"
   },
   {
    "duration": 26,
    "start_time": "2021-09-14T12:41:32.232Z"
   },
   {
    "duration": 20,
    "start_time": "2021-09-14T12:42:14.604Z"
   },
   {
    "duration": 20,
    "start_time": "2021-09-14T12:42:24.145Z"
   },
   {
    "duration": 15,
    "start_time": "2021-09-14T12:45:39.792Z"
   },
   {
    "duration": 15,
    "start_time": "2021-09-14T12:45:50.204Z"
   },
   {
    "duration": 20,
    "start_time": "2021-09-14T12:46:03.599Z"
   },
   {
    "duration": 415,
    "start_time": "2021-09-14T12:46:52.309Z"
   },
   {
    "duration": 24,
    "start_time": "2021-09-14T12:47:03.498Z"
   },
   {
    "duration": 140,
    "start_time": "2021-09-14T12:47:34.201Z"
   },
   {
    "duration": 23,
    "start_time": "2021-09-14T12:47:45.412Z"
   },
   {
    "duration": 19,
    "start_time": "2021-09-14T12:48:12.875Z"
   },
   {
    "duration": 1919,
    "start_time": "2021-09-14T12:52:18.537Z"
   },
   {
    "duration": 1816,
    "start_time": "2021-09-14T12:52:50.869Z"
   },
   {
    "duration": 1655,
    "start_time": "2021-09-14T12:55:50.727Z"
   },
   {
    "duration": 460,
    "start_time": "2021-09-14T12:56:13.917Z"
   },
   {
    "duration": 1641,
    "start_time": "2021-09-14T12:59:07.079Z"
   },
   {
    "duration": 19,
    "start_time": "2021-09-14T12:59:55.297Z"
   },
   {
    "duration": 21,
    "start_time": "2021-09-14T13:00:05.669Z"
   },
   {
    "duration": 22,
    "start_time": "2021-09-14T13:00:12.524Z"
   },
   {
    "duration": 74,
    "start_time": "2021-09-14T13:00:47.793Z"
   },
   {
    "duration": 4,
    "start_time": "2021-09-14T13:00:47.869Z"
   },
   {
    "duration": 12,
    "start_time": "2021-09-14T13:00:47.875Z"
   },
   {
    "duration": 24,
    "start_time": "2021-09-14T13:00:47.890Z"
   },
   {
    "duration": 7,
    "start_time": "2021-09-14T13:00:47.916Z"
   },
   {
    "duration": 14,
    "start_time": "2021-09-14T13:00:47.925Z"
   },
   {
    "duration": 42,
    "start_time": "2021-09-14T13:00:47.941Z"
   },
   {
    "duration": 14,
    "start_time": "2021-09-14T13:00:47.985Z"
   },
   {
    "duration": 15,
    "start_time": "2021-09-14T13:00:48.003Z"
   },
   {
    "duration": 19,
    "start_time": "2021-09-14T13:00:48.021Z"
   },
   {
    "duration": 37,
    "start_time": "2021-09-14T13:00:48.042Z"
   },
   {
    "duration": 12,
    "start_time": "2021-09-14T13:00:48.081Z"
   },
   {
    "duration": 51,
    "start_time": "2021-09-14T13:00:48.096Z"
   },
   {
    "duration": 49,
    "start_time": "2021-09-14T13:00:48.150Z"
   },
   {
    "duration": 28,
    "start_time": "2021-09-14T13:00:48.201Z"
   },
   {
    "duration": 3,
    "start_time": "2021-09-14T13:00:48.231Z"
   },
   {
    "duration": 4132,
    "start_time": "2021-09-14T13:00:48.235Z"
   },
   {
    "duration": 9,
    "start_time": "2021-09-14T13:00:52.377Z"
   },
   {
    "duration": 11,
    "start_time": "2021-09-14T13:00:52.388Z"
   },
   {
    "duration": 7,
    "start_time": "2021-09-14T13:00:52.400Z"
   },
   {
    "duration": 30,
    "start_time": "2021-09-14T13:00:52.409Z"
   },
   {
    "duration": 417,
    "start_time": "2021-09-14T13:00:52.477Z"
   },
   {
    "duration": 47,
    "start_time": "2021-09-14T13:01:15.124Z"
   },
   {
    "duration": 451,
    "start_time": "2021-09-14T13:05:36.016Z"
   },
   {
    "duration": 33,
    "start_time": "2021-09-14T13:05:45.232Z"
   },
   {
    "duration": 22836,
    "start_time": "2021-09-14T13:09:22.819Z"
   },
   {
    "duration": 20753,
    "start_time": "2021-09-14T13:10:46.069Z"
   },
   {
    "duration": 40,
    "start_time": "2021-09-14T13:14:10.033Z"
   },
   {
    "duration": 22307,
    "start_time": "2021-09-14T13:14:29.329Z"
   },
   {
    "duration": 54,
    "start_time": "2021-09-14T13:18:24.597Z"
   },
   {
    "duration": 52,
    "start_time": "2021-09-14T13:18:36.924Z"
   },
   {
    "duration": 51,
    "start_time": "2021-09-14T13:18:44.547Z"
   },
   {
    "duration": 229,
    "start_time": "2021-09-14T13:23:21.119Z"
   },
   {
    "duration": 5,
    "start_time": "2021-09-14T13:24:24.529Z"
   },
   {
    "duration": 217,
    "start_time": "2021-09-14T13:34:29.587Z"
   },
   {
    "duration": 6,
    "start_time": "2021-09-14T13:34:38.441Z"
   },
   {
    "duration": 8,
    "start_time": "2021-09-14T13:34:53.478Z"
   },
   {
    "duration": 9,
    "start_time": "2021-09-14T13:43:38.714Z"
   },
   {
    "duration": 76,
    "start_time": "2021-09-14T13:45:27.719Z"
   },
   {
    "duration": 4,
    "start_time": "2021-09-14T13:45:27.797Z"
   },
   {
    "duration": 29,
    "start_time": "2021-09-14T13:45:27.803Z"
   },
   {
    "duration": 25,
    "start_time": "2021-09-14T13:45:27.834Z"
   },
   {
    "duration": 6,
    "start_time": "2021-09-14T13:45:27.861Z"
   },
   {
    "duration": 27,
    "start_time": "2021-09-14T13:45:27.868Z"
   },
   {
    "duration": 20,
    "start_time": "2021-09-14T13:45:27.897Z"
   },
   {
    "duration": 22,
    "start_time": "2021-09-14T13:45:27.920Z"
   },
   {
    "duration": 18,
    "start_time": "2021-09-14T13:45:27.944Z"
   },
   {
    "duration": 36,
    "start_time": "2021-09-14T13:45:27.964Z"
   },
   {
    "duration": 19,
    "start_time": "2021-09-14T13:45:28.003Z"
   },
   {
    "duration": 26,
    "start_time": "2021-09-14T13:45:28.025Z"
   },
   {
    "duration": 51,
    "start_time": "2021-09-14T13:45:28.053Z"
   },
   {
    "duration": 27,
    "start_time": "2021-09-14T13:45:28.106Z"
   },
   {
    "duration": 45,
    "start_time": "2021-09-14T13:45:28.135Z"
   },
   {
    "duration": 4007,
    "start_time": "2021-09-14T13:45:28.182Z"
   },
   {
    "duration": 9,
    "start_time": "2021-09-14T13:45:32.192Z"
   },
   {
    "duration": 156,
    "start_time": "2021-09-14T13:45:32.204Z"
   },
   {
    "duration": 8,
    "start_time": "2021-09-14T13:45:51.110Z"
   },
   {
    "duration": 20,
    "start_time": "2021-09-14T14:00:45.550Z"
   },
   {
    "duration": 360,
    "start_time": "2021-09-14T14:10:04.936Z"
   },
   {
    "duration": 191,
    "start_time": "2021-09-14T14:12:37.125Z"
   },
   {
    "duration": 5,
    "start_time": "2021-09-14T14:13:20.471Z"
   },
   {
    "duration": 8,
    "start_time": "2021-09-14T14:15:09.905Z"
   },
   {
    "duration": 155,
    "start_time": "2021-09-14T14:27:04.706Z"
   },
   {
    "duration": 78,
    "start_time": "2021-09-14T14:29:30.003Z"
   },
   {
    "duration": 4,
    "start_time": "2021-09-14T14:29:30.084Z"
   },
   {
    "duration": 14,
    "start_time": "2021-09-14T14:29:30.091Z"
   },
   {
    "duration": 23,
    "start_time": "2021-09-14T14:29:30.107Z"
   },
   {
    "duration": 43,
    "start_time": "2021-09-14T14:29:30.133Z"
   },
   {
    "duration": 13,
    "start_time": "2021-09-14T14:29:30.179Z"
   },
   {
    "duration": 22,
    "start_time": "2021-09-14T14:29:30.195Z"
   },
   {
    "duration": 9,
    "start_time": "2021-09-14T14:29:30.220Z"
   },
   {
    "duration": 19,
    "start_time": "2021-09-14T14:29:30.231Z"
   },
   {
    "duration": 14,
    "start_time": "2021-09-14T14:29:30.277Z"
   },
   {
    "duration": 12,
    "start_time": "2021-09-14T14:29:30.293Z"
   },
   {
    "duration": 25,
    "start_time": "2021-09-14T14:29:30.307Z"
   },
   {
    "duration": 70,
    "start_time": "2021-09-14T14:29:30.335Z"
   },
   {
    "duration": 27,
    "start_time": "2021-09-14T14:29:30.407Z"
   },
   {
    "duration": 49,
    "start_time": "2021-09-14T14:29:30.437Z"
   },
   {
    "duration": 3961,
    "start_time": "2021-09-14T14:29:30.489Z"
   },
   {
    "duration": 9,
    "start_time": "2021-09-14T14:29:34.452Z"
   },
   {
    "duration": 20,
    "start_time": "2021-09-14T14:29:34.463Z"
   },
   {
    "duration": 11,
    "start_time": "2021-09-14T14:29:50.070Z"
   },
   {
    "duration": 96,
    "start_time": "2021-09-14T14:34:12.625Z"
   },
   {
    "duration": 5,
    "start_time": "2021-09-14T14:34:12.724Z"
   },
   {
    "duration": 24,
    "start_time": "2021-09-14T14:34:12.732Z"
   },
   {
    "duration": 20,
    "start_time": "2021-09-14T14:34:12.778Z"
   },
   {
    "duration": 6,
    "start_time": "2021-09-14T14:34:12.800Z"
   },
   {
    "duration": 29,
    "start_time": "2021-09-14T14:34:12.808Z"
   },
   {
    "duration": 21,
    "start_time": "2021-09-14T14:34:12.840Z"
   },
   {
    "duration": 19,
    "start_time": "2021-09-14T14:34:12.876Z"
   },
   {
    "duration": 19,
    "start_time": "2021-09-14T14:34:12.898Z"
   },
   {
    "duration": 41,
    "start_time": "2021-09-14T14:34:12.919Z"
   },
   {
    "duration": 13,
    "start_time": "2021-09-14T14:34:12.962Z"
   },
   {
    "duration": 21,
    "start_time": "2021-09-14T14:34:12.978Z"
   },
   {
    "duration": 48,
    "start_time": "2021-09-14T14:34:13.002Z"
   },
   {
    "duration": 38,
    "start_time": "2021-09-14T14:34:13.051Z"
   },
   {
    "duration": 29,
    "start_time": "2021-09-14T14:34:13.091Z"
   },
   {
    "duration": 4172,
    "start_time": "2021-09-14T14:34:13.122Z"
   },
   {
    "duration": 11,
    "start_time": "2021-09-14T14:34:17.297Z"
   },
   {
    "duration": 28,
    "start_time": "2021-09-14T14:34:17.310Z"
   },
   {
    "duration": 14,
    "start_time": "2021-09-14T14:34:17.340Z"
   },
   {
    "duration": 30,
    "start_time": "2021-09-14T14:34:17.356Z"
   },
   {
    "duration": 369,
    "start_time": "2021-09-14T14:34:17.388Z"
   },
   {
    "duration": 200,
    "start_time": "2021-09-14T14:34:17.759Z"
   },
   {
    "duration": 5,
    "start_time": "2021-09-14T14:34:17.962Z"
   },
   {
    "duration": 18,
    "start_time": "2021-09-14T14:34:17.976Z"
   },
   {
    "duration": 77,
    "start_time": "2021-09-14T14:40:07.560Z"
   },
   {
    "duration": 4,
    "start_time": "2021-09-14T14:40:07.639Z"
   },
   {
    "duration": 39,
    "start_time": "2021-09-14T14:40:07.645Z"
   },
   {
    "duration": 38,
    "start_time": "2021-09-14T14:40:07.686Z"
   },
   {
    "duration": 7,
    "start_time": "2021-09-14T14:40:07.726Z"
   },
   {
    "duration": 12,
    "start_time": "2021-09-14T14:40:07.735Z"
   },
   {
    "duration": 36,
    "start_time": "2021-09-14T14:40:07.749Z"
   },
   {
    "duration": 11,
    "start_time": "2021-09-14T14:40:07.788Z"
   },
   {
    "duration": 13,
    "start_time": "2021-09-14T14:40:07.802Z"
   },
   {
    "duration": 21,
    "start_time": "2021-09-14T14:40:07.817Z"
   },
   {
    "duration": 46,
    "start_time": "2021-09-14T14:40:07.840Z"
   },
   {
    "duration": 12,
    "start_time": "2021-09-14T14:40:07.888Z"
   },
   {
    "duration": 76,
    "start_time": "2021-09-14T14:40:07.903Z"
   },
   {
    "duration": 27,
    "start_time": "2021-09-14T14:40:07.981Z"
   },
   {
    "duration": 28,
    "start_time": "2021-09-14T14:40:08.010Z"
   },
   {
    "duration": 4308,
    "start_time": "2021-09-14T14:40:08.040Z"
   },
   {
    "duration": 26,
    "start_time": "2021-09-14T14:40:12.350Z"
   },
   {
    "duration": 9,
    "start_time": "2021-09-14T14:40:12.379Z"
   },
   {
    "duration": 14,
    "start_time": "2021-09-14T14:40:12.390Z"
   },
   {
    "duration": 23,
    "start_time": "2021-09-14T14:40:12.406Z"
   },
   {
    "duration": 427,
    "start_time": "2021-09-14T14:40:12.431Z"
   },
   {
    "duration": 201,
    "start_time": "2021-09-14T14:40:12.860Z"
   },
   {
    "duration": 6,
    "start_time": "2021-09-14T14:40:19.721Z"
   },
   {
    "duration": 8,
    "start_time": "2021-09-14T14:40:56.764Z"
   },
   {
    "duration": 883,
    "start_time": "2021-09-14T18:52:08.825Z"
   },
   {
    "duration": 5,
    "start_time": "2021-09-14T18:52:09.711Z"
   },
   {
    "duration": 16,
    "start_time": "2021-09-14T18:52:09.720Z"
   },
   {
    "duration": 25,
    "start_time": "2021-09-14T18:52:09.755Z"
   },
   {
    "duration": 8,
    "start_time": "2021-09-14T18:52:09.782Z"
   },
   {
    "duration": 15,
    "start_time": "2021-09-14T18:52:09.792Z"
   },
   {
    "duration": 59,
    "start_time": "2021-09-14T18:52:09.809Z"
   },
   {
    "duration": 18,
    "start_time": "2021-09-14T18:52:09.872Z"
   },
   {
    "duration": 12,
    "start_time": "2021-09-14T18:52:09.894Z"
   },
   {
    "duration": 49,
    "start_time": "2021-09-14T18:52:09.908Z"
   },
   {
    "duration": 18,
    "start_time": "2021-09-14T18:52:09.959Z"
   },
   {
    "duration": 15,
    "start_time": "2021-09-14T18:52:09.980Z"
   },
   {
    "duration": 94,
    "start_time": "2021-09-14T18:52:09.998Z"
   },
   {
    "duration": 31,
    "start_time": "2021-09-14T18:52:10.095Z"
   },
   {
    "duration": 57,
    "start_time": "2021-09-14T18:52:10.129Z"
   },
   {
    "duration": 4731,
    "start_time": "2021-09-14T18:52:10.188Z"
   },
   {
    "duration": 10,
    "start_time": "2021-09-14T18:52:14.921Z"
   },
   {
    "duration": 23,
    "start_time": "2021-09-14T18:52:14.934Z"
   },
   {
    "duration": 15,
    "start_time": "2021-09-14T18:52:14.959Z"
   },
   {
    "duration": 31,
    "start_time": "2021-09-14T18:52:14.976Z"
   },
   {
    "duration": 607,
    "start_time": "2021-09-14T18:52:15.009Z"
   },
   {
    "duration": 275,
    "start_time": "2021-09-14T18:52:15.618Z"
   },
   {
    "duration": 6,
    "start_time": "2021-09-14T18:52:15.897Z"
   },
   {
    "duration": 19,
    "start_time": "2021-09-14T18:52:15.906Z"
   },
   {
    "duration": 423,
    "start_time": "2021-09-14T19:01:04.455Z"
   },
   {
    "duration": 257,
    "start_time": "2021-09-14T19:01:10.964Z"
   },
   {
    "duration": 8939,
    "start_time": "2021-09-14T19:01:25.766Z"
   },
   {
    "duration": 277,
    "start_time": "2021-09-14T19:07:31.359Z"
   },
   {
    "duration": 250,
    "start_time": "2021-09-14T19:10:07.576Z"
   },
   {
    "duration": 814,
    "start_time": "2021-09-14T19:10:44.403Z"
   },
   {
    "duration": 6,
    "start_time": "2021-09-14T19:10:45.220Z"
   },
   {
    "duration": 31,
    "start_time": "2021-09-14T19:10:45.229Z"
   },
   {
    "duration": 24,
    "start_time": "2021-09-14T19:10:45.263Z"
   },
   {
    "duration": 8,
    "start_time": "2021-09-14T19:10:45.290Z"
   },
   {
    "duration": 26,
    "start_time": "2021-09-14T19:10:45.300Z"
   },
   {
    "duration": 33,
    "start_time": "2021-09-14T19:10:45.356Z"
   },
   {
    "duration": 11,
    "start_time": "2021-09-14T19:10:45.393Z"
   },
   {
    "duration": 48,
    "start_time": "2021-09-14T19:10:45.407Z"
   },
   {
    "duration": 26,
    "start_time": "2021-09-14T19:10:45.457Z"
   },
   {
    "duration": 17,
    "start_time": "2021-09-14T19:10:45.485Z"
   },
   {
    "duration": 37,
    "start_time": "2021-09-14T19:10:45.504Z"
   },
   {
    "duration": 73,
    "start_time": "2021-09-14T19:10:45.544Z"
   },
   {
    "duration": 52,
    "start_time": "2021-09-14T19:10:45.620Z"
   },
   {
    "duration": 40,
    "start_time": "2021-09-14T19:10:45.675Z"
   },
   {
    "duration": 4678,
    "start_time": "2021-09-14T19:10:45.718Z"
   },
   {
    "duration": 445,
    "start_time": "2021-09-14T19:10:50.398Z"
   },
   {
    "duration": 422,
    "start_time": "2021-09-14T19:10:50.424Z"
   },
   {
    "duration": 415,
    "start_time": "2021-09-14T19:10:50.432Z"
   },
   {
    "duration": 411,
    "start_time": "2021-09-14T19:10:50.438Z"
   },
   {
    "duration": 406,
    "start_time": "2021-09-14T19:10:50.444Z"
   },
   {
    "duration": 401,
    "start_time": "2021-09-14T19:10:50.450Z"
   },
   {
    "duration": 397,
    "start_time": "2021-09-14T19:10:50.456Z"
   },
   {
    "duration": 391,
    "start_time": "2021-09-14T19:10:50.463Z"
   },
   {
    "duration": 377,
    "start_time": "2021-09-14T19:10:50.478Z"
   },
   {
    "duration": 3671,
    "start_time": "2021-09-14T19:11:19.269Z"
   },
   {
    "duration": 11,
    "start_time": "2021-09-14T19:11:30.268Z"
   },
   {
    "duration": 23,
    "start_time": "2021-09-14T19:11:30.282Z"
   },
   {
    "duration": 14,
    "start_time": "2021-09-14T19:11:30.364Z"
   },
   {
    "duration": 31,
    "start_time": "2021-09-14T19:11:31.002Z"
   },
   {
    "duration": 563,
    "start_time": "2021-09-14T19:11:31.696Z"
   },
   {
    "duration": 262,
    "start_time": "2021-09-14T19:11:32.261Z"
   },
   {
    "duration": 6,
    "start_time": "2021-09-14T19:11:32.618Z"
   },
   {
    "duration": 11,
    "start_time": "2021-09-14T19:11:33.353Z"
   },
   {
    "duration": 136,
    "start_time": "2021-09-14T19:17:52.237Z"
   },
   {
    "duration": 658,
    "start_time": "2021-09-15T05:33:31.253Z"
   },
   {
    "duration": 4,
    "start_time": "2021-09-15T05:33:31.946Z"
   },
   {
    "duration": 9,
    "start_time": "2021-09-15T05:33:32.119Z"
   },
   {
    "duration": 292,
    "start_time": "2021-09-15T05:41:25.810Z"
   },
   {
    "duration": 3598,
    "start_time": "2021-09-15T05:41:42.228Z"
   },
   {
    "duration": 83,
    "start_time": "2021-09-15T05:42:33.470Z"
   },
   {
    "duration": 6,
    "start_time": "2021-09-15T05:42:39.140Z"
   },
   {
    "duration": 14,
    "start_time": "2021-09-15T05:42:58.617Z"
   },
   {
    "duration": 7,
    "start_time": "2021-09-15T05:43:40.430Z"
   },
   {
    "duration": 9,
    "start_time": "2021-09-15T05:53:32.481Z"
   },
   {
    "duration": 318,
    "start_time": "2021-09-15T05:58:49.352Z"
   },
   {
    "duration": 11,
    "start_time": "2021-09-15T05:59:31.235Z"
   },
   {
    "duration": 11,
    "start_time": "2021-09-15T06:01:10.244Z"
   },
   {
    "duration": 14,
    "start_time": "2021-09-15T06:01:33.354Z"
   },
   {
    "duration": 65,
    "start_time": "2021-09-15T06:01:47.130Z"
   },
   {
    "duration": 3,
    "start_time": "2021-09-15T06:01:47.197Z"
   },
   {
    "duration": 13,
    "start_time": "2021-09-15T06:01:47.202Z"
   },
   {
    "duration": 6,
    "start_time": "2021-09-15T06:01:47.217Z"
   },
   {
    "duration": 15,
    "start_time": "2021-09-15T06:01:58.061Z"
   },
   {
    "duration": 13,
    "start_time": "2021-09-15T06:03:22.462Z"
   },
   {
    "duration": 17,
    "start_time": "2021-09-15T06:03:54.234Z"
   },
   {
    "duration": 18,
    "start_time": "2021-09-15T06:07:23.633Z"
   },
   {
    "duration": 279,
    "start_time": "2021-09-15T06:08:04.442Z"
   },
   {
    "duration": 247,
    "start_time": "2021-09-15T06:08:19.360Z"
   },
   {
    "duration": 11,
    "start_time": "2021-09-15T06:09:21.994Z"
   },
   {
    "duration": 11,
    "start_time": "2021-09-15T06:10:13.216Z"
   },
   {
    "duration": 13,
    "start_time": "2021-09-15T06:10:40.519Z"
   },
   {
    "duration": 65,
    "start_time": "2021-09-15T06:13:22.849Z"
   },
   {
    "duration": 30,
    "start_time": "2021-09-15T06:13:22.916Z"
   },
   {
    "duration": 3,
    "start_time": "2021-09-15T06:13:22.949Z"
   },
   {
    "duration": 14,
    "start_time": "2021-09-15T06:13:22.954Z"
   },
   {
    "duration": 27,
    "start_time": "2021-09-15T06:13:22.970Z"
   },
   {
    "duration": 14,
    "start_time": "2021-09-15T06:13:22.999Z"
   },
   {
    "duration": 69,
    "start_time": "2021-09-15T06:27:50.266Z"
   },
   {
    "duration": 33,
    "start_time": "2021-09-15T06:27:50.337Z"
   },
   {
    "duration": 4,
    "start_time": "2021-09-15T06:27:50.371Z"
   },
   {
    "duration": 6,
    "start_time": "2021-09-15T06:27:50.392Z"
   },
   {
    "duration": 10,
    "start_time": "2021-09-15T06:27:50.399Z"
   },
   {
    "duration": 12,
    "start_time": "2021-09-15T06:31:48.687Z"
   },
   {
    "duration": 7,
    "start_time": "2021-09-15T06:32:12.272Z"
   },
   {
    "duration": 5,
    "start_time": "2021-09-15T06:36:02.910Z"
   },
   {
    "duration": 67,
    "start_time": "2021-09-15T06:50:07.336Z"
   },
   {
    "duration": 30,
    "start_time": "2021-09-15T06:50:07.404Z"
   },
   {
    "duration": 4,
    "start_time": "2021-09-15T06:50:07.436Z"
   },
   {
    "duration": 126,
    "start_time": "2021-09-15T06:50:07.442Z"
   },
   {
    "duration": -274,
    "start_time": "2021-09-15T06:50:07.844Z"
   },
   {
    "duration": -276,
    "start_time": "2021-09-15T06:50:07.847Z"
   },
   {
    "duration": -278,
    "start_time": "2021-09-15T06:50:07.850Z"
   },
   {
    "duration": 65,
    "start_time": "2021-09-15T06:51:59.268Z"
   },
   {
    "duration": 31,
    "start_time": "2021-09-15T06:51:59.335Z"
   },
   {
    "duration": 4,
    "start_time": "2021-09-15T06:51:59.368Z"
   },
   {
    "duration": 19,
    "start_time": "2021-09-15T06:51:59.374Z"
   },
   {
    "duration": 8,
    "start_time": "2021-09-15T06:51:59.395Z"
   },
   {
    "duration": 9,
    "start_time": "2021-09-15T06:51:59.404Z"
   },
   {
    "duration": 67,
    "start_time": "2021-09-15T06:53:50.320Z"
   },
   {
    "duration": 31,
    "start_time": "2021-09-15T06:53:50.389Z"
   },
   {
    "duration": 5,
    "start_time": "2021-09-15T06:53:50.422Z"
   },
   {
    "duration": 12,
    "start_time": "2021-09-15T06:53:50.429Z"
   },
   {
    "duration": 6,
    "start_time": "2021-09-15T06:53:50.443Z"
   },
   {
    "duration": 5,
    "start_time": "2021-09-15T06:53:50.451Z"
   },
   {
    "duration": 5,
    "start_time": "2021-09-15T06:53:50.458Z"
   },
   {
    "duration": 39,
    "start_time": "2021-09-15T06:53:50.465Z"
   },
   {
    "duration": 66,
    "start_time": "2021-09-15T07:09:57.302Z"
   },
   {
    "duration": 30,
    "start_time": "2021-09-15T07:09:57.370Z"
   },
   {
    "duration": 3,
    "start_time": "2021-09-15T07:09:57.403Z"
   },
   {
    "duration": 9,
    "start_time": "2021-09-15T07:09:57.408Z"
   },
   {
    "duration": 17,
    "start_time": "2021-09-15T07:09:57.419Z"
   },
   {
    "duration": 8,
    "start_time": "2021-09-15T07:09:57.438Z"
   },
   {
    "duration": 11,
    "start_time": "2021-09-15T07:09:57.447Z"
   },
   {
    "duration": 32,
    "start_time": "2021-09-15T07:09:57.460Z"
   },
   {
    "duration": 495,
    "start_time": "2021-09-15T07:09:57.494Z"
   },
   {
    "duration": 68,
    "start_time": "2021-09-15T07:10:24.365Z"
   },
   {
    "duration": 34,
    "start_time": "2021-09-15T07:10:24.434Z"
   },
   {
    "duration": 4,
    "start_time": "2021-09-15T07:10:24.470Z"
   },
   {
    "duration": 6,
    "start_time": "2021-09-15T07:10:24.491Z"
   },
   {
    "duration": 8,
    "start_time": "2021-09-15T07:10:24.499Z"
   },
   {
    "duration": 15,
    "start_time": "2021-09-15T07:10:24.510Z"
   },
   {
    "duration": 6,
    "start_time": "2021-09-15T07:10:24.527Z"
   },
   {
    "duration": 17,
    "start_time": "2021-09-15T07:10:24.536Z"
   },
   {
    "duration": 834,
    "start_time": "2021-09-15T07:11:11.239Z"
   },
   {
    "duration": 81,
    "start_time": "2021-09-15T07:11:40.846Z"
   },
   {
    "duration": 244,
    "start_time": "2021-09-15T07:11:48.022Z"
   },
   {
    "duration": 4105,
    "start_time": "2021-09-15T07:13:09.825Z"
   },
   {
    "duration": 8,
    "start_time": "2021-09-15T07:14:52.366Z"
   },
   {
    "duration": 258,
    "start_time": "2021-09-15T07:17:20.883Z"
   },
   {
    "duration": 258,
    "start_time": "2021-09-15T07:18:04.505Z"
   },
   {
    "duration": 3175,
    "start_time": "2021-09-15T07:20:04.888Z"
   },
   {
    "duration": 3046,
    "start_time": "2021-09-15T07:20:53.499Z"
   },
   {
    "duration": 254,
    "start_time": "2021-09-15T07:21:22.259Z"
   },
   {
    "duration": 9,
    "start_time": "2021-09-15T07:22:38.624Z"
   },
   {
    "duration": 245,
    "start_time": "2021-09-15T07:22:57.792Z"
   },
   {
    "duration": 7,
    "start_time": "2021-09-15T07:23:32.683Z"
   },
   {
    "duration": 253,
    "start_time": "2021-09-15T07:24:53.577Z"
   },
   {
    "duration": 249,
    "start_time": "2021-09-15T07:27:32.285Z"
   },
   {
    "duration": 246,
    "start_time": "2021-09-15T07:28:11.383Z"
   },
   {
    "duration": 78,
    "start_time": "2021-09-15T07:29:04.379Z"
   },
   {
    "duration": 101,
    "start_time": "2021-09-15T07:29:52.264Z"
   },
   {
    "duration": 84,
    "start_time": "2021-09-15T07:30:17.683Z"
   },
   {
    "duration": 14,
    "start_time": "2021-09-15T07:31:42.091Z"
   },
   {
    "duration": 8,
    "start_time": "2021-09-15T07:32:03.402Z"
   },
   {
    "duration": 4359,
    "start_time": "2021-09-15T07:32:19.095Z"
   },
   {
    "duration": 79,
    "start_time": "2021-09-15T07:33:09.623Z"
   },
   {
    "duration": 3175,
    "start_time": "2021-09-15T07:33:18.568Z"
   },
   {
    "duration": 64,
    "start_time": "2021-09-15T07:33:38.450Z"
   },
   {
    "duration": 28,
    "start_time": "2021-09-15T07:33:38.516Z"
   },
   {
    "duration": 4,
    "start_time": "2021-09-15T07:33:38.546Z"
   },
   {
    "duration": 10,
    "start_time": "2021-09-15T07:33:38.551Z"
   },
   {
    "duration": 10,
    "start_time": "2021-09-15T07:33:38.562Z"
   },
   {
    "duration": 6,
    "start_time": "2021-09-15T07:33:38.592Z"
   },
   {
    "duration": 17,
    "start_time": "2021-09-15T07:33:38.599Z"
   },
   {
    "duration": 14,
    "start_time": "2021-09-15T07:33:44.032Z"
   },
   {
    "duration": 13,
    "start_time": "2021-09-15T07:34:00.422Z"
   },
   {
    "duration": 7,
    "start_time": "2021-09-15T07:34:35.591Z"
   },
   {
    "duration": 94,
    "start_time": "2021-09-15T07:34:57.613Z"
   },
   {
    "duration": 3461,
    "start_time": "2021-09-15T07:35:03.461Z"
   },
   {
    "duration": 4257,
    "start_time": "2021-09-15T07:35:16.403Z"
   },
   {
    "duration": 64,
    "start_time": "2021-09-15T07:35:36.742Z"
   },
   {
    "duration": 28,
    "start_time": "2021-09-15T07:35:36.808Z"
   },
   {
    "duration": 4,
    "start_time": "2021-09-15T07:35:36.838Z"
   },
   {
    "duration": 10,
    "start_time": "2021-09-15T07:35:36.843Z"
   },
   {
    "duration": 10,
    "start_time": "2021-09-15T07:35:36.854Z"
   },
   {
    "duration": 17,
    "start_time": "2021-09-15T07:35:36.865Z"
   },
   {
    "duration": 5,
    "start_time": "2021-09-15T07:35:36.891Z"
   },
   {
    "duration": 14,
    "start_time": "2021-09-15T07:35:37.251Z"
   },
   {
    "duration": 13,
    "start_time": "2021-09-15T07:35:50.894Z"
   },
   {
    "duration": 8,
    "start_time": "2021-09-15T07:36:31.140Z"
   },
   {
    "duration": 277,
    "start_time": "2021-09-15T07:36:44.732Z"
   },
   {
    "duration": 255,
    "start_time": "2021-09-15T07:36:58.681Z"
   },
   {
    "duration": 7,
    "start_time": "2021-09-15T07:37:14.400Z"
   },
   {
    "duration": 9,
    "start_time": "2021-09-15T07:37:47.192Z"
   },
   {
    "duration": 6237,
    "start_time": "2021-09-15T07:38:07.335Z"
   },
   {
    "duration": 8,
    "start_time": "2021-09-15T07:38:30.756Z"
   },
   {
    "duration": 240,
    "start_time": "2021-09-15T07:38:47.751Z"
   },
   {
    "duration": 11,
    "start_time": "2021-09-15T07:38:58.560Z"
   },
   {
    "duration": 82,
    "start_time": "2021-09-15T07:44:21.802Z"
   },
   {
    "duration": 86,
    "start_time": "2021-09-15T07:44:41.164Z"
   },
   {
    "duration": 15,
    "start_time": "2021-09-15T07:45:40.703Z"
   },
   {
    "duration": 245,
    "start_time": "2021-09-15T07:47:54.890Z"
   },
   {
    "duration": 14,
    "start_time": "2021-09-15T07:48:45.426Z"
   },
   {
    "duration": 252,
    "start_time": "2021-09-15T07:52:48.816Z"
   },
   {
    "duration": 1121,
    "start_time": "2021-09-15T07:53:34.007Z"
   },
   {
    "duration": 1495,
    "start_time": "2021-09-15T07:54:14.978Z"
   },
   {
    "duration": 977,
    "start_time": "2021-09-15T07:54:21.679Z"
   },
   {
    "duration": 15,
    "start_time": "2021-09-15T07:55:18.948Z"
   },
   {
    "duration": 15,
    "start_time": "2021-09-15T07:56:58.035Z"
   },
   {
    "duration": 22,
    "start_time": "2021-09-15T07:58:21.937Z"
   },
   {
    "duration": 66,
    "start_time": "2021-09-15T07:58:34.754Z"
   },
   {
    "duration": 31,
    "start_time": "2021-09-15T07:58:34.822Z"
   },
   {
    "duration": 5,
    "start_time": "2021-09-15T07:58:34.855Z"
   },
   {
    "duration": 30,
    "start_time": "2021-09-15T07:58:34.862Z"
   },
   {
    "duration": 11,
    "start_time": "2021-09-15T07:58:34.894Z"
   },
   {
    "duration": 16,
    "start_time": "2021-09-15T07:58:34.907Z"
   },
   {
    "duration": 6,
    "start_time": "2021-09-15T07:58:34.925Z"
   },
   {
    "duration": 15,
    "start_time": "2021-09-15T07:58:40.168Z"
   },
   {
    "duration": 38,
    "start_time": "2021-09-15T08:01:04.993Z"
   },
   {
    "duration": 63,
    "start_time": "2021-09-15T08:10:04.092Z"
   },
   {
    "duration": 37,
    "start_time": "2021-09-15T08:10:04.157Z"
   },
   {
    "duration": 4,
    "start_time": "2021-09-15T08:10:04.197Z"
   },
   {
    "duration": 17,
    "start_time": "2021-09-15T08:10:04.203Z"
   },
   {
    "duration": 30,
    "start_time": "2021-09-15T08:10:04.222Z"
   },
   {
    "duration": 28,
    "start_time": "2021-09-15T08:10:04.254Z"
   },
   {
    "duration": 20,
    "start_time": "2021-09-15T08:10:04.283Z"
   },
   {
    "duration": 28,
    "start_time": "2021-09-15T08:10:04.305Z"
   },
   {
    "duration": 17,
    "start_time": "2021-09-15T08:10:04.335Z"
   },
   {
    "duration": 48,
    "start_time": "2021-09-15T08:10:04.354Z"
   },
   {
    "duration": 12,
    "start_time": "2021-09-15T08:10:04.404Z"
   },
   {
    "duration": 40,
    "start_time": "2021-09-15T08:11:04.610Z"
   },
   {
    "duration": 11,
    "start_time": "2021-09-15T08:11:09.643Z"
   },
   {
    "duration": 63,
    "start_time": "2021-09-15T08:12:43.116Z"
   },
   {
    "duration": 28,
    "start_time": "2021-09-15T08:12:43.180Z"
   },
   {
    "duration": 4,
    "start_time": "2021-09-15T08:12:43.210Z"
   },
   {
    "duration": 9,
    "start_time": "2021-09-15T08:12:43.215Z"
   },
   {
    "duration": 7,
    "start_time": "2021-09-15T08:12:43.225Z"
   },
   {
    "duration": 5,
    "start_time": "2021-09-15T08:12:43.234Z"
   },
   {
    "duration": 8,
    "start_time": "2021-09-15T08:12:43.241Z"
   },
   {
    "duration": 13,
    "start_time": "2021-09-15T08:12:43.251Z"
   },
   {
    "duration": 27,
    "start_time": "2021-09-15T08:12:50.449Z"
   },
   {
    "duration": 29,
    "start_time": "2021-09-15T08:13:05.342Z"
   },
   {
    "duration": 12,
    "start_time": "2021-09-15T08:13:16.775Z"
   },
   {
    "duration": 67,
    "start_time": "2021-09-15T08:13:46.149Z"
   },
   {
    "duration": 30,
    "start_time": "2021-09-15T08:13:46.218Z"
   },
   {
    "duration": 5,
    "start_time": "2021-09-15T08:13:46.250Z"
   },
   {
    "duration": 34,
    "start_time": "2021-09-15T08:13:46.257Z"
   },
   {
    "duration": 7,
    "start_time": "2021-09-15T08:13:46.293Z"
   },
   {
    "duration": 7,
    "start_time": "2021-09-15T08:13:46.302Z"
   },
   {
    "duration": 7,
    "start_time": "2021-09-15T08:13:46.311Z"
   },
   {
    "duration": 21,
    "start_time": "2021-09-15T08:13:46.320Z"
   },
   {
    "duration": 240,
    "start_time": "2021-09-15T08:14:16.485Z"
   },
   {
    "duration": 29,
    "start_time": "2021-09-15T08:14:36.509Z"
   },
   {
    "duration": 11,
    "start_time": "2021-09-15T08:14:41.916Z"
   },
   {
    "duration": 15,
    "start_time": "2021-09-15T08:15:18.139Z"
   },
   {
    "duration": 14,
    "start_time": "2021-09-15T08:15:46.230Z"
   },
   {
    "duration": 19,
    "start_time": "2021-09-15T08:17:21.616Z"
   },
   {
    "duration": 18,
    "start_time": "2021-09-15T08:17:43.344Z"
   },
   {
    "duration": 19,
    "start_time": "2021-09-15T08:17:59.531Z"
   },
   {
    "duration": 20,
    "start_time": "2021-09-15T08:18:40.696Z"
   },
   {
    "duration": 19,
    "start_time": "2021-09-15T08:18:59.057Z"
   },
   {
    "duration": 18,
    "start_time": "2021-09-15T08:20:21.157Z"
   },
   {
    "duration": 321,
    "start_time": "2021-09-15T08:20:39.249Z"
   },
   {
    "duration": 21,
    "start_time": "2021-09-15T08:20:46.312Z"
   },
   {
    "duration": 19,
    "start_time": "2021-09-15T08:24:16.889Z"
   },
   {
    "duration": 7912,
    "start_time": "2021-09-15T08:27:23.113Z"
   },
   {
    "duration": 69,
    "start_time": "2021-09-15T08:27:47.979Z"
   },
   {
    "duration": 30,
    "start_time": "2021-09-15T08:27:48.050Z"
   },
   {
    "duration": 5,
    "start_time": "2021-09-15T08:27:48.092Z"
   },
   {
    "duration": 14,
    "start_time": "2021-09-15T08:27:48.099Z"
   },
   {
    "duration": 15,
    "start_time": "2021-09-15T08:27:48.116Z"
   },
   {
    "duration": 17,
    "start_time": "2021-09-15T08:27:48.132Z"
   },
   {
    "duration": 9,
    "start_time": "2021-09-15T08:27:48.150Z"
   },
   {
    "duration": 8215,
    "start_time": "2021-09-15T08:27:48.161Z"
   },
   {
    "duration": 8376,
    "start_time": "2021-09-15T08:28:32.109Z"
   },
   {
    "duration": 13,
    "start_time": "2021-09-15T08:29:02.793Z"
   },
   {
    "duration": 10362,
    "start_time": "2021-09-15T08:29:29.249Z"
   },
   {
    "duration": 16,
    "start_time": "2021-09-15T08:30:16.916Z"
   },
   {
    "duration": 290,
    "start_time": "2021-09-15T08:31:32.299Z"
   },
   {
    "duration": 255,
    "start_time": "2021-09-15T08:32:17.098Z"
   },
   {
    "duration": 12,
    "start_time": "2021-09-15T08:33:40.146Z"
   },
   {
    "duration": 63,
    "start_time": "2021-09-15T08:34:16.660Z"
   },
   {
    "duration": 29,
    "start_time": "2021-09-15T08:34:16.725Z"
   },
   {
    "duration": 3,
    "start_time": "2021-09-15T08:34:16.756Z"
   },
   {
    "duration": 8,
    "start_time": "2021-09-15T08:34:16.761Z"
   },
   {
    "duration": 22,
    "start_time": "2021-09-15T08:34:16.770Z"
   },
   {
    "duration": 6,
    "start_time": "2021-09-15T08:34:16.793Z"
   },
   {
    "duration": 7,
    "start_time": "2021-09-15T08:34:16.801Z"
   },
   {
    "duration": 11,
    "start_time": "2021-09-15T08:34:16.810Z"
   },
   {
    "duration": 2,
    "start_time": "2021-09-15T08:34:16.823Z"
   },
   {
    "duration": 19,
    "start_time": "2021-09-15T08:34:24.633Z"
   },
   {
    "duration": 11,
    "start_time": "2021-09-15T08:35:00.178Z"
   },
   {
    "duration": 1732,
    "start_time": "2021-09-15T08:35:22.706Z"
   },
   {
    "duration": 9,
    "start_time": "2021-09-15T08:36:21.768Z"
   },
   {
    "duration": 68,
    "start_time": "2021-09-15T10:04:18.740Z"
   },
   {
    "duration": 30,
    "start_time": "2021-09-15T10:04:18.809Z"
   },
   {
    "duration": 4,
    "start_time": "2021-09-15T10:04:18.841Z"
   },
   {
    "duration": 13,
    "start_time": "2021-09-15T10:04:18.847Z"
   },
   {
    "duration": 9,
    "start_time": "2021-09-15T10:04:18.861Z"
   },
   {
    "duration": 24,
    "start_time": "2021-09-15T10:04:18.872Z"
   },
   {
    "duration": 13,
    "start_time": "2021-09-15T10:04:18.898Z"
   },
   {
    "duration": 14,
    "start_time": "2021-09-15T10:04:18.913Z"
   },
   {
    "duration": 2,
    "start_time": "2021-09-15T10:04:18.929Z"
   },
   {
    "duration": 14,
    "start_time": "2021-09-15T10:04:47.295Z"
   },
   {
    "duration": 21,
    "start_time": "2021-09-15T10:09:39.995Z"
   },
   {
    "duration": 7,
    "start_time": "2021-09-15T10:12:03.550Z"
   },
   {
    "duration": 63,
    "start_time": "2021-09-15T10:12:29.455Z"
   },
   {
    "duration": 30,
    "start_time": "2021-09-15T10:12:29.520Z"
   },
   {
    "duration": 3,
    "start_time": "2021-09-15T10:12:29.552Z"
   },
   {
    "duration": 6,
    "start_time": "2021-09-15T10:12:29.612Z"
   },
   {
    "duration": 29,
    "start_time": "2021-09-15T10:12:29.620Z"
   },
   {
    "duration": 16,
    "start_time": "2021-09-15T10:12:29.652Z"
   },
   {
    "duration": 13,
    "start_time": "2021-09-15T10:12:29.669Z"
   },
   {
    "duration": 16,
    "start_time": "2021-09-15T10:12:29.683Z"
   },
   {
    "duration": 6,
    "start_time": "2021-09-15T10:12:45.377Z"
   },
   {
    "duration": 115,
    "start_time": "2021-09-15T10:13:10.720Z"
   },
   {
    "duration": 86,
    "start_time": "2021-09-15T10:13:35.719Z"
   },
   {
    "duration": 5969,
    "start_time": "2021-09-15T10:13:56.652Z"
   },
   {
    "duration": 6,
    "start_time": "2021-09-15T10:14:10.421Z"
   },
   {
    "duration": 5,
    "start_time": "2021-09-15T10:15:07.061Z"
   },
   {
    "duration": 63,
    "start_time": "2021-09-15T10:22:05.331Z"
   },
   {
    "duration": 29,
    "start_time": "2021-09-15T10:22:05.396Z"
   },
   {
    "duration": 4,
    "start_time": "2021-09-15T10:22:05.427Z"
   },
   {
    "duration": 14,
    "start_time": "2021-09-15T10:22:05.432Z"
   },
   {
    "duration": 7,
    "start_time": "2021-09-15T10:22:05.448Z"
   },
   {
    "duration": 14,
    "start_time": "2021-09-15T10:22:05.457Z"
   },
   {
    "duration": 22,
    "start_time": "2021-09-15T10:22:05.472Z"
   },
   {
    "duration": 14,
    "start_time": "2021-09-15T10:22:05.496Z"
   },
   {
    "duration": 5,
    "start_time": "2021-09-15T10:22:05.512Z"
   },
   {
    "duration": 22,
    "start_time": "2021-09-15T10:22:05.519Z"
   },
   {
    "duration": 2,
    "start_time": "2021-09-15T10:22:05.543Z"
   },
   {
    "duration": 77,
    "start_time": "2021-09-15T10:22:13.540Z"
   },
   {
    "duration": 30,
    "start_time": "2021-09-15T10:22:25.990Z"
   },
   {
    "duration": 11,
    "start_time": "2021-09-15T10:22:35.916Z"
   },
   {
    "duration": 6,
    "start_time": "2021-09-15T10:24:28.031Z"
   },
   {
    "duration": 65,
    "start_time": "2021-09-15T10:25:36.624Z"
   },
   {
    "duration": 30,
    "start_time": "2021-09-15T10:25:36.692Z"
   },
   {
    "duration": 4,
    "start_time": "2021-09-15T10:25:36.724Z"
   },
   {
    "duration": 9,
    "start_time": "2021-09-15T10:25:36.730Z"
   },
   {
    "duration": 6,
    "start_time": "2021-09-15T10:25:36.740Z"
   },
   {
    "duration": 6,
    "start_time": "2021-09-15T10:25:36.748Z"
   },
   {
    "duration": 6,
    "start_time": "2021-09-15T10:25:36.756Z"
   },
   {
    "duration": 41,
    "start_time": "2021-09-15T10:25:36.764Z"
   },
   {
    "duration": 4,
    "start_time": "2021-09-15T10:25:36.807Z"
   },
   {
    "duration": 25,
    "start_time": "2021-09-15T10:25:36.812Z"
   },
   {
    "duration": 27,
    "start_time": "2021-09-15T10:25:43.856Z"
   },
   {
    "duration": 4,
    "start_time": "2021-09-15T10:25:51.946Z"
   },
   {
    "duration": 9,
    "start_time": "2021-09-15T10:27:49.581Z"
   },
   {
    "duration": 64,
    "start_time": "2021-09-15T10:28:27.683Z"
   },
   {
    "duration": 43,
    "start_time": "2021-09-15T10:28:27.750Z"
   },
   {
    "duration": 4,
    "start_time": "2021-09-15T10:28:27.795Z"
   },
   {
    "duration": 14,
    "start_time": "2021-09-15T10:28:27.801Z"
   },
   {
    "duration": 8,
    "start_time": "2021-09-15T10:28:27.817Z"
   },
   {
    "duration": 8,
    "start_time": "2021-09-15T10:28:27.827Z"
   },
   {
    "duration": 6,
    "start_time": "2021-09-15T10:28:27.837Z"
   },
   {
    "duration": 14,
    "start_time": "2021-09-15T10:28:27.845Z"
   },
   {
    "duration": 34,
    "start_time": "2021-09-15T10:28:27.860Z"
   },
   {
    "duration": 20,
    "start_time": "2021-09-15T10:28:27.896Z"
   },
   {
    "duration": 3,
    "start_time": "2021-09-15T10:28:27.917Z"
   },
   {
    "duration": 16,
    "start_time": "2021-09-15T10:28:42.281Z"
   },
   {
    "duration": 5,
    "start_time": "2021-09-15T10:28:45.508Z"
   },
   {
    "duration": 19,
    "start_time": "2021-09-15T10:29:19.212Z"
   },
   {
    "duration": 5,
    "start_time": "2021-09-15T10:29:21.997Z"
   },
   {
    "duration": 65,
    "start_time": "2021-09-15T10:31:24.571Z"
   },
   {
    "duration": 28,
    "start_time": "2021-09-15T10:31:24.638Z"
   },
   {
    "duration": 3,
    "start_time": "2021-09-15T10:31:24.668Z"
   },
   {
    "duration": 22,
    "start_time": "2021-09-15T10:31:24.673Z"
   },
   {
    "duration": 17,
    "start_time": "2021-09-15T10:31:24.697Z"
   },
   {
    "duration": 14,
    "start_time": "2021-09-15T10:31:24.715Z"
   },
   {
    "duration": 24,
    "start_time": "2021-09-15T10:31:24.731Z"
   },
   {
    "duration": 31,
    "start_time": "2021-09-15T10:31:24.757Z"
   },
   {
    "duration": 7,
    "start_time": "2021-09-15T10:31:24.790Z"
   },
   {
    "duration": 29,
    "start_time": "2021-09-15T10:31:24.798Z"
   },
   {
    "duration": 3,
    "start_time": "2021-09-15T10:31:24.828Z"
   },
   {
    "duration": 8,
    "start_time": "2021-09-15T10:31:46.986Z"
   },
   {
    "duration": 299,
    "start_time": "2021-09-15T10:32:21.844Z"
   },
   {
    "duration": 7,
    "start_time": "2021-09-15T10:33:09.284Z"
   },
   {
    "duration": 82,
    "start_time": "2021-09-15T10:33:51.152Z"
   },
   {
    "duration": 8,
    "start_time": "2021-09-15T10:33:56.840Z"
   },
   {
    "duration": 7,
    "start_time": "2021-09-15T10:34:25.708Z"
   },
   {
    "duration": 67,
    "start_time": "2021-09-15T10:34:32.876Z"
   },
   {
    "duration": 47,
    "start_time": "2021-09-15T10:34:32.945Z"
   },
   {
    "duration": 5,
    "start_time": "2021-09-15T10:34:32.995Z"
   },
   {
    "duration": 8,
    "start_time": "2021-09-15T10:34:33.002Z"
   },
   {
    "duration": 9,
    "start_time": "2021-09-15T10:34:33.012Z"
   },
   {
    "duration": 14,
    "start_time": "2021-09-15T10:34:33.023Z"
   },
   {
    "duration": 7,
    "start_time": "2021-09-15T10:34:33.039Z"
   },
   {
    "duration": 48,
    "start_time": "2021-09-15T10:34:33.049Z"
   },
   {
    "duration": 5,
    "start_time": "2021-09-15T10:34:33.100Z"
   },
   {
    "duration": 20,
    "start_time": "2021-09-15T10:34:33.107Z"
   },
   {
    "duration": 3,
    "start_time": "2021-09-15T10:34:33.129Z"
   },
   {
    "duration": 10,
    "start_time": "2021-09-15T10:39:34.841Z"
   },
   {
    "duration": 107,
    "start_time": "2021-09-15T10:41:43.057Z"
   },
   {
    "duration": 1129,
    "start_time": "2021-09-15T10:42:06.450Z"
   },
   {
    "duration": 79,
    "start_time": "2021-09-15T10:43:46.865Z"
   },
   {
    "duration": 86,
    "start_time": "2021-09-15T10:44:42.229Z"
   },
   {
    "duration": 76,
    "start_time": "2021-09-15T10:45:13.033Z"
   },
   {
    "duration": 1324,
    "start_time": "2021-09-15T10:45:27.565Z"
   },
   {
    "duration": 953,
    "start_time": "2021-09-15T10:45:45.869Z"
   },
   {
    "duration": 20,
    "start_time": "2021-09-15T10:47:22.417Z"
   },
   {
    "duration": 13,
    "start_time": "2021-09-15T10:47:48.631Z"
   },
   {
    "duration": 10,
    "start_time": "2021-09-15T10:47:59.663Z"
   },
   {
    "duration": 11,
    "start_time": "2021-09-15T10:48:18.995Z"
   },
   {
    "duration": 18,
    "start_time": "2021-09-15T10:50:47.195Z"
   },
   {
    "duration": 88,
    "start_time": "2021-09-15T11:00:15.013Z"
   },
   {
    "duration": 272,
    "start_time": "2021-09-15T11:00:26.293Z"
   },
   {
    "duration": 243,
    "start_time": "2021-09-15T11:00:38.410Z"
   },
   {
    "duration": 244,
    "start_time": "2021-09-15T11:01:08.160Z"
   },
   {
    "duration": 8,
    "start_time": "2021-09-15T11:03:48.643Z"
   },
   {
    "duration": 16,
    "start_time": "2021-09-15T11:06:23.993Z"
   },
   {
    "duration": 13,
    "start_time": "2021-09-15T11:07:33.629Z"
   },
   {
    "duration": 6968,
    "start_time": "2021-09-15T11:07:46.581Z"
   },
   {
    "duration": 264,
    "start_time": "2021-09-15T11:08:00.891Z"
   },
   {
    "duration": 13,
    "start_time": "2021-09-15T11:08:21.805Z"
   },
   {
    "duration": 258,
    "start_time": "2021-09-15T11:08:55.627Z"
   },
   {
    "duration": 248,
    "start_time": "2021-09-15T11:09:20.665Z"
   },
   {
    "duration": 7160,
    "start_time": "2021-09-15T11:09:29.214Z"
   },
   {
    "duration": 11183,
    "start_time": "2021-09-15T11:10:25.964Z"
   },
   {
    "duration": 8148,
    "start_time": "2021-09-15T11:10:47.644Z"
   },
   {
    "duration": 13,
    "start_time": "2021-09-15T11:13:17.248Z"
   },
   {
    "duration": 250,
    "start_time": "2021-09-15T11:13:38.565Z"
   },
   {
    "duration": 9291,
    "start_time": "2021-09-15T11:13:56.781Z"
   },
   {
    "duration": 993,
    "start_time": "2021-09-15T11:14:42.527Z"
   },
   {
    "duration": 65,
    "start_time": "2021-09-15T11:16:18.021Z"
   },
   {
    "duration": 31,
    "start_time": "2021-09-15T11:16:18.088Z"
   },
   {
    "duration": 4,
    "start_time": "2021-09-15T11:16:18.121Z"
   },
   {
    "duration": 11,
    "start_time": "2021-09-15T11:16:18.127Z"
   },
   {
    "duration": 9,
    "start_time": "2021-09-15T11:16:18.139Z"
   },
   {
    "duration": 7,
    "start_time": "2021-09-15T11:16:18.149Z"
   },
   {
    "duration": 6,
    "start_time": "2021-09-15T11:16:18.158Z"
   },
   {
    "duration": 36,
    "start_time": "2021-09-15T11:16:18.167Z"
   },
   {
    "duration": 4,
    "start_time": "2021-09-15T11:16:18.205Z"
   },
   {
    "duration": 19,
    "start_time": "2021-09-15T11:16:18.211Z"
   },
   {
    "duration": 3,
    "start_time": "2021-09-15T11:16:18.231Z"
   },
   {
    "duration": 9,
    "start_time": "2021-09-15T11:16:18.235Z"
   },
   {
    "duration": 6,
    "start_time": "2021-09-15T11:17:03.209Z"
   },
   {
    "duration": 5,
    "start_time": "2021-09-15T11:17:41.032Z"
   },
   {
    "duration": 5,
    "start_time": "2021-09-15T11:18:00.241Z"
   },
   {
    "duration": 65,
    "start_time": "2021-09-15T11:18:32.872Z"
   },
   {
    "duration": 32,
    "start_time": "2021-09-15T11:18:32.938Z"
   },
   {
    "duration": 3,
    "start_time": "2021-09-15T11:18:32.972Z"
   },
   {
    "duration": 4,
    "start_time": "2021-09-15T11:18:32.992Z"
   },
   {
    "duration": 16,
    "start_time": "2021-09-15T11:18:32.998Z"
   },
   {
    "duration": 6,
    "start_time": "2021-09-15T11:18:33.015Z"
   },
   {
    "duration": 8,
    "start_time": "2021-09-15T11:18:33.023Z"
   },
   {
    "duration": 19,
    "start_time": "2021-09-15T11:18:33.033Z"
   },
   {
    "duration": 3,
    "start_time": "2021-09-15T11:18:33.054Z"
   },
   {
    "duration": 40,
    "start_time": "2021-09-15T11:18:33.059Z"
   },
   {
    "duration": 18,
    "start_time": "2021-09-15T11:18:43.981Z"
   },
   {
    "duration": 5,
    "start_time": "2021-09-15T11:19:04.219Z"
   },
   {
    "duration": 258,
    "start_time": "2021-09-15T11:20:01.873Z"
   },
   {
    "duration": 266,
    "start_time": "2021-09-15T11:21:27.393Z"
   },
   {
    "duration": 243,
    "start_time": "2021-09-15T11:22:39.421Z"
   },
   {
    "duration": 6,
    "start_time": "2021-09-15T11:22:49.237Z"
   },
   {
    "duration": 64,
    "start_time": "2021-09-15T11:24:47.333Z"
   },
   {
    "duration": 31,
    "start_time": "2021-09-15T11:24:47.399Z"
   },
   {
    "duration": 4,
    "start_time": "2021-09-15T11:24:47.432Z"
   },
   {
    "duration": 9,
    "start_time": "2021-09-15T11:24:47.438Z"
   },
   {
    "duration": 12,
    "start_time": "2021-09-15T11:24:47.448Z"
   },
   {
    "duration": 14,
    "start_time": "2021-09-15T11:24:47.461Z"
   },
   {
    "duration": 15,
    "start_time": "2021-09-15T11:24:47.477Z"
   },
   {
    "duration": 16,
    "start_time": "2021-09-15T11:24:47.494Z"
   },
   {
    "duration": 4,
    "start_time": "2021-09-15T11:24:47.798Z"
   },
   {
    "duration": 19,
    "start_time": "2021-09-15T11:24:47.804Z"
   },
   {
    "duration": 17,
    "start_time": "2021-09-15T11:24:53.403Z"
   },
   {
    "duration": 236,
    "start_time": "2021-09-15T11:26:46.317Z"
   },
   {
    "duration": 255,
    "start_time": "2021-09-15T11:27:36.423Z"
   },
   {
    "duration": 234,
    "start_time": "2021-09-15T11:27:44.529Z"
   },
   {
    "duration": 252,
    "start_time": "2021-09-15T11:27:54.107Z"
   },
   {
    "duration": 314,
    "start_time": "2021-09-15T11:31:03.445Z"
   },
   {
    "duration": 324,
    "start_time": "2021-09-15T11:31:42.122Z"
   },
   {
    "duration": 5157,
    "start_time": "2021-09-15T11:31:55.698Z"
   },
   {
    "duration": 248,
    "start_time": "2021-09-15T11:33:08.551Z"
   },
   {
    "duration": 242,
    "start_time": "2021-09-15T11:33:31.008Z"
   },
   {
    "duration": 247,
    "start_time": "2021-09-15T11:33:54.853Z"
   },
   {
    "duration": 5,
    "start_time": "2021-09-15T11:34:09.772Z"
   },
   {
    "duration": 5,
    "start_time": "2021-09-15T11:34:31.712Z"
   },
   {
    "duration": 80,
    "start_time": "2021-09-15T11:34:58.116Z"
   },
   {
    "duration": 4036,
    "start_time": "2021-09-15T11:35:04.568Z"
   },
   {
    "duration": 8,
    "start_time": "2021-09-15T11:35:34.175Z"
   },
   {
    "duration": 6,
    "start_time": "2021-09-15T11:35:50.906Z"
   },
   {
    "duration": 9,
    "start_time": "2021-09-15T11:36:03.171Z"
   },
   {
    "duration": 8,
    "start_time": "2021-09-15T11:36:20.446Z"
   },
   {
    "duration": 6,
    "start_time": "2021-09-15T11:37:23.057Z"
   },
   {
    "duration": 5,
    "start_time": "2021-09-15T11:39:42.985Z"
   },
   {
    "duration": 6,
    "start_time": "2021-09-15T11:39:58.943Z"
   },
   {
    "duration": 248,
    "start_time": "2021-09-15T11:42:48.608Z"
   },
   {
    "duration": 248,
    "start_time": "2021-09-15T11:43:08.523Z"
   },
   {
    "duration": 8,
    "start_time": "2021-09-15T11:43:21.710Z"
   },
   {
    "duration": 5,
    "start_time": "2021-09-15T11:43:35.084Z"
   },
   {
    "duration": 271,
    "start_time": "2021-09-15T11:43:51.635Z"
   },
   {
    "duration": 252,
    "start_time": "2021-09-15T11:44:17.574Z"
   },
   {
    "duration": 245,
    "start_time": "2021-09-15T11:44:25.424Z"
   },
   {
    "duration": 247,
    "start_time": "2021-09-15T11:44:33.700Z"
   },
   {
    "duration": 5,
    "start_time": "2021-09-15T11:44:46.009Z"
   },
   {
    "duration": 5,
    "start_time": "2021-09-15T11:44:51.182Z"
   },
   {
    "duration": 4,
    "start_time": "2021-09-15T11:45:14.544Z"
   },
   {
    "duration": 4,
    "start_time": "2021-09-15T11:46:09.323Z"
   },
   {
    "duration": 894,
    "start_time": "2021-09-15T11:46:35.901Z"
   },
   {
    "duration": 5690,
    "start_time": "2021-09-15T11:48:18.727Z"
   },
   {
    "duration": 253,
    "start_time": "2021-09-15T11:50:21.670Z"
   },
   {
    "duration": 19,
    "start_time": "2021-09-15T11:51:29.611Z"
   },
   {
    "duration": 2583,
    "start_time": "2021-09-15T11:51:48.136Z"
   },
   {
    "duration": 18,
    "start_time": "2021-09-15T11:52:11.768Z"
   },
   {
    "duration": 7998,
    "start_time": "2021-09-15T11:52:33.657Z"
   },
   {
    "duration": 8229,
    "start_time": "2021-09-15T12:04:59.275Z"
   },
   {
    "duration": 7897,
    "start_time": "2021-09-15T12:05:59.846Z"
   },
   {
    "duration": 8054,
    "start_time": "2021-09-15T12:07:50.534Z"
   },
   {
    "duration": 7879,
    "start_time": "2021-09-15T12:08:22.915Z"
   },
   {
    "duration": 7806,
    "start_time": "2021-09-15T12:09:49.388Z"
   },
   {
    "duration": 64,
    "start_time": "2021-09-15T12:10:49.569Z"
   },
   {
    "duration": 30,
    "start_time": "2021-09-15T12:10:49.635Z"
   },
   {
    "duration": 3,
    "start_time": "2021-09-15T12:10:49.667Z"
   },
   {
    "duration": 4,
    "start_time": "2021-09-15T12:10:49.692Z"
   },
   {
    "duration": 13,
    "start_time": "2021-09-15T12:10:49.697Z"
   },
   {
    "duration": 8,
    "start_time": "2021-09-15T12:10:49.712Z"
   },
   {
    "duration": 9,
    "start_time": "2021-09-15T12:10:49.722Z"
   },
   {
    "duration": 17,
    "start_time": "2021-09-15T12:10:49.733Z"
   },
   {
    "duration": 3,
    "start_time": "2021-09-15T12:10:49.752Z"
   },
   {
    "duration": 35,
    "start_time": "2021-09-15T12:10:49.757Z"
   },
   {
    "duration": 2,
    "start_time": "2021-09-15T12:10:49.794Z"
   },
   {
    "duration": 8029,
    "start_time": "2021-09-15T12:10:49.798Z"
   },
   {
    "duration": 8,
    "start_time": "2021-09-15T12:12:40.728Z"
   },
   {
    "duration": 6,
    "start_time": "2021-09-15T12:12:59.554Z"
   },
   {
    "duration": 6,
    "start_time": "2021-09-15T12:13:28.075Z"
   },
   {
    "duration": 68,
    "start_time": "2021-09-15T12:17:42.753Z"
   },
   {
    "duration": 30,
    "start_time": "2021-09-15T12:17:42.823Z"
   },
   {
    "duration": 4,
    "start_time": "2021-09-15T12:17:42.854Z"
   },
   {
    "duration": 9,
    "start_time": "2021-09-15T12:17:42.860Z"
   },
   {
    "duration": 25,
    "start_time": "2021-09-15T12:17:42.870Z"
   },
   {
    "duration": 10,
    "start_time": "2021-09-15T12:17:42.897Z"
   },
   {
    "duration": 7,
    "start_time": "2021-09-15T12:17:42.909Z"
   },
   {
    "duration": 13,
    "start_time": "2021-09-15T12:17:42.918Z"
   },
   {
    "duration": 4,
    "start_time": "2021-09-15T12:17:42.933Z"
   },
   {
    "duration": 28,
    "start_time": "2021-09-15T12:17:42.938Z"
   },
   {
    "duration": 2,
    "start_time": "2021-09-15T12:17:42.968Z"
   },
   {
    "duration": 7823,
    "start_time": "2021-09-15T12:17:42.971Z"
   },
   {
    "duration": 5,
    "start_time": "2021-09-15T12:17:50.795Z"
   },
   {
    "duration": 5842,
    "start_time": "2021-09-15T12:20:45.080Z"
   },
   {
    "duration": 262,
    "start_time": "2021-09-15T12:21:03.589Z"
   },
   {
    "duration": 8,
    "start_time": "2021-09-15T12:23:04.561Z"
   },
   {
    "duration": 270,
    "start_time": "2021-09-15T12:23:35.726Z"
   },
   {
    "duration": 16,
    "start_time": "2021-09-15T12:23:50.223Z"
   },
   {
    "duration": 88,
    "start_time": "2021-09-15T12:29:26.928Z"
   },
   {
    "duration": 261,
    "start_time": "2021-09-15T12:29:37.433Z"
   },
   {
    "duration": 263,
    "start_time": "2021-09-15T12:30:11.861Z"
   },
   {
    "duration": 66,
    "start_time": "2021-09-15T12:31:53.753Z"
   },
   {
    "duration": 32,
    "start_time": "2021-09-15T12:31:53.821Z"
   },
   {
    "duration": 4,
    "start_time": "2021-09-15T12:31:53.855Z"
   },
   {
    "duration": 33,
    "start_time": "2021-09-15T12:31:53.860Z"
   },
   {
    "duration": 5,
    "start_time": "2021-09-15T12:31:53.894Z"
   },
   {
    "duration": 17,
    "start_time": "2021-09-15T12:31:53.901Z"
   },
   {
    "duration": 13,
    "start_time": "2021-09-15T12:31:53.920Z"
   },
   {
    "duration": 26,
    "start_time": "2021-09-15T12:31:53.936Z"
   },
   {
    "duration": 4,
    "start_time": "2021-09-15T12:31:53.964Z"
   },
   {
    "duration": 25,
    "start_time": "2021-09-15T12:31:53.970Z"
   },
   {
    "duration": 2,
    "start_time": "2021-09-15T12:31:53.997Z"
   },
   {
    "duration": 7754,
    "start_time": "2021-09-15T12:31:54.001Z"
   },
   {
    "duration": 4,
    "start_time": "2021-09-15T12:32:01.757Z"
   },
   {
    "duration": 29,
    "start_time": "2021-09-15T12:32:01.763Z"
   },
   {
    "duration": 40,
    "start_time": "2021-09-15T12:32:01.794Z"
   },
   {
    "duration": 25,
    "start_time": "2021-09-15T12:32:01.836Z"
   },
   {
    "duration": 335,
    "start_time": "2021-09-15T12:32:40.036Z"
   },
   {
    "duration": 259,
    "start_time": "2021-09-15T12:32:55.420Z"
   },
   {
    "duration": 492,
    "start_time": "2021-09-15T12:33:46.452Z"
   },
   {
    "duration": 250,
    "start_time": "2021-09-15T12:34:05.310Z"
   },
   {
    "duration": 234,
    "start_time": "2021-09-15T12:34:49.701Z"
   },
   {
    "duration": 256,
    "start_time": "2021-09-15T12:36:08.712Z"
   },
   {
    "duration": 242,
    "start_time": "2021-09-15T12:36:28.114Z"
   },
   {
    "duration": 241,
    "start_time": "2021-09-15T12:36:50.930Z"
   },
   {
    "duration": 263,
    "start_time": "2021-09-15T12:37:21.645Z"
   },
   {
    "duration": 70,
    "start_time": "2021-09-15T12:37:39.981Z"
   },
   {
    "duration": 41,
    "start_time": "2021-09-15T12:37:40.053Z"
   },
   {
    "duration": 4,
    "start_time": "2021-09-15T12:37:40.096Z"
   },
   {
    "duration": 16,
    "start_time": "2021-09-15T12:37:40.101Z"
   },
   {
    "duration": 6,
    "start_time": "2021-09-15T12:37:40.119Z"
   },
   {
    "duration": 10,
    "start_time": "2021-09-15T12:37:40.127Z"
   },
   {
    "duration": 7,
    "start_time": "2021-09-15T12:37:40.139Z"
   },
   {
    "duration": 18,
    "start_time": "2021-09-15T12:37:40.149Z"
   },
   {
    "duration": 22,
    "start_time": "2021-09-15T12:37:40.169Z"
   },
   {
    "duration": 21,
    "start_time": "2021-09-15T12:37:40.193Z"
   },
   {
    "duration": 2,
    "start_time": "2021-09-15T12:37:40.216Z"
   },
   {
    "duration": 7864,
    "start_time": "2021-09-15T12:37:40.219Z"
   },
   {
    "duration": 7,
    "start_time": "2021-09-15T12:37:48.085Z"
   },
   {
    "duration": 22,
    "start_time": "2021-09-15T12:37:48.093Z"
   },
   {
    "duration": 16,
    "start_time": "2021-09-15T12:37:48.117Z"
   },
   {
    "duration": 15,
    "start_time": "2021-09-15T12:37:48.135Z"
   },
   {
    "duration": 5,
    "start_time": "2021-09-15T12:37:58.437Z"
   },
   {
    "duration": 275,
    "start_time": "2021-09-15T12:38:09.974Z"
   },
   {
    "duration": 82,
    "start_time": "2021-09-15T12:38:29.828Z"
   },
   {
    "duration": 5,
    "start_time": "2021-09-15T12:39:01.047Z"
   },
   {
    "duration": 5,
    "start_time": "2021-09-15T12:39:31.428Z"
   },
   {
    "duration": 313,
    "start_time": "2021-09-15T12:40:39.480Z"
   },
   {
    "duration": 257,
    "start_time": "2021-09-15T12:42:53.457Z"
   },
   {
    "duration": 5,
    "start_time": "2021-09-15T12:43:06.015Z"
   },
   {
    "duration": 257,
    "start_time": "2021-09-15T12:43:19.037Z"
   },
   {
    "duration": 256,
    "start_time": "2021-09-15T12:43:38.829Z"
   },
   {
    "duration": 568,
    "start_time": "2021-09-15T12:45:32.207Z"
   },
   {
    "duration": 69,
    "start_time": "2021-09-15T12:47:32.987Z"
   },
   {
    "duration": 48,
    "start_time": "2021-09-15T12:47:33.058Z"
   },
   {
    "duration": 5,
    "start_time": "2021-09-15T12:47:33.109Z"
   },
   {
    "duration": 8,
    "start_time": "2021-09-15T12:47:33.116Z"
   },
   {
    "duration": 8,
    "start_time": "2021-09-15T12:47:33.126Z"
   },
   {
    "duration": 7,
    "start_time": "2021-09-15T12:47:33.136Z"
   },
   {
    "duration": 7,
    "start_time": "2021-09-15T12:47:33.145Z"
   },
   {
    "duration": 55,
    "start_time": "2021-09-15T12:47:33.154Z"
   },
   {
    "duration": 4,
    "start_time": "2021-09-15T12:47:33.211Z"
   },
   {
    "duration": 21,
    "start_time": "2021-09-15T12:47:33.216Z"
   },
   {
    "duration": 2,
    "start_time": "2021-09-15T12:47:33.239Z"
   },
   {
    "duration": 8033,
    "start_time": "2021-09-15T12:47:33.243Z"
   },
   {
    "duration": 5,
    "start_time": "2021-09-15T12:47:41.278Z"
   },
   {
    "duration": 31,
    "start_time": "2021-09-15T12:47:41.291Z"
   },
   {
    "duration": 36,
    "start_time": "2021-09-15T12:47:41.324Z"
   },
   {
    "duration": 15,
    "start_time": "2021-09-15T12:47:41.362Z"
   },
   {
    "duration": 23,
    "start_time": "2021-09-15T12:47:41.379Z"
   },
   {
    "duration": 27,
    "start_time": "2021-09-15T12:47:41.404Z"
   },
   {
    "duration": 67,
    "start_time": "2021-09-15T12:52:40.240Z"
   },
   {
    "duration": 32,
    "start_time": "2021-09-15T12:52:40.309Z"
   },
   {
    "duration": 4,
    "start_time": "2021-09-15T12:52:40.343Z"
   },
   {
    "duration": 20,
    "start_time": "2021-09-15T12:52:40.348Z"
   },
   {
    "duration": 29,
    "start_time": "2021-09-15T12:52:40.370Z"
   },
   {
    "duration": 27,
    "start_time": "2021-09-15T12:52:40.401Z"
   },
   {
    "duration": 11,
    "start_time": "2021-09-15T12:52:40.429Z"
   },
   {
    "duration": 26,
    "start_time": "2021-09-15T12:52:40.443Z"
   },
   {
    "duration": 18,
    "start_time": "2021-09-15T12:52:40.470Z"
   },
   {
    "duration": 30,
    "start_time": "2021-09-15T12:52:40.490Z"
   },
   {
    "duration": 5,
    "start_time": "2021-09-15T12:52:40.521Z"
   },
   {
    "duration": 7952,
    "start_time": "2021-09-15T12:52:40.527Z"
   },
   {
    "duration": 5,
    "start_time": "2021-09-15T12:52:48.481Z"
   },
   {
    "duration": 14,
    "start_time": "2021-09-15T12:52:48.487Z"
   },
   {
    "duration": 14,
    "start_time": "2021-09-15T12:52:48.503Z"
   },
   {
    "duration": 11,
    "start_time": "2021-09-15T12:52:48.519Z"
   },
   {
    "duration": 6,
    "start_time": "2021-09-15T12:52:48.532Z"
   },
   {
    "duration": 10,
    "start_time": "2021-09-15T12:52:48.539Z"
   },
   {
    "duration": 43,
    "start_time": "2021-09-15T12:52:48.551Z"
   },
   {
    "duration": 13,
    "start_time": "2021-09-15T12:52:48.596Z"
   },
   {
    "duration": 135,
    "start_time": "2021-09-15T12:55:15.977Z"
   },
   {
    "duration": 12,
    "start_time": "2021-09-15T12:55:25.361Z"
   },
   {
    "duration": 12,
    "start_time": "2021-09-15T12:57:18.015Z"
   },
   {
    "duration": 263,
    "start_time": "2021-09-15T13:00:00.535Z"
   },
   {
    "duration": 117,
    "start_time": "2021-09-15T13:03:19.461Z"
   },
   {
    "duration": 480,
    "start_time": "2021-09-15T13:03:50.301Z"
   },
   {
    "duration": 17,
    "start_time": "2021-09-15T13:06:05.305Z"
   },
   {
    "duration": 26,
    "start_time": "2021-09-15T13:06:11.049Z"
   },
   {
    "duration": 3332,
    "start_time": "2021-09-15T13:07:47.907Z"
   },
   {
    "duration": 9,
    "start_time": "2021-09-15T13:08:29.791Z"
   },
   {
    "duration": 8,
    "start_time": "2021-09-15T13:08:40.129Z"
   },
   {
    "duration": 11,
    "start_time": "2021-09-15T13:09:27.537Z"
   },
   {
    "duration": 16,
    "start_time": "2021-09-15T13:13:01.586Z"
   },
   {
    "duration": 6673,
    "start_time": "2021-09-15T13:15:29.177Z"
   },
   {
    "duration": 83,
    "start_time": "2021-09-15T13:17:00.043Z"
   },
   {
    "duration": 4,
    "start_time": "2021-09-15T13:17:09.559Z"
   },
   {
    "duration": 14,
    "start_time": "2021-09-15T13:17:23.931Z"
   },
   {
    "duration": 271,
    "start_time": "2021-09-15T13:19:15.634Z"
   },
   {
    "duration": 20,
    "start_time": "2021-09-15T13:20:10.717Z"
   },
   {
    "duration": 6294,
    "start_time": "2021-09-15T13:22:17.194Z"
   },
   {
    "duration": 6880,
    "start_time": "2021-09-15T13:22:39.581Z"
   },
   {
    "duration": 9,
    "start_time": "2021-09-15T13:23:11.165Z"
   },
   {
    "duration": 9,
    "start_time": "2021-09-15T13:23:36.983Z"
   },
   {
    "duration": 249,
    "start_time": "2021-09-15T13:24:10.771Z"
   },
   {
    "duration": 64,
    "start_time": "2021-09-15T13:24:18.581Z"
   },
   {
    "duration": 47,
    "start_time": "2021-09-15T13:24:18.647Z"
   },
   {
    "duration": 3,
    "start_time": "2021-09-15T13:24:18.696Z"
   },
   {
    "duration": 17,
    "start_time": "2021-09-15T13:24:18.701Z"
   },
   {
    "duration": 15,
    "start_time": "2021-09-15T13:24:18.720Z"
   },
   {
    "duration": 11,
    "start_time": "2021-09-15T13:24:18.737Z"
   },
   {
    "duration": 13,
    "start_time": "2021-09-15T13:24:18.750Z"
   },
   {
    "duration": 21,
    "start_time": "2021-09-15T13:24:18.766Z"
   },
   {
    "duration": 12,
    "start_time": "2021-09-15T13:24:18.789Z"
   },
   {
    "duration": 33,
    "start_time": "2021-09-15T13:24:18.802Z"
   },
   {
    "duration": 3,
    "start_time": "2021-09-15T13:24:18.837Z"
   },
   {
    "duration": 7752,
    "start_time": "2021-09-15T13:24:18.842Z"
   },
   {
    "duration": 5,
    "start_time": "2021-09-15T13:24:26.596Z"
   },
   {
    "duration": 19,
    "start_time": "2021-09-15T13:24:26.602Z"
   },
   {
    "duration": 14,
    "start_time": "2021-09-15T13:24:26.622Z"
   },
   {
    "duration": 11,
    "start_time": "2021-09-15T13:24:26.638Z"
   },
   {
    "duration": 7,
    "start_time": "2021-09-15T13:24:26.651Z"
   },
   {
    "duration": 38,
    "start_time": "2021-09-15T13:24:26.659Z"
   },
   {
    "duration": 9,
    "start_time": "2021-09-15T13:24:26.699Z"
   },
   {
    "duration": 15,
    "start_time": "2021-09-15T13:24:26.709Z"
   },
   {
    "duration": 12,
    "start_time": "2021-09-15T13:24:26.725Z"
   },
   {
    "duration": 13,
    "start_time": "2021-09-15T13:24:26.740Z"
   },
   {
    "duration": 514,
    "start_time": "2021-09-15T13:24:26.755Z"
   },
   {
    "duration": 26,
    "start_time": "2021-09-15T13:24:27.271Z"
   },
   {
    "duration": 25,
    "start_time": "2021-09-15T13:24:27.299Z"
   },
   {
    "duration": 3497,
    "start_time": "2021-09-15T13:24:27.326Z"
   },
   {
    "duration": 9,
    "start_time": "2021-09-15T13:24:30.825Z"
   },
   {
    "duration": 24,
    "start_time": "2021-09-15T13:24:30.836Z"
   },
   {
    "duration": 27,
    "start_time": "2021-09-15T13:24:30.861Z"
   },
   {
    "duration": 258,
    "start_time": "2021-09-15T13:24:35.025Z"
   },
   {
    "duration": 245,
    "start_time": "2021-09-15T13:24:49.491Z"
   },
   {
    "duration": 69,
    "start_time": "2021-09-15T13:25:07.228Z"
   },
   {
    "duration": 32,
    "start_time": "2021-09-15T13:25:07.299Z"
   },
   {
    "duration": 5,
    "start_time": "2021-09-15T13:25:07.334Z"
   },
   {
    "duration": 14,
    "start_time": "2021-09-15T13:25:07.341Z"
   },
   {
    "duration": 7,
    "start_time": "2021-09-15T13:25:07.358Z"
   },
   {
    "duration": 30,
    "start_time": "2021-09-15T13:25:07.367Z"
   },
   {
    "duration": 7,
    "start_time": "2021-09-15T13:25:07.399Z"
   },
   {
    "duration": 14,
    "start_time": "2021-09-15T13:25:07.409Z"
   },
   {
    "duration": 5,
    "start_time": "2021-09-15T13:25:07.425Z"
   },
   {
    "duration": 20,
    "start_time": "2021-09-15T13:25:07.431Z"
   },
   {
    "duration": 3,
    "start_time": "2021-09-15T13:25:07.493Z"
   },
   {
    "duration": 8451,
    "start_time": "2021-09-15T13:25:07.498Z"
   },
   {
    "duration": 6,
    "start_time": "2021-09-15T13:25:15.951Z"
   },
   {
    "duration": 37,
    "start_time": "2021-09-15T13:25:15.959Z"
   },
   {
    "duration": 18,
    "start_time": "2021-09-15T13:25:15.998Z"
   },
   {
    "duration": 23,
    "start_time": "2021-09-15T13:25:16.017Z"
   },
   {
    "duration": 6,
    "start_time": "2021-09-15T13:25:16.042Z"
   },
   {
    "duration": 17,
    "start_time": "2021-09-15T13:25:16.049Z"
   },
   {
    "duration": 10,
    "start_time": "2021-09-15T13:25:16.067Z"
   },
   {
    "duration": 20,
    "start_time": "2021-09-15T13:25:16.079Z"
   },
   {
    "duration": 11,
    "start_time": "2021-09-15T13:25:16.101Z"
   },
   {
    "duration": 17,
    "start_time": "2021-09-15T13:25:16.114Z"
   },
   {
    "duration": 578,
    "start_time": "2021-09-15T13:25:16.135Z"
   },
   {
    "duration": 18,
    "start_time": "2021-09-15T13:25:16.715Z"
   },
   {
    "duration": 26,
    "start_time": "2021-09-15T13:25:16.735Z"
   },
   {
    "duration": 3458,
    "start_time": "2021-09-15T13:25:16.763Z"
   },
   {
    "duration": 7,
    "start_time": "2021-09-15T13:25:20.223Z"
   },
   {
    "duration": 9,
    "start_time": "2021-09-15T13:25:20.232Z"
   },
   {
    "duration": 11,
    "start_time": "2021-09-15T13:25:20.243Z"
   },
   {
    "duration": 1072,
    "start_time": "2021-09-15T13:25:20.256Z"
   },
   {
    "duration": 5,
    "start_time": "2021-09-15T13:25:43.767Z"
   },
   {
    "duration": 7130,
    "start_time": "2021-09-15T13:26:11.708Z"
   },
   {
    "duration": 68,
    "start_time": "2021-09-15T13:37:25.295Z"
   },
   {
    "duration": 42,
    "start_time": "2021-09-15T13:37:25.365Z"
   },
   {
    "duration": 4,
    "start_time": "2021-09-15T13:37:25.410Z"
   },
   {
    "duration": 11,
    "start_time": "2021-09-15T13:37:25.415Z"
   },
   {
    "duration": 9,
    "start_time": "2021-09-15T13:37:25.427Z"
   },
   {
    "duration": 17,
    "start_time": "2021-09-15T13:37:25.438Z"
   },
   {
    "duration": 9,
    "start_time": "2021-09-15T13:37:25.456Z"
   },
   {
    "duration": 29,
    "start_time": "2021-09-15T13:37:25.468Z"
   },
   {
    "duration": 4,
    "start_time": "2021-09-15T13:37:25.500Z"
   },
   {
    "duration": 22,
    "start_time": "2021-09-15T13:37:25.506Z"
   },
   {
    "duration": 2,
    "start_time": "2021-09-15T13:37:25.530Z"
   },
   {
    "duration": 8145,
    "start_time": "2021-09-15T13:37:25.534Z"
   },
   {
    "duration": 5,
    "start_time": "2021-09-15T13:37:33.681Z"
   },
   {
    "duration": 18,
    "start_time": "2021-09-15T13:37:33.687Z"
   },
   {
    "duration": 15,
    "start_time": "2021-09-15T13:37:33.707Z"
   },
   {
    "duration": 13,
    "start_time": "2021-09-15T13:37:33.724Z"
   },
   {
    "duration": 7,
    "start_time": "2021-09-15T13:37:33.738Z"
   },
   {
    "duration": 11,
    "start_time": "2021-09-15T13:37:33.747Z"
   },
   {
    "duration": 10,
    "start_time": "2021-09-15T13:37:33.792Z"
   },
   {
    "duration": 28,
    "start_time": "2021-09-15T13:37:33.804Z"
   },
   {
    "duration": 26,
    "start_time": "2021-09-15T13:37:33.833Z"
   },
   {
    "duration": 22,
    "start_time": "2021-09-15T13:37:33.862Z"
   },
   {
    "duration": 492,
    "start_time": "2021-09-15T13:37:33.887Z"
   },
   {
    "duration": 27,
    "start_time": "2021-09-15T13:37:34.381Z"
   },
   {
    "duration": 26,
    "start_time": "2021-09-15T13:37:34.410Z"
   },
   {
    "duration": 3563,
    "start_time": "2021-09-15T13:37:34.438Z"
   },
   {
    "duration": 8,
    "start_time": "2021-09-15T13:37:38.004Z"
   },
   {
    "duration": 23,
    "start_time": "2021-09-15T13:37:38.015Z"
   },
   {
    "duration": 27,
    "start_time": "2021-09-15T13:37:38.041Z"
   },
   {
    "duration": 26,
    "start_time": "2021-09-15T13:37:38.070Z"
   },
   {
    "duration": 131,
    "start_time": "2021-09-15T13:37:38.098Z"
   },
   {
    "duration": 21,
    "start_time": "2021-09-15T13:38:16.148Z"
   },
   {
    "duration": 68,
    "start_time": "2021-09-15T13:39:14.328Z"
   },
   {
    "duration": 30,
    "start_time": "2021-09-15T13:39:14.398Z"
   },
   {
    "duration": 4,
    "start_time": "2021-09-15T13:39:14.430Z"
   },
   {
    "duration": 9,
    "start_time": "2021-09-15T13:39:14.436Z"
   },
   {
    "duration": 10,
    "start_time": "2021-09-15T13:39:14.446Z"
   },
   {
    "duration": 9,
    "start_time": "2021-09-15T13:39:14.457Z"
   },
   {
    "duration": 26,
    "start_time": "2021-09-15T13:39:14.468Z"
   },
   {
    "duration": 16,
    "start_time": "2021-09-15T13:39:14.496Z"
   },
   {
    "duration": 4,
    "start_time": "2021-09-15T13:39:14.514Z"
   },
   {
    "duration": 30,
    "start_time": "2021-09-15T13:39:14.521Z"
   },
   {
    "duration": 3,
    "start_time": "2021-09-15T13:39:14.553Z"
   },
   {
    "duration": 7949,
    "start_time": "2021-09-15T13:39:14.558Z"
   },
   {
    "duration": 5,
    "start_time": "2021-09-15T13:39:22.509Z"
   },
   {
    "duration": 26,
    "start_time": "2021-09-15T13:39:22.516Z"
   },
   {
    "duration": 19,
    "start_time": "2021-09-15T13:39:22.543Z"
   },
   {
    "duration": 12,
    "start_time": "2021-09-15T13:39:22.564Z"
   },
   {
    "duration": 5,
    "start_time": "2021-09-15T13:39:22.591Z"
   },
   {
    "duration": 10,
    "start_time": "2021-09-15T13:39:22.598Z"
   },
   {
    "duration": 8,
    "start_time": "2021-09-15T13:39:22.610Z"
   },
   {
    "duration": 15,
    "start_time": "2021-09-15T13:39:22.620Z"
   },
   {
    "duration": 11,
    "start_time": "2021-09-15T13:39:22.639Z"
   },
   {
    "duration": 46,
    "start_time": "2021-09-15T13:39:22.652Z"
   },
   {
    "duration": 507,
    "start_time": "2021-09-15T13:39:22.700Z"
   },
   {
    "duration": 17,
    "start_time": "2021-09-15T13:39:23.209Z"
   },
   {
    "duration": 26,
    "start_time": "2021-09-15T13:39:23.228Z"
   },
   {
    "duration": 3572,
    "start_time": "2021-09-15T13:39:23.256Z"
   },
   {
    "duration": 8,
    "start_time": "2021-09-15T13:39:26.830Z"
   },
   {
    "duration": 9,
    "start_time": "2021-09-15T13:39:26.840Z"
   },
   {
    "duration": 11,
    "start_time": "2021-09-15T13:39:26.850Z"
   },
   {
    "duration": 36,
    "start_time": "2021-09-15T13:39:26.863Z"
   },
   {
    "duration": 17,
    "start_time": "2021-09-15T13:39:26.901Z"
   },
   {
    "duration": 67,
    "start_time": "2021-09-15T13:42:46.440Z"
   },
   {
    "duration": 32,
    "start_time": "2021-09-15T13:42:46.509Z"
   },
   {
    "duration": 4,
    "start_time": "2021-09-15T13:42:46.543Z"
   },
   {
    "duration": 14,
    "start_time": "2021-09-15T13:42:46.549Z"
   },
   {
    "duration": 7,
    "start_time": "2021-09-15T13:42:46.565Z"
   },
   {
    "duration": 22,
    "start_time": "2021-09-15T13:42:46.574Z"
   },
   {
    "duration": 13,
    "start_time": "2021-09-15T13:42:46.597Z"
   },
   {
    "duration": 15,
    "start_time": "2021-09-15T13:42:46.613Z"
   },
   {
    "duration": 8,
    "start_time": "2021-09-15T13:42:46.631Z"
   },
   {
    "duration": 25,
    "start_time": "2021-09-15T13:42:46.641Z"
   },
   {
    "duration": 24,
    "start_time": "2021-09-15T13:42:46.668Z"
   },
   {
    "duration": 8123,
    "start_time": "2021-09-15T13:42:46.694Z"
   },
   {
    "duration": 5,
    "start_time": "2021-09-15T13:42:54.819Z"
   },
   {
    "duration": 35,
    "start_time": "2021-09-15T13:42:54.826Z"
   },
   {
    "duration": 14,
    "start_time": "2021-09-15T13:42:54.863Z"
   },
   {
    "duration": 16,
    "start_time": "2021-09-15T13:42:54.879Z"
   },
   {
    "duration": 11,
    "start_time": "2021-09-15T13:42:54.897Z"
   },
   {
    "duration": 25,
    "start_time": "2021-09-15T13:42:54.909Z"
   },
   {
    "duration": 9,
    "start_time": "2021-09-15T13:42:54.936Z"
   },
   {
    "duration": 25,
    "start_time": "2021-09-15T13:42:54.947Z"
   },
   {
    "duration": 11,
    "start_time": "2021-09-15T13:42:54.974Z"
   },
   {
    "duration": 16,
    "start_time": "2021-09-15T13:42:54.987Z"
   },
   {
    "duration": 506,
    "start_time": "2021-09-15T13:42:55.006Z"
   },
   {
    "duration": 18,
    "start_time": "2021-09-15T13:42:55.514Z"
   },
   {
    "duration": 26,
    "start_time": "2021-09-15T13:42:55.534Z"
   },
   {
    "duration": 3632,
    "start_time": "2021-09-15T13:42:55.561Z"
   },
   {
    "duration": 7,
    "start_time": "2021-09-15T13:42:59.195Z"
   },
   {
    "duration": 16,
    "start_time": "2021-09-15T13:42:59.204Z"
   },
   {
    "duration": 14,
    "start_time": "2021-09-15T13:42:59.222Z"
   },
   {
    "duration": 13,
    "start_time": "2021-09-15T13:42:59.239Z"
   },
   {
    "duration": 41,
    "start_time": "2021-09-15T13:42:59.254Z"
   },
   {
    "duration": 332,
    "start_time": "2021-09-15T13:42:59.297Z"
   },
   {
    "duration": 170,
    "start_time": "2021-09-15T13:45:08.894Z"
   },
   {
    "duration": 6,
    "start_time": "2021-09-15T13:45:24.407Z"
   },
   {
    "duration": 9,
    "start_time": "2021-09-15T13:45:32.201Z"
   },
   {
    "duration": 16,
    "start_time": "2021-09-15T13:57:07.493Z"
   },
   {
    "duration": 70,
    "start_time": "2021-09-15T13:57:39.069Z"
   },
   {
    "duration": 33,
    "start_time": "2021-09-15T13:57:39.141Z"
   },
   {
    "duration": 4,
    "start_time": "2021-09-15T13:57:39.191Z"
   },
   {
    "duration": 27,
    "start_time": "2021-09-15T13:57:39.197Z"
   },
   {
    "duration": 15,
    "start_time": "2021-09-15T13:57:39.225Z"
   },
   {
    "duration": 14,
    "start_time": "2021-09-15T13:57:39.242Z"
   },
   {
    "duration": 27,
    "start_time": "2021-09-15T13:57:39.257Z"
   },
   {
    "duration": 23,
    "start_time": "2021-09-15T13:57:39.287Z"
   },
   {
    "duration": 9,
    "start_time": "2021-09-15T13:57:39.312Z"
   },
   {
    "duration": 38,
    "start_time": "2021-09-15T13:57:39.323Z"
   },
   {
    "duration": 7,
    "start_time": "2021-09-15T13:57:39.362Z"
   },
   {
    "duration": 7936,
    "start_time": "2021-09-15T13:57:39.370Z"
   },
   {
    "duration": 5,
    "start_time": "2021-09-15T13:57:47.308Z"
   },
   {
    "duration": 29,
    "start_time": "2021-09-15T13:57:47.315Z"
   },
   {
    "duration": 24,
    "start_time": "2021-09-15T13:57:47.346Z"
   },
   {
    "duration": 15,
    "start_time": "2021-09-15T13:57:47.371Z"
   },
   {
    "duration": 22,
    "start_time": "2021-09-15T13:57:47.388Z"
   },
   {
    "duration": 36,
    "start_time": "2021-09-15T13:57:47.412Z"
   },
   {
    "duration": 19,
    "start_time": "2021-09-15T13:57:47.449Z"
   },
   {
    "duration": 24,
    "start_time": "2021-09-15T13:57:47.469Z"
   },
   {
    "duration": 24,
    "start_time": "2021-09-15T13:57:47.495Z"
   },
   {
    "duration": 35,
    "start_time": "2021-09-15T13:57:47.521Z"
   },
   {
    "duration": 525,
    "start_time": "2021-09-15T13:57:47.560Z"
   },
   {
    "duration": 20,
    "start_time": "2021-09-15T13:57:48.090Z"
   },
   {
    "duration": 34,
    "start_time": "2021-09-15T13:57:48.112Z"
   },
   {
    "duration": 3657,
    "start_time": "2021-09-15T13:57:48.148Z"
   },
   {
    "duration": 8,
    "start_time": "2021-09-15T13:57:51.806Z"
   },
   {
    "duration": 32,
    "start_time": "2021-09-15T13:57:51.815Z"
   },
   {
    "duration": 36,
    "start_time": "2021-09-15T13:57:51.848Z"
   },
   {
    "duration": 27,
    "start_time": "2021-09-15T13:57:51.885Z"
   },
   {
    "duration": 37,
    "start_time": "2021-09-15T13:57:51.914Z"
   },
   {
    "duration": 326,
    "start_time": "2021-09-15T13:57:51.953Z"
   },
   {
    "duration": 170,
    "start_time": "2021-09-15T13:57:52.281Z"
   },
   {
    "duration": 4,
    "start_time": "2021-09-15T13:57:52.452Z"
   },
   {
    "duration": 36,
    "start_time": "2021-09-15T13:57:52.457Z"
   },
   {
    "duration": 12,
    "start_time": "2021-09-15T13:57:52.495Z"
   },
   {
    "duration": 140,
    "start_time": "2021-09-15T13:57:52.509Z"
   },
   {
    "duration": 15,
    "start_time": "2021-09-15T13:58:04.295Z"
   },
   {
    "duration": 18,
    "start_time": "2021-09-15T13:58:28.385Z"
   },
   {
    "duration": 252,
    "start_time": "2021-09-15T13:58:46.640Z"
   },
   {
    "duration": 19,
    "start_time": "2021-09-15T13:59:34.022Z"
   },
   {
    "duration": 244,
    "start_time": "2021-09-15T14:01:12.442Z"
   },
   {
    "duration": 17,
    "start_time": "2021-09-15T14:02:46.075Z"
   },
   {
    "duration": 20,
    "start_time": "2021-09-15T14:03:26.285Z"
   },
   {
    "duration": 21,
    "start_time": "2021-09-15T14:07:35.758Z"
   },
   {
    "duration": 303,
    "start_time": "2021-09-15T14:10:22.962Z"
   },
   {
    "duration": 7820,
    "start_time": "2021-09-15T14:10:33.912Z"
   },
   {
    "duration": 21,
    "start_time": "2021-09-15T14:10:47.958Z"
   },
   {
    "duration": 20,
    "start_time": "2021-09-15T14:12:02.968Z"
   },
   {
    "duration": 7,
    "start_time": "2021-09-15T14:13:52.575Z"
   },
   {
    "duration": 8,
    "start_time": "2021-09-15T14:14:21.752Z"
   },
   {
    "duration": 9,
    "start_time": "2021-09-15T14:14:40.655Z"
   },
   {
    "duration": 9,
    "start_time": "2021-09-15T14:19:06.431Z"
   },
   {
    "duration": 8,
    "start_time": "2021-09-15T14:19:43.129Z"
   },
   {
    "duration": 10,
    "start_time": "2021-09-15T14:22:36.073Z"
   },
   {
    "duration": 8,
    "start_time": "2021-09-15T14:25:50.443Z"
   },
   {
    "duration": 98,
    "start_time": "2021-09-15T14:30:12.203Z"
   },
   {
    "duration": 38,
    "start_time": "2021-09-15T14:30:12.304Z"
   },
   {
    "duration": 5,
    "start_time": "2021-09-15T14:30:12.344Z"
   },
   {
    "duration": 41,
    "start_time": "2021-09-15T14:30:12.351Z"
   },
   {
    "duration": 6,
    "start_time": "2021-09-15T14:30:12.395Z"
   },
   {
    "duration": 10,
    "start_time": "2021-09-15T14:30:12.402Z"
   },
   {
    "duration": 9,
    "start_time": "2021-09-15T14:30:12.414Z"
   },
   {
    "duration": 21,
    "start_time": "2021-09-15T14:30:12.425Z"
   },
   {
    "duration": 5,
    "start_time": "2021-09-15T14:30:12.449Z"
   },
   {
    "duration": 49,
    "start_time": "2021-09-15T14:30:12.456Z"
   },
   {
    "duration": 2,
    "start_time": "2021-09-15T14:30:12.507Z"
   },
   {
    "duration": 8007,
    "start_time": "2021-09-15T14:30:12.511Z"
   },
   {
    "duration": 6,
    "start_time": "2021-09-15T14:30:20.520Z"
   },
   {
    "duration": 40,
    "start_time": "2021-09-15T14:30:20.528Z"
   },
   {
    "duration": 28,
    "start_time": "2021-09-15T14:30:20.570Z"
   },
   {
    "duration": 9,
    "start_time": "2021-09-15T14:30:20.600Z"
   },
   {
    "duration": 4,
    "start_time": "2021-09-15T14:30:20.611Z"
   },
   {
    "duration": 12,
    "start_time": "2021-09-15T14:30:20.617Z"
   },
   {
    "duration": 8,
    "start_time": "2021-09-15T14:30:20.631Z"
   },
   {
    "duration": 13,
    "start_time": "2021-09-15T14:30:20.641Z"
   },
   {
    "duration": 13,
    "start_time": "2021-09-15T14:30:20.691Z"
   },
   {
    "duration": 16,
    "start_time": "2021-09-15T14:30:20.706Z"
   },
   {
    "duration": 644,
    "start_time": "2021-09-15T14:30:20.724Z"
   },
   {
    "duration": 27,
    "start_time": "2021-09-15T14:30:21.369Z"
   },
   {
    "duration": 27,
    "start_time": "2021-09-15T14:30:21.398Z"
   },
   {
    "duration": 4101,
    "start_time": "2021-09-15T14:30:21.427Z"
   },
   {
    "duration": 9,
    "start_time": "2021-09-15T14:30:25.533Z"
   },
   {
    "duration": 10,
    "start_time": "2021-09-15T14:30:25.544Z"
   },
   {
    "duration": 37,
    "start_time": "2021-09-15T14:30:25.556Z"
   },
   {
    "duration": 13,
    "start_time": "2021-09-15T14:30:25.595Z"
   },
   {
    "duration": 22,
    "start_time": "2021-09-15T14:30:25.610Z"
   },
   {
    "duration": 358,
    "start_time": "2021-09-15T14:30:25.634Z"
   },
   {
    "duration": 185,
    "start_time": "2021-09-15T14:30:25.994Z"
   },
   {
    "duration": 12,
    "start_time": "2021-09-15T14:30:26.181Z"
   },
   {
    "duration": 35,
    "start_time": "2021-09-15T14:30:26.195Z"
   },
   {
    "duration": 19,
    "start_time": "2021-09-15T14:30:26.232Z"
   },
   {
    "duration": 9,
    "start_time": "2021-09-15T14:30:26.253Z"
   },
   {
    "duration": 152,
    "start_time": "2021-09-15T14:30:26.264Z"
   },
   {
    "duration": -6088,
    "start_time": "2021-09-15T14:30:32.506Z"
   },
   {
    "duration": -6090,
    "start_time": "2021-09-15T14:30:32.509Z"
   },
   {
    "duration": -6092,
    "start_time": "2021-09-15T14:30:32.512Z"
   },
   {
    "duration": 10,
    "start_time": "2021-09-15T14:30:50.555Z"
   },
   {
    "duration": 8,
    "start_time": "2021-09-15T14:30:54.412Z"
   },
   {
    "duration": 9,
    "start_time": "2021-09-15T14:30:57.691Z"
   },
   {
    "duration": 742,
    "start_time": "2021-09-15T14:55:35.033Z"
   },
   {
    "duration": 30,
    "start_time": "2021-09-15T14:55:35.777Z"
   },
   {
    "duration": 4,
    "start_time": "2021-09-15T14:55:35.808Z"
   },
   {
    "duration": 12,
    "start_time": "2021-09-15T14:55:35.814Z"
   },
   {
    "duration": 24,
    "start_time": "2021-09-15T14:55:35.828Z"
   },
   {
    "duration": 14,
    "start_time": "2021-09-15T14:55:35.854Z"
   },
   {
    "duration": 20,
    "start_time": "2021-09-15T14:55:35.870Z"
   },
   {
    "duration": 16,
    "start_time": "2021-09-15T14:55:35.892Z"
   },
   {
    "duration": 4,
    "start_time": "2021-09-15T14:55:35.910Z"
   },
   {
    "duration": 30,
    "start_time": "2021-09-15T14:55:35.915Z"
   },
   {
    "duration": 2,
    "start_time": "2021-09-15T14:55:35.949Z"
   },
   {
    "duration": 7629,
    "start_time": "2021-09-15T14:55:35.953Z"
   },
   {
    "duration": 5,
    "start_time": "2021-09-15T14:55:43.583Z"
   },
   {
    "duration": 15,
    "start_time": "2021-09-15T14:55:43.589Z"
   },
   {
    "duration": 15,
    "start_time": "2021-09-15T14:55:43.605Z"
   },
   {
    "duration": 33,
    "start_time": "2021-09-15T14:55:43.622Z"
   },
   {
    "duration": 5,
    "start_time": "2021-09-15T14:55:43.657Z"
   },
   {
    "duration": 13,
    "start_time": "2021-09-15T14:55:43.663Z"
   },
   {
    "duration": 9,
    "start_time": "2021-09-15T14:55:43.677Z"
   },
   {
    "duration": 21,
    "start_time": "2021-09-15T14:55:43.687Z"
   },
   {
    "duration": 11,
    "start_time": "2021-09-15T14:55:43.710Z"
   },
   {
    "duration": 12,
    "start_time": "2021-09-15T14:55:43.749Z"
   },
   {
    "duration": 537,
    "start_time": "2021-09-15T14:55:43.764Z"
   },
   {
    "duration": 19,
    "start_time": "2021-09-15T14:55:44.303Z"
   },
   {
    "duration": 47,
    "start_time": "2021-09-15T14:55:44.323Z"
   },
   {
    "duration": 3699,
    "start_time": "2021-09-15T14:55:44.372Z"
   },
   {
    "duration": 8,
    "start_time": "2021-09-15T14:55:48.074Z"
   },
   {
    "duration": 14,
    "start_time": "2021-09-15T14:55:48.084Z"
   },
   {
    "duration": 12,
    "start_time": "2021-09-15T14:55:48.100Z"
   },
   {
    "duration": 37,
    "start_time": "2021-09-15T14:55:48.114Z"
   },
   {
    "duration": 19,
    "start_time": "2021-09-15T14:55:48.153Z"
   },
   {
    "duration": 351,
    "start_time": "2021-09-15T14:55:48.174Z"
   },
   {
    "duration": 176,
    "start_time": "2021-09-15T14:55:48.527Z"
   },
   {
    "duration": 4,
    "start_time": "2021-09-15T14:55:48.705Z"
   },
   {
    "duration": 19,
    "start_time": "2021-09-15T14:55:48.710Z"
   },
   {
    "duration": 14,
    "start_time": "2021-09-15T14:55:48.731Z"
   },
   {
    "duration": 7,
    "start_time": "2021-09-15T14:55:48.749Z"
   },
   {
    "duration": 16,
    "start_time": "2021-09-15T14:55:48.757Z"
   },
   {
    "duration": 7,
    "start_time": "2021-09-15T14:55:48.775Z"
   },
   {
    "duration": 11,
    "start_time": "2021-09-15T14:55:48.784Z"
   },
   {
    "duration": 277,
    "start_time": "2021-09-16T01:09:56.217Z"
   },
   {
    "duration": 658,
    "start_time": "2021-09-16T01:10:03.377Z"
   },
   {
    "duration": 29,
    "start_time": "2021-09-16T01:10:04.036Z"
   },
   {
    "duration": 4,
    "start_time": "2021-09-16T01:10:04.067Z"
   },
   {
    "duration": 24,
    "start_time": "2021-09-16T01:10:04.072Z"
   },
   {
    "duration": 9,
    "start_time": "2021-09-16T01:10:04.098Z"
   },
   {
    "duration": 7,
    "start_time": "2021-09-16T01:10:04.109Z"
   },
   {
    "duration": 5,
    "start_time": "2021-09-16T01:10:04.118Z"
   },
   {
    "duration": 13,
    "start_time": "2021-09-16T01:10:04.125Z"
   },
   {
    "duration": 4,
    "start_time": "2021-09-16T01:10:04.140Z"
   },
   {
    "duration": 19,
    "start_time": "2021-09-16T01:10:04.145Z"
   },
   {
    "duration": 2,
    "start_time": "2021-09-16T01:10:04.165Z"
   },
   {
    "duration": 7757,
    "start_time": "2021-09-16T01:10:04.169Z"
   },
   {
    "duration": 5,
    "start_time": "2021-09-16T01:10:11.928Z"
   },
   {
    "duration": 14,
    "start_time": "2021-09-16T01:10:11.934Z"
   },
   {
    "duration": 14,
    "start_time": "2021-09-16T01:10:11.949Z"
   },
   {
    "duration": 11,
    "start_time": "2021-09-16T01:10:11.964Z"
   },
   {
    "duration": 4,
    "start_time": "2021-09-16T01:10:11.999Z"
   },
   {
    "duration": 9,
    "start_time": "2021-09-16T01:10:12.005Z"
   },
   {
    "duration": 8,
    "start_time": "2021-09-16T01:10:12.016Z"
   },
   {
    "duration": 13,
    "start_time": "2021-09-16T01:10:12.026Z"
   },
   {
    "duration": 10,
    "start_time": "2021-09-16T01:10:12.040Z"
   },
   {
    "duration": 12,
    "start_time": "2021-09-16T01:10:12.052Z"
   },
   {
    "duration": 509,
    "start_time": "2021-09-16T01:10:12.067Z"
   },
   {
    "duration": 26,
    "start_time": "2021-09-16T01:10:12.578Z"
   },
   {
    "duration": 15,
    "start_time": "2021-09-16T01:10:12.606Z"
   },
   {
    "duration": 23,
    "start_time": "2021-09-16T01:10:12.622Z"
   },
   {
    "duration": 3292,
    "start_time": "2021-09-16T01:10:12.646Z"
   },
   {
    "duration": 7,
    "start_time": "2021-09-16T01:10:15.939Z"
   },
   {
    "duration": 10,
    "start_time": "2021-09-16T01:10:15.948Z"
   },
   {
    "duration": 10,
    "start_time": "2021-09-16T01:10:15.960Z"
   },
   {
    "duration": 34,
    "start_time": "2021-09-16T01:10:15.971Z"
   },
   {
    "duration": 18,
    "start_time": "2021-09-16T01:10:16.007Z"
   },
   {
    "duration": 321,
    "start_time": "2021-09-16T01:10:16.026Z"
   },
   {
    "duration": 168,
    "start_time": "2021-09-16T01:10:16.349Z"
   },
   {
    "duration": 3,
    "start_time": "2021-09-16T01:10:16.519Z"
   },
   {
    "duration": 11,
    "start_time": "2021-09-16T01:10:16.524Z"
   },
   {
    "duration": 7,
    "start_time": "2021-09-16T01:10:16.536Z"
   },
   {
    "duration": 7,
    "start_time": "2021-09-16T01:10:16.545Z"
   },
   {
    "duration": 9,
    "start_time": "2021-09-16T01:10:16.553Z"
   },
   {
    "duration": 6,
    "start_time": "2021-09-16T01:10:16.564Z"
   },
   {
    "duration": 11,
    "start_time": "2021-09-16T01:10:16.598Z"
   },
   {
    "duration": 348,
    "start_time": "2021-09-16T01:11:33.561Z"
   },
   {
    "duration": 232,
    "start_time": "2021-09-16T01:11:43.709Z"
   },
   {
    "duration": 13,
    "start_time": "2021-09-16T01:11:52.210Z"
   },
   {
    "duration": 12,
    "start_time": "2021-09-16T01:11:58.514Z"
   },
   {
    "duration": 1053,
    "start_time": "2021-12-01T12:23:17.508Z"
   },
   {
    "duration": 25,
    "start_time": "2021-12-01T12:23:18.563Z"
   },
   {
    "duration": 37,
    "start_time": "2021-12-01T12:23:18.590Z"
   },
   {
    "duration": 4,
    "start_time": "2021-12-01T12:23:18.629Z"
   },
   {
    "duration": 22,
    "start_time": "2021-12-01T12:23:18.634Z"
   },
   {
    "duration": 24,
    "start_time": "2021-12-01T12:23:18.657Z"
   },
   {
    "duration": 17,
    "start_time": "2021-12-01T12:23:18.682Z"
   },
   {
    "duration": 10,
    "start_time": "2021-12-01T12:23:18.701Z"
   },
   {
    "duration": 22,
    "start_time": "2021-12-01T12:23:18.715Z"
   },
   {
    "duration": 41,
    "start_time": "2021-12-01T12:23:18.739Z"
   },
   {
    "duration": 27,
    "start_time": "2021-12-01T12:23:18.782Z"
   },
   {
    "duration": 8,
    "start_time": "2021-12-01T12:23:18.811Z"
   },
   {
    "duration": 14,
    "start_time": "2021-12-01T12:23:18.821Z"
   },
   {
    "duration": 15,
    "start_time": "2021-12-01T12:23:18.837Z"
   },
   {
    "duration": 55,
    "start_time": "2021-12-01T12:23:18.854Z"
   },
   {
    "duration": 9,
    "start_time": "2021-12-01T12:23:18.912Z"
   },
   {
    "duration": 12,
    "start_time": "2021-12-01T12:23:18.923Z"
   },
   {
    "duration": 11,
    "start_time": "2021-12-01T12:23:18.937Z"
   },
   {
    "duration": 16,
    "start_time": "2021-12-01T12:23:18.950Z"
   },
   {
    "duration": 38,
    "start_time": "2021-12-01T12:23:18.968Z"
   },
   {
    "duration": 15,
    "start_time": "2021-12-01T12:23:19.011Z"
   },
   {
    "duration": 91,
    "start_time": "2021-12-01T12:23:19.029Z"
   },
   {
    "duration": 17,
    "start_time": "2021-12-01T12:23:19.123Z"
   },
   {
    "duration": 26,
    "start_time": "2021-12-01T12:23:19.141Z"
   },
   {
    "duration": 3970,
    "start_time": "2021-12-01T12:23:51.158Z"
   },
   {
    "duration": 8,
    "start_time": "2021-12-01T12:26:49.472Z"
   },
   {
    "duration": 8,
    "start_time": "2021-12-01T12:27:16.654Z"
   },
   {
    "duration": 311,
    "start_time": "2021-12-01T12:28:36.642Z"
   },
   {
    "duration": 21,
    "start_time": "2021-12-01T12:28:36.955Z"
   },
   {
    "duration": 46,
    "start_time": "2021-12-01T12:28:36.979Z"
   },
   {
    "duration": 4,
    "start_time": "2021-12-01T12:28:37.027Z"
   },
   {
    "duration": 11,
    "start_time": "2021-12-01T12:28:37.032Z"
   },
   {
    "duration": 28,
    "start_time": "2021-12-01T12:28:37.044Z"
   },
   {
    "duration": 51,
    "start_time": "2021-12-01T12:28:37.074Z"
   },
   {
    "duration": 36,
    "start_time": "2021-12-01T12:28:37.127Z"
   },
   {
    "duration": 60,
    "start_time": "2021-12-01T12:28:37.166Z"
   },
   {
    "duration": 61,
    "start_time": "2021-12-01T12:28:37.227Z"
   },
   {
    "duration": 12,
    "start_time": "2021-12-01T12:28:37.290Z"
   },
   {
    "duration": 18,
    "start_time": "2021-12-01T12:28:37.303Z"
   },
   {
    "duration": 25,
    "start_time": "2021-12-01T12:28:37.323Z"
   },
   {
    "duration": 20,
    "start_time": "2021-12-01T12:28:37.350Z"
   },
   {
    "duration": 20,
    "start_time": "2021-12-01T12:28:37.372Z"
   },
   {
    "duration": 29,
    "start_time": "2021-12-01T12:28:37.394Z"
   },
   {
    "duration": 27,
    "start_time": "2021-12-01T12:28:37.425Z"
   },
   {
    "duration": 17,
    "start_time": "2021-12-01T12:28:37.454Z"
   },
   {
    "duration": 21,
    "start_time": "2021-12-01T12:28:37.473Z"
   },
   {
    "duration": 12,
    "start_time": "2021-12-01T12:28:37.496Z"
   },
   {
    "duration": 24,
    "start_time": "2021-12-01T12:28:37.511Z"
   },
   {
    "duration": 77,
    "start_time": "2021-12-01T12:28:37.537Z"
   },
   {
    "duration": 19,
    "start_time": "2021-12-01T12:28:37.620Z"
   },
   {
    "duration": 28,
    "start_time": "2021-12-01T12:28:37.641Z"
   },
   {
    "duration": 4256,
    "start_time": "2021-12-01T12:28:37.671Z"
   },
   {
    "duration": 5,
    "start_time": "2021-12-01T12:28:41.929Z"
   },
   {
    "duration": 20,
    "start_time": "2021-12-01T12:28:41.935Z"
   },
   {
    "duration": 5,
    "start_time": "2021-12-01T12:30:03.792Z"
   },
   {
    "duration": 6,
    "start_time": "2021-12-01T12:30:13.486Z"
   },
   {
    "duration": 10,
    "start_time": "2021-12-01T12:30:20.321Z"
   },
   {
    "duration": 9,
    "start_time": "2021-12-01T12:32:40.992Z"
   },
   {
    "duration": 17,
    "start_time": "2021-12-01T12:36:09.669Z"
   },
   {
    "duration": 405,
    "start_time": "2021-12-01T12:37:48.080Z"
   },
   {
    "duration": 187,
    "start_time": "2021-12-01T12:39:01.637Z"
   },
   {
    "duration": 5,
    "start_time": "2021-12-01T12:39:17.505Z"
   },
   {
    "duration": 7,
    "start_time": "2021-12-01T12:39:31.743Z"
   },
   {
    "duration": 7,
    "start_time": "2021-12-01T12:40:00.843Z"
   },
   {
    "duration": 9,
    "start_time": "2021-12-01T12:41:52.574Z"
   },
   {
    "duration": 8,
    "start_time": "2021-12-01T12:42:45.065Z"
   },
   {
    "duration": 8,
    "start_time": "2021-12-01T12:43:53.916Z"
   },
   {
    "duration": 315,
    "start_time": "2021-12-01T13:00:00.095Z"
   },
   {
    "duration": 25,
    "start_time": "2021-12-01T13:00:00.413Z"
   },
   {
    "duration": 37,
    "start_time": "2021-12-01T13:00:00.440Z"
   },
   {
    "duration": 4,
    "start_time": "2021-12-01T13:00:00.479Z"
   },
   {
    "duration": 30,
    "start_time": "2021-12-01T13:00:00.485Z"
   },
   {
    "duration": 34,
    "start_time": "2021-12-01T13:00:00.518Z"
   },
   {
    "duration": 80,
    "start_time": "2021-12-01T13:00:00.554Z"
   },
   {
    "duration": 11,
    "start_time": "2021-12-01T13:00:00.637Z"
   },
   {
    "duration": 32,
    "start_time": "2021-12-01T13:00:00.651Z"
   },
   {
    "duration": 73,
    "start_time": "2021-12-01T13:00:00.685Z"
   },
   {
    "duration": 21,
    "start_time": "2021-12-01T13:00:00.760Z"
   },
   {
    "duration": 21,
    "start_time": "2021-12-01T13:00:00.783Z"
   },
   {
    "duration": 74,
    "start_time": "2021-12-01T13:00:00.810Z"
   },
   {
    "duration": 59,
    "start_time": "2021-12-01T13:00:00.886Z"
   },
   {
    "duration": 22,
    "start_time": "2021-12-01T13:00:00.947Z"
   },
   {
    "duration": 17,
    "start_time": "2021-12-01T13:00:00.971Z"
   },
   {
    "duration": 32,
    "start_time": "2021-12-01T13:00:00.989Z"
   },
   {
    "duration": 13,
    "start_time": "2021-12-01T13:00:01.023Z"
   },
   {
    "duration": 33,
    "start_time": "2021-12-01T13:00:01.039Z"
   },
   {
    "duration": 23,
    "start_time": "2021-12-01T13:00:01.074Z"
   },
   {
    "duration": 27,
    "start_time": "2021-12-01T13:00:01.099Z"
   },
   {
    "duration": 86,
    "start_time": "2021-12-01T13:00:01.128Z"
   },
   {
    "duration": 20,
    "start_time": "2021-12-01T13:00:01.220Z"
   },
   {
    "duration": 34,
    "start_time": "2021-12-01T13:00:01.242Z"
   },
   {
    "duration": 4164,
    "start_time": "2021-12-01T13:00:01.279Z"
   },
   {
    "duration": 4,
    "start_time": "2021-12-01T13:00:05.446Z"
   },
   {
    "duration": 61,
    "start_time": "2021-12-01T13:00:05.452Z"
   },
   {
    "duration": 32,
    "start_time": "2021-12-01T13:00:05.515Z"
   },
   {
    "duration": 89,
    "start_time": "2021-12-01T13:00:05.550Z"
   },
   {
    "duration": 384,
    "start_time": "2021-12-01T13:00:05.641Z"
   },
   {
    "duration": 238,
    "start_time": "2021-12-01T13:00:06.027Z"
   },
   {
    "duration": 6,
    "start_time": "2021-12-01T13:00:06.267Z"
   },
   {
    "duration": 37,
    "start_time": "2021-12-01T13:00:06.275Z"
   },
   {
    "duration": 18,
    "start_time": "2021-12-01T13:00:06.315Z"
   },
   {
    "duration": 41,
    "start_time": "2021-12-01T13:00:06.335Z"
   },
   {
    "duration": 19,
    "start_time": "2021-12-01T13:00:06.378Z"
   },
   {
    "duration": 43,
    "start_time": "2021-12-01T13:00:06.399Z"
   }
  ],
  "kernelspec": {
   "display_name": "Python 3",
   "language": "python",
   "name": "python3"
  },
  "language_info": {
   "codemirror_mode": {
    "name": "ipython",
    "version": 3
   },
   "file_extension": ".py",
   "mimetype": "text/x-python",
   "name": "python",
   "nbconvert_exporter": "python",
   "pygments_lexer": "ipython3",
   "version": "3.7.3"
  },
  "toc": {
   "base_numbering": 1,
   "nav_menu": {},
   "number_sections": true,
   "sideBar": true,
   "skip_h1_title": true,
   "title_cell": "Table of Contents",
   "title_sidebar": "Contents",
   "toc_cell": false,
   "toc_position": {},
   "toc_section_display": true,
   "toc_window_display": false
  }
 },
 "nbformat": 4,
 "nbformat_minor": 2
}
