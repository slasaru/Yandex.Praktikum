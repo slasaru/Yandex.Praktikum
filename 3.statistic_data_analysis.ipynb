{
 "cells": [
  {
   "cell_type": "markdown",
   "metadata": {},
   "source": [
    "# Содержание\n",
    "\n",
    "1. Изучение данных из файлов  \n",
    "2. Подготовка данных  \n",
    "3. Анализ данных  \n",
    "4. Проверка гипотез  \n",
    "5. Общий вывод"
   ]
  },
  {
   "cell_type": "markdown",
   "metadata": {},
   "source": [
    "# Определение перспективного тарифа для телеком-компании \n",
    "На основании небольшой выборки клиентов оператора сотовой связи необходимо сделать предварительный анализ тарифов. В нашем  распоряжении данные 500 пользователей: кто они, откуда, каким тарифом пользуются, сколько звонков и сообщений каждый отправил за 2018 год. Нужно проанализировать поведение клиентов и сделать вывод — какой тариф лучше."
   ]
  },
  {
   "cell_type": "markdown",
   "metadata": {},
   "source": [
    "# 1. Изучение данных из файлов <a class=\"anchor\" id=\"first-bullet\"></a>"
   ]
  },
  {
   "cell_type": "markdown",
   "metadata": {},
   "source": [
    "Открываем данные:"
   ]
  },
  {
   "cell_type": "code",
   "execution_count": 67,
   "metadata": {},
   "outputs": [],
   "source": [
    "import pandas as pd\n",
    "import numpy as np\n",
    "from datetime import datetime\n",
    "import matplotlib.pyplot as plt\n",
    "from matplotlib import pyplot as plt\n",
    "from scipy import stats as st\n",
    "import scipy.stats as stats\n",
    "import warnings\n",
    "warnings.filterwarnings(\"ignore\")\n",
    "\n",
    "try:\n",
    "    calls = pd.read_csv('calls.csv')\n",
    "    internet = pd.read_csv('internet.csv',index_col=0)\n",
    "    messages = pd.read_csv('messages.csv')\n",
    "    tariffs = pd.read_csv('tariffs.csv')\n",
    "    users = pd.read_csv('users.csv')\n",
    "\n",
    "except:\n",
    "    calls = pd.read_csv('/datasets/calls.csv')\n",
    "    internet = pd.read_csv('/datasets/internet.csv',index_col=0)\n",
    "    messages = pd.read_csv('/datasets/messages.csv')\n",
    "    tariffs = pd.read_csv('/datasets/tariffs.csv')\n",
    "    users = pd.read_csv('/datasets/users.csv')"
   ]
  },
  {
   "cell_type": "markdown",
   "metadata": {},
   "source": [
    "Предпросмотр по порядку:"
   ]
  },
  {
   "cell_type": "code",
   "execution_count": 68,
   "metadata": {},
   "outputs": [
    {
     "data": {
      "text/html": [
       "<div>\n",
       "<style scoped>\n",
       "    .dataframe tbody tr th:only-of-type {\n",
       "        vertical-align: middle;\n",
       "    }\n",
       "\n",
       "    .dataframe tbody tr th {\n",
       "        vertical-align: top;\n",
       "    }\n",
       "\n",
       "    .dataframe thead th {\n",
       "        text-align: right;\n",
       "    }\n",
       "</style>\n",
       "<table border=\"1\" class=\"dataframe\">\n",
       "  <thead>\n",
       "    <tr style=\"text-align: right;\">\n",
       "      <th></th>\n",
       "      <th>id</th>\n",
       "      <th>call_date</th>\n",
       "      <th>duration</th>\n",
       "      <th>user_id</th>\n",
       "    </tr>\n",
       "  </thead>\n",
       "  <tbody>\n",
       "    <tr>\n",
       "      <th>0</th>\n",
       "      <td>1000_0</td>\n",
       "      <td>2018-07-25</td>\n",
       "      <td>0.00</td>\n",
       "      <td>1000</td>\n",
       "    </tr>\n",
       "    <tr>\n",
       "      <th>1</th>\n",
       "      <td>1000_1</td>\n",
       "      <td>2018-08-17</td>\n",
       "      <td>0.00</td>\n",
       "      <td>1000</td>\n",
       "    </tr>\n",
       "    <tr>\n",
       "      <th>2</th>\n",
       "      <td>1000_2</td>\n",
       "      <td>2018-06-11</td>\n",
       "      <td>2.85</td>\n",
       "      <td>1000</td>\n",
       "    </tr>\n",
       "    <tr>\n",
       "      <th>3</th>\n",
       "      <td>1000_3</td>\n",
       "      <td>2018-09-21</td>\n",
       "      <td>13.80</td>\n",
       "      <td>1000</td>\n",
       "    </tr>\n",
       "    <tr>\n",
       "      <th>4</th>\n",
       "      <td>1000_4</td>\n",
       "      <td>2018-12-15</td>\n",
       "      <td>5.18</td>\n",
       "      <td>1000</td>\n",
       "    </tr>\n",
       "  </tbody>\n",
       "</table>\n",
       "</div>"
      ],
      "text/plain": [
       "       id   call_date  duration  user_id\n",
       "0  1000_0  2018-07-25      0.00     1000\n",
       "1  1000_1  2018-08-17      0.00     1000\n",
       "2  1000_2  2018-06-11      2.85     1000\n",
       "3  1000_3  2018-09-21     13.80     1000\n",
       "4  1000_4  2018-12-15      5.18     1000"
      ]
     },
     "execution_count": 68,
     "metadata": {},
     "output_type": "execute_result"
    }
   ],
   "source": [
    "calls.head()"
   ]
  },
  {
   "cell_type": "code",
   "execution_count": 69,
   "metadata": {},
   "outputs": [
    {
     "name": "stdout",
     "output_type": "stream",
     "text": [
      "<class 'pandas.core.frame.DataFrame'>\n",
      "RangeIndex: 202607 entries, 0 to 202606\n",
      "Data columns (total 4 columns):\n",
      "id           202607 non-null object\n",
      "call_date    202607 non-null object\n",
      "duration     202607 non-null float64\n",
      "user_id      202607 non-null int64\n",
      "dtypes: float64(1), int64(1), object(2)\n",
      "memory usage: 6.2+ MB\n"
     ]
    }
   ],
   "source": [
    "calls.info()"
   ]
  },
  {
   "cell_type": "markdown",
   "metadata": {},
   "source": [
    "**Вывод по файлу calls:** \n",
    "- пропущенных значений нет;\n",
    "- дата звонка задана в текстовом формате, а не в формате даты - **ИСПРАВИТЬ ДАЛЕЕ**"
   ]
  },
  {
   "cell_type": "code",
   "execution_count": 70,
   "metadata": {},
   "outputs": [
    {
     "data": {
      "text/html": [
       "<div>\n",
       "<style scoped>\n",
       "    .dataframe tbody tr th:only-of-type {\n",
       "        vertical-align: middle;\n",
       "    }\n",
       "\n",
       "    .dataframe tbody tr th {\n",
       "        vertical-align: top;\n",
       "    }\n",
       "\n",
       "    .dataframe thead th {\n",
       "        text-align: right;\n",
       "    }\n",
       "</style>\n",
       "<table border=\"1\" class=\"dataframe\">\n",
       "  <thead>\n",
       "    <tr style=\"text-align: right;\">\n",
       "      <th></th>\n",
       "      <th>id</th>\n",
       "      <th>mb_used</th>\n",
       "      <th>session_date</th>\n",
       "      <th>user_id</th>\n",
       "    </tr>\n",
       "  </thead>\n",
       "  <tbody>\n",
       "    <tr>\n",
       "      <th>0</th>\n",
       "      <td>1000_0</td>\n",
       "      <td>112.95</td>\n",
       "      <td>2018-11-25</td>\n",
       "      <td>1000</td>\n",
       "    </tr>\n",
       "    <tr>\n",
       "      <th>1</th>\n",
       "      <td>1000_1</td>\n",
       "      <td>1052.81</td>\n",
       "      <td>2018-09-07</td>\n",
       "      <td>1000</td>\n",
       "    </tr>\n",
       "    <tr>\n",
       "      <th>2</th>\n",
       "      <td>1000_2</td>\n",
       "      <td>1197.26</td>\n",
       "      <td>2018-06-25</td>\n",
       "      <td>1000</td>\n",
       "    </tr>\n",
       "    <tr>\n",
       "      <th>3</th>\n",
       "      <td>1000_3</td>\n",
       "      <td>550.27</td>\n",
       "      <td>2018-08-22</td>\n",
       "      <td>1000</td>\n",
       "    </tr>\n",
       "    <tr>\n",
       "      <th>4</th>\n",
       "      <td>1000_4</td>\n",
       "      <td>302.56</td>\n",
       "      <td>2018-09-24</td>\n",
       "      <td>1000</td>\n",
       "    </tr>\n",
       "  </tbody>\n",
       "</table>\n",
       "</div>"
      ],
      "text/plain": [
       "       id  mb_used session_date  user_id\n",
       "0  1000_0   112.95   2018-11-25     1000\n",
       "1  1000_1  1052.81   2018-09-07     1000\n",
       "2  1000_2  1197.26   2018-06-25     1000\n",
       "3  1000_3   550.27   2018-08-22     1000\n",
       "4  1000_4   302.56   2018-09-24     1000"
      ]
     },
     "execution_count": 70,
     "metadata": {},
     "output_type": "execute_result"
    }
   ],
   "source": [
    "internet.head()"
   ]
  },
  {
   "cell_type": "code",
   "execution_count": 71,
   "metadata": {},
   "outputs": [
    {
     "name": "stdout",
     "output_type": "stream",
     "text": [
      "<class 'pandas.core.frame.DataFrame'>\n",
      "Int64Index: 149396 entries, 0 to 149395\n",
      "Data columns (total 4 columns):\n",
      "id              149396 non-null object\n",
      "mb_used         149396 non-null float64\n",
      "session_date    149396 non-null object\n",
      "user_id         149396 non-null int64\n",
      "dtypes: float64(1), int64(1), object(2)\n",
      "memory usage: 5.7+ MB\n"
     ]
    }
   ],
   "source": [
    "internet.info()"
   ]
  },
  {
   "cell_type": "markdown",
   "metadata": {},
   "source": [
    "**Вывод по файлу internet:** \n",
    "- пропущенных значений нет;\n",
    "- дата сессий задана в текстовом формате, а не в формате даты - **ИСПРАВИТЬ ДАЛЕЕ**"
   ]
  },
  {
   "cell_type": "code",
   "execution_count": 72,
   "metadata": {},
   "outputs": [
    {
     "data": {
      "text/html": [
       "<div>\n",
       "<style scoped>\n",
       "    .dataframe tbody tr th:only-of-type {\n",
       "        vertical-align: middle;\n",
       "    }\n",
       "\n",
       "    .dataframe tbody tr th {\n",
       "        vertical-align: top;\n",
       "    }\n",
       "\n",
       "    .dataframe thead th {\n",
       "        text-align: right;\n",
       "    }\n",
       "</style>\n",
       "<table border=\"1\" class=\"dataframe\">\n",
       "  <thead>\n",
       "    <tr style=\"text-align: right;\">\n",
       "      <th></th>\n",
       "      <th>id</th>\n",
       "      <th>message_date</th>\n",
       "      <th>user_id</th>\n",
       "    </tr>\n",
       "  </thead>\n",
       "  <tbody>\n",
       "    <tr>\n",
       "      <th>0</th>\n",
       "      <td>1000_0</td>\n",
       "      <td>2018-06-27</td>\n",
       "      <td>1000</td>\n",
       "    </tr>\n",
       "    <tr>\n",
       "      <th>1</th>\n",
       "      <td>1000_1</td>\n",
       "      <td>2018-10-08</td>\n",
       "      <td>1000</td>\n",
       "    </tr>\n",
       "    <tr>\n",
       "      <th>2</th>\n",
       "      <td>1000_2</td>\n",
       "      <td>2018-08-04</td>\n",
       "      <td>1000</td>\n",
       "    </tr>\n",
       "    <tr>\n",
       "      <th>3</th>\n",
       "      <td>1000_3</td>\n",
       "      <td>2018-06-16</td>\n",
       "      <td>1000</td>\n",
       "    </tr>\n",
       "    <tr>\n",
       "      <th>4</th>\n",
       "      <td>1000_4</td>\n",
       "      <td>2018-12-05</td>\n",
       "      <td>1000</td>\n",
       "    </tr>\n",
       "  </tbody>\n",
       "</table>\n",
       "</div>"
      ],
      "text/plain": [
       "       id message_date  user_id\n",
       "0  1000_0   2018-06-27     1000\n",
       "1  1000_1   2018-10-08     1000\n",
       "2  1000_2   2018-08-04     1000\n",
       "3  1000_3   2018-06-16     1000\n",
       "4  1000_4   2018-12-05     1000"
      ]
     },
     "execution_count": 72,
     "metadata": {},
     "output_type": "execute_result"
    }
   ],
   "source": [
    "messages.head()"
   ]
  },
  {
   "cell_type": "code",
   "execution_count": 73,
   "metadata": {},
   "outputs": [
    {
     "name": "stdout",
     "output_type": "stream",
     "text": [
      "<class 'pandas.core.frame.DataFrame'>\n",
      "RangeIndex: 123036 entries, 0 to 123035\n",
      "Data columns (total 3 columns):\n",
      "id              123036 non-null object\n",
      "message_date    123036 non-null object\n",
      "user_id         123036 non-null int64\n",
      "dtypes: int64(1), object(2)\n",
      "memory usage: 2.8+ MB\n"
     ]
    }
   ],
   "source": [
    "messages.info()"
   ]
  },
  {
   "cell_type": "markdown",
   "metadata": {},
   "source": [
    "**Вывод по файлу messages:** \n",
    "- пропущенных значений нет;\n",
    "- дата сообщений задана в текстовом формате, а не в формате даты - **ИСПРАВИТЬ ДАЛЕЕ**"
   ]
  },
  {
   "cell_type": "code",
   "execution_count": 74,
   "metadata": {},
   "outputs": [
    {
     "data": {
      "text/html": [
       "<div>\n",
       "<style scoped>\n",
       "    .dataframe tbody tr th:only-of-type {\n",
       "        vertical-align: middle;\n",
       "    }\n",
       "\n",
       "    .dataframe tbody tr th {\n",
       "        vertical-align: top;\n",
       "    }\n",
       "\n",
       "    .dataframe thead th {\n",
       "        text-align: right;\n",
       "    }\n",
       "</style>\n",
       "<table border=\"1\" class=\"dataframe\">\n",
       "  <thead>\n",
       "    <tr style=\"text-align: right;\">\n",
       "      <th></th>\n",
       "      <th>messages_included</th>\n",
       "      <th>mb_per_month_included</th>\n",
       "      <th>minutes_included</th>\n",
       "      <th>rub_monthly_fee</th>\n",
       "      <th>rub_per_gb</th>\n",
       "      <th>rub_per_message</th>\n",
       "      <th>rub_per_minute</th>\n",
       "      <th>tariff_name</th>\n",
       "    </tr>\n",
       "  </thead>\n",
       "  <tbody>\n",
       "    <tr>\n",
       "      <th>0</th>\n",
       "      <td>50</td>\n",
       "      <td>15360</td>\n",
       "      <td>500</td>\n",
       "      <td>550</td>\n",
       "      <td>200</td>\n",
       "      <td>3</td>\n",
       "      <td>3</td>\n",
       "      <td>smart</td>\n",
       "    </tr>\n",
       "    <tr>\n",
       "      <th>1</th>\n",
       "      <td>1000</td>\n",
       "      <td>30720</td>\n",
       "      <td>3000</td>\n",
       "      <td>1950</td>\n",
       "      <td>150</td>\n",
       "      <td>1</td>\n",
       "      <td>1</td>\n",
       "      <td>ultra</td>\n",
       "    </tr>\n",
       "  </tbody>\n",
       "</table>\n",
       "</div>"
      ],
      "text/plain": [
       "   messages_included  mb_per_month_included  minutes_included  \\\n",
       "0                 50                  15360               500   \n",
       "1               1000                  30720              3000   \n",
       "\n",
       "   rub_monthly_fee  rub_per_gb  rub_per_message  rub_per_minute tariff_name  \n",
       "0              550         200                3               3       smart  \n",
       "1             1950         150                1               1       ultra  "
      ]
     },
     "execution_count": 74,
     "metadata": {},
     "output_type": "execute_result"
    }
   ],
   "source": [
    "tariffs.head()"
   ]
  },
  {
   "cell_type": "code",
   "execution_count": 75,
   "metadata": {},
   "outputs": [
    {
     "name": "stdout",
     "output_type": "stream",
     "text": [
      "<class 'pandas.core.frame.DataFrame'>\n",
      "RangeIndex: 2 entries, 0 to 1\n",
      "Data columns (total 8 columns):\n",
      "messages_included        2 non-null int64\n",
      "mb_per_month_included    2 non-null int64\n",
      "minutes_included         2 non-null int64\n",
      "rub_monthly_fee          2 non-null int64\n",
      "rub_per_gb               2 non-null int64\n",
      "rub_per_message          2 non-null int64\n",
      "rub_per_minute           2 non-null int64\n",
      "tariff_name              2 non-null object\n",
      "dtypes: int64(7), object(1)\n",
      "memory usage: 208.0+ bytes\n"
     ]
    }
   ],
   "source": [
    "tariffs.info()"
   ]
  },
  {
   "cell_type": "markdown",
   "metadata": {},
   "source": [
    "**Вывод по файлу messages:** \n",
    "- пропущенных значений нет;\n",
    "- несоответствий форматирования нет"
   ]
  },
  {
   "cell_type": "code",
   "execution_count": 76,
   "metadata": {},
   "outputs": [
    {
     "data": {
      "text/html": [
       "<div>\n",
       "<style scoped>\n",
       "    .dataframe tbody tr th:only-of-type {\n",
       "        vertical-align: middle;\n",
       "    }\n",
       "\n",
       "    .dataframe tbody tr th {\n",
       "        vertical-align: top;\n",
       "    }\n",
       "\n",
       "    .dataframe thead th {\n",
       "        text-align: right;\n",
       "    }\n",
       "</style>\n",
       "<table border=\"1\" class=\"dataframe\">\n",
       "  <thead>\n",
       "    <tr style=\"text-align: right;\">\n",
       "      <th></th>\n",
       "      <th>user_id</th>\n",
       "      <th>age</th>\n",
       "      <th>churn_date</th>\n",
       "      <th>city</th>\n",
       "      <th>first_name</th>\n",
       "      <th>last_name</th>\n",
       "      <th>reg_date</th>\n",
       "      <th>tariff</th>\n",
       "    </tr>\n",
       "  </thead>\n",
       "  <tbody>\n",
       "    <tr>\n",
       "      <th>0</th>\n",
       "      <td>1000</td>\n",
       "      <td>52</td>\n",
       "      <td>NaN</td>\n",
       "      <td>Краснодар</td>\n",
       "      <td>Рафаил</td>\n",
       "      <td>Верещагин</td>\n",
       "      <td>2018-05-25</td>\n",
       "      <td>ultra</td>\n",
       "    </tr>\n",
       "    <tr>\n",
       "      <th>1</th>\n",
       "      <td>1001</td>\n",
       "      <td>41</td>\n",
       "      <td>NaN</td>\n",
       "      <td>Москва</td>\n",
       "      <td>Иван</td>\n",
       "      <td>Ежов</td>\n",
       "      <td>2018-11-01</td>\n",
       "      <td>smart</td>\n",
       "    </tr>\n",
       "    <tr>\n",
       "      <th>2</th>\n",
       "      <td>1002</td>\n",
       "      <td>59</td>\n",
       "      <td>NaN</td>\n",
       "      <td>Стерлитамак</td>\n",
       "      <td>Евгений</td>\n",
       "      <td>Абрамович</td>\n",
       "      <td>2018-06-17</td>\n",
       "      <td>smart</td>\n",
       "    </tr>\n",
       "    <tr>\n",
       "      <th>3</th>\n",
       "      <td>1003</td>\n",
       "      <td>23</td>\n",
       "      <td>NaN</td>\n",
       "      <td>Москва</td>\n",
       "      <td>Белла</td>\n",
       "      <td>Белякова</td>\n",
       "      <td>2018-08-17</td>\n",
       "      <td>ultra</td>\n",
       "    </tr>\n",
       "    <tr>\n",
       "      <th>4</th>\n",
       "      <td>1004</td>\n",
       "      <td>68</td>\n",
       "      <td>NaN</td>\n",
       "      <td>Новокузнецк</td>\n",
       "      <td>Татьяна</td>\n",
       "      <td>Авдеенко</td>\n",
       "      <td>2018-05-14</td>\n",
       "      <td>ultra</td>\n",
       "    </tr>\n",
       "  </tbody>\n",
       "</table>\n",
       "</div>"
      ],
      "text/plain": [
       "   user_id  age churn_date         city first_name  last_name    reg_date  \\\n",
       "0     1000   52        NaN    Краснодар     Рафаил  Верещагин  2018-05-25   \n",
       "1     1001   41        NaN       Москва       Иван       Ежов  2018-11-01   \n",
       "2     1002   59        NaN  Стерлитамак    Евгений  Абрамович  2018-06-17   \n",
       "3     1003   23        NaN       Москва      Белла   Белякова  2018-08-17   \n",
       "4     1004   68        NaN  Новокузнецк    Татьяна   Авдеенко  2018-05-14   \n",
       "\n",
       "  tariff  \n",
       "0  ultra  \n",
       "1  smart  \n",
       "2  smart  \n",
       "3  ultra  \n",
       "4  ultra  "
      ]
     },
     "execution_count": 76,
     "metadata": {},
     "output_type": "execute_result"
    }
   ],
   "source": [
    "users.head()"
   ]
  },
  {
   "cell_type": "code",
   "execution_count": 77,
   "metadata": {},
   "outputs": [
    {
     "name": "stdout",
     "output_type": "stream",
     "text": [
      "<class 'pandas.core.frame.DataFrame'>\n",
      "RangeIndex: 500 entries, 0 to 499\n",
      "Data columns (total 8 columns):\n",
      "user_id       500 non-null int64\n",
      "age           500 non-null int64\n",
      "churn_date    38 non-null object\n",
      "city          500 non-null object\n",
      "first_name    500 non-null object\n",
      "last_name     500 non-null object\n",
      "reg_date      500 non-null object\n",
      "tariff        500 non-null object\n",
      "dtypes: int64(2), object(6)\n",
      "memory usage: 31.3+ KB\n"
     ]
    }
   ],
   "source": [
    "users.info()"
   ]
  },
  {
   "cell_type": "markdown",
   "metadata": {},
   "source": [
    "Проверим единообразие в оформлении названий городов, поскольку городов немного, можем проверить \"вручную\":"
   ]
  },
  {
   "cell_type": "code",
   "execution_count": 78,
   "metadata": {},
   "outputs": [
    {
     "data": {
      "text/plain": [
       "array(['Краснодар', 'Москва', 'Стерлитамак', 'Новокузнецк',\n",
       "       'Набережные Челны', 'Ульяновск', 'Челябинск', 'Пермь', 'Тюмень',\n",
       "       'Самара', 'Санкт-Петербург', 'Иваново', 'Чебоксары', 'Омск', 'Уфа',\n",
       "       'Томск', 'Чита', 'Мурманск', 'Петрозаводск', 'Тверь',\n",
       "       'Екатеринбург', 'Махачкала', 'Вологда', 'Череповец', 'Ярославль',\n",
       "       'Сочи', 'Хабаровск', 'Ставрополь', 'Рязань', 'Улан-Удэ', 'Тула',\n",
       "       'Саратов', 'Ростов-на-Дону', 'Казань', 'Иркутск', 'Курск',\n",
       "       'Калуга', 'Якутск', 'Астрахань', 'Химки', 'Владикавказ',\n",
       "       'Волгоград', 'Саранск', 'Ижевск', 'Новосибирск', 'Брянск',\n",
       "       'Тольятти', 'Нижний Тагил', 'Орёл', 'Белгород', 'Воронеж',\n",
       "       'Волжский', 'Курган', 'Барнаул', 'Красноярск', 'Архангельск',\n",
       "       'Липецк', 'Кемерово', 'Киров', 'Сургут', 'Пенза', 'Магнитогорск',\n",
       "       'Нижний Новгород', 'Кострома', 'Владивосток', 'Тамбов', 'Балашиха',\n",
       "       'Севастополь', 'Калининград', 'Оренбург', 'Смоленск',\n",
       "       'Нижневартовск', 'Владимир', 'Новороссийск', 'Грозный', 'Подольск'],\n",
       "      dtype=object)"
      ]
     },
     "execution_count": 78,
     "metadata": {},
     "output_type": "execute_result"
    }
   ],
   "source": [
    "users['city'].unique()"
   ]
  },
  {
   "cell_type": "markdown",
   "metadata": {},
   "source": [
    "**Вывод по файлу users:** \n",
    "- пропущенные значения в столбце отказа от тарифа;\n",
    "- даты reg_date в текстовом формате - **ИСПРАВИТЬ ДАЛЕЕ**;\n",
    "- список городов корректен, частичных дублирований / ошибок нет"
   ]
  },
  {
   "cell_type": "markdown",
   "metadata": {},
   "source": [
    "**1.1. Общие выводы по разделу:** <a class=\"anchor\" id=\"first-zero-bullet\"></a>\n",
    "- в целом набор данных подготовлен корректно, пропущенных значений нет (за исключением даты отказа от тарифа, но это и логично: не все пользователи будут отказываться от тарифа);\n",
    "- необходимо перевести даты в соответствующий формат."
   ]
  },
  {
   "cell_type": "markdown",
   "metadata": {},
   "source": [
    "# 2. Подготовка данных <a class=\"anchor\" id=\"second-bullet\"></a>\n",
    "\n",
    "- Приведем данные к нужным типам;\n",
    "- Найдем и исправим ошибки в данных, если они есть.\n",
    "\n",
    "Нулевые значения ошибками не являются."
   ]
  },
  {
   "cell_type": "markdown",
   "metadata": {},
   "source": [
    "Как было отмечено ранее, исправим данные на формат дат и проверим:"
   ]
  },
  {
   "cell_type": "code",
   "execution_count": 79,
   "metadata": {},
   "outputs": [
    {
     "name": "stdout",
     "output_type": "stream",
     "text": [
      "Столбец call_date, тип данных: datetime64[ns]\n",
      "Столбец session_date, тип данных: datetime64[ns]\n",
      "Столбец message_date, тип данных: datetime64[ns]\n",
      "Столбец churn_date, тип данных: datetime64[ns]\n",
      "Столбец reg_date, тип данных: datetime64[ns]\n"
     ]
    }
   ],
   "source": [
    "for table in [calls, internet, messages, users]:\n",
    "    for col in table:\n",
    "        if 'date' in col:\n",
    "            table[col] = pd.to_datetime(table[col], format='%Y-%m-%d')\n",
    "            print(f\"Столбец {table[col].name}, тип данных: {table[col].dtype}\")"
   ]
  },
  {
   "cell_type": "markdown",
   "metadata": {},
   "source": [
    "Посчитаем для каждого пользователя:\n",
    "- количество сделанных звонков и израсходованных минут разговора по месяцам;\n",
    "- количество отправленных сообщений по месяцам;\n",
    "- объем израсходованного интернет-трафика по месяцам;\n",
    "- помесячную выручку с каждого пользователя (вычтите бесплатный лимит из суммарного количества звонков, сообщений и интернет-трафика; остаток умножьте на значение из тарифного плана; прибавьте абонентскую плату, соответствующую тарифному плану)."
   ]
  },
  {
   "cell_type": "markdown",
   "metadata": {},
   "source": [
    "**Количество сделанных звонков и израсходованных минут разговора по месяцам**\n",
    "\n",
    "Округлим значения продолжительности разговоров в большую сторону:"
   ]
  },
  {
   "cell_type": "code",
   "execution_count": 80,
   "metadata": {},
   "outputs": [
    {
     "data": {
      "text/html": [
       "<div>\n",
       "<style scoped>\n",
       "    .dataframe tbody tr th:only-of-type {\n",
       "        vertical-align: middle;\n",
       "    }\n",
       "\n",
       "    .dataframe tbody tr th {\n",
       "        vertical-align: top;\n",
       "    }\n",
       "\n",
       "    .dataframe thead th {\n",
       "        text-align: right;\n",
       "    }\n",
       "</style>\n",
       "<table border=\"1\" class=\"dataframe\">\n",
       "  <thead>\n",
       "    <tr style=\"text-align: right;\">\n",
       "      <th></th>\n",
       "      <th>user_id</th>\n",
       "      <th>month</th>\n",
       "      <th>num_calls</th>\n",
       "      <th>len_calls</th>\n",
       "    </tr>\n",
       "  </thead>\n",
       "  <tbody>\n",
       "    <tr>\n",
       "      <th>0</th>\n",
       "      <td>1000</td>\n",
       "      <td>5</td>\n",
       "      <td>22</td>\n",
       "      <td>159.0</td>\n",
       "    </tr>\n",
       "    <tr>\n",
       "      <th>1</th>\n",
       "      <td>1000</td>\n",
       "      <td>6</td>\n",
       "      <td>43</td>\n",
       "      <td>172.0</td>\n",
       "    </tr>\n",
       "    <tr>\n",
       "      <th>2</th>\n",
       "      <td>1000</td>\n",
       "      <td>7</td>\n",
       "      <td>47</td>\n",
       "      <td>340.0</td>\n",
       "    </tr>\n",
       "    <tr>\n",
       "      <th>3</th>\n",
       "      <td>1000</td>\n",
       "      <td>8</td>\n",
       "      <td>52</td>\n",
       "      <td>408.0</td>\n",
       "    </tr>\n",
       "    <tr>\n",
       "      <th>4</th>\n",
       "      <td>1000</td>\n",
       "      <td>9</td>\n",
       "      <td>58</td>\n",
       "      <td>466.0</td>\n",
       "    </tr>\n",
       "  </tbody>\n",
       "</table>\n",
       "</div>"
      ],
      "text/plain": [
       "   user_id  month  num_calls  len_calls\n",
       "0     1000      5         22      159.0\n",
       "1     1000      6         43      172.0\n",
       "2     1000      7         47      340.0\n",
       "3     1000      8         52      408.0\n",
       "4     1000      9         58      466.0"
      ]
     },
     "execution_count": 80,
     "metadata": {},
     "output_type": "execute_result"
    }
   ],
   "source": [
    "calls['call_month'] = calls['call_date'].dt.month\n",
    "calls['duration'] = np.ceil(calls['duration'])\n",
    "calls_stacked  = calls.groupby(['user_id','call_month']).agg({'id':'count', 'duration':'sum'}).reset_index()\n",
    "calls_stacked.columns = ['user_id','month', 'num_calls', 'len_calls']\n",
    "calls_stacked.head()"
   ]
  },
  {
   "cell_type": "markdown",
   "metadata": {},
   "source": [
    "**Количество отправленных сообщений по месяцам**"
   ]
  },
  {
   "cell_type": "code",
   "execution_count": 81,
   "metadata": {},
   "outputs": [
    {
     "data": {
      "text/html": [
       "<div>\n",
       "<style scoped>\n",
       "    .dataframe tbody tr th:only-of-type {\n",
       "        vertical-align: middle;\n",
       "    }\n",
       "\n",
       "    .dataframe tbody tr th {\n",
       "        vertical-align: top;\n",
       "    }\n",
       "\n",
       "    .dataframe thead th {\n",
       "        text-align: right;\n",
       "    }\n",
       "</style>\n",
       "<table border=\"1\" class=\"dataframe\">\n",
       "  <thead>\n",
       "    <tr style=\"text-align: right;\">\n",
       "      <th></th>\n",
       "      <th>user_id</th>\n",
       "      <th>month</th>\n",
       "      <th>num_messages</th>\n",
       "    </tr>\n",
       "  </thead>\n",
       "  <tbody>\n",
       "    <tr>\n",
       "      <th>0</th>\n",
       "      <td>1000</td>\n",
       "      <td>5</td>\n",
       "      <td>22</td>\n",
       "    </tr>\n",
       "    <tr>\n",
       "      <th>1</th>\n",
       "      <td>1000</td>\n",
       "      <td>6</td>\n",
       "      <td>60</td>\n",
       "    </tr>\n",
       "    <tr>\n",
       "      <th>2</th>\n",
       "      <td>1000</td>\n",
       "      <td>7</td>\n",
       "      <td>75</td>\n",
       "    </tr>\n",
       "    <tr>\n",
       "      <th>3</th>\n",
       "      <td>1000</td>\n",
       "      <td>8</td>\n",
       "      <td>81</td>\n",
       "    </tr>\n",
       "    <tr>\n",
       "      <th>4</th>\n",
       "      <td>1000</td>\n",
       "      <td>9</td>\n",
       "      <td>57</td>\n",
       "    </tr>\n",
       "  </tbody>\n",
       "</table>\n",
       "</div>"
      ],
      "text/plain": [
       "   user_id  month  num_messages\n",
       "0     1000      5            22\n",
       "1     1000      6            60\n",
       "2     1000      7            75\n",
       "3     1000      8            81\n",
       "4     1000      9            57"
      ]
     },
     "execution_count": 81,
     "metadata": {},
     "output_type": "execute_result"
    }
   ],
   "source": [
    "messages['message_month'] = messages['message_date'].dt.month\n",
    "messages_stacked  = messages.groupby(['user_id', 'message_month']).agg({'id':'count'}).reset_index()\n",
    "messages_stacked.columns = ['user_id','month','num_messages']\n",
    "messages_stacked.head()"
   ]
  },
  {
   "cell_type": "markdown",
   "metadata": {},
   "source": [
    "**Объем израсходованного интернет-трафика по месяцам**\n",
    "\n",
    "Здесь переведем значения трафика в гигабайты и округлим до ближайшего верхнего значения:"
   ]
  },
  {
   "cell_type": "code",
   "execution_count": 82,
   "metadata": {},
   "outputs": [
    {
     "data": {
      "text/html": [
       "<div>\n",
       "<style scoped>\n",
       "    .dataframe tbody tr th:only-of-type {\n",
       "        vertical-align: middle;\n",
       "    }\n",
       "\n",
       "    .dataframe tbody tr th {\n",
       "        vertical-align: top;\n",
       "    }\n",
       "\n",
       "    .dataframe thead th {\n",
       "        text-align: right;\n",
       "    }\n",
       "</style>\n",
       "<table border=\"1\" class=\"dataframe\">\n",
       "  <thead>\n",
       "    <tr style=\"text-align: right;\">\n",
       "      <th></th>\n",
       "      <th>user_id</th>\n",
       "      <th>month</th>\n",
       "      <th>vol_used</th>\n",
       "    </tr>\n",
       "  </thead>\n",
       "  <tbody>\n",
       "    <tr>\n",
       "      <th>0</th>\n",
       "      <td>1000</td>\n",
       "      <td>5</td>\n",
       "      <td>3.0</td>\n",
       "    </tr>\n",
       "    <tr>\n",
       "      <th>1</th>\n",
       "      <td>1000</td>\n",
       "      <td>6</td>\n",
       "      <td>24.0</td>\n",
       "    </tr>\n",
       "    <tr>\n",
       "      <th>2</th>\n",
       "      <td>1000</td>\n",
       "      <td>7</td>\n",
       "      <td>15.0</td>\n",
       "    </tr>\n",
       "    <tr>\n",
       "      <th>3</th>\n",
       "      <td>1000</td>\n",
       "      <td>8</td>\n",
       "      <td>15.0</td>\n",
       "    </tr>\n",
       "    <tr>\n",
       "      <th>4</th>\n",
       "      <td>1000</td>\n",
       "      <td>9</td>\n",
       "      <td>15.0</td>\n",
       "    </tr>\n",
       "  </tbody>\n",
       "</table>\n",
       "</div>"
      ],
      "text/plain": [
       "   user_id  month  vol_used\n",
       "0     1000      5       3.0\n",
       "1     1000      6      24.0\n",
       "2     1000      7      15.0\n",
       "3     1000      8      15.0\n",
       "4     1000      9      15.0"
      ]
     },
     "execution_count": 82,
     "metadata": {},
     "output_type": "execute_result"
    }
   ],
   "source": [
    "internet['int_month'] = internet['session_date'].dt.month\n",
    "internet_stacked  = internet.groupby(['user_id', 'int_month']).agg({'mb_used':'sum'}).reset_index()\n",
    "internet_stacked.columns = ['user_id','month','vol_used']\n",
    "internet_stacked['vol_used'] = np.ceil(internet_stacked['vol_used']/1000)\n",
    "internet_stacked.head()"
   ]
  },
  {
   "cell_type": "markdown",
   "metadata": {},
   "source": [
    "**Помесячная выручка с каждого пользователя**"
   ]
  },
  {
   "cell_type": "code",
   "execution_count": 83,
   "metadata": {},
   "outputs": [
    {
     "data": {
      "text/html": [
       "<div>\n",
       "<style scoped>\n",
       "    .dataframe tbody tr th:only-of-type {\n",
       "        vertical-align: middle;\n",
       "    }\n",
       "\n",
       "    .dataframe tbody tr th {\n",
       "        vertical-align: top;\n",
       "    }\n",
       "\n",
       "    .dataframe thead th {\n",
       "        text-align: right;\n",
       "    }\n",
       "</style>\n",
       "<table border=\"1\" class=\"dataframe\">\n",
       "  <thead>\n",
       "    <tr style=\"text-align: right;\">\n",
       "      <th></th>\n",
       "      <th>user_id</th>\n",
       "      <th>age</th>\n",
       "      <th>churn_date</th>\n",
       "      <th>city</th>\n",
       "      <th>first_name</th>\n",
       "      <th>last_name</th>\n",
       "      <th>reg_date</th>\n",
       "      <th>tariff</th>\n",
       "    </tr>\n",
       "  </thead>\n",
       "  <tbody>\n",
       "    <tr>\n",
       "      <th>0</th>\n",
       "      <td>1000</td>\n",
       "      <td>52</td>\n",
       "      <td>NaT</td>\n",
       "      <td>Краснодар</td>\n",
       "      <td>Рафаил</td>\n",
       "      <td>Верещагин</td>\n",
       "      <td>2018-05-25</td>\n",
       "      <td>ultra</td>\n",
       "    </tr>\n",
       "    <tr>\n",
       "      <th>1</th>\n",
       "      <td>1001</td>\n",
       "      <td>41</td>\n",
       "      <td>NaT</td>\n",
       "      <td>Москва</td>\n",
       "      <td>Иван</td>\n",
       "      <td>Ежов</td>\n",
       "      <td>2018-11-01</td>\n",
       "      <td>smart</td>\n",
       "    </tr>\n",
       "    <tr>\n",
       "      <th>2</th>\n",
       "      <td>1002</td>\n",
       "      <td>59</td>\n",
       "      <td>NaT</td>\n",
       "      <td>Стерлитамак</td>\n",
       "      <td>Евгений</td>\n",
       "      <td>Абрамович</td>\n",
       "      <td>2018-06-17</td>\n",
       "      <td>smart</td>\n",
       "    </tr>\n",
       "    <tr>\n",
       "      <th>3</th>\n",
       "      <td>1003</td>\n",
       "      <td>23</td>\n",
       "      <td>NaT</td>\n",
       "      <td>Москва</td>\n",
       "      <td>Белла</td>\n",
       "      <td>Белякова</td>\n",
       "      <td>2018-08-17</td>\n",
       "      <td>ultra</td>\n",
       "    </tr>\n",
       "    <tr>\n",
       "      <th>4</th>\n",
       "      <td>1004</td>\n",
       "      <td>68</td>\n",
       "      <td>NaT</td>\n",
       "      <td>Новокузнецк</td>\n",
       "      <td>Татьяна</td>\n",
       "      <td>Авдеенко</td>\n",
       "      <td>2018-05-14</td>\n",
       "      <td>ultra</td>\n",
       "    </tr>\n",
       "  </tbody>\n",
       "</table>\n",
       "</div>"
      ],
      "text/plain": [
       "   user_id  age churn_date         city first_name  last_name   reg_date  \\\n",
       "0     1000   52        NaT    Краснодар     Рафаил  Верещагин 2018-05-25   \n",
       "1     1001   41        NaT       Москва       Иван       Ежов 2018-11-01   \n",
       "2     1002   59        NaT  Стерлитамак    Евгений  Абрамович 2018-06-17   \n",
       "3     1003   23        NaT       Москва      Белла   Белякова 2018-08-17   \n",
       "4     1004   68        NaT  Новокузнецк    Татьяна   Авдеенко 2018-05-14   \n",
       "\n",
       "  tariff  \n",
       "0  ultra  \n",
       "1  smart  \n",
       "2  smart  \n",
       "3  ultra  \n",
       "4  ultra  "
      ]
     },
     "execution_count": 83,
     "metadata": {},
     "output_type": "execute_result"
    }
   ],
   "source": [
    "users.head()"
   ]
  },
  {
   "cell_type": "markdown",
   "metadata": {},
   "source": [
    "- вычтите бесплатный лимит из суммарного количества звонков, сообщений и интернет-трафика; \n",
    "- остаток умножьте на значение из тарифного плана; \n",
    "- прибавьте абонентскую плату, соответствующую тарифному плану."
   ]
  },
  {
   "cell_type": "markdown",
   "metadata": {},
   "source": [
    "Создадим объединенную таблицу user_stats:"
   ]
  },
  {
   "cell_type": "code",
   "execution_count": 84,
   "metadata": {},
   "outputs": [
    {
     "data": {
      "text/html": [
       "<div>\n",
       "<style scoped>\n",
       "    .dataframe tbody tr th:only-of-type {\n",
       "        vertical-align: middle;\n",
       "    }\n",
       "\n",
       "    .dataframe tbody tr th {\n",
       "        vertical-align: top;\n",
       "    }\n",
       "\n",
       "    .dataframe thead th {\n",
       "        text-align: right;\n",
       "    }\n",
       "</style>\n",
       "<table border=\"1\" class=\"dataframe\">\n",
       "  <thead>\n",
       "    <tr style=\"text-align: right;\">\n",
       "      <th></th>\n",
       "      <th></th>\n",
       "      <th>sum_len</th>\n",
       "      <th>sum_calls</th>\n",
       "      <th>sum_mess</th>\n",
       "      <th>sum_vol</th>\n",
       "    </tr>\n",
       "    <tr>\n",
       "      <th>user_id</th>\n",
       "      <th>month</th>\n",
       "      <th></th>\n",
       "      <th></th>\n",
       "      <th></th>\n",
       "      <th></th>\n",
       "    </tr>\n",
       "  </thead>\n",
       "  <tbody>\n",
       "    <tr>\n",
       "      <th rowspan=\"5\" valign=\"top\">1000</th>\n",
       "      <th>5.0</th>\n",
       "      <td>159.0</td>\n",
       "      <td>22.0</td>\n",
       "      <td>22.0</td>\n",
       "      <td>3.0</td>\n",
       "    </tr>\n",
       "    <tr>\n",
       "      <th>6.0</th>\n",
       "      <td>172.0</td>\n",
       "      <td>43.0</td>\n",
       "      <td>60.0</td>\n",
       "      <td>24.0</td>\n",
       "    </tr>\n",
       "    <tr>\n",
       "      <th>7.0</th>\n",
       "      <td>340.0</td>\n",
       "      <td>47.0</td>\n",
       "      <td>75.0</td>\n",
       "      <td>15.0</td>\n",
       "    </tr>\n",
       "    <tr>\n",
       "      <th>8.0</th>\n",
       "      <td>408.0</td>\n",
       "      <td>52.0</td>\n",
       "      <td>81.0</td>\n",
       "      <td>15.0</td>\n",
       "    </tr>\n",
       "    <tr>\n",
       "      <th>9.0</th>\n",
       "      <td>466.0</td>\n",
       "      <td>58.0</td>\n",
       "      <td>57.0</td>\n",
       "      <td>15.0</td>\n",
       "    </tr>\n",
       "  </tbody>\n",
       "</table>\n",
       "</div>"
      ],
      "text/plain": [
       "               sum_len  sum_calls  sum_mess  sum_vol\n",
       "user_id month                                       \n",
       "1000    5.0      159.0       22.0      22.0      3.0\n",
       "        6.0      172.0       43.0      60.0     24.0\n",
       "        7.0      340.0       47.0      75.0     15.0\n",
       "        8.0      408.0       52.0      81.0     15.0\n",
       "        9.0      466.0       58.0      57.0     15.0"
      ]
     },
     "execution_count": 84,
     "metadata": {},
     "output_type": "execute_result"
    }
   ],
   "source": [
    "user_stats = calls_stacked.merge(messages_stacked, how='outer')\n",
    "user_stats = user_stats.merge(internet_stacked, how='outer')\n",
    "user_stats = user_stats.merge(users, how='outer')\n",
    "user_stats_grouped = user_stats.pivot_table(index=['user_id','month'], values=['num_calls', \n",
    "                                                                     'len_calls', \n",
    "                                                                     'num_messages',\n",
    "                                                                     'vol_used'], aggfunc=['sum'])\n",
    "\n",
    "user_stats_grouped.columns = ['sum_len','sum_calls','sum_mess','sum_vol']\n",
    "user_stats_grouped.head()"
   ]
  },
  {
   "cell_type": "markdown",
   "metadata": {},
   "source": [
    "Подтянем данные по тарифам из таблиц с пользователями и тарифами:"
   ]
  },
  {
   "cell_type": "code",
   "execution_count": 85,
   "metadata": {},
   "outputs": [
    {
     "data": {
      "text/html": [
       "<div>\n",
       "<style scoped>\n",
       "    .dataframe tbody tr th:only-of-type {\n",
       "        vertical-align: middle;\n",
       "    }\n",
       "\n",
       "    .dataframe tbody tr th {\n",
       "        vertical-align: top;\n",
       "    }\n",
       "\n",
       "    .dataframe thead th {\n",
       "        text-align: right;\n",
       "    }\n",
       "</style>\n",
       "<table border=\"1\" class=\"dataframe\">\n",
       "  <thead>\n",
       "    <tr style=\"text-align: right;\">\n",
       "      <th></th>\n",
       "      <th>messages_included</th>\n",
       "      <th>gb_per_month_included</th>\n",
       "      <th>minutes_included</th>\n",
       "      <th>rub_monthly_fee</th>\n",
       "      <th>rub_per_gb</th>\n",
       "      <th>rub_per_message</th>\n",
       "      <th>rub_per_minute</th>\n",
       "      <th>tariff_name</th>\n",
       "    </tr>\n",
       "  </thead>\n",
       "  <tbody>\n",
       "    <tr>\n",
       "      <th>0</th>\n",
       "      <td>50</td>\n",
       "      <td>15.0</td>\n",
       "      <td>500</td>\n",
       "      <td>550</td>\n",
       "      <td>200</td>\n",
       "      <td>3</td>\n",
       "      <td>3</td>\n",
       "      <td>smart</td>\n",
       "    </tr>\n",
       "    <tr>\n",
       "      <th>1</th>\n",
       "      <td>1000</td>\n",
       "      <td>30.0</td>\n",
       "      <td>3000</td>\n",
       "      <td>1950</td>\n",
       "      <td>150</td>\n",
       "      <td>1</td>\n",
       "      <td>1</td>\n",
       "      <td>ultra</td>\n",
       "    </tr>\n",
       "  </tbody>\n",
       "</table>\n",
       "</div>"
      ],
      "text/plain": [
       "   messages_included  gb_per_month_included  minutes_included  \\\n",
       "0                 50                   15.0               500   \n",
       "1               1000                   30.0              3000   \n",
       "\n",
       "   rub_monthly_fee  rub_per_gb  rub_per_message  rub_per_minute tariff_name  \n",
       "0              550         200                3               3       smart  \n",
       "1             1950         150                1               1       ultra  "
      ]
     },
     "execution_count": 85,
     "metadata": {},
     "output_type": "execute_result"
    }
   ],
   "source": [
    "tariffs['mb_per_month_included'] = tariffs['mb_per_month_included']/1024\n",
    "tariffs = tariffs.rename(columns={'mb_per_month_included': 'gb_per_month_included'})\n",
    "tariffs.head()"
   ]
  },
  {
   "cell_type": "code",
   "execution_count": 86,
   "metadata": {},
   "outputs": [],
   "source": [
    "#промежуточная таблица\n",
    "tariffs.rename(columns={'tariff_name': 'tariff'}, inplace=True)\n",
    "user_tariffs = users[['user_id','tariff']]\n",
    "user_stats_grouped = user_stats_grouped.reset_index().merge(user_tariffs, on=['user_id'], how='outer')\n",
    "user_stats_grouped = user_stats_grouped.merge(tariffs, how='outer')"
   ]
  },
  {
   "cell_type": "code",
   "execution_count": 87,
   "metadata": {},
   "outputs": [
    {
     "data": {
      "text/html": [
       "<div>\n",
       "<style scoped>\n",
       "    .dataframe tbody tr th:only-of-type {\n",
       "        vertical-align: middle;\n",
       "    }\n",
       "\n",
       "    .dataframe tbody tr th {\n",
       "        vertical-align: top;\n",
       "    }\n",
       "\n",
       "    .dataframe thead th {\n",
       "        text-align: right;\n",
       "    }\n",
       "</style>\n",
       "<table border=\"1\" class=\"dataframe\">\n",
       "  <thead>\n",
       "    <tr style=\"text-align: right;\">\n",
       "      <th></th>\n",
       "      <th>user_id</th>\n",
       "      <th>month</th>\n",
       "      <th>sum_len</th>\n",
       "      <th>sum_calls</th>\n",
       "      <th>sum_mess</th>\n",
       "      <th>sum_vol</th>\n",
       "      <th>tariff</th>\n",
       "      <th>messages_included</th>\n",
       "      <th>gb_per_month_included</th>\n",
       "      <th>minutes_included</th>\n",
       "      <th>rub_monthly_fee</th>\n",
       "      <th>rub_per_gb</th>\n",
       "      <th>rub_per_message</th>\n",
       "      <th>rub_per_minute</th>\n",
       "      <th>paid_call_len</th>\n",
       "      <th>paid_num_mes</th>\n",
       "      <th>paid_vol_int</th>\n",
       "    </tr>\n",
       "  </thead>\n",
       "  <tbody>\n",
       "    <tr>\n",
       "      <th>0</th>\n",
       "      <td>1000</td>\n",
       "      <td>5.0</td>\n",
       "      <td>159.0</td>\n",
       "      <td>22.0</td>\n",
       "      <td>22.0</td>\n",
       "      <td>3.0</td>\n",
       "      <td>ultra</td>\n",
       "      <td>1000</td>\n",
       "      <td>30.0</td>\n",
       "      <td>3000</td>\n",
       "      <td>1950</td>\n",
       "      <td>150</td>\n",
       "      <td>1</td>\n",
       "      <td>1</td>\n",
       "      <td>-2841.0</td>\n",
       "      <td>-978.0</td>\n",
       "      <td>-27.0</td>\n",
       "    </tr>\n",
       "    <tr>\n",
       "      <th>1</th>\n",
       "      <td>1000</td>\n",
       "      <td>6.0</td>\n",
       "      <td>172.0</td>\n",
       "      <td>43.0</td>\n",
       "      <td>60.0</td>\n",
       "      <td>24.0</td>\n",
       "      <td>ultra</td>\n",
       "      <td>1000</td>\n",
       "      <td>30.0</td>\n",
       "      <td>3000</td>\n",
       "      <td>1950</td>\n",
       "      <td>150</td>\n",
       "      <td>1</td>\n",
       "      <td>1</td>\n",
       "      <td>-2828.0</td>\n",
       "      <td>-940.0</td>\n",
       "      <td>-6.0</td>\n",
       "    </tr>\n",
       "    <tr>\n",
       "      <th>2</th>\n",
       "      <td>1000</td>\n",
       "      <td>7.0</td>\n",
       "      <td>340.0</td>\n",
       "      <td>47.0</td>\n",
       "      <td>75.0</td>\n",
       "      <td>15.0</td>\n",
       "      <td>ultra</td>\n",
       "      <td>1000</td>\n",
       "      <td>30.0</td>\n",
       "      <td>3000</td>\n",
       "      <td>1950</td>\n",
       "      <td>150</td>\n",
       "      <td>1</td>\n",
       "      <td>1</td>\n",
       "      <td>-2660.0</td>\n",
       "      <td>-925.0</td>\n",
       "      <td>-15.0</td>\n",
       "    </tr>\n",
       "    <tr>\n",
       "      <th>3</th>\n",
       "      <td>1000</td>\n",
       "      <td>8.0</td>\n",
       "      <td>408.0</td>\n",
       "      <td>52.0</td>\n",
       "      <td>81.0</td>\n",
       "      <td>15.0</td>\n",
       "      <td>ultra</td>\n",
       "      <td>1000</td>\n",
       "      <td>30.0</td>\n",
       "      <td>3000</td>\n",
       "      <td>1950</td>\n",
       "      <td>150</td>\n",
       "      <td>1</td>\n",
       "      <td>1</td>\n",
       "      <td>-2592.0</td>\n",
       "      <td>-919.0</td>\n",
       "      <td>-15.0</td>\n",
       "    </tr>\n",
       "    <tr>\n",
       "      <th>4</th>\n",
       "      <td>1000</td>\n",
       "      <td>9.0</td>\n",
       "      <td>466.0</td>\n",
       "      <td>58.0</td>\n",
       "      <td>57.0</td>\n",
       "      <td>15.0</td>\n",
       "      <td>ultra</td>\n",
       "      <td>1000</td>\n",
       "      <td>30.0</td>\n",
       "      <td>3000</td>\n",
       "      <td>1950</td>\n",
       "      <td>150</td>\n",
       "      <td>1</td>\n",
       "      <td>1</td>\n",
       "      <td>-2534.0</td>\n",
       "      <td>-943.0</td>\n",
       "      <td>-15.0</td>\n",
       "    </tr>\n",
       "  </tbody>\n",
       "</table>\n",
       "</div>"
      ],
      "text/plain": [
       "   user_id  month  sum_len  sum_calls  sum_mess  sum_vol tariff  \\\n",
       "0     1000    5.0    159.0       22.0      22.0      3.0  ultra   \n",
       "1     1000    6.0    172.0       43.0      60.0     24.0  ultra   \n",
       "2     1000    7.0    340.0       47.0      75.0     15.0  ultra   \n",
       "3     1000    8.0    408.0       52.0      81.0     15.0  ultra   \n",
       "4     1000    9.0    466.0       58.0      57.0     15.0  ultra   \n",
       "\n",
       "   messages_included  gb_per_month_included  minutes_included  \\\n",
       "0               1000                   30.0              3000   \n",
       "1               1000                   30.0              3000   \n",
       "2               1000                   30.0              3000   \n",
       "3               1000                   30.0              3000   \n",
       "4               1000                   30.0              3000   \n",
       "\n",
       "   rub_monthly_fee  rub_per_gb  rub_per_message  rub_per_minute  \\\n",
       "0             1950         150                1               1   \n",
       "1             1950         150                1               1   \n",
       "2             1950         150                1               1   \n",
       "3             1950         150                1               1   \n",
       "4             1950         150                1               1   \n",
       "\n",
       "   paid_call_len  paid_num_mes  paid_vol_int  \n",
       "0        -2841.0        -978.0         -27.0  \n",
       "1        -2828.0        -940.0          -6.0  \n",
       "2        -2660.0        -925.0         -15.0  \n",
       "3        -2592.0        -919.0         -15.0  \n",
       "4        -2534.0        -943.0         -15.0  "
      ]
     },
     "execution_count": 87,
     "metadata": {},
     "output_type": "execute_result"
    }
   ],
   "source": [
    "#промежуточная таблица\n",
    "user_stats_grouped['paid_call_len'] = user_stats_grouped['sum_len'] - user_stats_grouped['minutes_included']\n",
    "user_stats_grouped['paid_num_mes'] = user_stats_grouped['sum_mess'] - user_stats_grouped['messages_included']\n",
    "user_stats_grouped['paid_vol_int'] = user_stats_grouped['sum_vol'] - user_stats_grouped['gb_per_month_included']\n",
    "user_stats_grouped.head()"
   ]
  },
  {
   "cell_type": "markdown",
   "metadata": {},
   "source": [
    "Создадим функцию get_revenue для подсчета выручки: она проверяет баланс минут / сообщений / объема интернет трафика по тарифу и в случае, если статья баланса неотрицательна, т.к. пользователь превысил лимит, складывает это значение с абонентской платой. В случае, если баланс был отрицательным по всем пунктам, вернется только сумма чистой абонентской платы."
   ]
  },
  {
   "cell_type": "code",
   "execution_count": 88,
   "metadata": {},
   "outputs": [
    {
     "data": {
      "text/html": [
       "<div>\n",
       "<style scoped>\n",
       "    .dataframe tbody tr th:only-of-type {\n",
       "        vertical-align: middle;\n",
       "    }\n",
       "\n",
       "    .dataframe tbody tr th {\n",
       "        vertical-align: top;\n",
       "    }\n",
       "\n",
       "    .dataframe thead th {\n",
       "        text-align: right;\n",
       "    }\n",
       "</style>\n",
       "<table border=\"1\" class=\"dataframe\">\n",
       "  <thead>\n",
       "    <tr style=\"text-align: right;\">\n",
       "      <th></th>\n",
       "      <th>user_id</th>\n",
       "      <th>month</th>\n",
       "      <th>sum_len</th>\n",
       "      <th>sum_calls</th>\n",
       "      <th>sum_mess</th>\n",
       "      <th>sum_vol</th>\n",
       "      <th>tariff</th>\n",
       "      <th>messages_included</th>\n",
       "      <th>gb_per_month_included</th>\n",
       "      <th>minutes_included</th>\n",
       "      <th>rub_monthly_fee</th>\n",
       "      <th>rub_per_gb</th>\n",
       "      <th>rub_per_message</th>\n",
       "      <th>rub_per_minute</th>\n",
       "      <th>paid_call_len</th>\n",
       "      <th>paid_num_mes</th>\n",
       "      <th>paid_vol_int</th>\n",
       "      <th>user_revenue</th>\n",
       "    </tr>\n",
       "  </thead>\n",
       "  <tbody>\n",
       "    <tr>\n",
       "      <th>0</th>\n",
       "      <td>1000</td>\n",
       "      <td>5.0</td>\n",
       "      <td>159.0</td>\n",
       "      <td>22.0</td>\n",
       "      <td>22.0</td>\n",
       "      <td>3.0</td>\n",
       "      <td>ultra</td>\n",
       "      <td>1000</td>\n",
       "      <td>30.0</td>\n",
       "      <td>3000</td>\n",
       "      <td>1950</td>\n",
       "      <td>150</td>\n",
       "      <td>1</td>\n",
       "      <td>1</td>\n",
       "      <td>-2841.0</td>\n",
       "      <td>-978.0</td>\n",
       "      <td>-27.0</td>\n",
       "      <td>1950.0</td>\n",
       "    </tr>\n",
       "    <tr>\n",
       "      <th>1</th>\n",
       "      <td>1000</td>\n",
       "      <td>6.0</td>\n",
       "      <td>172.0</td>\n",
       "      <td>43.0</td>\n",
       "      <td>60.0</td>\n",
       "      <td>24.0</td>\n",
       "      <td>ultra</td>\n",
       "      <td>1000</td>\n",
       "      <td>30.0</td>\n",
       "      <td>3000</td>\n",
       "      <td>1950</td>\n",
       "      <td>150</td>\n",
       "      <td>1</td>\n",
       "      <td>1</td>\n",
       "      <td>-2828.0</td>\n",
       "      <td>-940.0</td>\n",
       "      <td>-6.0</td>\n",
       "      <td>1950.0</td>\n",
       "    </tr>\n",
       "    <tr>\n",
       "      <th>2</th>\n",
       "      <td>1000</td>\n",
       "      <td>7.0</td>\n",
       "      <td>340.0</td>\n",
       "      <td>47.0</td>\n",
       "      <td>75.0</td>\n",
       "      <td>15.0</td>\n",
       "      <td>ultra</td>\n",
       "      <td>1000</td>\n",
       "      <td>30.0</td>\n",
       "      <td>3000</td>\n",
       "      <td>1950</td>\n",
       "      <td>150</td>\n",
       "      <td>1</td>\n",
       "      <td>1</td>\n",
       "      <td>-2660.0</td>\n",
       "      <td>-925.0</td>\n",
       "      <td>-15.0</td>\n",
       "      <td>1950.0</td>\n",
       "    </tr>\n",
       "    <tr>\n",
       "      <th>3</th>\n",
       "      <td>1000</td>\n",
       "      <td>8.0</td>\n",
       "      <td>408.0</td>\n",
       "      <td>52.0</td>\n",
       "      <td>81.0</td>\n",
       "      <td>15.0</td>\n",
       "      <td>ultra</td>\n",
       "      <td>1000</td>\n",
       "      <td>30.0</td>\n",
       "      <td>3000</td>\n",
       "      <td>1950</td>\n",
       "      <td>150</td>\n",
       "      <td>1</td>\n",
       "      <td>1</td>\n",
       "      <td>-2592.0</td>\n",
       "      <td>-919.0</td>\n",
       "      <td>-15.0</td>\n",
       "      <td>1950.0</td>\n",
       "    </tr>\n",
       "    <tr>\n",
       "      <th>4</th>\n",
       "      <td>1000</td>\n",
       "      <td>9.0</td>\n",
       "      <td>466.0</td>\n",
       "      <td>58.0</td>\n",
       "      <td>57.0</td>\n",
       "      <td>15.0</td>\n",
       "      <td>ultra</td>\n",
       "      <td>1000</td>\n",
       "      <td>30.0</td>\n",
       "      <td>3000</td>\n",
       "      <td>1950</td>\n",
       "      <td>150</td>\n",
       "      <td>1</td>\n",
       "      <td>1</td>\n",
       "      <td>-2534.0</td>\n",
       "      <td>-943.0</td>\n",
       "      <td>-15.0</td>\n",
       "      <td>1950.0</td>\n",
       "    </tr>\n",
       "  </tbody>\n",
       "</table>\n",
       "</div>"
      ],
      "text/plain": [
       "   user_id  month  sum_len  sum_calls  sum_mess  sum_vol tariff  \\\n",
       "0     1000    5.0    159.0       22.0      22.0      3.0  ultra   \n",
       "1     1000    6.0    172.0       43.0      60.0     24.0  ultra   \n",
       "2     1000    7.0    340.0       47.0      75.0     15.0  ultra   \n",
       "3     1000    8.0    408.0       52.0      81.0     15.0  ultra   \n",
       "4     1000    9.0    466.0       58.0      57.0     15.0  ultra   \n",
       "\n",
       "   messages_included  gb_per_month_included  minutes_included  \\\n",
       "0               1000                   30.0              3000   \n",
       "1               1000                   30.0              3000   \n",
       "2               1000                   30.0              3000   \n",
       "3               1000                   30.0              3000   \n",
       "4               1000                   30.0              3000   \n",
       "\n",
       "   rub_monthly_fee  rub_per_gb  rub_per_message  rub_per_minute  \\\n",
       "0             1950         150                1               1   \n",
       "1             1950         150                1               1   \n",
       "2             1950         150                1               1   \n",
       "3             1950         150                1               1   \n",
       "4             1950         150                1               1   \n",
       "\n",
       "   paid_call_len  paid_num_mes  paid_vol_int  user_revenue  \n",
       "0        -2841.0        -978.0         -27.0        1950.0  \n",
       "1        -2828.0        -940.0          -6.0        1950.0  \n",
       "2        -2660.0        -925.0         -15.0        1950.0  \n",
       "3        -2592.0        -919.0         -15.0        1950.0  \n",
       "4        -2534.0        -943.0         -15.0        1950.0  "
      ]
     },
     "execution_count": 88,
     "metadata": {},
     "output_type": "execute_result"
    }
   ],
   "source": [
    "def get_revenue(df):\n",
    "    rev_calls = 0\n",
    "    rev_mess = 0\n",
    "    rev_int = 0\n",
    "\n",
    "    if df[14] > 0:\n",
    "        rev_calls = df[14] * df[13]\n",
    "    if df[15] > 0:\n",
    "        rev_mess = df[15] * df[12]\n",
    "    if df[16] > 0:\n",
    "        rev_int = df[16] * df[11]\n",
    "    return rev_calls + rev_mess + rev_int + df[10]\n",
    "\n",
    "user_stats_grouped['user_revenue'] = user_stats_grouped.apply(get_revenue, axis=1).round(decimals=2)\n",
    "user_stats_grouped.head()"
   ]
  },
  {
   "cell_type": "markdown",
   "metadata": {},
   "source": [
    "Сократим количество столбцов и сформируем новую таблицу:"
   ]
  },
  {
   "cell_type": "code",
   "execution_count": 89,
   "metadata": {},
   "outputs": [
    {
     "data": {
      "text/html": [
       "<div>\n",
       "<style scoped>\n",
       "    .dataframe tbody tr th:only-of-type {\n",
       "        vertical-align: middle;\n",
       "    }\n",
       "\n",
       "    .dataframe tbody tr th {\n",
       "        vertical-align: top;\n",
       "    }\n",
       "\n",
       "    .dataframe thead th {\n",
       "        text-align: right;\n",
       "    }\n",
       "</style>\n",
       "<table border=\"1\" class=\"dataframe\">\n",
       "  <thead>\n",
       "    <tr style=\"text-align: right;\">\n",
       "      <th></th>\n",
       "      <th>user_id</th>\n",
       "      <th>month</th>\n",
       "      <th>sum_len</th>\n",
       "      <th>sum_mess</th>\n",
       "      <th>sum_vol</th>\n",
       "      <th>tariff</th>\n",
       "      <th>user_revenue</th>\n",
       "    </tr>\n",
       "  </thead>\n",
       "  <tbody>\n",
       "    <tr>\n",
       "      <th>0</th>\n",
       "      <td>1000</td>\n",
       "      <td>5.0</td>\n",
       "      <td>159.0</td>\n",
       "      <td>22.0</td>\n",
       "      <td>3.0</td>\n",
       "      <td>ultra</td>\n",
       "      <td>1950.0</td>\n",
       "    </tr>\n",
       "    <tr>\n",
       "      <th>1</th>\n",
       "      <td>1000</td>\n",
       "      <td>6.0</td>\n",
       "      <td>172.0</td>\n",
       "      <td>60.0</td>\n",
       "      <td>24.0</td>\n",
       "      <td>ultra</td>\n",
       "      <td>1950.0</td>\n",
       "    </tr>\n",
       "    <tr>\n",
       "      <th>2</th>\n",
       "      <td>1000</td>\n",
       "      <td>7.0</td>\n",
       "      <td>340.0</td>\n",
       "      <td>75.0</td>\n",
       "      <td>15.0</td>\n",
       "      <td>ultra</td>\n",
       "      <td>1950.0</td>\n",
       "    </tr>\n",
       "    <tr>\n",
       "      <th>3</th>\n",
       "      <td>1000</td>\n",
       "      <td>8.0</td>\n",
       "      <td>408.0</td>\n",
       "      <td>81.0</td>\n",
       "      <td>15.0</td>\n",
       "      <td>ultra</td>\n",
       "      <td>1950.0</td>\n",
       "    </tr>\n",
       "    <tr>\n",
       "      <th>4</th>\n",
       "      <td>1000</td>\n",
       "      <td>9.0</td>\n",
       "      <td>466.0</td>\n",
       "      <td>57.0</td>\n",
       "      <td>15.0</td>\n",
       "      <td>ultra</td>\n",
       "      <td>1950.0</td>\n",
       "    </tr>\n",
       "  </tbody>\n",
       "</table>\n",
       "</div>"
      ],
      "text/plain": [
       "   user_id  month  sum_len  sum_mess  sum_vol tariff  user_revenue\n",
       "0     1000    5.0    159.0      22.0      3.0  ultra        1950.0\n",
       "1     1000    6.0    172.0      60.0     24.0  ultra        1950.0\n",
       "2     1000    7.0    340.0      75.0     15.0  ultra        1950.0\n",
       "3     1000    8.0    408.0      81.0     15.0  ultra        1950.0\n",
       "4     1000    9.0    466.0      57.0     15.0  ultra        1950.0"
      ]
     },
     "execution_count": 89,
     "metadata": {},
     "output_type": "execute_result"
    }
   ],
   "source": [
    "user_stats_revenue = user_stats_grouped[['user_id', 'month', 'sum_len', 'sum_mess','sum_vol', 'tariff', 'user_revenue']]\n",
    "user_stats_revenue.head()"
   ]
  },
  {
   "cell_type": "code",
   "execution_count": 90,
   "metadata": {},
   "outputs": [
    {
     "name": "stdout",
     "output_type": "stream",
     "text": [
      "<class 'pandas.core.frame.DataFrame'>\n",
      "Int64Index: 3216 entries, 0 to 3215\n",
      "Data columns (total 7 columns):\n",
      "user_id         3216 non-null int64\n",
      "month           3214 non-null float64\n",
      "sum_len         3214 non-null float64\n",
      "sum_mess        3214 non-null float64\n",
      "sum_vol         3214 non-null float64\n",
      "tariff          3216 non-null object\n",
      "user_revenue    3216 non-null float64\n",
      "dtypes: float64(5), int64(1), object(1)\n",
      "memory usage: 201.0+ KB\n"
     ]
    }
   ],
   "source": [
    "user_stats_revenue.info()"
   ]
  },
  {
   "cell_type": "markdown",
   "metadata": {},
   "source": [
    "Из необязательного: месяцы в таблице указаны в формате float. Для перевода в int мешают пропущенные значения. Т.к. пропущенных значений всего 2, мы можем удалить эти строки и привести месяцы к целочисленному формату."
   ]
  },
  {
   "cell_type": "code",
   "execution_count": 91,
   "metadata": {},
   "outputs": [
    {
     "data": {
      "text/html": [
       "<div>\n",
       "<style scoped>\n",
       "    .dataframe tbody tr th:only-of-type {\n",
       "        vertical-align: middle;\n",
       "    }\n",
       "\n",
       "    .dataframe tbody tr th {\n",
       "        vertical-align: top;\n",
       "    }\n",
       "\n",
       "    .dataframe thead th {\n",
       "        text-align: right;\n",
       "    }\n",
       "</style>\n",
       "<table border=\"1\" class=\"dataframe\">\n",
       "  <thead>\n",
       "    <tr style=\"text-align: right;\">\n",
       "      <th></th>\n",
       "      <th>user_id</th>\n",
       "      <th>month</th>\n",
       "      <th>sum_len</th>\n",
       "      <th>sum_mess</th>\n",
       "      <th>sum_vol</th>\n",
       "      <th>tariff</th>\n",
       "      <th>user_revenue</th>\n",
       "    </tr>\n",
       "  </thead>\n",
       "  <tbody>\n",
       "    <tr>\n",
       "      <th>0</th>\n",
       "      <td>1000</td>\n",
       "      <td>5</td>\n",
       "      <td>159.0</td>\n",
       "      <td>22.0</td>\n",
       "      <td>3.0</td>\n",
       "      <td>ultra</td>\n",
       "      <td>1950.0</td>\n",
       "    </tr>\n",
       "    <tr>\n",
       "      <th>1</th>\n",
       "      <td>1000</td>\n",
       "      <td>6</td>\n",
       "      <td>172.0</td>\n",
       "      <td>60.0</td>\n",
       "      <td>24.0</td>\n",
       "      <td>ultra</td>\n",
       "      <td>1950.0</td>\n",
       "    </tr>\n",
       "    <tr>\n",
       "      <th>2</th>\n",
       "      <td>1000</td>\n",
       "      <td>7</td>\n",
       "      <td>340.0</td>\n",
       "      <td>75.0</td>\n",
       "      <td>15.0</td>\n",
       "      <td>ultra</td>\n",
       "      <td>1950.0</td>\n",
       "    </tr>\n",
       "    <tr>\n",
       "      <th>3</th>\n",
       "      <td>1000</td>\n",
       "      <td>8</td>\n",
       "      <td>408.0</td>\n",
       "      <td>81.0</td>\n",
       "      <td>15.0</td>\n",
       "      <td>ultra</td>\n",
       "      <td>1950.0</td>\n",
       "    </tr>\n",
       "    <tr>\n",
       "      <th>4</th>\n",
       "      <td>1000</td>\n",
       "      <td>9</td>\n",
       "      <td>466.0</td>\n",
       "      <td>57.0</td>\n",
       "      <td>15.0</td>\n",
       "      <td>ultra</td>\n",
       "      <td>1950.0</td>\n",
       "    </tr>\n",
       "  </tbody>\n",
       "</table>\n",
       "</div>"
      ],
      "text/plain": [
       "   user_id  month  sum_len  sum_mess  sum_vol tariff  user_revenue\n",
       "0     1000      5    159.0      22.0      3.0  ultra        1950.0\n",
       "1     1000      6    172.0      60.0     24.0  ultra        1950.0\n",
       "2     1000      7    340.0      75.0     15.0  ultra        1950.0\n",
       "3     1000      8    408.0      81.0     15.0  ultra        1950.0\n",
       "4     1000      9    466.0      57.0     15.0  ultra        1950.0"
      ]
     },
     "execution_count": 91,
     "metadata": {},
     "output_type": "execute_result"
    }
   ],
   "source": [
    "user_stats_revenue.dropna(inplace=True)\n",
    "user_stats_revenue['month'] = user_stats_revenue['month'].astype(int)\n",
    "user_stats_revenue.head()"
   ]
  },
  {
   "cell_type": "code",
   "execution_count": 92,
   "metadata": {},
   "outputs": [
    {
     "data": {
      "text/html": [
       "<div>\n",
       "<style scoped>\n",
       "    .dataframe tbody tr th:only-of-type {\n",
       "        vertical-align: middle;\n",
       "    }\n",
       "\n",
       "    .dataframe tbody tr th {\n",
       "        vertical-align: top;\n",
       "    }\n",
       "\n",
       "    .dataframe thead th {\n",
       "        text-align: right;\n",
       "    }\n",
       "</style>\n",
       "<table border=\"1\" class=\"dataframe\">\n",
       "  <thead>\n",
       "    <tr style=\"text-align: right;\">\n",
       "      <th></th>\n",
       "      <th>user_id</th>\n",
       "      <th>month</th>\n",
       "      <th>sum_len</th>\n",
       "      <th>sum_mess</th>\n",
       "      <th>sum_vol</th>\n",
       "      <th>tariff</th>\n",
       "      <th>user_revenue</th>\n",
       "    </tr>\n",
       "  </thead>\n",
       "  <tbody>\n",
       "    <tr>\n",
       "      <th>1347</th>\n",
       "      <td>1073</td>\n",
       "      <td>10</td>\n",
       "      <td>461.0</td>\n",
       "      <td>34.0</td>\n",
       "      <td>17.0</td>\n",
       "      <td>smart</td>\n",
       "      <td>950.0</td>\n",
       "    </tr>\n",
       "    <tr>\n",
       "      <th>799</th>\n",
       "      <td>1397</td>\n",
       "      <td>12</td>\n",
       "      <td>232.0</td>\n",
       "      <td>0.0</td>\n",
       "      <td>24.0</td>\n",
       "      <td>ultra</td>\n",
       "      <td>1950.0</td>\n",
       "    </tr>\n",
       "    <tr>\n",
       "      <th>506</th>\n",
       "      <td>1289</td>\n",
       "      <td>10</td>\n",
       "      <td>1053.0</td>\n",
       "      <td>71.0</td>\n",
       "      <td>18.0</td>\n",
       "      <td>ultra</td>\n",
       "      <td>1950.0</td>\n",
       "    </tr>\n",
       "    <tr>\n",
       "      <th>2632</th>\n",
       "      <td>1373</td>\n",
       "      <td>2</td>\n",
       "      <td>2.0</td>\n",
       "      <td>38.0</td>\n",
       "      <td>21.0</td>\n",
       "      <td>smart</td>\n",
       "      <td>1750.0</td>\n",
       "    </tr>\n",
       "    <tr>\n",
       "      <th>2131</th>\n",
       "      <td>1248</td>\n",
       "      <td>5</td>\n",
       "      <td>105.0</td>\n",
       "      <td>0.0</td>\n",
       "      <td>3.0</td>\n",
       "      <td>smart</td>\n",
       "      <td>550.0</td>\n",
       "    </tr>\n",
       "  </tbody>\n",
       "</table>\n",
       "</div>"
      ],
      "text/plain": [
       "      user_id  month  sum_len  sum_mess  sum_vol tariff  user_revenue\n",
       "1347     1073     10    461.0      34.0     17.0  smart         950.0\n",
       "799      1397     12    232.0       0.0     24.0  ultra        1950.0\n",
       "506      1289     10   1053.0      71.0     18.0  ultra        1950.0\n",
       "2632     1373      2      2.0      38.0     21.0  smart        1750.0\n",
       "2131     1248      5    105.0       0.0      3.0  smart         550.0"
      ]
     },
     "execution_count": 92,
     "metadata": {},
     "output_type": "execute_result"
    }
   ],
   "source": [
    "user_stats_revenue.sample(5)"
   ]
  },
  {
   "cell_type": "markdown",
   "metadata": {},
   "source": [
    "**2.1. Общие выводы по разделу:** <a class=\"anchor\" id=\"second-zero-bullet\"></a>\n",
    "\n",
    "Мы получили таблицу user_stats_revenue, как и требовалось в нашем задании. Для этого потребовалось создание нескольких промежуточных таблиц с использованием сводных таблиц, слияния и написанной функции по расчету выручки."
   ]
  },
  {
   "cell_type": "markdown",
   "metadata": {},
   "source": [
    "# 3. Анализ данных <a class=\"anchor\" id=\"third-bullet\"></a>\n",
    "\n",
    "Опишите поведение клиентов оператора, исходя из выборки. Сколько минут разговора, сколько сообщений и какой объём интернет-трафика требуется пользователям каждого тарифа в месяц? Посчитайте среднее количество, дисперсию и стандартное отклонение. Постройте гистограммы. Опишите распределения."
   ]
  },
  {
   "cell_type": "markdown",
   "metadata": {},
   "source": [
    "Разделим нашу таблицу на две, исходя из тарифов:"
   ]
  },
  {
   "cell_type": "code",
   "execution_count": 93,
   "metadata": {},
   "outputs": [],
   "source": [
    "user_stats_revenue_ultra = user_stats_revenue[user_stats_revenue['tariff']=='ultra']\n",
    "user_stats_revenue_smart = user_stats_revenue[user_stats_revenue['tariff']=='smart']"
   ]
  },
  {
   "cell_type": "markdown",
   "metadata": {},
   "source": [
    "Для быстрой проверки просмотрим их описания методом describe:"
   ]
  },
  {
   "cell_type": "code",
   "execution_count": 94,
   "metadata": {},
   "outputs": [
    {
     "data": {
      "text/html": [
       "<div>\n",
       "<style scoped>\n",
       "    .dataframe tbody tr th:only-of-type {\n",
       "        vertical-align: middle;\n",
       "    }\n",
       "\n",
       "    .dataframe tbody tr th {\n",
       "        vertical-align: top;\n",
       "    }\n",
       "\n",
       "    .dataframe thead th {\n",
       "        text-align: right;\n",
       "    }\n",
       "</style>\n",
       "<table border=\"1\" class=\"dataframe\">\n",
       "  <thead>\n",
       "    <tr style=\"text-align: right;\">\n",
       "      <th></th>\n",
       "      <th>user_id</th>\n",
       "      <th>month</th>\n",
       "      <th>sum_len</th>\n",
       "      <th>sum_mess</th>\n",
       "      <th>sum_vol</th>\n",
       "      <th>user_revenue</th>\n",
       "    </tr>\n",
       "  </thead>\n",
       "  <tbody>\n",
       "    <tr>\n",
       "      <th>count</th>\n",
       "      <td>985.000000</td>\n",
       "      <td>985.000000</td>\n",
       "      <td>985.000000</td>\n",
       "      <td>985.000000</td>\n",
       "      <td>985.000000</td>\n",
       "      <td>985.000000</td>\n",
       "    </tr>\n",
       "    <tr>\n",
       "      <th>mean</th>\n",
       "      <td>1263.094416</td>\n",
       "      <td>8.250761</td>\n",
       "      <td>526.623350</td>\n",
       "      <td>49.363452</td>\n",
       "      <td>19.965482</td>\n",
       "      <td>2089.340102</td>\n",
       "    </tr>\n",
       "    <tr>\n",
       "      <th>std</th>\n",
       "      <td>140.694908</td>\n",
       "      <td>2.871762</td>\n",
       "      <td>317.606098</td>\n",
       "      <td>47.804457</td>\n",
       "      <td>10.100955</td>\n",
       "      <td>413.538753</td>\n",
       "    </tr>\n",
       "    <tr>\n",
       "      <th>min</th>\n",
       "      <td>1000.000000</td>\n",
       "      <td>1.000000</td>\n",
       "      <td>0.000000</td>\n",
       "      <td>0.000000</td>\n",
       "      <td>0.000000</td>\n",
       "      <td>1950.000000</td>\n",
       "    </tr>\n",
       "    <tr>\n",
       "      <th>25%</th>\n",
       "      <td>1143.000000</td>\n",
       "      <td>6.000000</td>\n",
       "      <td>284.000000</td>\n",
       "      <td>6.000000</td>\n",
       "      <td>12.000000</td>\n",
       "      <td>1950.000000</td>\n",
       "    </tr>\n",
       "    <tr>\n",
       "      <th>50%</th>\n",
       "      <td>1277.000000</td>\n",
       "      <td>9.000000</td>\n",
       "      <td>518.000000</td>\n",
       "      <td>38.000000</td>\n",
       "      <td>20.000000</td>\n",
       "      <td>1950.000000</td>\n",
       "    </tr>\n",
       "    <tr>\n",
       "      <th>75%</th>\n",
       "      <td>1381.000000</td>\n",
       "      <td>11.000000</td>\n",
       "      <td>752.000000</td>\n",
       "      <td>79.000000</td>\n",
       "      <td>27.000000</td>\n",
       "      <td>1950.000000</td>\n",
       "    </tr>\n",
       "    <tr>\n",
       "      <th>max</th>\n",
       "      <td>1495.000000</td>\n",
       "      <td>12.000000</td>\n",
       "      <td>1673.000000</td>\n",
       "      <td>224.000000</td>\n",
       "      <td>50.000000</td>\n",
       "      <td>4950.000000</td>\n",
       "    </tr>\n",
       "  </tbody>\n",
       "</table>\n",
       "</div>"
      ],
      "text/plain": [
       "           user_id       month      sum_len    sum_mess     sum_vol  \\\n",
       "count   985.000000  985.000000   985.000000  985.000000  985.000000   \n",
       "mean   1263.094416    8.250761   526.623350   49.363452   19.965482   \n",
       "std     140.694908    2.871762   317.606098   47.804457   10.100955   \n",
       "min    1000.000000    1.000000     0.000000    0.000000    0.000000   \n",
       "25%    1143.000000    6.000000   284.000000    6.000000   12.000000   \n",
       "50%    1277.000000    9.000000   518.000000   38.000000   20.000000   \n",
       "75%    1381.000000   11.000000   752.000000   79.000000   27.000000   \n",
       "max    1495.000000   12.000000  1673.000000  224.000000   50.000000   \n",
       "\n",
       "       user_revenue  \n",
       "count    985.000000  \n",
       "mean    2089.340102  \n",
       "std      413.538753  \n",
       "min     1950.000000  \n",
       "25%     1950.000000  \n",
       "50%     1950.000000  \n",
       "75%     1950.000000  \n",
       "max     4950.000000  "
      ]
     },
     "execution_count": 94,
     "metadata": {},
     "output_type": "execute_result"
    }
   ],
   "source": [
    "user_stats_revenue_ultra.describe()"
   ]
  },
  {
   "cell_type": "code",
   "execution_count": 95,
   "metadata": {},
   "outputs": [
    {
     "data": {
      "text/html": [
       "<div>\n",
       "<style scoped>\n",
       "    .dataframe tbody tr th:only-of-type {\n",
       "        vertical-align: middle;\n",
       "    }\n",
       "\n",
       "    .dataframe tbody tr th {\n",
       "        vertical-align: top;\n",
       "    }\n",
       "\n",
       "    .dataframe thead th {\n",
       "        text-align: right;\n",
       "    }\n",
       "</style>\n",
       "<table border=\"1\" class=\"dataframe\">\n",
       "  <thead>\n",
       "    <tr style=\"text-align: right;\">\n",
       "      <th></th>\n",
       "      <th>user_id</th>\n",
       "      <th>month</th>\n",
       "      <th>sum_len</th>\n",
       "      <th>sum_mess</th>\n",
       "      <th>sum_vol</th>\n",
       "      <th>user_revenue</th>\n",
       "    </tr>\n",
       "  </thead>\n",
       "  <tbody>\n",
       "    <tr>\n",
       "      <th>count</th>\n",
       "      <td>2229.000000</td>\n",
       "      <td>2229.000000</td>\n",
       "      <td>2229.000000</td>\n",
       "      <td>2229.000000</td>\n",
       "      <td>2229.000000</td>\n",
       "      <td>2229.000000</td>\n",
       "    </tr>\n",
       "    <tr>\n",
       "      <th>mean</th>\n",
       "      <td>1246.506505</td>\n",
       "      <td>8.346792</td>\n",
       "      <td>417.934948</td>\n",
       "      <td>33.384029</td>\n",
       "      <td>16.695828</td>\n",
       "      <td>1345.962764</td>\n",
       "    </tr>\n",
       "    <tr>\n",
       "      <th>std</th>\n",
       "      <td>146.119496</td>\n",
       "      <td>2.920316</td>\n",
       "      <td>190.313730</td>\n",
       "      <td>28.227876</td>\n",
       "      <td>5.877404</td>\n",
       "      <td>855.005567</td>\n",
       "    </tr>\n",
       "    <tr>\n",
       "      <th>min</th>\n",
       "      <td>1001.000000</td>\n",
       "      <td>1.000000</td>\n",
       "      <td>0.000000</td>\n",
       "      <td>0.000000</td>\n",
       "      <td>0.000000</td>\n",
       "      <td>550.000000</td>\n",
       "    </tr>\n",
       "    <tr>\n",
       "      <th>25%</th>\n",
       "      <td>1121.000000</td>\n",
       "      <td>6.000000</td>\n",
       "      <td>282.000000</td>\n",
       "      <td>10.000000</td>\n",
       "      <td>13.000000</td>\n",
       "      <td>568.000000</td>\n",
       "    </tr>\n",
       "    <tr>\n",
       "      <th>50%</th>\n",
       "      <td>1239.000000</td>\n",
       "      <td>9.000000</td>\n",
       "      <td>422.000000</td>\n",
       "      <td>28.000000</td>\n",
       "      <td>17.000000</td>\n",
       "      <td>1150.000000</td>\n",
       "    </tr>\n",
       "    <tr>\n",
       "      <th>75%</th>\n",
       "      <td>1376.000000</td>\n",
       "      <td>11.000000</td>\n",
       "      <td>545.000000</td>\n",
       "      <td>51.000000</td>\n",
       "      <td>21.000000</td>\n",
       "      <td>1837.000000</td>\n",
       "    </tr>\n",
       "    <tr>\n",
       "      <th>max</th>\n",
       "      <td>1499.000000</td>\n",
       "      <td>12.000000</td>\n",
       "      <td>1435.000000</td>\n",
       "      <td>143.000000</td>\n",
       "      <td>39.000000</td>\n",
       "      <td>6970.000000</td>\n",
       "    </tr>\n",
       "  </tbody>\n",
       "</table>\n",
       "</div>"
      ],
      "text/plain": [
       "           user_id        month      sum_len     sum_mess      sum_vol  \\\n",
       "count  2229.000000  2229.000000  2229.000000  2229.000000  2229.000000   \n",
       "mean   1246.506505     8.346792   417.934948    33.384029    16.695828   \n",
       "std     146.119496     2.920316   190.313730    28.227876     5.877404   \n",
       "min    1001.000000     1.000000     0.000000     0.000000     0.000000   \n",
       "25%    1121.000000     6.000000   282.000000    10.000000    13.000000   \n",
       "50%    1239.000000     9.000000   422.000000    28.000000    17.000000   \n",
       "75%    1376.000000    11.000000   545.000000    51.000000    21.000000   \n",
       "max    1499.000000    12.000000  1435.000000   143.000000    39.000000   \n",
       "\n",
       "       user_revenue  \n",
       "count   2229.000000  \n",
       "mean    1345.962764  \n",
       "std      855.005567  \n",
       "min      550.000000  \n",
       "25%      568.000000  \n",
       "50%     1150.000000  \n",
       "75%     1837.000000  \n",
       "max     6970.000000  "
      ]
     },
     "execution_count": 95,
     "metadata": {},
     "output_type": "execute_result"
    }
   ],
   "source": [
    "user_stats_revenue_smart.describe()"
   ]
  },
  {
   "cell_type": "markdown",
   "metadata": {},
   "source": [
    "Каких-либо аномалий по результатам предварительной проверки не обнаружено. Заметно, что средняя выручка по пользователю выше на тарифе smart."
   ]
  },
  {
   "cell_type": "markdown",
   "metadata": {},
   "source": [
    "**Средние значения по категориям указаны в таблицах describe, так же выведем их отдельно в \"печатном виде\" и построим сравнительные диаграммы:**"
   ]
  },
  {
   "cell_type": "code",
   "execution_count": 96,
   "metadata": {},
   "outputs": [
    {
     "name": "stdout",
     "output_type": "stream",
     "text": [
      "Сводка средних значений по тарифу ULTRA\n",
      "Среднее значение категории sum_len : 526.6233502538071\n",
      "Среднее значение категории sum_mess : 49.36345177664975\n",
      "Среднее значение категории sum_vol : 19.965482233502538\n",
      "\n",
      "Сводка средних значений по тарифу SMART\n",
      "Среднее значение категории sum_len : 417.9349484073576\n",
      "Среднее значение категории sum_mess : 33.384028712427096\n",
      "Среднее значение категории sum_vol : 16.695827725437415\n"
     ]
    }
   ],
   "source": [
    "mean_list_ultra, mean_list_smart = [],[]\n",
    "print(\"Сводка средних значений по тарифу ULTRA\")\n",
    "for col in user_stats_revenue_ultra[['sum_len', 'sum_mess', 'sum_vol']]:\n",
    "    print(\"Среднее значение категории\", col, \":\", user_stats_revenue_ultra[col].mean())\n",
    "    mean_list_ultra.append(user_stats_revenue_ultra[col].mean())\n",
    "    \n",
    "print(\"\") \n",
    "print(\"Сводка средних значений по тарифу SMART\")\n",
    "for col in user_stats_revenue_smart[['sum_len', 'sum_mess', 'sum_vol']]:\n",
    "    print(\"Среднее значение категории\", col, \":\", user_stats_revenue_smart[col].mean())\n",
    "    mean_list_smart.append(user_stats_revenue_smart[col].mean())"
   ]
  },
  {
   "cell_type": "markdown",
   "metadata": {},
   "source": [
    "Отразим данные на сравнительных диаграммах. Горизонтальными линиями показаны лимиты данных по обоим тарифам. Красным цветом - лимит включенных данных для тарифа \"smart\", синим цветом для тарифа \"ultra\":"
   ]
  },
  {
   "cell_type": "code",
   "execution_count": 97,
   "metadata": {},
   "outputs": [
    {
     "data": {
      "image/png": "[encoded data removed]",
      "text/plain": [
       "<Figure size 648x288 with 3 Axes>"
      ]
     },
     "metadata": {
      "needs_background": "light"
     },
     "output_type": "display_data"
    }
   ],
   "source": [
    "fig = plt.figure()\n",
    "\n",
    "plotdata_calls = pd.DataFrame({\n",
    "    \"Ultra\":mean_list_ultra[0],\n",
    "    \"Smart\":mean_list_smart[0],\n",
    "    }, \n",
    "    index=['Средняя продолж-ть звонков, мин']\n",
    ")\n",
    "\n",
    "plotdata_mess = pd.DataFrame({\n",
    "    \"Ultra\":mean_list_ultra[1],\n",
    "    \"Smart\":mean_list_smart[1],\n",
    "    }, \n",
    "    index=['Среднее кол-во сообщений, шт']\n",
    ")\n",
    "\n",
    "plotdata_int = pd.DataFrame({\n",
    "    \"Ultra\":mean_list_ultra[2],\n",
    "    \"Smart\":mean_list_smart[2],\n",
    "    }, \n",
    "    index=['Средний объем интернет-трафика, Гб']\n",
    ")\n",
    "\n",
    "ax1 = fig.add_subplot(131)\n",
    "plotdata_calls.plot(kind=\"bar\", rot=0, figsize=(9,4), ax=ax1)\n",
    "ax1.axhline(500, color=\"red\", linestyle=\"dashed\")\n",
    "ax1.axhline(3000, color=\"blue\", linestyle=\"dashed\")\n",
    "\n",
    "ax2 = fig.add_subplot(132)\n",
    "plotdata_mess.plot(kind=\"bar\", rot=0, figsize=(9,4), ax=ax2)\n",
    "ax2.axhline(50, color=\"red\", linestyle=\"dashed\")\n",
    "ax2.axhline(1000, color=\"blue\", linestyle=\"dashed\")\n",
    "\n",
    "ax3 = fig.add_subplot(133)\n",
    "plotdata_int.plot(kind=\"bar\", rot=0, figsize=(9,4), ax=ax3)\n",
    "ax3.axhline(16, color=\"red\", linestyle=\"dashed\")\n",
    "ax3.axhline(31, color=\"blue\", linestyle=\"dashed\")\n",
    "\n",
    "fig.tight_layout()\n",
    "plt.show()"
   ]
  },
  {
   "cell_type": "markdown",
   "metadata": {},
   "source": [
    "Заметно, что лимиты на более дорогом тарифе \"щедрые\", но никто их не использует, по большей части. Пользователи более дешевых тарифов в среднем как раз приближаются к исчерпанию лимитов."
   ]
  },
  {
   "cell_type": "markdown",
   "metadata": {},
   "source": [
    "**Посчитаем дисперсию**"
   ]
  },
  {
   "cell_type": "markdown",
   "metadata": {},
   "source": [
    "Для продолжительности звонков:"
   ]
  },
  {
   "cell_type": "code",
   "execution_count": 98,
   "metadata": {},
   "outputs": [
    {
     "name": "stdout",
     "output_type": "stream",
     "text": [
      "Дисперсия продолжительности звонков по тарифу ultra: 100873.63339730092\n",
      "Дисперсия продолжительности звонков по тарифу smart: 36219.315784344246\n"
     ]
    }
   ],
   "source": [
    "len_ultra = user_stats_revenue_ultra['sum_len']\n",
    "len_smart = user_stats_revenue_smart['sum_len']\n",
    "variance_len_ultra = np.var(len_ultra, ddof=1)\n",
    "variance_len_smart = np.var(len_smart, ddof=1)\n",
    "print(\"Дисперсия продолжительности звонков по тарифу ultra:\",variance_len_ultra)\n",
    "print(\"Дисперсия продолжительности звонков по тарифу smart:\",variance_len_smart)"
   ]
  },
  {
   "cell_type": "markdown",
   "metadata": {},
   "source": [
    "Для количества сообщений:"
   ]
  },
  {
   "cell_type": "code",
   "execution_count": 99,
   "metadata": {},
   "outputs": [
    {
     "name": "stdout",
     "output_type": "stream",
     "text": [
      "Дисперсия количества сообщений по тарифу ultra: 2285.2661425446836\n",
      "Дисперсия количества сообщений по тарифу smart: 796.8129584480083\n"
     ]
    }
   ],
   "source": [
    "mess_ultra = user_stats_revenue_ultra['sum_mess']\n",
    "mess_smart = user_stats_revenue_smart['sum_mess']\n",
    "variance_mess_ultra = np.var(mess_ultra, ddof=1)\n",
    "variance_mess_smart = np.var(mess_smart, ddof=1)\n",
    "print(\"Дисперсия количества сообщений по тарифу ultra:\",variance_mess_ultra)\n",
    "print(\"Дисперсия количества сообщений по тарифу smart:\",variance_mess_smart)"
   ]
  },
  {
   "cell_type": "markdown",
   "metadata": {},
   "source": [
    "Для объема интернет-трафика:"
   ]
  },
  {
   "cell_type": "code",
   "execution_count": 100,
   "metadata": {},
   "outputs": [
    {
     "name": "stdout",
     "output_type": "stream",
     "text": [
      "Дисперсия объема интернет-трафика по тарифу ultra: 102.02929511782392\n",
      "Дисперсия объема интернет-трафика по тарифу smart: 34.54388294337805\n"
     ]
    }
   ],
   "source": [
    "int_ultra = user_stats_revenue_ultra['sum_vol']\n",
    "int_smart = user_stats_revenue_smart['sum_vol']\n",
    "variance_int_ultra = np.var(int_ultra, ddof=1)\n",
    "variance_int_smart = np.var(int_smart, ddof=1)\n",
    "print(\"Дисперсия объема интернет-трафика по тарифу ultra:\",variance_int_ultra)\n",
    "print(\"Дисперсия объема интернет-трафика по тарифу smart:\",variance_int_smart)"
   ]
  },
  {
   "cell_type": "markdown",
   "metadata": {},
   "source": [
    "**Посчитаем стандартное отклонение:**"
   ]
  },
  {
   "cell_type": "markdown",
   "metadata": {},
   "source": [
    "Несмотря на то, что стандартное отклонение представлено в таблицах describe, посчитаем его вручную. По продолжительности звонков:"
   ]
  },
  {
   "cell_type": "code",
   "execution_count": 101,
   "metadata": {},
   "outputs": [
    {
     "name": "stdout",
     "output_type": "stream",
     "text": [
      "Станд.отклонение продолжительности звонков по тарифу ultra: 317.4448355497411\n",
      "Станд.отклонение продолжительности звонков по тарифу smart: 190.27103471651867\n"
     ]
    }
   ],
   "source": [
    "deviation_len_ultra = np.std(len_ultra)\n",
    "deviation_len_smart = np.std(len_smart)\n",
    "print(\"Станд.отклонение продолжительности звонков по тарифу ultra:\",deviation_len_ultra)\n",
    "print(\"Станд.отклонение продолжительности звонков по тарифу smart:\",deviation_len_smart)"
   ]
  },
  {
   "cell_type": "markdown",
   "metadata": {},
   "source": [
    "Для количества сообщений:"
   ]
  },
  {
   "cell_type": "code",
   "execution_count": 102,
   "metadata": {},
   "outputs": [
    {
     "name": "stdout",
     "output_type": "stream",
     "text": [
      "Станд.отклонение количества сообщений по тарифу ultra: 47.780184966101714\n",
      "Станд.отклонение количества сообщений по тарифу smart: 28.221542886898938\n"
     ]
    }
   ],
   "source": [
    "deviation_mes_ultra = np.std(mess_ultra)\n",
    "deviation_mes_smart = np.std(mess_smart)\n",
    "print(\"Станд.отклонение количества сообщений по тарифу ultra:\",deviation_mes_ultra)\n",
    "print(\"Станд.отклонение количества сообщений по тарифу smart:\",deviation_mes_smart)"
   ]
  },
  {
   "cell_type": "markdown",
   "metadata": {},
   "source": [
    "Для объема интернет-трафика:"
   ]
  },
  {
   "cell_type": "code",
   "execution_count": 103,
   "metadata": {},
   "outputs": [
    {
     "name": "stdout",
     "output_type": "stream",
     "text": [
      "Станд.отклонение объема интернет-трафика по тарифу ultra: 10.095826468253858\n",
      "Станд.отклонение объема интернет-трафика по тарифу smart: 5.876085896527345\n"
     ]
    }
   ],
   "source": [
    "deviation_int_ultra = np.std(int_ultra)\n",
    "deviation_int_smart = np.std(int_smart)\n",
    "print(\"Станд.отклонение объема интернет-трафика по тарифу ultra:\",deviation_int_ultra)\n",
    "print(\"Станд.отклонение объема интернет-трафика по тарифу smart:\",deviation_int_smart)"
   ]
  },
  {
   "cell_type": "markdown",
   "metadata": {},
   "source": [
    "Все найденные значения совпадают с таблицей describe."
   ]
  },
  {
   "cell_type": "markdown",
   "metadata": {},
   "source": [
    "**Построим гистограммы по заданным параметрам (минуты разговора, количество сообщений и объём интернет-трафика):**"
   ]
  },
  {
   "cell_type": "markdown",
   "metadata": {},
   "source": [
    "Гистограмма продолжительности разговоров по пользователям. Вертикальными линиями показаны лимиты данных по обоим тарифам. Красным цветом - лимит включенных данных для тарифа \"smart\", синим цветом для тарифа \"ultra\"."
   ]
  },
  {
   "cell_type": "code",
   "execution_count": 104,
   "metadata": {},
   "outputs": [
    {
     "data": {
      "image/png": "[encoded data removed]",
      "text/plain": [
       "<Figure size 432x288 with 1 Axes>"
      ]
     },
     "metadata": {
      "needs_background": "light"
     },
     "output_type": "display_data"
    }
   ],
   "source": [
    "plt.hist(user_stats_revenue_ultra['sum_len'], bins=20, alpha=0.5, label='тариф ultra')\n",
    "plt.hist(user_stats_revenue_smart['sum_len'], bins=20, alpha=0.5, label='тариф smart')\n",
    "plt.xlabel('Продолжительность разговоров, мин.')\n",
    "plt.ylabel('Кол-во пользователей')\n",
    "plt.legend(loc='upper right')\n",
    "plt.suptitle('Сравнение продолжительности разговоров по пользователям')\n",
    "plt.show()"
   ]
  },
  {
   "cell_type": "markdown",
   "metadata": {},
   "source": [
    "Та же гистограмма с линиями, отображающими лимиты:"
   ]
  },
  {
   "cell_type": "code",
   "execution_count": 105,
   "metadata": {},
   "outputs": [
    {
     "data": {
      "image/png": "[encoded data removed]",
      "text/plain": [
       "<Figure size 432x288 with 1 Axes>"
      ]
     },
     "metadata": {
      "needs_background": "light"
     },
     "output_type": "display_data"
    }
   ],
   "source": [
    "plt.hist(user_stats_revenue_ultra['sum_len'], bins=20, alpha=0.5, label='тариф ultra')\n",
    "plt.hist(user_stats_revenue_smart['sum_len'], bins=20, alpha=0.5, label='тариф smart')\n",
    "plt.xlabel('Продолжительность разговоров, мин.')\n",
    "plt.ylabel('Кол-во пользователей')\n",
    "plt.axvline(500, color=\"red\", linestyle=\"dashed\")\n",
    "plt.axvline(3000, color=\"blue\", linestyle=\"dashed\")\n",
    "plt.legend(loc='upper right')\n",
    "plt.suptitle('Сравнение продолжительности разговоров по пользователям')\n",
    "plt.show()"
   ]
  },
  {
   "cell_type": "markdown",
   "metadata": {},
   "source": [
    "**Выводы:**\n",
    "- Во-первых, заметно нормальное распределение (и более нормальное среди пользователей дешевого тарифа). \n",
    "- Во-вторых, заметно, что лимит на количество минут как раз приходится на медиану гистограммы. Т.е. большинство пользователей дешевого тарифа следят за соблюдением лимитов. \n",
    "- Пользователи дорогого тарифа даже не приближаются к лимиту по минутам... Медиана примерно на том же уровне, что и у пользователей более дешевого тарифа. То есть \"наговаривают\" минут все пользователи примерно одинаково."
   ]
  },
  {
   "cell_type": "markdown",
   "metadata": {},
   "source": [
    "Гистограмма количества сообщений по пользователям:"
   ]
  },
  {
   "cell_type": "code",
   "execution_count": 106,
   "metadata": {},
   "outputs": [
    {
     "data": {
      "image/png": "[encoded data removed]",
      "text/plain": [
       "<Figure size 432x288 with 1 Axes>"
      ]
     },
     "metadata": {
      "needs_background": "light"
     },
     "output_type": "display_data"
    }
   ],
   "source": [
    "plt.hist(user_stats_revenue_ultra['sum_mess'], bins=20, alpha=0.5, label='тариф ultra')\n",
    "plt.hist(user_stats_revenue_smart['sum_mess'], bins=20, alpha=0.5, label='тариф smart')\n",
    "plt.xlabel('Количество сообщений, шт.')\n",
    "plt.ylabel('Кол-во пользователей')\n",
    "plt.legend(loc='upper right')\n",
    "plt.suptitle('Сравнение количества сообщений по пользователям')\n",
    "plt.show()"
   ]
  },
  {
   "cell_type": "markdown",
   "metadata": {},
   "source": [
    "Та же гистограмма с линиями, отображающими лимиты:"
   ]
  },
  {
   "cell_type": "code",
   "execution_count": 107,
   "metadata": {},
   "outputs": [
    {
     "data": {
      "image/png": "[encoded data removed]",
      "text/plain": [
       "<Figure size 432x288 with 1 Axes>"
      ]
     },
     "metadata": {
      "needs_background": "light"
     },
     "output_type": "display_data"
    }
   ],
   "source": [
    "plt.hist(user_stats_revenue_ultra['sum_mess'], bins=20, alpha=0.5, label='тариф ultra')\n",
    "plt.hist(user_stats_revenue_smart['sum_mess'], bins=20, alpha=0.5, label='тариф smart')\n",
    "plt.xlabel('Количество сообщений, шт.')\n",
    "plt.ylabel('Кол-во пользователей')\n",
    "plt.axvline(50, color=\"red\", linestyle=\"dashed\")\n",
    "plt.axvline(1000, color=\"blue\", linestyle=\"dashed\")\n",
    "plt.legend(loc='upper right')\n",
    "plt.suptitle('Сравнение количества сообщений по пользователям')\n",
    "plt.show()"
   ]
  },
  {
   "cell_type": "markdown",
   "metadata": {},
   "source": [
    "Если смотреть по гистограмме, то распределения по количеству сообщений примерно схожи для обоих тарифов, и опять, очень щедрый, неиспользуемый лимит сообщений для пользователей дорогого тарифа, а также совпадение лимита для дешевого тарифа с медианой распределения и с общей медианой."
   ]
  },
  {
   "cell_type": "markdown",
   "metadata": {},
   "source": [
    "Гистограмма интернет-трафика. В данном случае вспомогательные линии на масштаб не влияют, поэтому оставим их на основном графике:"
   ]
  },
  {
   "cell_type": "code",
   "execution_count": 108,
   "metadata": {},
   "outputs": [
    {
     "data": {
      "image/png": "[encoded data removed]",
      "text/plain": [
       "<Figure size 432x288 with 1 Axes>"
      ]
     },
     "metadata": {
      "needs_background": "light"
     },
     "output_type": "display_data"
    }
   ],
   "source": [
    "plt.hist(user_stats_revenue_ultra['sum_vol'], bins=20, alpha=0.5, label='тариф ultra')\n",
    "plt.hist(user_stats_revenue_smart['sum_vol'], bins=20, alpha=0.5, label='тариф smart')\n",
    "plt.xlabel('Объем трафика, Гб')\n",
    "plt.ylabel('Кол-во пользователей')\n",
    "plt.axvline(16, color=\"red\", linestyle=\"dashed\")\n",
    "plt.axvline(31, color=\"blue\", linestyle=\"dashed\")\n",
    "plt.legend(loc='upper right')\n",
    "plt.suptitle('Сравнение интернет-трафика по пользователям')\n",
    "plt.show()"
   ]
  },
  {
   "cell_type": "markdown",
   "metadata": {},
   "source": [
    "Заметно нормальное распределение и превышение лимитов обеих категорий пользователей. У пользователей дешевого тарифа лимит приходится на медиану."
   ]
  },
  {
   "cell_type": "markdown",
   "metadata": {},
   "source": [
    "**3.1. Общие выводы по разделу:** <a class=\"anchor\" id=\"third-zero-bullet\"></a>\n",
    "- Из диаграмм видно нормальное распределение категорий;\n",
    "- Заметно, что для пользователей дешевого тарифа лимит находится как раз на уровне медианы, т.е. пользователи строже следят за своими расходами (а возможно, оператор связи сделал хорошую \"домашнюю работу\" и точно рассчитал нужды среднего пользователя);\n",
    "- Лимиты для пользователей дорогого тарифа выглядят неэффективными с точки зрения пользователя - непонятно, зачем переплачивать, т.к. средний пользователь эти лимиты никогда не исчерпывает. \n",
    "- Дорогой  тариф имеет смысл подключать при высоком потреблении интернет-трафика (переплата за потребленные гигабайты для дешевого тарифа сравнивает стоимость тарифов), см. по диаграмме: дополнительных 10-15 Гб сверх лимита при стоимости 200 руб за Гб повышают оплату до 2 тыс рублей дополнительно. \n",
    "- Предварительно можно сделать вывод, что при двоекратном количестве пользователей дешевого тарифа, если половина пользователей превышает лимиты, то суммарная выручка от обоих тарифов для оператора будет примерно одинакова. Но ведь оператор может зарабатывать еще и дополнительной плате за звонки и сообщения, значит дешевый тариф для оператора более выгоден."
   ]
  },
  {
   "cell_type": "markdown",
   "metadata": {},
   "source": [
    "# 4. Проверка гипотез <a class=\"anchor\" id=\"fourth-bullet\"></a>\n",
    "\n",
    "- средняя выручка пользователей тарифов «Ультра» и «Смарт» различаются;\n",
    "- средняя выручка пользователей из Москвы отличается от выручки пользователей из других регионов.\n",
    "Пороговое значение alpha задайте самостоятельно.\n",
    "Поясните:\n",
    "- как вы формулировали нулевую и альтернативную гипотезы;\n",
    "- какой критерий использовали для проверки гипотез и почему."
   ]
  },
  {
   "cell_type": "markdown",
   "metadata": {},
   "source": [
    "**Проверим нормальность распределения наших выборок методом Шапиро-Уилка**"
   ]
  },
  {
   "cell_type": "markdown",
   "metadata": {},
   "source": [
    "Для средней выручки по тарифам:"
   ]
  },
  {
   "cell_type": "code",
   "execution_count": 109,
   "metadata": {},
   "outputs": [
    {
     "data": {
      "image/png": "[encoded data removed]",
      "text/plain": [
       "<Figure size 1008x288 with 2 Axes>"
      ]
     },
     "metadata": {
      "needs_background": "light"
     },
     "output_type": "display_data"
    }
   ],
   "source": [
    "fig = plt.figure(figsize=(14, 4))\n",
    "\n",
    "data_ultra = user_stats_revenue_ultra['user_revenue']\n",
    "data_smart = user_stats_revenue_smart['user_revenue']\n",
    "\n",
    "ax1 = fig.add_subplot(131)\n",
    "stats.probplot(data_ultra, dist=\"norm\", plot=plt)\n",
    "\n",
    "ax2 = fig.add_subplot(132)\n",
    "stats.probplot(data_smart, dist=\"norm\", plot=plt)\n",
    "\n",
    "fig.tight_layout()\n",
    "plt.show()"
   ]
  },
  {
   "cell_type": "markdown",
   "metadata": {},
   "source": [
    "Также проверим распределение по гистограммам. Как видим, это не нормальное распределение:"
   ]
  },
  {
   "cell_type": "code",
   "execution_count": 110,
   "metadata": {},
   "outputs": [
    {
     "data": {
      "image/png": "[encoded data removed]",
      "text/plain": [
       "<Figure size 432x288 with 1 Axes>"
      ]
     },
     "metadata": {
      "needs_background": "light"
     },
     "output_type": "display_data"
    }
   ],
   "source": [
    "plt.hist(user_stats_revenue_ultra['user_revenue'], bins=8, alpha=0.5, label='тариф ultra')\n",
    "plt.hist(user_stats_revenue_smart['user_revenue'], bins=8, alpha=0.5, label='тариф smart')\n",
    "plt.xlabel('Выручка по тарифам, руб.')\n",
    "plt.ylabel('Кол-во пользователей')\n",
    "plt.legend(loc='upper right')\n",
    "plt.suptitle('Сравнение выручки по тарифам')\n",
    "plt.show()"
   ]
  },
  {
   "cell_type": "markdown",
   "metadata": {},
   "source": [
    "Для средней выручки по Москве и регионам. Дополнительно понадобится временный датафрейм:"
   ]
  },
  {
   "cell_type": "code",
   "execution_count": 111,
   "metadata": {},
   "outputs": [],
   "source": [
    "user_stats_revenue_loc = user_stats_revenue.merge(users)\n",
    "user_stats_revenue_loc = user_stats_revenue_loc[['user_revenue', 'city']]\n",
    "sample_moscow = user_stats_revenue_loc[user_stats_revenue_loc['city']=='Москва']\n",
    "sample_region = user_stats_revenue_loc[user_stats_revenue_loc['city']!='Москва']"
   ]
  },
  {
   "cell_type": "code",
   "execution_count": 112,
   "metadata": {},
   "outputs": [
    {
     "data": {
      "image/png": "[encoded data removed]",
      "text/plain": [
       "<Figure size 1008x288 with 2 Axes>"
      ]
     },
     "metadata": {
      "needs_background": "light"
     },
     "output_type": "display_data"
    }
   ],
   "source": [
    "fig = plt.figure(figsize=(14, 4))\n",
    "\n",
    "ax1 = fig.add_subplot(131)\n",
    "stats.probplot(sample_moscow['user_revenue'], dist=\"norm\", plot=plt)\n",
    "\n",
    "ax2 = fig.add_subplot(132)\n",
    "stats.probplot(sample_region['user_revenue'], dist=\"norm\", plot=plt)\n",
    "\n",
    "fig.tight_layout()\n",
    "plt.show()"
   ]
  },
  {
   "cell_type": "markdown",
   "metadata": {},
   "source": [
    "Также проверим распределение по гистограммам. Как видим, это также не нормальное распределение:"
   ]
  },
  {
   "cell_type": "code",
   "execution_count": 113,
   "metadata": {},
   "outputs": [
    {
     "data": {
      "image/png": "[encoded data removed]",
      "text/plain": [
       "<Figure size 432x288 with 1 Axes>"
      ]
     },
     "metadata": {
      "needs_background": "light"
     },
     "output_type": "display_data"
    }
   ],
   "source": [
    "plt.hist(sample_moscow['user_revenue'], bins=20, alpha=0.5, label='Moscow')\n",
    "plt.hist(sample_region['user_revenue'], bins=20, alpha=0.5, label='Regions')\n",
    "plt.xlabel('Выручка по регионам, руб.')\n",
    "plt.ylabel('Кол-во пользователей')\n",
    "plt.legend(loc='upper right')\n",
    "plt.suptitle('Сравнение выручки по регионам')\n",
    "plt.show()"
   ]
  },
  {
   "cell_type": "markdown",
   "metadata": {},
   "source": [
    "Проверим дисперсии:"
   ]
  },
  {
   "cell_type": "code",
   "execution_count": 114,
   "metadata": {},
   "outputs": [
    {
     "name": "stdout",
     "output_type": "stream",
     "text": [
      "Дисперсия по тарифу ultra: 171014.2998638109\n",
      "Дисперсия по тарифу smart: 731034.518810321\n",
      "--- --- ---\n",
      "Дисперсия по выручке для Москвы: 599439.1570389861\n",
      "Дисперсия по выручке для регионов: 695112.3369156931\n"
     ]
    }
   ],
   "source": [
    "variance_ultra = np.var(data_ultra, ddof=1)\n",
    "variance_smart = np.var(data_smart, ddof=1)\n",
    "variance_moscow = np.var(sample_moscow['user_revenue'], ddof=1)\n",
    "variance_regions = np.var(sample_region['user_revenue'], ddof=1)\n",
    "print(\"Дисперсия по тарифу ultra:\",variance_ultra)\n",
    "print(\"Дисперсия по тарифу smart:\",variance_smart)\n",
    "print(\"--- --- ---\")\n",
    "print(\"Дисперсия по выручке для Москвы:\",variance_moscow)\n",
    "print(\"Дисперсия по выручке для регионов:\",variance_regions)"
   ]
  },
  {
   "cell_type": "markdown",
   "metadata": {},
   "source": [
    "**Как видим:**\n",
    "- дисперсия обеих выборок отличается;\n",
    "- значения на графиках выборок по тарифам не расположены вдоль прямой, что не позволяет считать оба распределения нормальными.\n",
    "\n",
    "Исходя из этих условий, чтобы проверить гипотезу о равенстве среднего двух генеральных совокупностей по взятым из них выборкам, воспользуемся тестом scipy.stats.ttest_ind."
   ]
  },
  {
   "cell_type": "markdown",
   "metadata": {},
   "source": [
    "**Гипотеза: средняя выручка пользователей тарифов «Ультра» и «Смарт» различаются**"
   ]
  },
  {
   "cell_type": "markdown",
   "metadata": {},
   "source": [
    "- нулевая гипотеза состоит в том, что средняя выручка от пользователей по двум тарифам одинакова, \n",
    "- альтернативная гипотеза состоит в том, что выручки будут различаться. \n",
    "\n",
    "Используем тест scipy.stats.ttest_ind, с дополнительным условием о разной дисперсии (equal_var = False)."
   ]
  },
  {
   "cell_type": "code",
   "execution_count": 115,
   "metadata": {},
   "outputs": [
    {
     "name": "stdout",
     "output_type": "stream",
     "text": [
      "p-значение: 9.070850352445897e-208\n",
      "Отвергаем нулевую гипотезу\n"
     ]
    }
   ],
   "source": [
    "sample_1 = user_stats_revenue_ultra['user_revenue']\n",
    "sample_2 = user_stats_revenue_smart['user_revenue']\n",
    "\n",
    "alpha = 0.05\n",
    "\n",
    "results = st.ttest_ind(sample_1, sample_2, equal_var = False)\n",
    "\n",
    "print('p-значение:', results.pvalue)\n",
    "\n",
    "if results.pvalue < alpha:\n",
    "    print('Отвергаем нулевую гипотезу')\n",
    "else:\n",
    "    print('Не получилось отвергнуть нулевую гипотезу')"
   ]
  },
  {
   "cell_type": "markdown",
   "metadata": {},
   "source": [
    "Для данного случая отвергаем нулевую гипотезу, средние выручки для пользователей двух тарифов не равны."
   ]
  },
  {
   "cell_type": "markdown",
   "metadata": {},
   "source": [
    "**Гипотеза: средняя выручка пользователей из Москвы отличается от выручки пользователей из других регионов**"
   ]
  },
  {
   "cell_type": "markdown",
   "metadata": {},
   "source": [
    "- нулевая гипотеза состоит в том, что средняя выручка от пользователей из Москвы равна средней выручке от пользователей из других регионов;\n",
    "- альтернативная гипотеза состоит в том, что выручки от пользователей из Москвы и регионов будут различаться.\n",
    "\n",
    "Используем тест scipy.stats.ttest_ind, с дополнительным условием о разной дисперсии (equal_var = False)."
   ]
  },
  {
   "cell_type": "code",
   "execution_count": 116,
   "metadata": {},
   "outputs": [
    {
     "name": "stdout",
     "output_type": "stream",
     "text": [
      "p-значение: 0.5846845024565437\n",
      "Не получилось отвергнуть нулевую гипотезу\n"
     ]
    }
   ],
   "source": [
    "alpha = 0.05\n",
    "\n",
    "results = st.ttest_ind(sample_moscow['user_revenue'], sample_region['user_revenue'], equal_var = False)\n",
    "\n",
    "print('p-значение:', results.pvalue)\n",
    "\n",
    "if results.pvalue < alpha:\n",
    "    print('Отвергаем нулевую гипотезу')\n",
    "else:\n",
    "    print('Не получилось отвергнуть нулевую гипотезу')"
   ]
  },
  {
   "cell_type": "markdown",
   "metadata": {},
   "source": [
    "На основании результатов теста у нас нет оснований отвергать нулевую гипотезу и приходим к выводу, что средняя выручка по Москве и регионам равна.\n",
    "\n",
    "Проверка методом mean() или describe() показывает показывает очень похожие значения."
   ]
  },
  {
   "cell_type": "code",
   "execution_count": 117,
   "metadata": {},
   "outputs": [
    {
     "name": "stdout",
     "output_type": "stream",
     "text": [
      "1589.430441898527\n",
      "1570.1148674606225\n"
     ]
    }
   ],
   "source": [
    "print(sample_moscow['user_revenue'].mean())\n",
    "print(sample_region['user_revenue'].mean())"
   ]
  },
  {
   "cell_type": "markdown",
   "metadata": {},
   "source": [
    "**4.1. Общие выводы по разделу:** <a class=\"anchor\" id=\"fourth-zero-bullet\"></a>\n",
    "\n",
    "- мы сформулировали нулевые и альтернативные гипотезы и выбрали критерий для их проверки;\n",
    "- мы подтвердили, что средние выручки от пользователей тарифов «Ультра» и «Смарт» различаются;\n",
    "- мы подтвердили, что средняя выручка от пользователей из Москвы не отличается от выручки пользователей из других регионов."
   ]
  },
  {
   "cell_type": "markdown",
   "metadata": {},
   "source": [
    "# 5. Общий вывод <a class=\"anchor\" id=\"fifth-bullet\"></a>"
   ]
  },
  {
   "cell_type": "markdown",
   "metadata": {},
   "source": [
    "Нами проведено исследование по в составе кейса \"Определение перспективного тарифа для телеком-компании\". В задачи входило выполнить предварительный анализ тарифов на небольшой выборке клиентов.\n",
    "\n",
    "Нами были изучены данные из разных таблиц и объединены в одну. В результате исследования было обнаружено, что:\n",
    "\n",
    "- Пользователей дешевого тарифа Smart гораздо больше, чем пользователей тарифа Ultra;\n",
    "- Пользователи дешевого тарифа больше переплачивают за потребление услуг сверх лимитов (звонки, сообщения, интернет) в среднем;\n",
    "- Обе категории пользователей сильно переплачивают за интернет. Переплата за интернет сравнивает выручку с пользователя от двух тарифов в среднем, либо даже увеличивает ее для более дешевого тарифа;\n",
    "- Мы выдвинули гипотезу о том, что средняя выручка с пользователей двух тарифов равна, и после проверки, опровергли ее;\n",
    "- Мы также выдвинули гипотезу о том, что средняя выручка с пользователей в Москве равна выручке с пользователей в регионах и, после проверки, подтвердили данную гипотезу.\n",
    "\n",
    "Необходимо провести дополнительное изучение на предмет того, приносит ли потребление сверх лимитов на более дешевом тарифе больше выручки, чем приносит выручка от более дорогого тарифа, но в цели данного исследования это не входило."
   ]
  }
 ],
 "metadata": {
  "ExecuteTimeLog": [
   {
    "duration": 1024,
    "start_time": "2021-10-11T08:44:55.224Z"
   },
   {
    "duration": 11,
    "start_time": "2021-10-11T09:06:57.268Z"
   },
   {
    "duration": 28,
    "start_time": "2021-10-11T09:07:09.483Z"
   },
   {
    "duration": 11,
    "start_time": "2021-10-11T09:07:17.905Z"
   },
   {
    "duration": 29,
    "start_time": "2021-10-11T09:07:21.229Z"
   },
   {
    "duration": 417,
    "start_time": "2021-10-11T09:10:54.038Z"
   },
   {
    "duration": 532,
    "start_time": "2021-10-11T09:11:03.878Z"
   },
   {
    "duration": 12,
    "start_time": "2021-10-11T09:11:07.089Z"
   },
   {
    "duration": 26,
    "start_time": "2021-10-11T09:11:09.933Z"
   },
   {
    "duration": 12,
    "start_time": "2021-10-11T09:11:16.942Z"
   },
   {
    "duration": 24,
    "start_time": "2021-10-11T09:11:31.085Z"
   },
   {
    "duration": 11,
    "start_time": "2021-10-11T09:13:32.274Z"
   },
   {
    "duration": 19,
    "start_time": "2021-10-11T09:13:37.449Z"
   },
   {
    "duration": 12,
    "start_time": "2021-10-11T09:16:20.749Z"
   },
   {
    "duration": 9,
    "start_time": "2021-10-11T09:16:26.348Z"
   },
   {
    "duration": 15,
    "start_time": "2021-10-11T09:17:48.910Z"
   },
   {
    "duration": 9,
    "start_time": "2021-10-11T09:17:52.361Z"
   },
   {
    "duration": 152,
    "start_time": "2021-10-11T09:22:01.479Z"
   },
   {
    "duration": 132,
    "start_time": "2021-10-11T09:22:17.218Z"
   },
   {
    "duration": 325,
    "start_time": "2021-10-11T09:22:38.343Z"
   },
   {
    "duration": 7,
    "start_time": "2021-10-11T09:23:03.930Z"
   },
   {
    "duration": 506,
    "start_time": "2021-10-11T09:23:37.487Z"
   },
   {
    "duration": 360,
    "start_time": "2021-10-11T09:23:46.071Z"
   },
   {
    "duration": 4,
    "start_time": "2021-10-11T09:23:51.204Z"
   },
   {
    "duration": 5,
    "start_time": "2021-10-11T09:24:33.759Z"
   },
   {
    "duration": 5,
    "start_time": "2021-10-11T09:28:39.114Z"
   },
   {
    "duration": 5,
    "start_time": "2021-10-11T09:28:44.022Z"
   },
   {
    "duration": 3,
    "start_time": "2021-10-11T10:47:29.052Z"
   },
   {
    "duration": 520,
    "start_time": "2021-10-11T10:47:29.058Z"
   },
   {
    "duration": 10,
    "start_time": "2021-10-11T10:47:29.581Z"
   },
   {
    "duration": 40,
    "start_time": "2021-10-11T10:47:29.594Z"
   },
   {
    "duration": 11,
    "start_time": "2021-10-11T10:47:29.636Z"
   },
   {
    "duration": 33,
    "start_time": "2021-10-11T10:47:29.649Z"
   },
   {
    "duration": 9,
    "start_time": "2021-10-11T10:47:29.685Z"
   },
   {
    "duration": 29,
    "start_time": "2021-10-11T10:47:29.697Z"
   },
   {
    "duration": 25,
    "start_time": "2021-10-11T10:47:29.730Z"
   },
   {
    "duration": 23,
    "start_time": "2021-10-11T10:47:29.758Z"
   },
   {
    "duration": 28,
    "start_time": "2021-10-11T10:47:29.783Z"
   },
   {
    "duration": 20,
    "start_time": "2021-10-11T10:47:29.814Z"
   },
   {
    "duration": 17,
    "start_time": "2021-10-11T10:47:29.836Z"
   },
   {
    "duration": 316,
    "start_time": "2021-10-11T10:47:33.200Z"
   },
   {
    "duration": 31,
    "start_time": "2021-10-11T10:49:30.428Z"
   },
   {
    "duration": 29,
    "start_time": "2021-10-11T10:50:56.091Z"
   },
   {
    "duration": 34,
    "start_time": "2021-10-11T10:51:12.504Z"
   },
   {
    "duration": 4,
    "start_time": "2021-10-11T10:51:27.527Z"
   },
   {
    "duration": 351,
    "start_time": "2021-10-11T10:51:53.384Z"
   },
   {
    "duration": 4,
    "start_time": "2021-10-11T10:52:18.796Z"
   },
   {
    "duration": 3,
    "start_time": "2021-10-11T10:52:28.815Z"
   },
   {
    "duration": 768,
    "start_time": "2021-10-11T10:52:28.820Z"
   },
   {
    "duration": 12,
    "start_time": "2021-10-11T10:52:29.591Z"
   },
   {
    "duration": 47,
    "start_time": "2021-10-11T10:52:29.606Z"
   },
   {
    "duration": 12,
    "start_time": "2021-10-11T10:52:29.656Z"
   },
   {
    "duration": 44,
    "start_time": "2021-10-11T10:52:29.670Z"
   },
   {
    "duration": 20,
    "start_time": "2021-10-11T10:52:29.716Z"
   },
   {
    "duration": 40,
    "start_time": "2021-10-11T10:52:29.739Z"
   },
   {
    "duration": 21,
    "start_time": "2021-10-11T10:52:29.781Z"
   },
   {
    "duration": 11,
    "start_time": "2021-10-11T10:52:29.805Z"
   },
   {
    "duration": 18,
    "start_time": "2021-10-11T10:52:29.819Z"
   },
   {
    "duration": 25,
    "start_time": "2021-10-11T10:52:29.839Z"
   },
   {
    "duration": 19,
    "start_time": "2021-10-11T10:52:29.867Z"
   },
   {
    "duration": 6,
    "start_time": "2021-10-11T10:56:16.357Z"
   },
   {
    "duration": 95,
    "start_time": "2021-10-11T10:56:29.207Z"
   },
   {
    "duration": 93,
    "start_time": "2021-10-11T10:56:59.535Z"
   },
   {
    "duration": 102,
    "start_time": "2021-10-11T10:57:24.355Z"
   },
   {
    "duration": 103,
    "start_time": "2021-10-11T10:58:14.319Z"
   },
   {
    "duration": 3,
    "start_time": "2021-10-11T11:01:17.070Z"
   },
   {
    "duration": 543,
    "start_time": "2021-10-11T11:01:17.075Z"
   },
   {
    "duration": 11,
    "start_time": "2021-10-11T11:01:17.621Z"
   },
   {
    "duration": 36,
    "start_time": "2021-10-11T11:01:17.635Z"
   },
   {
    "duration": 11,
    "start_time": "2021-10-11T11:01:17.674Z"
   },
   {
    "duration": 26,
    "start_time": "2021-10-11T11:01:17.688Z"
   },
   {
    "duration": 10,
    "start_time": "2021-10-11T11:01:17.717Z"
   },
   {
    "duration": 45,
    "start_time": "2021-10-11T11:01:17.730Z"
   },
   {
    "duration": 13,
    "start_time": "2021-10-11T11:01:17.777Z"
   },
   {
    "duration": 12,
    "start_time": "2021-10-11T11:01:17.792Z"
   },
   {
    "duration": 16,
    "start_time": "2021-10-11T11:01:17.807Z"
   },
   {
    "duration": 9,
    "start_time": "2021-10-11T11:01:17.859Z"
   },
   {
    "duration": 9,
    "start_time": "2021-10-11T11:01:17.870Z"
   },
   {
    "duration": 357,
    "start_time": "2021-10-11T11:01:21.812Z"
   },
   {
    "duration": 371,
    "start_time": "2021-10-11T11:01:33.399Z"
   },
   {
    "duration": 3,
    "start_time": "2021-10-11T11:01:50.731Z"
   },
   {
    "duration": 546,
    "start_time": "2021-10-11T11:01:50.737Z"
   },
   {
    "duration": 11,
    "start_time": "2021-10-11T11:01:51.285Z"
   },
   {
    "duration": 37,
    "start_time": "2021-10-11T11:01:51.299Z"
   },
   {
    "duration": 11,
    "start_time": "2021-10-11T11:01:51.338Z"
   },
   {
    "duration": 35,
    "start_time": "2021-10-11T11:01:51.352Z"
   },
   {
    "duration": 10,
    "start_time": "2021-10-11T11:01:51.389Z"
   },
   {
    "duration": 26,
    "start_time": "2021-10-11T11:01:51.401Z"
   },
   {
    "duration": 19,
    "start_time": "2021-10-11T11:01:51.431Z"
   },
   {
    "duration": 11,
    "start_time": "2021-10-11T11:01:51.458Z"
   },
   {
    "duration": 34,
    "start_time": "2021-10-11T11:01:51.471Z"
   },
   {
    "duration": 19,
    "start_time": "2021-10-11T11:01:51.507Z"
   },
   {
    "duration": 9,
    "start_time": "2021-10-11T11:01:51.529Z"
   },
   {
    "duration": 99,
    "start_time": "2021-10-11T11:01:54.489Z"
   },
   {
    "duration": 29,
    "start_time": "2021-10-11T11:02:03.636Z"
   },
   {
    "duration": 3,
    "start_time": "2021-10-11T11:02:49.884Z"
   },
   {
    "duration": 558,
    "start_time": "2021-10-11T11:02:49.890Z"
   },
   {
    "duration": 11,
    "start_time": "2021-10-11T11:02:50.451Z"
   },
   {
    "duration": 30,
    "start_time": "2021-10-11T11:02:50.465Z"
   },
   {
    "duration": 12,
    "start_time": "2021-10-11T11:02:50.497Z"
   },
   {
    "duration": 50,
    "start_time": "2021-10-11T11:02:50.512Z"
   },
   {
    "duration": 11,
    "start_time": "2021-10-11T11:02:50.565Z"
   },
   {
    "duration": 26,
    "start_time": "2021-10-11T11:02:50.579Z"
   },
   {
    "duration": 13,
    "start_time": "2021-10-11T11:02:50.608Z"
   },
   {
    "duration": 39,
    "start_time": "2021-10-11T11:02:50.624Z"
   },
   {
    "duration": 17,
    "start_time": "2021-10-11T11:02:50.666Z"
   },
   {
    "duration": 11,
    "start_time": "2021-10-11T11:02:50.686Z"
   },
   {
    "duration": 12,
    "start_time": "2021-10-11T11:02:50.700Z"
   },
   {
    "duration": 106,
    "start_time": "2021-10-11T11:02:55.064Z"
   },
   {
    "duration": 3,
    "start_time": "2021-10-11T11:04:55.060Z"
   },
   {
    "duration": 551,
    "start_time": "2021-10-11T11:04:55.066Z"
   },
   {
    "duration": 11,
    "start_time": "2021-10-11T11:04:55.620Z"
   },
   {
    "duration": 30,
    "start_time": "2021-10-11T11:04:55.633Z"
   },
   {
    "duration": 12,
    "start_time": "2021-10-11T11:04:55.665Z"
   },
   {
    "duration": 24,
    "start_time": "2021-10-11T11:04:55.679Z"
   },
   {
    "duration": 10,
    "start_time": "2021-10-11T11:04:55.705Z"
   },
   {
    "duration": 50,
    "start_time": "2021-10-11T11:04:55.718Z"
   },
   {
    "duration": 13,
    "start_time": "2021-10-11T11:04:55.770Z"
   },
   {
    "duration": 10,
    "start_time": "2021-10-11T11:04:55.785Z"
   },
   {
    "duration": 18,
    "start_time": "2021-10-11T11:04:55.798Z"
   },
   {
    "duration": 43,
    "start_time": "2021-10-11T11:04:55.819Z"
   },
   {
    "duration": 9,
    "start_time": "2021-10-11T11:04:55.864Z"
   },
   {
    "duration": 2058,
    "start_time": "2021-10-11T11:05:00.406Z"
   },
   {
    "duration": 62,
    "start_time": "2021-10-11T11:05:13.115Z"
   },
   {
    "duration": 32,
    "start_time": "2021-10-11T11:05:26.361Z"
   },
   {
    "duration": 3,
    "start_time": "2021-10-11T11:05:38.407Z"
   },
   {
    "duration": 511,
    "start_time": "2021-10-11T11:05:38.413Z"
   },
   {
    "duration": 11,
    "start_time": "2021-10-11T11:05:38.927Z"
   },
   {
    "duration": 34,
    "start_time": "2021-10-11T11:05:38.940Z"
   },
   {
    "duration": 11,
    "start_time": "2021-10-11T11:05:38.976Z"
   },
   {
    "duration": 25,
    "start_time": "2021-10-11T11:05:38.989Z"
   },
   {
    "duration": 10,
    "start_time": "2021-10-11T11:05:39.016Z"
   },
   {
    "duration": 21,
    "start_time": "2021-10-11T11:05:39.057Z"
   },
   {
    "duration": 11,
    "start_time": "2021-10-11T11:05:39.083Z"
   },
   {
    "duration": 11,
    "start_time": "2021-10-11T11:05:39.098Z"
   },
   {
    "duration": 62,
    "start_time": "2021-10-11T11:05:39.112Z"
   },
   {
    "duration": 13,
    "start_time": "2021-10-11T11:05:39.177Z"
   },
   {
    "duration": 9,
    "start_time": "2021-10-11T11:05:39.192Z"
   },
   {
    "duration": 130,
    "start_time": "2021-10-11T11:05:41.934Z"
   },
   {
    "duration": 27,
    "start_time": "2021-10-11T11:05:47.900Z"
   },
   {
    "duration": 23,
    "start_time": "2021-10-11T11:06:00.130Z"
   },
   {
    "duration": 24,
    "start_time": "2021-10-11T11:06:05.863Z"
   },
   {
    "duration": 415,
    "start_time": "2021-10-11T11:06:34.263Z"
   },
   {
    "duration": 33,
    "start_time": "2021-10-11T11:07:01.340Z"
   },
   {
    "duration": 31,
    "start_time": "2021-10-11T11:07:55.930Z"
   },
   {
    "duration": 55,
    "start_time": "2021-10-11T11:08:00.442Z"
   },
   {
    "duration": 28,
    "start_time": "2021-10-11T11:08:04.389Z"
   },
   {
    "duration": 24,
    "start_time": "2021-10-11T11:08:14.439Z"
   },
   {
    "duration": 32,
    "start_time": "2021-10-11T11:09:20.762Z"
   },
   {
    "duration": 26,
    "start_time": "2021-10-11T11:09:33.983Z"
   },
   {
    "duration": 31,
    "start_time": "2021-10-11T11:09:51.376Z"
   },
   {
    "duration": 23,
    "start_time": "2021-10-11T11:10:52.133Z"
   },
   {
    "duration": 438,
    "start_time": "2021-10-11T11:18:45.108Z"
   },
   {
    "duration": 3,
    "start_time": "2021-10-11T11:18:56.499Z"
   },
   {
    "duration": 518,
    "start_time": "2021-10-11T11:18:56.505Z"
   },
   {
    "duration": 11,
    "start_time": "2021-10-11T11:18:57.027Z"
   },
   {
    "duration": 33,
    "start_time": "2021-10-11T11:18:57.040Z"
   },
   {
    "duration": 11,
    "start_time": "2021-10-11T11:18:57.075Z"
   },
   {
    "duration": 26,
    "start_time": "2021-10-11T11:18:57.088Z"
   },
   {
    "duration": 11,
    "start_time": "2021-10-11T11:18:57.116Z"
   },
   {
    "duration": 46,
    "start_time": "2021-10-11T11:18:57.129Z"
   },
   {
    "duration": 13,
    "start_time": "2021-10-11T11:18:57.179Z"
   },
   {
    "duration": 9,
    "start_time": "2021-10-11T11:18:57.195Z"
   },
   {
    "duration": 17,
    "start_time": "2021-10-11T11:18:57.207Z"
   },
   {
    "duration": 9,
    "start_time": "2021-10-11T11:18:57.257Z"
   },
   {
    "duration": 11,
    "start_time": "2021-10-11T11:18:57.269Z"
   },
   {
    "duration": 114,
    "start_time": "2021-10-11T11:18:57.283Z"
   },
   {
    "duration": 340,
    "start_time": "2021-10-11T11:18:57.400Z"
   },
   {
    "duration": 422,
    "start_time": "2021-10-11T11:20:01.893Z"
   },
   {
    "duration": 314,
    "start_time": "2021-10-11T11:22:17.377Z"
   },
   {
    "duration": 326,
    "start_time": "2021-10-11T11:22:50.994Z"
   },
   {
    "duration": 3,
    "start_time": "2021-10-11T11:23:06.406Z"
   },
   {
    "duration": 615,
    "start_time": "2021-10-11T11:23:06.411Z"
   },
   {
    "duration": 10,
    "start_time": "2021-10-11T11:23:07.029Z"
   },
   {
    "duration": 39,
    "start_time": "2021-10-11T11:23:07.041Z"
   },
   {
    "duration": 14,
    "start_time": "2021-10-11T11:23:07.083Z"
   },
   {
    "duration": 22,
    "start_time": "2021-10-11T11:23:07.099Z"
   },
   {
    "duration": 40,
    "start_time": "2021-10-11T11:23:07.123Z"
   },
   {
    "duration": 22,
    "start_time": "2021-10-11T11:23:07.167Z"
   },
   {
    "duration": 13,
    "start_time": "2021-10-11T11:23:07.193Z"
   },
   {
    "duration": 55,
    "start_time": "2021-10-11T11:23:07.209Z"
   },
   {
    "duration": 16,
    "start_time": "2021-10-11T11:23:07.267Z"
   },
   {
    "duration": 10,
    "start_time": "2021-10-11T11:23:07.287Z"
   },
   {
    "duration": 5,
    "start_time": "2021-10-11T11:23:07.300Z"
   },
   {
    "duration": 58,
    "start_time": "2021-10-11T11:23:07.307Z"
   },
   {
    "duration": 133,
    "start_time": "2021-10-11T11:23:07.368Z"
   },
   {
    "duration": 445,
    "start_time": "2021-10-11T11:23:07.503Z"
   },
   {
    "duration": 3,
    "start_time": "2021-10-11T11:23:54.644Z"
   },
   {
    "duration": 577,
    "start_time": "2021-10-11T11:23:54.650Z"
   },
   {
    "duration": 11,
    "start_time": "2021-10-11T11:23:55.230Z"
   },
   {
    "duration": 57,
    "start_time": "2021-10-11T11:23:55.243Z"
   },
   {
    "duration": 12,
    "start_time": "2021-10-11T11:23:55.302Z"
   },
   {
    "duration": 41,
    "start_time": "2021-10-11T11:23:55.317Z"
   },
   {
    "duration": 14,
    "start_time": "2021-10-11T11:23:55.360Z"
   },
   {
    "duration": 34,
    "start_time": "2021-10-11T11:23:55.378Z"
   },
   {
    "duration": 19,
    "start_time": "2021-10-11T11:23:55.416Z"
   },
   {
    "duration": 31,
    "start_time": "2021-10-11T11:23:55.438Z"
   },
   {
    "duration": 27,
    "start_time": "2021-10-11T11:23:55.473Z"
   },
   {
    "duration": 22,
    "start_time": "2021-10-11T11:23:55.503Z"
   },
   {
    "duration": 25,
    "start_time": "2021-10-11T11:23:55.527Z"
   },
   {
    "duration": 17,
    "start_time": "2021-10-11T11:23:55.554Z"
   },
   {
    "duration": 119,
    "start_time": "2021-10-11T11:23:55.573Z"
   },
   {
    "duration": 12,
    "start_time": "2021-10-11T11:43:40.590Z"
   },
   {
    "duration": 25,
    "start_time": "2021-10-11T11:45:05.435Z"
   },
   {
    "duration": 339,
    "start_time": "2021-10-11T11:47:28.457Z"
   },
   {
    "duration": 18,
    "start_time": "2021-10-11T11:47:50.698Z"
   },
   {
    "duration": 355,
    "start_time": "2021-10-11T11:49:17.294Z"
   },
   {
    "duration": 363,
    "start_time": "2021-10-11T11:49:40.007Z"
   },
   {
    "duration": 37,
    "start_time": "2021-10-11T11:50:10.151Z"
   },
   {
    "duration": 34,
    "start_time": "2021-10-11T11:51:03.015Z"
   },
   {
    "duration": 35,
    "start_time": "2021-10-11T11:51:23.038Z"
   },
   {
    "duration": 11,
    "start_time": "2021-10-11T11:58:51.982Z"
   },
   {
    "duration": 11,
    "start_time": "2021-10-11T12:00:57.534Z"
   },
   {
    "duration": 334,
    "start_time": "2021-10-11T12:08:42.722Z"
   },
   {
    "duration": 142,
    "start_time": "2021-10-11T12:09:02.164Z"
   },
   {
    "duration": 350,
    "start_time": "2021-10-11T12:09:25.068Z"
   },
   {
    "duration": 16,
    "start_time": "2021-10-11T12:09:35.406Z"
   },
   {
    "duration": 327,
    "start_time": "2021-10-11T12:09:58.149Z"
   },
   {
    "duration": 347,
    "start_time": "2021-10-11T12:11:16.781Z"
   },
   {
    "duration": 351,
    "start_time": "2021-10-11T12:13:42.355Z"
   },
   {
    "duration": 31,
    "start_time": "2021-10-11T12:14:03.251Z"
   },
   {
    "duration": 31,
    "start_time": "2021-10-11T12:14:26.409Z"
   },
   {
    "duration": 459,
    "start_time": "2021-10-11T12:15:08.344Z"
   },
   {
    "duration": 15,
    "start_time": "2021-10-11T12:15:28.538Z"
   },
   {
    "duration": 39,
    "start_time": "2021-10-11T12:19:36.227Z"
   },
   {
    "duration": 3,
    "start_time": "2021-10-11T12:20:19.815Z"
   },
   {
    "duration": 557,
    "start_time": "2021-10-11T12:20:19.822Z"
   },
   {
    "duration": 13,
    "start_time": "2021-10-11T12:20:20.382Z"
   },
   {
    "duration": 38,
    "start_time": "2021-10-11T12:20:20.398Z"
   },
   {
    "duration": 24,
    "start_time": "2021-10-11T12:20:20.438Z"
   },
   {
    "duration": 45,
    "start_time": "2021-10-11T12:20:20.465Z"
   },
   {
    "duration": 14,
    "start_time": "2021-10-11T12:20:20.513Z"
   },
   {
    "duration": 43,
    "start_time": "2021-10-11T12:20:20.532Z"
   },
   {
    "duration": 24,
    "start_time": "2021-10-11T12:20:20.578Z"
   },
   {
    "duration": 22,
    "start_time": "2021-10-11T12:20:20.605Z"
   },
   {
    "duration": 25,
    "start_time": "2021-10-11T12:20:20.630Z"
   },
   {
    "duration": 14,
    "start_time": "2021-10-11T12:20:20.657Z"
   },
   {
    "duration": 15,
    "start_time": "2021-10-11T12:20:20.674Z"
   },
   {
    "duration": 16,
    "start_time": "2021-10-11T12:20:20.691Z"
   },
   {
    "duration": 120,
    "start_time": "2021-10-11T12:20:20.709Z"
   },
   {
    "duration": 12,
    "start_time": "2021-10-11T12:20:20.830Z"
   },
   {
    "duration": 49,
    "start_time": "2021-10-11T12:20:20.844Z"
   },
   {
    "duration": 27,
    "start_time": "2021-10-11T12:20:20.895Z"
   },
   {
    "duration": 4,
    "start_time": "2021-10-11T12:20:28.284Z"
   },
   {
    "duration": 33,
    "start_time": "2021-10-11T12:21:15.722Z"
   },
   {
    "duration": 639,
    "start_time": "2021-10-11T12:27:37.128Z"
   },
   {
    "duration": 4,
    "start_time": "2021-10-11T12:28:07.300Z"
   },
   {
    "duration": 565,
    "start_time": "2021-10-11T12:28:07.307Z"
   },
   {
    "duration": 12,
    "start_time": "2021-10-11T12:28:07.876Z"
   },
   {
    "duration": 42,
    "start_time": "2021-10-11T12:28:07.891Z"
   },
   {
    "duration": 21,
    "start_time": "2021-10-11T12:28:07.936Z"
   },
   {
    "duration": 29,
    "start_time": "2021-10-11T12:28:07.960Z"
   },
   {
    "duration": 10,
    "start_time": "2021-10-11T12:28:07.993Z"
   },
   {
    "duration": 50,
    "start_time": "2021-10-11T12:28:08.008Z"
   },
   {
    "duration": 14,
    "start_time": "2021-10-11T12:28:08.061Z"
   },
   {
    "duration": 12,
    "start_time": "2021-10-11T12:28:08.078Z"
   },
   {
    "duration": 17,
    "start_time": "2021-10-11T12:28:08.092Z"
   },
   {
    "duration": 10,
    "start_time": "2021-10-11T12:28:08.159Z"
   },
   {
    "duration": 10,
    "start_time": "2021-10-11T12:28:08.172Z"
   },
   {
    "duration": 10,
    "start_time": "2021-10-11T12:28:08.185Z"
   },
   {
    "duration": 127,
    "start_time": "2021-10-11T12:28:08.197Z"
   },
   {
    "duration": 32,
    "start_time": "2021-10-11T12:28:08.327Z"
   },
   {
    "duration": 37,
    "start_time": "2021-10-11T12:28:08.362Z"
   },
   {
    "duration": 27,
    "start_time": "2021-10-11T12:28:08.402Z"
   },
   {
    "duration": 735,
    "start_time": "2021-10-11T12:28:41.406Z"
   },
   {
    "duration": 1078,
    "start_time": "2021-10-11T12:29:20.589Z"
   },
   {
    "duration": 1070,
    "start_time": "2021-10-11T12:29:44.775Z"
   },
   {
    "duration": 921,
    "start_time": "2021-10-11T12:33:06.136Z"
   },
   {
    "duration": 28,
    "start_time": "2021-10-11T12:33:18.141Z"
   },
   {
    "duration": 25,
    "start_time": "2021-10-11T12:35:35.071Z"
   },
   {
    "duration": 26,
    "start_time": "2021-10-11T12:35:59.501Z"
   },
   {
    "duration": 30,
    "start_time": "2021-10-11T12:37:04.865Z"
   },
   {
    "duration": 45,
    "start_time": "2021-10-11T12:38:55.006Z"
   },
   {
    "duration": 29,
    "start_time": "2021-10-11T13:00:40.626Z"
   },
   {
    "duration": 29,
    "start_time": "2021-10-11T13:01:43.213Z"
   },
   {
    "duration": 15,
    "start_time": "2021-10-11T13:04:52.891Z"
   },
   {
    "duration": 49,
    "start_time": "2021-10-11T13:06:33.203Z"
   },
   {
    "duration": 12,
    "start_time": "2021-10-11T13:07:28.595Z"
   },
   {
    "duration": 70,
    "start_time": "2021-10-11T13:08:46.025Z"
   },
   {
    "duration": 66,
    "start_time": "2021-10-11T13:09:24.009Z"
   },
   {
    "duration": 12,
    "start_time": "2021-10-11T13:19:15.600Z"
   },
   {
    "duration": 16,
    "start_time": "2021-10-11T13:19:32.644Z"
   },
   {
    "duration": 18,
    "start_time": "2021-10-11T13:25:23.645Z"
   },
   {
    "duration": 25,
    "start_time": "2021-10-11T13:26:09.457Z"
   },
   {
    "duration": 40,
    "start_time": "2021-10-11T13:28:17.208Z"
   },
   {
    "duration": 376,
    "start_time": "2021-10-11T13:29:18.613Z"
   },
   {
    "duration": 691,
    "start_time": "2021-10-11T13:29:36.146Z"
   },
   {
    "duration": 9883,
    "start_time": "2021-10-11T13:30:27.815Z"
   },
   {
    "duration": 8130,
    "start_time": "2021-10-11T13:30:47.599Z"
   },
   {
    "duration": 52,
    "start_time": "2021-10-11T13:32:19.178Z"
   },
   {
    "duration": 47,
    "start_time": "2021-10-11T13:43:31.739Z"
   },
   {
    "duration": 52,
    "start_time": "2021-10-11T13:44:17.852Z"
   },
   {
    "duration": 66,
    "start_time": "2021-10-11T13:44:27.547Z"
   },
   {
    "duration": 1382,
    "start_time": "2021-10-11T13:45:54.996Z"
   },
   {
    "duration": 113,
    "start_time": "2021-10-11T13:46:09.890Z"
   },
   {
    "duration": 46,
    "start_time": "2021-10-11T13:46:17.194Z"
   },
   {
    "duration": 76,
    "start_time": "2021-10-11T13:46:48.612Z"
   },
   {
    "duration": 46,
    "start_time": "2021-10-11T13:47:08.835Z"
   },
   {
    "duration": 48,
    "start_time": "2021-10-11T13:47:20.087Z"
   },
   {
    "duration": 351,
    "start_time": "2021-10-11T13:48:55.314Z"
   },
   {
    "duration": 8263,
    "start_time": "2021-10-11T13:51:06.880Z"
   },
   {
    "duration": 4,
    "start_time": "2021-10-11T13:51:18.675Z"
   },
   {
    "duration": 624,
    "start_time": "2021-10-11T13:51:18.932Z"
   },
   {
    "duration": 11,
    "start_time": "2021-10-11T13:51:19.559Z"
   },
   {
    "duration": 27,
    "start_time": "2021-10-11T13:51:19.573Z"
   },
   {
    "duration": 12,
    "start_time": "2021-10-11T13:51:19.603Z"
   },
   {
    "duration": 56,
    "start_time": "2021-10-11T13:51:19.618Z"
   },
   {
    "duration": 10,
    "start_time": "2021-10-11T13:51:19.675Z"
   },
   {
    "duration": 25,
    "start_time": "2021-10-11T13:51:19.688Z"
   },
   {
    "duration": 46,
    "start_time": "2021-10-11T13:51:19.716Z"
   },
   {
    "duration": 11,
    "start_time": "2021-10-11T13:51:19.765Z"
   },
   {
    "duration": 15,
    "start_time": "2021-10-11T13:51:19.779Z"
   },
   {
    "duration": 14,
    "start_time": "2021-10-11T13:51:19.796Z"
   },
   {
    "duration": 46,
    "start_time": "2021-10-11T13:51:19.813Z"
   },
   {
    "duration": 10,
    "start_time": "2021-10-11T13:51:19.862Z"
   },
   {
    "duration": 114,
    "start_time": "2021-10-11T13:51:19.875Z"
   },
   {
    "duration": 90,
    "start_time": "2021-10-11T13:51:19.991Z"
   },
   {
    "duration": 45,
    "start_time": "2021-10-11T13:51:20.083Z"
   },
   {
    "duration": 67,
    "start_time": "2021-10-11T13:51:20.130Z"
   },
   {
    "duration": 15,
    "start_time": "2021-10-11T13:51:20.200Z"
   },
   {
    "duration": 89,
    "start_time": "2021-10-11T13:51:20.218Z"
   },
   {
    "duration": 50,
    "start_time": "2021-10-11T13:51:25.906Z"
   },
   {
    "duration": 367,
    "start_time": "2021-10-11T13:52:06.946Z"
   },
   {
    "duration": 45,
    "start_time": "2021-10-11T13:52:47.264Z"
   },
   {
    "duration": 396,
    "start_time": "2021-10-11T13:52:51.025Z"
   },
   {
    "duration": 49,
    "start_time": "2021-10-11T13:53:01.023Z"
   },
   {
    "duration": 56,
    "start_time": "2021-10-11T13:53:53.083Z"
   },
   {
    "duration": 8303,
    "start_time": "2021-10-11T13:54:12.491Z"
   },
   {
    "duration": 4,
    "start_time": "2021-10-11T13:54:35.922Z"
   },
   {
    "duration": 575,
    "start_time": "2021-10-11T13:54:35.928Z"
   },
   {
    "duration": 11,
    "start_time": "2021-10-11T13:54:36.506Z"
   },
   {
    "duration": 31,
    "start_time": "2021-10-11T13:54:36.519Z"
   },
   {
    "duration": 11,
    "start_time": "2021-10-11T13:54:36.553Z"
   },
   {
    "duration": 23,
    "start_time": "2021-10-11T13:54:36.566Z"
   },
   {
    "duration": 9,
    "start_time": "2021-10-11T13:54:36.591Z"
   },
   {
    "duration": 19,
    "start_time": "2021-10-11T13:54:36.604Z"
   },
   {
    "duration": 40,
    "start_time": "2021-10-11T13:54:36.626Z"
   },
   {
    "duration": 14,
    "start_time": "2021-10-11T13:54:36.669Z"
   },
   {
    "duration": 16,
    "start_time": "2021-10-11T13:54:36.685Z"
   },
   {
    "duration": 11,
    "start_time": "2021-10-11T13:54:36.703Z"
   },
   {
    "duration": 42,
    "start_time": "2021-10-11T13:54:36.717Z"
   },
   {
    "duration": 12,
    "start_time": "2021-10-11T13:54:36.762Z"
   },
   {
    "duration": 117,
    "start_time": "2021-10-11T13:54:36.777Z"
   },
   {
    "duration": 89,
    "start_time": "2021-10-11T13:54:36.896Z"
   },
   {
    "duration": 44,
    "start_time": "2021-10-11T13:54:36.987Z"
   },
   {
    "duration": 62,
    "start_time": "2021-10-11T13:54:37.033Z"
   },
   {
    "duration": 14,
    "start_time": "2021-10-11T13:54:37.098Z"
   },
   {
    "duration": 59,
    "start_time": "2021-10-11T13:54:43.281Z"
   },
   {
    "duration": 49,
    "start_time": "2021-10-11T13:55:17.201Z"
   },
   {
    "duration": 48,
    "start_time": "2021-10-11T13:55:29.639Z"
   },
   {
    "duration": 16,
    "start_time": "2021-10-11T13:55:52.734Z"
   },
   {
    "duration": 339,
    "start_time": "2021-10-11T13:56:37.592Z"
   },
   {
    "duration": 332,
    "start_time": "2021-10-11T13:57:47.102Z"
   },
   {
    "duration": 335,
    "start_time": "2021-10-11T13:58:51.571Z"
   },
   {
    "duration": 475,
    "start_time": "2021-10-11T13:58:59.677Z"
   },
   {
    "duration": 332,
    "start_time": "2021-10-11T13:59:22.558Z"
   },
   {
    "duration": 46,
    "start_time": "2021-10-11T13:59:30.176Z"
   },
   {
    "duration": 26,
    "start_time": "2021-10-11T13:59:32.951Z"
   },
   {
    "duration": 23,
    "start_time": "2021-10-11T13:59:45.272Z"
   },
   {
    "duration": 22,
    "start_time": "2021-10-11T14:00:44.506Z"
   },
   {
    "duration": 13,
    "start_time": "2021-10-11T14:02:32.455Z"
   },
   {
    "duration": 12,
    "start_time": "2021-10-11T14:03:08.808Z"
   },
   {
    "duration": 389,
    "start_time": "2021-10-11T14:05:04.598Z"
   },
   {
    "duration": 4,
    "start_time": "2021-10-11T14:06:05.131Z"
   },
   {
    "duration": 594,
    "start_time": "2021-10-11T14:06:05.138Z"
   },
   {
    "duration": 12,
    "start_time": "2021-10-11T14:06:05.736Z"
   },
   {
    "duration": 38,
    "start_time": "2021-10-11T14:06:05.752Z"
   },
   {
    "duration": 14,
    "start_time": "2021-10-11T14:06:05.793Z"
   },
   {
    "duration": 39,
    "start_time": "2021-10-11T14:06:05.809Z"
   },
   {
    "duration": 12,
    "start_time": "2021-10-11T14:06:05.858Z"
   },
   {
    "duration": 23,
    "start_time": "2021-10-11T14:06:05.874Z"
   },
   {
    "duration": 22,
    "start_time": "2021-10-11T14:06:05.900Z"
   },
   {
    "duration": 35,
    "start_time": "2021-10-11T14:06:05.925Z"
   },
   {
    "duration": 37,
    "start_time": "2021-10-11T14:06:05.963Z"
   },
   {
    "duration": 23,
    "start_time": "2021-10-11T14:06:06.002Z"
   },
   {
    "duration": 18,
    "start_time": "2021-10-11T14:06:06.028Z"
   },
   {
    "duration": 37,
    "start_time": "2021-10-11T14:06:06.049Z"
   },
   {
    "duration": 119,
    "start_time": "2021-10-11T14:06:06.089Z"
   },
   {
    "duration": 89,
    "start_time": "2021-10-11T14:06:06.211Z"
   },
   {
    "duration": 61,
    "start_time": "2021-10-11T14:06:06.302Z"
   },
   {
    "duration": 50,
    "start_time": "2021-10-11T14:06:06.365Z"
   },
   {
    "duration": 15,
    "start_time": "2021-10-11T14:06:06.417Z"
   },
   {
    "duration": 54,
    "start_time": "2021-10-11T14:06:06.461Z"
   },
   {
    "duration": 12,
    "start_time": "2021-10-11T14:06:10.776Z"
   },
   {
    "duration": 31,
    "start_time": "2021-10-11T14:06:14.010Z"
   },
   {
    "duration": 3,
    "start_time": "2021-10-12T09:09:49.085Z"
   },
   {
    "duration": 938,
    "start_time": "2021-10-12T09:09:49.090Z"
   },
   {
    "duration": 15,
    "start_time": "2021-10-12T09:09:50.030Z"
   },
   {
    "duration": 24,
    "start_time": "2021-10-12T09:09:50.047Z"
   },
   {
    "duration": 12,
    "start_time": "2021-10-12T09:09:50.073Z"
   },
   {
    "duration": 23,
    "start_time": "2021-10-12T09:09:50.087Z"
   },
   {
    "duration": 6,
    "start_time": "2021-10-12T09:09:50.112Z"
   },
   {
    "duration": 14,
    "start_time": "2021-10-12T09:09:50.121Z"
   },
   {
    "duration": 8,
    "start_time": "2021-10-12T09:09:50.138Z"
   },
   {
    "duration": 7,
    "start_time": "2021-10-12T09:09:50.149Z"
   },
   {
    "duration": 11,
    "start_time": "2021-10-12T09:09:50.157Z"
   },
   {
    "duration": 33,
    "start_time": "2021-10-12T09:09:50.169Z"
   },
   {
    "duration": 3,
    "start_time": "2021-10-12T09:09:50.204Z"
   },
   {
    "duration": 12,
    "start_time": "2021-10-12T09:09:50.209Z"
   },
   {
    "duration": 91,
    "start_time": "2021-10-12T09:09:50.223Z"
   },
   {
    "duration": 56,
    "start_time": "2021-10-12T09:09:50.316Z"
   },
   {
    "duration": 46,
    "start_time": "2021-10-12T09:09:50.373Z"
   },
   {
    "duration": 33,
    "start_time": "2021-10-12T09:09:50.420Z"
   },
   {
    "duration": 9,
    "start_time": "2021-10-12T09:09:50.455Z"
   },
   {
    "duration": 51,
    "start_time": "2021-10-12T09:09:50.466Z"
   },
   {
    "duration": 7,
    "start_time": "2021-10-12T09:09:50.518Z"
   },
   {
    "duration": 20,
    "start_time": "2021-10-12T09:09:50.527Z"
   },
   {
    "duration": 247,
    "start_time": "2021-10-12T09:51:18.135Z"
   },
   {
    "duration": 21,
    "start_time": "2021-10-12T09:52:48.785Z"
   },
   {
    "duration": 16,
    "start_time": "2021-10-12T09:54:16.083Z"
   },
   {
    "duration": 2,
    "start_time": "2021-10-12T11:03:34.014Z"
   },
   {
    "duration": 436,
    "start_time": "2021-10-12T11:03:34.018Z"
   },
   {
    "duration": 8,
    "start_time": "2021-10-12T11:03:34.456Z"
   },
   {
    "duration": 22,
    "start_time": "2021-10-12T11:03:34.466Z"
   },
   {
    "duration": 7,
    "start_time": "2021-10-12T11:03:34.490Z"
   },
   {
    "duration": 22,
    "start_time": "2021-10-12T11:03:34.499Z"
   },
   {
    "duration": 6,
    "start_time": "2021-10-12T11:03:34.523Z"
   },
   {
    "duration": 15,
    "start_time": "2021-10-12T11:03:34.531Z"
   },
   {
    "duration": 6,
    "start_time": "2021-10-12T11:03:34.548Z"
   },
   {
    "duration": 6,
    "start_time": "2021-10-12T11:03:34.556Z"
   },
   {
    "duration": 12,
    "start_time": "2021-10-12T11:03:34.563Z"
   },
   {
    "duration": 10,
    "start_time": "2021-10-12T11:03:34.600Z"
   },
   {
    "duration": 6,
    "start_time": "2021-10-12T11:03:34.612Z"
   },
   {
    "duration": 9,
    "start_time": "2021-10-12T11:03:34.619Z"
   },
   {
    "duration": 85,
    "start_time": "2021-10-12T11:03:34.629Z"
   },
   {
    "duration": 53,
    "start_time": "2021-10-12T11:03:34.716Z"
   },
   {
    "duration": 58,
    "start_time": "2021-10-12T11:03:34.771Z"
   },
   {
    "duration": 33,
    "start_time": "2021-10-12T11:03:34.830Z"
   },
   {
    "duration": 10,
    "start_time": "2021-10-12T11:03:34.865Z"
   },
   {
    "duration": 51,
    "start_time": "2021-10-12T11:03:34.876Z"
   },
   {
    "duration": 7,
    "start_time": "2021-10-12T11:03:34.929Z"
   },
   {
    "duration": 19,
    "start_time": "2021-10-12T11:03:34.938Z"
   },
   {
    "duration": 15,
    "start_time": "2021-10-12T11:03:34.958Z"
   },
   {
    "duration": 147,
    "start_time": "2021-10-12T11:03:48.688Z"
   },
   {
    "duration": 32,
    "start_time": "2021-10-12T11:03:59.836Z"
   },
   {
    "duration": 2,
    "start_time": "2021-10-12T11:04:57.248Z"
   },
   {
    "duration": 410,
    "start_time": "2021-10-12T11:04:57.252Z"
   },
   {
    "duration": 7,
    "start_time": "2021-10-12T11:04:57.664Z"
   },
   {
    "duration": 20,
    "start_time": "2021-10-12T11:04:57.673Z"
   },
   {
    "duration": 10,
    "start_time": "2021-10-12T11:04:57.695Z"
   },
   {
    "duration": 18,
    "start_time": "2021-10-12T11:04:57.707Z"
   },
   {
    "duration": 6,
    "start_time": "2021-10-12T11:04:57.727Z"
   },
   {
    "duration": 14,
    "start_time": "2021-10-12T11:04:57.735Z"
   },
   {
    "duration": 7,
    "start_time": "2021-10-12T11:04:57.751Z"
   },
   {
    "duration": 6,
    "start_time": "2021-10-12T11:04:57.759Z"
   },
   {
    "duration": 45,
    "start_time": "2021-10-12T11:04:57.767Z"
   },
   {
    "duration": 8,
    "start_time": "2021-10-12T11:04:57.815Z"
   },
   {
    "duration": 6,
    "start_time": "2021-10-12T11:04:57.825Z"
   },
   {
    "duration": 8,
    "start_time": "2021-10-12T11:04:57.833Z"
   },
   {
    "duration": 96,
    "start_time": "2021-10-12T11:04:57.842Z"
   },
   {
    "duration": 62,
    "start_time": "2021-10-12T11:04:57.939Z"
   },
   {
    "duration": 36,
    "start_time": "2021-10-12T11:04:58.004Z"
   },
   {
    "duration": 30,
    "start_time": "2021-10-12T11:04:58.041Z"
   },
   {
    "duration": 31,
    "start_time": "2021-10-12T11:04:58.072Z"
   },
   {
    "duration": 39,
    "start_time": "2021-10-12T11:04:58.105Z"
   },
   {
    "duration": 9,
    "start_time": "2021-10-12T11:04:58.145Z"
   },
   {
    "duration": 45,
    "start_time": "2021-10-12T11:04:58.155Z"
   },
   {
    "duration": 21,
    "start_time": "2021-10-12T11:04:58.204Z"
   },
   {
    "duration": 31,
    "start_time": "2021-10-12T11:05:13.261Z"
   },
   {
    "duration": 2,
    "start_time": "2021-10-12T11:05:58.844Z"
   },
   {
    "duration": 379,
    "start_time": "2021-10-12T11:05:58.848Z"
   },
   {
    "duration": 7,
    "start_time": "2021-10-12T11:05:59.229Z"
   },
   {
    "duration": 24,
    "start_time": "2021-10-12T11:05:59.238Z"
   },
   {
    "duration": 9,
    "start_time": "2021-10-12T11:05:59.263Z"
   },
   {
    "duration": 18,
    "start_time": "2021-10-12T11:05:59.273Z"
   },
   {
    "duration": 7,
    "start_time": "2021-10-12T11:05:59.293Z"
   },
   {
    "duration": 15,
    "start_time": "2021-10-12T11:05:59.302Z"
   },
   {
    "duration": 8,
    "start_time": "2021-10-12T11:05:59.319Z"
   },
   {
    "duration": 7,
    "start_time": "2021-10-12T11:05:59.328Z"
   },
   {
    "duration": 10,
    "start_time": "2021-10-12T11:05:59.337Z"
   },
   {
    "duration": 6,
    "start_time": "2021-10-12T11:05:59.349Z"
   },
   {
    "duration": 5,
    "start_time": "2021-10-12T11:05:59.357Z"
   },
   {
    "duration": 40,
    "start_time": "2021-10-12T11:05:59.363Z"
   },
   {
    "duration": 64,
    "start_time": "2021-10-12T11:05:59.404Z"
   },
   {
    "duration": 63,
    "start_time": "2021-10-12T11:05:59.470Z"
   },
   {
    "duration": 31,
    "start_time": "2021-10-12T11:05:59.535Z"
   },
   {
    "duration": 48,
    "start_time": "2021-10-12T11:05:59.568Z"
   },
   {
    "duration": 11,
    "start_time": "2021-10-12T11:05:59.617Z"
   },
   {
    "duration": 31,
    "start_time": "2021-10-12T11:05:59.630Z"
   },
   {
    "duration": 7,
    "start_time": "2021-10-12T11:05:59.663Z"
   },
   {
    "duration": 42,
    "start_time": "2021-10-12T11:05:59.672Z"
   },
   {
    "duration": 15,
    "start_time": "2021-10-12T11:05:59.717Z"
   },
   {
    "duration": 30,
    "start_time": "2021-10-12T11:06:02.880Z"
   },
   {
    "duration": 3,
    "start_time": "2021-10-12T11:06:40.717Z"
   },
   {
    "duration": 376,
    "start_time": "2021-10-12T11:06:40.722Z"
   },
   {
    "duration": 8,
    "start_time": "2021-10-12T11:06:41.100Z"
   },
   {
    "duration": 23,
    "start_time": "2021-10-12T11:06:41.111Z"
   },
   {
    "duration": 8,
    "start_time": "2021-10-12T11:06:41.136Z"
   },
   {
    "duration": 23,
    "start_time": "2021-10-12T11:06:41.145Z"
   },
   {
    "duration": 6,
    "start_time": "2021-10-12T11:06:41.170Z"
   },
   {
    "duration": 33,
    "start_time": "2021-10-12T11:06:41.178Z"
   },
   {
    "duration": 7,
    "start_time": "2021-10-12T11:06:41.213Z"
   },
   {
    "duration": 7,
    "start_time": "2021-10-12T11:06:41.222Z"
   },
   {
    "duration": 11,
    "start_time": "2021-10-12T11:06:41.230Z"
   },
   {
    "duration": 7,
    "start_time": "2021-10-12T11:06:41.242Z"
   },
   {
    "duration": 5,
    "start_time": "2021-10-12T11:06:41.250Z"
   },
   {
    "duration": 9,
    "start_time": "2021-10-12T11:06:41.256Z"
   },
   {
    "duration": 87,
    "start_time": "2021-10-12T11:06:41.266Z"
   },
   {
    "duration": 58,
    "start_time": "2021-10-12T11:06:41.355Z"
   },
   {
    "duration": 30,
    "start_time": "2021-10-12T11:06:41.415Z"
   },
   {
    "duration": 30,
    "start_time": "2021-10-12T11:06:41.446Z"
   },
   {
    "duration": 29,
    "start_time": "2021-10-12T11:06:41.478Z"
   },
   {
    "duration": 31,
    "start_time": "2021-10-12T11:06:41.508Z"
   },
   {
    "duration": 7,
    "start_time": "2021-10-12T11:06:41.540Z"
   },
   {
    "duration": 19,
    "start_time": "2021-10-12T11:06:41.549Z"
   },
   {
    "duration": 36,
    "start_time": "2021-10-12T11:06:41.571Z"
   },
   {
    "duration": 58,
    "start_time": "2021-10-12T11:06:46.727Z"
   },
   {
    "duration": 240,
    "start_time": "2021-10-12T11:07:04.678Z"
   },
   {
    "duration": 2,
    "start_time": "2021-10-12T11:08:30.487Z"
   },
   {
    "duration": 398,
    "start_time": "2021-10-12T11:08:30.491Z"
   },
   {
    "duration": 8,
    "start_time": "2021-10-12T11:08:30.891Z"
   },
   {
    "duration": 23,
    "start_time": "2021-10-12T11:08:30.901Z"
   },
   {
    "duration": 8,
    "start_time": "2021-10-12T11:08:30.925Z"
   },
   {
    "duration": 19,
    "start_time": "2021-10-12T11:08:30.935Z"
   },
   {
    "duration": 8,
    "start_time": "2021-10-12T11:08:30.955Z"
   },
   {
    "duration": 38,
    "start_time": "2021-10-12T11:08:30.966Z"
   },
   {
    "duration": 8,
    "start_time": "2021-10-12T11:08:31.006Z"
   },
   {
    "duration": 10,
    "start_time": "2021-10-12T11:08:31.016Z"
   },
   {
    "duration": 12,
    "start_time": "2021-10-12T11:08:31.027Z"
   },
   {
    "duration": 10,
    "start_time": "2021-10-12T11:08:31.041Z"
   },
   {
    "duration": 7,
    "start_time": "2021-10-12T11:08:31.052Z"
   },
   {
    "duration": 11,
    "start_time": "2021-10-12T11:08:31.060Z"
   },
   {
    "duration": 83,
    "start_time": "2021-10-12T11:08:31.072Z"
   },
   {
    "duration": 63,
    "start_time": "2021-10-12T11:08:31.156Z"
   },
   {
    "duration": 30,
    "start_time": "2021-10-12T11:08:31.220Z"
   },
   {
    "duration": 49,
    "start_time": "2021-10-12T11:08:31.251Z"
   },
   {
    "duration": 9,
    "start_time": "2021-10-12T11:08:31.302Z"
   },
   {
    "duration": 30,
    "start_time": "2021-10-12T11:08:31.312Z"
   },
   {
    "duration": 6,
    "start_time": "2021-10-12T11:08:31.344Z"
   },
   {
    "duration": 22,
    "start_time": "2021-10-12T11:08:31.351Z"
   },
   {
    "duration": 33,
    "start_time": "2021-10-12T11:08:31.376Z"
   },
   {
    "duration": 31,
    "start_time": "2021-10-12T11:08:37.187Z"
   },
   {
    "duration": 2,
    "start_time": "2021-10-12T11:10:43.330Z"
   },
   {
    "duration": 377,
    "start_time": "2021-10-12T11:10:43.335Z"
   },
   {
    "duration": 8,
    "start_time": "2021-10-12T11:10:43.713Z"
   },
   {
    "duration": 20,
    "start_time": "2021-10-12T11:10:43.722Z"
   },
   {
    "duration": 7,
    "start_time": "2021-10-12T11:10:43.744Z"
   },
   {
    "duration": 18,
    "start_time": "2021-10-12T11:10:43.753Z"
   },
   {
    "duration": 7,
    "start_time": "2021-10-12T11:10:43.773Z"
   },
   {
    "duration": 29,
    "start_time": "2021-10-12T11:10:43.782Z"
   },
   {
    "duration": 8,
    "start_time": "2021-10-12T11:10:43.813Z"
   },
   {
    "duration": 7,
    "start_time": "2021-10-12T11:10:43.823Z"
   },
   {
    "duration": 10,
    "start_time": "2021-10-12T11:10:43.832Z"
   },
   {
    "duration": 7,
    "start_time": "2021-10-12T11:10:43.843Z"
   },
   {
    "duration": 6,
    "start_time": "2021-10-12T11:10:43.851Z"
   },
   {
    "duration": 42,
    "start_time": "2021-10-12T11:10:43.858Z"
   },
   {
    "duration": 60,
    "start_time": "2021-10-12T11:10:43.901Z"
   },
   {
    "duration": 71,
    "start_time": "2021-10-12T11:10:43.963Z"
   },
   {
    "duration": 31,
    "start_time": "2021-10-12T11:10:44.036Z"
   },
   {
    "duration": 52,
    "start_time": "2021-10-12T11:10:44.069Z"
   },
   {
    "duration": 11,
    "start_time": "2021-10-12T11:10:44.122Z"
   },
   {
    "duration": 29,
    "start_time": "2021-10-12T11:10:44.135Z"
   },
   {
    "duration": 7,
    "start_time": "2021-10-12T11:10:44.165Z"
   },
   {
    "duration": 41,
    "start_time": "2021-10-12T11:10:44.173Z"
   },
   {
    "duration": 16,
    "start_time": "2021-10-12T11:10:44.216Z"
   },
   {
    "duration": 45,
    "start_time": "2021-10-12T11:10:46.858Z"
   },
   {
    "duration": 3,
    "start_time": "2021-10-12T11:16:18.290Z"
   },
   {
    "duration": 380,
    "start_time": "2021-10-12T11:16:18.294Z"
   },
   {
    "duration": 8,
    "start_time": "2021-10-12T11:16:18.676Z"
   },
   {
    "duration": 24,
    "start_time": "2021-10-12T11:16:18.686Z"
   },
   {
    "duration": 8,
    "start_time": "2021-10-12T11:16:18.711Z"
   },
   {
    "duration": 20,
    "start_time": "2021-10-12T11:16:18.720Z"
   },
   {
    "duration": 6,
    "start_time": "2021-10-12T11:16:18.742Z"
   },
   {
    "duration": 17,
    "start_time": "2021-10-12T11:16:18.750Z"
   },
   {
    "duration": 9,
    "start_time": "2021-10-12T11:16:18.769Z"
   },
   {
    "duration": 21,
    "start_time": "2021-10-12T11:16:18.779Z"
   },
   {
    "duration": 16,
    "start_time": "2021-10-12T11:16:18.801Z"
   },
   {
    "duration": 7,
    "start_time": "2021-10-12T11:16:18.819Z"
   },
   {
    "duration": 6,
    "start_time": "2021-10-12T11:16:18.827Z"
   },
   {
    "duration": 9,
    "start_time": "2021-10-12T11:16:18.834Z"
   },
   {
    "duration": 74,
    "start_time": "2021-10-12T11:16:18.844Z"
   },
   {
    "duration": 45,
    "start_time": "2021-10-12T11:16:18.919Z"
   },
   {
    "duration": 48,
    "start_time": "2021-10-12T11:16:18.965Z"
   },
   {
    "duration": 30,
    "start_time": "2021-10-12T11:16:19.014Z"
   },
   {
    "duration": 9,
    "start_time": "2021-10-12T11:16:19.046Z"
   },
   {
    "duration": 47,
    "start_time": "2021-10-12T11:16:19.057Z"
   },
   {
    "duration": 7,
    "start_time": "2021-10-12T11:16:19.106Z"
   },
   {
    "duration": 20,
    "start_time": "2021-10-12T11:16:19.114Z"
   },
   {
    "duration": 14,
    "start_time": "2021-10-12T11:16:19.137Z"
   },
   {
    "duration": 47,
    "start_time": "2021-10-12T11:16:53.047Z"
   },
   {
    "duration": 2,
    "start_time": "2021-10-12T11:17:39.137Z"
   },
   {
    "duration": 370,
    "start_time": "2021-10-12T11:17:39.141Z"
   },
   {
    "duration": 8,
    "start_time": "2021-10-12T11:17:39.513Z"
   },
   {
    "duration": 21,
    "start_time": "2021-10-12T11:17:39.522Z"
   },
   {
    "duration": 8,
    "start_time": "2021-10-12T11:17:39.544Z"
   },
   {
    "duration": 16,
    "start_time": "2021-10-12T11:17:39.553Z"
   },
   {
    "duration": 6,
    "start_time": "2021-10-12T11:17:39.572Z"
   },
   {
    "duration": 31,
    "start_time": "2021-10-12T11:17:39.580Z"
   },
   {
    "duration": 8,
    "start_time": "2021-10-12T11:17:39.612Z"
   },
   {
    "duration": 6,
    "start_time": "2021-10-12T11:17:39.621Z"
   },
   {
    "duration": 10,
    "start_time": "2021-10-12T11:17:39.629Z"
   },
   {
    "duration": 7,
    "start_time": "2021-10-12T11:17:39.641Z"
   },
   {
    "duration": 6,
    "start_time": "2021-10-12T11:17:39.649Z"
   },
   {
    "duration": 8,
    "start_time": "2021-10-12T11:17:39.656Z"
   },
   {
    "duration": 87,
    "start_time": "2021-10-12T11:17:39.665Z"
   },
   {
    "duration": 61,
    "start_time": "2021-10-12T11:17:39.754Z"
   },
   {
    "duration": 29,
    "start_time": "2021-10-12T11:17:39.817Z"
   },
   {
    "duration": 31,
    "start_time": "2021-10-12T11:17:39.848Z"
   },
   {
    "duration": 11,
    "start_time": "2021-10-12T11:17:39.900Z"
   },
   {
    "duration": 32,
    "start_time": "2021-10-12T11:17:39.913Z"
   },
   {
    "duration": 7,
    "start_time": "2021-10-12T11:17:39.947Z"
   },
   {
    "duration": 46,
    "start_time": "2021-10-12T11:17:39.956Z"
   },
   {
    "duration": 17,
    "start_time": "2021-10-12T11:17:40.004Z"
   },
   {
    "duration": 47,
    "start_time": "2021-10-12T11:17:55.417Z"
   },
   {
    "duration": 12,
    "start_time": "2021-10-12T11:19:22.205Z"
   },
   {
    "duration": 3,
    "start_time": "2021-10-12T11:25:55.445Z"
   },
   {
    "duration": 387,
    "start_time": "2021-10-12T11:25:55.449Z"
   },
   {
    "duration": 7,
    "start_time": "2021-10-12T11:25:55.838Z"
   },
   {
    "duration": 22,
    "start_time": "2021-10-12T11:25:55.847Z"
   },
   {
    "duration": 8,
    "start_time": "2021-10-12T11:25:55.871Z"
   },
   {
    "duration": 18,
    "start_time": "2021-10-12T11:25:55.881Z"
   },
   {
    "duration": 7,
    "start_time": "2021-10-12T11:25:55.900Z"
   },
   {
    "duration": 15,
    "start_time": "2021-10-12T11:25:55.909Z"
   },
   {
    "duration": 7,
    "start_time": "2021-10-12T11:25:55.926Z"
   },
   {
    "duration": 6,
    "start_time": "2021-10-12T11:25:55.935Z"
   },
   {
    "duration": 10,
    "start_time": "2021-10-12T11:25:55.943Z"
   },
   {
    "duration": 7,
    "start_time": "2021-10-12T11:25:55.954Z"
   },
   {
    "duration": 7,
    "start_time": "2021-10-12T11:25:55.962Z"
   },
   {
    "duration": 7,
    "start_time": "2021-10-12T11:25:56.000Z"
   },
   {
    "duration": 62,
    "start_time": "2021-10-12T11:25:56.009Z"
   },
   {
    "duration": 64,
    "start_time": "2021-10-12T11:25:56.072Z"
   },
   {
    "duration": 31,
    "start_time": "2021-10-12T11:25:56.138Z"
   },
   {
    "duration": 51,
    "start_time": "2021-10-12T11:25:56.171Z"
   },
   {
    "duration": 10,
    "start_time": "2021-10-12T11:25:56.224Z"
   },
   {
    "duration": 29,
    "start_time": "2021-10-12T11:25:56.235Z"
   },
   {
    "duration": 7,
    "start_time": "2021-10-12T11:25:56.266Z"
   },
   {
    "duration": 38,
    "start_time": "2021-10-12T11:25:56.274Z"
   },
   {
    "duration": 15,
    "start_time": "2021-10-12T11:25:56.314Z"
   },
   {
    "duration": 44,
    "start_time": "2021-10-12T11:25:56.331Z"
   },
   {
    "duration": 62,
    "start_time": "2021-10-12T11:25:56.377Z"
   },
   {
    "duration": 169,
    "start_time": "2021-10-12T11:25:56.271Z"
   },
   {
    "duration": 2,
    "start_time": "2021-10-12T11:26:03.847Z"
   },
   {
    "duration": 382,
    "start_time": "2021-10-12T11:26:03.851Z"
   },
   {
    "duration": 7,
    "start_time": "2021-10-12T11:26:04.235Z"
   },
   {
    "duration": 20,
    "start_time": "2021-10-12T11:26:04.244Z"
   },
   {
    "duration": 7,
    "start_time": "2021-10-12T11:26:04.266Z"
   },
   {
    "duration": 17,
    "start_time": "2021-10-12T11:26:04.274Z"
   },
   {
    "duration": 6,
    "start_time": "2021-10-12T11:26:04.293Z"
   },
   {
    "duration": 16,
    "start_time": "2021-10-12T11:26:04.301Z"
   },
   {
    "duration": 15,
    "start_time": "2021-10-12T11:26:04.319Z"
   },
   {
    "duration": 10,
    "start_time": "2021-10-12T11:26:04.336Z"
   },
   {
    "duration": 13,
    "start_time": "2021-10-12T11:26:04.347Z"
   },
   {
    "duration": 7,
    "start_time": "2021-10-12T11:26:04.361Z"
   },
   {
    "duration": 5,
    "start_time": "2021-10-12T11:26:04.369Z"
   },
   {
    "duration": 13,
    "start_time": "2021-10-12T11:26:04.375Z"
   },
   {
    "duration": 59,
    "start_time": "2021-10-12T11:26:04.398Z"
   },
   {
    "duration": 59,
    "start_time": "2021-10-12T11:26:04.459Z"
   },
   {
    "duration": 32,
    "start_time": "2021-10-12T11:26:04.520Z"
   },
   {
    "duration": 49,
    "start_time": "2021-10-12T11:26:04.554Z"
   },
   {
    "duration": 10,
    "start_time": "2021-10-12T11:26:04.605Z"
   },
   {
    "duration": 30,
    "start_time": "2021-10-12T11:26:04.616Z"
   },
   {
    "duration": 7,
    "start_time": "2021-10-12T11:26:04.647Z"
   },
   {
    "duration": 44,
    "start_time": "2021-10-12T11:26:04.655Z"
   },
   {
    "duration": 15,
    "start_time": "2021-10-12T11:26:04.701Z"
   },
   {
    "duration": 45,
    "start_time": "2021-10-12T11:26:04.717Z"
   },
   {
    "duration": 10,
    "start_time": "2021-10-12T11:26:04.763Z"
   },
   {
    "duration": 2,
    "start_time": "2021-10-12T11:26:15.202Z"
   },
   {
    "duration": 402,
    "start_time": "2021-10-12T11:26:15.206Z"
   },
   {
    "duration": 8,
    "start_time": "2021-10-12T11:26:15.610Z"
   },
   {
    "duration": 22,
    "start_time": "2021-10-12T11:26:15.619Z"
   },
   {
    "duration": 8,
    "start_time": "2021-10-12T11:26:15.643Z"
   },
   {
    "duration": 19,
    "start_time": "2021-10-12T11:26:15.653Z"
   },
   {
    "duration": 6,
    "start_time": "2021-10-12T11:26:15.673Z"
   },
   {
    "duration": 14,
    "start_time": "2021-10-12T11:26:15.700Z"
   },
   {
    "duration": 8,
    "start_time": "2021-10-12T11:26:15.716Z"
   },
   {
    "duration": 10,
    "start_time": "2021-10-12T11:26:15.726Z"
   },
   {
    "duration": 15,
    "start_time": "2021-10-12T11:26:15.737Z"
   },
   {
    "duration": 10,
    "start_time": "2021-10-12T11:26:15.753Z"
   },
   {
    "duration": 9,
    "start_time": "2021-10-12T11:26:15.764Z"
   },
   {
    "duration": 29,
    "start_time": "2021-10-12T11:26:15.774Z"
   },
   {
    "duration": 63,
    "start_time": "2021-10-12T11:26:15.804Z"
   },
   {
    "duration": 67,
    "start_time": "2021-10-12T11:26:15.868Z"
   },
   {
    "duration": 31,
    "start_time": "2021-10-12T11:26:15.936Z"
   },
   {
    "duration": 46,
    "start_time": "2021-10-12T11:26:15.968Z"
   },
   {
    "duration": 9,
    "start_time": "2021-10-12T11:26:16.015Z"
   },
   {
    "duration": 30,
    "start_time": "2021-10-12T11:26:16.026Z"
   },
   {
    "duration": 7,
    "start_time": "2021-10-12T11:26:16.058Z"
   },
   {
    "duration": 42,
    "start_time": "2021-10-12T11:26:16.066Z"
   },
   {
    "duration": 15,
    "start_time": "2021-10-12T11:26:16.110Z"
   },
   {
    "duration": 44,
    "start_time": "2021-10-12T11:26:16.127Z"
   },
   {
    "duration": 28,
    "start_time": "2021-10-12T11:26:16.173Z"
   },
   {
    "duration": 2,
    "start_time": "2021-10-12T11:26:39.317Z"
   },
   {
    "duration": 391,
    "start_time": "2021-10-12T11:26:39.321Z"
   },
   {
    "duration": 8,
    "start_time": "2021-10-12T11:26:39.713Z"
   },
   {
    "duration": 27,
    "start_time": "2021-10-12T11:26:39.723Z"
   },
   {
    "duration": 8,
    "start_time": "2021-10-12T11:26:39.752Z"
   },
   {
    "duration": 32,
    "start_time": "2021-10-12T11:26:39.761Z"
   },
   {
    "duration": 7,
    "start_time": "2021-10-12T11:26:39.796Z"
   },
   {
    "duration": 21,
    "start_time": "2021-10-12T11:26:39.805Z"
   },
   {
    "duration": 14,
    "start_time": "2021-10-12T11:26:39.828Z"
   },
   {
    "duration": 8,
    "start_time": "2021-10-12T11:26:39.844Z"
   },
   {
    "duration": 16,
    "start_time": "2021-10-12T11:26:39.854Z"
   },
   {
    "duration": 9,
    "start_time": "2021-10-12T11:26:39.871Z"
   },
   {
    "duration": 18,
    "start_time": "2021-10-12T11:26:39.882Z"
   },
   {
    "duration": 7,
    "start_time": "2021-10-12T11:26:39.902Z"
   },
   {
    "duration": 64,
    "start_time": "2021-10-12T11:26:39.910Z"
   },
   {
    "duration": 68,
    "start_time": "2021-10-12T11:26:39.975Z"
   },
   {
    "duration": 31,
    "start_time": "2021-10-12T11:26:40.045Z"
   },
   {
    "duration": 44,
    "start_time": "2021-10-12T11:26:40.078Z"
   },
   {
    "duration": 9,
    "start_time": "2021-10-12T11:26:40.125Z"
   },
   {
    "duration": 28,
    "start_time": "2021-10-12T11:26:40.136Z"
   },
   {
    "duration": 36,
    "start_time": "2021-10-12T11:26:40.166Z"
   },
   {
    "duration": 19,
    "start_time": "2021-10-12T11:26:40.204Z"
   },
   {
    "duration": 16,
    "start_time": "2021-10-12T11:26:40.224Z"
   },
   {
    "duration": 66,
    "start_time": "2021-10-12T11:26:40.241Z"
   },
   {
    "duration": 9,
    "start_time": "2021-10-12T11:26:40.309Z"
   },
   {
    "duration": 2,
    "start_time": "2021-10-12T11:32:11.376Z"
   },
   {
    "duration": 378,
    "start_time": "2021-10-12T11:32:11.380Z"
   },
   {
    "duration": 9,
    "start_time": "2021-10-12T11:32:11.760Z"
   },
   {
    "duration": 22,
    "start_time": "2021-10-12T11:32:11.771Z"
   },
   {
    "duration": 8,
    "start_time": "2021-10-12T11:32:11.795Z"
   },
   {
    "duration": 19,
    "start_time": "2021-10-12T11:32:11.805Z"
   },
   {
    "duration": 7,
    "start_time": "2021-10-12T11:32:11.826Z"
   },
   {
    "duration": 17,
    "start_time": "2021-10-12T11:32:11.834Z"
   },
   {
    "duration": 7,
    "start_time": "2021-10-12T11:32:11.854Z"
   },
   {
    "duration": 8,
    "start_time": "2021-10-12T11:32:11.863Z"
   },
   {
    "duration": 14,
    "start_time": "2021-10-12T11:32:11.899Z"
   },
   {
    "duration": 9,
    "start_time": "2021-10-12T11:32:11.914Z"
   },
   {
    "duration": 8,
    "start_time": "2021-10-12T11:32:11.925Z"
   },
   {
    "duration": 9,
    "start_time": "2021-10-12T11:32:11.935Z"
   },
   {
    "duration": 74,
    "start_time": "2021-10-12T11:32:11.946Z"
   },
   {
    "duration": 50,
    "start_time": "2021-10-12T11:32:12.022Z"
   },
   {
    "duration": 47,
    "start_time": "2021-10-12T11:32:12.073Z"
   },
   {
    "duration": 30,
    "start_time": "2021-10-12T11:32:12.122Z"
   },
   {
    "duration": 9,
    "start_time": "2021-10-12T11:32:12.154Z"
   },
   {
    "duration": 50,
    "start_time": "2021-10-12T11:32:12.164Z"
   },
   {
    "duration": 7,
    "start_time": "2021-10-12T11:32:12.215Z"
   },
   {
    "duration": 22,
    "start_time": "2021-10-12T11:32:12.223Z"
   },
   {
    "duration": 16,
    "start_time": "2021-10-12T11:32:12.246Z"
   },
   {
    "duration": 68,
    "start_time": "2021-10-12T11:32:12.263Z"
   },
   {
    "duration": 10,
    "start_time": "2021-10-12T11:32:12.332Z"
   },
   {
    "duration": 5,
    "start_time": "2021-10-12T12:54:52.102Z"
   },
   {
    "duration": 2,
    "start_time": "2021-10-12T12:55:43.578Z"
   },
   {
    "duration": 394,
    "start_time": "2021-10-12T12:55:43.582Z"
   },
   {
    "duration": 8,
    "start_time": "2021-10-12T12:55:43.978Z"
   },
   {
    "duration": 21,
    "start_time": "2021-10-12T12:55:43.987Z"
   },
   {
    "duration": 7,
    "start_time": "2021-10-12T12:55:44.010Z"
   },
   {
    "duration": 18,
    "start_time": "2021-10-12T12:55:44.019Z"
   },
   {
    "duration": 6,
    "start_time": "2021-10-12T12:55:44.039Z"
   },
   {
    "duration": 17,
    "start_time": "2021-10-12T12:55:44.047Z"
   },
   {
    "duration": 7,
    "start_time": "2021-10-12T12:55:44.066Z"
   },
   {
    "duration": 28,
    "start_time": "2021-10-12T12:55:44.075Z"
   },
   {
    "duration": 13,
    "start_time": "2021-10-12T12:55:44.105Z"
   },
   {
    "duration": 12,
    "start_time": "2021-10-12T12:55:44.119Z"
   },
   {
    "duration": 7,
    "start_time": "2021-10-12T12:55:44.132Z"
   },
   {
    "duration": 8,
    "start_time": "2021-10-12T12:55:44.141Z"
   },
   {
    "duration": 79,
    "start_time": "2021-10-12T12:55:44.150Z"
   },
   {
    "duration": 52,
    "start_time": "2021-10-12T12:55:44.231Z"
   },
   {
    "duration": 45,
    "start_time": "2021-10-12T12:55:44.284Z"
   },
   {
    "duration": 33,
    "start_time": "2021-10-12T12:55:44.330Z"
   },
   {
    "duration": 10,
    "start_time": "2021-10-12T12:55:44.365Z"
   },
   {
    "duration": 33,
    "start_time": "2021-10-12T12:55:44.399Z"
   },
   {
    "duration": 8,
    "start_time": "2021-10-12T12:55:44.434Z"
   },
   {
    "duration": 24,
    "start_time": "2021-10-12T12:55:44.444Z"
   },
   {
    "duration": 38,
    "start_time": "2021-10-12T12:55:44.471Z"
   },
   {
    "duration": 46,
    "start_time": "2021-10-12T12:55:44.511Z"
   },
   {
    "duration": 9,
    "start_time": "2021-10-12T12:55:44.559Z"
   },
   {
    "duration": 8,
    "start_time": "2021-10-12T12:55:44.569Z"
   },
   {
    "duration": 40,
    "start_time": "2021-10-12T12:55:44.579Z"
   },
   {
    "duration": 24,
    "start_time": "2021-10-12T12:55:44.620Z"
   },
   {
    "duration": 48,
    "start_time": "2021-10-12T12:59:40.694Z"
   },
   {
    "duration": 4139,
    "start_time": "2021-10-12T13:04:10.840Z"
   },
   {
    "duration": 3,
    "start_time": "2021-10-12T13:07:50.552Z"
   },
   {
    "duration": 381,
    "start_time": "2021-10-12T13:07:50.556Z"
   },
   {
    "duration": 7,
    "start_time": "2021-10-12T13:07:50.939Z"
   },
   {
    "duration": 26,
    "start_time": "2021-10-12T13:07:50.948Z"
   },
   {
    "duration": 8,
    "start_time": "2021-10-12T13:07:50.976Z"
   },
   {
    "duration": 20,
    "start_time": "2021-10-12T13:07:50.985Z"
   },
   {
    "duration": 6,
    "start_time": "2021-10-12T13:07:51.007Z"
   },
   {
    "duration": 15,
    "start_time": "2021-10-12T13:07:51.016Z"
   },
   {
    "duration": 220,
    "start_time": "2021-10-12T13:07:51.033Z"
   },
   {
    "duration": 7,
    "start_time": "2021-10-12T13:07:51.255Z"
   },
   {
    "duration": 11,
    "start_time": "2021-10-12T13:07:51.264Z"
   },
   {
    "duration": 26,
    "start_time": "2021-10-12T13:07:51.277Z"
   },
   {
    "duration": 4,
    "start_time": "2021-10-12T13:07:51.304Z"
   },
   {
    "duration": 7,
    "start_time": "2021-10-12T13:07:51.310Z"
   },
   {
    "duration": 57,
    "start_time": "2021-10-12T13:07:51.318Z"
   },
   {
    "duration": 47,
    "start_time": "2021-10-12T13:07:51.399Z"
   },
   {
    "duration": 30,
    "start_time": "2021-10-12T13:07:51.447Z"
   },
   {
    "duration": 42,
    "start_time": "2021-10-12T13:07:51.479Z"
   },
   {
    "duration": 8,
    "start_time": "2021-10-12T13:07:51.524Z"
   },
   {
    "duration": 32,
    "start_time": "2021-10-12T13:07:51.534Z"
   },
   {
    "duration": 7,
    "start_time": "2021-10-12T13:07:51.567Z"
   },
   {
    "duration": 43,
    "start_time": "2021-10-12T13:07:51.576Z"
   },
   {
    "duration": 16,
    "start_time": "2021-10-12T13:07:51.621Z"
   },
   {
    "duration": 68,
    "start_time": "2021-10-12T13:07:51.639Z"
   },
   {
    "duration": 11,
    "start_time": "2021-10-12T13:07:51.709Z"
   },
   {
    "duration": 5,
    "start_time": "2021-10-12T13:07:51.722Z"
   },
   {
    "duration": 23,
    "start_time": "2021-10-12T13:07:51.729Z"
   },
   {
    "duration": 49,
    "start_time": "2021-10-12T13:07:51.754Z"
   },
   {
    "duration": 141,
    "start_time": "2021-10-12T13:07:51.804Z"
   },
   {
    "duration": 135,
    "start_time": "2021-10-12T13:08:36.961Z"
   },
   {
    "duration": 206,
    "start_time": "2021-10-12T13:09:11.917Z"
   },
   {
    "duration": 204,
    "start_time": "2021-10-12T13:09:47.075Z"
   },
   {
    "duration": 202,
    "start_time": "2021-10-12T13:10:28.512Z"
   },
   {
    "duration": 346,
    "start_time": "2021-10-12T13:14:00.148Z"
   },
   {
    "duration": 209,
    "start_time": "2021-10-12T13:17:02.142Z"
   },
   {
    "duration": 211,
    "start_time": "2021-10-12T13:17:56.947Z"
   },
   {
    "duration": 198,
    "start_time": "2021-10-12T13:18:58.441Z"
   },
   {
    "duration": 229,
    "start_time": "2021-10-12T13:19:03.100Z"
   },
   {
    "duration": 219,
    "start_time": "2021-10-12T13:20:21.500Z"
   },
   {
    "duration": 267,
    "start_time": "2021-10-12T13:21:47.048Z"
   },
   {
    "duration": 196,
    "start_time": "2021-10-12T13:21:55.291Z"
   },
   {
    "duration": 198,
    "start_time": "2021-10-12T13:21:58.210Z"
   },
   {
    "duration": 249,
    "start_time": "2021-10-12T13:23:14.274Z"
   },
   {
    "duration": 322,
    "start_time": "2021-10-12T13:23:49.211Z"
   },
   {
    "duration": 250,
    "start_time": "2021-10-12T13:25:57.893Z"
   },
   {
    "duration": 358,
    "start_time": "2021-10-12T13:29:16.784Z"
   },
   {
    "duration": 378,
    "start_time": "2021-10-12T13:29:31.565Z"
   },
   {
    "duration": 332,
    "start_time": "2021-10-12T13:34:34.644Z"
   },
   {
    "duration": 381,
    "start_time": "2021-10-12T13:34:51.195Z"
   },
   {
    "duration": 660,
    "start_time": "2021-10-12T13:35:57.724Z"
   },
   {
    "duration": 387,
    "start_time": "2021-10-12T13:36:25.092Z"
   },
   {
    "duration": 390,
    "start_time": "2021-10-12T13:36:51.362Z"
   },
   {
    "duration": 241,
    "start_time": "2021-10-12T13:38:07.238Z"
   },
   {
    "duration": 248,
    "start_time": "2021-10-12T13:39:26.700Z"
   },
   {
    "duration": 460,
    "start_time": "2021-10-12T13:40:06.467Z"
   },
   {
    "duration": 253,
    "start_time": "2021-10-12T13:40:13.778Z"
   },
   {
    "duration": 245,
    "start_time": "2021-10-12T13:41:13.094Z"
   },
   {
    "duration": 276,
    "start_time": "2021-10-12T13:41:44.955Z"
   },
   {
    "duration": 259,
    "start_time": "2021-10-12T13:41:58.194Z"
   },
   {
    "duration": 271,
    "start_time": "2021-10-12T13:43:19.756Z"
   },
   {
    "duration": 246,
    "start_time": "2021-10-12T13:43:29.068Z"
   },
   {
    "duration": 259,
    "start_time": "2021-10-12T13:44:24.537Z"
   },
   {
    "duration": 336,
    "start_time": "2021-10-12T14:00:47.729Z"
   },
   {
    "duration": 335,
    "start_time": "2021-10-12T14:01:06.264Z"
   },
   {
    "duration": 1130,
    "start_time": "2021-10-12T14:01:51.465Z"
   },
   {
    "duration": 3612,
    "start_time": "2021-10-12T14:02:05.529Z"
   },
   {
    "duration": 4095,
    "start_time": "2021-10-12T14:02:38.107Z"
   },
   {
    "duration": 325,
    "start_time": "2021-10-12T14:03:03.594Z"
   },
   {
    "duration": 283,
    "start_time": "2021-10-12T14:03:29.263Z"
   },
   {
    "duration": 254,
    "start_time": "2021-10-12T14:05:13.177Z"
   },
   {
    "duration": 258,
    "start_time": "2021-10-12T14:05:51.510Z"
   },
   {
    "duration": 2939,
    "start_time": "2021-10-15T17:56:53.928Z"
   },
   {
    "duration": -129,
    "start_time": "2021-10-15T17:56:57.002Z"
   },
   {
    "duration": -132,
    "start_time": "2021-10-15T17:56:57.006Z"
   },
   {
    "duration": -135,
    "start_time": "2021-10-15T17:56:57.011Z"
   },
   {
    "duration": -147,
    "start_time": "2021-10-15T17:56:57.024Z"
   },
   {
    "duration": -151,
    "start_time": "2021-10-15T17:56:57.029Z"
   },
   {
    "duration": -158,
    "start_time": "2021-10-15T17:56:57.038Z"
   },
   {
    "duration": -168,
    "start_time": "2021-10-15T17:56:57.049Z"
   },
   {
    "duration": -170,
    "start_time": "2021-10-15T17:56:57.053Z"
   },
   {
    "duration": -174,
    "start_time": "2021-10-15T17:56:57.058Z"
   },
   {
    "duration": -177,
    "start_time": "2021-10-15T17:56:57.063Z"
   },
   {
    "duration": -180,
    "start_time": "2021-10-15T17:56:57.068Z"
   },
   {
    "duration": -183,
    "start_time": "2021-10-15T17:56:57.072Z"
   },
   {
    "duration": -193,
    "start_time": "2021-10-15T17:56:57.083Z"
   },
   {
    "duration": -197,
    "start_time": "2021-10-15T17:56:57.088Z"
   },
   {
    "duration": -203,
    "start_time": "2021-10-15T17:56:57.095Z"
   },
   {
    "duration": -206,
    "start_time": "2021-10-15T17:56:57.100Z"
   },
   {
    "duration": -216,
    "start_time": "2021-10-15T17:56:57.111Z"
   },
   {
    "duration": -219,
    "start_time": "2021-10-15T17:56:57.116Z"
   },
   {
    "duration": -222,
    "start_time": "2021-10-15T17:56:57.120Z"
   },
   {
    "duration": -225,
    "start_time": "2021-10-15T17:56:57.124Z"
   },
   {
    "duration": -229,
    "start_time": "2021-10-15T17:56:57.130Z"
   },
   {
    "duration": -232,
    "start_time": "2021-10-15T17:56:57.134Z"
   },
   {
    "duration": -235,
    "start_time": "2021-10-15T17:56:57.138Z"
   },
   {
    "duration": -236,
    "start_time": "2021-10-15T17:56:57.141Z"
   },
   {
    "duration": -313,
    "start_time": "2021-10-15T17:56:57.219Z"
   },
   {
    "duration": -316,
    "start_time": "2021-10-15T17:56:57.223Z"
   },
   {
    "duration": -319,
    "start_time": "2021-10-15T17:56:57.227Z"
   },
   {
    "duration": -332,
    "start_time": "2021-10-15T17:56:57.242Z"
   },
   {
    "duration": -281,
    "start_time": "2021-10-15T17:56:57.248Z"
   },
   {
    "duration": -283,
    "start_time": "2021-10-15T17:56:57.252Z"
   },
   {
    "duration": -286,
    "start_time": "2021-10-15T17:56:57.257Z"
   },
   {
    "duration": -288,
    "start_time": "2021-10-15T17:56:57.260Z"
   },
   {
    "duration": -291,
    "start_time": "2021-10-15T17:56:57.265Z"
   },
   {
    "duration": -293,
    "start_time": "2021-10-15T17:56:57.268Z"
   },
   {
    "duration": -295,
    "start_time": "2021-10-15T17:56:57.272Z"
   },
   {
    "duration": -298,
    "start_time": "2021-10-15T17:56:57.276Z"
   },
   {
    "duration": -334,
    "start_time": "2021-10-15T17:56:57.313Z"
   },
   {
    "duration": -337,
    "start_time": "2021-10-15T17:56:57.318Z"
   },
   {
    "duration": -340,
    "start_time": "2021-10-15T17:56:57.322Z"
   },
   {
    "duration": -342,
    "start_time": "2021-10-15T17:56:57.326Z"
   },
   {
    "duration": -345,
    "start_time": "2021-10-15T17:56:57.331Z"
   },
   {
    "duration": -347,
    "start_time": "2021-10-15T17:56:57.334Z"
   },
   {
    "duration": -350,
    "start_time": "2021-10-15T17:56:57.338Z"
   },
   {
    "duration": -351,
    "start_time": "2021-10-15T17:56:57.341Z"
   },
   {
    "duration": -354,
    "start_time": "2021-10-15T17:56:57.346Z"
   },
   {
    "duration": -357,
    "start_time": "2021-10-15T17:56:57.350Z"
   },
   {
    "duration": 2179,
    "start_time": "2021-10-15T18:11:13.970Z"
   },
   {
    "duration": 17,
    "start_time": "2021-10-15T18:11:20.590Z"
   },
   {
    "duration": 28,
    "start_time": "2021-10-15T18:11:20.761Z"
   },
   {
    "duration": 13,
    "start_time": "2021-10-15T18:11:21.142Z"
   },
   {
    "duration": 25,
    "start_time": "2021-10-15T18:11:21.428Z"
   },
   {
    "duration": 11,
    "start_time": "2021-10-15T18:11:21.682Z"
   },
   {
    "duration": 19,
    "start_time": "2021-10-15T18:11:21.797Z"
   },
   {
    "duration": 14,
    "start_time": "2021-10-15T18:11:22.143Z"
   },
   {
    "duration": 8,
    "start_time": "2021-10-15T18:11:22.358Z"
   },
   {
    "duration": 15,
    "start_time": "2021-10-15T18:11:22.623Z"
   },
   {
    "duration": 9,
    "start_time": "2021-10-15T18:11:22.783Z"
   },
   {
    "duration": 7,
    "start_time": "2021-10-15T18:11:22.972Z"
   },
   {
    "duration": 10,
    "start_time": "2021-10-15T18:11:23.981Z"
   },
   {
    "duration": 92,
    "start_time": "2021-10-15T18:11:24.330Z"
   },
   {
    "duration": 76,
    "start_time": "2021-10-15T18:11:24.859Z"
   },
   {
    "duration": 44,
    "start_time": "2021-10-15T18:11:25.238Z"
   },
   {
    "duration": 48,
    "start_time": "2021-10-15T18:11:25.606Z"
   },
   {
    "duration": 16,
    "start_time": "2021-10-15T18:11:25.931Z"
   },
   {
    "duration": 51,
    "start_time": "2021-10-15T18:11:26.419Z"
   },
   {
    "duration": 12,
    "start_time": "2021-10-15T18:11:26.770Z"
   },
   {
    "duration": 31,
    "start_time": "2021-10-15T18:11:26.954Z"
   },
   {
    "duration": 30,
    "start_time": "2021-10-15T18:11:27.156Z"
   },
   {
    "duration": 90,
    "start_time": "2021-10-15T18:11:27.479Z"
   },
   {
    "duration": 16,
    "start_time": "2021-10-15T18:11:27.828Z"
   },
   {
    "duration": 6,
    "start_time": "2021-10-15T18:11:28.708Z"
   },
   {
    "duration": 34,
    "start_time": "2021-10-15T18:11:29.038Z"
   },
   {
    "duration": 35,
    "start_time": "2021-10-15T18:11:29.258Z"
   },
   {
    "duration": 17,
    "start_time": "2021-10-15T18:11:29.740Z"
   },
   {
    "duration": 1055,
    "start_time": "2021-10-15T18:11:30.096Z"
   },
   {
    "duration": 20,
    "start_time": "2021-10-15T18:11:31.153Z"
   },
   {
    "duration": 9,
    "start_time": "2021-10-15T18:11:31.177Z"
   },
   {
    "duration": 8,
    "start_time": "2021-10-15T18:11:31.327Z"
   },
   {
    "duration": 6,
    "start_time": "2021-10-15T18:11:31.841Z"
   },
   {
    "duration": 7,
    "start_time": "2021-10-15T18:11:32.218Z"
   },
   {
    "duration": 6,
    "start_time": "2021-10-15T18:11:32.532Z"
   },
   {
    "duration": 625,
    "start_time": "2021-10-15T18:11:33.385Z"
   },
   {
    "duration": 594,
    "start_time": "2021-10-15T18:11:34.012Z"
   },
   {
    "duration": 588,
    "start_time": "2021-10-15T18:11:34.608Z"
   },
   {
    "duration": 598,
    "start_time": "2021-10-15T18:11:35.199Z"
   },
   {
    "duration": 612,
    "start_time": "2021-10-15T18:11:35.800Z"
   },
   {
    "duration": 589,
    "start_time": "2021-10-15T18:11:36.415Z"
   },
   {
    "duration": 1385,
    "start_time": "2021-10-15T18:11:37.007Z"
   },
   {
    "duration": 18,
    "start_time": "2021-10-15T18:11:38.395Z"
   },
   {
    "duration": 752,
    "start_time": "2021-10-15T18:11:38.417Z"
   },
   {
    "duration": 11,
    "start_time": "2021-10-15T18:11:39.173Z"
   },
   {
    "duration": 8,
    "start_time": "2021-10-15T18:11:39.188Z"
   },
   {
    "duration": 8,
    "start_time": "2021-10-15T18:11:39.198Z"
   },
   {
    "duration": 429,
    "start_time": "2021-10-15T18:18:45.338Z"
   },
   {
    "duration": 895,
    "start_time": "2021-10-15T18:18:52.030Z"
   },
   {
    "duration": 1075,
    "start_time": "2021-10-15T18:18:52.928Z"
   },
   {
    "duration": 17,
    "start_time": "2021-10-15T18:18:54.006Z"
   },
   {
    "duration": 30,
    "start_time": "2021-10-15T18:18:54.025Z"
   },
   {
    "duration": 15,
    "start_time": "2021-10-15T18:18:54.308Z"
   },
   {
    "duration": 32,
    "start_time": "2021-10-15T18:18:54.486Z"
   },
   {
    "duration": 10,
    "start_time": "2021-10-15T18:18:54.965Z"
   },
   {
    "duration": 20,
    "start_time": "2021-10-15T18:18:55.115Z"
   },
   {
    "duration": 12,
    "start_time": "2021-10-15T18:18:55.490Z"
   },
   {
    "duration": 9,
    "start_time": "2021-10-15T18:18:55.613Z"
   },
   {
    "duration": 14,
    "start_time": "2021-10-15T18:18:55.995Z"
   },
   {
    "duration": 10,
    "start_time": "2021-10-15T18:18:56.160Z"
   },
   {
    "duration": 5,
    "start_time": "2021-10-15T18:18:56.327Z"
   },
   {
    "duration": 10,
    "start_time": "2021-10-15T18:18:57.523Z"
   },
   {
    "duration": 96,
    "start_time": "2021-10-15T18:18:57.856Z"
   },
   {
    "duration": 81,
    "start_time": "2021-10-15T18:18:58.345Z"
   },
   {
    "duration": 44,
    "start_time": "2021-10-15T18:18:58.872Z"
   },
   {
    "duration": 46,
    "start_time": "2021-10-15T18:18:59.371Z"
   },
   {
    "duration": 16,
    "start_time": "2021-10-15T18:18:59.738Z"
   },
   {
    "duration": 51,
    "start_time": "2021-10-15T18:19:00.507Z"
   },
   {
    "duration": 12,
    "start_time": "2021-10-15T18:19:01.972Z"
   },
   {
    "duration": 31,
    "start_time": "2021-10-15T18:19:03.050Z"
   },
   {
    "duration": 29,
    "start_time": "2021-10-15T18:19:06.889Z"
   },
   {
    "duration": 104,
    "start_time": "2021-10-15T18:19:08.164Z"
   },
   {
    "duration": 17,
    "start_time": "2021-10-15T18:19:09.266Z"
   },
   {
    "duration": 15,
    "start_time": "2021-10-15T18:19:18.122Z"
   },
   {
    "duration": 14,
    "start_time": "2021-10-15T18:19:40.468Z"
   },
   {
    "duration": 12,
    "start_time": "2021-10-15T18:20:30.965Z"
   },
   {
    "duration": 15,
    "start_time": "2021-10-15T18:22:25.787Z"
   },
   {
    "duration": 309,
    "start_time": "2021-10-15T18:25:03.590Z"
   },
   {
    "duration": 6,
    "start_time": "2021-10-15T18:25:12.640Z"
   },
   {
    "duration": 36,
    "start_time": "2021-10-15T18:25:13.603Z"
   },
   {
    "duration": 34,
    "start_time": "2021-10-15T18:25:13.771Z"
   },
   {
    "duration": 18,
    "start_time": "2021-10-15T18:25:14.284Z"
   },
   {
    "duration": 1142,
    "start_time": "2021-10-15T18:25:14.814Z"
   },
   {
    "duration": 11,
    "start_time": "2021-10-15T18:25:15.959Z"
   },
   {
    "duration": 7,
    "start_time": "2021-10-15T18:25:17.044Z"
   },
   {
    "duration": 7,
    "start_time": "2021-10-15T18:25:17.458Z"
   },
   {
    "duration": 7,
    "start_time": "2021-10-15T18:25:18.469Z"
   },
   {
    "duration": 6,
    "start_time": "2021-10-15T18:25:22.281Z"
   },
   {
    "duration": 7,
    "start_time": "2021-10-15T18:25:22.670Z"
   },
   {
    "duration": 553,
    "start_time": "2021-10-15T18:25:23.325Z"
   },
   {
    "duration": 9,
    "start_time": "2021-10-15T18:25:25.061Z"
   },
   {
    "duration": 9,
    "start_time": "2021-10-15T18:25:32.350Z"
   },
   {
    "duration": 1651,
    "start_time": "2021-10-16T12:06:22.200Z"
   },
   {
    "duration": 1650,
    "start_time": "2021-10-16T12:07:00.623Z"
   },
   {
    "duration": 9,
    "start_time": "2021-10-16T12:07:02.275Z"
   },
   {
    "duration": 27,
    "start_time": "2021-10-16T12:07:02.286Z"
   },
   {
    "duration": 9,
    "start_time": "2021-10-16T12:07:02.316Z"
   },
   {
    "duration": 28,
    "start_time": "2021-10-16T12:07:02.327Z"
   },
   {
    "duration": 23,
    "start_time": "2021-10-16T12:07:02.357Z"
   },
   {
    "duration": 26,
    "start_time": "2021-10-16T12:07:02.382Z"
   },
   {
    "duration": 14,
    "start_time": "2021-10-16T12:07:02.411Z"
   },
   {
    "duration": 11,
    "start_time": "2021-10-16T12:07:02.427Z"
   },
   {
    "duration": 14,
    "start_time": "2021-10-16T12:07:02.439Z"
   },
   {
    "duration": 14,
    "start_time": "2021-10-16T12:07:02.455Z"
   },
   {
    "duration": 8,
    "start_time": "2021-10-16T12:07:02.470Z"
   },
   {
    "duration": 10,
    "start_time": "2021-10-16T12:07:02.480Z"
   },
   {
    "duration": 73,
    "start_time": "2021-10-16T12:07:02.492Z"
   },
   {
    "duration": 53,
    "start_time": "2021-10-16T12:07:02.567Z"
   },
   {
    "duration": 33,
    "start_time": "2021-10-16T12:07:02.622Z"
   },
   {
    "duration": 49,
    "start_time": "2021-10-16T12:07:02.656Z"
   },
   {
    "duration": 9,
    "start_time": "2021-10-16T12:07:02.707Z"
   },
   {
    "duration": 35,
    "start_time": "2021-10-16T12:07:02.718Z"
   },
   {
    "duration": 30,
    "start_time": "2021-10-16T12:07:02.755Z"
   },
   {
    "duration": 13,
    "start_time": "2021-10-16T12:07:02.787Z"
   },
   {
    "duration": 16,
    "start_time": "2021-10-16T12:07:02.801Z"
   },
   {
    "duration": 182,
    "start_time": "2021-10-16T12:07:02.821Z"
   },
   {
    "duration": 10,
    "start_time": "2021-10-16T12:07:03.005Z"
   },
   {
    "duration": 6,
    "start_time": "2021-10-16T12:07:03.016Z"
   },
   {
    "duration": 12,
    "start_time": "2021-10-16T12:07:03.024Z"
   },
   {
    "duration": 5,
    "start_time": "2021-10-16T12:07:03.037Z"
   },
   {
    "duration": 52,
    "start_time": "2021-10-16T12:07:03.043Z"
   },
   {
    "duration": 20,
    "start_time": "2021-10-16T12:07:03.097Z"
   },
   {
    "duration": 10,
    "start_time": "2021-10-16T12:07:03.119Z"
   },
   {
    "duration": 792,
    "start_time": "2021-10-16T12:07:03.131Z"
   },
   {
    "duration": 4,
    "start_time": "2021-10-16T12:07:03.924Z"
   },
   {
    "duration": 10,
    "start_time": "2021-10-16T12:07:03.930Z"
   },
   {
    "duration": 5,
    "start_time": "2021-10-16T12:07:03.941Z"
   },
   {
    "duration": 7,
    "start_time": "2021-10-16T12:07:03.948Z"
   },
   {
    "duration": 22,
    "start_time": "2021-10-16T12:07:03.956Z"
   },
   {
    "duration": 6,
    "start_time": "2021-10-16T12:07:03.980Z"
   },
   {
    "duration": 246,
    "start_time": "2021-10-16T12:07:03.987Z"
   },
   {
    "duration": 383,
    "start_time": "2021-10-16T12:07:04.234Z"
   },
   {
    "duration": 222,
    "start_time": "2021-10-16T12:07:04.619Z"
   },
   {
    "duration": 383,
    "start_time": "2021-10-16T12:07:04.842Z"
   },
   {
    "duration": 367,
    "start_time": "2021-10-16T12:07:05.227Z"
   },
   {
    "duration": 458,
    "start_time": "2021-10-16T12:07:05.595Z"
   },
   {
    "duration": 262,
    "start_time": "2021-10-16T12:07:06.055Z"
   },
   {
    "duration": 11,
    "start_time": "2021-10-16T12:07:06.319Z"
   },
   {
    "duration": 498,
    "start_time": "2021-10-16T12:07:06.331Z"
   },
   {
    "duration": 235,
    "start_time": "2021-10-16T12:07:06.831Z"
   },
   {
    "duration": 13,
    "start_time": "2021-10-16T12:07:07.068Z"
   },
   {
    "duration": 13,
    "start_time": "2021-10-16T12:07:07.082Z"
   },
   {
    "duration": 7,
    "start_time": "2021-10-16T12:07:07.096Z"
   },
   {
    "duration": 7,
    "start_time": "2021-10-16T12:07:07.104Z"
   },
   {
    "duration": 9,
    "start_time": "2021-10-16T12:08:55.658Z"
   },
   {
    "duration": 360,
    "start_time": "2021-10-16T12:12:47.583Z"
   },
   {
    "duration": 423,
    "start_time": "2021-10-16T12:14:51.780Z"
   },
   {
    "duration": 402,
    "start_time": "2021-10-16T12:14:57.505Z"
   },
   {
    "duration": 392,
    "start_time": "2021-10-16T12:15:05.690Z"
   },
   {
    "duration": 400,
    "start_time": "2021-10-16T12:15:09.776Z"
   }
  ],
  "kernelspec": {
   "display_name": "Python 3",
   "language": "python",
   "name": "python3"
  },
  "language_info": {
   "codemirror_mode": {
    "name": "ipython",
    "version": 3
   },
   "file_extension": ".py",
   "mimetype": "text/x-python",
   "name": "python",
   "nbconvert_exporter": "python",
   "pygments_lexer": "ipython3",
   "version": "3.7.3"
  },
  "toc": {
   "base_numbering": 1,
   "nav_menu": {},
   "number_sections": true,
   "sideBar": true,
   "skip_h1_title": true,
   "title_cell": "Table of Contents",
   "title_sidebar": "Contents",
   "toc_cell": false,
   "toc_position": {},
   "toc_section_display": true,
   "toc_window_display": false
  }
 },
 "nbformat": 4,
 "nbformat_minor": 2
}
