{
 "cells": [
  {
   "cell_type": "markdown",
   "metadata": {},
   "source": [
    "# Описание проекта\n",
    "Заказчик решает открыть небольшое кафе в Москве, в основе деятельности которого обслуживание клиентов роботами. Проект дорогой и требует участия инвесторов. Инвесторы просят описать текущее положение дел на рынке, обосновать долговременный характер проекта: будет ли спрос на кафе, когда любопытство случайных посетителей уже будет удовлетворено? \n",
    "\n",
    "# Доступные данные:\n",
    "В нашем распоряжении имеются открытые данные о заведениях общественного питания Москвы. Таблица rest_data:\n",
    "- id — идентификатор объекта;\n",
    "- object_name — название объекта общественного питания;\n",
    "- chain — сетевой ресторан;\n",
    "- object_type — тип объекта общественного питания;\n",
    "- address — адрес;\n",
    "- number — количество посадочных мест.\n",
    "\n",
    "# Цели проекта:\n",
    "- Выполнить анализ данных,\n",
    "- Подготовить презентацию исследования для инвесторов."
   ]
  },
  {
   "cell_type": "markdown",
   "metadata": {},
   "source": [
    "# Содержание\n",
    "\n",
    "1. Изучение и подготовка данных из файлов\n",
    "2. Анализ данных\n",
    "3. Выводы и рекомендации"
   ]
  },
  {
   "cell_type": "markdown",
   "metadata": {},
   "source": [
    "# 1. Изучение и подготовка данных из файлов <a class=\"anchor\" id=\"first-bullet\"></a>"
   ]
  },
  {
   "cell_type": "markdown",
   "metadata": {},
   "source": [
    "Импортируем библиотеки:"
   ]
  },
  {
   "cell_type": "code",
   "execution_count": 1,
   "metadata": {},
   "outputs": [],
   "source": [
    "import pandas as pd\n",
    "from collections import Counter\n",
    "import numpy as np\n",
    "from numpy import median\n",
    "from datetime import datetime\n",
    "import matplotlib.pyplot as plt\n",
    "from matplotlib import pyplot as plt\n",
    "from scipy import stats as st\n",
    "import scipy.stats as stats\n",
    "import seaborn as sns\n",
    "import warnings\n",
    "warnings.filterwarnings(\"ignore\")\n",
    "pd.set_option('max_colwidth', -1)"
   ]
  },
  {
   "cell_type": "markdown",
   "metadata": {},
   "source": [
    "Открываем файлы:"
   ]
  },
  {
   "cell_type": "code",
   "execution_count": 2,
   "metadata": {},
   "outputs": [],
   "source": [
    "try:\n",
    "    rest_data = pd.read_csv('rest_data.csv')\n",
    "except:\n",
    "    rest_data = pd.read_csv('/datasets/rest_data.csv')"
   ]
  },
  {
   "cell_type": "markdown",
   "metadata": {},
   "source": [
    "Предпросмотр файла:"
   ]
  },
  {
   "cell_type": "code",
   "execution_count": 3,
   "metadata": {},
   "outputs": [
    {
     "data": {
      "text/html": [
       "<div>\n",
       "<style scoped>\n",
       "    .dataframe tbody tr th:only-of-type {\n",
       "        vertical-align: middle;\n",
       "    }\n",
       "\n",
       "    .dataframe tbody tr th {\n",
       "        vertical-align: top;\n",
       "    }\n",
       "\n",
       "    .dataframe thead th {\n",
       "        text-align: right;\n",
       "    }\n",
       "</style>\n",
       "<table border=\"1\" class=\"dataframe\">\n",
       "  <thead>\n",
       "    <tr style=\"text-align: right;\">\n",
       "      <th></th>\n",
       "      <th>id</th>\n",
       "      <th>object_name</th>\n",
       "      <th>chain</th>\n",
       "      <th>object_type</th>\n",
       "      <th>address</th>\n",
       "      <th>number</th>\n",
       "    </tr>\n",
       "  </thead>\n",
       "  <tbody>\n",
       "    <tr>\n",
       "      <td>0</td>\n",
       "      <td>151635</td>\n",
       "      <td>СМЕТАНА</td>\n",
       "      <td>нет</td>\n",
       "      <td>кафе</td>\n",
       "      <td>город Москва, улица Егора Абакумова, дом 9</td>\n",
       "      <td>48</td>\n",
       "    </tr>\n",
       "    <tr>\n",
       "      <td>1</td>\n",
       "      <td>77874</td>\n",
       "      <td>Родник</td>\n",
       "      <td>нет</td>\n",
       "      <td>кафе</td>\n",
       "      <td>город Москва, улица Талалихина, дом 2/1, корпус 1</td>\n",
       "      <td>35</td>\n",
       "    </tr>\n",
       "    <tr>\n",
       "      <td>2</td>\n",
       "      <td>24309</td>\n",
       "      <td>Кафе «Академия»</td>\n",
       "      <td>нет</td>\n",
       "      <td>кафе</td>\n",
       "      <td>город Москва, Абельмановская улица, дом 6</td>\n",
       "      <td>95</td>\n",
       "    </tr>\n",
       "    <tr>\n",
       "      <td>3</td>\n",
       "      <td>21894</td>\n",
       "      <td>ПИЦЦЕТОРИЯ</td>\n",
       "      <td>да</td>\n",
       "      <td>кафе</td>\n",
       "      <td>город Москва, Абрамцевская улица, дом 1</td>\n",
       "      <td>40</td>\n",
       "    </tr>\n",
       "    <tr>\n",
       "      <td>4</td>\n",
       "      <td>119365</td>\n",
       "      <td>Кафе «Вишневая метель»</td>\n",
       "      <td>нет</td>\n",
       "      <td>кафе</td>\n",
       "      <td>город Москва, Абрамцевская улица, дом 9, корпус 1</td>\n",
       "      <td>50</td>\n",
       "    </tr>\n",
       "  </tbody>\n",
       "</table>\n",
       "</div>"
      ],
      "text/plain": [
       "       id             object_name chain object_type  \\\n",
       "0  151635  СМЕТАНА                 нет   кафе         \n",
       "1  77874   Родник                  нет   кафе         \n",
       "2  24309   Кафе «Академия»         нет   кафе         \n",
       "3  21894   ПИЦЦЕТОРИЯ              да    кафе         \n",
       "4  119365  Кафе «Вишневая метель»  нет   кафе         \n",
       "\n",
       "                                             address  number  \n",
       "0  город Москва, улица Егора Абакумова, дом 9         48      \n",
       "1  город Москва, улица Талалихина, дом 2/1, корпус 1  35      \n",
       "2  город Москва, Абельмановская улица, дом 6          95      \n",
       "3  город Москва, Абрамцевская улица, дом 1            40      \n",
       "4  город Москва, Абрамцевская улица, дом 9, корпус 1  50      "
      ]
     },
     "execution_count": 3,
     "metadata": {},
     "output_type": "execute_result"
    }
   ],
   "source": [
    "rest_data.head()"
   ]
  },
  {
   "cell_type": "markdown",
   "metadata": {},
   "source": [
    "Проверим на полные дубликаты:"
   ]
  },
  {
   "cell_type": "code",
   "execution_count": 4,
   "metadata": {},
   "outputs": [
    {
     "name": "stdout",
     "output_type": "stream",
     "text": [
      "Empty DataFrame\n",
      "Columns: [id, object_name, chain, object_type, address, number]\n",
      "Index: []\n"
     ]
    }
   ],
   "source": [
    "duplicates = rest_data[rest_data.duplicated(keep='last')]\n",
    "print(duplicates)"
   ]
  },
  {
   "cell_type": "markdown",
   "metadata": {},
   "source": [
    "Полные дубликаты отсутствуют."
   ]
  },
  {
   "cell_type": "markdown",
   "metadata": {},
   "source": [
    "Проверим, нет ли дублирующихся по смыслу категорий объектов:"
   ]
  },
  {
   "cell_type": "code",
   "execution_count": 5,
   "metadata": {},
   "outputs": [
    {
     "name": "stdout",
     "output_type": "stream",
     "text": [
      "['кафе' 'столовая' 'закусочная' 'предприятие быстрого обслуживания'\n",
      " 'ресторан' 'кафетерий' 'буфет' 'бар' 'магазин (отдел кулинарии)']\n"
     ]
    }
   ],
   "source": [
    "print(rest_data['object_type'].unique())"
   ]
  },
  {
   "cell_type": "markdown",
   "metadata": {},
   "source": [
    "Как видим, категории объектов уникальны."
   ]
  },
  {
   "cell_type": "markdown",
   "metadata": {},
   "source": [
    "Проверим на наличие одинаковых заведений по адресу:"
   ]
  },
  {
   "cell_type": "code",
   "execution_count": 6,
   "metadata": {},
   "outputs": [
    {
     "data": {
      "text/html": [
       "<div>\n",
       "<style scoped>\n",
       "    .dataframe tbody tr th:only-of-type {\n",
       "        vertical-align: middle;\n",
       "    }\n",
       "\n",
       "    .dataframe tbody tr th {\n",
       "        vertical-align: top;\n",
       "    }\n",
       "\n",
       "    .dataframe thead th {\n",
       "        text-align: right;\n",
       "    }\n",
       "</style>\n",
       "<table border=\"1\" class=\"dataframe\">\n",
       "  <thead>\n",
       "    <tr style=\"text-align: right;\">\n",
       "      <th></th>\n",
       "      <th>id</th>\n",
       "      <th>object_name</th>\n",
       "      <th>chain</th>\n",
       "      <th>object_type</th>\n",
       "      <th>address</th>\n",
       "      <th>number</th>\n",
       "    </tr>\n",
       "  </thead>\n",
       "  <tbody>\n",
       "    <tr>\n",
       "      <td>114</td>\n",
       "      <td>28613</td>\n",
       "      <td>КОМБИНАТ ПИТАНИЯ МГТУ ИМ.Н.Э.БАУМАНА</td>\n",
       "      <td>нет</td>\n",
       "      <td>закусочная</td>\n",
       "      <td>город Москва, Бригадирский переулок, дом 3-5</td>\n",
       "      <td>216</td>\n",
       "    </tr>\n",
       "    <tr>\n",
       "      <td>115</td>\n",
       "      <td>28614</td>\n",
       "      <td>КОМБИНАТ ПИТАНИЯ МГТУ ИМ.Н.Э.БАУМАНА</td>\n",
       "      <td>нет</td>\n",
       "      <td>буфет</td>\n",
       "      <td>город Москва, Бригадирский переулок, дом 3-5</td>\n",
       "      <td>12</td>\n",
       "    </tr>\n",
       "    <tr>\n",
       "      <td>579</td>\n",
       "      <td>149227</td>\n",
       "      <td>Общественное питание</td>\n",
       "      <td>нет</td>\n",
       "      <td>столовая</td>\n",
       "      <td>город Москва, Павелецкая площадь, дом 1</td>\n",
       "      <td>70</td>\n",
       "    </tr>\n",
       "    <tr>\n",
       "      <td>580</td>\n",
       "      <td>149205</td>\n",
       "      <td>Общественное питание</td>\n",
       "      <td>нет</td>\n",
       "      <td>кафе</td>\n",
       "      <td>город Москва, Павелецкая площадь, дом 1</td>\n",
       "      <td>35</td>\n",
       "    </tr>\n",
       "    <tr>\n",
       "      <td>581</td>\n",
       "      <td>149131</td>\n",
       "      <td>Общественное питание</td>\n",
       "      <td>нет</td>\n",
       "      <td>кафе</td>\n",
       "      <td>город Москва, Павелецкая площадь, дом 1</td>\n",
       "      <td>39</td>\n",
       "    </tr>\n",
       "  </tbody>\n",
       "</table>\n",
       "</div>"
      ],
      "text/plain": [
       "         id                           object_name chain object_type  \\\n",
       "114  28613   КОМБИНАТ ПИТАНИЯ МГТУ ИМ.Н.Э.БАУМАНА  нет   закусочная   \n",
       "115  28614   КОМБИНАТ ПИТАНИЯ МГТУ ИМ.Н.Э.БАУМАНА  нет   буфет        \n",
       "579  149227  Общественное питание                  нет   столовая     \n",
       "580  149205  Общественное питание                  нет   кафе         \n",
       "581  149131  Общественное питание                  нет   кафе         \n",
       "\n",
       "                                          address  number  \n",
       "114  город Москва, Бригадирский переулок, дом 3-5  216     \n",
       "115  город Москва, Бригадирский переулок, дом 3-5  12      \n",
       "579  город Москва, Павелецкая площадь, дом 1       70      \n",
       "580  город Москва, Павелецкая площадь, дом 1       35      \n",
       "581  город Москва, Павелецкая площадь, дом 1       39      "
      ]
     },
     "execution_count": 6,
     "metadata": {},
     "output_type": "execute_result"
    }
   ],
   "source": [
    "dupl_name = rest_data[rest_data[['object_name','address']].duplicated()]\n",
    "dupl_name.head()"
   ]
  },
  {
   "cell_type": "code",
   "execution_count": 7,
   "metadata": {},
   "outputs": [
    {
     "name": "stdout",
     "output_type": "stream",
     "text": [
      "Количество дублирующихся заведений по адресу: 207\n"
     ]
    }
   ],
   "source": [
    "print(\"Количество дублирующихся заведений по адресу:\",dupl_name.shape[0])"
   ]
  },
  {
   "cell_type": "markdown",
   "metadata": {},
   "source": [
    "Такие дубликаты есть, их количество 207. Вероятно, какие-то заведение прошли перерегистрацию в качестве другой категории объекта, а записи о старой категории не удалили. Предлагаем оставить те из них, у которых id будет с большим номером, т.к. более новые сведения. Выделим список старых id:"
   ]
  },
  {
   "cell_type": "code",
   "execution_count": 8,
   "metadata": {},
   "outputs": [
    {
     "data": {
      "text/plain": [
       "87"
      ]
     },
     "execution_count": 8,
     "metadata": {},
     "output_type": "execute_result"
    }
   ],
   "source": [
    "new_ids = dupl_name.groupby('object_name')['id'].max().reset_index()['id']\n",
    "new_ids.shape[0]"
   ]
  },
  {
   "cell_type": "code",
   "execution_count": 9,
   "metadata": {},
   "outputs": [
    {
     "data": {
      "text/plain": [
       "15279"
      ]
     },
     "execution_count": 9,
     "metadata": {},
     "output_type": "execute_result"
    }
   ],
   "source": [
    "old_ids = rest_data[~rest_data['id'].isin(new_ids)].reset_index()['id']\n",
    "old_ids.shape[0]"
   ]
  },
  {
   "cell_type": "code",
   "execution_count": 10,
   "metadata": {},
   "outputs": [
    {
     "data": {
      "text/plain": [
       "(15279, 6)"
      ]
     },
     "execution_count": 10,
     "metadata": {},
     "output_type": "execute_result"
    }
   ],
   "source": [
    "rest_data = rest_data.loc[rest_data['id'].isin(old_ids)]\n",
    "rest_data.shape"
   ]
  },
  {
   "cell_type": "markdown",
   "metadata": {},
   "source": [
    "Дубликаты удалены."
   ]
  },
  {
   "cell_type": "markdown",
   "metadata": {},
   "source": [
    "Для лучшей читаемости на графиках заменим сочетание \"предприятие быстрого обслуживания\" на \"экспресс\", \"магазин (отдел кулинарии)\" на \"кулинария\":"
   ]
  },
  {
   "cell_type": "code",
   "execution_count": 11,
   "metadata": {},
   "outputs": [],
   "source": [
    "rest_data['object_type'] = rest_data['object_type'].replace(\n",
    "    {'магазин (отдел кулинарии)':'кулинария', 'предприятие быстрого обслуживания':'экспресс'})"
   ]
  },
  {
   "cell_type": "markdown",
   "metadata": {},
   "source": [
    "Проверим качественный и количественный состав данных:"
   ]
  },
  {
   "cell_type": "code",
   "execution_count": 12,
   "metadata": {},
   "outputs": [
    {
     "name": "stdout",
     "output_type": "stream",
     "text": [
      "<class 'pandas.core.frame.DataFrame'>\n",
      "Int64Index: 15279 entries, 0 to 15364\n",
      "Data columns (total 6 columns):\n",
      "id             15279 non-null int64\n",
      "object_name    15279 non-null object\n",
      "chain          15279 non-null object\n",
      "object_type    15279 non-null object\n",
      "address        15279 non-null object\n",
      "number         15279 non-null int64\n",
      "dtypes: int64(2), object(4)\n",
      "memory usage: 835.6+ KB\n"
     ]
    }
   ],
   "source": [
    "rest_data.info()"
   ]
  },
  {
   "cell_type": "markdown",
   "metadata": {},
   "source": [
    "Как видим, пропусков нет, типы данных верны."
   ]
  },
  {
   "cell_type": "markdown",
   "metadata": {},
   "source": [
    "Поссмотрим на цифровые показатели по количеству мест:"
   ]
  },
  {
   "cell_type": "code",
   "execution_count": 13,
   "metadata": {},
   "outputs": [
    {
     "data": {
      "text/plain": [
       "count    15279.000000\n",
       "mean     59.686891   \n",
       "std      74.852279   \n",
       "min      0.000000    \n",
       "25%      13.000000   \n",
       "50%      40.000000   \n",
       "75%      80.000000   \n",
       "max      1700.000000 \n",
       "Name: number, dtype: float64"
      ]
     },
     "execution_count": 13,
     "metadata": {},
     "output_type": "execute_result"
    }
   ],
   "source": [
    "rest_data['number'].describe()"
   ]
  },
  {
   "cell_type": "markdown",
   "metadata": {},
   "source": [
    "Ничего подозрительного не видно."
   ]
  },
  {
   "cell_type": "markdown",
   "metadata": {},
   "source": [
    "**На этом подготовка данных завершена**"
   ]
  },
  {
   "cell_type": "markdown",
   "metadata": {},
   "source": [
    "# 2. Анализ данных <a class=\"anchor\" id=\"second-bullet\"></a>"
   ]
  },
  {
   "cell_type": "markdown",
   "metadata": {},
   "source": [
    "**Задачи:**\n",
    "- Исследуйте соотношение видов объектов общественного питания по количеству. Постройте график.\n",
    "- Исследуйте соотношение сетевых и несетевых заведений по количеству. Постройте график.\n",
    "- Для какого вида объекта общественного питания характерно сетевое распространение?\n",
    "- Что характерно для сетевых заведений: много заведений с небольшим числом посадочных мест в каждом или мало заведений с большим количеством посадочных мест?\n",
    "- Для каждого вида объекта общественного питания опишите среднее количество посадочных мест. Какой вид предоставляет в среднем самое большое количество посадочных мест? Постройте графики.\n",
    "- Выделите в отдельный столбец информацию об улице из столбца address .\n",
    "- Постройте график топ-10 улиц по количеству объектов общественного питания. Воспользуйтесь внешней информацией и ответьте на вопрос — в каких районах Москвы находятся эти улицы?\n",
    "- Найдите число улиц с одним объектом общественного питания. Воспользуйтесь внешней информацией и ответьте на вопрос — в каких районах Москвы находятся эти улицы?\n",
    "- Посмотрите на распределение количества посадочных мест для улиц с большим количеством объектов общественного питания. Какие закономерности можно выявить?"
   ]
  },
  {
   "cell_type": "markdown",
   "metadata": {},
   "source": [
    "### Соотношение видов объектов общественного питания по количеству:"
   ]
  },
  {
   "cell_type": "code",
   "execution_count": 14,
   "metadata": {},
   "outputs": [
    {
     "name": "stdout",
     "output_type": "stream",
     "text": [
      "  object_type    id\n",
      "3  кафе        6062\n",
      "7  столовая    2579\n",
      "6  ресторан    2276\n",
      "8  экспресс    1909\n",
      "0  бар         852 \n",
      "1  буфет       577 \n",
      "4  кафетерий   396 \n",
      "2  закусочная  356 \n",
      "5  кулинария   272 \n"
     ]
    }
   ],
   "source": [
    "rest_data_group_by_type = rest_data.groupby('object_type')['id'].nunique().reset_index().sort_values(by='id', ascending=False)\n",
    "print(rest_data_group_by_type)"
   ]
  },
  {
   "cell_type": "markdown",
   "metadata": {},
   "source": [
    "Соотношение будет показательно на круговой и столбчатой диаграмме:"
   ]
  },
  {
   "cell_type": "code",
   "execution_count": 16,
   "metadata": {},
   "outputs": [
    {
     "data": {
      "image/png": "[encoded data removed]",
      "text/plain": [
       "<Figure size 1080x432 with 2 Axes>"
      ]
     },
     "metadata": {
      "needs_background": "light"
     },
     "output_type": "display_data"
    }
   ],
   "source": [
    "fig, (ax1, ax2) = plt.subplots(1, 2, figsize = (15,6))\n",
    "\n",
    "fig.suptitle('Соотношение видов объектов общественного питания по количеству',fontsize=15)\n",
    "data = rest_data_group_by_type['id']\n",
    "labels = rest_data_group_by_type['object_type']\n",
    "explode = (0.02, 0, 0, 0, 0, 0, 0, 0, 0)\n",
    "colors = sns.color_palette('deep')[0:9]\n",
    "ax1.pie(data, \n",
    "        labels = labels, \n",
    "        colors = colors, \n",
    "        autopct='%.0f%%', \n",
    "        startangle=80, \n",
    "        explode=explode, \n",
    "        shadow=True,\n",
    "       textprops={'fontsize': 11})\n",
    "\n",
    "ax2 = sns.barplot(x='id', y='object_type', \n",
    "                  data=rest_data_group_by_type.sort_values(by='id', ascending=False), palette=\"deep\")\n",
    "\n",
    "plt.xlabel('Количество заведений')\n",
    "plt.ylabel('')\n",
    "plt.box(False)\n",
    "\n",
    "plt.show()"
   ]
  },
  {
   "cell_type": "markdown",
   "metadata": {},
   "source": [
    "### Соотношение сетевых и несетевых заведений по количеству"
   ]
  },
  {
   "cell_type": "code",
   "execution_count": 17,
   "metadata": {},
   "outputs": [
    {
     "name": "stdout",
     "output_type": "stream",
     "text": [
      "  chain     id\n",
      "0  да    2951 \n",
      "1  нет   12328\n"
     ]
    }
   ],
   "source": [
    "rest_data_group_by_chain = rest_data.groupby('chain')['id'].nunique().reset_index()\n",
    "print(rest_data_group_by_chain)"
   ]
  },
  {
   "cell_type": "code",
   "execution_count": 18,
   "metadata": {
    "scrolled": true
   },
   "outputs": [
    {
     "data": {
      "image/png": "[encoded data removed]",
      "text/plain": [
       "<Figure size 1080x288 with 2 Axes>"
      ]
     },
     "metadata": {
      "needs_background": "light"
     },
     "output_type": "display_data"
    }
   ],
   "source": [
    "fig, (ax1, ax2) = plt.subplots(1, 2, figsize = (15,4))\n",
    "\n",
    "fig.suptitle('Соотношение сетевых и несетевых заведений по количеству',fontsize=15)\n",
    "data = rest_data_group_by_chain['id']\n",
    "explode = (0.02, 0)\n",
    "labels = ['сетевые', 'несетевые']\n",
    "colors = sns.color_palette('deep')[0:2]\n",
    "ax1.pie(data, \n",
    "        labels = labels, \n",
    "        colors = colors, \n",
    "        autopct='%.0f%%', \n",
    "        startangle=90, \n",
    "        explode=explode, \n",
    "        shadow=True,\n",
    "        textprops={'fontsize': 11})\n",
    "\n",
    "ax2 = sns.barplot(x='id', y='chain', data=rest_data_group_by_chain.sort_values(by='id', ascending=True), palette=\"deep\")\n",
    "ax2 = ax2.set_yticklabels(['сетевые', 'несетевые'])\n",
    "\n",
    "plt.xlabel('Количество заведений')\n",
    "plt.ylabel('')\n",
    "plt.box(False)\n",
    "\n",
    "plt.show()"
   ]
  },
  {
   "cell_type": "markdown",
   "metadata": {},
   "source": [
    "### Для какого вида объекта общественного питания характерно сетевое распространение?"
   ]
  },
  {
   "cell_type": "markdown",
   "metadata": {},
   "source": [
    "Для ответа на этот вопрос сделаем справочную таблицу id по сетевому / несетевому характеру заведения и количеству:"
   ]
  },
  {
   "cell_type": "code",
   "execution_count": 19,
   "metadata": {},
   "outputs": [
    {
     "name": "stdout",
     "output_type": "stream",
     "text": [
      "   object_type chain    id\n",
      "0   кафе        нет   4675\n",
      "1   столовая    нет   2576\n",
      "2   ресторан    нет   1734\n",
      "3   кафе        да    1387\n",
      "4   экспресс    нет   1123\n",
      "5   бар         нет   815 \n",
      "6   экспресс    да    786 \n",
      "7   буфет       нет   567 \n",
      "8   ресторан    да    542 \n",
      "9   кафетерий   нет   344 \n",
      "10  закусочная  нет   300 \n",
      "11  кулинария   нет   194 \n",
      "12  кулинария   да    78  \n",
      "13  закусочная  да    56  \n",
      "14  кафетерий   да    52  \n",
      "15  бар         да    37  \n",
      "16  буфет       да    10  \n",
      "17  столовая    да    3   \n"
     ]
    }
   ],
   "source": [
    "rest_data_chain = rest_data.groupby(['object_type','chain'])['id'].nunique()\n",
    "rest_data_chain = rest_data_chain.sort_values(ascending=False).reset_index()\n",
    "print(rest_data_chain)"
   ]
  },
  {
   "cell_type": "markdown",
   "metadata": {},
   "source": [
    "Строим график. Подойдет категорийная столбчатая диаграмма:"
   ]
  },
  {
   "cell_type": "code",
   "execution_count": 20,
   "metadata": {},
   "outputs": [
    {
     "data": {
      "image/png": "[encoded data removed]",
      "text/plain": [
       "<Figure size 774.5x360 with 1 Axes>"
      ]
     },
     "metadata": {
      "needs_background": "light"
     },
     "output_type": "display_data"
    }
   ],
   "source": [
    "g = sns.factorplot(\n",
    "    x='id', y='object_type', hue='chain', data=rest_data_chain, kind='bar', height=5, aspect=2)\n",
    "\n",
    "plt.xlabel('Количество заведений')\n",
    "plt.ylabel('')\n",
    "plt.grid(False)\n",
    "plt.box(False)\n",
    "g._legend.set_title(\"Сетевое:\")\n",
    "\n",
    "plt.title('Соотношение сетевых и несетевых заведений по типу заведения',fontsize=15)\n",
    "plt.show()"
   ]
  },
  {
   "cell_type": "markdown",
   "metadata": {},
   "source": [
    "**Из расчетов и графика мы видим, что среди сетевых пунктов общественного питания лидируют `кафе и пункты быстрого питания` (экспресс) и `рестораны` и практически отсутствуют `столовые и буфеты`. Для несетевых же особенно характерно кафе, столовые, рестораны.**\n",
    "\n",
    "**То есть, кафе лидируют в обоих случаях.**"
   ]
  },
  {
   "cell_type": "markdown",
   "metadata": {},
   "source": [
    "### Что характерно для сетевых заведений: много заведений с небольшим числом посадочных мест в каждом или мало заведений с большим количеством посадочных мест?"
   ]
  },
  {
   "cell_type": "markdown",
   "metadata": {},
   "source": [
    "Для отображения данной информации поможет гистограмма. Сначала отфильтруем данные:"
   ]
  },
  {
   "cell_type": "code",
   "execution_count": 21,
   "metadata": {},
   "outputs": [
    {
     "data": {
      "text/html": [
       "<div>\n",
       "<style scoped>\n",
       "    .dataframe tbody tr th:only-of-type {\n",
       "        vertical-align: middle;\n",
       "    }\n",
       "\n",
       "    .dataframe tbody tr th {\n",
       "        vertical-align: top;\n",
       "    }\n",
       "\n",
       "    .dataframe thead th {\n",
       "        text-align: right;\n",
       "    }\n",
       "</style>\n",
       "<table border=\"1\" class=\"dataframe\">\n",
       "  <thead>\n",
       "    <tr style=\"text-align: right;\">\n",
       "      <th></th>\n",
       "      <th>id</th>\n",
       "      <th>object_name</th>\n",
       "      <th>chain</th>\n",
       "      <th>object_type</th>\n",
       "      <th>address</th>\n",
       "      <th>number</th>\n",
       "    </tr>\n",
       "  </thead>\n",
       "  <tbody>\n",
       "    <tr>\n",
       "      <td>3</td>\n",
       "      <td>21894</td>\n",
       "      <td>ПИЦЦЕТОРИЯ</td>\n",
       "      <td>да</td>\n",
       "      <td>кафе</td>\n",
       "      <td>город Москва, Абрамцевская улица, дом 1</td>\n",
       "      <td>40</td>\n",
       "    </tr>\n",
       "    <tr>\n",
       "      <td>6</td>\n",
       "      <td>148815</td>\n",
       "      <td>Брусника</td>\n",
       "      <td>да</td>\n",
       "      <td>кафе</td>\n",
       "      <td>город Москва, переулок Сивцев Вражек, дом 6/2</td>\n",
       "      <td>10</td>\n",
       "    </tr>\n",
       "    <tr>\n",
       "      <td>13</td>\n",
       "      <td>22579</td>\n",
       "      <td>Алло Пицца</td>\n",
       "      <td>да</td>\n",
       "      <td>кафе</td>\n",
       "      <td>город Москва, улица Авиаторов, дом 14</td>\n",
       "      <td>32</td>\n",
       "    </tr>\n",
       "    <tr>\n",
       "      <td>16</td>\n",
       "      <td>144107</td>\n",
       "      <td>Суши Wok</td>\n",
       "      <td>да</td>\n",
       "      <td>экспресс</td>\n",
       "      <td>город Москва, Азовская улица, дом 3</td>\n",
       "      <td>7</td>\n",
       "    </tr>\n",
       "    <tr>\n",
       "      <td>18</td>\n",
       "      <td>58565</td>\n",
       "      <td>Тануки</td>\n",
       "      <td>да</td>\n",
       "      <td>ресторан</td>\n",
       "      <td>город Москва, Большая Академическая улица, дом 65</td>\n",
       "      <td>160</td>\n",
       "    </tr>\n",
       "  </tbody>\n",
       "</table>\n",
       "</div>"
      ],
      "text/plain": [
       "        id object_name chain object_type  \\\n",
       "3   21894   ПИЦЦЕТОРИЯ  да    кафе         \n",
       "6   148815  Брусника    да    кафе         \n",
       "13  22579   Алло Пицца  да    кафе         \n",
       "16  144107  Суши Wok    да    экспресс     \n",
       "18  58565   Тануки      да    ресторан     \n",
       "\n",
       "                                              address  number  \n",
       "3   город Москва, Абрамцевская улица, дом 1            40      \n",
       "6   город Москва, переулок Сивцев Вражек, дом 6/2      10      \n",
       "13  город Москва, улица Авиаторов, дом 14              32      \n",
       "16  город Москва, Азовская улица, дом 3                7       \n",
       "18  город Москва, Большая Академическая улица, дом 65  160     "
      ]
     },
     "execution_count": 21,
     "metadata": {},
     "output_type": "execute_result"
    }
   ],
   "source": [
    "rest_data_chain_seats = rest_data.query('chain == \"да\"')\n",
    "rest_data_chain_seats.head()"
   ]
  },
  {
   "cell_type": "markdown",
   "metadata": {},
   "source": [
    "Строим график:"
   ]
  },
  {
   "cell_type": "code",
   "execution_count": 22,
   "metadata": {},
   "outputs": [
    {
     "data": {
      "image/png": "[encoded data removed]",
      "text/plain": [
       "<Figure size 432x288 with 1 Axes>"
      ]
     },
     "metadata": {
      "needs_background": "light"
     },
     "output_type": "display_data"
    }
   ],
   "source": [
    "fig, ax = plt.subplots()\n",
    "sns.set(style=\"darkgrid\")\n",
    "sns.distplot(rest_data_chain_seats['number'], bins=15)\n",
    "plt.box(False)\n",
    "plt.grid(False)\n",
    "ax.set_xlim(0,300)\n",
    "plt.xlabel('Количество мест в заведении')\n",
    "plt.ylabel('Количество заведений, тыс.')\n",
    "plt.title(\"Распределение сетевых заведений по количеству мест\", fontsize='15');"
   ]
  },
  {
   "cell_type": "markdown",
   "metadata": {},
   "source": [
    "**Как видим из графика, характерно `большее количество заведений с небольшим числом посадочных мест`.**"
   ]
  },
  {
   "cell_type": "markdown",
   "metadata": {},
   "source": [
    "###  Какой вид объектов общественного питания предоставляет в среднем самое большое количество посадочных мест?"
   ]
  },
  {
   "cell_type": "markdown",
   "metadata": {},
   "source": [
    "Посчитаем среднее количество посадочных мест по видам объектов общественного питания:"
   ]
  },
  {
   "cell_type": "code",
   "execution_count": 23,
   "metadata": {},
   "outputs": [],
   "source": [
    "rest_data_group_by_type_mean = rest_data.groupby('object_type')['number'].mean().sort_values(ascending=False).reset_index()"
   ]
  },
  {
   "cell_type": "markdown",
   "metadata": {},
   "source": [
    "Построим график, в данном случае подойдет столбчатая диаграмма. Поскольку значения сильно разнятся, лучше представить ее в горизонтальном виде:"
   ]
  },
  {
   "cell_type": "code",
   "execution_count": 24,
   "metadata": {},
   "outputs": [
    {
     "data": {
      "image/png": "[encoded data removed]",
      "text/plain": [
       "<Figure size 432x288 with 1 Axes>"
      ]
     },
     "metadata": {},
     "output_type": "display_data"
    }
   ],
   "source": [
    "sns.barplot(x='number', y='object_type', data=rest_data_group_by_type_mean, estimator=median)\n",
    "plt.box(False)\n",
    "plt.grid(False)\n",
    "plt.xlabel('Количество посадочных мест в заведении')\n",
    "plt.ylabel('Тип заведения')\n",
    "plt.title(\"Среднее количество мест в заведениях разного типа\", fontsize='15');"
   ]
  },
  {
   "cell_type": "markdown",
   "metadata": {},
   "source": [
    "**Как мы видим, по показателю среднего количества посадочных мест `лидирует категория \"столовых\"`.**"
   ]
  },
  {
   "cell_type": "markdown",
   "metadata": {},
   "source": [
    "### Выделите в отдельный столбец информацию об улице из столбца address."
   ]
  },
  {
   "cell_type": "code",
   "execution_count": 25,
   "metadata": {},
   "outputs": [
    {
     "data": {
      "text/html": [
       "<div>\n",
       "<style scoped>\n",
       "    .dataframe tbody tr th:only-of-type {\n",
       "        vertical-align: middle;\n",
       "    }\n",
       "\n",
       "    .dataframe tbody tr th {\n",
       "        vertical-align: top;\n",
       "    }\n",
       "\n",
       "    .dataframe thead th {\n",
       "        text-align: right;\n",
       "    }\n",
       "</style>\n",
       "<table border=\"1\" class=\"dataframe\">\n",
       "  <thead>\n",
       "    <tr style=\"text-align: right;\">\n",
       "      <th></th>\n",
       "      <th>id</th>\n",
       "      <th>object_name</th>\n",
       "      <th>chain</th>\n",
       "      <th>object_type</th>\n",
       "      <th>address</th>\n",
       "      <th>number</th>\n",
       "    </tr>\n",
       "  </thead>\n",
       "  <tbody>\n",
       "    <tr>\n",
       "      <td>0</td>\n",
       "      <td>151635</td>\n",
       "      <td>СМЕТАНА</td>\n",
       "      <td>нет</td>\n",
       "      <td>кафе</td>\n",
       "      <td>город Москва, улица Егора Абакумова, дом 9</td>\n",
       "      <td>48</td>\n",
       "    </tr>\n",
       "    <tr>\n",
       "      <td>1</td>\n",
       "      <td>77874</td>\n",
       "      <td>Родник</td>\n",
       "      <td>нет</td>\n",
       "      <td>кафе</td>\n",
       "      <td>город Москва, улица Талалихина, дом 2/1, корпус 1</td>\n",
       "      <td>35</td>\n",
       "    </tr>\n",
       "    <tr>\n",
       "      <td>2</td>\n",
       "      <td>24309</td>\n",
       "      <td>Кафе «Академия»</td>\n",
       "      <td>нет</td>\n",
       "      <td>кафе</td>\n",
       "      <td>город Москва, Абельмановская улица, дом 6</td>\n",
       "      <td>95</td>\n",
       "    </tr>\n",
       "    <tr>\n",
       "      <td>3</td>\n",
       "      <td>21894</td>\n",
       "      <td>ПИЦЦЕТОРИЯ</td>\n",
       "      <td>да</td>\n",
       "      <td>кафе</td>\n",
       "      <td>город Москва, Абрамцевская улица, дом 1</td>\n",
       "      <td>40</td>\n",
       "    </tr>\n",
       "    <tr>\n",
       "      <td>4</td>\n",
       "      <td>119365</td>\n",
       "      <td>Кафе «Вишневая метель»</td>\n",
       "      <td>нет</td>\n",
       "      <td>кафе</td>\n",
       "      <td>город Москва, Абрамцевская улица, дом 9, корпус 1</td>\n",
       "      <td>50</td>\n",
       "    </tr>\n",
       "  </tbody>\n",
       "</table>\n",
       "</div>"
      ],
      "text/plain": [
       "       id             object_name chain object_type  \\\n",
       "0  151635  СМЕТАНА                 нет   кафе         \n",
       "1  77874   Родник                  нет   кафе         \n",
       "2  24309   Кафе «Академия»         нет   кафе         \n",
       "3  21894   ПИЦЦЕТОРИЯ              да    кафе         \n",
       "4  119365  Кафе «Вишневая метель»  нет   кафе         \n",
       "\n",
       "                                             address  number  \n",
       "0  город Москва, улица Егора Абакумова, дом 9         48      \n",
       "1  город Москва, улица Талалихина, дом 2/1, корпус 1  35      \n",
       "2  город Москва, Абельмановская улица, дом 6          95      \n",
       "3  город Москва, Абрамцевская улица, дом 1            40      \n",
       "4  город Москва, Абрамцевская улица, дом 9, корпус 1  50      "
      ]
     },
     "execution_count": 25,
     "metadata": {},
     "output_type": "execute_result"
    }
   ],
   "source": [
    "rest_data_street = rest_data.copy()\n",
    "rest_data_street.head()"
   ]
  },
  {
   "cell_type": "markdown",
   "metadata": {},
   "source": [
    "Сначала уберем упоминание города Москва и других замеченных населенных пунктов:"
   ]
  },
  {
   "cell_type": "code",
   "execution_count": 26,
   "metadata": {},
   "outputs": [
    {
     "data": {
      "text/html": [
       "<div>\n",
       "<style scoped>\n",
       "    .dataframe tbody tr th:only-of-type {\n",
       "        vertical-align: middle;\n",
       "    }\n",
       "\n",
       "    .dataframe tbody tr th {\n",
       "        vertical-align: top;\n",
       "    }\n",
       "\n",
       "    .dataframe thead th {\n",
       "        text-align: right;\n",
       "    }\n",
       "</style>\n",
       "<table border=\"1\" class=\"dataframe\">\n",
       "  <thead>\n",
       "    <tr style=\"text-align: right;\">\n",
       "      <th></th>\n",
       "      <th>id</th>\n",
       "      <th>object_name</th>\n",
       "      <th>chain</th>\n",
       "      <th>object_type</th>\n",
       "      <th>address</th>\n",
       "      <th>number</th>\n",
       "    </tr>\n",
       "  </thead>\n",
       "  <tbody>\n",
       "    <tr>\n",
       "      <td>0</td>\n",
       "      <td>151635</td>\n",
       "      <td>СМЕТАНА</td>\n",
       "      <td>нет</td>\n",
       "      <td>кафе</td>\n",
       "      <td>улица Егора Абакумова, дом 9</td>\n",
       "      <td>48</td>\n",
       "    </tr>\n",
       "    <tr>\n",
       "      <td>1</td>\n",
       "      <td>77874</td>\n",
       "      <td>Родник</td>\n",
       "      <td>нет</td>\n",
       "      <td>кафе</td>\n",
       "      <td>улица Талалихина, дом 2/1, корпус 1</td>\n",
       "      <td>35</td>\n",
       "    </tr>\n",
       "    <tr>\n",
       "      <td>2</td>\n",
       "      <td>24309</td>\n",
       "      <td>Кафе «Академия»</td>\n",
       "      <td>нет</td>\n",
       "      <td>кафе</td>\n",
       "      <td>Абельмановская улица, дом 6</td>\n",
       "      <td>95</td>\n",
       "    </tr>\n",
       "    <tr>\n",
       "      <td>3</td>\n",
       "      <td>21894</td>\n",
       "      <td>ПИЦЦЕТОРИЯ</td>\n",
       "      <td>да</td>\n",
       "      <td>кафе</td>\n",
       "      <td>Абрамцевская улица, дом 1</td>\n",
       "      <td>40</td>\n",
       "    </tr>\n",
       "    <tr>\n",
       "      <td>4</td>\n",
       "      <td>119365</td>\n",
       "      <td>Кафе «Вишневая метель»</td>\n",
       "      <td>нет</td>\n",
       "      <td>кафе</td>\n",
       "      <td>Абрамцевская улица, дом 9, корпус 1</td>\n",
       "      <td>50</td>\n",
       "    </tr>\n",
       "  </tbody>\n",
       "</table>\n",
       "</div>"
      ],
      "text/plain": [
       "       id             object_name chain object_type  \\\n",
       "0  151635  СМЕТАНА                 нет   кафе         \n",
       "1  77874   Родник                  нет   кафе         \n",
       "2  24309   Кафе «Академия»         нет   кафе         \n",
       "3  21894   ПИЦЦЕТОРИЯ              да    кафе         \n",
       "4  119365  Кафе «Вишневая метель»  нет   кафе         \n",
       "\n",
       "                                address  number  \n",
       "0   улица Егора Абакумова, дом 9         48      \n",
       "1   улица Талалихина, дом 2/1, корпус 1  35      \n",
       "2   Абельмановская улица, дом 6          95      \n",
       "3   Абрамцевская улица, дом 1            40      \n",
       "4   Абрамцевская улица, дом 9, корпус 1  50      "
      ]
     },
     "execution_count": 26,
     "metadata": {},
     "output_type": "execute_result"
    }
   ],
   "source": [
    "rest_data_street['address'] = rest_data_street['address'].replace(regex=['город Москва,'],value='')\n",
    "rest_data_street['address'] = rest_data_street['address'].replace(regex=['поселение Московский,'],value='')\n",
    "rest_data_street['address'] = rest_data_street['address'].replace(regex=['город Зеленоград,'],value='')\n",
    "rest_data_street['address'] = rest_data_street['address'].replace(regex=['поселение Сосенское,'],value='')\n",
    "rest_data_street.head()"
   ]
  },
  {
   "cell_type": "markdown",
   "metadata": {},
   "source": [
    "Теперь применим lambda функцию для выделения первого фрагмента текста:"
   ]
  },
  {
   "cell_type": "code",
   "execution_count": 27,
   "metadata": {},
   "outputs": [
    {
     "data": {
      "text/html": [
       "<div>\n",
       "<style scoped>\n",
       "    .dataframe tbody tr th:only-of-type {\n",
       "        vertical-align: middle;\n",
       "    }\n",
       "\n",
       "    .dataframe tbody tr th {\n",
       "        vertical-align: top;\n",
       "    }\n",
       "\n",
       "    .dataframe thead th {\n",
       "        text-align: right;\n",
       "    }\n",
       "</style>\n",
       "<table border=\"1\" class=\"dataframe\">\n",
       "  <thead>\n",
       "    <tr style=\"text-align: right;\">\n",
       "      <th></th>\n",
       "      <th>id</th>\n",
       "      <th>object_name</th>\n",
       "      <th>chain</th>\n",
       "      <th>object_type</th>\n",
       "      <th>address</th>\n",
       "      <th>number</th>\n",
       "      <th>street</th>\n",
       "    </tr>\n",
       "  </thead>\n",
       "  <tbody>\n",
       "    <tr>\n",
       "      <td>0</td>\n",
       "      <td>151635</td>\n",
       "      <td>СМЕТАНА</td>\n",
       "      <td>нет</td>\n",
       "      <td>кафе</td>\n",
       "      <td>улица Егора Абакумова, дом 9</td>\n",
       "      <td>48</td>\n",
       "      <td>улица Егора Абакумова</td>\n",
       "    </tr>\n",
       "    <tr>\n",
       "      <td>1</td>\n",
       "      <td>77874</td>\n",
       "      <td>Родник</td>\n",
       "      <td>нет</td>\n",
       "      <td>кафе</td>\n",
       "      <td>улица Талалихина, дом 2/1, корпус 1</td>\n",
       "      <td>35</td>\n",
       "      <td>улица Талалихина</td>\n",
       "    </tr>\n",
       "    <tr>\n",
       "      <td>2</td>\n",
       "      <td>24309</td>\n",
       "      <td>Кафе «Академия»</td>\n",
       "      <td>нет</td>\n",
       "      <td>кафе</td>\n",
       "      <td>Абельмановская улица, дом 6</td>\n",
       "      <td>95</td>\n",
       "      <td>Абельмановская улица</td>\n",
       "    </tr>\n",
       "    <tr>\n",
       "      <td>3</td>\n",
       "      <td>21894</td>\n",
       "      <td>ПИЦЦЕТОРИЯ</td>\n",
       "      <td>да</td>\n",
       "      <td>кафе</td>\n",
       "      <td>Абрамцевская улица, дом 1</td>\n",
       "      <td>40</td>\n",
       "      <td>Абрамцевская улица</td>\n",
       "    </tr>\n",
       "    <tr>\n",
       "      <td>4</td>\n",
       "      <td>119365</td>\n",
       "      <td>Кафе «Вишневая метель»</td>\n",
       "      <td>нет</td>\n",
       "      <td>кафе</td>\n",
       "      <td>Абрамцевская улица, дом 9, корпус 1</td>\n",
       "      <td>50</td>\n",
       "      <td>Абрамцевская улица</td>\n",
       "    </tr>\n",
       "  </tbody>\n",
       "</table>\n",
       "</div>"
      ],
      "text/plain": [
       "       id             object_name chain object_type  \\\n",
       "0  151635  СМЕТАНА                 нет   кафе         \n",
       "1  77874   Родник                  нет   кафе         \n",
       "2  24309   Кафе «Академия»         нет   кафе         \n",
       "3  21894   ПИЦЦЕТОРИЯ              да    кафе         \n",
       "4  119365  Кафе «Вишневая метель»  нет   кафе         \n",
       "\n",
       "                                address  number                  street  \n",
       "0   улица Егора Абакумова, дом 9         48       улица Егора Абакумова  \n",
       "1   улица Талалихина, дом 2/1, корпус 1  35       улица Талалихина       \n",
       "2   Абельмановская улица, дом 6          95       Абельмановская улица   \n",
       "3   Абрамцевская улица, дом 1            40       Абрамцевская улица     \n",
       "4   Абрамцевская улица, дом 9, корпус 1  50       Абрамцевская улица     "
      ]
     },
     "execution_count": 27,
     "metadata": {},
     "output_type": "execute_result"
    }
   ],
   "source": [
    "rest_data_street['street'] = rest_data_street['address'].apply(lambda x: x.split(\",\")[0])\n",
    "rest_data_street.head()"
   ]
  },
  {
   "cell_type": "markdown",
   "metadata": {},
   "source": [
    "Проверим уникальность названий: возможно, присутствуют названия, где слово \"улица\" может быть как в начале, так и в конце:"
   ]
  },
  {
   "cell_type": "code",
   "execution_count": 28,
   "metadata": {},
   "outputs": [
    {
     "name": "stdout",
     "output_type": "stream",
     "text": [
      "2057\n"
     ]
    }
   ],
   "source": [
    "print(rest_data_street['street'].nunique())"
   ]
  },
  {
   "cell_type": "markdown",
   "metadata": {},
   "source": [
    "Удалим слово \"улица\" и некоторые другие похожие названия, проверим количество после изменения:"
   ]
  },
  {
   "cell_type": "code",
   "execution_count": 29,
   "metadata": {},
   "outputs": [
    {
     "name": "stdout",
     "output_type": "stream",
     "text": [
      "1998\n"
     ]
    }
   ],
   "source": [
    "rest_data_copy_temp = rest_data_street.copy()\n",
    "rest_data_copy_temp['street'] = rest_data_copy_temp['street'].replace(regex=['улица'],value='')\n",
    "rest_data_copy_temp['street'] = rest_data_copy_temp['street'].replace(regex=['шоссе'],value='')\n",
    "rest_data_copy_temp['street'] = rest_data_copy_temp['street'].replace(regex=['переулок'],value='')\n",
    "rest_data_copy_temp['street'] = rest_data_copy_temp['street'].replace(regex=['проезд'],value='')\n",
    "rest_data_copy_temp['street'] = rest_data_copy_temp['street'].apply(lambda x: x.strip())\n",
    "print(rest_data_copy_temp['street'].nunique())"
   ]
  },
  {
   "cell_type": "markdown",
   "metadata": {},
   "source": [
    "Количество названий уменьшилось, но незначительно, поэтому будем игнорировать вероятность неявных дубликатов и остановимся на файле rest_data_street."
   ]
  },
  {
   "cell_type": "markdown",
   "metadata": {},
   "source": [
    "### Постройте график топ-10 улиц по количеству объектов общественного питания. Воспользуйтесь внешней информацией и ответьте на вопрос — в каких районах Москвы находятся эти улицы?"
   ]
  },
  {
   "cell_type": "code",
   "execution_count": 30,
   "metadata": {},
   "outputs": [
    {
     "data": {
      "text/html": [
       "<div>\n",
       "<style scoped>\n",
       "    .dataframe tbody tr th:only-of-type {\n",
       "        vertical-align: middle;\n",
       "    }\n",
       "\n",
       "    .dataframe tbody tr th {\n",
       "        vertical-align: top;\n",
       "    }\n",
       "\n",
       "    .dataframe thead th {\n",
       "        text-align: right;\n",
       "    }\n",
       "</style>\n",
       "<table border=\"1\" class=\"dataframe\">\n",
       "  <thead>\n",
       "    <tr style=\"text-align: right;\">\n",
       "      <th></th>\n",
       "      <th>index</th>\n",
       "      <th>street</th>\n",
       "      <th>id</th>\n",
       "    </tr>\n",
       "  </thead>\n",
       "  <tbody>\n",
       "    <tr>\n",
       "      <td>0</td>\n",
       "      <td>1557</td>\n",
       "      <td>проспект Мира</td>\n",
       "      <td>199</td>\n",
       "    </tr>\n",
       "    <tr>\n",
       "      <td>1</td>\n",
       "      <td>1149</td>\n",
       "      <td>Профсоюзная улица</td>\n",
       "      <td>180</td>\n",
       "    </tr>\n",
       "    <tr>\n",
       "      <td>2</td>\n",
       "      <td>839</td>\n",
       "      <td>Ленинградский проспект</td>\n",
       "      <td>169</td>\n",
       "    </tr>\n",
       "    <tr>\n",
       "      <td>3</td>\n",
       "      <td>1135</td>\n",
       "      <td>Пресненская набережная</td>\n",
       "      <td>165</td>\n",
       "    </tr>\n",
       "    <tr>\n",
       "      <td>4</td>\n",
       "      <td>563</td>\n",
       "      <td>Варшавское шоссе</td>\n",
       "      <td>160</td>\n",
       "    </tr>\n",
       "    <tr>\n",
       "      <td>5</td>\n",
       "      <td>842</td>\n",
       "      <td>Ленинский проспект</td>\n",
       "      <td>147</td>\n",
       "    </tr>\n",
       "    <tr>\n",
       "      <td>6</td>\n",
       "      <td>1554</td>\n",
       "      <td>проспект Вернадского</td>\n",
       "      <td>130</td>\n",
       "    </tr>\n",
       "    <tr>\n",
       "      <td>7</td>\n",
       "      <td>756</td>\n",
       "      <td>Каширское шоссе</td>\n",
       "      <td>112</td>\n",
       "    </tr>\n",
       "    <tr>\n",
       "      <td>8</td>\n",
       "      <td>830</td>\n",
       "      <td>Кутузовский проспект</td>\n",
       "      <td>112</td>\n",
       "    </tr>\n",
       "    <tr>\n",
       "      <td>9</td>\n",
       "      <td>761</td>\n",
       "      <td>Кировоградская улица</td>\n",
       "      <td>107</td>\n",
       "    </tr>\n",
       "  </tbody>\n",
       "</table>\n",
       "</div>"
      ],
      "text/plain": [
       "   index                   street   id\n",
       "0  1557    проспект Мира           199\n",
       "1  1149    Профсоюзная улица       180\n",
       "2  839     Ленинградский проспект  169\n",
       "3  1135    Пресненская набережная  165\n",
       "4  563     Варшавское шоссе        160\n",
       "5  842     Ленинский проспект      147\n",
       "6  1554    проспект Вернадского    130\n",
       "7  756     Каширское шоссе         112\n",
       "8  830     Кутузовский проспект    112\n",
       "9  761     Кировоградская улица    107"
      ]
     },
     "execution_count": 30,
     "metadata": {},
     "output_type": "execute_result"
    }
   ],
   "source": [
    "rest_data_street_top10 = rest_data_street.groupby('street')['id'].count().reset_index()\n",
    "rest_data_street_top10 = rest_data_street_top10.nlargest(10, 'id').reset_index()\n",
    "rest_data_street_top10.head(10)"
   ]
  },
  {
   "cell_type": "markdown",
   "metadata": {},
   "source": [
    "Построим график. Чтобы наглядно видеть названия улиц, расположим его горизонтально:"
   ]
  },
  {
   "cell_type": "code",
   "execution_count": 31,
   "metadata": {
    "scrolled": true
   },
   "outputs": [
    {
     "data": {
      "image/png": "[encoded data removed]",
      "text/plain": [
       "<Figure size 432x288 with 1 Axes>"
      ]
     },
     "metadata": {},
     "output_type": "display_data"
    }
   ],
   "source": [
    "sns.barplot(x='id', y='street', data=rest_data_street_top10)\n",
    "plt.box(False)\n",
    "plt.grid(False)\n",
    "plt.xlabel('Количество заведений')\n",
    "plt.ylabel('')\n",
    "plt.title(\"Топ-10 улиц по количеству объектов общественного питания\", fontsize='15');"
   ]
  },
  {
   "cell_type": "markdown",
   "metadata": {},
   "source": [
    "Для отображения информации по районам импортируем внешние данные:"
   ]
  },
  {
   "cell_type": "code",
   "execution_count": 32,
   "metadata": {},
   "outputs": [
    {
     "data": {
      "text/html": [
       "<div>\n",
       "<style scoped>\n",
       "    .dataframe tbody tr th:only-of-type {\n",
       "        vertical-align: middle;\n",
       "    }\n",
       "\n",
       "    .dataframe tbody tr th {\n",
       "        vertical-align: top;\n",
       "    }\n",
       "\n",
       "    .dataframe thead th {\n",
       "        text-align: right;\n",
       "    }\n",
       "</style>\n",
       "<table border=\"1\" class=\"dataframe\">\n",
       "  <thead>\n",
       "    <tr style=\"text-align: right;\">\n",
       "      <th></th>\n",
       "      <th>in_moscow</th>\n",
       "      <th>city</th>\n",
       "      <th>street</th>\n",
       "      <th>simple_address</th>\n",
       "      <th>bldg_type</th>\n",
       "      <th>bldg_number</th>\n",
       "      <th>adm_area</th>\n",
       "      <th>district</th>\n",
       "    </tr>\n",
       "  </thead>\n",
       "  <tbody>\n",
       "    <tr>\n",
       "      <td>0</td>\n",
       "      <td>да</td>\n",
       "      <td>город Москва</td>\n",
       "      <td>Косинская улица</td>\n",
       "      <td>Косинская улица, дом 26А</td>\n",
       "      <td>дом</td>\n",
       "      <td>26А</td>\n",
       "      <td>Восточный административный округ</td>\n",
       "      <td>муниципальный округ Вешняки</td>\n",
       "    </tr>\n",
       "    <tr>\n",
       "      <td>1</td>\n",
       "      <td>да</td>\n",
       "      <td>город Москва</td>\n",
       "      <td>Гороховский переулок</td>\n",
       "      <td>Гороховский переулок, дом 21</td>\n",
       "      <td>дом</td>\n",
       "      <td>21</td>\n",
       "      <td>Центральный административный округ</td>\n",
       "      <td>муниципальный округ Басманный</td>\n",
       "    </tr>\n",
       "    <tr>\n",
       "      <td>2</td>\n",
       "      <td>да</td>\n",
       "      <td>город Москва</td>\n",
       "      <td>Ленинградский проспект</td>\n",
       "      <td>Ленинградский проспект, дом 73А, строение 3</td>\n",
       "      <td>дом</td>\n",
       "      <td>73А</td>\n",
       "      <td>Северный административный округ</td>\n",
       "      <td>муниципальный округ Сокол</td>\n",
       "    </tr>\n",
       "    <tr>\n",
       "      <td>3</td>\n",
       "      <td>да</td>\n",
       "      <td>город Москва</td>\n",
       "      <td>улица Вострухина</td>\n",
       "      <td>улица Вострухина, дом 5А</td>\n",
       "      <td>дом</td>\n",
       "      <td>5А</td>\n",
       "      <td>Юго-Восточный административный округ</td>\n",
       "      <td>муниципальный округ Рязанский</td>\n",
       "    </tr>\n",
       "    <tr>\n",
       "      <td>4</td>\n",
       "      <td>да</td>\n",
       "      <td>город Москва</td>\n",
       "      <td>улица Космонавта Волкова</td>\n",
       "      <td>улица Космонавта Волкова, дом 10, строение 1</td>\n",
       "      <td>дом</td>\n",
       "      <td>10</td>\n",
       "      <td>Северный административный округ</td>\n",
       "      <td>муниципальный округ Войковский</td>\n",
       "    </tr>\n",
       "  </tbody>\n",
       "</table>\n",
       "</div>"
      ],
      "text/plain": [
       "  in_moscow          city                    street  \\\n",
       "0  да        город Москва  Косинская улица            \n",
       "1  да        город Москва  Гороховский переулок       \n",
       "2  да        город Москва  Ленинградский проспект     \n",
       "3  да        город Москва  улица Вострухина           \n",
       "4  да        город Москва  улица Космонавта Волкова   \n",
       "\n",
       "                                 simple_address bldg_type bldg_number  \\\n",
       "0  Косинская улица, дом 26А                      дом       26А          \n",
       "1  Гороховский переулок, дом 21                  дом       21           \n",
       "2  Ленинградский проспект, дом 73А, строение 3   дом       73А          \n",
       "3  улица Вострухина, дом 5А                      дом       5А           \n",
       "4  улица Космонавта Волкова, дом 10, строение 1  дом       10           \n",
       "\n",
       "                               adm_area                        district  \n",
       "0  Восточный административный округ      муниципальный округ Вешняки     \n",
       "1  Центральный административный округ    муниципальный округ Басманный   \n",
       "2  Северный административный округ       муниципальный округ Сокол       \n",
       "3  Юго-Восточный административный округ  муниципальный округ Рязанский   \n",
       "4  Северный административный округ       муниципальный округ Войковский  "
      ]
     },
     "execution_count": 32,
     "metadata": {},
     "output_type": "execute_result"
    }
   ],
   "source": [
    "from io import BytesIO\n",
    "import requests\n",
    "spreadsheet_id = '1x0eZI1up1Z3qrzzr3LoCGKTpecPI26X9VhL_bfMcrG0'\n",
    "file_name = 'https://docs.google.com/spreadsheets/d/{}/export?format=xlsx'.format(spreadsheet_id)\n",
    "r = requests.get(file_name)\n",
    "area_df = pd.read_excel(BytesIO(r.content))\n",
    "area_df.head()"
   ]
  },
  {
   "cell_type": "code",
   "execution_count": 33,
   "metadata": {},
   "outputs": [
    {
     "data": {
      "text/html": [
       "<div>\n",
       "<style scoped>\n",
       "    .dataframe tbody tr th:only-of-type {\n",
       "        vertical-align: middle;\n",
       "    }\n",
       "\n",
       "    .dataframe tbody tr th {\n",
       "        vertical-align: top;\n",
       "    }\n",
       "\n",
       "    .dataframe thead th {\n",
       "        text-align: right;\n",
       "    }\n",
       "</style>\n",
       "<table border=\"1\" class=\"dataframe\">\n",
       "  <thead>\n",
       "    <tr style=\"text-align: right;\">\n",
       "      <th></th>\n",
       "      <th>in_moscow</th>\n",
       "      <th>city</th>\n",
       "      <th>street</th>\n",
       "      <th>simple_address</th>\n",
       "      <th>bldg_type</th>\n",
       "      <th>bldg_number</th>\n",
       "      <th>adm_area</th>\n",
       "      <th>district</th>\n",
       "    </tr>\n",
       "  </thead>\n",
       "  <tbody>\n",
       "    <tr>\n",
       "      <td>0</td>\n",
       "      <td>да</td>\n",
       "      <td>город Москва</td>\n",
       "      <td>Косинская улица</td>\n",
       "      <td>Косинская улица, дом 26А</td>\n",
       "      <td>дом</td>\n",
       "      <td>26А</td>\n",
       "      <td>Восточный административный округ</td>\n",
       "      <td>муниципальный округ Вешняки</td>\n",
       "    </tr>\n",
       "    <tr>\n",
       "      <td>1</td>\n",
       "      <td>да</td>\n",
       "      <td>город Москва</td>\n",
       "      <td>Гороховский переулок</td>\n",
       "      <td>Гороховский переулок, дом 21</td>\n",
       "      <td>дом</td>\n",
       "      <td>21</td>\n",
       "      <td>Центральный административный округ</td>\n",
       "      <td>муниципальный округ Басманный</td>\n",
       "    </tr>\n",
       "    <tr>\n",
       "      <td>2</td>\n",
       "      <td>да</td>\n",
       "      <td>город Москва</td>\n",
       "      <td>Ленинградский проспект</td>\n",
       "      <td>Ленинградский проспект, дом 73А, строение 3</td>\n",
       "      <td>дом</td>\n",
       "      <td>73А</td>\n",
       "      <td>Северный административный округ</td>\n",
       "      <td>муниципальный округ Сокол</td>\n",
       "    </tr>\n",
       "    <tr>\n",
       "      <td>3</td>\n",
       "      <td>да</td>\n",
       "      <td>город Москва</td>\n",
       "      <td>улица Вострухина</td>\n",
       "      <td>улица Вострухина, дом 5А</td>\n",
       "      <td>дом</td>\n",
       "      <td>5А</td>\n",
       "      <td>Юго-Восточный административный округ</td>\n",
       "      <td>муниципальный округ Рязанский</td>\n",
       "    </tr>\n",
       "    <tr>\n",
       "      <td>4</td>\n",
       "      <td>да</td>\n",
       "      <td>город Москва</td>\n",
       "      <td>улица Космонавта Волкова</td>\n",
       "      <td>улица Космонавта Волкова, дом 10, строение 1</td>\n",
       "      <td>дом</td>\n",
       "      <td>10</td>\n",
       "      <td>Северный административный округ</td>\n",
       "      <td>муниципальный округ Войковский</td>\n",
       "    </tr>\n",
       "  </tbody>\n",
       "</table>\n",
       "</div>"
      ],
      "text/plain": [
       "  in_moscow          city                    street  \\\n",
       "0  да        город Москва  Косинская улица            \n",
       "1  да        город Москва  Гороховский переулок       \n",
       "2  да        город Москва  Ленинградский проспект     \n",
       "3  да        город Москва  улица Вострухина           \n",
       "4  да        город Москва  улица Космонавта Волкова   \n",
       "\n",
       "                                 simple_address bldg_type bldg_number  \\\n",
       "0  Косинская улица, дом 26А                      дом       26А          \n",
       "1  Гороховский переулок, дом 21                  дом       21           \n",
       "2  Ленинградский проспект, дом 73А, строение 3   дом       73А          \n",
       "3  улица Вострухина, дом 5А                      дом       5А           \n",
       "4  улица Космонавта Волкова, дом 10, строение 1  дом       10           \n",
       "\n",
       "                               adm_area                        district  \n",
       "0  Восточный административный округ      муниципальный округ Вешняки     \n",
       "1  Центральный административный округ    муниципальный округ Басманный   \n",
       "2  Северный административный округ       муниципальный округ Сокол       \n",
       "3  Юго-Восточный административный округ  муниципальный округ Рязанский   \n",
       "4  Северный административный округ       муниципальный округ Войковский  "
      ]
     },
     "execution_count": 33,
     "metadata": {},
     "output_type": "execute_result"
    }
   ],
   "source": [
    "area_df['street'] = area_df['street'].str.strip()\n",
    "area_df['simple_address'] = area_df['simple_address'].str.strip()\n",
    "rest_data_street['street'] = rest_data_street['street'].str.strip()\n",
    "rest_data_street['address'] = rest_data_street['address'].str.strip()\n",
    "area_df.head()"
   ]
  },
  {
   "cell_type": "markdown",
   "metadata": {},
   "source": [
    "Подцепим базу данных к нашей оригинальной таблице:"
   ]
  },
  {
   "cell_type": "code",
   "execution_count": 34,
   "metadata": {},
   "outputs": [
    {
     "name": "stdout",
     "output_type": "stream",
     "text": [
      "<class 'pandas.core.frame.DataFrame'>\n",
      "Int64Index: 15279 entries, 0 to 15364\n",
      "Data columns (total 7 columns):\n",
      "id             15279 non-null int64\n",
      "object_name    15279 non-null object\n",
      "chain          15279 non-null object\n",
      "object_type    15279 non-null object\n",
      "address        15279 non-null object\n",
      "number         15279 non-null int64\n",
      "street         15279 non-null object\n",
      "dtypes: int64(2), object(5)\n",
      "memory usage: 954.9+ KB\n"
     ]
    }
   ],
   "source": [
    "rest_data_merged = rest_data_street.copy()\n",
    "rest_data_merged.info()"
   ]
  },
  {
   "cell_type": "code",
   "execution_count": 35,
   "metadata": {},
   "outputs": [
    {
     "data": {
      "text/html": [
       "<div>\n",
       "<style scoped>\n",
       "    .dataframe tbody tr th:only-of-type {\n",
       "        vertical-align: middle;\n",
       "    }\n",
       "\n",
       "    .dataframe tbody tr th {\n",
       "        vertical-align: top;\n",
       "    }\n",
       "\n",
       "    .dataframe thead th {\n",
       "        text-align: right;\n",
       "    }\n",
       "</style>\n",
       "<table border=\"1\" class=\"dataframe\">\n",
       "  <thead>\n",
       "    <tr style=\"text-align: right;\">\n",
       "      <th></th>\n",
       "      <th>id</th>\n",
       "      <th>object_name</th>\n",
       "      <th>chain</th>\n",
       "      <th>object_type</th>\n",
       "      <th>address</th>\n",
       "      <th>number</th>\n",
       "      <th>street_x</th>\n",
       "      <th>in_moscow</th>\n",
       "      <th>city</th>\n",
       "      <th>adm_area</th>\n",
       "      <th>district</th>\n",
       "    </tr>\n",
       "  </thead>\n",
       "  <tbody>\n",
       "    <tr>\n",
       "      <td>0</td>\n",
       "      <td>151635</td>\n",
       "      <td>СМЕТАНА</td>\n",
       "      <td>нет</td>\n",
       "      <td>кафе</td>\n",
       "      <td>улица Егора Абакумова, дом 9</td>\n",
       "      <td>48</td>\n",
       "      <td>улица Егора Абакумова</td>\n",
       "      <td>да</td>\n",
       "      <td>город Москва</td>\n",
       "      <td>Северо-Восточный административный округ</td>\n",
       "      <td>муниципальный округ Ярославский</td>\n",
       "    </tr>\n",
       "    <tr>\n",
       "      <td>1</td>\n",
       "      <td>77874</td>\n",
       "      <td>Родник</td>\n",
       "      <td>нет</td>\n",
       "      <td>кафе</td>\n",
       "      <td>улица Талалихина, дом 2/1, корпус 1</td>\n",
       "      <td>35</td>\n",
       "      <td>улица Талалихина</td>\n",
       "      <td>да</td>\n",
       "      <td>город Москва</td>\n",
       "      <td>Центральный административный округ</td>\n",
       "      <td>муниципальный округ Таганский</td>\n",
       "    </tr>\n",
       "    <tr>\n",
       "      <td>2</td>\n",
       "      <td>24309</td>\n",
       "      <td>Кафе «Академия»</td>\n",
       "      <td>нет</td>\n",
       "      <td>кафе</td>\n",
       "      <td>Абельмановская улица, дом 6</td>\n",
       "      <td>95</td>\n",
       "      <td>Абельмановская улица</td>\n",
       "      <td>да</td>\n",
       "      <td>город Москва</td>\n",
       "      <td>Центральный административный округ</td>\n",
       "      <td>муниципальный округ Таганский</td>\n",
       "    </tr>\n",
       "    <tr>\n",
       "      <td>3</td>\n",
       "      <td>21894</td>\n",
       "      <td>ПИЦЦЕТОРИЯ</td>\n",
       "      <td>да</td>\n",
       "      <td>кафе</td>\n",
       "      <td>Абрамцевская улица, дом 1</td>\n",
       "      <td>40</td>\n",
       "      <td>Абрамцевская улица</td>\n",
       "      <td>да</td>\n",
       "      <td>город Москва</td>\n",
       "      <td>Северо-Восточный административный округ</td>\n",
       "      <td>муниципальный округ Лианозово</td>\n",
       "    </tr>\n",
       "    <tr>\n",
       "      <td>4</td>\n",
       "      <td>119365</td>\n",
       "      <td>Кафе «Вишневая метель»</td>\n",
       "      <td>нет</td>\n",
       "      <td>кафе</td>\n",
       "      <td>Абрамцевская улица, дом 9, корпус 1</td>\n",
       "      <td>50</td>\n",
       "      <td>Абрамцевская улица</td>\n",
       "      <td>да</td>\n",
       "      <td>город Москва</td>\n",
       "      <td>Северо-Восточный административный округ</td>\n",
       "      <td>муниципальный округ Лианозово</td>\n",
       "    </tr>\n",
       "  </tbody>\n",
       "</table>\n",
       "</div>"
      ],
      "text/plain": [
       "       id             object_name chain object_type  \\\n",
       "0  151635  СМЕТАНА                 нет   кафе         \n",
       "1  77874   Родник                  нет   кафе         \n",
       "2  24309   Кафе «Академия»         нет   кафе         \n",
       "3  21894   ПИЦЦЕТОРИЯ              да    кафе         \n",
       "4  119365  Кафе «Вишневая метель»  нет   кафе         \n",
       "\n",
       "                               address  number               street_x  \\\n",
       "0  улица Егора Абакумова, дом 9         48      улица Егора Абакумова   \n",
       "1  улица Талалихина, дом 2/1, корпус 1  35      улица Талалихина        \n",
       "2  Абельмановская улица, дом 6          95      Абельмановская улица    \n",
       "3  Абрамцевская улица, дом 1            40      Абрамцевская улица      \n",
       "4  Абрамцевская улица, дом 9, корпус 1  50      Абрамцевская улица      \n",
       "\n",
       "  in_moscow          city                                 adm_area  \\\n",
       "0  да        город Москва  Северо-Восточный административный округ   \n",
       "1  да        город Москва  Центральный административный округ        \n",
       "2  да        город Москва  Центральный административный округ        \n",
       "3  да        город Москва  Северо-Восточный административный округ   \n",
       "4  да        город Москва  Северо-Восточный административный округ   \n",
       "\n",
       "                          district  \n",
       "0  муниципальный округ Ярославский  \n",
       "1  муниципальный округ Таганский    \n",
       "2  муниципальный округ Таганский    \n",
       "3  муниципальный округ Лианозово    \n",
       "4  муниципальный округ Лианозово    "
      ]
     },
     "execution_count": 35,
     "metadata": {},
     "output_type": "execute_result"
    }
   ],
   "source": [
    "rest_data_merged = rest_data_merged.merge(area_df, left_on=\"address\", right_on=\"simple_address\")\n",
    "rest_data_merged_left = rest_data_merged[['id','object_name','chain','object_type','address','number','street_x','in_moscow','city','adm_area','district']]\n",
    "rest_data_merged_left.head()"
   ]
  },
  {
   "cell_type": "markdown",
   "metadata": {},
   "source": [
    "Оставим только строки, входящие в Топ-10. Сначала создадим предварительный словарь:"
   ]
  },
  {
   "cell_type": "code",
   "execution_count": 36,
   "metadata": {},
   "outputs": [
    {
     "data": {
      "text/html": [
       "<div>\n",
       "<style scoped>\n",
       "    .dataframe tbody tr th:only-of-type {\n",
       "        vertical-align: middle;\n",
       "    }\n",
       "\n",
       "    .dataframe tbody tr th {\n",
       "        vertical-align: top;\n",
       "    }\n",
       "\n",
       "    .dataframe thead th {\n",
       "        text-align: right;\n",
       "    }\n",
       "</style>\n",
       "<table border=\"1\" class=\"dataframe\">\n",
       "  <thead>\n",
       "    <tr style=\"text-align: right;\">\n",
       "      <th></th>\n",
       "      <th>street_x</th>\n",
       "      <th>adm_area</th>\n",
       "      <th>district</th>\n",
       "    </tr>\n",
       "  </thead>\n",
       "  <tbody>\n",
       "    <tr>\n",
       "      <td>0</td>\n",
       "      <td>улица Егора Абакумова</td>\n",
       "      <td>Северо-Восточный административный округ</td>\n",
       "      <td>муниципальный округ Ярославский</td>\n",
       "    </tr>\n",
       "    <tr>\n",
       "      <td>1</td>\n",
       "      <td>улица Талалихина</td>\n",
       "      <td>Центральный административный округ</td>\n",
       "      <td>муниципальный округ Таганский</td>\n",
       "    </tr>\n",
       "    <tr>\n",
       "      <td>2</td>\n",
       "      <td>Абельмановская улица</td>\n",
       "      <td>Центральный административный округ</td>\n",
       "      <td>муниципальный округ Таганский</td>\n",
       "    </tr>\n",
       "    <tr>\n",
       "      <td>3</td>\n",
       "      <td>Абрамцевская улица</td>\n",
       "      <td>Северо-Восточный административный округ</td>\n",
       "      <td>муниципальный округ Лианозово</td>\n",
       "    </tr>\n",
       "    <tr>\n",
       "      <td>7</td>\n",
       "      <td>переулок Сивцев Вражек</td>\n",
       "      <td>Центральный административный округ</td>\n",
       "      <td>муниципальный округ Арбат</td>\n",
       "    </tr>\n",
       "    <tr>\n",
       "      <td>8</td>\n",
       "      <td>Авиамоторная улица</td>\n",
       "      <td>Юго-Восточный административный округ</td>\n",
       "      <td>муниципальный округ Лефортово</td>\n",
       "    </tr>\n",
       "    <tr>\n",
       "      <td>14</td>\n",
       "      <td>улица Авиаторов</td>\n",
       "      <td>Западный административный округ</td>\n",
       "      <td>муниципальный округ Солнцево</td>\n",
       "    </tr>\n",
       "    <tr>\n",
       "      <td>17</td>\n",
       "      <td>Азовская улица</td>\n",
       "      <td>Юго-Западный административный округ</td>\n",
       "      <td>муниципальный округ Зюзино</td>\n",
       "    </tr>\n",
       "    <tr>\n",
       "      <td>20</td>\n",
       "      <td>Большая Академическая улица</td>\n",
       "      <td>Северный административный округ</td>\n",
       "      <td>муниципальный округ Коптево</td>\n",
       "    </tr>\n",
       "    <tr>\n",
       "      <td>21</td>\n",
       "      <td>Филипповский переулок</td>\n",
       "      <td>Центральный административный округ</td>\n",
       "      <td>муниципальный округ Арбат</td>\n",
       "    </tr>\n",
       "  </tbody>\n",
       "</table>\n",
       "</div>"
      ],
      "text/plain": [
       "                       street_x                                 adm_area  \\\n",
       "0   улица Егора Абакумова        Северо-Восточный административный округ   \n",
       "1   улица Талалихина             Центральный административный округ        \n",
       "2   Абельмановская улица         Центральный административный округ        \n",
       "3   Абрамцевская улица           Северо-Восточный административный округ   \n",
       "7   переулок Сивцев Вражек       Центральный административный округ        \n",
       "8   Авиамоторная улица           Юго-Восточный административный округ      \n",
       "14  улица Авиаторов              Западный административный округ           \n",
       "17  Азовская улица               Юго-Западный административный округ       \n",
       "20  Большая Академическая улица  Северный административный округ           \n",
       "21  Филипповский переулок        Центральный административный округ        \n",
       "\n",
       "                           district  \n",
       "0   муниципальный округ Ярославский  \n",
       "1   муниципальный округ Таганский    \n",
       "2   муниципальный округ Таганский    \n",
       "3   муниципальный округ Лианозово    \n",
       "7   муниципальный округ Арбат        \n",
       "8   муниципальный округ Лефортово    \n",
       "14  муниципальный округ Солнцево     \n",
       "17  муниципальный округ Зюзино       \n",
       "20  муниципальный округ Коптево      \n",
       "21  муниципальный округ Арбат        "
      ]
     },
     "execution_count": 36,
     "metadata": {},
     "output_type": "execute_result"
    }
   ],
   "source": [
    "data_street_dict = rest_data_merged[['street_x','adm_area','district']].dropna()\n",
    "data_street_dict.drop_duplicates(inplace=True)\n",
    "data_street_dict.head(10)"
   ]
  },
  {
   "cell_type": "markdown",
   "metadata": {},
   "source": [
    "Теперь подгрузим данные из словаря в таблицу Топ-10:"
   ]
  },
  {
   "cell_type": "code",
   "execution_count": 37,
   "metadata": {},
   "outputs": [
    {
     "data": {
      "text/html": [
       "<div>\n",
       "<style scoped>\n",
       "    .dataframe tbody tr th:only-of-type {\n",
       "        vertical-align: middle;\n",
       "    }\n",
       "\n",
       "    .dataframe tbody tr th {\n",
       "        vertical-align: top;\n",
       "    }\n",
       "\n",
       "    .dataframe thead tr th {\n",
       "        text-align: left;\n",
       "    }\n",
       "</style>\n",
       "<table border=\"1\" class=\"dataframe\">\n",
       "  <thead>\n",
       "    <tr>\n",
       "      <th></th>\n",
       "      <th>улица</th>\n",
       "      <th>кол-во заведений</th>\n",
       "      <th>район</th>\n",
       "      <th>округ</th>\n",
       "    </tr>\n",
       "  </thead>\n",
       "  <tbody>\n",
       "    <tr>\n",
       "      <td>0</td>\n",
       "      <td>проспект Мира</td>\n",
       "      <td>199</td>\n",
       "      <td>муниципальный округ Мещанский, муниципальный округ Останкинский, муниципальный округ Алексеевский, муниципальный округ Ростокино, муниципальный округ Свиблово, муниципальный округ Ярославский</td>\n",
       "      <td>Центральный административный округ, Северо-Восточный административный округ</td>\n",
       "    </tr>\n",
       "    <tr>\n",
       "      <td>1</td>\n",
       "      <td>Профсоюзная улица</td>\n",
       "      <td>180</td>\n",
       "      <td>муниципальный округ Академический, муниципальный округ Черемушки, муниципальный округ Обручевский, муниципальный округ Коньково, муниципальный округ Теплый Стан, муниципальный округ Ясенево</td>\n",
       "      <td>Юго-Западный административный округ</td>\n",
       "    </tr>\n",
       "    <tr>\n",
       "      <td>2</td>\n",
       "      <td>Ленинградский проспект</td>\n",
       "      <td>169</td>\n",
       "      <td>муниципальный округ Беговой, муниципальный округ Аэропорт, муниципальный округ Сокол, муниципальный округ Хорошевский</td>\n",
       "      <td>Северный административный округ</td>\n",
       "    </tr>\n",
       "    <tr>\n",
       "      <td>3</td>\n",
       "      <td>Пресненская набережная</td>\n",
       "      <td>165</td>\n",
       "      <td>муниципальный округ Пресненский</td>\n",
       "      <td>Центральный административный округ</td>\n",
       "    </tr>\n",
       "    <tr>\n",
       "      <td>4</td>\n",
       "      <td>Варшавское шоссе</td>\n",
       "      <td>160</td>\n",
       "      <td>муниципальный округ Донской, муниципальный округ Нагорный, муниципальный округ Чертаново Южное, муниципальный округ Чертаново Северное, муниципальный округ Чертаново Центральное, муниципальный округ Нагатино-Садовники, муниципальный округ Южное Бутово</td>\n",
       "      <td>Южный административный округ, Юго-Западный административный округ</td>\n",
       "    </tr>\n",
       "    <tr>\n",
       "      <td>5</td>\n",
       "      <td>Ленинский проспект</td>\n",
       "      <td>147</td>\n",
       "      <td>муниципальный округ Якиманка, муниципальный округ Донской, муниципальный округ Гагаринский, муниципальный округ Ломоносовский, муниципальный округ Обручевский, муниципальный округ Тропарево-Никулино, муниципальный округ Теплый Стан, муниципальный округ Проспект Вернадского</td>\n",
       "      <td>Западный административный округ, Центральный административный округ, Юго-Западный административный округ, Южный административный округ</td>\n",
       "    </tr>\n",
       "    <tr>\n",
       "      <td>6</td>\n",
       "      <td>проспект Вернадского</td>\n",
       "      <td>130</td>\n",
       "      <td>муниципальный округ Гагаринский, муниципальный округ Ломоносовский, муниципальный округ Проспект Вернадского, муниципальный округ Тропарево-Никулино, муниципальный округ Раменки</td>\n",
       "      <td>Западный административный округ, Юго-Западный административный округ</td>\n",
       "    </tr>\n",
       "    <tr>\n",
       "      <td>7</td>\n",
       "      <td>Каширское шоссе</td>\n",
       "      <td>112</td>\n",
       "      <td>муниципальный округ Нагатино-Садовники, муниципальный округ Москворечье-Сабурово, муниципальный округ Орехово-Борисово Южное, муниципальный округ Орехово-Борисово Северное</td>\n",
       "      <td>Южный административный округ</td>\n",
       "    </tr>\n",
       "    <tr>\n",
       "      <td>8</td>\n",
       "      <td>Кутузовский проспект</td>\n",
       "      <td>112</td>\n",
       "      <td>муниципальный округ Фили-Давыдково, муниципальный округ Дорогомилово</td>\n",
       "      <td>Западный административный округ</td>\n",
       "    </tr>\n",
       "    <tr>\n",
       "      <td>9</td>\n",
       "      <td>Кировоградская улица</td>\n",
       "      <td>107</td>\n",
       "      <td>муниципальный округ Чертаново Центральное, муниципальный округ Чертаново Южное, муниципальный округ Чертаново Северное</td>\n",
       "      <td>Южный административный округ</td>\n",
       "    </tr>\n",
       "  </tbody>\n",
       "</table>\n",
       "</div>"
      ],
      "text/plain": [
       "                    улица кол-во заведений  \\\n",
       "0  проспект Мира           199               \n",
       "1  Профсоюзная улица       180               \n",
       "2  Ленинградский проспект  169               \n",
       "3  Пресненская набережная  165               \n",
       "4  Варшавское шоссе        160               \n",
       "5  Ленинский проспект      147               \n",
       "6  проспект Вернадского    130               \n",
       "7  Каширское шоссе         112               \n",
       "8  Кутузовский проспект    112               \n",
       "9  Кировоградская улица    107               \n",
       "\n",
       "                                                                                                                                                                                                                                                                               район  \\\n",
       "0  муниципальный округ Мещанский, муниципальный округ Останкинский, муниципальный округ Алексеевский, муниципальный округ Ростокино, муниципальный округ Свиблово, муниципальный округ Ярославский                                                                                     \n",
       "1  муниципальный округ Академический, муниципальный округ Черемушки, муниципальный округ Обручевский, муниципальный округ Коньково, муниципальный округ Теплый Стан, муниципальный округ Ясенево                                                                                       \n",
       "2  муниципальный округ Беговой, муниципальный округ Аэропорт, муниципальный округ Сокол, муниципальный округ Хорошевский                                                                                                                                                               \n",
       "3  муниципальный округ Пресненский                                                                                                                                                                                                                                                     \n",
       "4  муниципальный округ Донской, муниципальный округ Нагорный, муниципальный округ Чертаново Южное, муниципальный округ Чертаново Северное, муниципальный округ Чертаново Центральное, муниципальный округ Нагатино-Садовники, муниципальный округ Южное Бутово                         \n",
       "5  муниципальный округ Якиманка, муниципальный округ Донской, муниципальный округ Гагаринский, муниципальный округ Ломоносовский, муниципальный округ Обручевский, муниципальный округ Тропарево-Никулино, муниципальный округ Теплый Стан, муниципальный округ Проспект Вернадского   \n",
       "6  муниципальный округ Гагаринский, муниципальный округ Ломоносовский, муниципальный округ Проспект Вернадского, муниципальный округ Тропарево-Никулино, муниципальный округ Раменки                                                                                                   \n",
       "7  муниципальный округ Нагатино-Садовники, муниципальный округ Москворечье-Сабурово, муниципальный округ Орехово-Борисово Южное, муниципальный округ Орехово-Борисово Северное                                                                                                         \n",
       "8  муниципальный округ Фили-Давыдково, муниципальный округ Дорогомилово                                                                                                                                                                                                                \n",
       "9  муниципальный округ Чертаново Центральное, муниципальный округ Чертаново Южное, муниципальный округ Чертаново Северное                                                                                                                                                              \n",
       "\n",
       "                                                                                                                                    округ  \n",
       "0  Центральный административный округ, Северо-Восточный административный округ                                                             \n",
       "1  Юго-Западный административный округ                                                                                                     \n",
       "2  Северный административный округ                                                                                                         \n",
       "3  Центральный административный округ                                                                                                      \n",
       "4  Южный административный округ, Юго-Западный административный округ                                                                       \n",
       "5  Западный административный округ, Центральный административный округ, Юго-Западный административный округ, Южный административный округ  \n",
       "6  Западный административный округ, Юго-Западный административный округ                                                                    \n",
       "7  Южный административный округ                                                                                                            \n",
       "8  Западный административный округ                                                                                                         \n",
       "9  Южный административный округ                                                                                                            "
      ]
     },
     "execution_count": 37,
     "metadata": {},
     "output_type": "execute_result"
    }
   ],
   "source": [
    "data_street_dict['street_x'] = data_street_dict['street_x'].str.strip()\n",
    "data_street_dict['adm_area'] = data_street_dict['adm_area'].str.strip()\n",
    "data_street_dict['district'] = data_street_dict['district'].str.strip()\n",
    "rest_data_street_top10['street'] = rest_data_street_top10['street'].str.strip()\n",
    "data_street_dict.drop_duplicates(inplace=True)\n",
    "rest_data_street_top10.drop_duplicates(inplace=True)\n",
    "\n",
    "data_street_dict_updated = data_street_dict.drop_duplicates(subset=['street_x','district','adm_area']).groupby(['street_x']).agg(\n",
    "    {'adm_area' : lambda x: ', '.join(set(x)),\n",
    "     'district' : lambda x: ', '.join(x)}).reset_index()\n",
    "\n",
    "rest_data_street_updated = rest_data_street_top10.merge(data_street_dict_updated, left_on=\"street\", right_on=\"street_x\")\n",
    "rest_data_street_updated.drop_duplicates(inplace=True)\n",
    "rest_data_street_updated = rest_data_street_updated.drop(['index','street_x'], 1)\n",
    "rest_data_street_updated.columns=[['улица','кол-во заведений','округ', 'район']]\n",
    "rest_data_street_updated = rest_data_street_updated[['улица','кол-во заведений','район','округ']]\n",
    "rest_data_street_updated.head(10)"
   ]
  },
  {
   "cell_type": "markdown",
   "metadata": {},
   "source": [
    "**Мы получили таблицу районов и ответили на вопрос, в каких районах Москвы находятся эти улицы.**"
   ]
  },
  {
   "cell_type": "markdown",
   "metadata": {},
   "source": [
    "### Найдите число улиц с одним объектом общественного питания. Воспользуйтесь внешней информацией и ответьте на вопрос — в каких районах Москвы находятся эти улицы?"
   ]
  },
  {
   "cell_type": "markdown",
   "metadata": {},
   "source": [
    "Составим сводную таблицу по районам, с количеством объектов на улице, равным 1:"
   ]
  },
  {
   "cell_type": "code",
   "execution_count": 38,
   "metadata": {},
   "outputs": [
    {
     "data": {
      "text/html": [
       "<div>\n",
       "<style scoped>\n",
       "    .dataframe tbody tr th:only-of-type {\n",
       "        vertical-align: middle;\n",
       "    }\n",
       "\n",
       "    .dataframe tbody tr th {\n",
       "        vertical-align: top;\n",
       "    }\n",
       "\n",
       "    .dataframe thead th {\n",
       "        text-align: right;\n",
       "    }\n",
       "</style>\n",
       "<table border=\"1\" class=\"dataframe\">\n",
       "  <thead>\n",
       "    <tr style=\"text-align: right;\">\n",
       "      <th></th>\n",
       "      <th>district</th>\n",
       "      <th>adm_area</th>\n",
       "      <th>street_x</th>\n",
       "      <th>id</th>\n",
       "    </tr>\n",
       "  </thead>\n",
       "  <tbody>\n",
       "    <tr>\n",
       "      <td>13</td>\n",
       "      <td>муниципальный округ Алексеевский</td>\n",
       "      <td>Северо-Восточный административный округ</td>\n",
       "      <td>1-й Рижский переулок</td>\n",
       "      <td>1</td>\n",
       "    </tr>\n",
       "    <tr>\n",
       "      <td>17</td>\n",
       "      <td>муниципальный округ Алексеевский</td>\n",
       "      <td>Северо-Восточный административный округ</td>\n",
       "      <td>Зубарев переулок</td>\n",
       "      <td>1</td>\n",
       "    </tr>\n",
       "    <tr>\n",
       "      <td>18</td>\n",
       "      <td>муниципальный округ Алексеевский</td>\n",
       "      <td>Северо-Восточный административный округ</td>\n",
       "      <td>Кулаков переулок</td>\n",
       "      <td>1</td>\n",
       "    </tr>\n",
       "    <tr>\n",
       "      <td>19</td>\n",
       "      <td>муниципальный округ Алексеевский</td>\n",
       "      <td>Северо-Восточный административный округ</td>\n",
       "      <td>Кучин переулок</td>\n",
       "      <td>1</td>\n",
       "    </tr>\n",
       "    <tr>\n",
       "      <td>22</td>\n",
       "      <td>муниципальный округ Алексеевский</td>\n",
       "      <td>Северо-Восточный административный округ</td>\n",
       "      <td>Рижский проезд</td>\n",
       "      <td>1</td>\n",
       "    </tr>\n",
       "  </tbody>\n",
       "</table>\n",
       "</div>"
      ],
      "text/plain": [
       "                            district                                 adm_area  \\\n",
       "13  муниципальный округ Алексеевский  Северо-Восточный административный округ   \n",
       "17  муниципальный округ Алексеевский  Северо-Восточный административный округ   \n",
       "18  муниципальный округ Алексеевский  Северо-Восточный административный округ   \n",
       "19  муниципальный округ Алексеевский  Северо-Восточный административный округ   \n",
       "22  муниципальный округ Алексеевский  Северо-Восточный административный округ   \n",
       "\n",
       "                street_x  id  \n",
       "13  1-й Рижский переулок  1   \n",
       "17  Зубарев переулок      1   \n",
       "18  Кулаков переулок      1   \n",
       "19  Кучин переулок        1   \n",
       "22  Рижский проезд        1   "
      ]
     },
     "execution_count": 38,
     "metadata": {},
     "output_type": "execute_result"
    }
   ],
   "source": [
    "rest_data_merged_one = rest_data_merged_left.copy()\n",
    "rest_data_merged_one = rest_data_merged_one[['district', 'adm_area','street_x', 'id']]\n",
    "rest_data_street_one_final = rest_data_merged_one.groupby(['district', 'adm_area','street_x'])['id'].count().reset_index()\n",
    "rest_data_street_one_final = rest_data_street_one_final.query('id == 1')\n",
    "rest_data_street_one_final.head()"
   ]
  },
  {
   "cell_type": "markdown",
   "metadata": {},
   "source": [
    "Теперь сгруппируем таблицу по районам:"
   ]
  },
  {
   "cell_type": "code",
   "execution_count": 39,
   "metadata": {},
   "outputs": [
    {
     "data": {
      "text/html": [
       "<div>\n",
       "<style scoped>\n",
       "    .dataframe tbody tr th:only-of-type {\n",
       "        vertical-align: middle;\n",
       "    }\n",
       "\n",
       "    .dataframe tbody tr th {\n",
       "        vertical-align: top;\n",
       "    }\n",
       "\n",
       "    .dataframe thead th {\n",
       "        text-align: right;\n",
       "    }\n",
       "</style>\n",
       "<table border=\"1\" class=\"dataframe\">\n",
       "  <thead>\n",
       "    <tr style=\"text-align: right;\">\n",
       "      <th></th>\n",
       "      <th>district</th>\n",
       "      <th>adm_area</th>\n",
       "      <th>street_x</th>\n",
       "    </tr>\n",
       "  </thead>\n",
       "  <tbody>\n",
       "    <tr>\n",
       "      <td>0</td>\n",
       "      <td>муниципальный округ Таганский</td>\n",
       "      <td>Центральный административный округ</td>\n",
       "      <td>28</td>\n",
       "    </tr>\n",
       "    <tr>\n",
       "      <td>1</td>\n",
       "      <td>муниципальный округ Басманный</td>\n",
       "      <td>Центральный административный округ</td>\n",
       "      <td>27</td>\n",
       "    </tr>\n",
       "    <tr>\n",
       "      <td>2</td>\n",
       "      <td>муниципальный округ Хамовники</td>\n",
       "      <td>Центральный административный округ</td>\n",
       "      <td>27</td>\n",
       "    </tr>\n",
       "    <tr>\n",
       "      <td>3</td>\n",
       "      <td>муниципальный округ Тверской</td>\n",
       "      <td>Центральный административный округ</td>\n",
       "      <td>23</td>\n",
       "    </tr>\n",
       "    <tr>\n",
       "      <td>4</td>\n",
       "      <td>муниципальный округ Пресненский</td>\n",
       "      <td>Центральный административный округ</td>\n",
       "      <td>21</td>\n",
       "    </tr>\n",
       "  </tbody>\n",
       "</table>\n",
       "</div>"
      ],
      "text/plain": [
       "                          district                            adm_area  \\\n",
       "0  муниципальный округ Таганский    Центральный административный округ   \n",
       "1  муниципальный округ Басманный    Центральный административный округ   \n",
       "2  муниципальный округ Хамовники    Центральный административный округ   \n",
       "3  муниципальный округ Тверской     Центральный административный округ   \n",
       "4  муниципальный округ Пресненский  Центральный административный округ   \n",
       "\n",
       "   street_x  \n",
       "0  28        \n",
       "1  27        \n",
       "2  27        \n",
       "3  23        \n",
       "4  21        "
      ]
     },
     "execution_count": 39,
     "metadata": {},
     "output_type": "execute_result"
    }
   ],
   "source": [
    "rest_data_street_one_group = rest_data_street_one_final.groupby(['district', 'adm_area'])['street_x'].count().sort_values(ascending=False).reset_index()\n",
    "rest_data_street_one_group.head()"
   ]
  },
  {
   "cell_type": "markdown",
   "metadata": {},
   "source": [
    "Отразим эти данные на графике:"
   ]
  },
  {
   "cell_type": "code",
   "execution_count": 40,
   "metadata": {},
   "outputs": [
    {
     "data": {
      "image/png": "[encoded data removed]",
      "text/plain": [
       "<Figure size 720x1440 with 1 Axes>"
      ]
     },
     "metadata": {},
     "output_type": "display_data"
    }
   ],
   "source": [
    "fig, ax = plt.subplots(figsize=(10, 20))\n",
    "ax = sns.barplot(x='street_x', y='district', data=rest_data_street_one_group)\n",
    "plt.box(False)\n",
    "plt.grid(False)\n",
    "plt.xlabel('Количество единичных объектов')\n",
    "plt.ylabel('')\n",
    "plt.title(\"Районы с одним объектом общественного питания на улице\", fontsize='15');"
   ]
  },
  {
   "cell_type": "markdown",
   "metadata": {},
   "source": [
    "Такой же график по округам:"
   ]
  },
  {
   "cell_type": "code",
   "execution_count": 41,
   "metadata": {},
   "outputs": [
    {
     "data": {
      "image/png": "[encoded data removed]",
      "text/plain": [
       "<Figure size 720x432 with 1 Axes>"
      ]
     },
     "metadata": {},
     "output_type": "display_data"
    }
   ],
   "source": [
    "rest_data_street_one_group = rest_data_street_one_final.groupby(['adm_area'])['street_x'].count().sort_values(ascending=False).reset_index()\n",
    "\n",
    "fig, ax = plt.subplots(figsize=(10, 6))\n",
    "ax = sns.barplot(x='street_x', y='adm_area', data=rest_data_street_one_group, ci = None)\n",
    "plt.box(False)\n",
    "plt.grid(False)\n",
    "plt.xlabel('Количество единичных объектов')\n",
    "plt.ylabel('')\n",
    "plt.title(\"Округи с одним объектом общественного питания на улице\", fontsize='15');"
   ]
  },
  {
   "cell_type": "markdown",
   "metadata": {},
   "source": [
    "**Мы получили таблицу районов и ответили на вопрос, в каких районах Москвы находятся эти улицы.**"
   ]
  },
  {
   "cell_type": "markdown",
   "metadata": {},
   "source": [
    "### Посмотрите на распределение количества посадочных мест для улиц с большим количеством объектов общественного питания. Какие закономерности можно выявить?"
   ]
  },
  {
   "cell_type": "markdown",
   "metadata": {},
   "source": [
    "Для отслеживания закономерностей построим график методом jointplot() с указанием регрессии. Подготовим таблицу с данными:"
   ]
  },
  {
   "cell_type": "code",
   "execution_count": 42,
   "metadata": {},
   "outputs": [
    {
     "data": {
      "text/html": [
       "<div>\n",
       "<style scoped>\n",
       "    .dataframe tbody tr th:only-of-type {\n",
       "        vertical-align: middle;\n",
       "    }\n",
       "\n",
       "    .dataframe tbody tr th {\n",
       "        vertical-align: top;\n",
       "    }\n",
       "\n",
       "    .dataframe thead th {\n",
       "        text-align: right;\n",
       "    }\n",
       "</style>\n",
       "<table border=\"1\" class=\"dataframe\">\n",
       "  <thead>\n",
       "    <tr style=\"text-align: right;\">\n",
       "      <th></th>\n",
       "      <th>street</th>\n",
       "      <th>id</th>\n",
       "      <th>number</th>\n",
       "    </tr>\n",
       "  </thead>\n",
       "  <tbody>\n",
       "    <tr>\n",
       "      <td>0</td>\n",
       "      <td>проспект Мира</td>\n",
       "      <td>199</td>\n",
       "      <td>62.085427</td>\n",
       "    </tr>\n",
       "    <tr>\n",
       "      <td>1</td>\n",
       "      <td>Профсоюзная улица</td>\n",
       "      <td>181</td>\n",
       "      <td>47.773481</td>\n",
       "    </tr>\n",
       "    <tr>\n",
       "      <td>2</td>\n",
       "      <td>Ленинградский проспект</td>\n",
       "      <td>171</td>\n",
       "      <td>52.497076</td>\n",
       "    </tr>\n",
       "    <tr>\n",
       "      <td>3</td>\n",
       "      <td>Пресненская набережная</td>\n",
       "      <td>165</td>\n",
       "      <td>45.975758</td>\n",
       "    </tr>\n",
       "    <tr>\n",
       "      <td>4</td>\n",
       "      <td>Варшавское шоссе</td>\n",
       "      <td>161</td>\n",
       "      <td>53.000000</td>\n",
       "    </tr>\n",
       "    <tr>\n",
       "      <td>5</td>\n",
       "      <td>Ленинский проспект</td>\n",
       "      <td>148</td>\n",
       "      <td>63.148649</td>\n",
       "    </tr>\n",
       "    <tr>\n",
       "      <td>6</td>\n",
       "      <td>проспект Вернадского</td>\n",
       "      <td>130</td>\n",
       "      <td>67.915385</td>\n",
       "    </tr>\n",
       "    <tr>\n",
       "      <td>7</td>\n",
       "      <td>Кутузовский проспект</td>\n",
       "      <td>112</td>\n",
       "      <td>86.580357</td>\n",
       "    </tr>\n",
       "    <tr>\n",
       "      <td>8</td>\n",
       "      <td>Каширское шоссе</td>\n",
       "      <td>112</td>\n",
       "      <td>55.098214</td>\n",
       "    </tr>\n",
       "    <tr>\n",
       "      <td>9</td>\n",
       "      <td>Кировоградская улица</td>\n",
       "      <td>107</td>\n",
       "      <td>60.065421</td>\n",
       "    </tr>\n",
       "  </tbody>\n",
       "</table>\n",
       "</div>"
      ],
      "text/plain": [
       "                   street   id     number\n",
       "0  проспект Мира           199  62.085427\n",
       "1  Профсоюзная улица       181  47.773481\n",
       "2  Ленинградский проспект  171  52.497076\n",
       "3  Пресненская набережная  165  45.975758\n",
       "4  Варшавское шоссе        161  53.000000\n",
       "5  Ленинский проспект      148  63.148649\n",
       "6  проспект Вернадского    130  67.915385\n",
       "7  Кутузовский проспект    112  86.580357\n",
       "8  Каширское шоссе         112  55.098214\n",
       "9  Кировоградская улица    107  60.065421"
      ]
     },
     "execution_count": 42,
     "metadata": {},
     "output_type": "execute_result"
    }
   ],
   "source": [
    "rest_data_street_top = (rest_data_street.groupby(['street']).agg(\n",
    "    {'id': 'count', 'number': 'mean'})).sort_values(by='id', ascending=False).reset_index()\n",
    "rest_data_street_top.head(10)"
   ]
  },
  {
   "cell_type": "code",
   "execution_count": 43,
   "metadata": {},
   "outputs": [
    {
     "data": {
      "image/png": "[encoded data removed]",
      "text/plain": [
       "<Figure size 432x432 with 3 Axes>"
      ]
     },
     "metadata": {},
     "output_type": "display_data"
    }
   ],
   "source": [
    "sns.set_palette('muted')\n",
    "sns.jointplot(x='id', y='number', data=rest_data_street_top, kind=\"reg\")\n",
    "plt.xlabel('Количество объектов на улице')\n",
    "plt.ylabel('Количество посадочных мест')\n",
    "plt.box(False)\n",
    "plt.grid(False)"
   ]
  },
  {
   "cell_type": "markdown",
   "metadata": {},
   "source": [
    "`Для презентации руководству и инвесторам больше подойдет данный вид схемы:`"
   ]
  },
  {
   "cell_type": "code",
   "execution_count": 44,
   "metadata": {},
   "outputs": [
    {
     "data": {
      "image/png": "[encoded data removed]",
      "text/plain": [
       "<Figure size 432x288 with 1 Axes>"
      ]
     },
     "metadata": {},
     "output_type": "display_data"
    }
   ],
   "source": [
    "sns.scatterplot(x='id', y='number', \n",
    "                data=rest_data_street_top, size='number', hue='id', legend=False, \n",
    "                palette='tab10_r', alpha=0.7)\n",
    "sns.set(rc={'figure.figsize':(8,5)})\n",
    "plt.xlabel('Количество объектов на улице')\n",
    "plt.ylabel('Количество посадочных мест')\n",
    "plt.box(False)\n",
    "plt.grid(False)\n",
    "plt.suptitle(\"Распределение количества посадочных мест по количеству объектов на улице\", fontsize='15');"
   ]
  },
  {
   "cell_type": "markdown",
   "metadata": {},
   "source": [
    "- **Из распределения мы видим, что чем больше объектов на улице, тем меньшее количество посадочных мест в заведениях в среднем.**\n",
    "- **Сначала количество мест уменьшается в прогрессии, но после порога в 100 объектов остается неизменным.**\n",
    "- **В среднем, на самых \"проходных\" улицах количество посадочных мест практически одинаково, и оно не превышает 100 мест**"
   ]
  },
  {
   "cell_type": "markdown",
   "metadata": {},
   "source": [
    "# 3. Выводы и рекомендации <a class=\"anchor\" id=\"third-bullet\"></a>"
   ]
  },
  {
   "cell_type": "markdown",
   "metadata": {},
   "source": [
    "Изучив представленные данные мы можем обратить внимание на следующие выводы:\n",
    "\n",
    "- На рынке установились тенденции. Допустим, количество посадочных мест на самых проходных улицах остается постоянным. Если заказчик планирует открывать кафе на одной из таких оживленных улиц, следует учитывать этот порог;\n",
    "- Заведение типа \"кафе\" занимает самую большую долю рынка - 40%, следом идут категории столовых, ресторанов и объектов быстрого питания в примерно равных пропорциях;\n",
    "- Сетевых заведений в Москве в 4 раза меньше, чем несетевых, при этом кафе характерны для обоих типов, а столовые, буфеты, бары, кафетерии для сетевых объектов очень немногочисленны;\n",
    "- В Москве гораздо больше заведений с небольшим количеством мест, заведения до 50 мест особенно массовы (буфет, бар, кафе в среднем имеют такое количество мест);\n",
    "- Топ-10 улиц по количеству заведений указаны на диаграмме, самые непопулярные районы также указаны.\n",
    "\n",
    "\n",
    "**Рекомендации:**\n",
    "- Очевидно, самую большую популярность на рынке имеют кафе, то есть робокафе вполне может вписаться в эту нишу;\n",
    "- Из сетевых заведений на рынке устойчивы кафе, пункты быстрого питания и рестораны, среди несетевых лидируют кафе, столовые, рестораны. То есть, кафе популярно в обоих случаях.\n",
    "- По тенденциям видно, что бизнес не спешит открывать сетевые заведения, более популярны и оправданны несетевые заведения;\n",
    "- Заведения с небольшим количеством мест особенно массовы, следует выбрать размер около 40-50 посадочных мест.Заказчику необходимо учитывать такую пропускную способность для расчета окупаемости;\n",
    "- Следует сконцентрироваться на районах из Топ-10 и избегать районов с большим количеством единичных объектов на улицах (список прилагается)."
   ]
  },
  {
   "cell_type": "markdown",
   "metadata": {},
   "source": [
    "**Презентация**: <https://disk.yandex.ru/i/duQSQ_1dA-Z6Cg> "
   ]
  },
  {
   "cell_type": "code",
   "execution_count": null,
   "metadata": {},
   "outputs": [],
   "source": []
  }
 ],
 "metadata": {
  "ExecuteTimeLog": [
   {
    "duration": 1138,
    "start_time": "2021-12-23T14:08:04.199Z"
   },
   {
    "duration": 300,
    "start_time": "2021-12-23T14:08:05.339Z"
   },
   {
    "duration": 12,
    "start_time": "2021-12-23T14:08:05.641Z"
   },
   {
    "duration": 21,
    "start_time": "2021-12-23T14:08:05.655Z"
   },
   {
    "duration": 4,
    "start_time": "2021-12-23T14:08:05.677Z"
   },
   {
    "duration": 6,
    "start_time": "2021-12-23T14:08:05.683Z"
   },
   {
    "duration": 20,
    "start_time": "2021-12-23T14:08:05.690Z"
   },
   {
    "duration": 8,
    "start_time": "2021-12-23T14:08:05.713Z"
   },
   {
    "duration": 7,
    "start_time": "2021-12-23T14:08:05.723Z"
   },
   {
    "duration": 9,
    "start_time": "2021-12-23T14:08:05.732Z"
   },
   {
    "duration": 233,
    "start_time": "2021-12-23T14:08:05.743Z"
   },
   {
    "duration": 383,
    "start_time": "2021-12-23T14:08:05.978Z"
   },
   {
    "duration": 9,
    "start_time": "2021-12-23T14:08:06.363Z"
   },
   {
    "duration": 226,
    "start_time": "2021-12-23T14:08:06.373Z"
   },
   {
    "duration": 15,
    "start_time": "2021-12-23T14:08:06.601Z"
   },
   {
    "duration": 231,
    "start_time": "2021-12-23T14:08:06.618Z"
   },
   {
    "duration": 13,
    "start_time": "2021-12-23T14:08:06.851Z"
   },
   {
    "duration": 325,
    "start_time": "2021-12-23T14:08:06.866Z"
   },
   {
    "duration": 16,
    "start_time": "2021-12-23T14:08:07.193Z"
   },
   {
    "duration": 295,
    "start_time": "2021-12-23T14:08:07.211Z"
   },
   {
    "duration": 9,
    "start_time": "2021-12-23T14:08:07.509Z"
   },
   {
    "duration": 48,
    "start_time": "2021-12-23T14:08:07.520Z"
   },
   {
    "duration": 35,
    "start_time": "2021-12-23T14:08:07.572Z"
   },
   {
    "duration": 7,
    "start_time": "2021-12-23T14:08:07.610Z"
   },
   {
    "duration": 43,
    "start_time": "2021-12-23T14:08:07.619Z"
   },
   {
    "duration": 14,
    "start_time": "2021-12-23T14:08:07.663Z"
   },
   {
    "duration": 406,
    "start_time": "2021-12-23T14:08:07.679Z"
   },
   {
    "duration": 9,
    "start_time": "2021-12-23T14:08:08.087Z"
   },
   {
    "duration": 13,
    "start_time": "2021-12-23T14:08:08.098Z"
   },
   {
    "duration": 14,
    "start_time": "2021-12-23T14:08:08.113Z"
   },
   {
    "duration": 2222,
    "start_time": "2021-12-23T14:08:08.129Z"
   },
   {
    "duration": 486,
    "start_time": "2021-12-23T14:08:10.353Z"
   },
   {
    "duration": 1008,
    "start_time": "2021-12-26T03:15:39.178Z"
   },
   {
    "duration": 520,
    "start_time": "2021-12-26T03:15:40.187Z"
   },
   {
    "duration": 11,
    "start_time": "2021-12-26T03:15:40.708Z"
   },
   {
    "duration": 19,
    "start_time": "2021-12-26T03:15:40.721Z"
   },
   {
    "duration": 4,
    "start_time": "2021-12-26T03:15:40.741Z"
   },
   {
    "duration": 17,
    "start_time": "2021-12-26T03:15:40.746Z"
   },
   {
    "duration": 3,
    "start_time": "2021-12-26T03:15:40.764Z"
   },
   {
    "duration": 7,
    "start_time": "2021-12-26T03:15:40.769Z"
   },
   {
    "duration": 7,
    "start_time": "2021-12-26T03:15:40.778Z"
   },
   {
    "duration": 5,
    "start_time": "2021-12-26T03:15:40.786Z"
   },
   {
    "duration": 4,
    "start_time": "2021-12-26T03:15:40.792Z"
   },
   {
    "duration": 11,
    "start_time": "2021-12-26T03:15:40.797Z"
   },
   {
    "duration": 37,
    "start_time": "2021-12-26T03:15:40.810Z"
   },
   {
    "duration": 9,
    "start_time": "2021-12-26T03:15:40.848Z"
   },
   {
    "duration": 188,
    "start_time": "2021-12-26T03:15:40.858Z"
   },
   {
    "duration": 300,
    "start_time": "2021-12-26T03:15:41.047Z"
   },
   {
    "duration": 8,
    "start_time": "2021-12-26T03:15:41.349Z"
   },
   {
    "duration": 196,
    "start_time": "2021-12-26T03:15:41.358Z"
   },
   {
    "duration": 11,
    "start_time": "2021-12-26T03:15:41.556Z"
   },
   {
    "duration": 450,
    "start_time": "2021-12-26T03:15:41.568Z"
   },
   {
    "duration": 21,
    "start_time": "2021-12-26T03:15:42.020Z"
   },
   {
    "duration": 185,
    "start_time": "2021-12-26T03:15:42.042Z"
   },
   {
    "duration": 11,
    "start_time": "2021-12-26T03:15:42.230Z"
   },
   {
    "duration": 242,
    "start_time": "2021-12-26T03:15:42.242Z"
   },
   {
    "duration": 9,
    "start_time": "2021-12-26T03:15:42.486Z"
   },
   {
    "duration": 49,
    "start_time": "2021-12-26T03:15:42.496Z"
   },
   {
    "duration": 18,
    "start_time": "2021-12-26T03:15:42.546Z"
   },
   {
    "duration": 7,
    "start_time": "2021-12-26T03:15:42.565Z"
   },
   {
    "duration": 38,
    "start_time": "2021-12-26T03:15:42.573Z"
   },
   {
    "duration": 108,
    "start_time": "2021-12-26T03:15:42.613Z"
   },
   {
    "duration": 281,
    "start_time": "2021-12-26T03:15:42.723Z"
   },
   {
    "duration": 61626,
    "start_time": "2021-12-26T03:15:43.006Z"
   },
   {
    "duration": 318,
    "start_time": "2021-12-26T03:16:44.634Z"
   },
   {
    "duration": 8,
    "start_time": "2021-12-26T03:16:44.954Z"
   },
   {
    "duration": 359,
    "start_time": "2021-12-26T03:16:44.964Z"
   },
   {
    "duration": 30,
    "start_time": "2021-12-26T03:16:45.324Z"
   },
   {
    "duration": 44,
    "start_time": "2021-12-26T03:16:45.356Z"
   },
   {
    "duration": 10,
    "start_time": "2021-12-26T03:16:45.402Z"
   },
   {
    "duration": 29,
    "start_time": "2021-12-26T03:16:45.414Z"
   },
   {
    "duration": 14,
    "start_time": "2021-12-26T03:16:45.445Z"
   },
   {
    "duration": 15,
    "start_time": "2021-12-26T03:16:45.461Z"
   },
   {
    "duration": 1220,
    "start_time": "2021-12-26T03:16:45.477Z"
   },
   {
    "duration": 429,
    "start_time": "2021-12-26T03:16:46.698Z"
   },
   {
    "duration": 67,
    "start_time": "2021-12-26T03:19:45.518Z"
   },
   {
    "duration": 66,
    "start_time": "2021-12-26T03:35:18.159Z"
   },
   {
    "duration": 13,
    "start_time": "2021-12-26T03:39:58.375Z"
   },
   {
    "duration": 11,
    "start_time": "2021-12-26T03:42:14.106Z"
   },
   {
    "duration": 14,
    "start_time": "2021-12-26T03:44:01.374Z"
   },
   {
    "duration": 15,
    "start_time": "2021-12-26T03:44:35.140Z"
   },
   {
    "duration": 344,
    "start_time": "2021-12-26T03:46:24.955Z"
   },
   {
    "duration": 272,
    "start_time": "2021-12-26T03:46:42.801Z"
   },
   {
    "duration": 11,
    "start_time": "2021-12-26T03:47:07.269Z"
   },
   {
    "duration": 8,
    "start_time": "2021-12-26T03:47:16.327Z"
   },
   {
    "duration": 275,
    "start_time": "2021-12-26T03:47:20.066Z"
   },
   {
    "duration": 260,
    "start_time": "2021-12-26T03:48:01.533Z"
   },
   {
    "duration": 13,
    "start_time": "2021-12-26T03:48:14.193Z"
   },
   {
    "duration": 15,
    "start_time": "2021-12-26T03:49:36.696Z"
   },
   {
    "duration": 4,
    "start_time": "2021-12-26T03:51:22.676Z"
   },
   {
    "duration": 7,
    "start_time": "2021-12-26T03:51:44.173Z"
   },
   {
    "duration": 270,
    "start_time": "2021-12-26T03:56:12.777Z"
   },
   {
    "duration": 274,
    "start_time": "2021-12-26T03:56:43.738Z"
   },
   {
    "duration": 316,
    "start_time": "2021-12-26T03:57:36.387Z"
   },
   {
    "duration": 309,
    "start_time": "2021-12-26T03:58:30.634Z"
   },
   {
    "duration": 249,
    "start_time": "2021-12-26T03:59:34.047Z"
   },
   {
    "duration": 17,
    "start_time": "2021-12-26T03:59:45.177Z"
   },
   {
    "duration": 258,
    "start_time": "2021-12-26T03:59:50.010Z"
   },
   {
    "duration": 260,
    "start_time": "2021-12-26T03:59:56.501Z"
   },
   {
    "duration": 280,
    "start_time": "2021-12-26T04:00:25.064Z"
   },
   {
    "duration": 334,
    "start_time": "2021-12-26T04:02:37.242Z"
   },
   {
    "duration": 263,
    "start_time": "2021-12-26T04:02:45.715Z"
   },
   {
    "duration": 7,
    "start_time": "2021-12-26T04:03:48.715Z"
   },
   {
    "duration": 8,
    "start_time": "2021-12-26T04:04:49.175Z"
   },
   {
    "duration": 264,
    "start_time": "2021-12-26T04:05:06.117Z"
   },
   {
    "duration": 260,
    "start_time": "2021-12-26T04:06:31.807Z"
   },
   {
    "duration": 379,
    "start_time": "2021-12-26T04:06:41.034Z"
   },
   {
    "duration": 14,
    "start_time": "2021-12-26T04:09:38.534Z"
   },
   {
    "duration": 12,
    "start_time": "2021-12-26T04:11:14.905Z"
   },
   {
    "duration": 12,
    "start_time": "2021-12-26T04:11:25.497Z"
   },
   {
    "duration": 14,
    "start_time": "2021-12-26T04:13:34.706Z"
   },
   {
    "duration": 274,
    "start_time": "2021-12-26T04:15:00.908Z"
   },
   {
    "duration": 21,
    "start_time": "2021-12-26T04:15:30.450Z"
   },
   {
    "duration": 24,
    "start_time": "2021-12-26T04:16:25.578Z"
   },
   {
    "duration": 12,
    "start_time": "2021-12-26T04:19:42.109Z"
   },
   {
    "duration": 2399,
    "start_time": "2021-12-26T04:22:32.889Z"
   },
   {
    "duration": 2442,
    "start_time": "2021-12-26T04:24:41.101Z"
   },
   {
    "duration": 617,
    "start_time": "2021-12-26T04:25:09.782Z"
   },
   {
    "duration": 2565,
    "start_time": "2021-12-26T04:25:32.153Z"
   },
   {
    "duration": 96,
    "start_time": "2021-12-26T04:27:04.795Z"
   },
   {
    "duration": 13,
    "start_time": "2021-12-26T04:27:12.049Z"
   },
   {
    "duration": 87,
    "start_time": "2021-12-26T04:27:21.568Z"
   },
   {
    "duration": 2486,
    "start_time": "2021-12-26T04:27:26.925Z"
   },
   {
    "duration": 504,
    "start_time": "2021-12-26T04:28:51.568Z"
   },
   {
    "duration": 480,
    "start_time": "2021-12-26T04:29:00.699Z"
   },
   {
    "duration": 449,
    "start_time": "2021-12-26T04:29:11.135Z"
   },
   {
    "duration": 452,
    "start_time": "2021-12-26T04:29:48.349Z"
   },
   {
    "duration": 303,
    "start_time": "2021-12-26T04:32:50.144Z"
   },
   {
    "duration": 13,
    "start_time": "2021-12-26T04:33:22.173Z"
   },
   {
    "duration": 302,
    "start_time": "2021-12-26T04:33:25.989Z"
   },
   {
    "duration": 481,
    "start_time": "2021-12-26T04:33:31.101Z"
   },
   {
    "duration": 498,
    "start_time": "2021-12-26T04:33:44.856Z"
   },
   {
    "duration": 301,
    "start_time": "2021-12-26T04:33:55.861Z"
   },
   {
    "duration": 321,
    "start_time": "2021-12-26T04:34:03.496Z"
   },
   {
    "duration": 459,
    "start_time": "2021-12-26T04:34:12.320Z"
   },
   {
    "duration": 299,
    "start_time": "2021-12-26T04:34:18.998Z"
   },
   {
    "duration": 304,
    "start_time": "2021-12-26T04:36:22.153Z"
   },
   {
    "duration": 5,
    "start_time": "2021-12-26T04:36:53.527Z"
   },
   {
    "duration": 523,
    "start_time": "2021-12-26T04:39:27.544Z"
   },
   {
    "duration": 1119,
    "start_time": "2021-12-26T04:40:02.079Z"
   },
   {
    "duration": 210,
    "start_time": "2021-12-26T04:40:03.200Z"
   },
   {
    "duration": 12,
    "start_time": "2021-12-26T04:40:03.412Z"
   },
   {
    "duration": 25,
    "start_time": "2021-12-26T04:40:03.426Z"
   },
   {
    "duration": 4,
    "start_time": "2021-12-26T04:40:03.453Z"
   },
   {
    "duration": 20,
    "start_time": "2021-12-26T04:40:03.458Z"
   },
   {
    "duration": 5,
    "start_time": "2021-12-26T04:40:03.480Z"
   },
   {
    "duration": 19,
    "start_time": "2021-12-26T04:40:03.488Z"
   },
   {
    "duration": 10,
    "start_time": "2021-12-26T04:40:03.509Z"
   },
   {
    "duration": 25,
    "start_time": "2021-12-26T04:40:03.521Z"
   },
   {
    "duration": 5,
    "start_time": "2021-12-26T04:40:03.547Z"
   },
   {
    "duration": 12,
    "start_time": "2021-12-26T04:40:03.554Z"
   },
   {
    "duration": 9,
    "start_time": "2021-12-26T04:40:03.568Z"
   },
   {
    "duration": 13,
    "start_time": "2021-12-26T04:40:03.579Z"
   },
   {
    "duration": 220,
    "start_time": "2021-12-26T04:40:03.594Z"
   },
   {
    "duration": 327,
    "start_time": "2021-12-26T04:40:03.816Z"
   },
   {
    "duration": 9,
    "start_time": "2021-12-26T04:40:04.145Z"
   },
   {
    "duration": 214,
    "start_time": "2021-12-26T04:40:04.156Z"
   },
   {
    "duration": 13,
    "start_time": "2021-12-26T04:40:04.372Z"
   },
   {
    "duration": 532,
    "start_time": "2021-12-26T04:40:04.386Z"
   },
   {
    "duration": 22,
    "start_time": "2021-12-26T04:40:04.920Z"
   },
   {
    "duration": 303,
    "start_time": "2021-12-26T04:40:04.943Z"
   },
   {
    "duration": 6,
    "start_time": "2021-12-26T04:40:05.249Z"
   },
   {
    "duration": 265,
    "start_time": "2021-12-26T04:40:05.257Z"
   },
   {
    "duration": 18,
    "start_time": "2021-12-26T04:40:05.524Z"
   },
   {
    "duration": 40,
    "start_time": "2021-12-26T04:40:05.543Z"
   },
   {
    "duration": 18,
    "start_time": "2021-12-26T04:40:05.584Z"
   },
   {
    "duration": 11,
    "start_time": "2021-12-26T04:40:05.603Z"
   },
   {
    "duration": 57,
    "start_time": "2021-12-26T04:40:05.615Z"
   },
   {
    "duration": 94,
    "start_time": "2021-12-26T04:40:05.673Z"
   },
   {
    "duration": 292,
    "start_time": "2021-12-26T04:40:05.769Z"
   },
   {
    "duration": 63782,
    "start_time": "2021-12-26T04:40:06.062Z"
   },
   {
    "duration": 334,
    "start_time": "2021-12-26T04:41:09.845Z"
   },
   {
    "duration": 9,
    "start_time": "2021-12-26T04:41:10.181Z"
   },
   {
    "duration": 332,
    "start_time": "2021-12-26T04:41:10.191Z"
   },
   {
    "duration": 27,
    "start_time": "2021-12-26T04:41:10.524Z"
   },
   {
    "duration": 65,
    "start_time": "2021-12-26T04:41:10.552Z"
   },
   {
    "duration": 39,
    "start_time": "2021-12-26T04:41:10.619Z"
   },
   {
    "duration": 11,
    "start_time": "2021-12-26T04:41:10.659Z"
   },
   {
    "duration": 2518,
    "start_time": "2021-12-26T04:41:10.671Z"
   },
   {
    "duration": 321,
    "start_time": "2021-12-26T04:41:13.191Z"
   },
   {
    "duration": 15,
    "start_time": "2021-12-26T04:41:13.514Z"
   },
   {
    "duration": 1183,
    "start_time": "2021-12-26T04:41:13.531Z"
   },
   {
    "duration": 462,
    "start_time": "2021-12-26T04:41:14.715Z"
   },
   {
    "duration": 76,
    "start_time": "2021-12-26T04:46:18.439Z"
   },
   {
    "duration": 2601,
    "start_time": "2021-12-26T05:12:25.806Z"
   },
   {
    "duration": 194,
    "start_time": "2021-12-26T05:12:44.271Z"
   },
   {
    "duration": 85,
    "start_time": "2021-12-26T05:12:57.222Z"
   },
   {
    "duration": 69,
    "start_time": "2021-12-26T05:13:06.044Z"
   },
   {
    "duration": 78,
    "start_time": "2021-12-26T05:14:22.738Z"
   },
   {
    "duration": 259,
    "start_time": "2021-12-26T05:16:09.206Z"
   },
   {
    "duration": 32,
    "start_time": "2021-12-26T05:16:44.845Z"
   },
   {
    "duration": 31,
    "start_time": "2021-12-26T05:16:56.571Z"
   },
   {
    "duration": 26,
    "start_time": "2021-12-26T05:17:09.183Z"
   },
   {
    "duration": 4,
    "start_time": "2021-12-26T05:17:19.097Z"
   },
   {
    "duration": 209,
    "start_time": "2021-12-26T05:17:19.103Z"
   },
   {
    "duration": 7,
    "start_time": "2021-12-26T05:17:19.314Z"
   },
   {
    "duration": 23,
    "start_time": "2021-12-26T05:17:19.323Z"
   },
   {
    "duration": 3,
    "start_time": "2021-12-26T05:17:19.348Z"
   },
   {
    "duration": 33,
    "start_time": "2021-12-26T05:17:19.353Z"
   },
   {
    "duration": 5,
    "start_time": "2021-12-26T05:17:19.388Z"
   },
   {
    "duration": 27,
    "start_time": "2021-12-26T05:17:19.395Z"
   },
   {
    "duration": 18,
    "start_time": "2021-12-26T05:17:19.425Z"
   },
   {
    "duration": 24,
    "start_time": "2021-12-26T05:17:19.445Z"
   },
   {
    "duration": 11,
    "start_time": "2021-12-26T05:17:19.471Z"
   },
   {
    "duration": 25,
    "start_time": "2021-12-26T05:17:19.484Z"
   },
   {
    "duration": 9,
    "start_time": "2021-12-26T05:17:19.510Z"
   },
   {
    "duration": 18,
    "start_time": "2021-12-26T05:17:19.521Z"
   },
   {
    "duration": 180,
    "start_time": "2021-12-26T05:17:19.541Z"
   },
   {
    "duration": 374,
    "start_time": "2021-12-26T05:17:19.723Z"
   },
   {
    "duration": 8,
    "start_time": "2021-12-26T05:17:20.099Z"
   },
   {
    "duration": 269,
    "start_time": "2021-12-26T05:17:20.109Z"
   },
   {
    "duration": 11,
    "start_time": "2021-12-26T05:17:20.380Z"
   },
   {
    "duration": 616,
    "start_time": "2021-12-26T05:17:20.393Z"
   },
   {
    "duration": 12,
    "start_time": "2021-12-26T05:17:21.011Z"
   },
   {
    "duration": 380,
    "start_time": "2021-12-26T05:17:21.024Z"
   },
   {
    "duration": 7,
    "start_time": "2021-12-26T05:17:21.405Z"
   },
   {
    "duration": 304,
    "start_time": "2021-12-26T05:17:21.413Z"
   },
   {
    "duration": 11,
    "start_time": "2021-12-26T05:17:21.719Z"
   },
   {
    "duration": 42,
    "start_time": "2021-12-26T05:17:21.741Z"
   },
   {
    "duration": 19,
    "start_time": "2021-12-26T05:17:21.786Z"
   },
   {
    "duration": 7,
    "start_time": "2021-12-26T05:17:21.807Z"
   },
   {
    "duration": 43,
    "start_time": "2021-12-26T05:17:21.841Z"
   },
   {
    "duration": 16,
    "start_time": "2021-12-26T05:17:21.886Z"
   },
   {
    "duration": 325,
    "start_time": "2021-12-26T05:17:21.904Z"
   },
   {
    "duration": 70517,
    "start_time": "2021-12-26T05:17:22.230Z"
   },
   {
    "duration": 330,
    "start_time": "2021-12-26T05:18:32.749Z"
   },
   {
    "duration": 11,
    "start_time": "2021-12-26T05:18:33.081Z"
   },
   {
    "duration": 343,
    "start_time": "2021-12-26T05:18:33.094Z"
   },
   {
    "duration": 78,
    "start_time": "2021-12-26T05:18:33.441Z"
   },
   {
    "duration": 29,
    "start_time": "2021-12-26T05:18:39.816Z"
   },
   {
    "duration": 79,
    "start_time": "2021-12-26T05:19:01.651Z"
   },
   {
    "duration": 71,
    "start_time": "2021-12-26T05:19:12.332Z"
   },
   {
    "duration": 70,
    "start_time": "2021-12-26T05:20:11.194Z"
   },
   {
    "duration": 32,
    "start_time": "2021-12-26T05:20:24.647Z"
   },
   {
    "duration": 72,
    "start_time": "2021-12-26T05:20:28.575Z"
   },
   {
    "duration": 68,
    "start_time": "2021-12-26T05:20:40.711Z"
   },
   {
    "duration": 70,
    "start_time": "2021-12-26T05:20:50.470Z"
   },
   {
    "duration": 67,
    "start_time": "2021-12-26T05:21:08.205Z"
   },
   {
    "duration": 72,
    "start_time": "2021-12-26T05:21:30.917Z"
   },
   {
    "duration": 28,
    "start_time": "2021-12-26T05:22:25.430Z"
   },
   {
    "duration": 73,
    "start_time": "2021-12-26T05:22:37.393Z"
   },
   {
    "duration": 70,
    "start_time": "2021-12-26T05:22:46.544Z"
   },
   {
    "duration": 77,
    "start_time": "2021-12-26T05:23:04.579Z"
   },
   {
    "duration": 89,
    "start_time": "2021-12-26T05:23:45.145Z"
   },
   {
    "duration": 258,
    "start_time": "2021-12-26T05:26:51.588Z"
   },
   {
    "duration": 3887,
    "start_time": "2021-12-26T05:27:14.118Z"
   },
   {
    "duration": 2575,
    "start_time": "2021-12-26T05:27:30.956Z"
   },
   {
    "duration": 72,
    "start_time": "2021-12-26T05:28:03.046Z"
   },
   {
    "duration": 71,
    "start_time": "2021-12-26T05:29:26.465Z"
   },
   {
    "duration": 70,
    "start_time": "2021-12-26T05:29:48.027Z"
   },
   {
    "duration": 7,
    "start_time": "2021-12-27T13:25:50.223Z"
   }
  ],
  "kernelspec": {
   "display_name": "Python 3",
   "language": "python",
   "name": "python3"
  },
  "language_info": {
   "codemirror_mode": {
    "name": "ipython",
    "version": 3
   },
   "file_extension": ".py",
   "mimetype": "text/x-python",
   "name": "python",
   "nbconvert_exporter": "python",
   "pygments_lexer": "ipython3",
   "version": "3.7.3"
  },
  "toc": {
   "base_numbering": 1,
   "nav_menu": {},
   "number_sections": true,
   "sideBar": true,
   "skip_h1_title": true,
   "title_cell": "Table of Contents",
   "title_sidebar": "Contents",
   "toc_cell": false,
   "toc_position": {},
   "toc_section_display": true,
   "toc_window_display": false
  }
 },
 "nbformat": 4,
 "nbformat_minor": 2
}
