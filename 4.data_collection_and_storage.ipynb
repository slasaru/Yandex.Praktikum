{
 "cells": [
  {
   "cell_type": "markdown",
   "metadata": {},
   "source": [
    "# Аналитика в авиакомпании"
   ]
  },
  {
   "cell_type": "markdown",
   "metadata": {},
   "source": [
    "# Содержание\n",
    "\n",
    "1. Изучение данных из файлов\n",
    "2. Анализ данных\n",
    "3. Общий вывод"
   ]
  },
  {
   "cell_type": "markdown",
   "metadata": {},
   "source": [
    "## Описание проекта:\n",
    "В нашем распоряжении файлы, в которых содержатся результаты запросов из базы данных по авиакомпаниям за 2018 год.\n",
    "- query_1.csv содержит информацию о моделях самолетов, количестве рейсов каждой модели за сентябрь 2018 г.;\n",
    "- query_3.csv содержит информацию о городах и среднем количестве рейсов, прибывающих в эти города в августе 2018 г.\n",
    "\n",
    "## Цели:\n",
    "- Изучить данные, проверить их на корректность;\n",
    "- Выбрать топ-10 городов по количеству рейсов;\n",
    "- Построить графики: модели самолетов и количество рейсов, города и количество рейсов, топ-10 городов и количество рейсов;\n",
    "- Сделать выводы по каждому из графиков и пояснить результаты."
   ]
  },
  {
   "cell_type": "markdown",
   "metadata": {},
   "source": [
    "# 1. Изучение данных из файлов <a class=\"anchor\" id=\"first-bullet\"></a>"
   ]
  },
  {
   "cell_type": "code",
   "execution_count": 1,
   "metadata": {},
   "outputs": [],
   "source": [
    "import pandas as pd\n",
    "from matplotlib import pyplot as plt\n",
    "import warnings\n",
    "warnings.filterwarnings(\"ignore\")"
   ]
  },
  {
   "cell_type": "markdown",
   "metadata": {},
   "source": [
    "Импортируем данные:"
   ]
  },
  {
   "cell_type": "code",
   "execution_count": 2,
   "metadata": {},
   "outputs": [
    {
     "data": {
      "text/html": [
       "<div>\n",
       "<style scoped>\n",
       "    .dataframe tbody tr th:only-of-type {\n",
       "        vertical-align: middle;\n",
       "    }\n",
       "\n",
       "    .dataframe tbody tr th {\n",
       "        vertical-align: top;\n",
       "    }\n",
       "\n",
       "    .dataframe thead th {\n",
       "        text-align: right;\n",
       "    }\n",
       "</style>\n",
       "<table border=\"1\" class=\"dataframe\">\n",
       "  <thead>\n",
       "    <tr style=\"text-align: right;\">\n",
       "      <th></th>\n",
       "      <th>model</th>\n",
       "      <th>flights_amount</th>\n",
       "    </tr>\n",
       "  </thead>\n",
       "  <tbody>\n",
       "    <tr>\n",
       "      <th>0</th>\n",
       "      <td>Airbus A319-100</td>\n",
       "      <td>607</td>\n",
       "    </tr>\n",
       "    <tr>\n",
       "      <th>1</th>\n",
       "      <td>Airbus A321-200</td>\n",
       "      <td>960</td>\n",
       "    </tr>\n",
       "    <tr>\n",
       "      <th>2</th>\n",
       "      <td>Boeing 737-300</td>\n",
       "      <td>630</td>\n",
       "    </tr>\n",
       "    <tr>\n",
       "      <th>3</th>\n",
       "      <td>Boeing 767-300</td>\n",
       "      <td>600</td>\n",
       "    </tr>\n",
       "    <tr>\n",
       "      <th>4</th>\n",
       "      <td>Boeing 777-300</td>\n",
       "      <td>300</td>\n",
       "    </tr>\n",
       "  </tbody>\n",
       "</table>\n",
       "</div>"
      ],
      "text/plain": [
       "             model  flights_amount\n",
       "0  Airbus A319-100             607\n",
       "1  Airbus A321-200             960\n",
       "2   Boeing 737-300             630\n",
       "3   Boeing 767-300             600\n",
       "4   Boeing 777-300             300"
      ]
     },
     "execution_count": 2,
     "metadata": {},
     "output_type": "execute_result"
    }
   ],
   "source": [
    "try:\n",
    "    df_query_1 = pd.read_csv('query_1.csv')\n",
    "except:\n",
    "    df_query_1 = pd.read_csv('/datasets/query_1.csv')\n",
    "\n",
    "df_query_1.head()"
   ]
  },
  {
   "cell_type": "code",
   "execution_count": 3,
   "metadata": {},
   "outputs": [
    {
     "data": {
      "text/html": [
       "<div>\n",
       "<style scoped>\n",
       "    .dataframe tbody tr th:only-of-type {\n",
       "        vertical-align: middle;\n",
       "    }\n",
       "\n",
       "    .dataframe tbody tr th {\n",
       "        vertical-align: top;\n",
       "    }\n",
       "\n",
       "    .dataframe thead th {\n",
       "        text-align: right;\n",
       "    }\n",
       "</style>\n",
       "<table border=\"1\" class=\"dataframe\">\n",
       "  <thead>\n",
       "    <tr style=\"text-align: right;\">\n",
       "      <th></th>\n",
       "      <th>city</th>\n",
       "      <th>average_flights</th>\n",
       "    </tr>\n",
       "  </thead>\n",
       "  <tbody>\n",
       "    <tr>\n",
       "      <th>0</th>\n",
       "      <td>Абакан</td>\n",
       "      <td>3.870968</td>\n",
       "    </tr>\n",
       "    <tr>\n",
       "      <th>1</th>\n",
       "      <td>Анадырь</td>\n",
       "      <td>1.000000</td>\n",
       "    </tr>\n",
       "    <tr>\n",
       "      <th>2</th>\n",
       "      <td>Анапа</td>\n",
       "      <td>2.161290</td>\n",
       "    </tr>\n",
       "    <tr>\n",
       "      <th>3</th>\n",
       "      <td>Архангельск</td>\n",
       "      <td>5.354839</td>\n",
       "    </tr>\n",
       "    <tr>\n",
       "      <th>4</th>\n",
       "      <td>Астрахань</td>\n",
       "      <td>2.451613</td>\n",
       "    </tr>\n",
       "  </tbody>\n",
       "</table>\n",
       "</div>"
      ],
      "text/plain": [
       "          city  average_flights\n",
       "0       Абакан         3.870968\n",
       "1      Анадырь         1.000000\n",
       "2        Анапа         2.161290\n",
       "3  Архангельск         5.354839\n",
       "4    Астрахань         2.451613"
      ]
     },
     "execution_count": 3,
     "metadata": {},
     "output_type": "execute_result"
    }
   ],
   "source": [
    "try:\n",
    "    df_query_3 = pd.read_csv('query_3.csv')\n",
    "except:\n",
    "    df_query_3 = pd.read_csv('/datasets/query_3.csv')\n",
    "\n",
    "df_query_3.head()"
   ]
  },
  {
   "cell_type": "markdown",
   "metadata": {},
   "source": [
    "Изучим данные на корректность по первой таблице:"
   ]
  },
  {
   "cell_type": "code",
   "execution_count": 4,
   "metadata": {},
   "outputs": [
    {
     "name": "stdout",
     "output_type": "stream",
     "text": [
      "<class 'pandas.core.frame.DataFrame'>\n",
      "RangeIndex: 8 entries, 0 to 7\n",
      "Data columns (total 2 columns):\n",
      "model             8 non-null object\n",
      "flights_amount    8 non-null int64\n",
      "dtypes: int64(1), object(1)\n",
      "memory usage: 208.0+ bytes\n"
     ]
    }
   ],
   "source": [
    "df_query_1.info()"
   ]
  },
  {
   "cell_type": "code",
   "execution_count": 5,
   "metadata": {},
   "outputs": [
    {
     "name": "stdout",
     "output_type": "stream",
     "text": [
      "['Airbus A319-100' 'Airbus A321-200' 'Boeing 737-300' 'Boeing 767-300'\n",
      " 'Boeing 777-300' 'Bombardier CRJ-200' 'Cessna 208 Caravan'\n",
      " 'Sukhoi SuperJet-100']\n"
     ]
    }
   ],
   "source": [
    "print(df_query_1['model'].unique())"
   ]
  },
  {
   "cell_type": "markdown",
   "metadata": {},
   "source": [
    "Как видим, неявных дубликатов моделей (из-за некорректного названия) нет. Имеется 8 моделей и 8 строк в датафрейме. Пропущенных данных или несоответствия формату нет."
   ]
  },
  {
   "cell_type": "markdown",
   "metadata": {},
   "source": [
    "Изучим данные на корректность по второй таблице:"
   ]
  },
  {
   "cell_type": "code",
   "execution_count": 6,
   "metadata": {},
   "outputs": [
    {
     "name": "stdout",
     "output_type": "stream",
     "text": [
      "<class 'pandas.core.frame.DataFrame'>\n",
      "RangeIndex: 101 entries, 0 to 100\n",
      "Data columns (total 2 columns):\n",
      "city               101 non-null object\n",
      "average_flights    101 non-null float64\n",
      "dtypes: float64(1), object(1)\n",
      "memory usage: 1.7+ KB\n"
     ]
    }
   ],
   "source": [
    "df_query_3.info()"
   ]
  },
  {
   "cell_type": "code",
   "execution_count": 7,
   "metadata": {
    "scrolled": true
   },
   "outputs": [
    {
     "name": "stdout",
     "output_type": "stream",
     "text": [
      "101\n"
     ]
    }
   ],
   "source": [
    "print(len(df_query_3['city'].unique()))"
   ]
  },
  {
   "cell_type": "markdown",
   "metadata": {},
   "source": [
    "Пока несоответствий не найдено. Проверим названия городов визуально, так как список небольшой:"
   ]
  },
  {
   "cell_type": "code",
   "execution_count": 8,
   "metadata": {},
   "outputs": [
    {
     "name": "stdout",
     "output_type": "stream",
     "text": [
      "['Абакан' 'Анадырь' 'Анапа' 'Архангельск' 'Астрахань' 'Барнаул' 'Белгород'\n",
      " 'Белоярский' 'Благовещенск' 'Братск' 'Брянск' 'Бугульма' 'Владивосток'\n",
      " 'Владикавказ' 'Волгоград' 'Воркута' 'Воронеж' 'Геленджик' 'Горно-Алтайск'\n",
      " 'Грозный' 'Екатеринбург' 'Иваново' 'Ижевск' 'Иркутск' 'Йошкар-Ола'\n",
      " 'Казань' 'Калининград' 'Калуга' 'Кемерово' 'Киров' 'Когалым'\n",
      " 'Комсомольск-на-Амуре' 'Краснодар' 'Красноярск' 'Курган' 'Курск' 'Кызыл'\n",
      " 'Липецк' 'Магадан' 'Магнитогорск' 'Махачкала' 'Минеральные Воды' 'Мирный'\n",
      " 'Москва' 'Мурманск' 'Надым' 'Нальчик' 'Нарьян-Мар' 'Нерюнгри'\n",
      " 'Нефтеюганск' 'Нижневартовск' 'Нижнекамск' 'Нижний Новгород'\n",
      " 'Новокузнецк' 'Новосибирск' 'Новый Уренгой' 'Норильск' 'Ноябрьск'\n",
      " 'Нягань' 'Омск' 'Оренбург' 'Орск' 'Пенза' 'Пермь' 'Петрозаводск'\n",
      " 'Петропавловск-Камчатский' 'Псков' 'Ростов-на-Дону' 'Салехард' 'Самара'\n",
      " 'Санкт-Петербург' 'Саранск' 'Саратов' 'Советский' 'Сочи' 'Ставрополь'\n",
      " 'Стрежевой' 'Сургут' 'Сыктывкар' 'Тамбов' 'Томск' 'Тюмень' 'Удачный'\n",
      " 'Улан-Удэ' 'Ульяновск' 'Урай' 'Усинск' 'Усть-Илимск' 'Усть-Кут' 'Уфа'\n",
      " 'Ухта' 'Хабаровск' 'Ханты-Мансийск' 'Чебоксары' 'Челябинск' 'Череповец'\n",
      " 'Чита' 'Элиста' 'Южно-Сахалинск' 'Якутск' 'Ярославль']\n"
     ]
    }
   ],
   "source": [
    "print(df_query_3['city'].unique())"
   ]
  },
  {
   "cell_type": "markdown",
   "metadata": {},
   "source": [
    "Все названия городов уникальны, ошибок или непоследовательности в названиях не содержится. На этом предварительное изучение завершено."
   ]
  },
  {
   "cell_type": "markdown",
   "metadata": {},
   "source": [
    "Проверим таблицы на дубликаты среди рядов:"
   ]
  },
  {
   "cell_type": "code",
   "execution_count": 9,
   "metadata": {},
   "outputs": [
    {
     "name": "stdout",
     "output_type": "stream",
     "text": [
      "Empty DataFrame\n",
      "Columns: [model, flights_amount]\n",
      "Index: []\n"
     ]
    }
   ],
   "source": [
    "duplicates = df_query_1[df_query_1.duplicated(keep='last')]\n",
    "print(duplicates)"
   ]
  },
  {
   "cell_type": "code",
   "execution_count": 10,
   "metadata": {},
   "outputs": [
    {
     "name": "stdout",
     "output_type": "stream",
     "text": [
      "Empty DataFrame\n",
      "Columns: [city, average_flights]\n",
      "Index: []\n"
     ]
    }
   ],
   "source": [
    "duplicates = df_query_3[df_query_3.duplicated(keep='last')]\n",
    "print(duplicates)"
   ]
  },
  {
   "cell_type": "markdown",
   "metadata": {},
   "source": [
    "Дублирующихся строк не обнаружено."
   ]
  },
  {
   "cell_type": "markdown",
   "metadata": {},
   "source": [
    "**Общие выводы по разделу:** <a class=\"anchor\" id=\"first-zero-bullet\"></a>\n",
    "\n",
    "- ошибок или непоследовательности в типах данных не содержится;\n",
    "- все категории уникальны, пропуски отсутствуют."
   ]
  },
  {
   "cell_type": "markdown",
   "metadata": {},
   "source": [
    "# 2. Анализ данных <a class=\"anchor\" id=\"second-bullet\"></a>"
   ]
  },
  {
   "cell_type": "markdown",
   "metadata": {},
   "source": [
    "**Анализ топ-10 городов по количеству рейсов:**"
   ]
  },
  {
   "cell_type": "markdown",
   "metadata": {},
   "source": [
    "Сгруппируем данные по названию города и отсортируем в порядке убывания:"
   ]
  },
  {
   "cell_type": "code",
   "execution_count": 11,
   "metadata": {},
   "outputs": [
    {
     "name": "stdout",
     "output_type": "stream",
     "text": [
      "city\n",
      "Москва             129.774194\n",
      "Санкт-Петербург     31.161290\n",
      "Новосибирск         17.322581\n",
      "Красноярск          11.580645\n",
      "Екатеринбург        11.322581\n",
      "Ростов-на-Дону      10.193548\n",
      "Пермь               10.129032\n",
      "Брянск              10.000000\n",
      "Сочи                 9.612903\n",
      "Ульяновск            9.580645\n",
      "Name: average_flights, dtype: float64\n"
     ]
    }
   ],
   "source": [
    "top10_city_num_flights = df_query_3.groupby('city')['average_flights'].mean().sort_values(ascending=False).head(10)\n",
    "print(top10_city_num_flights)"
   ]
  },
  {
   "cell_type": "markdown",
   "metadata": {},
   "source": [
    "**Построение графиков:**"
   ]
  },
  {
   "cell_type": "markdown",
   "metadata": {},
   "source": [
    "**- модели самолетов и количество рейсов**"
   ]
  },
  {
   "cell_type": "code",
   "execution_count": 12,
   "metadata": {
    "scrolled": true
   },
   "outputs": [
    {
     "data": {
      "image/png": "[encoded data removed]",
      "text/plain": [
       "<Figure size 720x288 with 1 Axes>"
      ]
     },
     "metadata": {
      "needs_background": "light"
     },
     "output_type": "display_data"
    }
   ],
   "source": [
    "df_query_1.sort_values(by=['flights_amount']).plot(x='model', y='flights_amount', kind='barh', \n",
    "                            figsize=(10, 4), label='количество рейсов')\n",
    "\n",
    "plt.title('График 1. Количество рейсов по моделям самолетов в сентябре 2018 г.')\n",
    "plt.xlabel('Количество рейсов')\n",
    "plt.ylabel('Модель самолета')\n",
    "\n",
    "plt.show()"
   ]
  },
  {
   "cell_type": "markdown",
   "metadata": {},
   "source": [
    "На рынке представлено только 8 моделей, и тройка лидеров выглядит так: Cessna 208 Caravan, Bombardier CRJ-200 и Sukhoi Superjet.\n",
    "\n",
    "Самолеты Airbus и Boeing занимают скромные позиции. Почему? Для точной информации необходимо знать стоимость билетов, наличие квот на рейсы, направления рейсов, ситуацию на рынке. Однако, предварительно можно указать следующее:\n",
    "- Cessna 208 Caravan это легкий одномоторный самолет. Применяется в малой и грузовой авиации. Соответственно, запускать такие рейсы дешевле, и рейсов потребуется больше;\n",
    "- Bombardier CRJ-200 - небольшой самолет для региональных перевозок. Перевозит малое количество пассажиров (50), летает чаще, чем дальние рейсы;\n",
    "- Sukhoi Superjet-100 - самолет для региональных полетов. Самолеты этой марки имеют неоднозначную репутацию, но на 2017-2018 приходился пик производства этих самолетов, происходили интенсивные закупки в рамках госпрограммы, отсюда такое высокие налеты;\n",
    "- Остальные самолеты принимают на борт гораздо большее количество пассажиров, предназначены для полетов на дальние дистанции, отсюда и меньшее количество рейсов."
   ]
  },
  {
   "cell_type": "markdown",
   "metadata": {},
   "source": [
    "**- города и количество рейсов**\n",
    "\n",
    "Вывод будет сделан ниже по двум графикам: сводному и top-10."
   ]
  },
  {
   "cell_type": "code",
   "execution_count": 13,
   "metadata": {
    "scrolled": false
   },
   "outputs": [
    {
     "data": {
      "image/png": "[encoded data removed]",
      "text/plain": [
       "<Figure size 720x1440 with 1 Axes>"
      ]
     },
     "metadata": {
      "needs_background": "light"
     },
     "output_type": "display_data"
    }
   ],
   "source": [
    "df_query_3.sort_values(by=['average_flights']).plot(x='city', y='average_flights', kind='barh', \n",
    "                            figsize=(10, 20), label='количество рейсов')\n",
    "\n",
    "plt.title('График 2. Среднее количество рейсов по городам в августе 2018 г.')\n",
    "plt.xlabel('Количество рейсов')\n",
    "plt.ylabel('Город')\n",
    "plt.legend(loc = \"lower right\")\n",
    "\n",
    "plt.show()"
   ]
  },
  {
   "cell_type": "markdown",
   "metadata": {},
   "source": [
    "**- топ-10 городов и количество рейсов**"
   ]
  },
  {
   "cell_type": "code",
   "execution_count": 14,
   "metadata": {
    "scrolled": true
   },
   "outputs": [
    {
     "data": {
      "image/png": "[encoded data removed]",
      "text/plain": [
       "<Figure size 720x288 with 1 Axes>"
      ]
     },
     "metadata": {
      "needs_background": "light"
     },
     "output_type": "display_data"
    }
   ],
   "source": [
    "top10_city_num_flights.sort_values().plot(x='city', \n",
    "                            y='average_flights', kind='barh', \n",
    "                            figsize=(10, 4), label='количество рейсов')\n",
    "\n",
    "plt.title('График 3. Топ-10 городов по количеству рейсов в августе 2018 г.')\n",
    "plt.xlabel('Количество рейсов')\n",
    "plt.ylabel('Город')\n",
    "plt.legend(loc = \"lower right\")\n",
    "\n",
    "plt.show()"
   ]
  },
  {
   "cell_type": "markdown",
   "metadata": {},
   "source": [
    "- Как видим, в тройке лидеров Москва, Санкт-Петербург, Новосибирск;\n",
    "- Ожидаемо, Москва опережает все остальные города по количеству рейсов;\n",
    "- Города в топ-10 за пределами тройки лидеров имеют примерно одинаковое количество рейсов;\n",
    "- Распределение количества рейсов по остальным городам убывает очень постепенно, заметны подкатегории (региональные центры / областные центры и далее), в которых примерно одинаковое количество рейсов;\n",
    "- Попадание в Топ-10 небольших городов может быть вызвано различными причинами. Допустим, Сочи является курортным городом, соответственно, принимает большое количество туристов в летние месяцы. В Брянске в в этот период проходит подготовка к празднованию дня города и культурно-патриотическим мероприятиям. В Перми в это время проходили бизнес-конференции. Кроме того, во все эти города люди возвращаются из отпусков в конце лета. Ну и кроме того, некоторые города являются пунктами пересадки."
   ]
  },
  {
   "cell_type": "markdown",
   "metadata": {},
   "source": [
    "**Общие выводы по разделу:** <a class=\"anchor\" id=\"second-zero-bullet\"></a>\n",
    "\n",
    "- нами построены графики по указанным категориям и описаны выводы;\n",
    "- имеется явная тройка лидеров среди городов по количеству рейсов (Москва, Санкт-Петербург, Новосибирск);\n",
    "- по графику соотношения моделей и количества рейсов заметно, что меньшие по размеру самолеты ожидаемо совершают большее количество рейсов."
   ]
  },
  {
   "cell_type": "markdown",
   "metadata": {},
   "source": [
    "# 3. Общий вывод <a class=\"anchor\" id=\"third-bullet\"></a>"
   ]
  },
  {
   "cell_type": "markdown",
   "metadata": {},
   "source": [
    "Нами изучены выгрузки из базы данных авиакомпаний, содержащие информацию о моделях самолетов и количестве выполняемых ими рейсов, а также информацию о городах и количестве принимаемых ими рейсов.\n",
    "\n",
    "Мы можем сделать следующие выводы:\n",
    "\n",
    "- Среди городов по количеству рейсов имеется тройка лидеров (Москва, Санкт-Петербург, Новосибирск);\n",
    "- Очевидно, что большее количество рейсов совершается в крупные центры деловой активности и промышленности либо хабы;\n",
    "- Самолеты меньшей вместимости совершают большее количество рейсов, самолеты большей вместимости совершают меньше рейсов в абсолютном сравнение (но это не значит, что они перевозят меньше пассажиров!);\n",
    "- Следует отметить, что данные взяты за сентябрь и август 2018 года. Эти месяцы непримечательны по мероприятиям (последние игры чемпионата по футболу-2018 завершились еще в июле), так что ситуация в другое время может измениться. Также, как отмечено выше, популярность самолетов Sukhoi Superjet впоследствии сильна упала (https://ru.wikipedia.org/wiki/Sukhoi_Superjet_100)"
   ]
  }
 ],
 "metadata": {
  "ExecuteTimeLog": [
   {
    "duration": 988,
    "start_time": "2021-11-10T13:30:07.720Z"
   },
   {
    "duration": 263,
    "start_time": "2021-11-10T13:30:08.711Z"
   },
   {
    "duration": 284,
    "start_time": "2021-11-10T13:30:08.977Z"
   },
   {
    "duration": 9,
    "start_time": "2021-11-10T13:30:09.264Z"
   },
   {
    "duration": 19,
    "start_time": "2021-11-10T13:30:09.276Z"
   },
   {
    "duration": 24,
    "start_time": "2021-11-10T13:30:09.298Z"
   },
   {
    "duration": 18,
    "start_time": "2021-11-10T13:30:09.324Z"
   },
   {
    "duration": 22,
    "start_time": "2021-11-10T13:30:09.345Z"
   },
   {
    "duration": 27,
    "start_time": "2021-11-10T13:30:09.370Z"
   },
   {
    "duration": 344,
    "start_time": "2021-11-10T13:30:09.400Z"
   },
   {
    "duration": 2669,
    "start_time": "2021-11-10T13:30:09.747Z"
   },
   {
    "duration": 402,
    "start_time": "2021-11-10T13:30:12.419Z"
   },
   {
    "duration": 897,
    "start_time": "2021-11-10T14:20:46.986Z"
   },
   {
    "duration": 305,
    "start_time": "2021-11-10T14:20:47.886Z"
   },
   {
    "duration": 253,
    "start_time": "2021-11-10T14:20:48.195Z"
   },
   {
    "duration": 8,
    "start_time": "2021-11-10T14:20:48.451Z"
   },
   {
    "duration": 14,
    "start_time": "2021-11-10T14:20:48.462Z"
   },
   {
    "duration": 30,
    "start_time": "2021-11-10T14:20:48.479Z"
   },
   {
    "duration": 24,
    "start_time": "2021-11-10T14:20:48.512Z"
   },
   {
    "duration": 29,
    "start_time": "2021-11-10T14:20:48.539Z"
   },
   {
    "duration": 21,
    "start_time": "2021-11-10T14:20:48.571Z"
   },
   {
    "duration": 361,
    "start_time": "2021-11-10T14:20:48.594Z"
   },
   {
    "duration": 2576,
    "start_time": "2021-11-10T14:20:48.958Z"
   },
   {
    "duration": 406,
    "start_time": "2021-11-10T14:20:51.537Z"
   },
   {
    "duration": 498,
    "start_time": "2021-11-10T14:20:51.945Z"
   },
   {
    "duration": 708,
    "start_time": "2021-11-11T13:56:22.102Z"
   },
   {
    "duration": 176,
    "start_time": "2021-11-11T13:56:22.812Z"
   },
   {
    "duration": 169,
    "start_time": "2021-11-11T13:56:22.991Z"
   },
   {
    "duration": 6,
    "start_time": "2021-11-11T13:56:23.162Z"
   },
   {
    "duration": 8,
    "start_time": "2021-11-11T13:56:23.170Z"
   },
   {
    "duration": 10,
    "start_time": "2021-11-11T13:56:23.179Z"
   },
   {
    "duration": 6,
    "start_time": "2021-11-11T13:56:23.191Z"
   },
   {
    "duration": 9,
    "start_time": "2021-11-11T13:56:23.198Z"
   },
   {
    "duration": 8,
    "start_time": "2021-11-11T13:56:23.209Z"
   },
   {
    "duration": 251,
    "start_time": "2021-11-11T13:56:23.219Z"
   },
   {
    "duration": 1525,
    "start_time": "2021-11-11T13:56:23.473Z"
   },
   {
    "duration": 293,
    "start_time": "2021-11-11T13:56:25.000Z"
   },
   {
    "duration": 297,
    "start_time": "2021-11-11T13:56:25.295Z"
   }
  ],
  "kernelspec": {
   "display_name": "Python 3",
   "language": "python",
   "name": "python3"
  },
  "language_info": {
   "codemirror_mode": {
    "name": "ipython",
    "version": 3
   },
   "file_extension": ".py",
   "mimetype": "text/x-python",
   "name": "python",
   "nbconvert_exporter": "python",
   "pygments_lexer": "ipython3",
   "version": "3.7.3"
  },
  "toc": {
   "base_numbering": 1,
   "nav_menu": {},
   "number_sections": true,
   "sideBar": true,
   "skip_h1_title": true,
   "title_cell": "Table of Contents",
   "title_sidebar": "Contents",
   "toc_cell": false,
   "toc_position": {},
   "toc_section_display": true,
   "toc_window_display": false
  }
 },
 "nbformat": 4,
 "nbformat_minor": 2
}
