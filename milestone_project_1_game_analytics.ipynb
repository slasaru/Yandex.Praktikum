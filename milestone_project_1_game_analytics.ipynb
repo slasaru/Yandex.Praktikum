{
 "cells": [
  {
   "cell_type": "markdown",
   "metadata": {},
   "source": [
    "# Содержание\n",
    "\n",
    "1. Изучение данных из файлов\n",
    "2. Подготовка данных\n",
    "3. Анализ данных\n",
    "4. Составление портрета пользователя\n",
    "5. Проверка гипотез\n",
    "6. Общий вывод"
   ]
  },
  {
   "cell_type": "markdown",
   "metadata": {},
   "source": [
    "# Исследование популярности и продаж игр по данным из открытых источников\n",
    "\n",
    "В нашем распоряжении сводка из открытых источников, содержащая данные до 2016 года о продажах игр, оценки пользователей и экспертов, жанры и платформы. \n",
    "\n",
    "**Цели:**\n",
    "- Выявить определяющие успешность игры закономерности, что позволит сделать ставку на потенциально популярный продукт и спланировать рекламные кампании;\n",
    "- Отработать принципы работы с данными, чтобы в дальнейшем механизм можно было использовать для прогнозирования продаж на следующий год на основании данных за прошлый год.\n",
    "\n",
    "**Заказчик:**\n",
    "\n",
    "Интернет-магазин «Стримчик», занимающийся продажами консольных игр.\n",
    "\n",
    "**Способ использования отчета:**\n",
    "- Перейдите в конец файла, поставьте курсов последнюю ячейку и выберите команду Run All Above из меню Cell либо;\n",
    "- Выполните команду Kernel - > Restart & Run All (потребует больше времени, но также поможет \"обнулить\" данные и ошибки);\n",
    "- Также вы можете запускать каждую ячейку по отдельности, полместив в нее курсор и выполнив команду Run. "
   ]
  },
  {
   "cell_type": "markdown",
   "metadata": {},
   "source": [
    "# 1. Изучение данных из файлов <a class=\"anchor\" id=\"first-bullet\"></a>"
   ]
  },
  {
   "cell_type": "code",
   "execution_count": 1,
   "metadata": {},
   "outputs": [],
   "source": [
    "import pandas as pd\n",
    "import numpy as np\n",
    "from datetime import datetime\n",
    "from matplotlib import pyplot as plt\n",
    "from scipy import stats as st\n",
    "import seaborn as sns\n",
    "import re\n",
    "import warnings\n",
    "warnings.filterwarnings(\"ignore\")"
   ]
  },
  {
   "cell_type": "code",
   "execution_count": 2,
   "metadata": {},
   "outputs": [
    {
     "data": {
      "text/html": [
       "<div>\n",
       "<style scoped>\n",
       "    .dataframe tbody tr th:only-of-type {\n",
       "        vertical-align: middle;\n",
       "    }\n",
       "\n",
       "    .dataframe tbody tr th {\n",
       "        vertical-align: top;\n",
       "    }\n",
       "\n",
       "    .dataframe thead th {\n",
       "        text-align: right;\n",
       "    }\n",
       "</style>\n",
       "<table border=\"1\" class=\"dataframe\">\n",
       "  <thead>\n",
       "    <tr style=\"text-align: right;\">\n",
       "      <th></th>\n",
       "      <th>Name</th>\n",
       "      <th>Platform</th>\n",
       "      <th>Year_of_Release</th>\n",
       "      <th>Genre</th>\n",
       "      <th>NA_sales</th>\n",
       "      <th>EU_sales</th>\n",
       "      <th>JP_sales</th>\n",
       "      <th>Other_sales</th>\n",
       "      <th>Critic_Score</th>\n",
       "      <th>User_Score</th>\n",
       "      <th>Rating</th>\n",
       "    </tr>\n",
       "  </thead>\n",
       "  <tbody>\n",
       "    <tr>\n",
       "      <td>0</td>\n",
       "      <td>Wii Sports</td>\n",
       "      <td>Wii</td>\n",
       "      <td>2006.0</td>\n",
       "      <td>Sports</td>\n",
       "      <td>41.36</td>\n",
       "      <td>28.96</td>\n",
       "      <td>3.77</td>\n",
       "      <td>8.45</td>\n",
       "      <td>76.0</td>\n",
       "      <td>8</td>\n",
       "      <td>E</td>\n",
       "    </tr>\n",
       "    <tr>\n",
       "      <td>1</td>\n",
       "      <td>Super Mario Bros.</td>\n",
       "      <td>NES</td>\n",
       "      <td>1985.0</td>\n",
       "      <td>Platform</td>\n",
       "      <td>29.08</td>\n",
       "      <td>3.58</td>\n",
       "      <td>6.81</td>\n",
       "      <td>0.77</td>\n",
       "      <td>NaN</td>\n",
       "      <td>NaN</td>\n",
       "      <td>NaN</td>\n",
       "    </tr>\n",
       "    <tr>\n",
       "      <td>2</td>\n",
       "      <td>Mario Kart Wii</td>\n",
       "      <td>Wii</td>\n",
       "      <td>2008.0</td>\n",
       "      <td>Racing</td>\n",
       "      <td>15.68</td>\n",
       "      <td>12.76</td>\n",
       "      <td>3.79</td>\n",
       "      <td>3.29</td>\n",
       "      <td>82.0</td>\n",
       "      <td>8.3</td>\n",
       "      <td>E</td>\n",
       "    </tr>\n",
       "    <tr>\n",
       "      <td>3</td>\n",
       "      <td>Wii Sports Resort</td>\n",
       "      <td>Wii</td>\n",
       "      <td>2009.0</td>\n",
       "      <td>Sports</td>\n",
       "      <td>15.61</td>\n",
       "      <td>10.93</td>\n",
       "      <td>3.28</td>\n",
       "      <td>2.95</td>\n",
       "      <td>80.0</td>\n",
       "      <td>8</td>\n",
       "      <td>E</td>\n",
       "    </tr>\n",
       "    <tr>\n",
       "      <td>4</td>\n",
       "      <td>Pokemon Red/Pokemon Blue</td>\n",
       "      <td>GB</td>\n",
       "      <td>1996.0</td>\n",
       "      <td>Role-Playing</td>\n",
       "      <td>11.27</td>\n",
       "      <td>8.89</td>\n",
       "      <td>10.22</td>\n",
       "      <td>1.00</td>\n",
       "      <td>NaN</td>\n",
       "      <td>NaN</td>\n",
       "      <td>NaN</td>\n",
       "    </tr>\n",
       "  </tbody>\n",
       "</table>\n",
       "</div>"
      ],
      "text/plain": [
       "                       Name Platform  Year_of_Release         Genre  NA_sales  \\\n",
       "0                Wii Sports      Wii           2006.0        Sports     41.36   \n",
       "1         Super Mario Bros.      NES           1985.0      Platform     29.08   \n",
       "2            Mario Kart Wii      Wii           2008.0        Racing     15.68   \n",
       "3         Wii Sports Resort      Wii           2009.0        Sports     15.61   \n",
       "4  Pokemon Red/Pokemon Blue       GB           1996.0  Role-Playing     11.27   \n",
       "\n",
       "   EU_sales  JP_sales  Other_sales  Critic_Score User_Score Rating  \n",
       "0     28.96      3.77         8.45          76.0          8      E  \n",
       "1      3.58      6.81         0.77           NaN        NaN    NaN  \n",
       "2     12.76      3.79         3.29          82.0        8.3      E  \n",
       "3     10.93      3.28         2.95          80.0          8      E  \n",
       "4      8.89     10.22         1.00           NaN        NaN    NaN  "
      ]
     },
     "execution_count": 2,
     "metadata": {},
     "output_type": "execute_result"
    }
   ],
   "source": [
    "try:\n",
    "    df = pd.read_csv('games.csv')\n",
    "except:\n",
    "    df = pd.read_csv('/datasets/games.csv')\n",
    "\n",
    "df.head()"
   ]
  },
  {
   "cell_type": "markdown",
   "metadata": {},
   "source": [
    "Проверим таблицу на пример однородности и корректности данных:"
   ]
  },
  {
   "cell_type": "code",
   "execution_count": 3,
   "metadata": {},
   "outputs": [
    {
     "name": "stdout",
     "output_type": "stream",
     "text": [
      "<class 'pandas.core.frame.DataFrame'>\n",
      "RangeIndex: 16715 entries, 0 to 16714\n",
      "Data columns (total 11 columns):\n",
      "Name               16713 non-null object\n",
      "Platform           16715 non-null object\n",
      "Year_of_Release    16446 non-null float64\n",
      "Genre              16713 non-null object\n",
      "NA_sales           16715 non-null float64\n",
      "EU_sales           16715 non-null float64\n",
      "JP_sales           16715 non-null float64\n",
      "Other_sales        16715 non-null float64\n",
      "Critic_Score       8137 non-null float64\n",
      "User_Score         10014 non-null object\n",
      "Rating             9949 non-null object\n",
      "dtypes: float64(6), object(5)\n",
      "memory usage: 1.4+ MB\n"
     ]
    }
   ],
   "source": [
    "df.info()"
   ]
  },
  {
   "cell_type": "markdown",
   "metadata": {},
   "source": [
    "А также проверим статистику по числовым значениям:"
   ]
  },
  {
   "cell_type": "code",
   "execution_count": 4,
   "metadata": {},
   "outputs": [
    {
     "data": {
      "text/html": [
       "<div>\n",
       "<style scoped>\n",
       "    .dataframe tbody tr th:only-of-type {\n",
       "        vertical-align: middle;\n",
       "    }\n",
       "\n",
       "    .dataframe tbody tr th {\n",
       "        vertical-align: top;\n",
       "    }\n",
       "\n",
       "    .dataframe thead th {\n",
       "        text-align: right;\n",
       "    }\n",
       "</style>\n",
       "<table border=\"1\" class=\"dataframe\">\n",
       "  <thead>\n",
       "    <tr style=\"text-align: right;\">\n",
       "      <th></th>\n",
       "      <th>Year_of_Release</th>\n",
       "      <th>NA_sales</th>\n",
       "      <th>EU_sales</th>\n",
       "      <th>JP_sales</th>\n",
       "      <th>Other_sales</th>\n",
       "      <th>Critic_Score</th>\n",
       "    </tr>\n",
       "  </thead>\n",
       "  <tbody>\n",
       "    <tr>\n",
       "      <td>count</td>\n",
       "      <td>16446.000000</td>\n",
       "      <td>16715.000000</td>\n",
       "      <td>16715.000000</td>\n",
       "      <td>16715.000000</td>\n",
       "      <td>16715.000000</td>\n",
       "      <td>8137.000000</td>\n",
       "    </tr>\n",
       "    <tr>\n",
       "      <td>mean</td>\n",
       "      <td>2006.484616</td>\n",
       "      <td>0.263377</td>\n",
       "      <td>0.145060</td>\n",
       "      <td>0.077617</td>\n",
       "      <td>0.047342</td>\n",
       "      <td>68.967679</td>\n",
       "    </tr>\n",
       "    <tr>\n",
       "      <td>std</td>\n",
       "      <td>5.877050</td>\n",
       "      <td>0.813604</td>\n",
       "      <td>0.503339</td>\n",
       "      <td>0.308853</td>\n",
       "      <td>0.186731</td>\n",
       "      <td>13.938165</td>\n",
       "    </tr>\n",
       "    <tr>\n",
       "      <td>min</td>\n",
       "      <td>1980.000000</td>\n",
       "      <td>0.000000</td>\n",
       "      <td>0.000000</td>\n",
       "      <td>0.000000</td>\n",
       "      <td>0.000000</td>\n",
       "      <td>13.000000</td>\n",
       "    </tr>\n",
       "    <tr>\n",
       "      <td>25%</td>\n",
       "      <td>2003.000000</td>\n",
       "      <td>0.000000</td>\n",
       "      <td>0.000000</td>\n",
       "      <td>0.000000</td>\n",
       "      <td>0.000000</td>\n",
       "      <td>60.000000</td>\n",
       "    </tr>\n",
       "    <tr>\n",
       "      <td>50%</td>\n",
       "      <td>2007.000000</td>\n",
       "      <td>0.080000</td>\n",
       "      <td>0.020000</td>\n",
       "      <td>0.000000</td>\n",
       "      <td>0.010000</td>\n",
       "      <td>71.000000</td>\n",
       "    </tr>\n",
       "    <tr>\n",
       "      <td>75%</td>\n",
       "      <td>2010.000000</td>\n",
       "      <td>0.240000</td>\n",
       "      <td>0.110000</td>\n",
       "      <td>0.040000</td>\n",
       "      <td>0.030000</td>\n",
       "      <td>79.000000</td>\n",
       "    </tr>\n",
       "    <tr>\n",
       "      <td>max</td>\n",
       "      <td>2016.000000</td>\n",
       "      <td>41.360000</td>\n",
       "      <td>28.960000</td>\n",
       "      <td>10.220000</td>\n",
       "      <td>10.570000</td>\n",
       "      <td>98.000000</td>\n",
       "    </tr>\n",
       "  </tbody>\n",
       "</table>\n",
       "</div>"
      ],
      "text/plain": [
       "       Year_of_Release      NA_sales      EU_sales      JP_sales  \\\n",
       "count     16446.000000  16715.000000  16715.000000  16715.000000   \n",
       "mean       2006.484616      0.263377      0.145060      0.077617   \n",
       "std           5.877050      0.813604      0.503339      0.308853   \n",
       "min        1980.000000      0.000000      0.000000      0.000000   \n",
       "25%        2003.000000      0.000000      0.000000      0.000000   \n",
       "50%        2007.000000      0.080000      0.020000      0.000000   \n",
       "75%        2010.000000      0.240000      0.110000      0.040000   \n",
       "max        2016.000000     41.360000     28.960000     10.220000   \n",
       "\n",
       "        Other_sales  Critic_Score  \n",
       "count  16715.000000   8137.000000  \n",
       "mean       0.047342     68.967679  \n",
       "std        0.186731     13.938165  \n",
       "min        0.000000     13.000000  \n",
       "25%        0.000000     60.000000  \n",
       "50%        0.010000     71.000000  \n",
       "75%        0.030000     79.000000  \n",
       "max       10.570000     98.000000  "
      ]
     },
     "execution_count": 4,
     "metadata": {},
     "output_type": "execute_result"
    }
   ],
   "source": [
    "df.describe()"
   ]
  },
  {
   "cell_type": "markdown",
   "metadata": {},
   "source": [
    "Из интересных наблюдений можно отметить, что в списке есть игры-раритеты, а также есть игры с нулевыми продажами. Будут ли нулевые продажи нулевыми по всем регионам сразу? Средняя оценка, как от пользователей, так и от критиков, довольно высока, но пропущена по многим играм. Интересно, какие продажи у игр без оценок и всегда ли справедливо, что у игр с минимальными оценками будут минимальные продажи?"
   ]
  },
  {
   "cell_type": "markdown",
   "metadata": {},
   "source": [
    "**Общие выводы по разделу:** <a class=\"anchor\" id=\"first-zero-bullet\"></a>\n",
    "\n",
    "- наблюдаются парные пропуски в столбцах name и genre у двух линеек;\n",
    "- наблюдаются пропуски в столбцах year_of_release, critic_score, user_score и rating;\n",
    "- год выпуска указан в неверном дробном формате;\n",
    "- данные в столбце пользовательской оценки необходимо перевести в формат float;\n",
    "- пользовательский рейтинг (user_score) указан в неверном текстовом формате."
   ]
  },
  {
   "cell_type": "markdown",
   "metadata": {},
   "source": [
    "# 2. Подготовка данных <a class=\"anchor\" id=\"second-bullet\"></a>"
   ]
  },
  {
   "cell_type": "markdown",
   "metadata": {},
   "source": [
    "**Преобразуем данные в корректный формат**"
   ]
  },
  {
   "cell_type": "markdown",
   "metadata": {},
   "source": [
    "Приведем названия столбцов к нижнему регистру:"
   ]
  },
  {
   "cell_type": "code",
   "execution_count": 5,
   "metadata": {},
   "outputs": [],
   "source": [
    "df.columns= df.columns.str.lower()"
   ]
  },
  {
   "cell_type": "markdown",
   "metadata": {},
   "source": [
    "Данные о пропущенных годах выпуска взять неоткуда, однако, в названиях некоторых игр упоминается год. Несмотря на то, что упоминание года в названии и фактический год выпуска могут не совпадать, будет разумно все же использовать эти данные для замены."
   ]
  },
  {
   "cell_type": "code",
   "execution_count": 6,
   "metadata": {},
   "outputs": [
    {
     "name": "stdout",
     "output_type": "stream",
     "text": [
      "<class 'pandas.core.frame.DataFrame'>\n",
      "RangeIndex: 16715 entries, 0 to 16714\n",
      "Data columns (total 12 columns):\n",
      "name               16713 non-null object\n",
      "platform           16715 non-null object\n",
      "year_of_release    16463 non-null object\n",
      "genre              16713 non-null object\n",
      "na_sales           16715 non-null float64\n",
      "eu_sales           16715 non-null float64\n",
      "jp_sales           16715 non-null float64\n",
      "other_sales        16715 non-null float64\n",
      "critic_score       8137 non-null float64\n",
      "user_score         10014 non-null object\n",
      "rating             9949 non-null object\n",
      "temp_year          895 non-null object\n",
      "dtypes: float64(5), object(7)\n",
      "memory usage: 1.5+ MB\n"
     ]
    }
   ],
   "source": [
    "df['temp_year'] = df['name'].str.extract('([1-3][0-9]{3})')\n",
    "df.loc[df['year_of_release'].isna(), 'year_of_release'] = df['temp_year']\n",
    "df.info()"
   ]
  },
  {
   "cell_type": "markdown",
   "metadata": {},
   "source": [
    "Было заменено всего около 20 линеек. Остальные линейки нам придется отбросить, потому что иначе в дальнейшем не получится анализировать данные по этому параметру."
   ]
  },
  {
   "cell_type": "code",
   "execution_count": 7,
   "metadata": {},
   "outputs": [
    {
     "name": "stdout",
     "output_type": "stream",
     "text": [
      "<class 'pandas.core.frame.DataFrame'>\n",
      "Int64Index: 16463 entries, 0 to 16714\n",
      "Data columns (total 12 columns):\n",
      "name               16461 non-null object\n",
      "platform           16463 non-null object\n",
      "year_of_release    16463 non-null object\n",
      "genre              16461 non-null object\n",
      "na_sales           16463 non-null float64\n",
      "eu_sales           16463 non-null float64\n",
      "jp_sales           16463 non-null float64\n",
      "other_sales        16463 non-null float64\n",
      "critic_score       7995 non-null float64\n",
      "user_score         9851 non-null object\n",
      "rating             9779 non-null object\n",
      "temp_year          895 non-null object\n",
      "dtypes: float64(5), object(7)\n",
      "memory usage: 1.6+ MB\n"
     ]
    }
   ],
   "source": [
    "df = df.dropna(axis=0, subset=('year_of_release',))\n",
    "df.info()"
   ]
  },
  {
   "cell_type": "markdown",
   "metadata": {},
   "source": [
    "Теперь изменим тип данных на целочисленный:"
   ]
  },
  {
   "cell_type": "code",
   "execution_count": 8,
   "metadata": {},
   "outputs": [],
   "source": [
    "df['year_of_release'] = df['year_of_release'].astype(int)"
   ]
  },
  {
   "cell_type": "markdown",
   "metadata": {},
   "source": [
    "Значения в столбце user_score надо изменить на тип float, перед этим заменить 'tbd' на 'NaN'. Это значения с пока отсутствующим рейтингом (не набралось достаточное количество обзоров), но с учетом давности сроков, их можно смело изменить на 'NaN':"
   ]
  },
  {
   "cell_type": "code",
   "execution_count": 9,
   "metadata": {},
   "outputs": [
    {
     "name": "stdout",
     "output_type": "stream",
     "text": [
      "<class 'pandas.core.frame.DataFrame'>\n",
      "Int64Index: 16463 entries, 0 to 16714\n",
      "Data columns (total 12 columns):\n",
      "name               16461 non-null object\n",
      "platform           16463 non-null object\n",
      "year_of_release    16463 non-null int64\n",
      "genre              16461 non-null object\n",
      "na_sales           16463 non-null float64\n",
      "eu_sales           16463 non-null float64\n",
      "jp_sales           16463 non-null float64\n",
      "other_sales        16463 non-null float64\n",
      "critic_score       7995 non-null float64\n",
      "user_score         7473 non-null float64\n",
      "rating             9779 non-null object\n",
      "temp_year          895 non-null object\n",
      "dtypes: float64(6), int64(1), object(5)\n",
      "memory usage: 1.6+ MB\n"
     ]
    }
   ],
   "source": [
    "df.loc[df['user_score'] == 'tbd', 'user_score'] = 'NaN'\n",
    "df['user_score'] = df['user_score'].astype(float)\n",
    "df.info()"
   ]
  },
  {
   "cell_type": "markdown",
   "metadata": {},
   "source": [
    "`Проверку на дубликаты` имеет смысл проводить только по названию игр на **одной** платформе. Создадим дополнительный столбик вида \"название игры/платформа/год\". Игра с таким же названием, но другого года выпуска обычно представляет собой ремастер, поэтому одноименные игры разного года выпуска считать дубликатами не будем. Вообще, бывают еще региональные версии, которые иногда довольно сильно различаются, но так глубоко погружаться не будем:"
   ]
  },
  {
   "cell_type": "code",
   "execution_count": 10,
   "metadata": {},
   "outputs": [
    {
     "name": "stdout",
     "output_type": "stream",
     "text": [
      "                name platform  year_of_release   genre           name_platform\n",
      "604    Madden NFL 13      PS3             2012  Sports  Madden NFL 13/PS3/2012\n",
      "659              NaN      GEN             1993     NaN                     NaN\n",
      "14244            NaN      GEN             1993     NaN                     NaN\n",
      "16230  Madden NFL 13      PS3             2012  Sports  Madden NFL 13/PS3/2012\n"
     ]
    }
   ],
   "source": [
    "df['name_platform'] = df['name'] + '/' + df['platform'] + '/' + df['year_of_release'].astype(str)\n",
    "df_dupl = df[df.duplicated(['name_platform'], keep=False)]\n",
    "df_dupl = df_dupl[['name','platform','year_of_release','genre','name_platform']]\n",
    "print(df_dupl)"
   ]
  },
  {
   "cell_type": "markdown",
   "metadata": {},
   "source": [
    "Как видим, нам выдало всего две пары дубликатов. С играми без названия (name=NaN) разберемся в следующем разделе, а пока можем удалить дублирующиеся строки, и проверим размер таблицы до и после изменений:"
   ]
  },
  {
   "cell_type": "code",
   "execution_count": 11,
   "metadata": {},
   "outputs": [
    {
     "name": "stdout",
     "output_type": "stream",
     "text": [
      "(16463, 13)\n",
      "(16461, 13)\n"
     ]
    }
   ],
   "source": [
    "print(df.shape)\n",
    "df = df.drop_duplicates(subset=['name','platform','year_of_release','genre'], keep='last')\n",
    "print(df.shape)"
   ]
  },
  {
   "cell_type": "markdown",
   "metadata": {},
   "source": [
    "От незначительного количества дубликатов мы избавились."
   ]
  },
  {
   "cell_type": "markdown",
   "metadata": {},
   "source": [
    "**Заполнение пропусков**"
   ]
  },
  {
   "cell_type": "markdown",
   "metadata": {},
   "source": [
    "Для столбца year_of_release мы заполнили значения, где это было возможно. Проверим пропущенные значения в столбце name."
   ]
  },
  {
   "cell_type": "code",
   "execution_count": 12,
   "metadata": {},
   "outputs": [
    {
     "data": {
      "text/html": [
       "<div>\n",
       "<style scoped>\n",
       "    .dataframe tbody tr th:only-of-type {\n",
       "        vertical-align: middle;\n",
       "    }\n",
       "\n",
       "    .dataframe tbody tr th {\n",
       "        vertical-align: top;\n",
       "    }\n",
       "\n",
       "    .dataframe thead th {\n",
       "        text-align: right;\n",
       "    }\n",
       "</style>\n",
       "<table border=\"1\" class=\"dataframe\">\n",
       "  <thead>\n",
       "    <tr style=\"text-align: right;\">\n",
       "      <th></th>\n",
       "      <th>name</th>\n",
       "      <th>platform</th>\n",
       "      <th>year_of_release</th>\n",
       "      <th>genre</th>\n",
       "      <th>na_sales</th>\n",
       "      <th>eu_sales</th>\n",
       "      <th>jp_sales</th>\n",
       "      <th>other_sales</th>\n",
       "      <th>critic_score</th>\n",
       "      <th>user_score</th>\n",
       "      <th>rating</th>\n",
       "      <th>temp_year</th>\n",
       "      <th>name_platform</th>\n",
       "    </tr>\n",
       "  </thead>\n",
       "  <tbody>\n",
       "    <tr>\n",
       "      <td>14244</td>\n",
       "      <td>NaN</td>\n",
       "      <td>GEN</td>\n",
       "      <td>1993</td>\n",
       "      <td>NaN</td>\n",
       "      <td>0.0</td>\n",
       "      <td>0.0</td>\n",
       "      <td>0.03</td>\n",
       "      <td>0.0</td>\n",
       "      <td>NaN</td>\n",
       "      <td>NaN</td>\n",
       "      <td>NaN</td>\n",
       "      <td>NaN</td>\n",
       "      <td>NaN</td>\n",
       "    </tr>\n",
       "  </tbody>\n",
       "</table>\n",
       "</div>"
      ],
      "text/plain": [
       "      name platform  year_of_release genre  na_sales  eu_sales  jp_sales  \\\n",
       "14244  NaN      GEN             1993   NaN       0.0       0.0      0.03   \n",
       "\n",
       "       other_sales  critic_score  user_score rating temp_year name_platform  \n",
       "14244          0.0           NaN         NaN    NaN       NaN           NaN  "
      ]
     },
     "execution_count": 12,
     "metadata": {},
     "output_type": "execute_result"
    }
   ],
   "source": [
    "df[df['name'].isna()].head()"
   ]
  },
  {
   "cell_type": "markdown",
   "metadata": {},
   "source": [
    "Осталась бесполезная информация. От этих двух строк можно избавиться, одновременно мы избавимся от пропущенных значений в столбце genre."
   ]
  },
  {
   "cell_type": "code",
   "execution_count": 13,
   "metadata": {},
   "outputs": [],
   "source": [
    "df = df.dropna(axis=0, subset=('name',))"
   ]
  },
  {
   "cell_type": "markdown",
   "metadata": {},
   "source": [
    "Пропуски в столбце rating заменим на 'NR' (Not Rated), что будет логичной заменой, т.к. есть игры и без выданного возрастного рейтинга и позволит выполнять категоризацию по этому значению:"
   ]
  },
  {
   "cell_type": "code",
   "execution_count": 14,
   "metadata": {},
   "outputs": [],
   "source": [
    "df['rating'].fillna('NR', inplace=True)"
   ]
  },
  {
   "cell_type": "markdown",
   "metadata": {},
   "source": [
    "Пропущенные значения critic_score, user_score заменять не будем. Игры без оценок могут существовать, особенно мелкие/казуальные, а операции над значениями проводить мы все еще сможем."
   ]
  },
  {
   "cell_type": "code",
   "execution_count": 15,
   "metadata": {},
   "outputs": [
    {
     "name": "stdout",
     "output_type": "stream",
     "text": [
      "<class 'pandas.core.frame.DataFrame'>\n",
      "Int64Index: 16460 entries, 0 to 16714\n",
      "Data columns (total 12 columns):\n",
      "name               16460 non-null object\n",
      "platform           16460 non-null object\n",
      "year_of_release    16460 non-null int64\n",
      "genre              16460 non-null object\n",
      "na_sales           16460 non-null float64\n",
      "eu_sales           16460 non-null float64\n",
      "jp_sales           16460 non-null float64\n",
      "other_sales        16460 non-null float64\n",
      "critic_score       7994 non-null float64\n",
      "user_score         7472 non-null float64\n",
      "rating             16460 non-null object\n",
      "name_platform      16460 non-null object\n",
      "dtypes: float64(6), int64(1), object(5)\n",
      "memory usage: 1.6+ MB\n"
     ]
    }
   ],
   "source": [
    "df.drop(columns=['temp_year'], inplace=True)\n",
    "df.info()"
   ]
  },
  {
   "cell_type": "markdown",
   "metadata": {},
   "source": [
    "**Посчитаем суммарные продажи во всех регионах и внесем их в отдельный столбец**"
   ]
  },
  {
   "cell_type": "code",
   "execution_count": 16,
   "metadata": {},
   "outputs": [
    {
     "data": {
      "text/html": [
       "<div>\n",
       "<style scoped>\n",
       "    .dataframe tbody tr th:only-of-type {\n",
       "        vertical-align: middle;\n",
       "    }\n",
       "\n",
       "    .dataframe tbody tr th {\n",
       "        vertical-align: top;\n",
       "    }\n",
       "\n",
       "    .dataframe thead th {\n",
       "        text-align: right;\n",
       "    }\n",
       "</style>\n",
       "<table border=\"1\" class=\"dataframe\">\n",
       "  <thead>\n",
       "    <tr style=\"text-align: right;\">\n",
       "      <th></th>\n",
       "      <th>name</th>\n",
       "      <th>platform</th>\n",
       "      <th>year_of_release</th>\n",
       "      <th>genre</th>\n",
       "      <th>na_sales</th>\n",
       "      <th>eu_sales</th>\n",
       "      <th>jp_sales</th>\n",
       "      <th>other_sales</th>\n",
       "      <th>all_reg_sales</th>\n",
       "      <th>critic_score</th>\n",
       "      <th>user_score</th>\n",
       "      <th>rating</th>\n",
       "    </tr>\n",
       "  </thead>\n",
       "  <tbody>\n",
       "    <tr>\n",
       "      <td>0</td>\n",
       "      <td>Wii Sports</td>\n",
       "      <td>Wii</td>\n",
       "      <td>2006</td>\n",
       "      <td>Sports</td>\n",
       "      <td>41.36</td>\n",
       "      <td>28.96</td>\n",
       "      <td>3.77</td>\n",
       "      <td>8.45</td>\n",
       "      <td>82.54</td>\n",
       "      <td>76.0</td>\n",
       "      <td>8.0</td>\n",
       "      <td>E</td>\n",
       "    </tr>\n",
       "    <tr>\n",
       "      <td>1</td>\n",
       "      <td>Super Mario Bros.</td>\n",
       "      <td>NES</td>\n",
       "      <td>1985</td>\n",
       "      <td>Platform</td>\n",
       "      <td>29.08</td>\n",
       "      <td>3.58</td>\n",
       "      <td>6.81</td>\n",
       "      <td>0.77</td>\n",
       "      <td>40.24</td>\n",
       "      <td>NaN</td>\n",
       "      <td>NaN</td>\n",
       "      <td>NR</td>\n",
       "    </tr>\n",
       "    <tr>\n",
       "      <td>2</td>\n",
       "      <td>Mario Kart Wii</td>\n",
       "      <td>Wii</td>\n",
       "      <td>2008</td>\n",
       "      <td>Racing</td>\n",
       "      <td>15.68</td>\n",
       "      <td>12.76</td>\n",
       "      <td>3.79</td>\n",
       "      <td>3.29</td>\n",
       "      <td>35.52</td>\n",
       "      <td>82.0</td>\n",
       "      <td>8.3</td>\n",
       "      <td>E</td>\n",
       "    </tr>\n",
       "    <tr>\n",
       "      <td>3</td>\n",
       "      <td>Wii Sports Resort</td>\n",
       "      <td>Wii</td>\n",
       "      <td>2009</td>\n",
       "      <td>Sports</td>\n",
       "      <td>15.61</td>\n",
       "      <td>10.93</td>\n",
       "      <td>3.28</td>\n",
       "      <td>2.95</td>\n",
       "      <td>32.77</td>\n",
       "      <td>80.0</td>\n",
       "      <td>8.0</td>\n",
       "      <td>E</td>\n",
       "    </tr>\n",
       "    <tr>\n",
       "      <td>4</td>\n",
       "      <td>Pokemon Red/Pokemon Blue</td>\n",
       "      <td>GB</td>\n",
       "      <td>1996</td>\n",
       "      <td>Role-Playing</td>\n",
       "      <td>11.27</td>\n",
       "      <td>8.89</td>\n",
       "      <td>10.22</td>\n",
       "      <td>1.00</td>\n",
       "      <td>31.38</td>\n",
       "      <td>NaN</td>\n",
       "      <td>NaN</td>\n",
       "      <td>NR</td>\n",
       "    </tr>\n",
       "  </tbody>\n",
       "</table>\n",
       "</div>"
      ],
      "text/plain": [
       "                       name platform  year_of_release         genre  na_sales  \\\n",
       "0                Wii Sports      Wii             2006        Sports     41.36   \n",
       "1         Super Mario Bros.      NES             1985      Platform     29.08   \n",
       "2            Mario Kart Wii      Wii             2008        Racing     15.68   \n",
       "3         Wii Sports Resort      Wii             2009        Sports     15.61   \n",
       "4  Pokemon Red/Pokemon Blue       GB             1996  Role-Playing     11.27   \n",
       "\n",
       "   eu_sales  jp_sales  other_sales  all_reg_sales  critic_score  user_score  \\\n",
       "0     28.96      3.77         8.45          82.54          76.0         8.0   \n",
       "1      3.58      6.81         0.77          40.24           NaN         NaN   \n",
       "2     12.76      3.79         3.29          35.52          82.0         8.3   \n",
       "3     10.93      3.28         2.95          32.77          80.0         8.0   \n",
       "4      8.89     10.22         1.00          31.38           NaN         NaN   \n",
       "\n",
       "  rating  \n",
       "0      E  \n",
       "1     NR  \n",
       "2      E  \n",
       "3      E  \n",
       "4     NR  "
      ]
     },
     "execution_count": 16,
     "metadata": {},
     "output_type": "execute_result"
    }
   ],
   "source": [
    "df['all_reg_sales'] = df['na_sales'] + df['eu_sales'] + df['jp_sales'] + df['other_sales']\n",
    "df = df[['name', 'platform', 'year_of_release', 'genre', 'na_sales', \n",
    "         'eu_sales', 'jp_sales', 'other_sales', 'all_reg_sales', 'critic_score', 'user_score', 'rating']]\n",
    "df.head()"
   ]
  },
  {
   "cell_type": "markdown",
   "metadata": {},
   "source": [
    "**Общие выводы по разделу:** <a class=\"anchor\" id=\"second-zero-bullet\"></a>\n",
    "- Выполнена проверка файла с информацией о продажах консоли;\n",
    "- Пропуски заменены, за исключением столбцов с оценками критиков и пользователей. Пока полагаем, что данное условие не помешает анализу;\n",
    "- Было удалено несколько строк, в количестве, некритичном для выполнения анализа;\n",
    "- Выведены суммарные продажи консолей во всех регионах в столбец all_reg_sales."
   ]
  },
  {
   "cell_type": "markdown",
   "metadata": {},
   "source": [
    "[К НАЧАЛУ РАЗДЕЛА...](#second-bullet)\n",
    "\n",
    "[К СОДЕРЖАНИЮ...](#zero-bullet)"
   ]
  },
  {
   "cell_type": "markdown",
   "metadata": {},
   "source": [
    "# 3. Анализ данных <a class=\"anchor\" id=\"third-bullet\"></a>"
   ]
  },
  {
   "cell_type": "markdown",
   "metadata": {},
   "source": [
    "**Посмотрим, сколько игр выпускалось в разные годы:**"
   ]
  },
  {
   "cell_type": "code",
   "execution_count": 17,
   "metadata": {},
   "outputs": [],
   "source": [
    "df_count_games_by_year = df.groupby('year_of_release',as_index=False)['name'].count()"
   ]
  },
  {
   "cell_type": "code",
   "execution_count": 18,
   "metadata": {},
   "outputs": [
    {
     "name": "stdout",
     "output_type": "stream",
     "text": [
      "    year_of_release  name\n",
      "0              1980     9\n",
      "1              1981    46\n",
      "2              1982    36\n",
      "3              1983    17\n",
      "4              1984    14\n",
      "5              1985    14\n",
      "6              1986    21\n",
      "7              1987    16\n",
      "8              1988    15\n",
      "9              1989    17\n",
      "10             1990    16\n",
      "11             1991    41\n",
      "12             1992    43\n",
      "13             1993    60\n",
      "14             1994   121\n",
      "15             1995   219\n",
      "16             1996   263\n",
      "17             1997   289\n",
      "18             1998   379\n",
      "19             1999   338\n",
      "20             2000   350\n",
      "21             2001   482\n",
      "22             2002   830\n",
      "23             2003   779\n",
      "24             2004   764\n",
      "25             2005   941\n",
      "26             2006  1008\n",
      "27             2007  1198\n",
      "28             2008  1429\n",
      "29             2009  1427\n",
      "30             2010  1255\n",
      "31             2011  1137\n",
      "32             2012   652\n",
      "33             2013   545\n",
      "34             2014   581\n",
      "35             2015   606\n",
      "36             2016   502\n"
     ]
    }
   ],
   "source": [
    "print(df_count_games_by_year)"
   ]
  },
  {
   "cell_type": "markdown",
   "metadata": {},
   "source": [
    "Как видим, количество игр до середины девяностых значительно меньше, чем за другие периоды. Пока неизвестно, имеет ли практическую ценность данный период для нашего магазина. Такую картину подтверждает столбчатая диаграмма (важен период с 2002 года). С другой стороны, возможно, что с 2006 по 2011 годы выходило слишком много игр, чтобы считать такое количество постоянным трендом. В пользу этой мысли говорит диаграмма размаха (особо важны значения в диапазоне от 60 до 779), остальное - выбросы."
   ]
  },
  {
   "cell_type": "code",
   "execution_count": 19,
   "metadata": {},
   "outputs": [
    {
     "data": {
      "image/png": "[encoded data removed]",
      "text/plain": [
       "<Figure size 216x288 with 1 Axes>"
      ]
     },
     "metadata": {
      "needs_background": "light"
     },
     "output_type": "display_data"
    },
    {
     "data": {
      "image/png": "[encoded data removed]",
      "text/plain": [
       "<Figure size 720x288 with 1 Axes>"
      ]
     },
     "metadata": {},
     "output_type": "display_data"
    }
   ],
   "source": [
    "fig = plt.figure(figsize=(3, 4))\n",
    "sns.set()\n",
    "sns.boxplot(y='name', data=df_count_games_by_year).set_title(\"Диаграмма размаха по количеству игровых релизов\")\n",
    "df_count_games_by_year.plot(x='year_of_release', \n",
    "                            y='name', kind='bar', \n",
    "                            figsize=(10, 4)).set_title(\"Распределение игровых релизов по суммарным игровым продажам\")\n",
    "plt.show()"
   ]
  },
  {
   "cell_type": "markdown",
   "metadata": {},
   "source": [
    "**Посмотрим, как менялись продажи по платформам.**\n",
    "\n",
    "Выберем платформы с наибольшими суммарными продажами:"
   ]
  },
  {
   "cell_type": "code",
   "execution_count": 20,
   "metadata": {},
   "outputs": [
    {
     "name": "stdout",
     "output_type": "stream",
     "text": [
      "platform\n",
      "PS2     1247.28\n",
      "X360     961.30\n",
      "PS3      928.78\n",
      "Wii      891.18\n",
      "DS       802.79\n",
      "PS       727.58\n",
      "PS4      314.14\n",
      "GBA      312.88\n",
      "PSP      290.34\n",
      "3DS      257.81\n",
      "PC       256.11\n",
      "GB       254.43\n",
      "XB       252.66\n",
      "NES      251.05\n",
      "N64      218.01\n",
      "SNES     200.04\n",
      "GC       197.03\n",
      "XOne     159.32\n",
      "2600      86.48\n",
      "WiiU      82.19\n",
      "PSV       53.81\n",
      "SAT       33.59\n",
      "GEN       28.35\n",
      "DC        15.95\n",
      "SCD        1.86\n",
      "NG         1.44\n",
      "WS         1.42\n",
      "TG16       0.16\n",
      "3DO        0.10\n",
      "GG         0.04\n",
      "PCFX       0.03\n",
      "Name: all_reg_sales, dtype: float64\n"
     ]
    }
   ],
   "source": [
    "df_max_sales_per_platform = df.groupby('platform')['all_reg_sales'].sum().sort_values(ascending=False)\n",
    "print(df_max_sales_per_platform)"
   ]
  },
  {
   "cell_type": "markdown",
   "metadata": {},
   "source": [
    "Самой массовой платформой является PS2. Для пробы построим распределение по годам для нее, подобрав опытным путем значение bins, чтобы не возникало разрывом между столбцами:"
   ]
  },
  {
   "cell_type": "code",
   "execution_count": 21,
   "metadata": {},
   "outputs": [
    {
     "data": {
      "image/png": "[encoded data removed]",
      "text/plain": [
       "<Figure size 432x288 with 1 Axes>"
      ]
     },
     "metadata": {},
     "output_type": "display_data"
    }
   ],
   "source": [
    "df_ps2 = df.query('platform == \"PS2\"')\n",
    "df_ps2_hist = df_ps2['year_of_release']\n",
    "df_ps2_hist.hist(bins=12)\n",
    "plt.title(\"Распределение игровых релизов по годам для платформы PS2\");"
   ]
  },
  {
   "cell_type": "markdown",
   "metadata": {},
   "source": [
    "Как видим из гистограммы, жизненный цикл для данной платформы составляет около 10 лет. Далее проверим распределение для других массовых платформ по годам, возьмем седьмое поколение. Продажи для платформы DS очень высоки и для целей данной гистограммы не важны, поэтому ограничим значения по оси y для отображения более крупного масштаба. Значения для оси x определим опытным путем:"
   ]
  },
  {
   "cell_type": "code",
   "execution_count": 22,
   "metadata": {},
   "outputs": [
    {
     "data": {
      "image/png": "[encoded data removed]",
      "text/plain": [
       "<Figure size 432x288 with 1 Axes>"
      ]
     },
     "metadata": {},
     "output_type": "display_data"
    }
   ],
   "source": [
    "plt.xlim(2002, 2017)\n",
    "plt.ylim(0, 350)\n",
    "df_DS = df.query('platform == \"DS\"')\n",
    "df_DS_hist = df_DS['year_of_release']\n",
    "df_DS_hist.hist(bins=12, alpha=0.6)\n",
    "df_x360 = df.query('platform == \"X360\"')\n",
    "df_x360_hist = df_x360['year_of_release']\n",
    "df_x360_hist.hist(bins=12, alpha=0.4)\n",
    "df_PS3 = df.query('platform == \"PS3\"')\n",
    "df_PS3_hist = df_PS3['year_of_release']\n",
    "df_PS3_hist.hist(bins=12, alpha=0.4)\n",
    "df_Wii = df.query('platform == \"Wii\"')\n",
    "df_Wii_hist = df_Wii['year_of_release']\n",
    "df_Wii_hist.hist(bins=12, alpha=0.4)\n",
    "labels= [\"DS\",\"X360\", \"PS3\", \"Wii\"]\n",
    "plt.legend(labels)\n",
    "plt.title(\"Распределение игровых релизов по годам для платформ седьмого поколения\");"
   ]
  },
  {
   "cell_type": "markdown",
   "metadata": {},
   "source": [
    "**Как видим, примерный срок существования платформ составляет также около 10 лет**"
   ]
  },
  {
   "cell_type": "markdown",
   "metadata": {},
   "source": [
    "Для следующего этапа потребуется выбрать данные за соответствующий актуальный период. Кажется разумным выбрать последнее поколение (XOne, PS4, PC). На данном этапе консоли перестали быть своего рода элитарным устройством и появились во многих домохозяйствах. Ограничим распределение данных платформ периодом, начиная с 2013 года:"
   ]
  },
  {
   "cell_type": "code",
   "execution_count": 23,
   "metadata": {},
   "outputs": [
    {
     "data": {
      "image/png": "[encoded data removed]",
      "text/plain": [
       "<Figure size 432x288 with 1 Axes>"
      ]
     },
     "metadata": {},
     "output_type": "display_data"
    }
   ],
   "source": [
    "plt.xlim(2013, 2016)\n",
    "df_xo = df.query('platform == \"XOne\" and year_of_release >=2013')\n",
    "df_xo_hist = df_xo['year_of_release']\n",
    "df_xo_hist.hist(bins=4, alpha=0.4)\n",
    "df_ps4 = df.query('platform == \"PS4\" and year_of_release >=2013')\n",
    "df_ps4_hist = df_ps4['year_of_release']\n",
    "df_ps4_hist.hist(bins=4, alpha=0.4)\n",
    "df_pc = df.query('platform == \"PC\" and year_of_release >=2013')\n",
    "df_pc_hist = df_pc['year_of_release']\n",
    "df_pc_hist.hist(bins=4, alpha=0.4)\n",
    "df_3ds = df.query('platform == \"3DS\" and year_of_release >=2013')\n",
    "df_3ds_hist = df_3ds['year_of_release']\n",
    "df_3ds_hist.hist(bins=4, alpha=0.4)\n",
    "\n",
    "labels= [\"Xbox One\",\"PS4\", \"PC\", \"3DS\"]\n",
    "plt.legend(labels)\n",
    "plt.title(\"Распределение игровых релизов по годам для платформ восьмого поколения\");"
   ]
  },
  {
   "cell_type": "markdown",
   "metadata": {},
   "source": [
    "Как видим, продажи игр для ПК остаются примерно на одном уровне, а продажи игр для консолей растут, особенно, продажи игр для PS4. Но так как продажи консольных игр в 2013 году, в первом году выхода, были невысоки, за исключением 3DS, отсеем эти значения. Наша таблица будет начинаться с 2014 года:"
   ]
  },
  {
   "cell_type": "code",
   "execution_count": 24,
   "metadata": {},
   "outputs": [
    {
     "data": {
      "text/html": [
       "<div>\n",
       "<style scoped>\n",
       "    .dataframe tbody tr th:only-of-type {\n",
       "        vertical-align: middle;\n",
       "    }\n",
       "\n",
       "    .dataframe tbody tr th {\n",
       "        vertical-align: top;\n",
       "    }\n",
       "\n",
       "    .dataframe thead th {\n",
       "        text-align: right;\n",
       "    }\n",
       "</style>\n",
       "<table border=\"1\" class=\"dataframe\">\n",
       "  <thead>\n",
       "    <tr style=\"text-align: right;\">\n",
       "      <th></th>\n",
       "      <th>name</th>\n",
       "      <th>platform</th>\n",
       "      <th>year_of_release</th>\n",
       "      <th>genre</th>\n",
       "      <th>na_sales</th>\n",
       "      <th>eu_sales</th>\n",
       "      <th>jp_sales</th>\n",
       "      <th>other_sales</th>\n",
       "      <th>all_reg_sales</th>\n",
       "      <th>critic_score</th>\n",
       "      <th>user_score</th>\n",
       "      <th>rating</th>\n",
       "    </tr>\n",
       "  </thead>\n",
       "  <tbody>\n",
       "    <tr>\n",
       "      <td>31</td>\n",
       "      <td>Call of Duty: Black Ops 3</td>\n",
       "      <td>PS4</td>\n",
       "      <td>2015</td>\n",
       "      <td>Shooter</td>\n",
       "      <td>6.03</td>\n",
       "      <td>5.86</td>\n",
       "      <td>0.36</td>\n",
       "      <td>2.38</td>\n",
       "      <td>14.63</td>\n",
       "      <td>NaN</td>\n",
       "      <td>NaN</td>\n",
       "      <td>NR</td>\n",
       "    </tr>\n",
       "    <tr>\n",
       "      <td>42</td>\n",
       "      <td>Grand Theft Auto V</td>\n",
       "      <td>PS4</td>\n",
       "      <td>2014</td>\n",
       "      <td>Action</td>\n",
       "      <td>3.96</td>\n",
       "      <td>6.31</td>\n",
       "      <td>0.38</td>\n",
       "      <td>1.97</td>\n",
       "      <td>12.62</td>\n",
       "      <td>97.0</td>\n",
       "      <td>8.3</td>\n",
       "      <td>M</td>\n",
       "    </tr>\n",
       "    <tr>\n",
       "      <td>47</td>\n",
       "      <td>Pokemon Omega Ruby/Pokemon Alpha Sapphire</td>\n",
       "      <td>3DS</td>\n",
       "      <td>2014</td>\n",
       "      <td>Role-Playing</td>\n",
       "      <td>4.35</td>\n",
       "      <td>3.49</td>\n",
       "      <td>3.10</td>\n",
       "      <td>0.74</td>\n",
       "      <td>11.68</td>\n",
       "      <td>NaN</td>\n",
       "      <td>NaN</td>\n",
       "      <td>NR</td>\n",
       "    </tr>\n",
       "    <tr>\n",
       "      <td>77</td>\n",
       "      <td>FIFA 16</td>\n",
       "      <td>PS4</td>\n",
       "      <td>2015</td>\n",
       "      <td>Sports</td>\n",
       "      <td>1.12</td>\n",
       "      <td>6.12</td>\n",
       "      <td>0.06</td>\n",
       "      <td>1.28</td>\n",
       "      <td>8.58</td>\n",
       "      <td>82.0</td>\n",
       "      <td>4.3</td>\n",
       "      <td>E</td>\n",
       "    </tr>\n",
       "    <tr>\n",
       "      <td>87</td>\n",
       "      <td>Star Wars Battlefront (2015)</td>\n",
       "      <td>PS4</td>\n",
       "      <td>2015</td>\n",
       "      <td>Shooter</td>\n",
       "      <td>2.99</td>\n",
       "      <td>3.49</td>\n",
       "      <td>0.22</td>\n",
       "      <td>1.28</td>\n",
       "      <td>7.98</td>\n",
       "      <td>NaN</td>\n",
       "      <td>NaN</td>\n",
       "      <td>NR</td>\n",
       "    </tr>\n",
       "  </tbody>\n",
       "</table>\n",
       "</div>"
      ],
      "text/plain": [
       "                                         name platform  year_of_release  \\\n",
       "31                  Call of Duty: Black Ops 3      PS4             2015   \n",
       "42                         Grand Theft Auto V      PS4             2014   \n",
       "47  Pokemon Omega Ruby/Pokemon Alpha Sapphire      3DS             2014   \n",
       "77                                    FIFA 16      PS4             2015   \n",
       "87               Star Wars Battlefront (2015)      PS4             2015   \n",
       "\n",
       "           genre  na_sales  eu_sales  jp_sales  other_sales  all_reg_sales  \\\n",
       "31       Shooter      6.03      5.86      0.36         2.38          14.63   \n",
       "42        Action      3.96      6.31      0.38         1.97          12.62   \n",
       "47  Role-Playing      4.35      3.49      3.10         0.74          11.68   \n",
       "77        Sports      1.12      6.12      0.06         1.28           8.58   \n",
       "87       Shooter      2.99      3.49      0.22         1.28           7.98   \n",
       "\n",
       "    critic_score  user_score rating  \n",
       "31           NaN         NaN     NR  \n",
       "42          97.0         8.3      M  \n",
       "47           NaN         NaN     NR  \n",
       "77          82.0         4.3      E  \n",
       "87           NaN         NaN     NR  "
      ]
     },
     "execution_count": 24,
     "metadata": {},
     "output_type": "execute_result"
    }
   ],
   "source": [
    "df_working = df.query('year_of_release >= 2014')\n",
    "df_working.head()"
   ]
  },
  {
   "cell_type": "markdown",
   "metadata": {},
   "source": [
    "**Теперь посмотрим на соотношение продаж по платформам данного поколения:**"
   ]
  },
  {
   "cell_type": "code",
   "execution_count": 25,
   "metadata": {},
   "outputs": [
    {
     "name": "stdout",
     "output_type": "stream",
     "text": [
      "platform\n",
      "PS4     288.15\n",
      "XOne    140.36\n",
      "3DS      86.68\n",
      "PS3      68.18\n",
      "X360     48.22\n",
      "WiiU     42.98\n",
      "PC       27.05\n",
      "PSV      22.40\n",
      "Wii       5.07\n",
      "PSP       0.36\n",
      "Name: all_reg_sales, dtype: float64\n"
     ]
    }
   ],
   "source": [
    "print(df_working.groupby('platform')['all_reg_sales'].sum().sort_values(ascending=False))"
   ]
  },
  {
   "cell_type": "markdown",
   "metadata": {},
   "source": [
    "Как мы видим, в этот период еще есть остатки старого поколения, но так как оно начинает угасать, игр для него производится все меньше, это поколение нас не интересует. Будет логичным ограничить набор данных консолями Xbox One, PS4, PC, 3DS."
   ]
  },
  {
   "cell_type": "markdown",
   "metadata": {},
   "source": [
    "Построим тепловую карту значений:"
   ]
  },
  {
   "cell_type": "code",
   "execution_count": 26,
   "metadata": {},
   "outputs": [
    {
     "data": {
      "image/png": "[encoded data removed]",
      "text/plain": [
       "<Figure size 720x216 with 2 Axes>"
      ]
     },
     "metadata": {},
     "output_type": "display_data"
    }
   ],
   "source": [
    "import seaborn as sns\n",
    "platform_sales_pivot = df.query('year_of_release >= 2014').pivot_table(index = 'year_of_release', columns = 'platform', \n",
    "                  values = 'all_reg_sales', aggfunc = 'sum')\n",
    "\n",
    "plt.figure(figsize = (10, 3))\n",
    "sns.heatmap(platform_sales_pivot, annot = True, fmt='.4g', cmap = \"Blues\")\n",
    "plt.show()"
   ]
  },
  {
   "cell_type": "code",
   "execution_count": 27,
   "metadata": {},
   "outputs": [
    {
     "data": {
      "text/html": [
       "<div>\n",
       "<style scoped>\n",
       "    .dataframe tbody tr th:only-of-type {\n",
       "        vertical-align: middle;\n",
       "    }\n",
       "\n",
       "    .dataframe tbody tr th {\n",
       "        vertical-align: top;\n",
       "    }\n",
       "\n",
       "    .dataframe thead th {\n",
       "        text-align: right;\n",
       "    }\n",
       "</style>\n",
       "<table border=\"1\" class=\"dataframe\">\n",
       "  <thead>\n",
       "    <tr style=\"text-align: right;\">\n",
       "      <th></th>\n",
       "      <th>name</th>\n",
       "      <th>platform</th>\n",
       "      <th>year_of_release</th>\n",
       "      <th>genre</th>\n",
       "      <th>na_sales</th>\n",
       "      <th>eu_sales</th>\n",
       "      <th>jp_sales</th>\n",
       "      <th>other_sales</th>\n",
       "      <th>all_reg_sales</th>\n",
       "      <th>critic_score</th>\n",
       "      <th>user_score</th>\n",
       "      <th>rating</th>\n",
       "    </tr>\n",
       "  </thead>\n",
       "  <tbody>\n",
       "    <tr>\n",
       "      <td>31</td>\n",
       "      <td>Call of Duty: Black Ops 3</td>\n",
       "      <td>PS4</td>\n",
       "      <td>2015</td>\n",
       "      <td>Shooter</td>\n",
       "      <td>6.03</td>\n",
       "      <td>5.86</td>\n",
       "      <td>0.36</td>\n",
       "      <td>2.38</td>\n",
       "      <td>14.63</td>\n",
       "      <td>NaN</td>\n",
       "      <td>NaN</td>\n",
       "      <td>NR</td>\n",
       "    </tr>\n",
       "    <tr>\n",
       "      <td>42</td>\n",
       "      <td>Grand Theft Auto V</td>\n",
       "      <td>PS4</td>\n",
       "      <td>2014</td>\n",
       "      <td>Action</td>\n",
       "      <td>3.96</td>\n",
       "      <td>6.31</td>\n",
       "      <td>0.38</td>\n",
       "      <td>1.97</td>\n",
       "      <td>12.62</td>\n",
       "      <td>97.0</td>\n",
       "      <td>8.3</td>\n",
       "      <td>M</td>\n",
       "    </tr>\n",
       "    <tr>\n",
       "      <td>47</td>\n",
       "      <td>Pokemon Omega Ruby/Pokemon Alpha Sapphire</td>\n",
       "      <td>3DS</td>\n",
       "      <td>2014</td>\n",
       "      <td>Role-Playing</td>\n",
       "      <td>4.35</td>\n",
       "      <td>3.49</td>\n",
       "      <td>3.10</td>\n",
       "      <td>0.74</td>\n",
       "      <td>11.68</td>\n",
       "      <td>NaN</td>\n",
       "      <td>NaN</td>\n",
       "      <td>NR</td>\n",
       "    </tr>\n",
       "    <tr>\n",
       "      <td>77</td>\n",
       "      <td>FIFA 16</td>\n",
       "      <td>PS4</td>\n",
       "      <td>2015</td>\n",
       "      <td>Sports</td>\n",
       "      <td>1.12</td>\n",
       "      <td>6.12</td>\n",
       "      <td>0.06</td>\n",
       "      <td>1.28</td>\n",
       "      <td>8.58</td>\n",
       "      <td>82.0</td>\n",
       "      <td>4.3</td>\n",
       "      <td>E</td>\n",
       "    </tr>\n",
       "    <tr>\n",
       "      <td>87</td>\n",
       "      <td>Star Wars Battlefront (2015)</td>\n",
       "      <td>PS4</td>\n",
       "      <td>2015</td>\n",
       "      <td>Shooter</td>\n",
       "      <td>2.99</td>\n",
       "      <td>3.49</td>\n",
       "      <td>0.22</td>\n",
       "      <td>1.28</td>\n",
       "      <td>7.98</td>\n",
       "      <td>NaN</td>\n",
       "      <td>NaN</td>\n",
       "      <td>NR</td>\n",
       "    </tr>\n",
       "  </tbody>\n",
       "</table>\n",
       "</div>"
      ],
      "text/plain": [
       "                                         name platform  year_of_release  \\\n",
       "31                  Call of Duty: Black Ops 3      PS4             2015   \n",
       "42                         Grand Theft Auto V      PS4             2014   \n",
       "47  Pokemon Omega Ruby/Pokemon Alpha Sapphire      3DS             2014   \n",
       "77                                    FIFA 16      PS4             2015   \n",
       "87               Star Wars Battlefront (2015)      PS4             2015   \n",
       "\n",
       "           genre  na_sales  eu_sales  jp_sales  other_sales  all_reg_sales  \\\n",
       "31       Shooter      6.03      5.86      0.36         2.38          14.63   \n",
       "42        Action      3.96      6.31      0.38         1.97          12.62   \n",
       "47  Role-Playing      4.35      3.49      3.10         0.74          11.68   \n",
       "77        Sports      1.12      6.12      0.06         1.28           8.58   \n",
       "87       Shooter      2.99      3.49      0.22         1.28           7.98   \n",
       "\n",
       "    critic_score  user_score rating  \n",
       "31           NaN         NaN     NR  \n",
       "42          97.0         8.3      M  \n",
       "47           NaN         NaN     NR  \n",
       "77          82.0         4.3      E  \n",
       "87           NaN         NaN     NR  "
      ]
     },
     "execution_count": 27,
     "metadata": {},
     "output_type": "execute_result"
    }
   ],
   "source": [
    "df_working = df_working.query('platform == \"XOne\" or  platform == \"PS4\" or  platform == \"PC\" or  platform == \"3DS\"')\n",
    "df_working.head()"
   ]
  },
  {
   "cell_type": "code",
   "execution_count": 28,
   "metadata": {},
   "outputs": [
    {
     "name": "stdout",
     "output_type": "stream",
     "text": [
      "[2015 2014 2016]\n",
      "['PS4' '3DS' 'XOne' 'PC']\n"
     ]
    }
   ],
   "source": [
    "#проверка, что запрос сработал:\n",
    "print(df_working['year_of_release'].unique())\n",
    "print(df_working['platform'].unique())"
   ]
  },
  {
   "cell_type": "markdown",
   "metadata": {},
   "source": [
    "**Построим диаграммы размаха по глобальным продажам игр в разбивке по платформам:**"
   ]
  },
  {
   "cell_type": "code",
   "execution_count": 29,
   "metadata": {},
   "outputs": [
    {
     "data": {
      "image/png": "[encoded data removed]",
      "text/plain": [
       "<Figure size 432x288 with 1 Axes>"
      ]
     },
     "metadata": {},
     "output_type": "display_data"
    }
   ],
   "source": [
    "df_boxplot = df_working[['platform','all_reg_sales']]\n",
    "sns.set()\n",
    "plt.ylim(0, 2)\n",
    "sns.boxplot(x='platform', y='all_reg_sales', data=df_boxplot).set_title(\"Диаграмма размаха по суммарным игровым продажам\");"
   ]
  },
  {
   "cell_type": "markdown",
   "metadata": {},
   "source": [
    "**Вывод**\n",
    "\n",
    "Несмотря на то, что на платформах имеются однозначно хитовые игры с многомиллионными продажами (допустим, Call of Duty), эти игры входят в выбросы, основная масса не набирает в продажах и 1 миллиона, а медиана даже ниже 0,5 млн."
   ]
  },
  {
   "cell_type": "markdown",
   "metadata": {},
   "source": [
    "Такие критерии для выборки будем считать финальными."
   ]
  },
  {
   "cell_type": "markdown",
   "metadata": {},
   "source": [
    "**`На примере консоли PS4 посмотрим, как влияют отзывы пользователей и критиков на продажи внутри одной популярной платформы.`**"
   ]
  },
  {
   "cell_type": "markdown",
   "metadata": {},
   "source": [
    "**Построим диаграмму рассеяния**"
   ]
  },
  {
   "cell_type": "code",
   "execution_count": 33,
   "metadata": {},
   "outputs": [],
   "source": [
    "df_ps4 = df_working.query('platform == \"PS4\"')"
   ]
  },
  {
   "cell_type": "markdown",
   "metadata": {},
   "source": [
    "Проверим на одной диаграмме соотношение с оценками игроков и оценками профессиональных критиков. Необходимо учитывать,ч то оценки критиков измеряются в десятках, поэтому для более точного совпадения разделим эти оценки на 10:"
   ]
  },
  {
   "cell_type": "code",
   "execution_count": 34,
   "metadata": {},
   "outputs": [
    {
     "data": {
      "image/png": "[encoded data removed]",
      "text/plain": [
       "<Figure size 720x432 with 1 Axes>"
      ]
     },
     "metadata": {},
     "output_type": "display_data"
    }
   ],
   "source": [
    "fig, ax = plt.subplots(figsize=(10, 6))\n",
    "ax.scatter(x = df_ps4['critic_score']/10, y = df_ps4['all_reg_sales'], alpha=0.4)\n",
    "ax.scatter(x = df_ps4['user_score'], y = df_ps4['all_reg_sales'], alpha=0.4)\n",
    "plt.xlabel(\"Оценки по отзывам\")\n",
    "plt.ylabel(\"Суммарные продажи\")\n",
    "labels= [\"Оценки игроков\",\"Оценки критиков\"]\n",
    "ax.legend(labels)\n",
    "plt.show()"
   ]
  },
  {
   "cell_type": "markdown",
   "metadata": {},
   "source": [
    "По диаграмме нельзя однозначно о наличии связи между оценками и продажами. Такой вывод более справедлив для хитовых игр с многомиллионными продажами, но таких игр не очень много. Встречаются также и игры с огромными продажами, но довольно скромными оценками."
   ]
  },
  {
   "cell_type": "markdown",
   "metadata": {},
   "source": [
    "**Посчитаем корреляцию:**"
   ]
  },
  {
   "cell_type": "code",
   "execution_count": 35,
   "metadata": {},
   "outputs": [
    {
     "data": {
      "text/html": [
       "<style  type=\"text/css\" >\n",
       "    #T_4afc226a_3716_11ec_b7fd_02420a39f9d0row0_col0 {\n",
       "            background-color:  #00441b;\n",
       "            color:  #f1f1f1;\n",
       "        }    #T_4afc226a_3716_11ec_b7fd_02420a39f9d0row1_col0 {\n",
       "            background-color:  #90d18d;\n",
       "            color:  #000000;\n",
       "        }    #T_4afc226a_3716_11ec_b7fd_02420a39f9d0row2_col0 {\n",
       "            background-color:  #f7fcf5;\n",
       "            color:  #000000;\n",
       "        }</style><table id=\"T_4afc226a_3716_11ec_b7fd_02420a39f9d0\" ><thead>    <tr>        <th class=\"blank level0\" ></th>        <th class=\"col_heading level0 col0\" >all_reg_sales</th>    </tr></thead><tbody>\n",
       "                <tr>\n",
       "                        <th id=\"T_4afc226a_3716_11ec_b7fd_02420a39f9d0level0_row0\" class=\"row_heading level0 row0\" >all_reg_sales</th>\n",
       "                        <td id=\"T_4afc226a_3716_11ec_b7fd_02420a39f9d0row0_col0\" class=\"data row0 col0\" >1</td>\n",
       "            </tr>\n",
       "            <tr>\n",
       "                        <th id=\"T_4afc226a_3716_11ec_b7fd_02420a39f9d0level0_row1\" class=\"row_heading level0 row1\" >critic_score</th>\n",
       "                        <td id=\"T_4afc226a_3716_11ec_b7fd_02420a39f9d0row1_col0\" class=\"data row1 col0\" >0.402661</td>\n",
       "            </tr>\n",
       "            <tr>\n",
       "                        <th id=\"T_4afc226a_3716_11ec_b7fd_02420a39f9d0level0_row2\" class=\"row_heading level0 row2\" >user_score</th>\n",
       "                        <td id=\"T_4afc226a_3716_11ec_b7fd_02420a39f9d0row2_col0\" class=\"data row2 col0\" >-0.0401316</td>\n",
       "            </tr>\n",
       "    </tbody></table>"
      ],
      "text/plain": [
       "<pandas.io.formats.style.Styler at 0x7fab86c59dd0>"
      ]
     },
     "execution_count": 35,
     "metadata": {},
     "output_type": "execute_result"
    }
   ],
   "source": [
    "(df_ps4[['all_reg_sales', 'critic_score', 'user_score']]\n",
    ".corr()['all_reg_sales']\n",
    ".to_frame()\n",
    ".sort_values('all_reg_sales', ascending=False)\n",
    ".style\n",
    ".background_gradient(cmap=\"Greens\"))"
   ]
  },
  {
   "cell_type": "markdown",
   "metadata": {},
   "source": [
    "Как видим, корреляция между оценками пользователей и продажами отсутствует"
   ]
  },
  {
   "cell_type": "markdown",
   "metadata": {},
   "source": [
    "**Проверим корреляцию по продажам игр на других платформах (PS3, Wii, DS):**"
   ]
  },
  {
   "cell_type": "code",
   "execution_count": 36,
   "metadata": {},
   "outputs": [
    {
     "data": {
      "text/html": [
       "<style  type=\"text/css\" >\n",
       "    #T_4aff5368_3716_11ec_b7fd_02420a39f9d0row0_col0 {\n",
       "            background-color:  #00441b;\n",
       "            color:  #f1f1f1;\n",
       "        }    #T_4aff5368_3716_11ec_b7fd_02420a39f9d0row1_col0 {\n",
       "            background-color:  #80ca80;\n",
       "            color:  #000000;\n",
       "        }    #T_4aff5368_3716_11ec_b7fd_02420a39f9d0row2_col0 {\n",
       "            background-color:  #f7fcf5;\n",
       "            color:  #000000;\n",
       "        }</style><table id=\"T_4aff5368_3716_11ec_b7fd_02420a39f9d0\" ><thead>    <tr>        <th class=\"blank level0\" ></th>        <th class=\"col_heading level0 col0\" >all_reg_sales</th>    </tr></thead><tbody>\n",
       "                <tr>\n",
       "                        <th id=\"T_4aff5368_3716_11ec_b7fd_02420a39f9d0level0_row0\" class=\"row_heading level0 row0\" >all_reg_sales</th>\n",
       "                        <td id=\"T_4aff5368_3716_11ec_b7fd_02420a39f9d0row0_col0\" class=\"data row0 col0\" >1</td>\n",
       "            </tr>\n",
       "            <tr>\n",
       "                        <th id=\"T_4aff5368_3716_11ec_b7fd_02420a39f9d0level0_row1\" class=\"row_heading level0 row1\" >critic_score</th>\n",
       "                        <td id=\"T_4aff5368_3716_11ec_b7fd_02420a39f9d0row1_col0\" class=\"data row1 col0\" >0.428677</td>\n",
       "            </tr>\n",
       "            <tr>\n",
       "                        <th id=\"T_4aff5368_3716_11ec_b7fd_02420a39f9d0level0_row2\" class=\"row_heading level0 row2\" >user_score</th>\n",
       "                        <td id=\"T_4aff5368_3716_11ec_b7fd_02420a39f9d0row2_col0\" class=\"data row2 col0\" >-0.0703839</td>\n",
       "            </tr>\n",
       "    </tbody></table>"
      ],
      "text/plain": [
       "<pandas.io.formats.style.Styler at 0x7fab8f438690>"
      ]
     },
     "execution_count": 36,
     "metadata": {},
     "output_type": "execute_result"
    }
   ],
   "source": [
    "df_xo = df_working.query('platform == \"XOne\"')\n",
    "(df_xo[['all_reg_sales', 'critic_score', 'user_score']]\n",
    ".corr()['all_reg_sales']\n",
    ".to_frame()\n",
    ".sort_values('all_reg_sales', ascending=False)\n",
    ".style\n",
    ".background_gradient(cmap=\"Greens\"))"
   ]
  },
  {
   "cell_type": "code",
   "execution_count": 37,
   "metadata": {},
   "outputs": [
    {
     "data": {
      "text/html": [
       "<style  type=\"text/css\" >\n",
       "    #T_4b0372ea_3716_11ec_b7fd_02420a39f9d0row0_col0 {\n",
       "            background-color:  #00441b;\n",
       "            color:  #f1f1f1;\n",
       "        }    #T_4b0372ea_3716_11ec_b7fd_02420a39f9d0row1_col0 {\n",
       "            background-color:  #ccebc6;\n",
       "            color:  #000000;\n",
       "        }    #T_4b0372ea_3716_11ec_b7fd_02420a39f9d0row2_col0 {\n",
       "            background-color:  #f7fcf5;\n",
       "            color:  #000000;\n",
       "        }</style><table id=\"T_4b0372ea_3716_11ec_b7fd_02420a39f9d0\" ><thead>    <tr>        <th class=\"blank level0\" ></th>        <th class=\"col_heading level0 col0\" >all_reg_sales</th>    </tr></thead><tbody>\n",
       "                <tr>\n",
       "                        <th id=\"T_4b0372ea_3716_11ec_b7fd_02420a39f9d0level0_row0\" class=\"row_heading level0 row0\" >all_reg_sales</th>\n",
       "                        <td id=\"T_4b0372ea_3716_11ec_b7fd_02420a39f9d0row0_col0\" class=\"data row0 col0\" >1</td>\n",
       "            </tr>\n",
       "            <tr>\n",
       "                        <th id=\"T_4b0372ea_3716_11ec_b7fd_02420a39f9d0level0_row1\" class=\"row_heading level0 row1\" >critic_score</th>\n",
       "                        <td id=\"T_4b0372ea_3716_11ec_b7fd_02420a39f9d0row1_col0\" class=\"data row1 col0\" >0.174634</td>\n",
       "            </tr>\n",
       "            <tr>\n",
       "                        <th id=\"T_4b0372ea_3716_11ec_b7fd_02420a39f9d0level0_row2\" class=\"row_heading level0 row2\" >user_score</th>\n",
       "                        <td id=\"T_4b0372ea_3716_11ec_b7fd_02420a39f9d0row2_col0\" class=\"data row2 col0\" >-0.0715967</td>\n",
       "            </tr>\n",
       "    </tbody></table>"
      ],
      "text/plain": [
       "<pandas.io.formats.style.Styler at 0x7fab8f3ad290>"
      ]
     },
     "execution_count": 37,
     "metadata": {},
     "output_type": "execute_result"
    }
   ],
   "source": [
    "df_pc = df_working.query('platform == \"PC\"')\n",
    "(df_pc[['all_reg_sales', 'critic_score', 'user_score']]\n",
    ".corr()['all_reg_sales']\n",
    ".to_frame()\n",
    ".sort_values('all_reg_sales', ascending=False)\n",
    ".style\n",
    ".background_gradient(cmap=\"Greens\"))"
   ]
  },
  {
   "cell_type": "code",
   "execution_count": 38,
   "metadata": {},
   "outputs": [
    {
     "data": {
      "text/html": [
       "<style  type=\"text/css\" >\n",
       "    #T_4b05e0ac_3716_11ec_b7fd_02420a39f9d0row0_col0 {\n",
       "            background-color:  #00441b;\n",
       "            color:  #f1f1f1;\n",
       "        }    #T_4b05e0ac_3716_11ec_b7fd_02420a39f9d0row1_col0 {\n",
       "            background-color:  #e5f5e0;\n",
       "            color:  #000000;\n",
       "        }    #T_4b05e0ac_3716_11ec_b7fd_02420a39f9d0row2_col0 {\n",
       "            background-color:  #f7fcf5;\n",
       "            color:  #000000;\n",
       "        }</style><table id=\"T_4b05e0ac_3716_11ec_b7fd_02420a39f9d0\" ><thead>    <tr>        <th class=\"blank level0\" ></th>        <th class=\"col_heading level0 col0\" >all_reg_sales</th>    </tr></thead><tbody>\n",
       "                <tr>\n",
       "                        <th id=\"T_4b05e0ac_3716_11ec_b7fd_02420a39f9d0level0_row0\" class=\"row_heading level0 row0\" >all_reg_sales</th>\n",
       "                        <td id=\"T_4b05e0ac_3716_11ec_b7fd_02420a39f9d0row0_col0\" class=\"data row0 col0\" >1</td>\n",
       "            </tr>\n",
       "            <tr>\n",
       "                        <th id=\"T_4b05e0ac_3716_11ec_b7fd_02420a39f9d0level0_row1\" class=\"row_heading level0 row1\" >critic_score</th>\n",
       "                        <td id=\"T_4b05e0ac_3716_11ec_b7fd_02420a39f9d0row1_col0\" class=\"data row1 col0\" >0.314117</td>\n",
       "            </tr>\n",
       "            <tr>\n",
       "                        <th id=\"T_4b05e0ac_3716_11ec_b7fd_02420a39f9d0level0_row2\" class=\"row_heading level0 row2\" >user_score</th>\n",
       "                        <td id=\"T_4b05e0ac_3716_11ec_b7fd_02420a39f9d0row2_col0\" class=\"data row2 col0\" >0.215193</td>\n",
       "            </tr>\n",
       "    </tbody></table>"
      ],
      "text/plain": [
       "<pandas.io.formats.style.Styler at 0x7fab86af95d0>"
      ]
     },
     "execution_count": 38,
     "metadata": {},
     "output_type": "execute_result"
    }
   ],
   "source": [
    "df_3ds = df_working.query('platform == \"3DS\"')\n",
    "(df_3ds[['all_reg_sales', 'critic_score', 'user_score']]\n",
    ".corr()['all_reg_sales']\n",
    ".to_frame()\n",
    ".sort_values('all_reg_sales', ascending=False)\n",
    ".style\n",
    ".background_gradient(cmap=\"Greens\"))"
   ]
  },
  {
   "cell_type": "markdown",
   "metadata": {},
   "source": [
    "**Напрашиваются следующие выводы:** \n",
    "- у платформы Xbox и у ПК корреляция отрицательная и при этом очень близка;\n",
    "- продажи игр для всех платформ слабо коррелируют с пользовательскими оценками;\n",
    "- в целом, на примере указанных платформ, можно сказать, что продажи не зависят от пользовательских оценок."
   ]
  },
  {
   "cell_type": "markdown",
   "metadata": {},
   "source": [
    "**Посмотрим на общее суммарное распределение игр по жанрам.**"
   ]
  },
  {
   "cell_type": "code",
   "execution_count": 39,
   "metadata": {},
   "outputs": [],
   "source": [
    "df_genres = df_working[['genre','all_reg_sales','name']]\n",
    "df_genres_sales = df_genres.groupby('genre',as_index=False)['all_reg_sales'].sum()\n",
    "df_genres_count = df_genres.groupby('genre',as_index=False)['name'].count()"
   ]
  },
  {
   "cell_type": "code",
   "execution_count": 40,
   "metadata": {},
   "outputs": [
    {
     "data": {
      "image/png": "[encoded data removed]",
      "text/plain": [
       "<Figure size 864x360 with 1 Axes>"
      ]
     },
     "metadata": {},
     "output_type": "display_data"
    }
   ],
   "source": [
    "fig = plt.figure(figsize = (12, 5))\n",
    "plt.bar(df_genres_sales['genre'], df_genres_sales['all_reg_sales'])\n",
    " \n",
    "plt.xlabel(\"Игровые жанры\")\n",
    "plt.xticks(rotation=45)\n",
    "plt.ylabel(\"Суммарные продажи игр\")\n",
    "plt.title(\"Суммарные продажи игр в мире в зависимости от жанра\")\n",
    "plt.show()"
   ]
  },
  {
   "cell_type": "code",
   "execution_count": 41,
   "metadata": {},
   "outputs": [
    {
     "data": {
      "image/png": "[encoded data removed]",
      "text/plain": [
       "<Figure size 864x360 with 1 Axes>"
      ]
     },
     "metadata": {},
     "output_type": "display_data"
    }
   ],
   "source": [
    "fig = plt.figure(figsize = (12, 5))\n",
    "plt.bar(df_genres_count['genre'], df_genres_count['name'])\n",
    " \n",
    "plt.xlabel(\"Игровые жанры\")\n",
    "plt.xticks(rotation=45)\n",
    "plt.ylabel(\"Кол-во выпущенных игр\")\n",
    "plt.title(\"Общее количество игр в зависимости от жанра\")\n",
    "plt.show()"
   ]
  },
  {
   "cell_type": "markdown",
   "metadata": {},
   "source": [
    "Распределение по продажам таково, что игры жанра Action на первом месте в обоих рейтингах. Но приносит ли она больше всех денег?\n",
    "\n",
    "Заметно, что игры жанра \"шутер\" продаются сходными тиражами при меньшем количестве выпускаемых игры, значит в сравнении шутеры приносят больше денег. Можно сказать, что это справедливо и для игр в жанре РПГ и \"спорт\".\n",
    "\n",
    "Самые низкоприбыльные жанры: Puzzle, Strategy."
   ]
  },
  {
   "cell_type": "markdown",
   "metadata": {},
   "source": [
    "**Посмотрим на общее медианное распределение игр по жанрам.**"
   ]
  },
  {
   "cell_type": "code",
   "execution_count": 42,
   "metadata": {},
   "outputs": [],
   "source": [
    "df_genres = df_working[['genre','all_reg_sales','name']]\n",
    "df_genres_sales = df_genres.groupby('genre',as_index=False)['all_reg_sales'].median()\n",
    "df_genres_count = df_genres.groupby('genre',as_index=False)['name'].count()"
   ]
  },
  {
   "cell_type": "code",
   "execution_count": 43,
   "metadata": {},
   "outputs": [
    {
     "data": {
      "image/png": "[encoded data removed]",
      "text/plain": [
       "<Figure size 864x360 with 1 Axes>"
      ]
     },
     "metadata": {},
     "output_type": "display_data"
    }
   ],
   "source": [
    "fig = plt.figure(figsize = (12, 5))\n",
    "plt.bar(df_genres_sales['genre'], df_genres_sales['all_reg_sales'])\n",
    " \n",
    "plt.xlabel(\"Игровые жанры\")\n",
    "plt.xticks(rotation=45)\n",
    "plt.ylabel(\"Медианные продажи игр\")\n",
    "plt.title(\"Медианные продажи игр в мире в зависимости от жанра\")\n",
    "plt.show()"
   ]
  },
  {
   "cell_type": "markdown",
   "metadata": {},
   "source": [
    "В данном случае картина изменилась: \n",
    "- игры жанра \"шутер\" приносят большее количество продаж.\n",
    "- на втором месте игры жанра \"спорт\" и далее игры жанра РПГ;\n",
    "- игры жанра \"Action\" уже не выглядят такими многообещающими."
   ]
  },
  {
   "cell_type": "markdown",
   "metadata": {},
   "source": [
    "**Общие выводы по разделу:** <a class=\"anchor\" id=\"third-zero-bullet\"></a>\n",
    "- В списке игр присутствуют игры с 1980 года выпуска и множества платформ;\n",
    "- Для актуального анализа файл был сокращен до четырех основных платформ: Xbox One, PS4, PC, 3DS, что соответствует восьмому поколению, годы выпуска ограничены периодом с 2014 по 2016 годы;\n",
    "- Была изучена корреляция общего количества продаж игр и оценок критиков / пользователей. Обнаружилось, что корреляция этих факторов отсутствует. То есть, реальному покупателю оценки не особо важны;\n",
    "- Были обнаружены самые прибыльные жанры: Shooter, Sports, RPG. Самые низкоприбыльные жанры: Puzzle, Strategy."
   ]
  },
  {
   "cell_type": "markdown",
   "metadata": {},
   "source": [
    "# 4. Составление портрета пользователя <a class=\"anchor\" id=\"fourth-bullet\"></a>"
   ]
  },
  {
   "cell_type": "markdown",
   "metadata": {},
   "source": [
    "**Самые популярные платформы по регионам**"
   ]
  },
  {
   "cell_type": "code",
   "execution_count": 44,
   "metadata": {},
   "outputs": [
    {
     "data": {
      "text/html": [
       "<div>\n",
       "<style scoped>\n",
       "    .dataframe tbody tr th:only-of-type {\n",
       "        vertical-align: middle;\n",
       "    }\n",
       "\n",
       "    .dataframe tbody tr th {\n",
       "        vertical-align: top;\n",
       "    }\n",
       "\n",
       "    .dataframe thead th {\n",
       "        text-align: right;\n",
       "    }\n",
       "</style>\n",
       "<table border=\"1\" class=\"dataframe\">\n",
       "  <thead>\n",
       "    <tr style=\"text-align: right;\">\n",
       "      <th></th>\n",
       "      <th>name</th>\n",
       "      <th>platform</th>\n",
       "      <th>year_of_release</th>\n",
       "      <th>genre</th>\n",
       "      <th>na_sales</th>\n",
       "      <th>eu_sales</th>\n",
       "      <th>jp_sales</th>\n",
       "      <th>other_sales</th>\n",
       "      <th>all_reg_sales</th>\n",
       "      <th>critic_score</th>\n",
       "      <th>user_score</th>\n",
       "      <th>rating</th>\n",
       "    </tr>\n",
       "  </thead>\n",
       "  <tbody>\n",
       "    <tr>\n",
       "      <td>31</td>\n",
       "      <td>Call of Duty: Black Ops 3</td>\n",
       "      <td>PS4</td>\n",
       "      <td>2015</td>\n",
       "      <td>Shooter</td>\n",
       "      <td>6.03</td>\n",
       "      <td>5.86</td>\n",
       "      <td>0.36</td>\n",
       "      <td>2.38</td>\n",
       "      <td>14.63</td>\n",
       "      <td>NaN</td>\n",
       "      <td>NaN</td>\n",
       "      <td>NR</td>\n",
       "    </tr>\n",
       "    <tr>\n",
       "      <td>42</td>\n",
       "      <td>Grand Theft Auto V</td>\n",
       "      <td>PS4</td>\n",
       "      <td>2014</td>\n",
       "      <td>Action</td>\n",
       "      <td>3.96</td>\n",
       "      <td>6.31</td>\n",
       "      <td>0.38</td>\n",
       "      <td>1.97</td>\n",
       "      <td>12.62</td>\n",
       "      <td>97.0</td>\n",
       "      <td>8.3</td>\n",
       "      <td>M</td>\n",
       "    </tr>\n",
       "    <tr>\n",
       "      <td>47</td>\n",
       "      <td>Pokemon Omega Ruby/Pokemon Alpha Sapphire</td>\n",
       "      <td>3DS</td>\n",
       "      <td>2014</td>\n",
       "      <td>Role-Playing</td>\n",
       "      <td>4.35</td>\n",
       "      <td>3.49</td>\n",
       "      <td>3.10</td>\n",
       "      <td>0.74</td>\n",
       "      <td>11.68</td>\n",
       "      <td>NaN</td>\n",
       "      <td>NaN</td>\n",
       "      <td>NR</td>\n",
       "    </tr>\n",
       "    <tr>\n",
       "      <td>77</td>\n",
       "      <td>FIFA 16</td>\n",
       "      <td>PS4</td>\n",
       "      <td>2015</td>\n",
       "      <td>Sports</td>\n",
       "      <td>1.12</td>\n",
       "      <td>6.12</td>\n",
       "      <td>0.06</td>\n",
       "      <td>1.28</td>\n",
       "      <td>8.58</td>\n",
       "      <td>82.0</td>\n",
       "      <td>4.3</td>\n",
       "      <td>E</td>\n",
       "    </tr>\n",
       "    <tr>\n",
       "      <td>87</td>\n",
       "      <td>Star Wars Battlefront (2015)</td>\n",
       "      <td>PS4</td>\n",
       "      <td>2015</td>\n",
       "      <td>Shooter</td>\n",
       "      <td>2.99</td>\n",
       "      <td>3.49</td>\n",
       "      <td>0.22</td>\n",
       "      <td>1.28</td>\n",
       "      <td>7.98</td>\n",
       "      <td>NaN</td>\n",
       "      <td>NaN</td>\n",
       "      <td>NR</td>\n",
       "    </tr>\n",
       "  </tbody>\n",
       "</table>\n",
       "</div>"
      ],
      "text/plain": [
       "                                         name platform  year_of_release  \\\n",
       "31                  Call of Duty: Black Ops 3      PS4             2015   \n",
       "42                         Grand Theft Auto V      PS4             2014   \n",
       "47  Pokemon Omega Ruby/Pokemon Alpha Sapphire      3DS             2014   \n",
       "77                                    FIFA 16      PS4             2015   \n",
       "87               Star Wars Battlefront (2015)      PS4             2015   \n",
       "\n",
       "           genre  na_sales  eu_sales  jp_sales  other_sales  all_reg_sales  \\\n",
       "31       Shooter      6.03      5.86      0.36         2.38          14.63   \n",
       "42        Action      3.96      6.31      0.38         1.97          12.62   \n",
       "47  Role-Playing      4.35      3.49      3.10         0.74          11.68   \n",
       "77        Sports      1.12      6.12      0.06         1.28           8.58   \n",
       "87       Shooter      2.99      3.49      0.22         1.28           7.98   \n",
       "\n",
       "    critic_score  user_score rating  \n",
       "31           NaN         NaN     NR  \n",
       "42          97.0         8.3      M  \n",
       "47           NaN         NaN     NR  \n",
       "77          82.0         4.3      E  \n",
       "87           NaN         NaN     NR  "
      ]
     },
     "execution_count": 44,
     "metadata": {},
     "output_type": "execute_result"
    }
   ],
   "source": [
    "df_working.head()"
   ]
  },
  {
   "cell_type": "markdown",
   "metadata": {},
   "source": [
    "**Регион NA:**"
   ]
  },
  {
   "cell_type": "markdown",
   "metadata": {},
   "source": [
    "Самые популярные платформы (топ-5). Выведем данные сначала в табличном виде:"
   ]
  },
  {
   "cell_type": "code",
   "execution_count": 45,
   "metadata": {},
   "outputs": [
    {
     "data": {
      "text/html": [
       "<div>\n",
       "<style scoped>\n",
       "    .dataframe tbody tr th:only-of-type {\n",
       "        vertical-align: middle;\n",
       "    }\n",
       "\n",
       "    .dataframe tbody tr th {\n",
       "        vertical-align: top;\n",
       "    }\n",
       "\n",
       "    .dataframe thead th {\n",
       "        text-align: right;\n",
       "    }\n",
       "</style>\n",
       "<table border=\"1\" class=\"dataframe\">\n",
       "  <thead>\n",
       "    <tr style=\"text-align: right;\">\n",
       "      <th></th>\n",
       "      <th>all_reg_sales</th>\n",
       "      <th>na_sales</th>\n",
       "      <th>share</th>\n",
       "    </tr>\n",
       "    <tr>\n",
       "      <th>platform</th>\n",
       "      <th></th>\n",
       "      <th></th>\n",
       "      <th></th>\n",
       "    </tr>\n",
       "  </thead>\n",
       "  <tbody>\n",
       "    <tr>\n",
       "      <td>XOne</td>\n",
       "      <td>140.36</td>\n",
       "      <td>81.27</td>\n",
       "      <td>57.90</td>\n",
       "    </tr>\n",
       "    <tr>\n",
       "      <td>PS4</td>\n",
       "      <td>288.15</td>\n",
       "      <td>98.61</td>\n",
       "      <td>34.22</td>\n",
       "    </tr>\n",
       "    <tr>\n",
       "      <td>PC</td>\n",
       "      <td>27.05</td>\n",
       "      <td>7.23</td>\n",
       "      <td>26.73</td>\n",
       "    </tr>\n",
       "    <tr>\n",
       "      <td>3DS</td>\n",
       "      <td>86.68</td>\n",
       "      <td>22.64</td>\n",
       "      <td>26.12</td>\n",
       "    </tr>\n",
       "  </tbody>\n",
       "</table>\n",
       "</div>"
      ],
      "text/plain": [
       "          all_reg_sales  na_sales  share\n",
       "platform                                \n",
       "XOne             140.36     81.27  57.90\n",
       "PS4              288.15     98.61  34.22\n",
       "PC                27.05      7.23  26.73\n",
       "3DS               86.68     22.64  26.12"
      ]
     },
     "execution_count": 45,
     "metadata": {},
     "output_type": "execute_result"
    }
   ],
   "source": [
    "df_na_share = df_working.pivot_table(index=['platform'], \n",
    "                       values=['na_sales', 'all_reg_sales'], \n",
    "                       aggfunc={'na_sales' : 'sum', 'all_reg_sales' : 'sum'}).sort_values(by='platform', ascending=False)\n",
    "\n",
    "df_na_share['share'] = round(df_na_share['na_sales'] / df_na_share['all_reg_sales'] * 100,2)\n",
    "df_na_share.head()"
   ]
  },
  {
   "cell_type": "markdown",
   "metadata": {},
   "source": [
    "Теперь для наглядности построим столбчатую диаграмму:"
   ]
  },
  {
   "cell_type": "code",
   "execution_count": 46,
   "metadata": {},
   "outputs": [
    {
     "data": {
      "image/png": "[encoded data removed]",
      "text/plain": [
       "<Figure size 432x288 with 1 Axes>"
      ]
     },
     "metadata": {},
     "output_type": "display_data"
    }
   ],
   "source": [
    "df_na_share[['na_sales', 'all_reg_sales']].plot(kind='bar', stacked=False)\n",
    "plt.xlabel(\"Игровые платформы NA-региона\")\n",
    "plt.ylabel(\"Продажи игр, млн шт.\");"
   ]
  },
  {
   "cell_type": "markdown",
   "metadata": {},
   "source": [
    "Можно сделать несколько выводов:\n",
    "\n",
    "- продажи игр по платформам Xbox One и PS4 на американском рынке примерно равны, но на глобальном рынке PS4 лидирует с большим отрывом;\n",
    "- Продажи игр для 3DS малы, а продажи игр для ПК еще ниже - это и понятно, в Америке любят консоли, а кроме того, игыр на ПК покупают преимущественно в электронном виде."
   ]
  },
  {
   "cell_type": "markdown",
   "metadata": {},
   "source": [
    "**Регион EU:**"
   ]
  },
  {
   "cell_type": "markdown",
   "metadata": {},
   "source": [
    "Самые популярные платформы (топ-5). Выведем данные сначала в табличном виде:"
   ]
  },
  {
   "cell_type": "code",
   "execution_count": 47,
   "metadata": {},
   "outputs": [
    {
     "data": {
      "text/html": [
       "<div>\n",
       "<style scoped>\n",
       "    .dataframe tbody tr th:only-of-type {\n",
       "        vertical-align: middle;\n",
       "    }\n",
       "\n",
       "    .dataframe tbody tr th {\n",
       "        vertical-align: top;\n",
       "    }\n",
       "\n",
       "    .dataframe thead th {\n",
       "        text-align: right;\n",
       "    }\n",
       "</style>\n",
       "<table border=\"1\" class=\"dataframe\">\n",
       "  <thead>\n",
       "    <tr style=\"text-align: right;\">\n",
       "      <th></th>\n",
       "      <th>all_reg_sales</th>\n",
       "      <th>eu_sales</th>\n",
       "      <th>share</th>\n",
       "    </tr>\n",
       "    <tr>\n",
       "      <th>platform</th>\n",
       "      <th></th>\n",
       "      <th></th>\n",
       "      <th></th>\n",
       "    </tr>\n",
       "  </thead>\n",
       "  <tbody>\n",
       "    <tr>\n",
       "      <td>XOne</td>\n",
       "      <td>140.36</td>\n",
       "      <td>46.25</td>\n",
       "      <td>32.95</td>\n",
       "    </tr>\n",
       "    <tr>\n",
       "      <td>PS4</td>\n",
       "      <td>288.15</td>\n",
       "      <td>130.04</td>\n",
       "      <td>45.13</td>\n",
       "    </tr>\n",
       "    <tr>\n",
       "      <td>PC</td>\n",
       "      <td>27.05</td>\n",
       "      <td>17.97</td>\n",
       "      <td>66.43</td>\n",
       "    </tr>\n",
       "    <tr>\n",
       "      <td>3DS</td>\n",
       "      <td>86.68</td>\n",
       "      <td>16.12</td>\n",
       "      <td>18.60</td>\n",
       "    </tr>\n",
       "  </tbody>\n",
       "</table>\n",
       "</div>"
      ],
      "text/plain": [
       "          all_reg_sales  eu_sales  share\n",
       "platform                                \n",
       "XOne             140.36     46.25  32.95\n",
       "PS4              288.15    130.04  45.13\n",
       "PC                27.05     17.97  66.43\n",
       "3DS               86.68     16.12  18.60"
      ]
     },
     "execution_count": 47,
     "metadata": {},
     "output_type": "execute_result"
    }
   ],
   "source": [
    "df_eu_share = df_working.pivot_table(index=['platform'], \n",
    "                       values=['eu_sales', 'all_reg_sales'], \n",
    "                       aggfunc={'eu_sales' : 'sum', 'all_reg_sales' : 'sum'}).sort_values(by='platform', ascending=False)\n",
    "\n",
    "df_eu_share['share'] = round(df_eu_share['eu_sales'] / df_eu_share['all_reg_sales'] * 100,2)\n",
    "df_eu_share.head()"
   ]
  },
  {
   "cell_type": "markdown",
   "metadata": {},
   "source": [
    "Теперь для наглядности построим столбчатую диаграмму:"
   ]
  },
  {
   "cell_type": "code",
   "execution_count": 48,
   "metadata": {},
   "outputs": [
    {
     "data": {
      "image/png": "[encoded data removed]",
      "text/plain": [
       "<Figure size 432x288 with 1 Axes>"
      ]
     },
     "metadata": {},
     "output_type": "display_data"
    }
   ],
   "source": [
    "df_eu_share[['eu_sales', 'all_reg_sales']].plot(kind='bar', stacked=False)\n",
    "plt.xlabel(\"Игровые платформы EU-региона\")\n",
    "plt.ylabel(\"Продажи игр, млн шт.\");"
   ]
  },
  {
   "cell_type": "markdown",
   "metadata": {},
   "source": [
    "Можно сделать несколько выводов:\n",
    "- продажи Xbox в Европе значительно ниже, чем на американском рынке, и значительно ниже, чем продажи PS4;\n",
    "- продажи игр для PS4 значительно лидируют;\n",
    "- картинка для 3DS / ПК остается такой же."
   ]
  },
  {
   "cell_type": "markdown",
   "metadata": {},
   "source": [
    "**Регион JP:**"
   ]
  },
  {
   "cell_type": "markdown",
   "metadata": {},
   "source": [
    "Самые популярные платформы (топ-5). Выведем данные сначала в табличном виде:"
   ]
  },
  {
   "cell_type": "code",
   "execution_count": 49,
   "metadata": {},
   "outputs": [
    {
     "data": {
      "text/html": [
       "<div>\n",
       "<style scoped>\n",
       "    .dataframe tbody tr th:only-of-type {\n",
       "        vertical-align: middle;\n",
       "    }\n",
       "\n",
       "    .dataframe tbody tr th {\n",
       "        vertical-align: top;\n",
       "    }\n",
       "\n",
       "    .dataframe thead th {\n",
       "        text-align: right;\n",
       "    }\n",
       "</style>\n",
       "<table border=\"1\" class=\"dataframe\">\n",
       "  <thead>\n",
       "    <tr style=\"text-align: right;\">\n",
       "      <th></th>\n",
       "      <th>all_reg_sales</th>\n",
       "      <th>jp_sales</th>\n",
       "      <th>share</th>\n",
       "    </tr>\n",
       "    <tr>\n",
       "      <th>platform</th>\n",
       "      <th></th>\n",
       "      <th></th>\n",
       "      <th></th>\n",
       "    </tr>\n",
       "  </thead>\n",
       "  <tbody>\n",
       "    <tr>\n",
       "      <td>XOne</td>\n",
       "      <td>140.36</td>\n",
       "      <td>0.32</td>\n",
       "      <td>0.23</td>\n",
       "    </tr>\n",
       "    <tr>\n",
       "      <td>PS4</td>\n",
       "      <td>288.15</td>\n",
       "      <td>15.02</td>\n",
       "      <td>5.21</td>\n",
       "    </tr>\n",
       "    <tr>\n",
       "      <td>PC</td>\n",
       "      <td>27.05</td>\n",
       "      <td>0.00</td>\n",
       "      <td>0.00</td>\n",
       "    </tr>\n",
       "    <tr>\n",
       "      <td>3DS</td>\n",
       "      <td>86.68</td>\n",
       "      <td>44.24</td>\n",
       "      <td>51.04</td>\n",
       "    </tr>\n",
       "  </tbody>\n",
       "</table>\n",
       "</div>"
      ],
      "text/plain": [
       "          all_reg_sales  jp_sales  share\n",
       "platform                                \n",
       "XOne             140.36      0.32   0.23\n",
       "PS4              288.15     15.02   5.21\n",
       "PC                27.05      0.00   0.00\n",
       "3DS               86.68     44.24  51.04"
      ]
     },
     "execution_count": 49,
     "metadata": {},
     "output_type": "execute_result"
    }
   ],
   "source": [
    "df_jp_share = df_working.pivot_table(index=['platform'], \n",
    "                       values=['jp_sales', 'all_reg_sales'], \n",
    "                       aggfunc={'jp_sales' : 'sum', 'all_reg_sales' : 'sum'}).sort_values(by='platform', ascending=False)\n",
    "\n",
    "df_jp_share['share'] = round(df_jp_share['jp_sales'] / df_jp_share['all_reg_sales'] * 100,2)\n",
    "df_jp_share.head()"
   ]
  },
  {
   "cell_type": "markdown",
   "metadata": {},
   "source": [
    "Теперь для наглядности построим столбчатую диаграмму:"
   ]
  },
  {
   "cell_type": "code",
   "execution_count": 50,
   "metadata": {},
   "outputs": [
    {
     "data": {
      "image/png": "[encoded data removed]",
      "text/plain": [
       "<Figure size 432x288 with 1 Axes>"
      ]
     },
     "metadata": {},
     "output_type": "display_data"
    }
   ],
   "source": [
    "df_jp_share[['jp_sales', 'all_reg_sales']].plot(kind='bar', stacked=False)\n",
    "plt.xlabel(\"Игровые платформы JP-региона\")\n",
    "plt.ylabel(\"Продажи игр, млн шт.\");"
   ]
  },
  {
   "cell_type": "markdown",
   "metadata": {},
   "source": [
    "Можно сделать несколько выводов:\n",
    "- низкая доля продаж по всем платформам от общемировых продаж - японцев не особо интересуют мировые хиты;\n",
    "- продажи игр для Xbox и ПК отсутствуют;\n",
    "- консоли 3DS / PS4 - самые популярные."
   ]
  },
  {
   "cell_type": "markdown",
   "metadata": {},
   "source": [
    "**Самые популярные жанры по регионам**"
   ]
  },
  {
   "cell_type": "markdown",
   "metadata": {},
   "source": [
    "**Регион NA:**"
   ]
  },
  {
   "cell_type": "markdown",
   "metadata": {},
   "source": [
    "Самые популярные жанры (топ-5). Выведем данные сначала в табличном виде:"
   ]
  },
  {
   "cell_type": "code",
   "execution_count": 51,
   "metadata": {},
   "outputs": [
    {
     "data": {
      "text/html": [
       "<div>\n",
       "<style scoped>\n",
       "    .dataframe tbody tr th:only-of-type {\n",
       "        vertical-align: middle;\n",
       "    }\n",
       "\n",
       "    .dataframe tbody tr th {\n",
       "        vertical-align: top;\n",
       "    }\n",
       "\n",
       "    .dataframe thead th {\n",
       "        text-align: right;\n",
       "    }\n",
       "</style>\n",
       "<table border=\"1\" class=\"dataframe\">\n",
       "  <thead>\n",
       "    <tr style=\"text-align: right;\">\n",
       "      <th></th>\n",
       "      <th>all_reg_sales</th>\n",
       "      <th>na_sales</th>\n",
       "      <th>share</th>\n",
       "    </tr>\n",
       "    <tr>\n",
       "      <th>genre</th>\n",
       "      <th></th>\n",
       "      <th></th>\n",
       "      <th></th>\n",
       "    </tr>\n",
       "  </thead>\n",
       "  <tbody>\n",
       "    <tr>\n",
       "      <td>Strategy</td>\n",
       "      <td>3.72</td>\n",
       "      <td>0.98</td>\n",
       "      <td>26.34</td>\n",
       "    </tr>\n",
       "    <tr>\n",
       "      <td>Sports</td>\n",
       "      <td>75.94</td>\n",
       "      <td>31.49</td>\n",
       "      <td>41.47</td>\n",
       "    </tr>\n",
       "    <tr>\n",
       "      <td>Simulation</td>\n",
       "      <td>12.28</td>\n",
       "      <td>2.26</td>\n",
       "      <td>18.40</td>\n",
       "    </tr>\n",
       "    <tr>\n",
       "      <td>Shooter</td>\n",
       "      <td>139.64</td>\n",
       "      <td>64.24</td>\n",
       "      <td>46.00</td>\n",
       "    </tr>\n",
       "    <tr>\n",
       "      <td>Role-Playing</td>\n",
       "      <td>84.43</td>\n",
       "      <td>28.49</td>\n",
       "      <td>33.74</td>\n",
       "    </tr>\n",
       "  </tbody>\n",
       "</table>\n",
       "</div>"
      ],
      "text/plain": [
       "              all_reg_sales  na_sales  share\n",
       "genre                                       \n",
       "Strategy               3.72      0.98  26.34\n",
       "Sports                75.94     31.49  41.47\n",
       "Simulation            12.28      2.26  18.40\n",
       "Shooter              139.64     64.24  46.00\n",
       "Role-Playing          84.43     28.49  33.74"
      ]
     },
     "execution_count": 51,
     "metadata": {},
     "output_type": "execute_result"
    }
   ],
   "source": [
    "df_na_share = df_working.pivot_table(index=['genre'], \n",
    "                       values=['na_sales', 'all_reg_sales'], \n",
    "                       aggfunc={'na_sales' : 'sum', 'all_reg_sales' : 'sum'}).sort_values(by='genre', ascending=False)\n",
    "\n",
    "df_na_share['share'] = round(df_na_share['na_sales'] / df_na_share['all_reg_sales'] * 100,2)\n",
    "df_na_share.head()"
   ]
  },
  {
   "cell_type": "markdown",
   "metadata": {},
   "source": [
    "Теперь для наглядности построим столбчатую диаграмму:"
   ]
  },
  {
   "cell_type": "code",
   "execution_count": 52,
   "metadata": {},
   "outputs": [
    {
     "data": {
      "image/png": "[encoded data removed]",
      "text/plain": [
       "<Figure size 432x288 with 1 Axes>"
      ]
     },
     "metadata": {},
     "output_type": "display_data"
    }
   ],
   "source": [
    "df_na_share[['na_sales', 'all_reg_sales']].head().plot(kind='bar', stacked=False)\n",
    "plt.xlabel(\"Самые популярные игровые жанры NA-региона\")\n",
    "plt.ylabel(\"Продажи игр, млн шт.\");"
   ]
  },
  {
   "cell_type": "markdown",
   "metadata": {},
   "source": [
    "Можно сделать несколько выводов:\n",
    "- Самый популярный жанр в североамериканском регионе - шутер;\n",
    "- На вторых местах спортивные игры и РПГ;\n",
    "- Похожий тренд и на глобальном рынке;\n",
    "- Игры-симуляторы хоть и входят в распределение, но продажи минимальны."
   ]
  },
  {
   "cell_type": "markdown",
   "metadata": {},
   "source": [
    "**Регион EU:**"
   ]
  },
  {
   "cell_type": "markdown",
   "metadata": {},
   "source": [
    "Самые популярные жанры (топ-5). Выведем данные сначала в табличном виде:"
   ]
  },
  {
   "cell_type": "code",
   "execution_count": 53,
   "metadata": {},
   "outputs": [
    {
     "data": {
      "text/html": [
       "<div>\n",
       "<style scoped>\n",
       "    .dataframe tbody tr th:only-of-type {\n",
       "        vertical-align: middle;\n",
       "    }\n",
       "\n",
       "    .dataframe tbody tr th {\n",
       "        vertical-align: top;\n",
       "    }\n",
       "\n",
       "    .dataframe thead th {\n",
       "        text-align: right;\n",
       "    }\n",
       "</style>\n",
       "<table border=\"1\" class=\"dataframe\">\n",
       "  <thead>\n",
       "    <tr style=\"text-align: right;\">\n",
       "      <th></th>\n",
       "      <th>all_reg_sales</th>\n",
       "      <th>eu_sales</th>\n",
       "      <th>share</th>\n",
       "    </tr>\n",
       "    <tr>\n",
       "      <th>genre</th>\n",
       "      <th></th>\n",
       "      <th></th>\n",
       "      <th></th>\n",
       "    </tr>\n",
       "  </thead>\n",
       "  <tbody>\n",
       "    <tr>\n",
       "      <td>Strategy</td>\n",
       "      <td>3.72</td>\n",
       "      <td>1.79</td>\n",
       "      <td>48.12</td>\n",
       "    </tr>\n",
       "    <tr>\n",
       "      <td>Sports</td>\n",
       "      <td>75.94</td>\n",
       "      <td>32.78</td>\n",
       "      <td>43.17</td>\n",
       "    </tr>\n",
       "    <tr>\n",
       "      <td>Simulation</td>\n",
       "      <td>12.28</td>\n",
       "      <td>6.97</td>\n",
       "      <td>56.76</td>\n",
       "    </tr>\n",
       "    <tr>\n",
       "      <td>Shooter</td>\n",
       "      <td>139.64</td>\n",
       "      <td>54.79</td>\n",
       "      <td>39.24</td>\n",
       "    </tr>\n",
       "    <tr>\n",
       "      <td>Role-Playing</td>\n",
       "      <td>84.43</td>\n",
       "      <td>24.97</td>\n",
       "      <td>29.57</td>\n",
       "    </tr>\n",
       "  </tbody>\n",
       "</table>\n",
       "</div>"
      ],
      "text/plain": [
       "              all_reg_sales  eu_sales  share\n",
       "genre                                       \n",
       "Strategy               3.72      1.79  48.12\n",
       "Sports                75.94     32.78  43.17\n",
       "Simulation            12.28      6.97  56.76\n",
       "Shooter              139.64     54.79  39.24\n",
       "Role-Playing          84.43     24.97  29.57"
      ]
     },
     "execution_count": 53,
     "metadata": {},
     "output_type": "execute_result"
    }
   ],
   "source": [
    "df_eu_share = df_working.pivot_table(index=['genre'], \n",
    "                       values=['eu_sales', 'all_reg_sales'], \n",
    "                       aggfunc={'eu_sales' : 'sum', 'all_reg_sales' : 'sum'}).sort_values(by='genre', ascending=False)\n",
    "\n",
    "df_eu_share['share'] = round(df_eu_share['eu_sales'] / df_eu_share['all_reg_sales'] * 100,2)\n",
    "df_eu_share.head()"
   ]
  },
  {
   "cell_type": "markdown",
   "metadata": {},
   "source": [
    "Теперь для наглядности построим столбчатую диаграмму:"
   ]
  },
  {
   "cell_type": "code",
   "execution_count": 54,
   "metadata": {},
   "outputs": [
    {
     "data": {
      "image/png": "[encoded data removed]",
      "text/plain": [
       "<Figure size 432x288 with 1 Axes>"
      ]
     },
     "metadata": {},
     "output_type": "display_data"
    }
   ],
   "source": [
    "df_eu_share[['eu_sales', 'all_reg_sales']].head().plot(kind='bar', stacked=False)\n",
    "plt.xlabel(\"Самые популярные игровые жанры EU-региона\")\n",
    "plt.ylabel(\"Продажи игр, млн шт.\");"
   ]
  },
  {
   "cell_type": "markdown",
   "metadata": {},
   "source": [
    "Можно сделать вывод:\n",
    "- Шутеры и тут на первом месте, спорт и РПГ занимают равные доли;\n",
    "- В целом продажи ниже, чем в североамериканском регионе."
   ]
  },
  {
   "cell_type": "markdown",
   "metadata": {},
   "source": [
    "**Регион JP:**"
   ]
  },
  {
   "cell_type": "markdown",
   "metadata": {},
   "source": [
    "Самые популярные платформы (топ-5). Выведем данные сначала в табличном виде:"
   ]
  },
  {
   "cell_type": "code",
   "execution_count": 55,
   "metadata": {},
   "outputs": [
    {
     "data": {
      "text/html": [
       "<div>\n",
       "<style scoped>\n",
       "    .dataframe tbody tr th:only-of-type {\n",
       "        vertical-align: middle;\n",
       "    }\n",
       "\n",
       "    .dataframe tbody tr th {\n",
       "        vertical-align: top;\n",
       "    }\n",
       "\n",
       "    .dataframe thead th {\n",
       "        text-align: right;\n",
       "    }\n",
       "</style>\n",
       "<table border=\"1\" class=\"dataframe\">\n",
       "  <thead>\n",
       "    <tr style=\"text-align: right;\">\n",
       "      <th></th>\n",
       "      <th>all_reg_sales</th>\n",
       "      <th>jp_sales</th>\n",
       "      <th>share</th>\n",
       "    </tr>\n",
       "    <tr>\n",
       "      <th>genre</th>\n",
       "      <th></th>\n",
       "      <th></th>\n",
       "      <th></th>\n",
       "    </tr>\n",
       "  </thead>\n",
       "  <tbody>\n",
       "    <tr>\n",
       "      <td>Strategy</td>\n",
       "      <td>3.72</td>\n",
       "      <td>0.71</td>\n",
       "      <td>19.09</td>\n",
       "    </tr>\n",
       "    <tr>\n",
       "      <td>Sports</td>\n",
       "      <td>75.94</td>\n",
       "      <td>1.44</td>\n",
       "      <td>1.90</td>\n",
       "    </tr>\n",
       "    <tr>\n",
       "      <td>Simulation</td>\n",
       "      <td>12.28</td>\n",
       "      <td>2.25</td>\n",
       "      <td>18.32</td>\n",
       "    </tr>\n",
       "    <tr>\n",
       "      <td>Shooter</td>\n",
       "      <td>139.64</td>\n",
       "      <td>2.67</td>\n",
       "      <td>1.91</td>\n",
       "    </tr>\n",
       "    <tr>\n",
       "      <td>Role-Playing</td>\n",
       "      <td>84.43</td>\n",
       "      <td>23.75</td>\n",
       "      <td>28.13</td>\n",
       "    </tr>\n",
       "  </tbody>\n",
       "</table>\n",
       "</div>"
      ],
      "text/plain": [
       "              all_reg_sales  jp_sales  share\n",
       "genre                                       \n",
       "Strategy               3.72      0.71  19.09\n",
       "Sports                75.94      1.44   1.90\n",
       "Simulation            12.28      2.25  18.32\n",
       "Shooter              139.64      2.67   1.91\n",
       "Role-Playing          84.43     23.75  28.13"
      ]
     },
     "execution_count": 55,
     "metadata": {},
     "output_type": "execute_result"
    }
   ],
   "source": [
    "df_jp_share = df_working.pivot_table(index=['genre'], \n",
    "                       values=['jp_sales', 'all_reg_sales'], \n",
    "                       aggfunc={'jp_sales' : 'sum', 'all_reg_sales' : 'sum'}).sort_values(by='genre', ascending=False)\n",
    "\n",
    "df_jp_share['share'] = round(df_jp_share['jp_sales'] / df_jp_share['all_reg_sales'] * 100,2)\n",
    "df_jp_share.head()"
   ]
  },
  {
   "cell_type": "markdown",
   "metadata": {},
   "source": [
    "Теперь для наглядности построим столбчатую диаграмму:"
   ]
  },
  {
   "cell_type": "code",
   "execution_count": 56,
   "metadata": {},
   "outputs": [
    {
     "data": {
      "text/plain": [
       "Text(0, 0.5, 'Продажи игр, млн шт.')"
      ]
     },
     "execution_count": 56,
     "metadata": {},
     "output_type": "execute_result"
    },
    {
     "data": {
      "image/png": "[encoded data removed]",
      "text/plain": [
       "<Figure size 432x288 with 1 Axes>"
      ]
     },
     "metadata": {},
     "output_type": "display_data"
    }
   ],
   "source": [
    "df_jp_share[['jp_sales', 'all_reg_sales']].head().plot(kind='bar', stacked=False)\n",
    "plt.xlabel(\"Самые популярные игровые жанры JP-региона\")\n",
    "plt.ylabel(\"Продажи игр, млн шт.\")"
   ]
  },
  {
   "cell_type": "markdown",
   "metadata": {},
   "source": [
    "Можно сделать вывод:\n",
    "- Японцы любят РПГ, а продажи хитовых игр в сравнении с мировым рынком очень малы."
   ]
  },
  {
   "cell_type": "markdown",
   "metadata": {},
   "source": [
    "**Влияет ли рейтинг ESRB на продажи в отдельном регионе?**"
   ]
  },
  {
   "cell_type": "markdown",
   "metadata": {},
   "source": [
    "Построим круговые диаграммы:"
   ]
  },
  {
   "cell_type": "markdown",
   "metadata": {},
   "source": [
    "**Регион NA:**"
   ]
  },
  {
   "cell_type": "code",
   "execution_count": 57,
   "metadata": {},
   "outputs": [
    {
     "data": {
      "image/png": "[encoded data removed]",
      "text/plain": [
       "<Figure size 576x288 with 1 Axes>"
      ]
     },
     "metadata": {},
     "output_type": "display_data"
    }
   ],
   "source": [
    "df_na_pie = df_working.pivot_table(index=['rating'], \n",
    "                       values=['na_sales'], \n",
    "                       aggfunc={'na_sales' : 'sum'}).sort_values(by='rating', ascending=False)\n",
    "df_na_pie.plot.pie(subplots=True, figsize=(8, 4));"
   ]
  },
  {
   "cell_type": "markdown",
   "metadata": {},
   "source": [
    "**Регион EU:**"
   ]
  },
  {
   "cell_type": "code",
   "execution_count": 58,
   "metadata": {},
   "outputs": [
    {
     "data": {
      "image/png": "[encoded data removed]",
      "text/plain": [
       "<Figure size 576x288 with 1 Axes>"
      ]
     },
     "metadata": {},
     "output_type": "display_data"
    }
   ],
   "source": [
    "df_eu_pie = df_working.pivot_table(index=['rating'], \n",
    "                       values=['eu_sales'], \n",
    "                       aggfunc={'eu_sales' : 'sum'}).sort_values(by='rating', ascending=False)\n",
    "df_eu_pie.plot.pie(subplots=True, figsize=(8, 4));"
   ]
  },
  {
   "cell_type": "markdown",
   "metadata": {},
   "source": [
    "**Регион JP:**"
   ]
  },
  {
   "cell_type": "code",
   "execution_count": 59,
   "metadata": {},
   "outputs": [
    {
     "data": {
      "image/png": "[encoded data removed]",
      "text/plain": [
       "<Figure size 576x288 with 1 Axes>"
      ]
     },
     "metadata": {},
     "output_type": "display_data"
    }
   ],
   "source": [
    "df_jp_pie = df_working.pivot_table(index=['rating'], \n",
    "                       values=['jp_sales'], \n",
    "                       aggfunc={'jp_sales' : 'sum'}).sort_values(by='rating', ascending=False)\n",
    "df_jp_pie.plot.pie(subplots=True, figsize=(8, 4));"
   ]
  },
  {
   "cell_type": "markdown",
   "metadata": {},
   "source": [
    "Можно сделать вывод:\n",
    "- Как видим, доли продаж по возрастному рейтингу примерно одинаковы в случае североамериканского и европейского рынков;\n",
    "- По продажам наиболее массовы игры возрастной категории M: публика сильно повзрослела, как и контент (вспомним прошлое поколение, где лидировали игры рейтинга Е);\n",
    "- Самая высокая доля игр NOT RATED в Японии - возможно потому, что рейтинги для внутренного рынка Японии имеют меньшую важность или не подчиняются рейтингу ESRB."
   ]
  },
  {
   "cell_type": "markdown",
   "metadata": {},
   "source": [
    "**Общие выводы по разделу:** <a class=\"anchor\" id=\"fourth-zero-bullet\"></a>\n",
    "- На общемировом рынке позиции PS4 сильно лидирует;\n",
    "- В североамериканском регионе продажи игр для Xbox One и PS4 примерно равны, а в европейском регионе PS4 заметно обгоняет Xbox по продажам;\n",
    "- Продажи игр в Японии довольно низки, за исключением РПГ, из платформ живы только 3DS и PS4;\n",
    "- Рынок игр для ПК слаб во всем мире;\n",
    "- Распределени игр по популярным жанрам одинаково во всех регионах: на первом месте шутеры, на втором спортивные игры, и на третьем месте РПГ. Стратегии и паззлы уже довольно нишевые жанры;\n",
    "- Если смотреть по возрастному рейтингу, то основную долю продаж делают игры рейтинга M. Для Японии рейтинги менее важны, там продаются игры без рейтинга."
   ]
  },
  {
   "cell_type": "markdown",
   "metadata": {},
   "source": [
    "# 5. Проверка гипотез <a class=\"anchor\" id=\"fifth-bullet\"></a>"
   ]
  },
  {
   "cell_type": "markdown",
   "metadata": {},
   "source": [
    "**Сформулируем нулевую и альтернативную гипотезы для первого случая:**\n",
    "\n",
    "- H<sub>0</sub>: Средние пользовательские рейтинги платформ Xbox One и ПК одинаковые;\n",
    "- H<sub>1</sub>: Средние пользовательские рейтинги платформ Xbox One и ПК не одинаковые."
   ]
  },
  {
   "cell_type": "markdown",
   "metadata": {},
   "source": [
    "Сделаем выборку:"
   ]
  },
  {
   "cell_type": "code",
   "execution_count": 60,
   "metadata": {},
   "outputs": [],
   "source": [
    "df_xo_score = df_working[df_working['platform']=='XOne']['user_score']\n",
    "df_xo_score = df_xo_score.dropna(axis=0)\n",
    "\n",
    "df_pc_score = df_working[df_working['platform']=='PC']['user_score']\n",
    "df_pc_score = df_pc_score.dropna(axis=0)"
   ]
  },
  {
   "cell_type": "markdown",
   "metadata": {},
   "source": [
    "Построим гистограммы:"
   ]
  },
  {
   "cell_type": "code",
   "execution_count": 61,
   "metadata": {},
   "outputs": [
    {
     "data": {
      "image/png": "[encoded data removed]",
      "text/plain": [
       "<Figure size 432x288 with 1 Axes>"
      ]
     },
     "metadata": {},
     "output_type": "display_data"
    }
   ],
   "source": [
    "plt.hist(df_xo_score, bins=10, alpha=0.5, label='XOne_score')\n",
    "plt.hist(df_pc_score, bins=10, alpha=0.5, label='PC_score')\n",
    "plt.xlabel('Распределение пользовательских оценок')\n",
    "plt.ylabel('Количество игр')\n",
    "plt.legend(loc='upper left')\n",
    "plt.show()"
   ]
  },
  {
   "cell_type": "markdown",
   "metadata": {},
   "source": [
    "Проверим нормальность распределения наших выборок методом Шапиро-Уилка:"
   ]
  },
  {
   "cell_type": "code",
   "execution_count": 62,
   "metadata": {},
   "outputs": [
    {
     "data": {
      "image/png": "[encoded data removed]",
      "text/plain": [
       "<Figure size 1008x288 with 2 Axes>"
      ]
     },
     "metadata": {},
     "output_type": "display_data"
    }
   ],
   "source": [
    "fig = plt.figure(figsize=(14, 4))\n",
    "\n",
    "ax1 = fig.add_subplot(131)\n",
    "st.probplot(df_xo_score, dist=\"norm\", plot=plt)\n",
    "\n",
    "ax2 = fig.add_subplot(132)\n",
    "st.probplot(df_pc_score, dist=\"norm\", plot=plt)\n",
    "\n",
    "fig.tight_layout()\n",
    "plt.show()"
   ]
  },
  {
   "cell_type": "markdown",
   "metadata": {},
   "source": [
    "Как видим, распределение не совсем нормальное. \n",
    "    \n",
    "По условиям проверки нам надо сравнить среднюю пользовательскую оценку. Для этого можно использовать тест Стьюдента. Уровень значимости определим равным 0,05."
   ]
  },
  {
   "cell_type": "code",
   "execution_count": 63,
   "metadata": {},
   "outputs": [
    {
     "name": "stdout",
     "output_type": "stream",
     "text": [
      "Тест Стьюдента, p-значение: 0.10450507919348415\n",
      "Не получилось отвергнуть нулевую гипотезу\n"
     ]
    }
   ],
   "source": [
    "alpha = 0.05\n",
    "\n",
    "results = st.ttest_ind(df_xo_score, df_pc_score) \n",
    "\n",
    "print('Тест Стьюдента, p-значение:', results.pvalue)\n",
    "\n",
    "if results.pvalue < alpha:\n",
    "    print(\"Отвергаем нулевую гипотезу\")\n",
    "else:\n",
    "    print(\"Не получилось отвергнуть нулевую гипотезу\")"
   ]
  },
  {
   "cell_type": "markdown",
   "metadata": {},
   "source": [
    "**Вывод:**\n",
    "По результатам обоих тестов мы можем склониться к тому, чтобы поддержать нулевую гипотезу, т.е. средние пользовательские рейтинги игр для Xbox One и ПК не будут различаться."
   ]
  },
  {
   "cell_type": "markdown",
   "metadata": {},
   "source": [
    "**Сформулируем нулевую и альтернативную гипотезы для второго случая:**\n",
    "\n",
    "- H<sub>0</sub>: Средние пользовательские рейтинги жанров Action и Sports одинаковые;\n",
    "- H<sub>1</sub>: Средние пользовательские рейтинги жанров Action и Sports не одинаковые."
   ]
  },
  {
   "cell_type": "markdown",
   "metadata": {},
   "source": [
    "Сделаем выборку:"
   ]
  },
  {
   "cell_type": "code",
   "execution_count": 64,
   "metadata": {},
   "outputs": [],
   "source": [
    "df_action_score = df_working[df_working['genre']=='Action']['user_score']\n",
    "df_action_score = df_action_score.dropna(axis=0)\n",
    "\n",
    "df_sports_score = df_working[df_working['genre']=='Sports']['user_score']\n",
    "df_sports_score = df_sports_score.dropna(axis=0)"
   ]
  },
  {
   "cell_type": "markdown",
   "metadata": {},
   "source": [
    "Построим гистограммы:"
   ]
  },
  {
   "cell_type": "code",
   "execution_count": 65,
   "metadata": {},
   "outputs": [
    {
     "data": {
      "image/png": "[encoded data removed]",
      "text/plain": [
       "<Figure size 432x288 with 1 Axes>"
      ]
     },
     "metadata": {},
     "output_type": "display_data"
    }
   ],
   "source": [
    "plt.hist(df_action_score, bins=10, alpha=0.5, label='action_score')\n",
    "plt.hist(df_sports_score, bins=10, alpha=0.5, label='sports_score')\n",
    "plt.xlabel('Распределение пользовательских оценок')\n",
    "plt.ylabel('Количество игр')\n",
    "plt.legend(loc='upper left')\n",
    "plt.show()"
   ]
  },
  {
   "cell_type": "markdown",
   "metadata": {},
   "source": [
    "Проверим нормальность распределения наших выборок методом Шапиро-Уилка:"
   ]
  },
  {
   "cell_type": "code",
   "execution_count": 66,
   "metadata": {},
   "outputs": [
    {
     "data": {
      "image/png": "[encoded data removed]",
      "text/plain": [
       "<Figure size 1008x288 with 2 Axes>"
      ]
     },
     "metadata": {},
     "output_type": "display_data"
    }
   ],
   "source": [
    "fig = plt.figure(figsize=(14, 4))\n",
    "\n",
    "ax1 = fig.add_subplot(131)\n",
    "st.probplot(df_action_score, dist=\"norm\", plot=plt)\n",
    "\n",
    "ax2 = fig.add_subplot(132)\n",
    "st.probplot(df_sports_score, dist=\"norm\", plot=plt)\n",
    "\n",
    "fig.tight_layout()\n",
    "plt.show()"
   ]
  },
  {
   "cell_type": "markdown",
   "metadata": {},
   "source": [
    "Распределение близко к нормальному, но не является нормальным. Проверим дисперсию:"
   ]
  },
  {
   "cell_type": "code",
   "execution_count": 67,
   "metadata": {},
   "outputs": [
    {
     "name": "stdout",
     "output_type": "stream",
     "text": [
      "Дисперсия для action: 1.806583248758079\n",
      "Дисперсия для sports: 2.5506234567901234\n"
     ]
    }
   ],
   "source": [
    "variance_action_score = np.var(df_action_score, ddof=1)\n",
    "variance_sports_score = np.var(df_sports_score, ddof=1)\n",
    "print(\"Дисперсия для action:\",variance_action_score)\n",
    "print(\"Дисперсия для sports:\",variance_sports_score)"
   ]
  },
  {
   "cell_type": "markdown",
   "metadata": {},
   "source": [
    "Как видим, дисперсия сильно различается. \n",
    "    \n",
    "По условиям проверки нам надо сравнить среднюю пользовательскую оценку. Для этого можно использовать тест Стьюдента. Уровень значимости определим равным 0,05."
   ]
  },
  {
   "cell_type": "code",
   "execution_count": 68,
   "metadata": {},
   "outputs": [
    {
     "name": "stdout",
     "output_type": "stream",
     "text": [
      "Тест Стьюдента, p-значение: 5.856201190470744e-09\n",
      "Отвергаем нулевую гипотезу\n"
     ]
    }
   ],
   "source": [
    "alpha = 0.05\n",
    "\n",
    "results = st.ttest_ind(df_action_score, df_sports_score) \n",
    "\n",
    "print('Тест Стьюдента, p-значение:', results.pvalue)\n",
    "\n",
    "if results.pvalue < alpha:\n",
    "    print(\"Отвергаем нулевую гипотезу\")\n",
    "else:\n",
    "    print(\"Не получилось отвергнуть нулевую гипотезу\")"
   ]
  },
  {
   "cell_type": "markdown",
   "metadata": {},
   "source": [
    "**Вывод:**\n",
    "\n",
    "По результатам тестов мы можем склониться к тому, чтобы отвергнуть нулевую гипотезу. То есть, мы не нашли подтверждения, что пользовательские оценки в жанрах sports и action равны."
   ]
  },
  {
   "cell_type": "markdown",
   "metadata": {},
   "source": [
    "**Общие выводы по разделу:** <a class=\"anchor\" id=\"fifth-zero-bullet\"></a>\n",
    "- В составе исследования мы проверили гипотезы о том, что средние пользовательские рейтинги платформ Xbox One и ПК одинаковые, а также о том, что пользовательские оценки в жанрах sports и action равны;\n",
    "- У нас есть основания отклонить только вторую гипотезу."
   ]
  },
  {
   "cell_type": "markdown",
   "metadata": {},
   "source": [
    "# 6. Общий вывод <a class=\"anchor\" id=\"sixth-bullet\"></a>"
   ]
  },
  {
   "cell_type": "markdown",
   "metadata": {},
   "source": [
    "Нами проведено исследование базы данных по продажам игр для нескольких поколений консолей в разных регионах мира. \n",
    "\n",
    "Для получения более эффективной модели пользователя игры были ограничены \"хитами\" (т.е. продажи составляют от 1 до 5 млн шт.), были исключены неперспективные для продаж консоли и оставлены платформы восьмого поколения Xbox One, PS4, 3DS, а также ПК;\n",
    "\n",
    "В составе исследования были изучены данные по трем мировым рынкам: NA, EU, JP и сделаны следующие выводы:\n",
    "\n",
    "- В североамериканском регионе игры для Xbox One и PS4 примерно равны по продажам, в европейском регионе безусловно лидируют игры для PS4;\n",
    "- Рынок Японии для мировых хитов очень мал;\n",
    "- PS4 лидирует по абсолютным объемам продаж игр в мире, на втором месте Xbox One;\n",
    "- Распределение по самым популярным жанрам выглядит так: 1) Shooters 2) Sports 3) PRGs;\n",
    "- Больше всего продается игр с возрастным рейтингом M (Mature);\n",
    "\n",
    "Мы сформулировали гипотезы о том, что:\n",
    "\n",
    "- Средние пользовательские рейтинги платформ Xbox One и ПК одинаковые;\n",
    "- Средние пользовательские рейтинги жанров Action и Sports одинаковые\n",
    "\n",
    "У нас появились основания отклонить только вторую гипотезу, т.е. разницу в предпочтения аудитории для достижения максимальных продаж **необходимо** учитывать."
   ]
  }
 ],
 "metadata": {
  "ExecuteTimeLog": [
   {
    "duration": 1544,
    "start_time": "2021-10-24T18:16:25.156Z"
   },
   {
    "duration": 293,
    "start_time": "2021-10-24T18:16:26.703Z"
   },
   {
    "duration": 17,
    "start_time": "2021-10-24T18:16:27.001Z"
   },
   {
    "duration": 44,
    "start_time": "2021-10-24T18:16:27.021Z"
   },
   {
    "duration": 4,
    "start_time": "2021-10-24T18:16:27.067Z"
   },
   {
    "duration": 50,
    "start_time": "2021-10-24T18:16:27.101Z"
   },
   {
    "duration": 46,
    "start_time": "2021-10-24T18:16:27.154Z"
   },
   {
    "duration": 7,
    "start_time": "2021-10-24T18:16:27.205Z"
   },
   {
    "duration": 23,
    "start_time": "2021-10-24T18:16:27.215Z"
   },
   {
    "duration": 21,
    "start_time": "2021-10-24T18:16:27.241Z"
   },
   {
    "duration": 45,
    "start_time": "2021-10-24T18:16:27.264Z"
   },
   {
    "duration": 6,
    "start_time": "2021-10-24T18:16:27.311Z"
   },
   {
    "duration": 18,
    "start_time": "2021-10-24T18:16:27.320Z"
   },
   {
    "duration": 61,
    "start_time": "2021-10-24T18:16:27.341Z"
   },
   {
    "duration": 10,
    "start_time": "2021-10-24T18:16:27.404Z"
   },
   {
    "duration": 9,
    "start_time": "2021-10-24T18:16:27.417Z"
   },
   {
    "duration": 267,
    "start_time": "2021-10-24T18:16:27.428Z"
   },
   {
    "duration": 9,
    "start_time": "2021-10-24T18:16:27.701Z"
   },
   {
    "duration": 343,
    "start_time": "2021-10-24T18:16:27.713Z"
   },
   {
    "duration": 535,
    "start_time": "2021-10-24T18:16:28.059Z"
   },
   {
    "duration": 25,
    "start_time": "2021-10-24T18:16:28.596Z"
   },
   {
    "duration": 8,
    "start_time": "2021-10-24T18:16:28.624Z"
   },
   {
    "duration": 62,
    "start_time": "2021-10-24T18:16:28.638Z"
   },
   {
    "duration": 7,
    "start_time": "2021-10-24T18:16:28.704Z"
   },
   {
    "duration": 365,
    "start_time": "2021-10-24T18:16:28.713Z"
   },
   {
    "duration": 8,
    "start_time": "2021-10-24T18:16:29.080Z"
   },
   {
    "duration": 349,
    "start_time": "2021-10-24T18:16:29.101Z"
   },
   {
    "duration": 368,
    "start_time": "2021-10-24T18:16:29.453Z"
   },
   {
    "duration": 7,
    "start_time": "2021-10-24T18:16:29.823Z"
   },
   {
    "duration": 729,
    "start_time": "2021-10-24T18:16:29.833Z"
   },
   {
    "duration": 810,
    "start_time": "2021-10-24T18:16:30.565Z"
   },
   {
    "duration": 826,
    "start_time": "2021-10-24T18:16:31.377Z"
   },
   {
    "duration": 27,
    "start_time": "2021-10-24T18:16:32.206Z"
   },
   {
    "duration": 25,
    "start_time": "2021-10-24T18:16:32.236Z"
   },
   {
    "duration": 52,
    "start_time": "2021-10-24T18:16:32.263Z"
   },
   {
    "duration": 15,
    "start_time": "2021-10-24T18:16:32.318Z"
   },
   {
    "duration": 508,
    "start_time": "2021-10-24T18:16:32.336Z"
   },
   {
    "duration": 500,
    "start_time": "2021-10-24T18:16:32.847Z"
   },
   {
    "duration": 21,
    "start_time": "2021-10-24T18:16:33.349Z"
   },
   {
    "duration": 54,
    "start_time": "2021-10-24T18:16:33.372Z"
   },
   {
    "duration": 376,
    "start_time": "2021-10-24T18:16:33.429Z"
   },
   {
    "duration": 27,
    "start_time": "2021-10-24T18:16:33.808Z"
   },
   {
    "duration": 362,
    "start_time": "2021-10-24T18:16:33.838Z"
   },
   {
    "duration": 28,
    "start_time": "2021-10-24T18:16:34.202Z"
   },
   {
    "duration": 361,
    "start_time": "2021-10-24T18:16:34.233Z"
   },
   {
    "duration": 27,
    "start_time": "2021-10-24T18:16:34.601Z"
   },
   {
    "duration": 381,
    "start_time": "2021-10-24T18:16:34.631Z"
   },
   {
    "duration": 26,
    "start_time": "2021-10-24T18:16:35.015Z"
   },
   {
    "duration": 486,
    "start_time": "2021-10-24T18:16:35.043Z"
   },
   {
    "duration": 26,
    "start_time": "2021-10-24T18:16:35.531Z"
   },
   {
    "duration": 375,
    "start_time": "2021-10-24T18:16:35.559Z"
   },
   {
    "duration": 200,
    "start_time": "2021-10-24T18:16:35.937Z"
   },
   {
    "duration": 200,
    "start_time": "2021-10-24T18:16:36.140Z"
   },
   {
    "duration": 189,
    "start_time": "2021-10-24T18:16:36.342Z"
   },
   {
    "duration": 10,
    "start_time": "2021-10-24T18:16:36.533Z"
   },
   {
    "duration": 521,
    "start_time": "2021-10-24T18:16:36.546Z"
   },
   {
    "duration": 1115,
    "start_time": "2021-10-24T18:16:37.069Z"
   },
   {
    "duration": 14,
    "start_time": "2021-10-24T18:16:38.187Z"
   },
   {
    "duration": 7,
    "start_time": "2021-10-24T18:16:38.204Z"
   },
   {
    "duration": 10,
    "start_time": "2021-10-24T18:16:38.213Z"
   },
   {
    "duration": 10,
    "start_time": "2021-10-24T18:16:38.225Z"
   },
   {
    "duration": 542,
    "start_time": "2021-10-24T18:16:38.238Z"
   },
   {
    "duration": 1090,
    "start_time": "2021-10-24T18:16:38.783Z"
   },
   {
    "duration": 7,
    "start_time": "2021-10-24T18:16:39.876Z"
   },
   {
    "duration": 8,
    "start_time": "2021-10-24T18:16:39.901Z"
   },
   {
    "duration": 12,
    "start_time": "2021-10-24T18:16:39.911Z"
   },
   {
    "duration": 1814,
    "start_time": "2021-10-24T19:13:51.185Z"
   },
   {
    "duration": 348,
    "start_time": "2021-10-24T19:13:53.002Z"
   },
   {
    "duration": 14,
    "start_time": "2021-10-24T19:13:53.353Z"
   },
   {
    "duration": 51,
    "start_time": "2021-10-24T19:13:53.370Z"
   },
   {
    "duration": 9,
    "start_time": "2021-10-24T19:13:53.424Z"
   },
   {
    "duration": 70,
    "start_time": "2021-10-24T19:13:53.436Z"
   },
   {
    "duration": 29,
    "start_time": "2021-10-24T19:13:53.510Z"
   },
   {
    "duration": 7,
    "start_time": "2021-10-24T19:13:53.542Z"
   },
   {
    "duration": 47,
    "start_time": "2021-10-24T19:13:53.552Z"
   },
   {
    "duration": 23,
    "start_time": "2021-10-24T19:13:53.603Z"
   },
   {
    "duration": 12,
    "start_time": "2021-10-24T19:13:53.628Z"
   },
   {
    "duration": 7,
    "start_time": "2021-10-24T19:13:53.643Z"
   },
   {
    "duration": 71,
    "start_time": "2021-10-24T19:13:53.653Z"
   },
   {
    "duration": 43,
    "start_time": "2021-10-24T19:13:53.727Z"
   },
   {
    "duration": 27,
    "start_time": "2021-10-24T19:13:53.773Z"
   },
   {
    "duration": 9,
    "start_time": "2021-10-24T19:13:53.804Z"
   },
   {
    "duration": 256,
    "start_time": "2021-10-24T19:13:53.817Z"
   },
   {
    "duration": 12,
    "start_time": "2021-10-24T19:13:54.076Z"
   },
   {
    "duration": 349,
    "start_time": "2021-10-24T19:13:54.099Z"
   },
   {
    "duration": 564,
    "start_time": "2021-10-24T19:13:54.451Z"
   },
   {
    "duration": 25,
    "start_time": "2021-10-24T19:13:55.018Z"
   },
   {
    "duration": 17,
    "start_time": "2021-10-24T19:13:55.045Z"
   },
   {
    "duration": 64,
    "start_time": "2021-10-24T19:13:55.068Z"
   },
   {
    "duration": 6,
    "start_time": "2021-10-24T19:13:55.136Z"
   },
   {
    "duration": 402,
    "start_time": "2021-10-24T19:13:55.144Z"
   },
   {
    "duration": 7,
    "start_time": "2021-10-24T19:13:55.548Z"
   },
   {
    "duration": 385,
    "start_time": "2021-10-24T19:13:55.557Z"
   },
   {
    "duration": 414,
    "start_time": "2021-10-24T19:13:55.944Z"
   },
   {
    "duration": 8,
    "start_time": "2021-10-24T19:13:56.360Z"
   },
   {
    "duration": 789,
    "start_time": "2021-10-24T19:13:56.370Z"
   },
   {
    "duration": 707,
    "start_time": "2021-10-24T19:13:57.162Z"
   },
   {
    "duration": 856,
    "start_time": "2021-10-24T19:13:57.872Z"
   },
   {
    "duration": 25,
    "start_time": "2021-10-24T19:13:58.731Z"
   },
   {
    "duration": 46,
    "start_time": "2021-10-24T19:13:58.759Z"
   },
   {
    "duration": 28,
    "start_time": "2021-10-24T19:13:58.809Z"
   },
   {
    "duration": 16,
    "start_time": "2021-10-24T19:13:58.840Z"
   },
   {
    "duration": 569,
    "start_time": "2021-10-24T19:13:58.859Z"
   },
   {
    "duration": 552,
    "start_time": "2021-10-24T19:13:59.430Z"
   },
   {
    "duration": 39,
    "start_time": "2021-10-24T19:13:59.986Z"
   },
   {
    "duration": 27,
    "start_time": "2021-10-24T19:14:00.028Z"
   },
   {
    "duration": 407,
    "start_time": "2021-10-24T19:14:00.057Z"
   },
   {
    "duration": 58,
    "start_time": "2021-10-24T19:14:00.467Z"
   },
   {
    "duration": 373,
    "start_time": "2021-10-24T19:14:00.528Z"
   },
   {
    "duration": 30,
    "start_time": "2021-10-24T19:14:00.905Z"
   },
   {
    "duration": 415,
    "start_time": "2021-10-24T19:14:00.937Z"
   },
   {
    "duration": 27,
    "start_time": "2021-10-24T19:14:01.355Z"
   },
   {
    "duration": 385,
    "start_time": "2021-10-24T19:14:01.401Z"
   },
   {
    "duration": 41,
    "start_time": "2021-10-24T19:14:01.789Z"
   },
   {
    "duration": 632,
    "start_time": "2021-10-24T19:14:01.832Z"
   },
   {
    "duration": 44,
    "start_time": "2021-10-24T19:14:02.466Z"
   },
   {
    "duration": 412,
    "start_time": "2021-10-24T19:14:02.514Z"
   },
   {
    "duration": 300,
    "start_time": "2021-10-24T19:14:02.929Z"
   },
   {
    "duration": 219,
    "start_time": "2021-10-24T19:14:03.232Z"
   },
   {
    "duration": 214,
    "start_time": "2021-10-24T19:14:03.455Z"
   },
   {
    "duration": 11,
    "start_time": "2021-10-24T19:14:03.673Z"
   },
   {
    "duration": 557,
    "start_time": "2021-10-24T19:14:03.701Z"
   },
   {
    "duration": 1166,
    "start_time": "2021-10-24T19:14:04.260Z"
   },
   {
    "duration": 9,
    "start_time": "2021-10-24T19:14:05.428Z"
   },
   {
    "duration": 18,
    "start_time": "2021-10-24T19:14:05.439Z"
   },
   {
    "duration": 9,
    "start_time": "2021-10-24T19:14:05.459Z"
   },
   {
    "duration": 56,
    "start_time": "2021-10-24T19:14:05.470Z"
   },
   {
    "duration": 550,
    "start_time": "2021-10-24T19:14:05.529Z"
   },
   {
    "duration": 1155,
    "start_time": "2021-10-24T19:14:06.082Z"
   },
   {
    "duration": 8,
    "start_time": "2021-10-24T19:14:07.240Z"
   },
   {
    "duration": 11,
    "start_time": "2021-10-24T19:14:07.251Z"
   },
   {
    "duration": 43,
    "start_time": "2021-10-24T19:14:07.265Z"
   },
   {
    "duration": 1586,
    "start_time": "2021-10-26T15:20:06.873Z"
   },
   {
    "duration": 274,
    "start_time": "2021-10-26T15:20:08.462Z"
   },
   {
    "duration": 15,
    "start_time": "2021-10-26T15:20:08.739Z"
   },
   {
    "duration": 59,
    "start_time": "2021-10-26T15:20:08.757Z"
   },
   {
    "duration": 4,
    "start_time": "2021-10-26T15:20:08.819Z"
   },
   {
    "duration": 65,
    "start_time": "2021-10-26T15:20:08.825Z"
   },
   {
    "duration": 21,
    "start_time": "2021-10-26T15:20:08.892Z"
   },
   {
    "duration": 7,
    "start_time": "2021-10-26T15:20:08.916Z"
   },
   {
    "duration": 23,
    "start_time": "2021-10-26T15:20:08.925Z"
   },
   {
    "duration": 89,
    "start_time": "2021-10-26T15:20:08.950Z"
   },
   {
    "duration": 17,
    "start_time": "2021-10-26T15:20:09.041Z"
   },
   {
    "duration": 43,
    "start_time": "2021-10-26T15:20:09.060Z"
   },
   {
    "duration": 11,
    "start_time": "2021-10-26T15:20:09.105Z"
   },
   {
    "duration": 6,
    "start_time": "2021-10-26T15:20:09.118Z"
   },
   {
    "duration": 19,
    "start_time": "2021-10-26T15:20:09.126Z"
   },
   {
    "duration": 60,
    "start_time": "2021-10-26T15:20:09.147Z"
   },
   {
    "duration": 9,
    "start_time": "2021-10-26T15:20:09.209Z"
   },
   {
    "duration": 6,
    "start_time": "2021-10-26T15:20:09.220Z"
   },
   {
    "duration": 1014,
    "start_time": "2021-10-26T15:20:09.228Z"
   },
   {
    "duration": 9,
    "start_time": "2021-10-26T15:20:10.244Z"
   },
   {
    "duration": 442,
    "start_time": "2021-10-26T15:20:10.256Z"
   },
   {
    "duration": 662,
    "start_time": "2021-10-26T15:20:10.701Z"
   },
   {
    "duration": 675,
    "start_time": "2021-10-26T15:20:11.370Z"
   },
   {
    "duration": 37,
    "start_time": "2021-10-26T15:20:12.049Z"
   },
   {
    "duration": 9,
    "start_time": "2021-10-26T15:20:12.088Z"
   },
   {
    "duration": 30,
    "start_time": "2021-10-26T15:20:12.099Z"
   },
   {
    "duration": 7,
    "start_time": "2021-10-26T15:20:12.131Z"
   },
   {
    "duration": 378,
    "start_time": "2021-10-26T15:20:12.140Z"
   },
   {
    "duration": 8,
    "start_time": "2021-10-26T15:20:12.521Z"
   },
   {
    "duration": 425,
    "start_time": "2021-10-26T15:20:12.533Z"
   },
   {
    "duration": 353,
    "start_time": "2021-10-26T15:20:12.961Z"
   },
   {
    "duration": 8,
    "start_time": "2021-10-26T15:20:13.317Z"
   },
   {
    "duration": 759,
    "start_time": "2021-10-26T15:20:13.328Z"
   },
   {
    "duration": 929,
    "start_time": "2021-10-26T15:20:14.090Z"
   },
   {
    "duration": 26,
    "start_time": "2021-10-26T15:20:15.022Z"
   },
   {
    "duration": 38,
    "start_time": "2021-10-26T15:20:15.051Z"
   },
   {
    "duration": 23,
    "start_time": "2021-10-26T15:20:15.091Z"
   },
   {
    "duration": 17,
    "start_time": "2021-10-26T15:20:15.117Z"
   },
   {
    "duration": 467,
    "start_time": "2021-10-26T15:20:15.136Z"
   },
   {
    "duration": 454,
    "start_time": "2021-10-26T15:20:15.605Z"
   },
   {
    "duration": 25,
    "start_time": "2021-10-26T15:20:16.061Z"
   },
   {
    "duration": 468,
    "start_time": "2021-10-26T15:20:16.088Z"
   },
   {
    "duration": 30,
    "start_time": "2021-10-26T15:20:16.559Z"
   },
   {
    "duration": 28,
    "start_time": "2021-10-26T15:20:16.592Z"
   },
   {
    "duration": 359,
    "start_time": "2021-10-26T15:20:16.623Z"
   },
   {
    "duration": 27,
    "start_time": "2021-10-26T15:20:16.984Z"
   },
   {
    "duration": 327,
    "start_time": "2021-10-26T15:20:17.013Z"
   },
   {
    "duration": 41,
    "start_time": "2021-10-26T15:20:17.343Z"
   },
   {
    "duration": 432,
    "start_time": "2021-10-26T15:20:17.386Z"
   },
   {
    "duration": 26,
    "start_time": "2021-10-26T15:20:17.821Z"
   },
   {
    "duration": 368,
    "start_time": "2021-10-26T15:20:17.850Z"
   },
   {
    "duration": 26,
    "start_time": "2021-10-26T15:20:18.220Z"
   },
   {
    "duration": 368,
    "start_time": "2021-10-26T15:20:18.248Z"
   },
   {
    "duration": 27,
    "start_time": "2021-10-26T15:20:18.618Z"
   },
   {
    "duration": 382,
    "start_time": "2021-10-26T15:20:18.647Z"
   },
   {
    "duration": 201,
    "start_time": "2021-10-26T15:20:19.032Z"
   },
   {
    "duration": 202,
    "start_time": "2021-10-26T15:20:19.236Z"
   },
   {
    "duration": 190,
    "start_time": "2021-10-26T15:20:19.440Z"
   },
   {
    "duration": 9,
    "start_time": "2021-10-26T15:20:19.632Z"
   },
   {
    "duration": 494,
    "start_time": "2021-10-26T15:20:19.643Z"
   },
   {
    "duration": 1129,
    "start_time": "2021-10-26T15:20:20.140Z"
   },
   {
    "duration": 11,
    "start_time": "2021-10-26T15:20:21.272Z"
   },
   {
    "duration": 8,
    "start_time": "2021-10-26T15:20:21.286Z"
   },
   {
    "duration": 518,
    "start_time": "2021-10-26T15:20:21.297Z"
   },
   {
    "duration": 1204,
    "start_time": "2021-10-26T15:20:21.818Z"
   },
   {
    "duration": 6,
    "start_time": "2021-10-26T15:20:23.024Z"
   },
   {
    "duration": 11,
    "start_time": "2021-10-26T15:20:23.033Z"
   },
   {
    "duration": 32,
    "start_time": "2021-10-26T15:20:23.051Z"
   },
   {
    "duration": 484,
    "start_time": "2021-10-26T15:28:56.641Z"
   },
   {
    "duration": 607,
    "start_time": "2021-10-26T15:29:24.732Z"
   },
   {
    "duration": 24,
    "start_time": "2021-10-26T15:40:11.436Z"
   },
   {
    "duration": 10,
    "start_time": "2021-10-26T15:40:14.662Z"
   },
   {
    "duration": 583,
    "start_time": "2021-10-26T15:40:16.695Z"
   },
   {
    "duration": 27,
    "start_time": "2021-10-26T15:40:18.339Z"
   },
   {
    "duration": 6,
    "start_time": "2021-10-26T15:40:20.009Z"
   },
   {
    "duration": 337,
    "start_time": "2021-10-26T15:40:20.948Z"
   },
   {
    "duration": 7,
    "start_time": "2021-10-26T15:40:21.855Z"
   },
   {
    "duration": 328,
    "start_time": "2021-10-26T15:40:22.351Z"
   },
   {
    "duration": 333,
    "start_time": "2021-10-26T15:40:23.528Z"
   },
   {
    "duration": 7,
    "start_time": "2021-10-26T15:40:26.728Z"
   },
   {
    "duration": 644,
    "start_time": "2021-10-26T15:40:27.941Z"
   },
   {
    "duration": 20,
    "start_time": "2021-10-26T15:40:30.506Z"
   },
   {
    "duration": 24,
    "start_time": "2021-10-26T15:40:33.123Z"
   },
   {
    "duration": 22,
    "start_time": "2021-10-26T15:40:33.356Z"
   },
   {
    "duration": 22,
    "start_time": "2021-10-26T15:40:34.615Z"
   },
   {
    "duration": 14,
    "start_time": "2021-10-26T15:40:39.115Z"
   },
   {
    "duration": 444,
    "start_time": "2021-10-26T15:40:39.790Z"
   },
   {
    "duration": 32,
    "start_time": "2021-10-26T16:04:05.388Z"
   },
   {
    "duration": 1493,
    "start_time": "2021-10-26T16:06:13.154Z"
   },
   {
    "duration": 274,
    "start_time": "2021-10-26T16:06:14.649Z"
   },
   {
    "duration": 14,
    "start_time": "2021-10-26T16:06:14.926Z"
   },
   {
    "duration": 63,
    "start_time": "2021-10-26T16:06:14.943Z"
   },
   {
    "duration": 4,
    "start_time": "2021-10-26T16:06:15.008Z"
   },
   {
    "duration": 54,
    "start_time": "2021-10-26T16:06:15.014Z"
   },
   {
    "duration": 22,
    "start_time": "2021-10-26T16:06:15.083Z"
   },
   {
    "duration": 7,
    "start_time": "2021-10-26T16:06:15.108Z"
   },
   {
    "duration": 22,
    "start_time": "2021-10-26T16:06:15.118Z"
   },
   {
    "duration": 89,
    "start_time": "2021-10-26T16:06:15.142Z"
   },
   {
    "duration": 16,
    "start_time": "2021-10-26T16:06:15.234Z"
   },
   {
    "duration": 40,
    "start_time": "2021-10-26T16:06:15.253Z"
   },
   {
    "duration": 14,
    "start_time": "2021-10-26T16:06:15.296Z"
   },
   {
    "duration": 5,
    "start_time": "2021-10-26T16:06:15.312Z"
   },
   {
    "duration": 19,
    "start_time": "2021-10-26T16:06:15.319Z"
   },
   {
    "duration": 58,
    "start_time": "2021-10-26T16:06:15.340Z"
   },
   {
    "duration": 10,
    "start_time": "2021-10-26T16:06:15.400Z"
   },
   {
    "duration": 8,
    "start_time": "2021-10-26T16:06:15.412Z"
   },
   {
    "duration": 998,
    "start_time": "2021-10-26T16:06:15.422Z"
   },
   {
    "duration": 9,
    "start_time": "2021-10-26T16:06:16.423Z"
   },
   {
    "duration": 433,
    "start_time": "2021-10-26T16:06:16.434Z"
   },
   {
    "duration": 676,
    "start_time": "2021-10-26T16:06:16.869Z"
   },
   {
    "duration": 604,
    "start_time": "2021-10-26T16:06:17.553Z"
   },
   {
    "duration": 35,
    "start_time": "2021-10-26T16:06:18.161Z"
   },
   {
    "duration": 9,
    "start_time": "2021-10-26T16:06:18.199Z"
   },
   {
    "duration": 594,
    "start_time": "2021-10-26T16:06:18.211Z"
   },
   {
    "duration": 28,
    "start_time": "2021-10-26T16:06:18.807Z"
   },
   {
    "duration": 11,
    "start_time": "2021-10-26T16:06:18.837Z"
   },
   {
    "duration": 427,
    "start_time": "2021-10-26T16:06:18.850Z"
   },
   {
    "duration": 8,
    "start_time": "2021-10-26T16:06:19.282Z"
   },
   {
    "duration": 363,
    "start_time": "2021-10-26T16:06:19.293Z"
   },
   {
    "duration": 340,
    "start_time": "2021-10-26T16:06:19.660Z"
   },
   {
    "duration": 7,
    "start_time": "2021-10-26T16:06:20.002Z"
   },
   {
    "duration": 621,
    "start_time": "2021-10-26T16:06:20.011Z"
   },
   {
    "duration": 884,
    "start_time": "2021-10-26T16:06:20.634Z"
   },
   {
    "duration": 26,
    "start_time": "2021-10-26T16:06:21.520Z"
   },
   {
    "duration": 43,
    "start_time": "2021-10-26T16:06:21.548Z"
   },
   {
    "duration": 24,
    "start_time": "2021-10-26T16:06:21.593Z"
   },
   {
    "duration": 14,
    "start_time": "2021-10-26T16:06:21.619Z"
   },
   {
    "duration": 458,
    "start_time": "2021-10-26T16:06:21.635Z"
   },
   {
    "duration": 430,
    "start_time": "2021-10-26T16:06:22.096Z"
   },
   {
    "duration": 13,
    "start_time": "2021-10-26T16:06:22.529Z"
   },
   {
    "duration": 450,
    "start_time": "2021-10-26T16:06:22.545Z"
   },
   {
    "duration": 20,
    "start_time": "2021-10-26T16:06:22.998Z"
   },
   {
    "duration": 27,
    "start_time": "2021-10-26T16:06:23.020Z"
   },
   {
    "duration": 316,
    "start_time": "2021-10-26T16:06:23.050Z"
   },
   {
    "duration": 33,
    "start_time": "2021-10-26T16:06:23.368Z"
   },
   {
    "duration": 416,
    "start_time": "2021-10-26T16:06:23.403Z"
   },
   {
    "duration": 26,
    "start_time": "2021-10-26T16:06:23.821Z"
   },
   {
    "duration": 340,
    "start_time": "2021-10-26T16:06:23.850Z"
   },
   {
    "duration": 26,
    "start_time": "2021-10-26T16:06:24.192Z"
   },
   {
    "duration": 340,
    "start_time": "2021-10-26T16:06:24.221Z"
   },
   {
    "duration": 34,
    "start_time": "2021-10-26T16:06:24.563Z"
   },
   {
    "duration": 335,
    "start_time": "2021-10-26T16:06:24.599Z"
   },
   {
    "duration": 26,
    "start_time": "2021-10-26T16:06:24.936Z"
   },
   {
    "duration": 367,
    "start_time": "2021-10-26T16:06:24.965Z"
   },
   {
    "duration": 193,
    "start_time": "2021-10-26T16:06:25.334Z"
   },
   {
    "duration": 189,
    "start_time": "2021-10-26T16:06:25.529Z"
   },
   {
    "duration": 198,
    "start_time": "2021-10-26T16:06:25.720Z"
   },
   {
    "duration": 8,
    "start_time": "2021-10-26T16:06:25.921Z"
   },
   {
    "duration": 492,
    "start_time": "2021-10-26T16:06:25.932Z"
   },
   {
    "duration": 1138,
    "start_time": "2021-10-26T16:06:26.426Z"
   },
   {
    "duration": 7,
    "start_time": "2021-10-26T16:06:27.567Z"
   },
   {
    "duration": 8,
    "start_time": "2021-10-26T16:06:27.582Z"
   },
   {
    "duration": 492,
    "start_time": "2021-10-26T16:06:27.593Z"
   },
   {
    "duration": 1139,
    "start_time": "2021-10-26T16:06:28.087Z"
   },
   {
    "duration": 6,
    "start_time": "2021-10-26T16:06:29.228Z"
   },
   {
    "duration": 10,
    "start_time": "2021-10-26T16:06:29.242Z"
   },
   {
    "duration": 30,
    "start_time": "2021-10-26T16:06:29.255Z"
   },
   {
    "duration": 1483,
    "start_time": "2021-10-26T16:09:24.764Z"
   },
   {
    "duration": 229,
    "start_time": "2021-10-26T16:09:26.250Z"
   },
   {
    "duration": 14,
    "start_time": "2021-10-26T16:09:26.481Z"
   },
   {
    "duration": 41,
    "start_time": "2021-10-26T16:09:26.497Z"
   },
   {
    "duration": 4,
    "start_time": "2021-10-26T16:09:26.540Z"
   },
   {
    "duration": 76,
    "start_time": "2021-10-26T16:09:26.546Z"
   },
   {
    "duration": 21,
    "start_time": "2021-10-26T16:09:26.626Z"
   },
   {
    "duration": 6,
    "start_time": "2021-10-26T16:09:26.650Z"
   },
   {
    "duration": 22,
    "start_time": "2021-10-26T16:09:26.683Z"
   },
   {
    "duration": 57,
    "start_time": "2021-10-26T16:09:26.708Z"
   },
   {
    "duration": 17,
    "start_time": "2021-10-26T16:09:26.783Z"
   },
   {
    "duration": 20,
    "start_time": "2021-10-26T16:09:26.803Z"
   },
   {
    "duration": 11,
    "start_time": "2021-10-26T16:09:26.825Z"
   },
   {
    "duration": 6,
    "start_time": "2021-10-26T16:09:26.839Z"
   },
   {
    "duration": 18,
    "start_time": "2021-10-26T16:09:26.882Z"
   },
   {
    "duration": 27,
    "start_time": "2021-10-26T16:09:26.902Z"
   },
   {
    "duration": 9,
    "start_time": "2021-10-26T16:09:26.932Z"
   },
   {
    "duration": 7,
    "start_time": "2021-10-26T16:09:26.981Z"
   },
   {
    "duration": 1020,
    "start_time": "2021-10-26T16:09:26.990Z"
   },
   {
    "duration": 10,
    "start_time": "2021-10-26T16:09:28.012Z"
   },
   {
    "duration": 453,
    "start_time": "2021-10-26T16:09:28.025Z"
   },
   {
    "duration": 649,
    "start_time": "2021-10-26T16:09:28.487Z"
   },
   {
    "duration": 558,
    "start_time": "2021-10-26T16:09:29.141Z"
   },
   {
    "duration": 22,
    "start_time": "2021-10-26T16:09:29.702Z"
   },
   {
    "duration": 8,
    "start_time": "2021-10-26T16:09:29.727Z"
   },
   {
    "duration": 579,
    "start_time": "2021-10-26T16:09:29.738Z"
   },
   {
    "duration": 27,
    "start_time": "2021-10-26T16:09:30.319Z"
   },
   {
    "duration": 38,
    "start_time": "2021-10-26T16:09:30.348Z"
   },
   {
    "duration": 422,
    "start_time": "2021-10-26T16:09:30.388Z"
   },
   {
    "duration": 3,
    "start_time": "2021-10-26T16:09:30.812Z"
   },
   {
    "duration": 344,
    "start_time": "2021-10-26T16:09:30.817Z"
   },
   {
    "duration": 353,
    "start_time": "2021-10-26T16:09:31.164Z"
   },
   {
    "duration": 7,
    "start_time": "2021-10-26T16:09:31.519Z"
   },
   {
    "duration": 659,
    "start_time": "2021-10-26T16:09:31.528Z"
   },
   {
    "duration": 852,
    "start_time": "2021-10-26T16:09:32.190Z"
   },
   {
    "duration": 38,
    "start_time": "2021-10-26T16:09:33.044Z"
   },
   {
    "duration": 22,
    "start_time": "2021-10-26T16:09:33.084Z"
   },
   {
    "duration": 27,
    "start_time": "2021-10-26T16:09:33.109Z"
   },
   {
    "duration": 15,
    "start_time": "2021-10-26T16:09:33.138Z"
   },
   {
    "duration": 502,
    "start_time": "2021-10-26T16:09:33.155Z"
   },
   {
    "duration": 479,
    "start_time": "2021-10-26T16:09:33.660Z"
   },
   {
    "duration": 15,
    "start_time": "2021-10-26T16:09:34.142Z"
   },
   {
    "duration": 471,
    "start_time": "2021-10-26T16:09:34.159Z"
   },
   {
    "duration": 19,
    "start_time": "2021-10-26T16:09:34.632Z"
   },
   {
    "duration": 46,
    "start_time": "2021-10-26T16:09:34.654Z"
   },
   {
    "duration": 327,
    "start_time": "2021-10-26T16:09:34.702Z"
   },
   {
    "duration": 26,
    "start_time": "2021-10-26T16:09:35.032Z"
   },
   {
    "duration": 425,
    "start_time": "2021-10-26T16:09:35.081Z"
   },
   {
    "duration": 27,
    "start_time": "2021-10-26T16:09:35.508Z"
   },
   {
    "duration": 352,
    "start_time": "2021-10-26T16:09:35.537Z"
   },
   {
    "duration": 26,
    "start_time": "2021-10-26T16:09:35.892Z"
   },
   {
    "duration": 379,
    "start_time": "2021-10-26T16:09:35.920Z"
   },
   {
    "duration": 25,
    "start_time": "2021-10-26T16:09:36.301Z"
   },
   {
    "duration": 358,
    "start_time": "2021-10-26T16:09:36.328Z"
   },
   {
    "duration": 25,
    "start_time": "2021-10-26T16:09:36.689Z"
   },
   {
    "duration": 365,
    "start_time": "2021-10-26T16:09:36.717Z"
   },
   {
    "duration": 187,
    "start_time": "2021-10-26T16:09:37.084Z"
   },
   {
    "duration": 193,
    "start_time": "2021-10-26T16:09:37.273Z"
   },
   {
    "duration": 190,
    "start_time": "2021-10-26T16:09:37.468Z"
   },
   {
    "duration": 10,
    "start_time": "2021-10-26T16:09:37.660Z"
   },
   {
    "duration": 742,
    "start_time": "2021-10-26T16:09:37.682Z"
   },
   {
    "duration": 1156,
    "start_time": "2021-10-26T16:09:38.426Z"
   },
   {
    "duration": 7,
    "start_time": "2021-10-26T16:09:39.585Z"
   },
   {
    "duration": 13,
    "start_time": "2021-10-26T16:09:39.595Z"
   },
   {
    "duration": 734,
    "start_time": "2021-10-26T16:09:39.610Z"
   },
   {
    "duration": 1177,
    "start_time": "2021-10-26T16:09:40.347Z"
   },
   {
    "duration": 6,
    "start_time": "2021-10-26T16:09:41.531Z"
   },
   {
    "duration": 13,
    "start_time": "2021-10-26T16:09:41.539Z"
   },
   {
    "duration": 28,
    "start_time": "2021-10-26T16:09:41.555Z"
   },
   {
    "duration": 20,
    "start_time": "2021-10-26T16:13:06.768Z"
   },
   {
    "duration": 1464,
    "start_time": "2021-10-26T16:21:55.426Z"
   },
   {
    "duration": 260,
    "start_time": "2021-10-26T16:21:56.893Z"
   },
   {
    "duration": 14,
    "start_time": "2021-10-26T16:21:57.155Z"
   },
   {
    "duration": 42,
    "start_time": "2021-10-26T16:21:57.173Z"
   },
   {
    "duration": 4,
    "start_time": "2021-10-26T16:21:57.217Z"
   },
   {
    "duration": 65,
    "start_time": "2021-10-26T16:21:57.223Z"
   },
   {
    "duration": 22,
    "start_time": "2021-10-26T16:21:57.291Z"
   },
   {
    "duration": 6,
    "start_time": "2021-10-26T16:21:57.316Z"
   },
   {
    "duration": 23,
    "start_time": "2021-10-26T16:21:57.326Z"
   },
   {
    "duration": 58,
    "start_time": "2021-10-26T16:21:57.381Z"
   },
   {
    "duration": 15,
    "start_time": "2021-10-26T16:21:57.442Z"
   },
   {
    "duration": 38,
    "start_time": "2021-10-26T16:21:57.460Z"
   },
   {
    "duration": 11,
    "start_time": "2021-10-26T16:21:57.501Z"
   },
   {
    "duration": 8,
    "start_time": "2021-10-26T16:21:57.514Z"
   },
   {
    "duration": 20,
    "start_time": "2021-10-26T16:21:57.525Z"
   },
   {
    "duration": 60,
    "start_time": "2021-10-26T16:21:57.548Z"
   },
   {
    "duration": 9,
    "start_time": "2021-10-26T16:21:57.610Z"
   },
   {
    "duration": 9,
    "start_time": "2021-10-26T16:21:57.622Z"
   },
   {
    "duration": 1007,
    "start_time": "2021-10-26T16:21:57.633Z"
   },
   {
    "duration": 10,
    "start_time": "2021-10-26T16:21:58.642Z"
   },
   {
    "duration": 470,
    "start_time": "2021-10-26T16:21:58.654Z"
   },
   {
    "duration": 726,
    "start_time": "2021-10-26T16:21:59.127Z"
   },
   {
    "duration": 569,
    "start_time": "2021-10-26T16:21:59.856Z"
   },
   {
    "duration": 24,
    "start_time": "2021-10-26T16:22:00.428Z"
   },
   {
    "duration": 20,
    "start_time": "2021-10-26T16:22:00.454Z"
   },
   {
    "duration": 746,
    "start_time": "2021-10-26T16:22:00.477Z"
   },
   {
    "duration": 28,
    "start_time": "2021-10-26T16:22:01.229Z"
   },
   {
    "duration": 13,
    "start_time": "2021-10-26T16:22:01.284Z"
   },
   {
    "duration": 554,
    "start_time": "2021-10-26T16:22:01.300Z"
   },
   {
    "duration": 7,
    "start_time": "2021-10-26T16:22:01.858Z"
   },
   {
    "duration": 352,
    "start_time": "2021-10-26T16:22:01.883Z"
   },
   {
    "duration": 386,
    "start_time": "2021-10-26T16:22:02.238Z"
   },
   {
    "duration": 8,
    "start_time": "2021-10-26T16:22:02.626Z"
   },
   {
    "duration": 681,
    "start_time": "2021-10-26T16:22:02.637Z"
   },
   {
    "duration": 1034,
    "start_time": "2021-10-26T16:22:03.321Z"
   },
   {
    "duration": 37,
    "start_time": "2021-10-26T16:22:04.358Z"
   },
   {
    "duration": 24,
    "start_time": "2021-10-26T16:22:04.397Z"
   },
   {
    "duration": 22,
    "start_time": "2021-10-26T16:22:04.423Z"
   },
   {
    "duration": 48,
    "start_time": "2021-10-26T16:22:04.448Z"
   },
   {
    "duration": 448,
    "start_time": "2021-10-26T16:22:04.499Z"
   },
   {
    "duration": 449,
    "start_time": "2021-10-26T16:22:04.950Z"
   },
   {
    "duration": 15,
    "start_time": "2021-10-26T16:22:05.402Z"
   },
   {
    "duration": 452,
    "start_time": "2021-10-26T16:22:05.420Z"
   },
   {
    "duration": 29,
    "start_time": "2021-10-26T16:22:05.874Z"
   },
   {
    "duration": 30,
    "start_time": "2021-10-26T16:22:05.905Z"
   },
   {
    "duration": 337,
    "start_time": "2021-10-26T16:22:05.937Z"
   },
   {
    "duration": 25,
    "start_time": "2021-10-26T16:22:06.277Z"
   },
   {
    "duration": 432,
    "start_time": "2021-10-26T16:22:06.304Z"
   },
   {
    "duration": 25,
    "start_time": "2021-10-26T16:22:06.738Z"
   },
   {
    "duration": 321,
    "start_time": "2021-10-26T16:22:06.783Z"
   },
   {
    "duration": 25,
    "start_time": "2021-10-26T16:22:07.107Z"
   },
   {
    "duration": 350,
    "start_time": "2021-10-26T16:22:07.134Z"
   },
   {
    "duration": 27,
    "start_time": "2021-10-26T16:22:07.487Z"
   },
   {
    "duration": 349,
    "start_time": "2021-10-26T16:22:07.517Z"
   },
   {
    "duration": 35,
    "start_time": "2021-10-26T16:22:07.868Z"
   },
   {
    "duration": 357,
    "start_time": "2021-10-26T16:22:07.906Z"
   },
   {
    "duration": 195,
    "start_time": "2021-10-26T16:22:08.266Z"
   },
   {
    "duration": 187,
    "start_time": "2021-10-26T16:22:08.464Z"
   },
   {
    "duration": 192,
    "start_time": "2021-10-26T16:22:08.653Z"
   },
   {
    "duration": 8,
    "start_time": "2021-10-26T16:22:08.848Z"
   },
   {
    "duration": 487,
    "start_time": "2021-10-26T16:22:08.858Z"
   },
   {
    "duration": 1104,
    "start_time": "2021-10-26T16:22:09.348Z"
   },
   {
    "duration": 7,
    "start_time": "2021-10-26T16:22:10.454Z"
   },
   {
    "duration": 21,
    "start_time": "2021-10-26T16:22:10.464Z"
   },
   {
    "duration": 590,
    "start_time": "2021-10-26T16:22:10.488Z"
   },
   {
    "duration": 1206,
    "start_time": "2021-10-26T16:22:11.081Z"
   },
   {
    "duration": 7,
    "start_time": "2021-10-26T16:22:12.290Z"
   },
   {
    "duration": 10,
    "start_time": "2021-10-26T16:22:12.299Z"
   },
   {
    "duration": 9,
    "start_time": "2021-10-26T16:22:12.311Z"
   },
   {
    "duration": 1095,
    "start_time": "2021-10-27T11:08:57.906Z"
   },
   {
    "duration": 164,
    "start_time": "2021-10-27T11:08:59.003Z"
   },
   {
    "duration": 9,
    "start_time": "2021-10-27T11:08:59.169Z"
   },
   {
    "duration": 26,
    "start_time": "2021-10-27T11:08:59.180Z"
   },
   {
    "duration": 2,
    "start_time": "2021-10-27T11:08:59.208Z"
   },
   {
    "duration": 32,
    "start_time": "2021-10-27T11:08:59.212Z"
   },
   {
    "duration": 13,
    "start_time": "2021-10-27T11:08:59.246Z"
   },
   {
    "duration": 5,
    "start_time": "2021-10-27T11:08:59.261Z"
   },
   {
    "duration": 36,
    "start_time": "2021-10-27T11:08:59.267Z"
   },
   {
    "duration": 34,
    "start_time": "2021-10-27T11:08:59.304Z"
   },
   {
    "duration": 10,
    "start_time": "2021-10-27T11:08:59.339Z"
   },
   {
    "duration": 13,
    "start_time": "2021-10-27T11:08:59.350Z"
   },
   {
    "duration": 31,
    "start_time": "2021-10-27T11:08:59.364Z"
   },
   {
    "duration": 5,
    "start_time": "2021-10-27T11:08:59.396Z"
   },
   {
    "duration": 13,
    "start_time": "2021-10-27T11:08:59.402Z"
   },
   {
    "duration": 16,
    "start_time": "2021-10-27T11:08:59.416Z"
   },
   {
    "duration": 6,
    "start_time": "2021-10-27T11:08:59.433Z"
   },
   {
    "duration": 6,
    "start_time": "2021-10-27T11:08:59.440Z"
   },
   {
    "duration": 595,
    "start_time": "2021-10-27T11:08:59.447Z"
   },
   {
    "duration": 6,
    "start_time": "2021-10-27T11:09:00.044Z"
   },
   {
    "duration": 284,
    "start_time": "2021-10-27T11:09:00.052Z"
   },
   {
    "duration": 465,
    "start_time": "2021-10-27T11:09:00.338Z"
   },
   {
    "duration": 342,
    "start_time": "2021-10-27T11:09:00.806Z"
   },
   {
    "duration": 14,
    "start_time": "2021-10-27T11:09:01.150Z"
   },
   {
    "duration": 5,
    "start_time": "2021-10-27T11:09:01.166Z"
   },
   {
    "duration": 425,
    "start_time": "2021-10-27T11:09:01.173Z"
   },
   {
    "duration": 16,
    "start_time": "2021-10-27T11:09:01.599Z"
   },
   {
    "duration": 13,
    "start_time": "2021-10-27T11:09:01.617Z"
   },
   {
    "duration": 290,
    "start_time": "2021-10-27T11:09:01.631Z"
   },
   {
    "duration": 2,
    "start_time": "2021-10-27T11:09:01.923Z"
   },
   {
    "duration": 11,
    "start_time": "2021-10-27T11:09:01.927Z"
   },
   {
    "duration": 17,
    "start_time": "2021-10-27T11:09:01.940Z"
   },
   {
    "duration": 9,
    "start_time": "2021-10-27T11:09:01.958Z"
   },
   {
    "duration": 438,
    "start_time": "2021-10-27T11:09:01.969Z"
   },
   {
    "duration": 444,
    "start_time": "2021-10-27T11:09:02.409Z"
   },
   {
    "duration": 16,
    "start_time": "2021-10-27T11:09:02.856Z"
   },
   {
    "duration": 25,
    "start_time": "2021-10-27T11:09:02.874Z"
   },
   {
    "duration": 14,
    "start_time": "2021-10-27T11:09:02.901Z"
   },
   {
    "duration": 15,
    "start_time": "2021-10-27T11:09:02.917Z"
   },
   {
    "duration": 298,
    "start_time": "2021-10-27T11:09:02.933Z"
   },
   {
    "duration": 289,
    "start_time": "2021-10-27T11:09:03.233Z"
   },
   {
    "duration": 10,
    "start_time": "2021-10-27T11:09:03.524Z"
   },
   {
    "duration": 279,
    "start_time": "2021-10-27T11:09:03.536Z"
   },
   {
    "duration": 14,
    "start_time": "2021-10-27T11:09:03.817Z"
   },
   {
    "duration": 19,
    "start_time": "2021-10-27T11:09:03.833Z"
   },
   {
    "duration": 201,
    "start_time": "2021-10-27T11:09:03.854Z"
   },
   {
    "duration": 17,
    "start_time": "2021-10-27T11:09:04.057Z"
   },
   {
    "duration": 197,
    "start_time": "2021-10-27T11:09:04.076Z"
   },
   {
    "duration": 27,
    "start_time": "2021-10-27T11:09:04.275Z"
   },
   {
    "duration": 189,
    "start_time": "2021-10-27T11:09:04.304Z"
   },
   {
    "duration": 17,
    "start_time": "2021-10-27T11:09:04.495Z"
   },
   {
    "duration": 288,
    "start_time": "2021-10-27T11:09:04.513Z"
   },
   {
    "duration": 17,
    "start_time": "2021-10-27T11:09:04.802Z"
   },
   {
    "duration": 220,
    "start_time": "2021-10-27T11:09:04.820Z"
   },
   {
    "duration": 17,
    "start_time": "2021-10-27T11:09:05.042Z"
   },
   {
    "duration": 243,
    "start_time": "2021-10-27T11:09:05.061Z"
   },
   {
    "duration": 124,
    "start_time": "2021-10-27T11:09:05.306Z"
   },
   {
    "duration": 113,
    "start_time": "2021-10-27T11:09:05.432Z"
   },
   {
    "duration": 125,
    "start_time": "2021-10-27T11:09:05.547Z"
   },
   {
    "duration": 6,
    "start_time": "2021-10-27T11:09:05.674Z"
   },
   {
    "duration": 313,
    "start_time": "2021-10-27T11:09:05.681Z"
   },
   {
    "duration": 737,
    "start_time": "2021-10-27T11:09:05.996Z"
   },
   {
    "duration": 5,
    "start_time": "2021-10-27T11:09:06.734Z"
   },
   {
    "duration": 9,
    "start_time": "2021-10-27T11:09:06.740Z"
   },
   {
    "duration": 311,
    "start_time": "2021-10-27T11:09:06.750Z"
   },
   {
    "duration": 746,
    "start_time": "2021-10-27T11:09:07.062Z"
   },
   {
    "duration": 4,
    "start_time": "2021-10-27T11:09:07.810Z"
   },
   {
    "duration": 6,
    "start_time": "2021-10-27T11:09:07.819Z"
   }
  ],
  "kernelspec": {
   "display_name": "Python 3",
   "language": "python",
   "name": "python3"
  },
  "language_info": {
   "codemirror_mode": {
    "name": "ipython",
    "version": 3
   },
   "file_extension": ".py",
   "mimetype": "text/x-python",
   "name": "python",
   "nbconvert_exporter": "python",
   "pygments_lexer": "ipython3",
   "version": "3.7.3"
  },
  "toc": {
   "base_numbering": 1,
   "nav_menu": {},
   "number_sections": true,
   "sideBar": true,
   "skip_h1_title": true,
   "title_cell": "Table of Contents",
   "title_sidebar": "Contents",
   "toc_cell": false,
   "toc_position": {},
   "toc_section_display": true,
   "toc_window_display": false
  }
 },
 "nbformat": 4,
 "nbformat_minor": 2
}
